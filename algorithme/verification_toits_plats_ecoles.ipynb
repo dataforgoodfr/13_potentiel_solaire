{
 "cells": [
  {
   "cell_type": "code",
   "execution_count": 12,
   "id": "4fc8bddd-5d54-4d97-883e-0d6675d7576b",
   "metadata": {},
   "outputs": [],
   "source": [
    "import pandas as pd\n",
    "import rasterio\n",
    "import rasterio.mask\n",
    "import geopandas as gpd\n",
    "import numpy as np\n",
    "import matplotlib.pyplot as plt\n",
    "import fiona\n",
    "import contextily as cx\n",
    "from potentiel_solaire.constants import DATA_FOLDER\n",
    "from scipy.ndimage import sobel, gaussian_filter, shift, label, morphology\n",
    "import os"
   ]
  },
  {
   "cell_type": "code",
   "execution_count": 6,
   "id": "1557dcc3-a18b-4f37-a2d6-b40c2149f2b2",
   "metadata": {},
   "outputs": [
    {
     "name": "stdout",
     "output_type": "stream",
     "text": [
      "cadastre_parcellaire potentielsolaire_bati potentielsolaire_toitures perimetre_st_denis identifiers annuaire_education annuaire_education_sans_zone bdtopo_education bdtopo_batiment\n"
     ]
    }
   ],
   "source": [
    "# Verification des layers disponibles\n",
    "stdenis_path = DATA_FOLDER / \"saint_denis_reference_data.gpkg\"\n",
    "layers = fiona.listlayers(stdenis_path)\n",
    "print(\" \".join(layers))"
   ]
  },
  {
   "cell_type": "code",
   "execution_count": null,
   "id": "388f84d5-0c2a-488f-9403-3b9f5a03594d",
   "metadata": {},
   "outputs": [],
   "source": [
    "# On va utiliser le script pour chaque zone, concaténer les résultats de slopes et regarder si les écoles sont toutes plates ou dans la majorité\n",
    "# On va définir un seuil de surface pour considérer qu'une école est plate\n",
    "# On va aussi, faire une distribution des pentes des rasters sur les écoles\n",
    "# On va regarder le pourcentage de surface utile"
   ]
  },
  {
   "cell_type": "code",
   "execution_count": 21,
   "id": "ba45c1ad-e5cc-4e45-95f6-c478f39487da",
   "metadata": {},
   "outputs": [
    {
     "name": "stdout",
     "output_type": "stream",
     "text": [
      "48\n",
      "0652\n",
      "6871\n",
      "../data/cache/mns/SURFACTI0000002004251777_toits.masked.tif\n",
      "0652\n",
      "6871\n",
      "../data/cache/mns/SURFACTI0000000244379142_toits.masked.tif\n",
      "0652\n",
      "6871\n",
      "../data/cache/mns/SURFACTI0000000002555655_toits.masked.tif\n",
      "0652\n",
      "6871\n",
      "../data/cache/mns/SURFACTI0000000002555660_toits.masked.tif\n",
      "0652\n",
      "6871\n",
      "../data/cache/mns/SURFACTI0000000002555651_toits.masked.tif\n",
      "0653\n",
      "6869\n",
      "../data/cache/mns/SURFACTI0000002008347531_toits.masked.tif\n",
      "0653\n",
      "6869\n",
      "../data/cache/mns/SURFACTI0000000002555814_toits.masked.tif\n",
      "0652\n",
      "6868\n",
      "../data/cache/mns/SURFACTI0000000339245692_toits.masked.tif\n",
      "0652\n",
      "6869\n",
      "../data/cache/mns/SURFACTI0000000292487627_toits.masked.tif\n",
      "0653\n",
      "6872\n",
      "../data/cache/mns/SURFACTI0000000002555609_toits.masked.tif\n",
      "0653\n",
      "6872\n",
      "../data/cache/mns/SURFACTI0000000002555601_toits.masked.tif\n",
      "0653\n",
      "6872\n",
      "../data/cache/mns/SURFACTI0000000002555600_toits.masked.tif\n",
      "0653\n",
      "6872\n",
      "../data/cache/mns/SURFACTI0000000002555602_toits.masked.tif\n",
      "0652\n",
      "6872\n",
      "../data/cache/mns/SURFACTI0000000002555607_toits.masked.tif\n",
      "0652\n",
      "6872\n"
     ]
    },
    {
     "ename": "ValueError",
     "evalue": "Input shapes do not overlap raster.",
     "output_type": "error",
     "traceback": [
      "\u001b[0;31m---------------------------------------------------------------------------\u001b[0m",
      "\u001b[0;31mWindowError\u001b[0m                               Traceback (most recent call last)",
      "File \u001b[0;32m~/Desktop/potentiel_solaire/13_potentiel_solaire/algorithme/.venv/lib/python3.11/site-packages/rasterio/mask.py:80\u001b[0m, in \u001b[0;36mraster_geometry_mask\u001b[0;34m(dataset, shapes, all_touched, invert, crop, pad, pad_width)\u001b[0m\n\u001b[1;32m     79\u001b[0m \u001b[38;5;28;01mtry\u001b[39;00m:\n\u001b[0;32m---> 80\u001b[0m     window \u001b[38;5;241m=\u001b[39m \u001b[43mgeometry_window\u001b[49m\u001b[43m(\u001b[49m\u001b[43mdataset\u001b[49m\u001b[43m,\u001b[49m\u001b[43m \u001b[49m\u001b[43mshapes\u001b[49m\u001b[43m,\u001b[49m\u001b[43m \u001b[49m\u001b[43mpad_x\u001b[49m\u001b[38;5;241;43m=\u001b[39;49m\u001b[43mpad_x\u001b[49m\u001b[43m,\u001b[49m\u001b[43m \u001b[49m\u001b[43mpad_y\u001b[49m\u001b[38;5;241;43m=\u001b[39;49m\u001b[43mpad_y\u001b[49m\u001b[43m)\u001b[49m\n\u001b[1;32m     82\u001b[0m \u001b[38;5;28;01mexcept\u001b[39;00m WindowError:\n\u001b[1;32m     83\u001b[0m     \u001b[38;5;66;03m# If shapes do not overlap raster, raise Exception or UserWarning\u001b[39;00m\n\u001b[1;32m     84\u001b[0m     \u001b[38;5;66;03m# depending on value of crop\u001b[39;00m\n",
      "File \u001b[0;32m~/Desktop/potentiel_solaire/13_potentiel_solaire/algorithme/.venv/lib/python3.11/site-packages/rasterio/features.py:507\u001b[0m, in \u001b[0;36mgeometry_window\u001b[0;34m(dataset, shapes, pad_x, pad_y, north_up, rotated, pixel_precision, boundless)\u001b[0m\n\u001b[1;32m    506\u001b[0m \u001b[38;5;28;01mif\u001b[39;00m \u001b[38;5;129;01mnot\u001b[39;00m boundless:\n\u001b[0;32m--> 507\u001b[0m     window \u001b[38;5;241m=\u001b[39m \u001b[43mwindow\u001b[49m\u001b[38;5;241;43m.\u001b[39;49m\u001b[43mintersection\u001b[49m\u001b[43m(\u001b[49m\u001b[43mraster_window\u001b[49m\u001b[43m)\u001b[49m\n\u001b[1;32m    509\u001b[0m \u001b[38;5;28;01mreturn\u001b[39;00m window\n",
      "File \u001b[0;32m~/Desktop/potentiel_solaire/13_potentiel_solaire/algorithme/.venv/lib/python3.11/site-packages/rasterio/windows.py:785\u001b[0m, in \u001b[0;36mWindow.intersection\u001b[0;34m(self, other)\u001b[0m\n\u001b[1;32m    773\u001b[0m \u001b[38;5;250m\u001b[39m\u001b[38;5;124;03m\"\"\"Return the intersection of this window and another\u001b[39;00m\n\u001b[1;32m    774\u001b[0m \n\u001b[1;32m    775\u001b[0m \u001b[38;5;124;03mParameters\u001b[39;00m\n\u001b[0;32m   (...)\u001b[0m\n\u001b[1;32m    783\u001b[0m \u001b[38;5;124;03mWindow\u001b[39;00m\n\u001b[1;32m    784\u001b[0m \u001b[38;5;124;03m\"\"\"\u001b[39;00m\n\u001b[0;32m--> 785\u001b[0m \u001b[38;5;28;01mreturn\u001b[39;00m \u001b[43mintersection\u001b[49m\u001b[43m(\u001b[49m\u001b[43m[\u001b[49m\u001b[38;5;28;43mself\u001b[39;49m\u001b[43m,\u001b[49m\u001b[43m \u001b[49m\u001b[43mother\u001b[49m\u001b[43m]\u001b[49m\u001b[43m)\u001b[49m\n",
      "File \u001b[0;32m~/Desktop/potentiel_solaire/13_potentiel_solaire/algorithme/.venv/lib/python3.11/site-packages/rasterio/windows.py:125\u001b[0m, in \u001b[0;36miter_args.<locals>.wrapper\u001b[0;34m(*args, **kwargs)\u001b[0m\n\u001b[1;32m    124\u001b[0m \u001b[38;5;28;01mif\u001b[39;00m \u001b[38;5;28mlen\u001b[39m(args) \u001b[38;5;241m==\u001b[39m \u001b[38;5;241m1\u001b[39m \u001b[38;5;129;01mand\u001b[39;00m \u001b[38;5;28misinstance\u001b[39m(args[\u001b[38;5;241m0\u001b[39m], Iterable):\n\u001b[0;32m--> 125\u001b[0m     \u001b[38;5;28;01mreturn\u001b[39;00m \u001b[43mfunction\u001b[49m\u001b[43m(\u001b[49m\u001b[38;5;241;43m*\u001b[39;49m\u001b[43margs\u001b[49m\u001b[43m[\u001b[49m\u001b[38;5;241;43m0\u001b[39;49m\u001b[43m]\u001b[49m\u001b[43m)\u001b[49m\n\u001b[1;32m    126\u001b[0m \u001b[38;5;28;01melse\u001b[39;00m:\n",
      "File \u001b[0;32m~/Desktop/potentiel_solaire/13_potentiel_solaire/algorithme/.venv/lib/python3.11/site-packages/rasterio/windows.py:239\u001b[0m, in \u001b[0;36mintersection\u001b[0;34m(*windows)\u001b[0m\n\u001b[1;32m    226\u001b[0m \u001b[38;5;250m\u001b[39m\u001b[38;5;124;03m\"\"\"Innermost extent of window intersections.\u001b[39;00m\n\u001b[1;32m    227\u001b[0m \n\u001b[1;32m    228\u001b[0m \u001b[38;5;124;03mWill raise WindowError if windows do not intersect.\u001b[39;00m\n\u001b[0;32m   (...)\u001b[0m\n\u001b[1;32m    237\u001b[0m \u001b[38;5;124;03mWindow\u001b[39;00m\n\u001b[1;32m    238\u001b[0m \u001b[38;5;124;03m\"\"\"\u001b[39;00m\n\u001b[0;32m--> 239\u001b[0m \u001b[38;5;28;01mreturn\u001b[39;00m \u001b[43mfunctools\u001b[49m\u001b[38;5;241;43m.\u001b[39;49m\u001b[43mreduce\u001b[49m\u001b[43m(\u001b[49m\u001b[43m_intersection\u001b[49m\u001b[43m,\u001b[49m\u001b[43m \u001b[49m\u001b[43mwindows\u001b[49m\u001b[43m)\u001b[49m\n",
      "File \u001b[0;32m~/Desktop/potentiel_solaire/13_potentiel_solaire/algorithme/.venv/lib/python3.11/site-packages/rasterio/windows.py:257\u001b[0m, in \u001b[0;36m_intersection\u001b[0;34m(w1, w2)\u001b[0m\n\u001b[1;32m    256\u001b[0m \u001b[38;5;28;01melse\u001b[39;00m:\n\u001b[0;32m--> 257\u001b[0m     \u001b[38;5;28;01mraise\u001b[39;00m WindowError(\u001b[38;5;124mf\u001b[39m\u001b[38;5;124m\"\u001b[39m\u001b[38;5;124mIntersection is empty \u001b[39m\u001b[38;5;132;01m{\u001b[39;00mw1\u001b[38;5;132;01m}\u001b[39;00m\u001b[38;5;124m \u001b[39m\u001b[38;5;132;01m{\u001b[39;00mw2\u001b[38;5;132;01m}\u001b[39;00m\u001b[38;5;124m\"\u001b[39m)\n",
      "\u001b[0;31mWindowError\u001b[0m: Intersection is empty Window(col_off=2084, row_off=1716, width=650968, height=6869438) Window(col_off=0, row_off=0, width=2000, height=2000)",
      "\nDuring handling of the above exception, another exception occurred:\n",
      "\u001b[0;31mValueError\u001b[0m                                Traceback (most recent call last)",
      "Cell \u001b[0;32mIn[21], line 35\u001b[0m\n\u001b[1;32m     33\u001b[0m path \u001b[38;5;241m=\u001b[39m DATA_FOLDER \u001b[38;5;241m/\u001b[39m tile\n\u001b[1;32m     34\u001b[0m \u001b[38;5;28;01mwith\u001b[39;00m rasterio\u001b[38;5;241m.\u001b[39mopen(\u001b[38;5;28mstr\u001b[39m(path)) \u001b[38;5;28;01mas\u001b[39;00m img:\n\u001b[0;32m---> 35\u001b[0m     out_image, out_transform \u001b[38;5;241m=\u001b[39m \u001b[43mrasterio\u001b[49m\u001b[38;5;241;43m.\u001b[39;49m\u001b[43mmask\u001b[49m\u001b[38;5;241;43m.\u001b[39;49m\u001b[43mmask\u001b[49m\u001b[43m(\u001b[49m\u001b[43mimg\u001b[49m\u001b[43m,\u001b[49m\u001b[43m \u001b[49m\u001b[43mtoiture\u001b[49m\u001b[38;5;241;43m.\u001b[39;49m\u001b[43mgeometry\u001b[49m\u001b[43m,\u001b[49m\u001b[43m \u001b[49m\u001b[43mcrop\u001b[49m\u001b[38;5;241;43m=\u001b[39;49m\u001b[38;5;28;43;01mTrue\u001b[39;49;00m\u001b[43m)\u001b[49m\n\u001b[1;32m     36\u001b[0m     out_meta \u001b[38;5;241m=\u001b[39m img\u001b[38;5;241m.\u001b[39mmeta\n\u001b[1;32m     37\u001b[0m minval \u001b[38;5;241m=\u001b[39m np\u001b[38;5;241m.\u001b[39mmin(out_image[np\u001b[38;5;241m.\u001b[39mnonzero(out_image)])\n",
      "File \u001b[0;32m~/Desktop/potentiel_solaire/13_potentiel_solaire/algorithme/.venv/lib/python3.11/site-packages/rasterio/mask.py:180\u001b[0m, in \u001b[0;36mmask\u001b[0;34m(dataset, shapes, all_touched, invert, nodata, filled, crop, pad, pad_width, indexes)\u001b[0m\n\u001b[1;32m    177\u001b[0m     \u001b[38;5;28;01melse\u001b[39;00m:\n\u001b[1;32m    178\u001b[0m         nodata \u001b[38;5;241m=\u001b[39m \u001b[38;5;241m0\u001b[39m\n\u001b[0;32m--> 180\u001b[0m shape_mask, transform, window \u001b[38;5;241m=\u001b[39m \u001b[43mraster_geometry_mask\u001b[49m\u001b[43m(\u001b[49m\n\u001b[1;32m    181\u001b[0m \u001b[43m    \u001b[49m\u001b[43mdataset\u001b[49m\u001b[43m,\u001b[49m\u001b[43m \u001b[49m\u001b[43mshapes\u001b[49m\u001b[43m,\u001b[49m\u001b[43m \u001b[49m\u001b[43mall_touched\u001b[49m\u001b[38;5;241;43m=\u001b[39;49m\u001b[43mall_touched\u001b[49m\u001b[43m,\u001b[49m\u001b[43m \u001b[49m\u001b[43minvert\u001b[49m\u001b[38;5;241;43m=\u001b[39;49m\u001b[43minvert\u001b[49m\u001b[43m,\u001b[49m\u001b[43m \u001b[49m\u001b[43mcrop\u001b[49m\u001b[38;5;241;43m=\u001b[39;49m\u001b[43mcrop\u001b[49m\u001b[43m,\u001b[49m\n\u001b[1;32m    182\u001b[0m \u001b[43m    \u001b[49m\u001b[43mpad\u001b[49m\u001b[38;5;241;43m=\u001b[39;49m\u001b[43mpad\u001b[49m\u001b[43m,\u001b[49m\u001b[43m \u001b[49m\u001b[43mpad_width\u001b[49m\u001b[38;5;241;43m=\u001b[39;49m\u001b[43mpad_width\u001b[49m\u001b[43m)\u001b[49m\n\u001b[1;32m    184\u001b[0m \u001b[38;5;28;01mif\u001b[39;00m indexes \u001b[38;5;129;01mis\u001b[39;00m \u001b[38;5;28;01mNone\u001b[39;00m:\n\u001b[1;32m    185\u001b[0m     out_shape \u001b[38;5;241m=\u001b[39m (dataset\u001b[38;5;241m.\u001b[39mcount, ) \u001b[38;5;241m+\u001b[39m shape_mask\u001b[38;5;241m.\u001b[39mshape\n",
      "File \u001b[0;32m~/Desktop/potentiel_solaire/13_potentiel_solaire/algorithme/.venv/lib/python3.11/site-packages/rasterio/mask.py:86\u001b[0m, in \u001b[0;36mraster_geometry_mask\u001b[0;34m(dataset, shapes, all_touched, invert, crop, pad, pad_width)\u001b[0m\n\u001b[1;32m     82\u001b[0m \u001b[38;5;28;01mexcept\u001b[39;00m WindowError:\n\u001b[1;32m     83\u001b[0m     \u001b[38;5;66;03m# If shapes do not overlap raster, raise Exception or UserWarning\u001b[39;00m\n\u001b[1;32m     84\u001b[0m     \u001b[38;5;66;03m# depending on value of crop\u001b[39;00m\n\u001b[1;32m     85\u001b[0m     \u001b[38;5;28;01mif\u001b[39;00m crop:\n\u001b[0;32m---> 86\u001b[0m         \u001b[38;5;28;01mraise\u001b[39;00m \u001b[38;5;167;01mValueError\u001b[39;00m(\u001b[38;5;124m'\u001b[39m\u001b[38;5;124mInput shapes do not overlap raster.\u001b[39m\u001b[38;5;124m'\u001b[39m)\n\u001b[1;32m     87\u001b[0m     \u001b[38;5;28;01melse\u001b[39;00m:\n\u001b[1;32m     88\u001b[0m         warnings\u001b[38;5;241m.\u001b[39mwarn(\u001b[38;5;124m'\u001b[39m\u001b[38;5;124mshapes are outside bounds of raster. \u001b[39m\u001b[38;5;124m'\u001b[39m\n\u001b[1;32m     89\u001b[0m                       \u001b[38;5;124m'\u001b[39m\u001b[38;5;124mAre they in different coordinate reference systems?\u001b[39m\u001b[38;5;124m'\u001b[39m)\n",
      "\u001b[0;31mValueError\u001b[0m: Input shapes do not overlap raster."
     ]
    }
   ],
   "source": [
    "# On ouvre une zone\n",
    "stdenis = gpd.read_file(stdenis_path, layer=\"bdtopo_education\")# toponymie_services_et_activites\n",
    "stdenis = stdenis.to_crs(2154) # 2154 Lambert, 4326 latlon  \n",
    "l = len(stdenis)\n",
    "print(l)\n",
    "slopes = {}\n",
    "\n",
    "for i in range(22, len(stdenis)):\n",
    "    ID = i\n",
    "    example = stdenis[ID:ID+1]\n",
    "    ID = example[\"cleabs_left\"].iloc[0]\n",
    "    NOM = example[\"toponyme\"].iloc[0]\n",
    "    \n",
    "    # On ouvre les toitures\n",
    "    toiture = gpd.read_file(stdenis_path, layer=\"bdtopo_batiment\")# toponymie_services_et_activites\n",
    "    toiture_b = gpd.read_file(stdenis_path, layer=\"potentielsolaire_bati\")# toponymie_services_et_activites\n",
    "    toiture_t = gpd.read_file(stdenis_path, layer=\"potentielsolaire_toitures\")# toponymie_services_et_activites\n",
    "    toiture = toiture.to_crs(2154) # 2154 Lambert, 4326 latlon  \n",
    "    toiture_b = toiture_b.to_crs(2154)\n",
    "    toiture_t = toiture_t.to_crs(2154)\n",
    "    toiture = gpd.sjoin(toiture, example, how='inner', predicate='intersects',lsuffix='_li', rsuffix='_ri').clip(example)\n",
    "    toiture_b = gpd.sjoin(toiture_b, example, how='inner', predicate='intersects',lsuffix='_li', rsuffix='_ri').clip(example)\n",
    "    toiture_t = gpd.sjoin(toiture_t, example, how='inner', predicate='intersects',lsuffix='_li', rsuffix='_ri').clip(example)\n",
    "    geotiff_cached_toits = \"../data/cache/mns/\"+ID+\"_toits.masked.tif\"\n",
    "\n",
    "    if not os.path.isfile(geotiff_cached_toits) or True:\n",
    "        geome = example.geometry.total_bounds\n",
    "        A = \"0\"+str(int(geome[0]//1000))\n",
    "        B = str(int(geome[1]//1000)+1)\n",
    "        filename = \"MNS-C_0M50_TIF_LAMB93_D93-2024/93-2024-\"+A+\"-\"+B+\"-LA93-0M50\"\n",
    "        tile = \"/Users/sarahlenet/Desktop/potentiel_solaire/13_potentiel_solaire/algorithme/data/MNS-Correl_1-0__TIFF_LAMB93_D093_2024-01-01/MNS-Correl/1_DONNEES_LIVRAISON_2024-11-00179/MNS-C_0M50_TIF_LAMB93_D93-2024/93-2024-\"+A+\"-\"+B+\"-LA93-0M50.tif\"\n",
    "        path = DATA_FOLDER / tile\n",
    "        with rasterio.open(str(path)) as img:\n",
    "            try:\n",
    "                out_image, out_transform = rasterio.mask.mask(img, toiture.geometry, crop=True)\n",
    "                out_meta = img.meta\n",
    "            except:\n",
    "\n",
    "        minval = np.min(out_image[np.nonzero(out_image)])\n",
    "        out_image = out_image - minval\n",
    "    \n",
    "        out_image = np.where(out_image<0, 0, out_image)\n",
    "    \n",
    "        MAX = np.percentile(out_image[np.nonzero(out_image)],80)\n",
    "        out_image = np.where(out_image>=MAX, MAX, out_image)\n",
    "    \n",
    "        out_meta.update({\"driver\": \"GTiff\",\n",
    "                        \"height\": out_image.shape[1],\n",
    "                        \"width\": out_image.shape[2],\n",
    "                        \"transform\": out_transform})\n",
    "\n",
    "        with rasterio.open(\"/Users/sarahlenet/Desktop/potentiel_solaire/13_potentiel_solaire/algorithme/data/cache/mns/\"+ID+\".masked.tif\", \"w\", **out_meta) as dest:\n",
    "           dest.write(out_image)\n",
    "        \n",
    "        # Calcul des gradients X et Y\n",
    "        dy, dx = np.gradient(out_image[0])\n",
    "        \n",
    "        dx = sobel(out_image[0], axis=1)  # Gradient selon l'axe X (est-ouest)\n",
    "        dy = sobel(out_image[0], axis=0)  # Gradient selon l'axe Y (nord-sud)\n",
    "        slope = np.sqrt(dx**2 + dy**2)\n",
    "        threshold = 2  # Seuil en mètres (à ajuster selon la donnée)\n",
    "        mask = out_image[0] < threshold\n",
    "        slope_cleaned = np.where(mask, np.nan, np.arctan(np.sqrt(dx**2 + dy**2)) * (180 / np.pi))\n",
    "        slopes[filename] = slope_cleaned"
   ]
  }
 ],
 "metadata": {
  "kernelspec": {
   "display_name": "Python 3 (ipykernel)",
   "language": "python",
   "name": "python3"
  },
  "language_info": {
   "codemirror_mode": {
    "name": "ipython",
    "version": 3
   },
   "file_extension": ".py",
   "mimetype": "text/x-python",
   "name": "python",
   "nbconvert_exporter": "python",
   "pygments_lexer": "ipython3",
   "version": "3.11.7"
  }
 },
 "nbformat": 4,
 "nbformat_minor": 5
}
