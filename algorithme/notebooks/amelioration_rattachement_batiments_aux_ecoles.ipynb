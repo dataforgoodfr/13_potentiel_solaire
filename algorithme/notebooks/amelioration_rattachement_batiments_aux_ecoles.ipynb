{
 "cells": [
  {
   "cell_type": "code",
   "execution_count": null,
   "id": "f90475a75cada323",
   "metadata": {},
   "outputs": [],
   "source": [
    "%load_ext autoreload\n",
    "%autoreload 2"
   ]
  },
  {
   "cell_type": "code",
   "execution_count": null,
   "id": "431dcc03abfaa011",
   "metadata": {},
   "outputs": [],
   "source": [
    "from dataclasses import dataclass\n",
    "\n",
    "import geopandas as gpd\n",
    "import pandas as pd\n",
    "import matplotlib.pyplot as plt\n",
    "import contextily as cx\n",
    "\n",
    "from potentiel_solaire.constants import DEFAULT_CRS, CRS_FOR_BUFFERS\n",
    "from potentiel_solaire.sources.bd_topo import extract_bd_topo, get_topo_zones_of_interest, \\\n",
    "    get_topo_buildings_of_interest\n",
    "from potentiel_solaire.sources.extract import extract_sources\n",
    "from potentiel_solaire.sources.schools_establishments import get_schools_establishments_of_interest\n",
    "from potentiel_solaire.attach_buildings_to_schools import attach_buildings_to_schools"
   ]
  },
  {
   "cell_type": "code",
   "execution_count": null,
   "id": "4c1c8e770209ccae",
   "metadata": {},
   "outputs": [],
   "source": [
    "code_departement = \"093\""
   ]
  },
  {
   "cell_type": "code",
   "execution_count": null,
   "id": "6230678deb49d5be",
   "metadata": {},
   "outputs": [],
   "source": [
    "sources = extract_sources()\n",
    "    \n",
    "bd_topo_path = extract_bd_topo(code_departement=code_departement)\n",
    "\n",
    "schools_establishments = get_schools_establishments_of_interest(\n",
    "    schools_filepath=sources[\"etablissements\"].filepath,\n",
    "    code_departement=code_departement,\n",
    "    types_etablissements=['Ecole', 'Lycée', 'Collège'],\n",
    "    statut_public_prive=\"Public\",\n",
    "    etat=\"OUVERT\",\n",
    "    crs=DEFAULT_CRS\n",
    ")\n",
    "nb_schools = schools_establishments.shape[0]\n",
    "\n",
    "communes = gpd.read_file(bd_topo_path, layer=\"commune\").to_crs(DEFAULT_CRS)\n",
    "geom_of_interest = communes.sjoin(schools_establishments).dissolve()[[\"geometry\"]]\n",
    "\n",
    "educational_zones = get_topo_zones_of_interest(\n",
    "    bd_topo_path=bd_topo_path,\n",
    "    geom_of_interest=geom_of_interest,\n",
    "    categories=[\"Science et enseignement\"],\n",
    "    natures=['Collège', 'Lycée', 'Enseignement primaire'],\n",
    "    crs=DEFAULT_CRS\n",
    ")\n",
    "nb_educational_zones = educational_zones.shape[0]\n",
    "\n",
    "buildings = get_topo_buildings_of_interest(\n",
    "    bd_topo_path=bd_topo_path,\n",
    "    geom_of_interest=geom_of_interest,\n",
    "    crs=DEFAULT_CRS\n",
    ")\n",
    "nb_buildings = buildings.shape[0]"
   ]
  },
  {
   "cell_type": "code",
   "execution_count": null,
   "id": "933bfa0b12ad757b",
   "metadata": {},
   "outputs": [],
   "source": [
    "schools_buildings = attach_buildings_to_schools(\n",
    "    schools_establishments=schools_establishments,\n",
    "    educational_zones=educational_zones,\n",
    "    buildings=buildings\n",
    ")"
   ]
  },
  {
   "cell_type": "code",
   "execution_count": null,
   "id": "a56449cf814c95c0",
   "metadata": {},
   "outputs": [],
   "source": [
    "@dataclass\n",
    "class ItemsOfInterest:\n",
    "    educational_zones: list[str]\n",
    "    buildings: list[str]\n",
    "    schools: list[str]\n",
    "\n",
    "    \n",
    "def get_facecolor_nb_rattachements(value):\n",
    "    if value == 0:\n",
    "        return \"yellow\"\n",
    "    elif value == 1:\n",
    "        return \"green\"\n",
    "    else:\n",
    "        return \"red\"\n",
    "\n",
    "\n",
    "def plot_zone_of_interest(\n",
    "    zone_of_interest: gpd.GeoDataFrame,\n",
    "    edu_zones: gpd.GeoDataFrame = educational_zones,\n",
    "    topo_buildings: gpd.GeoDataFrame = buildings,\n",
    "    schools: gpd.GeoDataFrame = schools_establishments,\n",
    "    schools_buildings_attached: gpd.GeoDataFrame = schools_buildings,\n",
    "    buffer_size: int = 5,\n",
    "):  \n",
    "    fig, ax = plt.subplots(figsize=(20, 10))\n",
    "    \n",
    "    buildings_in_zone = gpd.sjoin(\n",
    "        topo_buildings, zone_of_interest[[\"geometry\"]], how='inner', predicate='intersects'\n",
    "    )\n",
    "    \n",
    "    buildings_attach_count = schools_buildings_attached.groupby(\n",
    "        by=\"cleabs_bat\", as_index=False\n",
    "    ).identifiant_de_l_etablissement.count().rename(\n",
    "        columns={\"identifiant_de_l_etablissement\": \"nb_rattachements\"}\n",
    "    )\n",
    "    buildings_in_zone = buildings_in_zone.merge(\n",
    "        buildings_attach_count,\n",
    "        left_on=\"cleabs\",\n",
    "        right_on=\"cleabs_bat\",\n",
    "        how=\"left\",\n",
    "    ).copy()\n",
    "    buildings_in_zone[\"nb_rattachements\"] = buildings_in_zone[\"nb_rattachements\"].fillna(0)\n",
    "    buildings_in_zone[\"facecolor\"] = buildings_in_zone[\"nb_rattachements\"].apply(get_facecolor_nb_rattachements)\n",
    "    \n",
    "    buildings_in_zone.plot(\n",
    "        ax=ax, edgecolor=\"black\", linewidth=0.5, facecolor=buildings_in_zone[\"facecolor\"], alpha=0.5\n",
    "    )\n",
    "    \n",
    "    educational_zones_in_zone = gpd.sjoin(\n",
    "        edu_zones, zone_of_interest[[\"geometry\"]], how='inner', predicate='intersects'\n",
    "    )\n",
    "    educational_zones_in_zone.plot(\n",
    "        ax=ax, color=\"none\", edgecolor='blue', linewidth=2\n",
    "    )\n",
    "    \n",
    "    zone_buffered = zone_of_interest[[\"geometry\"]].copy().to_crs(CRS_FOR_BUFFERS)\n",
    "    zone_buffered.geometry = zone_buffered.geometry.buffer(buffer_size)\n",
    "    zone_buffered = zone_buffered.to_crs(DEFAULT_CRS)\n",
    "    \n",
    "    schools_in_zone = gpd.sjoin(\n",
    "        schools, zone_buffered, how='inner', predicate='intersects'\n",
    "    )\n",
    "    schools_in_zone.plot(\n",
    "        ax=ax, color=\"blue\", alpha=1\n",
    "    )\n",
    "    \n",
    "    cx.add_basemap(ax, crs=DEFAULT_CRS, zoom=19, alpha=0.5)\n",
    "    \n",
    "    plt.show()\n",
    "    \n",
    "    print(f\"Duplicated buildings in zone_of_interest: {buildings_in_zone[buildings_in_zone['nb_rattachements'] > 1][['cleabs_bat', 'nb_rattachements']]}\")\n",
    "    \n",
    "    return ItemsOfInterest(\n",
    "        educational_zones=list(educational_zones_in_zone[\"cleabs\"].unique()), \n",
    "        buildings=list(buildings_in_zone[\"cleabs\"].unique()),\n",
    "        schools=list(schools_in_zone[\"identifiant_de_l_etablissement\"].unique()),\n",
    "    )"
   ]
  },
  {
   "cell_type": "markdown",
   "id": "56a0c8b71ed80d11",
   "metadata": {},
   "source": [
    "### 1. Overlap entre plusieurs zones d education"
   ]
  },
  {
   "cell_type": "code",
   "execution_count": null,
   "id": "d88908e4256a99ec",
   "metadata": {},
   "outputs": [],
   "source": [
    "zone_of_interest_1 = educational_zones[educational_zones[\"cleabs\"].isin([\"SURFACTI0000000002555603\"])].dissolve()\n",
    "items_1 = plot_zone_of_interest(\n",
    "    zone_of_interest=zone_of_interest_1\n",
    ")"
   ]
  },
  {
   "cell_type": "markdown",
   "id": "e5a7159e",
   "metadata": {},
   "source": [
    "L'idée est de : <br> *  Regrouper les polygones qui se touchent et de récupérer un dataframe avec géométries + index (df_union) <br> * Rajouter au dataframe des zones d'éducations l'index de la grande zone dans laquelle il se trouve (zones_with_id_union)"
   ]
  },
  {
   "cell_type": "code",
   "execution_count": null,
   "id": "d9091820",
   "metadata": {},
   "outputs": [],
   "source": [
    "import shapely\n",
    "\n",
    "def unionize_educationnal_zone(\n",
    "    educational_zones : gpd.GeoDataFrame = educational_zones\n",
    ") -> gpd.GeoDataFrame:\n",
    "    ''' Créée un gdf avec les zones unies'''\n",
    "    \n",
    "    #Uni les polygones en fonction de leur géométrie\n",
    "    polygons_unionized = shapely.ops.unary_union(educational_zones['geometry'].to_list())\n",
    "    #Créer un gdf avec index + géomtrie\n",
    "    df_union = gpd.GeoDataFrame({'geometry' : [polygons_unionized]}, \n",
    "                            crs=\"EPSG:4326\").explode().reset_index(drop=True)\n",
    "    return df_union\n",
    "\n",
    "def link_bw_zones(\n",
    "    educational_zones : gpd.GeoDataFrame = educational_zones,\n",
    "    unionized_zone : gpd.GeoDataFrame = unionize_educationnal_zone(educational_zones)\n",
    ") -> gpd.GeoDataFrame:\n",
    "    ''' Ajoute l'ID de la grande zone a chaque zone d'éducation'''\n",
    "    \n",
    "    zones_with_id_union = gpd.sjoin(educational_zones, unionized_zone[['geometry']],\n",
    "                                    how='inner', predicate='intersects').rename(columns = {\"index_right\" : \"id_gde_zone\"})\n",
    "    return zones_with_id_union\n",
    "    "
   ]
  },
  {
   "cell_type": "code",
   "execution_count": null,
   "id": "7f282124",
   "metadata": {},
   "outputs": [],
   "source": [
    "df_union = unionize_educationnal_zone()\n",
    "new_educational_zones = link_bw_zones(educational_zones)"
   ]
  },
  {
   "cell_type": "code",
   "execution_count": null,
   "id": "478e0f05",
   "metadata": {},
   "outputs": [],
   "source": [
    "df_union.iloc[5]"
   ]
  },
  {
   "cell_type": "markdown",
   "id": "a14d7a32b9bd4a3d",
   "metadata": {},
   "source": [
    "### 2. Batiment overlap plusieurs zones d'educations"
   ]
  },
  {
   "cell_type": "code",
   "execution_count": null,
   "id": "3eb6aeea6cf9100e",
   "metadata": {},
   "outputs": [],
   "source": [
    "zone_of_interest_2 = educational_zones[educational_zones[\"cleabs\"].isin([\"SURFACTI0000000002555878\", \"SURFACTI0000000002555879\", \"SURFACTI0000000244244919\"])].dissolve()\n",
    "items_2 = plot_zone_of_interest(zone_of_interest=zone_of_interest_2)"
   ]
  },
  {
   "cell_type": "code",
   "execution_count": null,
   "id": "34601bdd",
   "metadata": {},
   "outputs": [],
   "source": [
    "\n",
    "# new_educational_zones\n",
    "educational_zones[educational_zones[\"cleabs\"].isin([\"SURFACTI0000000002555878\", \"SURFACTI0000000002555879\", \"SURFACTI0000000244244919\"])]"
   ]
  },
  {
   "cell_type": "markdown",
   "id": "99382d4dff28f360",
   "metadata": {},
   "source": [
    "### 3. Batiment overlap à peine la zone d'education"
   ]
  },
  {
   "cell_type": "code",
   "execution_count": null,
   "id": "9a2877f74676cbb8",
   "metadata": {},
   "outputs": [],
   "source": [
    "zone_of_interest_3 = educational_zones[educational_zones[\"cleabs\"].isin([\"SURFACTI0000000002555651\"])].dissolve()\n",
    "items_3 = plot_zone_of_interest(zone_of_interest=zone_of_interest_3)"
   ]
  },
  {
   "cell_type": "markdown",
   "id": "b2cde1e0",
   "metadata": {},
   "source": [
    "### En calculant d'abord l'aire de tous les bâtiments"
   ]
  },
  {
   "cell_type": "code",
   "execution_count": null,
   "id": "377fc067",
   "metadata": {},
   "outputs": [],
   "source": [
    "# Je récupère l'aire totale de mes bâtiments \n",
    "buildings['total_area'] = buildings['geometry'].to_crs(2154).apply(lambda x : x .area)\n",
    "\n",
    "#Selection de ma zone de test \n",
    "zone_test = educational_zones[educational_zones[\"cleabs\"].isin([\"SURFACTI0000000002555651\"])].dissolve()\n",
    "#Je réalise l'intersection\n",
    "building_in_zone_part = gpd.overlay(buildings, zone_test, how ='intersection')\n",
    "\n",
    "\n",
    "filtre = 50\n",
    "#Je calcule l'aire des batiments présents dans ma zone \n",
    "building_in_zone_part['area'] = building_in_zone_part['geometry'].to_crs(2154).apply(lambda x :x.area)\n",
    "\n",
    "#Je ne récupère que les batîments présent à + de 50% dans la zone\n",
    "filter_area = building_in_zone_part.loc[((building_in_zone_part['area']/building_in_zone_part['total_area'])*100)>filtre]\n",
    "#Maintenant je recupère la géomtrie entière des batiments présents \n",
    "building_in_zone = buildings.loc[buildings['cleabs'].isin(filter_area['cleabs_1'].to_list())]\n",
    "print(f\"Filtre à : {filtre} %\\nNb de batiments avant filtre : {len(building_in_zone_part)}\")\n",
    "print(f\"Après filtre : {len(building_in_zone)}\")"
   ]
  },
  {
   "cell_type": "code",
   "execution_count": null,
   "id": "d274f37a",
   "metadata": {},
   "outputs": [],
   "source": [
    "def filter_buldings_on_area(\n",
    "    buildings : gpd.GeoDataFrame,\n",
    "    educational_zones : gpd.GeoDataFrame\n",
    ") -> gpd.GeoDataFrame :\n",
    "    \n",
    "    # Calcul de l'aire totale des bâtiments \n",
    "    buildings['total_area'] = buildings['geometry'].to_crs(2154).apply(lambda x : x .area)\n",
    "    #Intersection bâtiments/zone\n",
    "    building_in_zone = gpd.overlay(buildings, educational_zones, how ='intersection')\n",
    "    #Calcul de l'aire des bâtiments présent dans la zone\n",
    "    building_in_zone['area'] = building_in_zone['geometry'].to_crs(2154).apply(lambda x :x.area)\n",
    "    #Filtre pour ne récupérer que les bâtiments présents à plus de 50%\n",
    "    filter_area = building_in_zone.loc[((building_in_zone['area']/building_in_zone['total_area'])*100)> 50]\n",
    "    #Récupération finale des bâtiments \n",
    "    building_in_zone = buildings.loc[buildings['cleabs'].isin(filter_area['cleabs_1'].to_list())]\n",
    "    return building_in_zone\n",
    "\n"
   ]
  },
  {
   "cell_type": "code",
   "execution_count": null,
   "id": "62413641",
   "metadata": {},
   "outputs": [],
   "source": [
    "len(filter_buldings_on_area(buildings, zone_test ))"
   ]
  },
  {
   "cell_type": "markdown",
   "id": "e1576846eca18d85",
   "metadata": {},
   "source": [
    "### 4. Etablissements au meme endroit et overlap des zones d'éducation associees"
   ]
  },
  {
   "cell_type": "code",
   "execution_count": null,
   "id": "6761f106c355ea65",
   "metadata": {},
   "outputs": [],
   "source": [
    "zone_of_interest_4 = educational_zones[educational_zones[\"cleabs\"].isin([\"SURFACTI0000000002555609\", \"SURFACTI0000002215707916\", \"SURFACTI0000000002555601\", \"SURFACTI0000000002555600\", \"SURFACTI0000000002555602\"])].dissolve()\n",
    "items_4 = plot_zone_of_interest(zone_of_interest=zone_of_interest_4)"
   ]
  },
  {
   "cell_type": "markdown",
   "id": "44d13bf835797398",
   "metadata": {},
   "source": [
    "### 5. Cas d echec le plus frequent de la premiere methode de rattachement"
   ]
  },
  {
   "cell_type": "code",
   "execution_count": null,
   "id": "fec1762c4f80fc7b",
   "metadata": {},
   "outputs": [],
   "source": [
    "zone_of_interest_5 = educational_zones[educational_zones[\"cleabs\"].isin([\"SURFACTI0000000351259092\"])].dissolve()\n",
    "items_5 = plot_zone_of_interest(zone_of_interest=zone_of_interest_5)"
   ]
  },
  {
   "cell_type": "markdown",
   "id": "76ee5a44",
   "metadata": {},
   "source": [
    "Avec la méthode des aires, on peut récupérer les batiments en entier. La question se pose pour le filtre "
   ]
  },
  {
   "cell_type": "code",
   "execution_count": null,
   "id": "a9bbe599",
   "metadata": {},
   "outputs": [],
   "source": [
    "# On reprend la bae du calcul réalisé plus haut \n",
    "\n",
    "# Je récupère l'aire totale de mes bâtiments \n",
    "buildings['total_area'] = buildings['geometry'].to_crs(2154).apply(lambda x : x .area)\n",
    "\n",
    "#Selection de ma zone de test \n",
    "zone_test = educational_zones[educational_zones[\"cleabs\"].isin([\"SURFACTI0000000351259092\"])]\n",
    "#Je réalise l'intersection\n",
    "building_in_zone = gpd.overlay(buildings, zone_test, how ='intersection')\n",
    "\n",
    "\n",
    "filtre = 50\n",
    "#Je calcule l'aire des batiments présents dans ma zone \n",
    "building_in_zone['area'] = building_in_zone['geometry'].to_crs(2154).apply(lambda x :x.area)\n",
    "\n",
    "#Je ne récupère que les batîments présent à + de 50% dans la zone\n",
    "filter_area = building_in_zone.loc[((building_in_zone['area']/building_in_zone['total_area'])*100)>filtre]\n",
    "#Maintenant je recupère la géomtrie entière des batiments présents \n",
    "building_in_zone = buildings.loc[buildings['cleabs'].isin(filter_area['cleabs_1'].to_list())]\n",
    "print(f\"Filtre à : {filtre} %\\nNb de batiments avant filtre : {len(building_in_zone)}\")\n",
    "print(f\"Après filtre : {len(filter_area)}\")\n"
   ]
  },
  {
   "cell_type": "code",
   "execution_count": null,
   "id": "9ebb5ab7",
   "metadata": {},
   "outputs": [],
   "source": [
    "\n",
    "def filter_buldings_on_area(\n",
    "    buildings : gpd.GeoDataFrame,\n",
    "    educational_zones : gpd.GeoDataFrame\n",
    ") -> gpd.GeoDataFrame :\n",
    "    \n",
    "    # Calcul de l'aire totale des bâtiments \n",
    "    buildings['total_area'] = buildings['geometry'].to_crs(2154).apply(lambda x : x .area)\n",
    "    #Intersection bâtiments/zone\n",
    "    building_in_zone = gpd.overlay(buildings, educational_zones, how ='intersection')\n",
    "    #Calcul de l'aire des bâtiments présent dans la zone\n",
    "    building_in_zone['area'] = building_in_zone['geometry'].to_crs(2154).apply(lambda x :x.area)\n",
    "    #Filtre pour ne récupérer que les bâtiments présents à plus de 50%\n",
    "    filter_area = building_in_zone.loc[((building_in_zone['area']/building_in_zone['total_area'])*100)> 50]\n",
    "    #Récupération finale des bâtiments \n",
    "    building_in_zone = buildings.loc[buildings['cleabs'].isin(filter_area['cleabs_1'].to_list())]\n",
    "    return building_in_zone\n",
    "\n"
   ]
  },
  {
   "cell_type": "markdown",
   "id": "362b16a8",
   "metadata": {},
   "source": [
    "# Test final "
   ]
  },
  {
   "cell_type": "code",
   "execution_count": null,
   "id": "66a5aa0f",
   "metadata": {},
   "outputs": [],
   "source": [
    "import shapely\n",
    "\n",
    "def unionize_educationnal_zone(\n",
    "    educational_zones : gpd.GeoDataFrame = educational_zones\n",
    ") -> gpd.GeoDataFrame:\n",
    "    ''' Créée un gdf avec les zones unies'''\n",
    "    \n",
    "    #Uni les polygones en fonction de leur géométrie\n",
    "    polygons_unionized = shapely.ops.unary_union(educational_zones['geometry'].to_list())\n",
    "    #Créer un gdf avec index + géomtrie\n",
    "    df_union = gpd.GeoDataFrame({'geometry' : [polygons_unionized]}, \n",
    "                            crs=\"EPSG:4326\").explode().reset_index(drop=True)\n",
    "    return df_union\n",
    "\n",
    "def link_bw_zones(\n",
    "    educational_zones : gpd.GeoDataFrame = educational_zones,\n",
    "    unionized_zone : gpd.GeoDataFrame = unionize_educationnal_zone(educational_zones)\n",
    ") -> gpd.GeoDataFrame:\n",
    "    ''' Ajoute l'ID de la grande zone a chaque zone d'éducation'''\n",
    "    \n",
    "    zones_with_id_union = gpd.sjoin(educational_zones, unionized_zone[['geometry']],\n",
    "                                    how='inner', predicate='intersects').rename(columns = {\"index_right\" : \"id_gde_zone\"})\n",
    "    return zones_with_id_union\n",
    "\n",
    "\n",
    "def filter_buldings_on_area(\n",
    "    buildings : gpd.GeoDataFrame = buildings,\n",
    "    educational_zones : gpd.GeoDataFrame = link_bw_zones()\n",
    ") -> gpd.GeoDataFrame :\n",
    "    \n",
    "    # Calcul de l'aire totale des bâtiments \n",
    "    buildings['total_area'] = buildings['geometry'].to_crs(2154).apply(lambda x : x .area)\n",
    "    #Intersection bâtiments/zone\n",
    "    building_in_zone = gpd.overlay(buildings, educational_zones, how ='intersection')\n",
    "    #Calcul de l'aire des bâtiments présent dans la zone\n",
    "    building_in_zone['area'] = building_in_zone['geometry'].to_crs(2154).apply(lambda x :x.area)\n",
    "    #Filtre pour ne récupérer que les bâtiments présents à plus de 50%\n",
    "    filter_area = building_in_zone.loc[((building_in_zone['area']/building_in_zone['total_area'])*100)> 50]\n",
    "    #Récupération finale des bâtiments \n",
    "    building_in_zone = buildings.loc[buildings['cleabs'].isin(filter_area['cleabs_1'].to_list())]\n",
    "    return building_in_zone\n",
    "\n"
   ]
  },
  {
   "cell_type": "code",
   "execution_count": null,
   "id": "a10607d8",
   "metadata": {},
   "outputs": [],
   "source": [
    "# Pour le work flow\n",
    "\n",
    "# J'unifie tous mes polygones \n",
    "df_union = unionize_educationnal_zone()\n",
    "\n",
    "#Je rajoute l'ID des grands polygones aux petits \n",
    "zones_with_id = link_bw_zones()\n",
    "\n",
    "#Je filtre les batiments qui sont pas a 50% dans une grande zone \n",
    "buildings_in_zone = filter_buldings_on_area()\n",
    "buildings_in_zone.to_file(\"buildings.shp\")"
   ]
  }
 ],
 "metadata": {
  "kernelspec": {
   "display_name": ".venv",
   "language": "python",
   "name": "python3"
  },
  "language_info": {
   "codemirror_mode": {
    "name": "ipython",
    "version": 3
   },
   "file_extension": ".py",
   "mimetype": "text/x-python",
   "name": "python",
   "nbconvert_exporter": "python",
   "pygments_lexer": "ipython3",
   "version": "3.12.0"
  }
 },
 "nbformat": 4,
 "nbformat_minor": 5
}
