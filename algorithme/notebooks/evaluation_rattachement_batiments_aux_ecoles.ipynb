{
 "cells": [
  {
   "cell_type": "code",
   "execution_count": null,
   "id": "f90475a75cada323",
   "metadata": {},
   "outputs": [],
   "source": [
    "%load_ext autoreload\n",
    "%autoreload 2"
   ]
  },
  {
   "cell_type": "code",
   "execution_count": null,
   "id": "431dcc03abfaa011",
   "metadata": {},
   "outputs": [],
   "source": [
    "from dataclasses import dataclass\n",
    "\n",
    "import geopandas as gpd\n",
    "import matplotlib.pyplot as plt\n",
    "import contextily as cx\n",
    "\n",
    "from potentiel_solaire.constants import DEFAULT_CRS, CRS_FOR_BUFFERS\n",
    "from potentiel_solaire.sources.bd_topo import extract_bd_topo, get_topo_zones_of_interest, \\\n",
    "    get_topo_buildings_of_interest\n",
    "from potentiel_solaire.sources.extract import extract_sources\n",
    "from potentiel_solaire.sources.schools_establishments import get_schools_establishments_of_interest\n",
    "from potentiel_solaire.attach_buildings_to_schools import attach_buildings_to_schools"
   ]
  },
  {
   "cell_type": "code",
   "execution_count": null,
   "id": "4c1c8e770209ccae",
   "metadata": {},
   "outputs": [],
   "source": [
    "code_departement = \"093\""
   ]
  },
  {
   "cell_type": "code",
   "execution_count": null,
   "id": "6230678deb49d5be",
   "metadata": {},
   "outputs": [],
   "source": [
    "sources = extract_sources()\n",
    "    \n",
    "bd_topo_path = extract_bd_topo(code_departement=code_departement)\n",
    "\n",
    "schools_establishments = get_schools_establishments_of_interest(\n",
    "    schools_filepath=sources[\"etablissements\"].filepath,\n",
    "    code_departement=code_departement,\n",
    "    types_etablissements=['Ecole', 'Lycée', 'Collège'],\n",
    "    statut_public_prive=\"Public\",\n",
    "    etat=\"OUVERT\",\n",
    "    crs=DEFAULT_CRS\n",
    ")\n",
    "nb_schools = schools_establishments.shape[0]\n",
    "\n",
    "communes = gpd.read_file(bd_topo_path, layer=\"commune\").to_crs(DEFAULT_CRS)\n",
    "geom_of_interest = communes.sjoin(schools_establishments).dissolve()[[\"geometry\"]]\n",
    "\n",
    "educational_zones = get_topo_zones_of_interest(\n",
    "    bd_topo_path=bd_topo_path,\n",
    "    geom_of_interest=geom_of_interest,\n",
    "    categories=[\"Science et enseignement\"],\n",
    "    natures=['Collège', 'Lycée', 'Enseignement primaire'],\n",
    "    crs=DEFAULT_CRS\n",
    ")\n",
    "nb_educational_zones = educational_zones.shape[0]\n",
    "\n",
    "buildings = get_topo_buildings_of_interest(\n",
    "    bd_topo_path=bd_topo_path,\n",
    "    geom_of_interest=geom_of_interest,\n",
    "    crs=DEFAULT_CRS\n",
    ")\n",
    "nb_buildings = buildings.shape[0]"
   ]
  },
  {
   "cell_type": "code",
   "execution_count": null,
   "id": "933bfa0b12ad757b",
   "metadata": {},
   "outputs": [],
   "source": [
    "schools_buildings = attach_buildings_to_schools(\n",
    "    schools_establishments=schools_establishments,\n",
    "    educational_zones=educational_zones,\n",
    "    buildings=buildings\n",
    ")"
   ]
  },
  {
   "cell_type": "code",
   "execution_count": null,
   "id": "a56449cf814c95c0",
   "metadata": {},
   "outputs": [],
   "source": [
    "@dataclass\n",
    "class ItemsOfInterest:\n",
    "    educational_zones: list[str]\n",
    "    buildings: list[str]\n",
    "    schools: list[str]\n",
    "\n",
    "    \n",
    "def get_facecolor_nb_rattachements(value):\n",
    "    if value == 0:\n",
    "        return \"yellow\"\n",
    "    elif value == 1:\n",
    "        return \"green\"\n",
    "    else:\n",
    "        return \"red\"\n",
    "\n",
    "\n",
    "def plot_zone_of_interest(\n",
    "    zone_of_interest: gpd.GeoDataFrame,\n",
    "    edu_zones: gpd.GeoDataFrame = educational_zones,\n",
    "    topo_buildings: gpd.GeoDataFrame = buildings,\n",
    "    schools: gpd.GeoDataFrame = schools_establishments,\n",
    "    schools_buildings_attached: gpd.GeoDataFrame = schools_buildings,\n",
    "    buffer_size: int = 5,\n",
    "):  \n",
    "    fig, ax = plt.subplots(figsize=(20, 10))\n",
    "    \n",
    "    buildings_in_zone = gpd.sjoin(\n",
    "        topo_buildings, zone_of_interest[[\"geometry\"]], how='inner', predicate='intersects'\n",
    "    )\n",
    "    \n",
    "    buildings_attach_count = schools_buildings_attached.groupby(\n",
    "        by=\"cleabs_bat\", as_index=False\n",
    "    ).identifiant_de_l_etablissement.count().rename(\n",
    "        columns={\"identifiant_de_l_etablissement\": \"nb_rattachements\"}\n",
    "    )\n",
    "    buildings_in_zone = buildings_in_zone.merge(\n",
    "        buildings_attach_count,\n",
    "        left_on=\"cleabs\",\n",
    "        right_on=\"cleabs_bat\",\n",
    "        how=\"left\",\n",
    "    ).copy()\n",
    "    buildings_in_zone[\"nb_rattachements\"] = buildings_in_zone[\"nb_rattachements\"].fillna(0)\n",
    "    buildings_in_zone[\"facecolor\"] = buildings_in_zone[\"nb_rattachements\"].apply(get_facecolor_nb_rattachements)\n",
    "    \n",
    "    buildings_in_zone.plot(\n",
    "        ax=ax, edgecolor=\"black\", linewidth=0.5, facecolor=buildings_in_zone[\"facecolor\"], alpha=0.5\n",
    "    )\n",
    "\n",
    "    # for x, y, label in zip(\n",
    "    #         buildings_in_zone.geometry.centroid.x, \n",
    "    #         buildings_in_zone.geometry.centroid.y, \n",
    "    #         buildings_in_zone['cleabs']\n",
    "    #     ):\n",
    "    #     ax.text(x, y, label, fontsize=10, ha='right', color='black')\n",
    "    \n",
    "    educational_zones_in_zone = gpd.sjoin(\n",
    "        edu_zones, zone_of_interest[[\"geometry\"]], how='inner', predicate='intersects'\n",
    "    )\n",
    "    educational_zones_in_zone.plot(\n",
    "        ax=ax, color=\"none\", edgecolor='blue', linewidth=2\n",
    "    )\n",
    "\n",
    "    for x, y, label in zip(\n",
    "            educational_zones_in_zone.geometry.centroid.x, \n",
    "            educational_zones_in_zone.geometry.centroid.y, \n",
    "            educational_zones_in_zone['identifiants_sources']\n",
    "        ):\n",
    "        ax.text(x, y, label, fontsize=10, ha='right', color='blue')\n",
    "    \n",
    "    zone_buffered = zone_of_interest[[\"geometry\"]].copy().to_crs(CRS_FOR_BUFFERS)\n",
    "    zone_buffered.geometry = zone_buffered.geometry.buffer(buffer_size)\n",
    "    zone_buffered = zone_buffered.to_crs(DEFAULT_CRS)\n",
    "    \n",
    "    schools_in_zone = gpd.sjoin(\n",
    "        schools, zone_buffered, how='inner', predicate='intersects'\n",
    "    )\n",
    "    schools_in_zone.plot(\n",
    "        ax=ax, color=\"blue\", alpha=1\n",
    "    )\n",
    "\n",
    "    for x, y, label in zip(\n",
    "            schools_in_zone.geometry.centroid.x, \n",
    "            schools_in_zone.geometry.centroid.y, \n",
    "            schools_in_zone['identifiant_de_l_etablissement']\n",
    "        ):\n",
    "        ax.text(x, y, label, fontsize=10, ha='right', color='blue')\n",
    "    \n",
    "    cx.add_basemap(ax, crs=DEFAULT_CRS, zoom=19, alpha=0.5)\n",
    "    \n",
    "    plt.show()\n",
    "    \n",
    "    print(f\"Duplicated buildings in zone_of_interest: {buildings_in_zone[buildings_in_zone['nb_rattachements'] > 1][['cleabs_bat', 'nb_rattachements']]}\")\n",
    "    \n",
    "    return ItemsOfInterest(\n",
    "        educational_zones=list(educational_zones_in_zone[\"cleabs\"].unique()), \n",
    "        buildings=list(buildings_in_zone[\"cleabs\"].unique()),\n",
    "        schools=list(schools_in_zone[\"identifiant_de_l_etablissement\"].unique()),\n",
    "    )"
   ]
  },
  {
   "cell_type": "markdown",
   "id": "56a0c8b71ed80d11",
   "metadata": {},
   "source": [
    "### 1. Overlap entre plusieurs zones d education"
   ]
  },
  {
   "cell_type": "code",
   "execution_count": null,
   "id": "d88908e4256a99ec",
   "metadata": {},
   "outputs": [],
   "source": [
    "zone_of_interest_1 = educational_zones[educational_zones[\"cleabs\"].isin([\"SURFACTI0000000002555603\"])].dissolve()\n",
    "items_1 = plot_zone_of_interest(\n",
    "    zone_of_interest=zone_of_interest_1\n",
    ")"
   ]
  },
  {
   "cell_type": "markdown",
   "id": "a14d7a32b9bd4a3d",
   "metadata": {},
   "source": [
    "### 2. Batiment overlap plusieurs zones d'educations"
   ]
  },
  {
   "cell_type": "code",
   "execution_count": null,
   "id": "3eb6aeea6cf9100e",
   "metadata": {},
   "outputs": [],
   "source": [
    "zone_of_interest_2 = educational_zones[educational_zones[\"cleabs\"].isin([\"SURFACTI0000000002555878\", \"SURFACTI0000000002555879\", \"SURFACTI0000000244244919\"])].dissolve()\n",
    "items_2 = plot_zone_of_interest(zone_of_interest=zone_of_interest_2)"
   ]
  },
  {
   "cell_type": "markdown",
   "id": "99382d4dff28f360",
   "metadata": {},
   "source": [
    "### 3. Batiment overlap à peine la zone d'education"
   ]
  },
  {
   "cell_type": "code",
   "execution_count": null,
   "id": "9a2877f74676cbb8",
   "metadata": {},
   "outputs": [],
   "source": [
    "zone_of_interest_3 = educational_zones[educational_zones[\"cleabs\"].isin([\"SURFACTI0000000002555651\"])].dissolve()\n",
    "items_3 = plot_zone_of_interest(zone_of_interest=zone_of_interest_3)"
   ]
  },
  {
   "cell_type": "markdown",
   "id": "e1576846eca18d85",
   "metadata": {},
   "source": [
    "### 4. Etablissements au meme endroit et overlap des zones d'éducation associees"
   ]
  },
  {
   "cell_type": "code",
   "execution_count": null,
   "id": "6761f106c355ea65",
   "metadata": {},
   "outputs": [],
   "source": [
    "zone_of_interest_4 = educational_zones[educational_zones[\"cleabs\"].isin([\"SURFACTI0000000002555609\", \"SURFACTI0000002215707916\", \"SURFACTI0000000002555601\", \"SURFACTI0000000002555600\", \"SURFACTI0000000002555602\"])].dissolve()\n",
    "items_4 = plot_zone_of_interest(zone_of_interest=zone_of_interest_4)"
   ]
  },
  {
   "cell_type": "markdown",
   "id": "44d13bf835797398",
   "metadata": {},
   "source": [
    "### 5. Cas d echec le plus frequent de la premiere methode de rattachement"
   ]
  },
  {
   "cell_type": "code",
   "execution_count": null,
   "id": "fec1762c4f80fc7b",
   "metadata": {},
   "outputs": [],
   "source": [
    "zone_of_interest_5 = educational_zones[educational_zones[\"cleabs\"].isin([\"SURFACTI0000000351259092\"])].dissolve()\n",
    "items_5 = plot_zone_of_interest(zone_of_interest=zone_of_interest_5)"
   ]
  },
  {
   "cell_type": "markdown",
   "id": "8563df61",
   "metadata": {},
   "source": [
    "### 6. Une zone est partagée entre plusieurs établissements"
   ]
  },
  {
   "cell_type": "code",
   "execution_count": null,
   "id": "fecc825c",
   "metadata": {},
   "outputs": [],
   "source": [
    "zone_of_interest_6 = educational_zones[educational_zones[\"cleabs\"].isin([\"SURFACTI0000000002555427\"])].dissolve()\n",
    "items_6 = plot_zone_of_interest(zone_of_interest=zone_of_interest_6)"
   ]
  },
  {
   "cell_type": "code",
   "execution_count": null,
   "id": "36a7fc8f",
   "metadata": {},
   "outputs": [],
   "source": [
    "import json \n",
    "\n",
    "def save_cases_to_json(\n",
    "    items: ItemsOfInterest, \n",
    "    filename: str\n",
    "):\n",
    "    schools = schools_establishments.copy()\n",
    "    zones = educational_zones.copy()\n",
    "    builds = buildings.copy()\n",
    "\n",
    "    # convert geometries to WKT format\n",
    "    schools[\"geometry\"] = schools[\"geometry\"].apply(lambda x: x.wkt)  \n",
    "    zones[\"geometry\"] = zones[\"geometry\"].apply(lambda x: x.wkt)\n",
    "    builds[\"geometry\"] = builds[\"geometry\"].apply(lambda x: x.wkt)\n",
    "    \n",
    "    items_schools = schools[schools[\"identifiant_de_l_etablissement\"].isin(items.schools)][[\n",
    "        \"identifiant_de_l_etablissement\",\n",
    "        \"geometry\",\n",
    "    ]].to_dict('list') \n",
    "\n",
    "    items_zones = zones[zones[\"cleabs\"].isin(items.educational_zones)][[\n",
    "        \"cleabs\",\n",
    "        \"identifiants_sources\",\n",
    "        \"geometry\",\n",
    "    ]].to_dict('list')\n",
    "\n",
    "    items_buildings = builds[builds[\"cleabs\"].isin(items.buildings)][[\n",
    "        \"cleabs\",\n",
    "        \"geometry\",\n",
    "    ]].to_dict('list')\n",
    "\n",
    "    items_dict = {\n",
    "        \"schools_establishments\": items_schools,\n",
    "        \"educational_zones\": items_zones,\n",
    "        \"buildings\": items_buildings,\n",
    "    }\n",
    "\n",
    "    with open(filename, 'w') as f:\n",
    "        json.dump(items_dict, f, indent=4, ensure_ascii=False)\n"
   ]
  },
  {
   "cell_type": "code",
   "execution_count": null,
   "id": "771c2936",
   "metadata": {},
   "outputs": [],
   "source": [
    "for i, item in enumerate([items_1, items_2, items_3, items_4, items_5, items_6]):\n",
    "    save_cases_to_json(\n",
    "        items=item,\n",
    "        filename=f\"cases_{i+1}.json\"\n",
    "    )"
   ]
  }
 ],
 "metadata": {
  "kernelspec": {
   "display_name": ".venv",
   "language": "python",
   "name": "python3"
  },
  "language_info": {
   "codemirror_mode": {
    "name": "ipython",
    "version": 3
   },
   "file_extension": ".py",
   "mimetype": "text/x-python",
   "name": "python",
   "nbconvert_exporter": "python",
   "pygments_lexer": "ipython3",
   "version": "3.11.9"
  }
 },
 "nbformat": 4,
 "nbformat_minor": 5
}
