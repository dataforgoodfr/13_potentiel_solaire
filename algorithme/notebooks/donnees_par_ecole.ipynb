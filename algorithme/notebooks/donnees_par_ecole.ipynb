{
 "cells": [
  {
   "cell_type": "code",
   "execution_count": 1,
   "metadata": {},
   "outputs": [],
   "source": [
    "import geopandas as gpd\n",
    "from pathlib import Path\n",
    "import matplotlib.pyplot as plt\n",
    "import contextily as cx\n",
    "import fiona \n",
    "import numpy as np\n",
    "# Potentiel solaire package\n",
    "from potentiel_solaire.constants import DATA_FOLDER"
   ]
  },
  {
   "cell_type": "code",
   "execution_count": null,
   "metadata": {},
   "outputs": [],
   "source": [
    "# Executer ci dessous ci besoin pour récupérer les données\n",
    "# !extract-sample-data\n",
    "# Et pour sauver une version markdown des notebooks, utiliser\n",
    "# jupyter nbconvert donnees_par_ecole.ipynb --to markdown --output-dir=exports/"
   ]
  },
  {
   "cell_type": "code",
   "execution_count": null,
   "metadata": {},
   "outputs": [],
   "source": [
    "# Verification des layers disponibles\n",
    "stdenis_path = DATA_FOLDER / \"saint_denis_reference_data.gpkg\"\n",
    "layers = fiona.listlayers(stdenis_path)\n",
    "print(\" \".join(layers))"
   ]
  },
  {
   "cell_type": "markdown",
   "metadata": {},
   "source": [
    "## On ouvre le jeu de données préparé"
   ]
  },
  {
   "cell_type": "code",
   "execution_count": 3,
   "metadata": {},
   "outputs": [],
   "source": [
    "# On ouvre une zone\n",
    "ID = 9\n",
    "stdenis = gpd.read_file(stdenis_path, layer=\"bdtopo_education\")# toponymie_services_et_activites\n",
    "stdenis = stdenis.to_crs(2154) # 2154 Lambert, 4326 latlon  \n",
    "example = stdenis[ID:ID+1]\n",
    "ID = example[\"cleabs_left\"].iloc[0]\n",
    "NOM = example[\"toponyme\"].iloc[0]\n",
    "# On ouvre les toitures\n",
    "toiture = gpd.read_file(stdenis_path, layer=\"bdtopo_batiment\")# toponymie_services_et_activites\n",
    "toiture_b = gpd.read_file(stdenis_path, layer=\"potentielsolaire_bati\")# toponymie_services_et_activites\n",
    "toiture_t = gpd.read_file(stdenis_path, layer=\"potentielsolaire_toitures\")# toponymie_services_et_activites\n",
    "toiture_c = gpd.read_file(stdenis_path, layer=\"cadastre_parcellaire\")# toponymie_services_et_activites\n",
    "\n",
    "toiture = toiture.to_crs(2154) # 2154 Lambert, 4326 latlon  \n",
    "toiture_b = toiture.to_crs(2154)\n",
    "toiture_t = toiture.to_crs(2154)\n",
    "toiture_c = toiture.to_crs(2154)\n",
    "toiture = gpd.sjoin(toiture, example, how='inner', predicate='intersects',lsuffix='_li', rsuffix='_ri').clip(example)\n",
    "toiture_b = gpd.sjoin(toiture_b, example, how='inner', predicate='intersects',lsuffix='_li', rsuffix='_ri').clip(example)\n",
    "toiture_t = gpd.sjoin(toiture_t, example, how='inner', predicate='intersects',lsuffix='_li', rsuffix='_ri').clip(example)\n",
    "toiture_c = gpd.sjoin(toiture_c, example, how='inner', predicate='intersects',lsuffix='_li', rsuffix='_ri').clip(example)"
   ]
  },
  {
   "cell_type": "code",
   "execution_count": null,
   "metadata": {},
   "outputs": [],
   "source": [
    "fig, ax = plt.subplots()\n",
    "\n",
    "example.plot(ax=ax, alpha=0.7, color =\"green\")\n",
    "toiture_c.plot(ax=ax, alpha=0.7, color =\"pink\")\n",
    "toiture_t.plot(ax=ax, alpha=0.7, color =\"yellow\")\n",
    "toiture_b.plot(ax=ax, alpha=0.7, color =\"orange\")\n",
    "toiture.plot(ax=ax, alpha=0.7, color =\"red\")\n",
    "\n",
    "\n",
    "cx.add_basemap(ax, crs=example.crs)\n",
    "fig.show()"
   ]
  },
  {
   "cell_type": "markdown",
   "metadata": {},
   "source": [
    "# Exploration MNS liées aux zones"
   ]
  },
  {
   "cell_type": "code",
   "execution_count": 5,
   "metadata": {},
   "outputs": [],
   "source": [
    "import rasterio\n",
    "import rasterio.mask\n",
    "import os\n",
    "from rasterio.plot import show"
   ]
  },
  {
   "cell_type": "markdown",
   "metadata": {},
   "source": [
    "## On recadre l'image"
   ]
  },
  {
   "cell_type": "code",
   "execution_count": 6,
   "metadata": {},
   "outputs": [],
   "source": [
    "geotiff_cached = \"../data/cache/mns/\"+ID+\".masked.tif\"\n",
    "os.makedirs(\"../data/cache/mns\", exist_ok=True)\n",
    "\n",
    "if not os.path.isfile(geotiff_cached):\n",
    "    geome = example.geometry.total_bounds\n",
    "    A = \"0\"+str(int(geome[0]//1000))\n",
    "    B = str(int(geome[1]//1000)+1)\n",
    "    tile = \"/MNS-Correl_1-0__TIFF_LAMB93_D093_2024-01-01/MNS-Correl/1_DONNEES_LIVRAISON_2024-11-00179/MNS-C_0M50_TIF_LAMB93_D93-2024/93-2024-\"+A+\"-\"+B+\"-LA93-0M50.tif\"\n",
    "    path = DATA_FOLDER / tile\n",
    "    with rasterio.open(\"../data/\"+str(path)) as img:\n",
    "        out_image, out_transform = rasterio.mask.mask(img, example.geometry, crop=True)\n",
    "        out_meta = img.meta\n",
    "    minval = np.min(out_image[np.nonzero(out_image)])\n",
    "    out_image = out_image - minval\n",
    "\n",
    "    out_image = np.where(out_image<0, 0, out_image)\n",
    "    out_meta.update({\"driver\": \"GTiff\",\n",
    "                    \"height\": out_image.shape[1],\n",
    "                    \"width\": out_image.shape[2],\n",
    "                    \"transform\": out_transform})\n",
    "\n",
    "    with rasterio.open(\"../data/cache/mns/\"+ID+\".masked.tif\", \"w\", **out_meta) as dest:\n",
    "        dest.write(out_image)"
   ]
  },
  {
   "cell_type": "markdown",
   "metadata": {},
   "source": [
    "## Et on la représente"
   ]
  },
  {
   "cell_type": "code",
   "execution_count": null,
   "metadata": {},
   "outputs": [],
   "source": [
    "img_ecole = rasterio.open(\"../data/cache/mns/\"+ID+\".masked.tif\")\n",
    "\n",
    "fig, ax = plt.subplots(figsize=(10,10))\n",
    "\n",
    "\n",
    "\n",
    "show(img_ecole, ax=ax, alpha=0.9)\n",
    "example.plot(ax=ax, alpha=0.7, linewidth=2, facecolor=\"none\", edgecolor='pink')\n",
    "toiture_c.plot(ax=ax, alpha=0.7, linewidth=3,facecolor=\"none\", edgecolor='green')\n",
    "toiture.plot(ax=ax, alpha=0.7, linewidth=4,facecolor=\"none\", edgecolor='red', label=\"batiments\")\n",
    "toiture_t.plot(ax=ax, alpha=0.7, linewidth=2,facecolor=\"none\", edgecolor='orange')\n",
    "toiture_b.plot(ax=ax, alpha=0.7, linewidth=3,facecolor=\"none\", edgecolor='yellow')\n",
    "\n",
    "\n",
    "cx.add_basemap(ax, crs=example.crs, alpha=0.5, source=cx.providers.GeoportailFrance.orthos )\n",
    "\n",
    "\n",
    "plt.title(\"Exploitation MNS pour :\"+ NOM+\"\\n\"+ID+\"\\n\")\n",
    "fig.show()\n",
    "\n"
   ]
  },
  {
   "cell_type": "markdown",
   "metadata": {},
   "source": [
    "# Focalisation sur les batiments"
   ]
  },
  {
   "cell_type": "code",
   "execution_count": 8,
   "metadata": {},
   "outputs": [],
   "source": [
    "geotiff_cached_toits = \"../data/cache/mns/\"+ID+\"_toits.masked.tif\"\n",
    "\n",
    "if not os.path.isfile(geotiff_cached_toits) or True:\n",
    "    geome = example.geometry.total_bounds\n",
    "    A = \"0\"+str(int(geome[0]//1000))\n",
    "    B = str(int(geome[1]//1000)+1)\n",
    "    tile = \"/MNS-Correl_1-0__TIFF_LAMB93_D093_2024-01-01/MNS-Correl/1_DONNEES_LIVRAISON_2024-11-00179/MNS-C_0M50_TIF_LAMB93_D93-2024/93-2024-\"+A+\"-\"+B+\"-LA93-0M50.tif\"\n",
    "    path = DATA_FOLDER / tile\n",
    "    with rasterio.open(\"../data/\"+str(path)) as img:\n",
    "        out_image, out_transform = rasterio.mask.mask(img, toiture.geometry, crop=True)\n",
    "        out_meta = img.meta\n",
    "    minval = np.min(out_image[np.nonzero(out_image)])\n",
    "    out_image = out_image - minval\n",
    "\n",
    "    out_image = np.where(out_image<0, 0, out_image)\n",
    "\n",
    "    MAX = np.percentile(out_image[np.nonzero(out_image)],80)\n",
    "    out_image = np.where(out_image>=MAX, MAX, out_image)\n",
    "\n",
    "    out_meta.update({\"driver\": \"GTiff\",\n",
    "                    \"height\": out_image.shape[1],\n",
    "                    \"width\": out_image.shape[2],\n",
    "                    \"transform\": out_transform})\n",
    "\n",
    "    with rasterio.open(geotiff_cached_toits, \"w\", **out_meta) as dest:\n",
    "        dest.write(out_image)"
   ]
  },
  {
   "cell_type": "code",
   "execution_count": null,
   "metadata": {},
   "outputs": [],
   "source": [
    "img_ecole = rasterio.open(geotiff_cached_toits)\n",
    "\n",
    "fig, ax = plt.subplots(figsize=(10,10))\n",
    "\n",
    "show(img_ecole, ax=ax, alpha=0.8)\n",
    "\n",
    "example.plot(ax=ax, alpha=0.7, linewidth=2, facecolor=\"none\", edgecolor='pink')\n",
    "# A explorer peut etre: cx.providers.GeoportailFrance\n",
    "cx.add_basemap(ax, crs=example.crs, alpha=0.6, source=cx.providers.GeoportailFrance.orthos )\n",
    "toiture_c.plot(ax=ax, alpha=0.7, linewidth=3,facecolor=\"none\", edgecolor='green')\n",
    "toiture.plot(ax=ax, alpha=0.7, linewidth=4,facecolor=\"none\", edgecolor='red')\n",
    "toiture_t.plot(ax=ax, alpha=0.7, linewidth=2,facecolor=\"none\", edgecolor='orange')\n",
    "toiture_b.plot(ax=ax, alpha=0.7, linewidth=3,facecolor=\"none\", edgecolor='yellow')\n",
    "\n",
    "\n",
    "plt.title(\"Exploitation MNS pour :\"+ NOM+\"\\n\"+ID+\"\\n\")\n",
    "fig.show()"
   ]
  },
  {
   "cell_type": "markdown",
   "metadata": {},
   "source": [
    "## Analyse de la pente des toits"
   ]
  },
  {
   "cell_type": "markdown",
   "metadata": {},
   "source": [
    "On plot d'abord les altitudes."
   ]
  },
  {
   "cell_type": "code",
   "execution_count": null,
   "metadata": {},
   "outputs": [],
   "source": [
    "# Affichage\n",
    "plt.figure(figsize=(8, 6))\n",
    "cmap = plt.cm.inferno \n",
    "im = plt.imshow(out_image[0], cmap=cmap, interpolation='nearest')\n",
    "cbar = plt.colorbar(im)\n",
    "cbar.set_label(\"Altitudes\")\n",
    "plt.title(\"Carte d'altitudes\")\n",
    "plt.show()\n",
    "\n",
    "\n"
   ]
  },
  {
   "cell_type": "code",
   "execution_count": null,
   "metadata": {},
   "outputs": [],
   "source": [
    "threshold = 5  # Seuil en mètres (à ajuster selon la donnée)\n",
    "mask = out_image[0] < threshold\n",
    "\n",
    "# Exclure ces zones du calcul de pente\n",
    "focus_toits = np.where(mask, np.nan, out_image[0])\n",
    "\n",
    "\n",
    "# Affichage\n",
    "plt.figure(figsize=(8, 6))\n",
    "cmap = plt.cm.inferno \n",
    "im = plt.imshow(focus_toits, cmap=cmap, interpolation='nearest')\n",
    "cbar = plt.colorbar(im)\n",
    "cbar.set_label(\"Altitudes\")\n",
    "plt.title(\"Carte d'altitudes'\")\n",
    "plt.show()"
   ]
  },
  {
   "cell_type": "markdown",
   "metadata": {},
   "source": [
    "On calcule les dérivées partielles :\n",
    "\n",
    "* dx représente la variation d'altitude dans la direction horizontale.\n",
    "* dy représente la variation d'altitude dans la direction verticale.\n",
    "\n",
    "Puis on calcule la norme du gradient pour calculer la pente locale."
   ]
  },
  {
   "cell_type": "code",
   "execution_count": null,
   "metadata": {},
   "outputs": [],
   "source": [
    "# Calcul des gradients X et Y\n",
    "dy, dx = np.gradient(out_image[0])\n",
    "# Exclure ces zones du calcul de pente\n",
    "slope = np.arctan(np.sqrt(dx**2 + dy**2)) * (180 / np.pi)\n",
    "\n",
    "# Affichage\n",
    "plt.figure(figsize=(8, 6))\n",
    "cmap = plt.cm.inferno \n",
    "im = plt.imshow(slope, cmap=cmap, interpolation='nearest')\n",
    "cbar = plt.colorbar(im)\n",
    "cbar.set_label(\"Pente (degrés)\")\n",
    "plt.title(\"Carte de pente (sans zones aberrantes)\")\n",
    "plt.show()"
   ]
  },
  {
   "cell_type": "markdown",
   "metadata": {},
   "source": [
    "On retire les valeurs trop élevées qui correspondent à des objets sur le toit, ou aux bords des toits."
   ]
  },
  {
   "cell_type": "code",
   "execution_count": null,
   "metadata": {},
   "outputs": [],
   "source": [
    "# Détection des zones à forte variation d'altitude\n",
    "threshold = 0.5  # Seuil à ajuster selon la donnée)\n",
    "mask = np.sqrt(dx**2 + dy**2) > threshold\n",
    "\n",
    "# Exclure ces zones du calcul de pente\n",
    "slope_cleaned = np.where(mask, np.nan, np.arctan(np.sqrt(dx**2 + dy**2)) * (180 / np.pi))\n",
    "\n",
    "# Affichage\n",
    "plt.figure(figsize=(8, 6))\n",
    "cmap = plt.cm.inferno \n",
    "im = plt.imshow(slope_cleaned, cmap=cmap, interpolation='nearest')\n",
    "cbar = plt.colorbar(im)\n",
    "cbar.set_label(\"Pente (degrés)\")\n",
    "plt.title(\"Carte de pente (sans zones aberrantes)\")\n",
    "plt.show()"
   ]
  },
  {
   "cell_type": "markdown",
   "metadata": {},
   "source": [
    "On affiche les images de toits pour comparer avec les pentes identifiées."
   ]
  },
  {
   "cell_type": "code",
   "execution_count": null,
   "metadata": {},
   "outputs": [],
   "source": [
    "img_ecole = rasterio.open(geotiff_cached_toits)\n",
    "\n",
    "fig, ax = plt.subplots(figsize=(10,10))\n",
    "\n",
    "show(img_ecole, ax=ax, alpha=0.001)\n",
    "example.plot(ax=ax, alpha=0.7, linewidth=2, facecolor=\"none\", edgecolor='pink')\n",
    "toiture_b.plot(ax=ax, alpha=0.7, linewidth=3,facecolor=\"none\", edgecolor='yellow')\n",
    "cx.add_basemap(ax, crs=example.crs, alpha=0.6, source=cx.providers.GeoportailFrance.orthos )"
   ]
  },
  {
   "cell_type": "markdown",
   "metadata": {},
   "source": [
    "# Et sur toutes les écoles"
   ]
  },
  {
   "cell_type": "code",
   "execution_count": 10,
   "metadata": {},
   "outputs": [],
   "source": [
    "stdenis = gpd.read_file(stdenis_path, layer=\"bdtopo_education\")# toponymie_services_et_activites\n",
    "stdenis = stdenis.to_crs(2154) # 2154 Lambert, 4326 latlon  "
   ]
  },
  {
   "cell_type": "code",
   "execution_count": 11,
   "metadata": {},
   "outputs": [],
   "source": [
    "toiturefull = gpd.read_file(stdenis_path, layer=\"bdtopo_batiment\")# toponymie_services_et_activites\n",
    "toiture_bfull = gpd.read_file(stdenis_path, layer=\"potentielsolaire_bati\")# toponymie_services_et_activites\n",
    "toiture_tfull = gpd.read_file(stdenis_path, layer=\"potentielsolaire_toitures\")# toponymie_services_et_activites\n",
    "toiture_cfull = gpd.read_file(stdenis_path, layer=\"cadastre_parcellaire\")# toponymie_services_et_activites\n",
    "toiturefull = toiturefull.to_crs(2154) # 2154 Lambert, 4326 latlon  \n",
    "toiture_bfull = toiture_bfull.to_crs(2154)\n",
    "toiture_tfull = toiture_tfull.to_crs(2154)\n",
    "toiture_cfull = toiture_cfull.to_crs(2154)"
   ]
  },
  {
   "cell_type": "code",
   "execution_count": null,
   "metadata": {},
   "outputs": [],
   "source": [
    "OnVeutRefaireTousLesToits = True\n",
    "if OnVeutRefaireTousLesToits:\n",
    "    for ID in range(len(stdenis)-1):\n",
    "        example = stdenis[ID:ID+1]\n",
    "        ID = example[\"cleabs_left\"].iloc[0]\n",
    "        NOM = example[\"toponyme\"].iloc[0]\n",
    "        print(ID)\n",
    "\n",
    "        toiture = gpd.sjoin(toiturefull, example, how='inner', predicate='intersects',lsuffix='_li', rsuffix='_ri')\n",
    "        toiture_b = gpd.sjoin(toiture_bfull, example, how='inner', predicate='intersects',lsuffix='_li', rsuffix='_ri')\n",
    "        toiture_t = gpd.sjoin(toiture_tfull, example, how='inner', predicate='intersects',lsuffix='_li', rsuffix='_ri')\n",
    "        toiture_c = gpd.sjoin(toiture_cfull, example, how='inner', predicate='intersects',lsuffix='_li', rsuffix='_ri')\n",
    "        geotiff_cached = \"../data/cache/mns/\"+ID+\".masked.tif\"\n",
    "        try:\n",
    "\n",
    "            if not os.path.isfile(geotiff_cached):\n",
    "                geome = example.geometry.total_bounds\n",
    "                A = \"0\"+str(int(geome[0]//1000))\n",
    "                B = str(int(geome[1]//1000)+1)\n",
    "                tile = \"/MNS-Correl_1-0__TIFF_LAMB93_D093_2024-01-01/MNS-Correl_1-0__TIFF_LAMB93_D093_2024-01-01/MNS-Correl/1_DONNEES_LIVRAISON_2024-11-00179/MNS-C_0M50_TIF_LAMB93_D93-2024/93-2024-\"+A+\"-\"+B+\"-LA93-0M50.tif\"\n",
    "                path = DATA_FOLDER / tile\n",
    "                with rasterio.open(\"../data/\"+str(path)) as img:\n",
    "                    out_image, out_transform = rasterio.mask.mask(img, example.geometry, crop=True)\n",
    "                    out_meta = img.meta\n",
    "                minval = np.min(out_image[np.nonzero(out_image)])\n",
    "                out_image = out_image - minval\n",
    "\n",
    "                out_image = np.where(out_image<0, 0, out_image)\n",
    "                out_meta.update({\"driver\": \"GTiff\",\n",
    "                                \"height\": out_image.shape[1],\n",
    "                                \"width\": out_image.shape[2],\n",
    "                                \"transform\": out_transform})\n",
    "\n",
    "                with rasterio.open(\"../data/cache/mns/\"+ID+\".masked.tif\", \"w\", **out_meta) as dest:\n",
    "                    dest.write(out_image)\n",
    "\n",
    "\n",
    "            geotiff_cached_toits = \"../data/cache/mns/\"+ID+\"_toits.masked.tif\"\n",
    "\n",
    "            if not os.path.isfile(geotiff_cached_toits) or True:\n",
    "                geome = example.geometry.total_bounds\n",
    "                A = \"0\"+str(int(geome[0]//1000))\n",
    "                B = str(int(geome[1]//1000)+1)\n",
    "                tile = \"/MNS-Correl_1-0__TIFF_LAMB93_D093_2024-01-01/MNS-Correl/1_DONNEES_LIVRAISON_2024-11-00179/MNS-C_0M50_TIF_LAMB93_D93-2024/93-2024-\"+A+\"-\"+B+\"-LA93-0M50.tif\"\n",
    "                path = DATA_FOLDER / tile\n",
    "                with rasterio.open(\"../data/\"+str(path)) as img:\n",
    "                    out_image, out_transform = rasterio.mask.mask(img, toiture.geometry, crop=True)\n",
    "                    out_meta = img.meta\n",
    "                minval = np.min(out_image[np.nonzero(out_image)])\n",
    "                out_image = out_image - minval\n",
    "\n",
    "                out_image = np.where(out_image<0, 0, out_image)\n",
    "\n",
    "                MAX = np.percentile(out_image[np.nonzero(out_image)],80)\n",
    "                out_image = np.where(out_image>=MAX, MAX, out_image)\n",
    "\n",
    "                out_meta.update({\"driver\": \"GTiff\",\n",
    "                                \"height\": out_image.shape[1],\n",
    "                                \"width\": out_image.shape[2],\n",
    "                                \"transform\": out_transform})\n",
    "\n",
    "                with rasterio.open(geotiff_cached_toits, \"w\", **out_meta) as dest:\n",
    "                    dest.write(out_image)\n",
    "\n",
    "\n",
    "            img_ecole = rasterio.open(geotiff_cached_toits)\n",
    "\n",
    "            fig, ax = plt.subplots(figsize=(10,10))\n",
    "\n",
    "            show(img_ecole, ax=ax, alpha=0.8)\n",
    "\n",
    "            example.plot(ax=ax, alpha=0.7, linewidth=2, facecolor=\"none\", edgecolor='pink')\n",
    "            # A explorer peut etre: cx.providers.GeoportailFrance \n",
    "            cx.add_basemap(ax, crs=example.crs, alpha=0.6, source=cx.providers.GeoportailFrance.orthos )\n",
    "            toiture_c.plot(ax=ax, alpha=0.7, linewidth=3,facecolor=\"none\", edgecolor='green')\n",
    "            toiture.plot(ax=ax, alpha=0.7, linewidth=4,facecolor=\"none\", edgecolor='red')\n",
    "            toiture_t.plot(ax=ax, alpha=0.7, linewidth=2,facecolor=\"none\", edgecolor='orange')\n",
    "            toiture_b.plot(ax=ax, alpha=0.7, linewidth=3,facecolor=\"none\", edgecolor='yellow')\n",
    "\n",
    "\n",
    "            plt.title(\"Exploitation MNS pour :\"+ NOM+\"\\n\"+ID+\"\\n\")\n",
    "            os.makedirs(\"../data/cache/mns/jpg\", exist_ok=True)\n",
    "            plt.savefig(\"../data/cache/mns/jpg/\"+ID+\".jpg\", bbox_inches='tight')\n",
    "            #fig.show()\n",
    "        except:\n",
    "            print(\"Error with\",ID)"
   ]
  }
 ],
 "metadata": {
  "kernelspec": {
   "display_name": ".venv",
   "language": "python",
   "name": "python3"
  },
  "language_info": {
   "codemirror_mode": {
    "name": "ipython",
    "version": 3
   },
   "file_extension": ".py",
   "mimetype": "text/x-python",
   "name": "python",
   "nbconvert_exporter": "python",
   "pygments_lexer": "ipython3",
   "version": "3.11.0"
  }
 },
 "nbformat": 4,
 "nbformat_minor": 2
}
