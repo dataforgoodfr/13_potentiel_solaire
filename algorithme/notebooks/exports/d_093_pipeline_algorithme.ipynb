{
 "cells": [
  {
   "cell_type": "markdown",
   "id": "0e29a04b",
   "metadata": {
    "tags": [
     "papermill-error-cell-tag"
    ]
   },
   "source": [
    "<span style=\"color:red; font-family:Helvetica Neue, Helvetica, Arial, sans-serif; font-size:2em;\">An Exception was encountered at '<a href=\"#papermill-error-cell\">In [24]</a>'.</span>"
   ]
  },
  {
   "cell_type": "code",
   "execution_count": 1,
   "id": "f1f565b7",
   "metadata": {
    "execution": {
     "iopub.execute_input": "2025-03-09T16:24:28.977955Z",
     "iopub.status.busy": "2025-03-09T16:24:28.977955Z",
     "iopub.status.idle": "2025-03-09T16:24:29.010389Z",
     "shell.execute_reply": "2025-03-09T16:24:29.010389Z"
    },
    "papermill": {
     "duration": 0.038982,
     "end_time": "2025-03-09T16:24:29.011395",
     "exception": false,
     "start_time": "2025-03-09T16:24:28.972413",
     "status": "completed"
    },
    "tags": []
   },
   "outputs": [],
   "source": [
    "%load_ext autoreload\n",
    "%autoreload 2"
   ]
  },
  {
   "cell_type": "markdown",
   "id": "7218350249b1103e",
   "metadata": {
    "papermill": {
     "duration": 0.004005,
     "end_time": "2025-03-09T16:24:29.020377",
     "exception": false,
     "start_time": "2025-03-09T16:24:29.016372",
     "status": "completed"
    },
    "tags": []
   },
   "source": [
    "# Paramètres de la pipeline"
   ]
  },
  {
   "cell_type": "code",
   "execution_count": 2,
   "id": "6358f4912f9f22ab",
   "metadata": {
    "editable": true,
    "execution": {
     "iopub.execute_input": "2025-03-09T16:24:29.027912Z",
     "iopub.status.busy": "2025-03-09T16:24:29.027912Z",
     "iopub.status.idle": "2025-03-09T16:24:29.054915Z",
     "shell.execute_reply": "2025-03-09T16:24:29.054915Z"
    },
    "papermill": {
     "duration": 0.032124,
     "end_time": "2025-03-09T16:24:29.056003",
     "exception": false,
     "start_time": "2025-03-09T16:24:29.023879",
     "status": "completed"
    },
    "slideshow": {
     "slide_type": ""
    },
    "tags": [
     "parameters"
    ]
   },
   "outputs": [],
   "source": [
    "code_departement = \"093\"\n",
    "logs_level = \"WARNING\""
   ]
  },
  {
   "cell_type": "code",
   "execution_count": 3,
   "id": "b908ebab",
   "metadata": {
    "execution": {
     "iopub.execute_input": "2025-03-09T16:24:29.066025Z",
     "iopub.status.busy": "2025-03-09T16:24:29.066025Z",
     "iopub.status.idle": "2025-03-09T16:24:29.093164Z",
     "shell.execute_reply": "2025-03-09T16:24:29.093164Z"
    },
    "papermill": {
     "duration": 0.033164,
     "end_time": "2025-03-09T16:24:29.094168",
     "exception": false,
     "start_time": "2025-03-09T16:24:29.061004",
     "status": "completed"
    },
    "tags": [
     "injected-parameters"
    ]
   },
   "outputs": [],
   "source": [
    "# Parameters\n",
    "code_departement = \"093\"\n",
    "logs_level = \"WARNING\"\n"
   ]
  },
  {
   "cell_type": "markdown",
   "id": "d3a70f3e57e62a7c",
   "metadata": {
    "papermill": {
     "duration": 0.005005,
     "end_time": "2025-03-09T16:24:29.103996",
     "exception": false,
     "start_time": "2025-03-09T16:24:29.098991",
     "status": "completed"
    },
    "tags": []
   },
   "source": [
    "# Imports & setup"
   ]
  },
  {
   "cell_type": "code",
   "execution_count": 4,
   "id": "aa88b759c982f54c",
   "metadata": {
    "execution": {
     "iopub.execute_input": "2025-03-09T16:24:29.112405Z",
     "iopub.status.busy": "2025-03-09T16:24:29.112405Z",
     "iopub.status.idle": "2025-03-09T16:24:30.164901Z",
     "shell.execute_reply": "2025-03-09T16:24:30.164901Z"
    },
    "papermill": {
     "duration": 1.059502,
     "end_time": "2025-03-09T16:24:30.166906",
     "exception": false,
     "start_time": "2025-03-09T16:24:29.107404",
     "status": "completed"
    },
    "tags": []
   },
   "outputs": [
    {
     "name": "stderr",
     "output_type": "stream",
     "text": [
      "2025-03-09 17:24:30,094 - DEBUG - rasterio.session - C:\\Users\\micka\\Projects\\13_potentiel_solaire\\algorithme\\.venv\\Lib\\site-packages\\rasterio\\session.py - <module> - Could not import boto3, continuing with reduced functionality.\n"
     ]
    },
    {
     "name": "stderr",
     "output_type": "stream",
     "text": [
      "2025-03-09 17:24:30,097 - DEBUG - rasterio.env - C:\\Users\\micka\\Projects\\13_potentiel_solaire\\algorithme\\.venv\\Lib\\site-packages\\rasterio\\env.py - <module> - GDAL data found in package: path='C:\\\\Users\\\\micka\\\\Projects\\\\13_potentiel_solaire\\\\algorithme\\\\.venv\\\\Lib\\\\site-packages\\\\rasterio\\\\gdal_data'.\n"
     ]
    },
    {
     "name": "stderr",
     "output_type": "stream",
     "text": [
      "2025-03-09 17:24:30,098 - DEBUG - rasterio.env - C:\\Users\\micka\\Projects\\13_potentiel_solaire\\algorithme\\.venv\\Lib\\site-packages\\rasterio\\env.py - <module> - PROJ data found in package: path='C:\\\\Users\\\\micka\\\\Projects\\\\13_potentiel_solaire\\\\algorithme\\\\.venv\\\\Lib\\\\site-packages\\\\rasterio\\\\proj_data'.\n"
     ]
    }
   ],
   "source": [
    "import geopandas as gpd\n",
    "\n",
    "from potentiel_solaire.attach_buildings_to_schools import attach_buildings_to_schools\n",
    "from potentiel_solaire.constants import DEFAULT_CRS, ALGORITHME_FOLDER, DATA_FOLDER\n",
    "from potentiel_solaire.sources.bd_topo import extract_bd_topo, get_topo_zones_of_interest, \\\n",
    "    get_topo_buildings_of_interest\n",
    "from potentiel_solaire.sources.bd_pci import extract_bd_pci\n",
    "from potentiel_solaire.sources.bd_solar_irradiation import extract_bd_irradiation\n",
    "from potentiel_solaire.sources.schools_establishments import extract_schools_establishments, \\\n",
    "    get_schools_establishments_of_interest\n",
    "from potentiel_solaire.sources.protected_buildings import extract_protected_buildings, get_areas_with_protected_buildings\n",
    "from potentiel_solaire.features.solar_potential import calculate_solar_potential\n",
    "from potentiel_solaire.aggregate import aggregate_solar_potential_by\n",
    "from potentiel_solaire.logger import get_logger\n",
    "\n",
    "logger = get_logger()\n",
    "logger.setLevel(logs_level)"
   ]
  },
  {
   "cell_type": "markdown",
   "id": "a9a9258eef4ab443",
   "metadata": {
    "papermill": {
     "duration": 0.004061,
     "end_time": "2025-03-09T16:24:30.175965",
     "exception": false,
     "start_time": "2025-03-09T16:24:30.171904",
     "status": "completed"
    },
    "tags": []
   },
   "source": [
    "# Extraction des données sources"
   ]
  },
  {
   "cell_type": "markdown",
   "id": "463a1d94816fdbc3",
   "metadata": {
    "papermill": {
     "duration": 0.004394,
     "end_time": "2025-03-09T16:24:30.185357",
     "exception": false,
     "start_time": "2025-03-09T16:24:30.180963",
     "status": "completed"
    },
    "tags": []
   },
   "source": [
    "### Etablissements scolaires"
   ]
  },
  {
   "cell_type": "code",
   "execution_count": 5,
   "id": "7d8bb82fa7db3b7d",
   "metadata": {
    "execution": {
     "iopub.execute_input": "2025-03-09T16:24:30.192927Z",
     "iopub.status.busy": "2025-03-09T16:24:30.192927Z",
     "iopub.status.idle": "2025-03-09T16:24:30.246254Z",
     "shell.execute_reply": "2025-03-09T16:24:30.246254Z"
    },
    "papermill": {
     "duration": 0.058337,
     "end_time": "2025-03-09T16:24:30.247260",
     "exception": false,
     "start_time": "2025-03-09T16:24:30.188923",
     "status": "completed"
    },
    "tags": []
   },
   "outputs": [
    {
     "name": "stdout",
     "output_type": "stream",
     "text": [
      "Annuaire des établissements scolaires extrait ici: C:\\Users\\micka\\Projects\\13_potentiel_solaire\\algorithme\\data\\fr-en-annuaire-education.geojson\n"
     ]
    }
   ],
   "source": [
    "schools_establishments_path = extract_schools_establishments()\n",
    "print(f\"Annuaire des établissements scolaires extrait ici: {schools_establishments_path}\")"
   ]
  },
  {
   "cell_type": "markdown",
   "id": "d24a2e59f349d78c",
   "metadata": {
    "papermill": {
     "duration": 0.004015,
     "end_time": "2025-03-09T16:24:30.254932",
     "exception": false,
     "start_time": "2025-03-09T16:24:30.250917",
     "status": "completed"
    },
    "tags": []
   },
   "source": [
    "### BD TOPO"
   ]
  },
  {
   "cell_type": "code",
   "execution_count": 6,
   "id": "3e8f100f2f53930c",
   "metadata": {
    "execution": {
     "iopub.execute_input": "2025-03-09T16:24:30.263937Z",
     "iopub.status.busy": "2025-03-09T16:24:30.262935Z",
     "iopub.status.idle": "2025-03-09T16:24:30.319108Z",
     "shell.execute_reply": "2025-03-09T16:24:30.319108Z"
    },
    "papermill": {
     "duration": 0.061178,
     "end_time": "2025-03-09T16:24:30.320113",
     "exception": false,
     "start_time": "2025-03-09T16:24:30.258935",
     "status": "completed"
    },
    "tags": []
   },
   "outputs": [
    {
     "name": "stdout",
     "output_type": "stream",
     "text": [
      "BD TOPO extraite ici: C:\\Users\\micka\\Projects\\13_potentiel_solaire\\algorithme\\data\\BDTOPO_3-4_TOUSTHEMES_GPKG_LAMB93_D093_2024-12-15\\BDTOPO\\1_DONNEES_LIVRAISON_2024-12-00134\\BDT_3-4_GPKG_LAMB93_D093-ED2024-12-15\\BDT_3-4_GPKG_LAMB93_D093-ED2024-12-15.gpkg\n"
     ]
    }
   ],
   "source": [
    "bd_topo_path = extract_bd_topo(code_departement=code_departement)\n",
    "print(f\"BD TOPO extraite ici: {bd_topo_path}\")"
   ]
  },
  {
   "cell_type": "markdown",
   "id": "18355b4d87ca074a",
   "metadata": {
    "papermill": {
     "duration": 0.004269,
     "end_time": "2025-03-09T16:24:30.328381",
     "exception": false,
     "start_time": "2025-03-09T16:24:30.324112",
     "status": "completed"
    },
    "tags": []
   },
   "source": []
  },
  {
   "cell_type": "markdown",
   "id": "c26ed5544663d238",
   "metadata": {
    "papermill": {
     "duration": 0.004509,
     "end_time": "2025-03-09T16:24:30.336892",
     "exception": false,
     "start_time": "2025-03-09T16:24:30.332383",
     "status": "completed"
    },
    "tags": []
   },
   "source": [
    "### BD PCI"
   ]
  },
  {
   "cell_type": "code",
   "execution_count": 7,
   "id": "f22aa57125e42448",
   "metadata": {
    "execution": {
     "iopub.execute_input": "2025-03-09T16:24:30.344908Z",
     "iopub.status.busy": "2025-03-09T16:24:30.344908Z",
     "iopub.status.idle": "2025-03-09T16:24:30.400727Z",
     "shell.execute_reply": "2025-03-09T16:24:30.400727Z"
    },
    "papermill": {
     "duration": 0.061838,
     "end_time": "2025-03-09T16:24:30.401731",
     "exception": false,
     "start_time": "2025-03-09T16:24:30.339893",
     "status": "completed"
    },
    "tags": []
   },
   "outputs": [
    {
     "name": "stdout",
     "output_type": "stream",
     "text": [
      "BD PCI extraite ici: C:\\Users\\micka\\Projects\\13_potentiel_solaire\\algorithme\\data\\PARCELLAIRE-EXPRESS_1-1__SHP_LAMB93_D093_2025-01-01\\PARCELLAIRE-EXPRESS\\1_DONNEES_LIVRAISON_2025-03-00057\\PEPCI_1-1_SHP_LAMB93_D093\\BATIMENT.SHP\n"
     ]
    }
   ],
   "source": [
    "bd_pci_path = extract_bd_pci(code_departement=code_departement)\n",
    "print(f\"BD PCI extraite ici: {bd_pci_path}\")"
   ]
  },
  {
   "cell_type": "markdown",
   "id": "a944bdd9d0c61e1",
   "metadata": {
    "papermill": {
     "duration": 0.004002,
     "end_time": "2025-03-09T16:24:30.409746",
     "exception": false,
     "start_time": "2025-03-09T16:24:30.405744",
     "status": "completed"
    },
    "tags": []
   },
   "source": [
    "### BD IRRADIATION"
   ]
  },
  {
   "cell_type": "code",
   "execution_count": 8,
   "id": "416cb349beec3928",
   "metadata": {
    "execution": {
     "iopub.execute_input": "2025-03-09T16:24:30.418899Z",
     "iopub.status.busy": "2025-03-09T16:24:30.418899Z",
     "iopub.status.idle": "2025-03-09T16:24:30.472452Z",
     "shell.execute_reply": "2025-03-09T16:24:30.472452Z"
    },
    "papermill": {
     "duration": 0.059716,
     "end_time": "2025-03-09T16:24:30.473965",
     "exception": false,
     "start_time": "2025-03-09T16:24:30.414249",
     "status": "completed"
    },
    "tags": []
   },
   "outputs": [
    {
     "name": "stdout",
     "output_type": "stream",
     "text": [
      "BD irradiation extraite ici: C:\\Users\\micka\\Projects\\13_potentiel_solaire\\algorithme\\data\\ENR_1-0_IRR-SOL_TIFF_WGS84G_FXX_2023-10-01\\1_DONNEES_LIVRAISON\\GlobalHorizontalIrradiation.tif\n"
     ]
    }
   ],
   "source": [
    "bd_irradiation_path = extract_bd_irradiation()\n",
    "print(f\"BD irradiation extraite ici: {bd_irradiation_path}\")"
   ]
  },
  {
   "cell_type": "markdown",
   "id": "5d3c5337",
   "metadata": {
    "papermill": {
     "duration": 0.004189,
     "end_time": "2025-03-09T16:24:30.482042",
     "exception": false,
     "start_time": "2025-03-09T16:24:30.477853",
     "status": "completed"
    },
    "tags": []
   },
   "source": [
    "### BD Protected Buildings"
   ]
  },
  {
   "cell_type": "code",
   "execution_count": 9,
   "id": "1786941c",
   "metadata": {
    "execution": {
     "iopub.execute_input": "2025-03-09T16:24:30.493065Z",
     "iopub.status.busy": "2025-03-09T16:24:30.493065Z",
     "iopub.status.idle": "2025-03-09T16:24:54.206412Z",
     "shell.execute_reply": "2025-03-09T16:24:54.206412Z"
    },
    "papermill": {
     "duration": 23.720353,
     "end_time": "2025-03-09T16:24:54.207418",
     "exception": false,
     "start_time": "2025-03-09T16:24:30.487065",
     "status": "completed"
    },
    "tags": []
   },
   "outputs": [
    {
     "name": "stderr",
     "output_type": "stream",
     "text": [
      "2025-03-09 17:24:49,220 - WARNING - pyogrio._io - C:\\Users\\micka\\Projects\\13_potentiel_solaire\\algorithme\\.venv\\Lib\\site-packages\\pyogrio\\raw.py - read - Skipping field cog_insee_lors_de_la_protection: unsupported OGR type: 5\n"
     ]
    },
    {
     "name": "stderr",
     "output_type": "stream",
     "text": [
      "2025-03-09 17:24:49,221 - WARNING - pyogrio._io - C:\\Users\\micka\\Projects\\13_potentiel_solaire\\algorithme\\.venv\\Lib\\site-packages\\pyogrio\\raw.py - read - Skipping field region: unsupported OGR type: 5\n"
     ]
    },
    {
     "name": "stderr",
     "output_type": "stream",
     "text": [
      "2025-03-09 17:24:49,221 - WARNING - pyogrio._io - C:\\Users\\micka\\Projects\\13_potentiel_solaire\\algorithme\\.venv\\Lib\\site-packages\\pyogrio\\raw.py - read - Skipping field departement_en_lettres: unsupported OGR type: 5\n"
     ]
    },
    {
     "name": "stdout",
     "output_type": "stream",
     "text": [
      "BD des bâtiments protégés extraite ici: C:\\Users\\micka\\Projects\\13_potentiel_solaire\\algorithme\\data/liste_immeubles_proteges.geojson\n"
     ]
    }
   ],
   "source": [
    "bd_protected_buildings_path = extract_protected_buildings()\n",
    "print(f\"BD des bâtiments protégés extraite ici: {bd_protected_buildings_path}\")"
   ]
  },
  {
   "cell_type": "markdown",
   "id": "b315616c8a49a102",
   "metadata": {
    "papermill": {
     "duration": 0.004022,
     "end_time": "2025-03-09T16:24:54.216069",
     "exception": false,
     "start_time": "2025-03-09T16:24:54.212047",
     "status": "completed"
    },
    "tags": []
   },
   "source": [
    "# Filtre des données sur le périmètre du calcul"
   ]
  },
  {
   "cell_type": "markdown",
   "id": "8141e3850bdde72d",
   "metadata": {
    "papermill": {
     "duration": 0.004,
     "end_time": "2025-03-09T16:24:54.224068",
     "exception": false,
     "start_time": "2025-03-09T16:24:54.220068",
     "status": "completed"
    },
    "tags": []
   },
   "source": [
    "### Etablissements scolaires\n"
   ]
  },
  {
   "cell_type": "code",
   "execution_count": 10,
   "id": "8c2714f479cce131",
   "metadata": {
    "execution": {
     "iopub.execute_input": "2025-03-09T16:24:54.234092Z",
     "iopub.status.busy": "2025-03-09T16:24:54.233095Z",
     "iopub.status.idle": "2025-03-09T16:25:01.717575Z",
     "shell.execute_reply": "2025-03-09T16:25:01.717575Z"
    },
    "papermill": {
     "duration": 7.490489,
     "end_time": "2025-03-09T16:25:01.718580",
     "exception": false,
     "start_time": "2025-03-09T16:24:54.228091",
     "status": "completed"
    },
    "tags": []
   },
   "outputs": [
    {
     "name": "stdout",
     "output_type": "stream",
     "text": [
      "Nb d'établissements scolaires: 1130\n"
     ]
    }
   ],
   "source": [
    "schools_establishments = get_schools_establishments_of_interest(\n",
    "    schools_filepath=schools_establishments_path,\n",
    "    code_departement=code_departement,\n",
    "    types_etablissements=['Ecole', 'Lycée', 'Collège'],\n",
    "    statut_public_prive=\"Public\",\n",
    "    etat=\"OUVERT\",\n",
    "    crs=DEFAULT_CRS\n",
    ")\n",
    "nb_schools = schools_establishments.shape[0]\n",
    "print(f\"Nb d'établissements scolaires: {nb_schools}\")"
   ]
  },
  {
   "cell_type": "markdown",
   "id": "6a7c50bff2a4dcab",
   "metadata": {
    "papermill": {
     "duration": 0.004732,
     "end_time": "2025-03-09T16:25:01.727311",
     "exception": false,
     "start_time": "2025-03-09T16:25:01.722579",
     "status": "completed"
    },
    "tags": []
   },
   "source": [
    "### Zone d'intérêt géographique"
   ]
  },
  {
   "cell_type": "code",
   "execution_count": 11,
   "id": "90227f344c76c3d6",
   "metadata": {
    "execution": {
     "iopub.execute_input": "2025-03-09T16:25:01.736329Z",
     "iopub.status.busy": "2025-03-09T16:25:01.736329Z",
     "iopub.status.idle": "2025-03-09T16:25:01.869995Z",
     "shell.execute_reply": "2025-03-09T16:25:01.869995Z"
    },
    "papermill": {
     "duration": 0.139688,
     "end_time": "2025-03-09T16:25:01.870999",
     "exception": false,
     "start_time": "2025-03-09T16:25:01.731311",
     "status": "completed"
    },
    "tags": []
   },
   "outputs": [],
   "source": [
    "codes_commune = schools_establishments[\"code_commune\"].unique()\n",
    "communes = gpd.read_file(bd_topo_path, layer=\"commune\").to_crs(DEFAULT_CRS)\n",
    "communes = communes[communes.code_insee.isin(codes_commune)]\n",
    "geom_of_interest = communes.dissolve()[[\"geometry\"]]"
   ]
  },
  {
   "cell_type": "markdown",
   "id": "ed36d1f4a8ff139d",
   "metadata": {
    "papermill": {
     "duration": 0.004,
     "end_time": "2025-03-09T16:25:01.880015",
     "exception": false,
     "start_time": "2025-03-09T16:25:01.876015",
     "status": "completed"
    },
    "tags": []
   },
   "source": [
    "### Zones d'éducations"
   ]
  },
  {
   "cell_type": "code",
   "execution_count": 12,
   "id": "62c98433be3c4844",
   "metadata": {
    "execution": {
     "iopub.execute_input": "2025-03-09T16:25:01.889675Z",
     "iopub.status.busy": "2025-03-09T16:25:01.889675Z",
     "iopub.status.idle": "2025-03-09T16:25:02.248088Z",
     "shell.execute_reply": "2025-03-09T16:25:02.247620Z"
    },
    "papermill": {
     "duration": 0.363568,
     "end_time": "2025-03-09T16:25:02.248088",
     "exception": false,
     "start_time": "2025-03-09T16:25:01.884520",
     "status": "completed"
    },
    "tags": []
   },
   "outputs": [
    {
     "name": "stderr",
     "output_type": "stream",
     "text": [
      "C:\\Users\\micka\\Projects\\13_potentiel_solaire\\algorithme\\.venv\\Lib\\site-packages\\pyogrio\\core.py:279: RuntimeWarning: Field format 'character varying' not supported\n",
      "  return ogr_read_info(\n",
      "C:\\Users\\micka\\Projects\\13_potentiel_solaire\\algorithme\\.venv\\Lib\\site-packages\\pyogrio\\core.py:279: RuntimeWarning: Field format 'character varying(256)' not supported\n",
      "  return ogr_read_info(\n",
      "C:\\Users\\micka\\Projects\\13_potentiel_solaire\\algorithme\\.venv\\Lib\\site-packages\\pyogrio\\core.py:279: RuntimeWarning: Field format 'character varying(30)' not supported\n",
      "  return ogr_read_info(\n",
      "C:\\Users\\micka\\Projects\\13_potentiel_solaire\\algorithme\\.venv\\Lib\\site-packages\\pyogrio\\core.py:279: RuntimeWarning: Field format 'timestamp with time zone' not supported\n",
      "  return ogr_read_info(\n",
      "C:\\Users\\micka\\Projects\\13_potentiel_solaire\\algorithme\\.venv\\Lib\\site-packages\\geopandas\\io\\file.py:497: UserWarning: More than one layer found in 'BDT_3-4_GPKG_LAMB93_D093-ED2024-12-15.gpkg': 'troncon_de_route' (default), 'route_numerotee_ou_nommee', 'itineraire_autre', 'troncon_de_voie_ferree', 'equipement_de_transport', 'piste_d_aerodrome', 'aerodrome', 'point_de_repere', 'non_communication', 'point_du_reseau', 'voie_ferree_nommee', 'toponymie_transport', 'batiment', 'cimetiere', 'construction_lineaire', 'construction_ponctuelle', 'construction_surfacique', 'reservoir', 'ligne_orographique', 'pylone', 'terrain_de_sport', 'toponymie_bati', 'cours_d_eau', 'troncon_hydrographique', 'bassin_versant_topographique', 'plan_d_eau', 'surface_hydrographique', 'noeud_hydrographique', 'detail_hydrographique', 'toponymie_hydrographie', 'zone_d_habitation', 'lieu_dit_non_habite', 'detail_orographique', 'toponymie_lieux_nommes', 'canalisation', 'ligne_electrique', 'poste_de_transformation', 'erp', 'zone_d_activite_ou_d_interet', 'toponymie_services_et_activites', 'voie_nommee', 'parc_ou_reserve', 'foret_publique', 'toponymie_zones_reglementees', 'haie', 'zone_de_vegetation', 'arrondissement', 'arrondissement_municipal', 'commune', 'epci', 'collectivite_territoriale', 'departement', 'region', 'adresse_ban', 'batiment_rnb_lien_bdtopo', 'lien_adresse_vers_bdtopo', 'section_de_points_de_repere', 'info_metadonnees', 'metadonnees_lot', 'metadonnees_theme', 'layer_styles'. Specify layer parameter to avoid this warning.\n",
      "  crs = pyogrio.read_info(path_or_bytes).get(\"crs\")\n"
     ]
    },
    {
     "name": "stdout",
     "output_type": "stream",
     "text": [
      "Nb de zones d'éducations:  1088\n"
     ]
    }
   ],
   "source": [
    "educational_zones = get_topo_zones_of_interest(\n",
    "    bd_topo_path=bd_topo_path,\n",
    "    geom_of_interest=geom_of_interest,\n",
    "    categories=[\"Science et enseignement\"],\n",
    "    natures=['Collège', 'Lycée', 'Enseignement primaire'],\n",
    "    crs=DEFAULT_CRS\n",
    ")\n",
    "nb_educational_zones = educational_zones.shape[0]\n",
    "print(\"Nb de zones d'éducations: \", nb_educational_zones)"
   ]
  },
  {
   "cell_type": "markdown",
   "id": "50d92236b74ff088",
   "metadata": {
    "papermill": {
     "duration": 0.004114,
     "end_time": "2025-03-09T16:25:02.257187",
     "exception": false,
     "start_time": "2025-03-09T16:25:02.253073",
     "status": "completed"
    },
    "tags": []
   },
   "source": [
    "### Bâtiments"
   ]
  },
  {
   "cell_type": "code",
   "execution_count": 13,
   "id": "b092bb4fd4942b",
   "metadata": {
    "execution": {
     "iopub.execute_input": "2025-03-09T16:25:02.267205Z",
     "iopub.status.busy": "2025-03-09T16:25:02.266200Z",
     "iopub.status.idle": "2025-03-09T16:25:15.132555Z",
     "shell.execute_reply": "2025-03-09T16:25:15.132555Z"
    },
    "papermill": {
     "duration": 12.872873,
     "end_time": "2025-03-09T16:25:15.134060",
     "exception": false,
     "start_time": "2025-03-09T16:25:02.261187",
     "status": "completed"
    },
    "tags": []
   },
   "outputs": [
    {
     "name": "stderr",
     "output_type": "stream",
     "text": [
      "C:\\Users\\micka\\Projects\\13_potentiel_solaire\\algorithme\\.venv\\Lib\\site-packages\\pyogrio\\core.py:279: RuntimeWarning: Field format 'character varying' not supported\n",
      "  return ogr_read_info(\n",
      "C:\\Users\\micka\\Projects\\13_potentiel_solaire\\algorithme\\.venv\\Lib\\site-packages\\pyogrio\\core.py:279: RuntimeWarning: Field format 'character varying(256)' not supported\n",
      "  return ogr_read_info(\n",
      "C:\\Users\\micka\\Projects\\13_potentiel_solaire\\algorithme\\.venv\\Lib\\site-packages\\pyogrio\\core.py:279: RuntimeWarning: Field format 'character varying(30)' not supported\n",
      "  return ogr_read_info(\n",
      "C:\\Users\\micka\\Projects\\13_potentiel_solaire\\algorithme\\.venv\\Lib\\site-packages\\pyogrio\\core.py:279: RuntimeWarning: Field format 'timestamp with time zone' not supported\n",
      "  return ogr_read_info(\n",
      "C:\\Users\\micka\\Projects\\13_potentiel_solaire\\algorithme\\.venv\\Lib\\site-packages\\geopandas\\io\\file.py:497: UserWarning: More than one layer found in 'BDT_3-4_GPKG_LAMB93_D093-ED2024-12-15.gpkg': 'troncon_de_route' (default), 'route_numerotee_ou_nommee', 'itineraire_autre', 'troncon_de_voie_ferree', 'equipement_de_transport', 'piste_d_aerodrome', 'aerodrome', 'point_de_repere', 'non_communication', 'point_du_reseau', 'voie_ferree_nommee', 'toponymie_transport', 'batiment', 'cimetiere', 'construction_lineaire', 'construction_ponctuelle', 'construction_surfacique', 'reservoir', 'ligne_orographique', 'pylone', 'terrain_de_sport', 'toponymie_bati', 'cours_d_eau', 'troncon_hydrographique', 'bassin_versant_topographique', 'plan_d_eau', 'surface_hydrographique', 'noeud_hydrographique', 'detail_hydrographique', 'toponymie_hydrographie', 'zone_d_habitation', 'lieu_dit_non_habite', 'detail_orographique', 'toponymie_lieux_nommes', 'canalisation', 'ligne_electrique', 'poste_de_transformation', 'erp', 'zone_d_activite_ou_d_interet', 'toponymie_services_et_activites', 'voie_nommee', 'parc_ou_reserve', 'foret_publique', 'toponymie_zones_reglementees', 'haie', 'zone_de_vegetation', 'arrondissement', 'arrondissement_municipal', 'commune', 'epci', 'collectivite_territoriale', 'departement', 'region', 'adresse_ban', 'batiment_rnb_lien_bdtopo', 'lien_adresse_vers_bdtopo', 'section_de_points_de_repere', 'info_metadonnees', 'metadonnees_lot', 'metadonnees_theme', 'layer_styles'. Specify layer parameter to avoid this warning.\n",
      "  crs = pyogrio.read_info(path_or_bytes).get(\"crs\")\n"
     ]
    },
    {
     "name": "stdout",
     "output_type": "stream",
     "text": [
      "Nb de batiments:  351576\n"
     ]
    }
   ],
   "source": [
    "# TODO : ajout des batiments manquants avec la BD PCI\n",
    "buildings = get_topo_buildings_of_interest(\n",
    "    bd_topo_path=bd_topo_path,\n",
    "    geom_of_interest=geom_of_interest,\n",
    "    crs=DEFAULT_CRS\n",
    ")\n",
    "nb_buildings = buildings.shape[0]\n",
    "print(\"Nb de batiments: \", nb_buildings)"
   ]
  },
  {
   "cell_type": "markdown",
   "id": "176817ac7bffea59",
   "metadata": {
    "papermill": {
     "duration": 0.004293,
     "end_time": "2025-03-09T16:25:15.142285",
     "exception": false,
     "start_time": "2025-03-09T16:25:15.137992",
     "status": "completed"
    },
    "tags": []
   },
   "source": [
    "### Zones avec des bâtiments protégés"
   ]
  },
  {
   "cell_type": "code",
   "execution_count": 14,
   "id": "6d9accb3a3076291",
   "metadata": {
    "execution": {
     "iopub.execute_input": "2025-03-09T16:25:15.152297Z",
     "iopub.status.busy": "2025-03-09T16:25:15.152297Z",
     "iopub.status.idle": "2025-03-09T16:25:15.905490Z",
     "shell.execute_reply": "2025-03-09T16:25:15.905490Z"
    },
    "papermill": {
     "duration": 0.759199,
     "end_time": "2025-03-09T16:25:15.906496",
     "exception": false,
     "start_time": "2025-03-09T16:25:15.147297",
     "status": "completed"
    },
    "tags": []
   },
   "outputs": [],
   "source": [
    "areas_with_protected_buildings = get_areas_with_protected_buildings(\n",
    "    bd_protected_buildings_path=bd_protected_buildings_path,\n",
    "    geom_of_interest=geom_of_interest,\n",
    "    crs=DEFAULT_CRS\n",
    ")"
   ]
  },
  {
   "cell_type": "markdown",
   "id": "129b67af5c421e52",
   "metadata": {
    "papermill": {
     "duration": 0.005017,
     "end_time": "2025-03-09T16:25:15.916511",
     "exception": false,
     "start_time": "2025-03-09T16:25:15.911494",
     "status": "completed"
    },
    "tags": []
   },
   "source": [
    "# Détermination des bâtiments scolaires"
   ]
  },
  {
   "cell_type": "code",
   "execution_count": 15,
   "id": "f164fcc395a85eeb",
   "metadata": {
    "execution": {
     "iopub.execute_input": "2025-03-09T16:25:15.925981Z",
     "iopub.status.busy": "2025-03-09T16:25:15.925981Z",
     "iopub.status.idle": "2025-03-09T16:25:16.527107Z",
     "shell.execute_reply": "2025-03-09T16:25:16.527107Z"
    },
    "papermill": {
     "duration": 0.607249,
     "end_time": "2025-03-09T16:25:16.528219",
     "exception": false,
     "start_time": "2025-03-09T16:25:15.920970",
     "status": "completed"
    },
    "tags": []
   },
   "outputs": [
    {
     "name": "stderr",
     "output_type": "stream",
     "text": [
      "C:\\Users\\micka\\Projects\\13_potentiel_solaire\\algorithme\\.venv\\Lib\\site-packages\\geopandas\\array.py:403: UserWarning: Geometry is in a geographic CRS. Results from 'sjoin_nearest' are likely incorrect. Use 'GeoSeries.to_crs()' to re-project geometries to a projected CRS before this operation.\n",
      "\n",
      "  warnings.warn(\n"
     ]
    },
    {
     "name": "stdout",
     "output_type": "stream",
     "text": [
      "Nb de batiments scolaires:  3731\n"
     ]
    }
   ],
   "source": [
    "schools_buildings = attach_buildings_to_schools(\n",
    "    schools_establishments=schools_establishments,\n",
    "    educational_zones=educational_zones,\n",
    "    buildings=buildings\n",
    ")\n",
    "nb_schools_buildings = schools_buildings.shape[0]\n",
    "print(\"Nb de batiments scolaires: \", nb_schools_buildings)"
   ]
  },
  {
   "cell_type": "markdown",
   "id": "25094a9970938a7d",
   "metadata": {
    "papermill": {
     "duration": 0.005024,
     "end_time": "2025-03-09T16:25:16.538243",
     "exception": false,
     "start_time": "2025-03-09T16:25:16.533219",
     "status": "completed"
    },
    "tags": []
   },
   "source": [
    "# Calcul des attributs utiles pour le potentiel solaire"
   ]
  },
  {
   "cell_type": "code",
   "execution_count": 16,
   "id": "c0cf2ab1980a4b17",
   "metadata": {
    "execution": {
     "iopub.execute_input": "2025-03-09T16:25:16.547908Z",
     "iopub.status.busy": "2025-03-09T16:25:16.547908Z",
     "iopub.status.idle": "2025-03-09T16:25:50.066298Z",
     "shell.execute_reply": "2025-03-09T16:25:50.066298Z"
    },
    "papermill": {
     "duration": 33.524412,
     "end_time": "2025-03-09T16:25:50.067303",
     "exception": false,
     "start_time": "2025-03-09T16:25:16.542891",
     "status": "completed"
    },
    "tags": []
   },
   "outputs": [],
   "source": [
    "# TODO: v0 seulement à ce stade\n",
    "solar_potential_of_schools_buildings = calculate_solar_potential(\n",
    "    schools_buildings=schools_buildings,\n",
    "    bd_irradiation_path=bd_irradiation_path,\n",
    "    areas_with_protected_buildings=areas_with_protected_buildings\n",
    ")"
   ]
  },
  {
   "cell_type": "markdown",
   "id": "122f28cb4df0c233",
   "metadata": {
    "papermill": {
     "duration": 0.005014,
     "end_time": "2025-03-09T16:25:50.077315",
     "exception": false,
     "start_time": "2025-03-09T16:25:50.072301",
     "status": "completed"
    },
    "tags": []
   },
   "source": [
    "# Dump des donnees pour analyses"
   ]
  },
  {
   "cell_type": "code",
   "execution_count": 17,
   "id": "ec6bfaba919117a6",
   "metadata": {
    "execution": {
     "iopub.execute_input": "2025-03-09T16:25:50.087167Z",
     "iopub.status.busy": "2025-03-09T16:25:50.086168Z",
     "iopub.status.idle": "2025-03-09T16:25:51.068840Z",
     "shell.execute_reply": "2025-03-09T16:25:51.068840Z"
    },
    "papermill": {
     "duration": 0.988213,
     "end_time": "2025-03-09T16:25:51.069845",
     "exception": false,
     "start_time": "2025-03-09T16:25:50.081632",
     "status": "completed"
    },
    "tags": []
   },
   "outputs": [],
   "source": [
    "solar_potential_of_schools_buildings[\"zone_pour_rayonnement_solaire\"] = solar_potential_of_schools_buildings[\"zone_pour_rayonnement_solaire\"].to_wkt()\n",
    "\n",
    "layers = [\"schools_establishments\", \"educational_zones\", \"schools_buildings\", \"solar_potential_of_schools_buildings\"]\n",
    "gdfs = [schools_establishments, educational_zones, schools_buildings, solar_potential_of_schools_buildings]\n",
    "\n",
    "for layer, gdf in zip(layers, gdfs):\n",
    "    output_gpkg = DATA_FOLDER / f\"{code_departement}_pipeline_results.gpkg\"\n",
    "    gdf.to_file(output_gpkg, layer=layer, driver=\"GPKG\")"
   ]
  },
  {
   "cell_type": "markdown",
   "id": "363dff224bfb7766",
   "metadata": {
    "papermill": {
     "duration": 0.005506,
     "end_time": "2025-03-09T16:25:51.080858",
     "exception": false,
     "start_time": "2025-03-09T16:25:51.075352",
     "status": "completed"
    },
    "tags": []
   },
   "source": [
    "# Checks sur la qualité des données & calculs"
   ]
  },
  {
   "cell_type": "code",
   "execution_count": 18,
   "id": "46d41149e1faf14f",
   "metadata": {
    "execution": {
     "iopub.execute_input": "2025-03-09T16:25:51.091883Z",
     "iopub.status.busy": "2025-03-09T16:25:51.090884Z",
     "iopub.status.idle": "2025-03-09T16:25:51.144080Z",
     "shell.execute_reply": "2025-03-09T16:25:51.144080Z"
    },
    "papermill": {
     "duration": 0.059202,
     "end_time": "2025-03-09T16:25:51.145086",
     "exception": false,
     "start_time": "2025-03-09T16:25:51.085884",
     "status": "completed"
    },
    "tags": []
   },
   "outputs": [
    {
     "name": "stdout",
     "output_type": "stream",
     "text": [
      "Nb d'établissements scolaires avec des batiments: 445 (39%)\n"
     ]
    }
   ],
   "source": [
    "nb_schools_with_buildings = len(schools_buildings.identifiant_de_l_etablissement.unique())\n",
    "print(\"Nb d'établissements scolaires avec des batiments: {} ({}%)\".format(\n",
    "    nb_schools_with_buildings,\n",
    "    round(100 * nb_schools_with_buildings / nb_schools)\n",
    "))"
   ]
  },
  {
   "cell_type": "code",
   "execution_count": 19,
   "id": "3ba0c93b8e8c53da",
   "metadata": {
    "execution": {
     "iopub.execute_input": "2025-03-09T16:25:51.155557Z",
     "iopub.status.busy": "2025-03-09T16:25:51.155557Z",
     "iopub.status.idle": "2025-03-09T16:25:51.207852Z",
     "shell.execute_reply": "2025-03-09T16:25:51.207852Z"
    },
    "papermill": {
     "duration": 0.058304,
     "end_time": "2025-03-09T16:25:51.208424",
     "exception": false,
     "start_time": "2025-03-09T16:25:51.150120",
     "status": "completed"
    },
    "tags": []
   },
   "outputs": [
    {
     "name": "stdout",
     "output_type": "stream",
     "text": [
      "Nb de batiments protégés 1093 (29.30%)\n"
     ]
    }
   ],
   "source": [
    "nb_buildings_protected = solar_potential_of_schools_buildings[solar_potential_of_schools_buildings.protection].shape[0]\n",
    "print(f\"Nb de batiments protégés {nb_buildings_protected} ({100*nb_buildings_protected/nb_schools_buildings:.2f}%)\")"
   ]
  },
  {
   "cell_type": "markdown",
   "id": "9b78aec5982e6099",
   "metadata": {
    "papermill": {
     "duration": 0.005086,
     "end_time": "2025-03-09T16:25:51.219292",
     "exception": false,
     "start_time": "2025-03-09T16:25:51.214206",
     "status": "completed"
    },
    "tags": []
   },
   "source": [
    "# Aggrégations"
   ]
  },
  {
   "cell_type": "markdown",
   "id": "c031864081bf3adb",
   "metadata": {
    "papermill": {
     "duration": 0.004153,
     "end_time": "2025-03-09T16:25:51.228949",
     "exception": false,
     "start_time": "2025-03-09T16:25:51.224796",
     "status": "completed"
    },
    "tags": []
   },
   "source": [
    "### Par établissement scolaire"
   ]
  },
  {
   "cell_type": "code",
   "execution_count": 20,
   "id": "c469e5829a888e0a",
   "metadata": {
    "execution": {
     "iopub.execute_input": "2025-03-09T16:25:51.238986Z",
     "iopub.status.busy": "2025-03-09T16:25:51.238986Z",
     "iopub.status.idle": "2025-03-09T16:25:51.316272Z",
     "shell.execute_reply": "2025-03-09T16:25:51.316272Z"
    },
    "papermill": {
     "duration": 0.084324,
     "end_time": "2025-03-09T16:25:51.317280",
     "exception": false,
     "start_time": "2025-03-09T16:25:51.232956",
     "status": "completed"
    },
    "tags": []
   },
   "outputs": [
    {
     "name": "stdout",
     "output_type": "stream",
     "text": [
      "  identifiant_de_l_etablissement              nom_etablissement  \\\n",
      "0                       0930836D  Ecole élémentaire Ambourget 2   \n",
      "1                       0930836D  Ecole élémentaire Ambourget 2   \n",
      "2                       0930836D  Ecole élémentaire Ambourget 2   \n",
      "3                       0930836D  Ecole élémentaire Ambourget 2   \n",
      "4                       0930836D  Ecole élémentaire Ambourget 2   \n",
      "\n",
      "  type_etablissement               libelle_nature statut_public_prive  \\\n",
      "0              Ecole  ECOLE DE NIVEAU ELEMENTAIRE              Public   \n",
      "1              Ecole  ECOLE DE NIVEAU ELEMENTAIRE              Public   \n",
      "2              Ecole  ECOLE DE NIVEAU ELEMENTAIRE              Public   \n",
      "3              Ecole  ECOLE DE NIVEAU ELEMENTAIRE              Public   \n",
      "4              Ecole  ECOLE DE NIVEAU ELEMENTAIRE              Public   \n",
      "\n",
      "  code_commune       nom_commune code_departement libelle_departement  \\\n",
      "0        93005  Aulnay-sous-Bois              093   Seine-Saint-Denis   \n",
      "1        93005  Aulnay-sous-Bois              093   Seine-Saint-Denis   \n",
      "2        93005  Aulnay-sous-Bois              093   Seine-Saint-Denis   \n",
      "3        93005  Aulnay-sous-Bois              093   Seine-Saint-Denis   \n",
      "4        93005  Aulnay-sous-Bois              093   Seine-Saint-Denis   \n",
      "\n",
      "  code_region  ...               cleabs_zone                categorie  \\\n",
      "0          11  ...  SURFACTI0000000002555525  Science et enseignement   \n",
      "1          11  ...  SURFACTI0000000002555525  Science et enseignement   \n",
      "2          11  ...  SURFACTI0000000002555525  Science et enseignement   \n",
      "3          11  ...  SURFACTI0000000002555525  Science et enseignement   \n",
      "4          11  ...  SURFACTI0000000002555525  Science et enseignement   \n",
      "\n",
      "                  nature                     toponyme surface_totale_au_sol  \\\n",
      "0  Enseignement primaire  École Élémentaire Ambourget             62.354980   \n",
      "1  Enseignement primaire  École Élémentaire Ambourget            136.965921   \n",
      "2  Enseignement primaire  École Élémentaire Ambourget            337.611853   \n",
      "3  Enseignement primaire  École Élémentaire Ambourget            439.208917   \n",
      "4  Enseignement primaire  École Élémentaire Ambourget            158.847529   \n",
      "\n",
      "                       zone_pour_rayonnement_solaire  surface_utile  \\\n",
      "0  POLYGON ((2.508382 48.971335, 2.50852 48.97134...       0.000000   \n",
      "1  POLYGON ((2.509256 48.971595, 2.509274 48.9715...      28.893957   \n",
      "2  POLYGON ((2.52997 48.952159, 2.529973 48.95214...      76.640912   \n",
      "3  POLYGON ((2.489285 48.944681, 2.489093 48.9469...     103.274141   \n",
      "4  POLYGON ((2.509089 48.972065, 2.509436 48.9720...      33.788109   \n",
      "\n",
      "  rayonnement_solaire  potentiel_solaire protection  \n",
      "0         1145.372559           0.000000      False  \n",
      "1         1145.388428        3309.480428      False  \n",
      "2         1145.400513        8778.453943      False  \n",
      "3         1145.413696       11829.161595      False  \n",
      "4         1145.424194        3870.171734      False  \n",
      "\n",
      "[5 rows x 29 columns]\n"
     ]
    },
    {
     "data": {
      "text/html": [
       "<div>\n",
       "<style scoped>\n",
       "    .dataframe tbody tr th:only-of-type {\n",
       "        vertical-align: middle;\n",
       "    }\n",
       "\n",
       "    .dataframe tbody tr th {\n",
       "        vertical-align: top;\n",
       "    }\n",
       "\n",
       "    .dataframe thead th {\n",
       "        text-align: right;\n",
       "    }\n",
       "</style>\n",
       "<table border=\"1\" class=\"dataframe\">\n",
       "  <thead>\n",
       "    <tr style=\"text-align: right;\">\n",
       "      <th></th>\n",
       "      <th>identifiant_de_l_etablissement</th>\n",
       "      <th>nom_etablissement</th>\n",
       "      <th>type_etablissement</th>\n",
       "      <th>libelle_nature</th>\n",
       "      <th>code_commune</th>\n",
       "      <th>nom_commune</th>\n",
       "      <th>code_departement</th>\n",
       "      <th>libelle_departement</th>\n",
       "      <th>code_region</th>\n",
       "      <th>libelle_region</th>\n",
       "      <th>surface_utile</th>\n",
       "      <th>rayonnement_solaire</th>\n",
       "      <th>potentiel_solaire</th>\n",
       "      <th>protection</th>\n",
       "    </tr>\n",
       "  </thead>\n",
       "  <tbody>\n",
       "    <tr>\n",
       "      <th>0</th>\n",
       "      <td>0930043S</td>\n",
       "      <td>Collège Jean de Beaumont</td>\n",
       "      <td>Collège</td>\n",
       "      <td>COLLEGE</td>\n",
       "      <td>93077</td>\n",
       "      <td>Villemomble</td>\n",
       "      <td>093</td>\n",
       "      <td>Seine-Saint-Denis</td>\n",
       "      <td>11</td>\n",
       "      <td>Ile-de-France</td>\n",
       "      <td>0.000000</td>\n",
       "      <td>0.000000</td>\n",
       "      <td>0.000000</td>\n",
       "      <td>False</td>\n",
       "    </tr>\n",
       "    <tr>\n",
       "      <th>1</th>\n",
       "      <td>0930089S</td>\n",
       "      <td>Collège Anatole France</td>\n",
       "      <td>Collège</td>\n",
       "      <td>COLLEGE</td>\n",
       "      <td>93057</td>\n",
       "      <td>Les Pavillons-sous-Bois</td>\n",
       "      <td>093</td>\n",
       "      <td>Seine-Saint-Denis</td>\n",
       "      <td>11</td>\n",
       "      <td>Ile-de-France</td>\n",
       "      <td>3245.297871</td>\n",
       "      <td>1143.404907</td>\n",
       "      <td>371066.369436</td>\n",
       "      <td>True</td>\n",
       "    </tr>\n",
       "    <tr>\n",
       "      <th>2</th>\n",
       "      <td>0930100D</td>\n",
       "      <td>Collège Eric Tabarly</td>\n",
       "      <td>Collège</td>\n",
       "      <td>COLLEGE</td>\n",
       "      <td>93057</td>\n",
       "      <td>Les Pavillons-sous-Bois</td>\n",
       "      <td>093</td>\n",
       "      <td>Seine-Saint-Denis</td>\n",
       "      <td>11</td>\n",
       "      <td>Ile-de-France</td>\n",
       "      <td>2069.812266</td>\n",
       "      <td>1143.329590</td>\n",
       "      <td>236647.053457</td>\n",
       "      <td>False</td>\n",
       "    </tr>\n",
       "    <tr>\n",
       "      <th>3</th>\n",
       "      <td>0930116W</td>\n",
       "      <td>Lycée Henri Wallon</td>\n",
       "      <td>Lycée</td>\n",
       "      <td>LYCEE ENSEIGNT GENERAL ET TECHNOLOGIQUE</td>\n",
       "      <td>93001</td>\n",
       "      <td>Aubervilliers</td>\n",
       "      <td>093</td>\n",
       "      <td>Seine-Saint-Denis</td>\n",
       "      <td>11</td>\n",
       "      <td>Ile-de-France</td>\n",
       "      <td>0.000000</td>\n",
       "      <td>0.000000</td>\n",
       "      <td>0.000000</td>\n",
       "      <td>False</td>\n",
       "    </tr>\n",
       "    <tr>\n",
       "      <th>4</th>\n",
       "      <td>0930117X</td>\n",
       "      <td>Lycée Le Corbusier</td>\n",
       "      <td>Lycée</td>\n",
       "      <td>LYCEE ENSEIGNT GENERAL ET TECHNOLOGIQUE</td>\n",
       "      <td>93001</td>\n",
       "      <td>Aubervilliers</td>\n",
       "      <td>093</td>\n",
       "      <td>Seine-Saint-Denis</td>\n",
       "      <td>11</td>\n",
       "      <td>Ile-de-France</td>\n",
       "      <td>4907.794034</td>\n",
       "      <td>1141.873413</td>\n",
       "      <td>560407.952443</td>\n",
       "      <td>True</td>\n",
       "    </tr>\n",
       "  </tbody>\n",
       "</table>\n",
       "</div>"
      ],
      "text/plain": [
       "  identifiant_de_l_etablissement         nom_etablissement type_etablissement  \\\n",
       "0                       0930043S  Collège Jean de Beaumont            Collège   \n",
       "1                       0930089S    Collège Anatole France            Collège   \n",
       "2                       0930100D      Collège Eric Tabarly            Collège   \n",
       "3                       0930116W        Lycée Henri Wallon              Lycée   \n",
       "4                       0930117X        Lycée Le Corbusier              Lycée   \n",
       "\n",
       "                            libelle_nature code_commune  \\\n",
       "0                                  COLLEGE        93077   \n",
       "1                                  COLLEGE        93057   \n",
       "2                                  COLLEGE        93057   \n",
       "3  LYCEE ENSEIGNT GENERAL ET TECHNOLOGIQUE        93001   \n",
       "4  LYCEE ENSEIGNT GENERAL ET TECHNOLOGIQUE        93001   \n",
       "\n",
       "               nom_commune code_departement libelle_departement code_region  \\\n",
       "0              Villemomble              093   Seine-Saint-Denis          11   \n",
       "1  Les Pavillons-sous-Bois              093   Seine-Saint-Denis          11   \n",
       "2  Les Pavillons-sous-Bois              093   Seine-Saint-Denis          11   \n",
       "3            Aubervilliers              093   Seine-Saint-Denis          11   \n",
       "4            Aubervilliers              093   Seine-Saint-Denis          11   \n",
       "\n",
       "  libelle_region  surface_utile  rayonnement_solaire  potentiel_solaire  \\\n",
       "0  Ile-de-France       0.000000             0.000000           0.000000   \n",
       "1  Ile-de-France    3245.297871          1143.404907      371066.369436   \n",
       "2  Ile-de-France    2069.812266          1143.329590      236647.053457   \n",
       "3  Ile-de-France       0.000000             0.000000           0.000000   \n",
       "4  Ile-de-France    4907.794034          1141.873413      560407.952443   \n",
       "\n",
       "   protection  \n",
       "0       False  \n",
       "1        True  \n",
       "2       False  \n",
       "3       False  \n",
       "4        True  "
      ]
     },
     "execution_count": 20,
     "metadata": {},
     "output_type": "execute_result"
    }
   ],
   "source": [
    "results_by_school = aggregate_solar_potential_by(\n",
    "    schools_establishments=schools_establishments,\n",
    "    solar_potential_of_schools_buildings=solar_potential_of_schools_buildings,\n",
    "    group_by = [\n",
    "        \"identifiant_de_l_etablissement\",\n",
    "        \"nom_etablissement\",\n",
    "        \"type_etablissement\",\n",
    "        \"libelle_nature\",\n",
    "        \"code_commune\",\n",
    "        \"nom_commune\",\n",
    "        \"code_departement\",\n",
    "        \"libelle_departement\",\n",
    "        \"code_region\",\n",
    "        \"libelle_region\",\n",
    "    ]\n",
    ")\n",
    "\n",
    "results_by_school.head()"
   ]
  },
  {
   "cell_type": "markdown",
   "id": "4095f66c6c4336a0",
   "metadata": {
    "papermill": {
     "duration": 0.006018,
     "end_time": "2025-03-09T16:25:51.328589",
     "exception": false,
     "start_time": "2025-03-09T16:25:51.322571",
     "status": "completed"
    },
    "tags": []
   },
   "source": [
    "### Par commune"
   ]
  },
  {
   "cell_type": "code",
   "execution_count": 21,
   "id": "1d2b76a6b5a0a16b",
   "metadata": {
    "execution": {
     "iopub.execute_input": "2025-03-09T16:25:51.361646Z",
     "iopub.status.busy": "2025-03-09T16:25:51.361646Z",
     "iopub.status.idle": "2025-03-09T16:25:51.435087Z",
     "shell.execute_reply": "2025-03-09T16:25:51.435087Z"
    },
    "papermill": {
     "duration": 0.101993,
     "end_time": "2025-03-09T16:25:51.436092",
     "exception": false,
     "start_time": "2025-03-09T16:25:51.334099",
     "status": "completed"
    },
    "tags": []
   },
   "outputs": [
    {
     "name": "stdout",
     "output_type": "stream",
     "text": [
      "  identifiant_de_l_etablissement              nom_etablissement  \\\n",
      "0                       0930836D  Ecole élémentaire Ambourget 2   \n",
      "1                       0930836D  Ecole élémentaire Ambourget 2   \n",
      "2                       0930836D  Ecole élémentaire Ambourget 2   \n",
      "3                       0930836D  Ecole élémentaire Ambourget 2   \n",
      "4                       0930836D  Ecole élémentaire Ambourget 2   \n",
      "\n",
      "  type_etablissement               libelle_nature statut_public_prive  \\\n",
      "0              Ecole  ECOLE DE NIVEAU ELEMENTAIRE              Public   \n",
      "1              Ecole  ECOLE DE NIVEAU ELEMENTAIRE              Public   \n",
      "2              Ecole  ECOLE DE NIVEAU ELEMENTAIRE              Public   \n",
      "3              Ecole  ECOLE DE NIVEAU ELEMENTAIRE              Public   \n",
      "4              Ecole  ECOLE DE NIVEAU ELEMENTAIRE              Public   \n",
      "\n",
      "  code_commune       nom_commune code_departement libelle_departement  \\\n",
      "0        93005  Aulnay-sous-Bois              093   Seine-Saint-Denis   \n",
      "1        93005  Aulnay-sous-Bois              093   Seine-Saint-Denis   \n",
      "2        93005  Aulnay-sous-Bois              093   Seine-Saint-Denis   \n",
      "3        93005  Aulnay-sous-Bois              093   Seine-Saint-Denis   \n",
      "4        93005  Aulnay-sous-Bois              093   Seine-Saint-Denis   \n",
      "\n",
      "  code_region  ...               cleabs_zone                categorie  \\\n",
      "0          11  ...  SURFACTI0000000002555525  Science et enseignement   \n",
      "1          11  ...  SURFACTI0000000002555525  Science et enseignement   \n",
      "2          11  ...  SURFACTI0000000002555525  Science et enseignement   \n",
      "3          11  ...  SURFACTI0000000002555525  Science et enseignement   \n",
      "4          11  ...  SURFACTI0000000002555525  Science et enseignement   \n",
      "\n",
      "                  nature                     toponyme surface_totale_au_sol  \\\n",
      "0  Enseignement primaire  École Élémentaire Ambourget             62.354980   \n",
      "1  Enseignement primaire  École Élémentaire Ambourget            136.965921   \n",
      "2  Enseignement primaire  École Élémentaire Ambourget            337.611853   \n",
      "3  Enseignement primaire  École Élémentaire Ambourget            439.208917   \n",
      "4  Enseignement primaire  École Élémentaire Ambourget            158.847529   \n",
      "\n",
      "                       zone_pour_rayonnement_solaire  surface_utile  \\\n",
      "0  POLYGON ((2.508382 48.971335, 2.50852 48.97134...       0.000000   \n",
      "1  POLYGON ((2.509256 48.971595, 2.509274 48.9715...      28.893957   \n",
      "2  POLYGON ((2.52997 48.952159, 2.529973 48.95214...      76.640912   \n",
      "3  POLYGON ((2.489285 48.944681, 2.489093 48.9469...     103.274141   \n",
      "4  POLYGON ((2.509089 48.972065, 2.509436 48.9720...      33.788109   \n",
      "\n",
      "  rayonnement_solaire  potentiel_solaire protection  \n",
      "0         1145.372559           0.000000      False  \n",
      "1         1145.388428        3309.480428      False  \n",
      "2         1145.400513        8778.453943      False  \n",
      "3         1145.413696       11829.161595      False  \n",
      "4         1145.424194        3870.171734      False  \n",
      "\n",
      "[5 rows x 29 columns]\n"
     ]
    },
    {
     "data": {
      "text/html": [
       "<div>\n",
       "<style scoped>\n",
       "    .dataframe tbody tr th:only-of-type {\n",
       "        vertical-align: middle;\n",
       "    }\n",
       "\n",
       "    .dataframe tbody tr th {\n",
       "        vertical-align: top;\n",
       "    }\n",
       "\n",
       "    .dataframe thead th {\n",
       "        text-align: right;\n",
       "    }\n",
       "</style>\n",
       "<table border=\"1\" class=\"dataframe\">\n",
       "  <thead>\n",
       "    <tr style=\"text-align: right;\">\n",
       "      <th></th>\n",
       "      <th>code_commune</th>\n",
       "      <th>nom_commune</th>\n",
       "      <th>code_departement</th>\n",
       "      <th>libelle_departement</th>\n",
       "      <th>code_region</th>\n",
       "      <th>libelle_region</th>\n",
       "      <th>surface_utile</th>\n",
       "      <th>rayonnement_solaire</th>\n",
       "      <th>potentiel_solaire</th>\n",
       "      <th>protection</th>\n",
       "    </tr>\n",
       "  </thead>\n",
       "  <tbody>\n",
       "    <tr>\n",
       "      <th>0</th>\n",
       "      <td>93001</td>\n",
       "      <td>Aubervilliers</td>\n",
       "      <td>093</td>\n",
       "      <td>Seine-Saint-Denis</td>\n",
       "      <td>11</td>\n",
       "      <td>Ile-de-France</td>\n",
       "      <td>54563.526631</td>\n",
       "      <td>967.649109</td>\n",
       "      <td>6.231777e+06</td>\n",
       "      <td>True</td>\n",
       "    </tr>\n",
       "    <tr>\n",
       "      <th>1</th>\n",
       "      <td>93005</td>\n",
       "      <td>Aulnay-sous-Bois</td>\n",
       "      <td>093</td>\n",
       "      <td>Seine-Saint-Denis</td>\n",
       "      <td>11</td>\n",
       "      <td>Ile-de-France</td>\n",
       "      <td>35282.028352</td>\n",
       "      <td>918.783203</td>\n",
       "      <td>4.040277e+06</td>\n",
       "      <td>True</td>\n",
       "    </tr>\n",
       "    <tr>\n",
       "      <th>2</th>\n",
       "      <td>93006</td>\n",
       "      <td>Bagnolet</td>\n",
       "      <td>093</td>\n",
       "      <td>Seine-Saint-Denis</td>\n",
       "      <td>11</td>\n",
       "      <td>Ile-de-France</td>\n",
       "      <td>25830.017170</td>\n",
       "      <td>1027.417969</td>\n",
       "      <td>2.955298e+06</td>\n",
       "      <td>True</td>\n",
       "    </tr>\n",
       "    <tr>\n",
       "      <th>3</th>\n",
       "      <td>93007</td>\n",
       "      <td>Le Blanc-Mesnil</td>\n",
       "      <td>093</td>\n",
       "      <td>Seine-Saint-Denis</td>\n",
       "      <td>11</td>\n",
       "      <td>Ile-de-France</td>\n",
       "      <td>29601.228822</td>\n",
       "      <td>915.268311</td>\n",
       "      <td>3.387507e+06</td>\n",
       "      <td>True</td>\n",
       "    </tr>\n",
       "    <tr>\n",
       "      <th>4</th>\n",
       "      <td>93008</td>\n",
       "      <td>Bobigny</td>\n",
       "      <td>093</td>\n",
       "      <td>Seine-Saint-Denis</td>\n",
       "      <td>11</td>\n",
       "      <td>Ile-de-France</td>\n",
       "      <td>28739.882571</td>\n",
       "      <td>876.470520</td>\n",
       "      <td>3.282204e+06</td>\n",
       "      <td>True</td>\n",
       "    </tr>\n",
       "  </tbody>\n",
       "</table>\n",
       "</div>"
      ],
      "text/plain": [
       "  code_commune       nom_commune code_departement libelle_departement  \\\n",
       "0        93001     Aubervilliers              093   Seine-Saint-Denis   \n",
       "1        93005  Aulnay-sous-Bois              093   Seine-Saint-Denis   \n",
       "2        93006          Bagnolet              093   Seine-Saint-Denis   \n",
       "3        93007   Le Blanc-Mesnil              093   Seine-Saint-Denis   \n",
       "4        93008           Bobigny              093   Seine-Saint-Denis   \n",
       "\n",
       "  code_region libelle_region  surface_utile  rayonnement_solaire  \\\n",
       "0          11  Ile-de-France   54563.526631           967.649109   \n",
       "1          11  Ile-de-France   35282.028352           918.783203   \n",
       "2          11  Ile-de-France   25830.017170          1027.417969   \n",
       "3          11  Ile-de-France   29601.228822           915.268311   \n",
       "4          11  Ile-de-France   28739.882571           876.470520   \n",
       "\n",
       "   potentiel_solaire  protection  \n",
       "0       6.231777e+06        True  \n",
       "1       4.040277e+06        True  \n",
       "2       2.955298e+06        True  \n",
       "3       3.387507e+06        True  \n",
       "4       3.282204e+06        True  "
      ]
     },
     "execution_count": 21,
     "metadata": {},
     "output_type": "execute_result"
    }
   ],
   "source": [
    "results_by_commune = aggregate_solar_potential_by(\n",
    "    schools_establishments=schools_establishments,\n",
    "    solar_potential_of_schools_buildings=solar_potential_of_schools_buildings,\n",
    "    group_by = [\n",
    "        \"code_commune\",\n",
    "        \"nom_commune\",\n",
    "        \"code_departement\",\n",
    "        \"libelle_departement\",\n",
    "        \"code_region\",\n",
    "        \"libelle_region\",\n",
    "    ]\n",
    ")\n",
    "\n",
    "results_by_commune.head()"
   ]
  },
  {
   "cell_type": "markdown",
   "id": "b1979de1a83e56b",
   "metadata": {
    "papermill": {
     "duration": 0.005038,
     "end_time": "2025-03-09T16:25:51.447129",
     "exception": false,
     "start_time": "2025-03-09T16:25:51.442091",
     "status": "completed"
    },
    "tags": []
   },
   "source": [
    "### Par département"
   ]
  },
  {
   "cell_type": "code",
   "execution_count": 22,
   "id": "aa0632566b289415",
   "metadata": {
    "execution": {
     "iopub.execute_input": "2025-03-09T16:25:51.458165Z",
     "iopub.status.busy": "2025-03-09T16:25:51.457164Z",
     "iopub.status.idle": "2025-03-09T16:25:51.527359Z",
     "shell.execute_reply": "2025-03-09T16:25:51.527359Z"
    },
    "papermill": {
     "duration": 0.076874,
     "end_time": "2025-03-09T16:25:51.529002",
     "exception": false,
     "start_time": "2025-03-09T16:25:51.452128",
     "status": "completed"
    },
    "tags": []
   },
   "outputs": [
    {
     "name": "stdout",
     "output_type": "stream",
     "text": [
      "  identifiant_de_l_etablissement              nom_etablissement  \\\n",
      "0                       0930836D  Ecole élémentaire Ambourget 2   \n",
      "1                       0930836D  Ecole élémentaire Ambourget 2   \n",
      "2                       0930836D  Ecole élémentaire Ambourget 2   \n",
      "3                       0930836D  Ecole élémentaire Ambourget 2   \n",
      "4                       0930836D  Ecole élémentaire Ambourget 2   \n",
      "\n",
      "  type_etablissement               libelle_nature statut_public_prive  \\\n",
      "0              Ecole  ECOLE DE NIVEAU ELEMENTAIRE              Public   \n",
      "1              Ecole  ECOLE DE NIVEAU ELEMENTAIRE              Public   \n",
      "2              Ecole  ECOLE DE NIVEAU ELEMENTAIRE              Public   \n",
      "3              Ecole  ECOLE DE NIVEAU ELEMENTAIRE              Public   \n",
      "4              Ecole  ECOLE DE NIVEAU ELEMENTAIRE              Public   \n",
      "\n",
      "  code_commune       nom_commune code_departement libelle_departement  \\\n",
      "0        93005  Aulnay-sous-Bois              093   Seine-Saint-Denis   \n",
      "1        93005  Aulnay-sous-Bois              093   Seine-Saint-Denis   \n",
      "2        93005  Aulnay-sous-Bois              093   Seine-Saint-Denis   \n",
      "3        93005  Aulnay-sous-Bois              093   Seine-Saint-Denis   \n",
      "4        93005  Aulnay-sous-Bois              093   Seine-Saint-Denis   \n",
      "\n",
      "  code_region  ...               cleabs_zone                categorie  \\\n",
      "0          11  ...  SURFACTI0000000002555525  Science et enseignement   \n",
      "1          11  ...  SURFACTI0000000002555525  Science et enseignement   \n",
      "2          11  ...  SURFACTI0000000002555525  Science et enseignement   \n",
      "3          11  ...  SURFACTI0000000002555525  Science et enseignement   \n",
      "4          11  ...  SURFACTI0000000002555525  Science et enseignement   \n",
      "\n",
      "                  nature                     toponyme surface_totale_au_sol  \\\n",
      "0  Enseignement primaire  École Élémentaire Ambourget             62.354980   \n",
      "1  Enseignement primaire  École Élémentaire Ambourget            136.965921   \n",
      "2  Enseignement primaire  École Élémentaire Ambourget            337.611853   \n",
      "3  Enseignement primaire  École Élémentaire Ambourget            439.208917   \n",
      "4  Enseignement primaire  École Élémentaire Ambourget            158.847529   \n",
      "\n",
      "                       zone_pour_rayonnement_solaire  surface_utile  \\\n",
      "0  POLYGON ((2.508382 48.971335, 2.50852 48.97134...       0.000000   \n",
      "1  POLYGON ((2.509256 48.971595, 2.509274 48.9715...      28.893957   \n",
      "2  POLYGON ((2.52997 48.952159, 2.529973 48.95214...      76.640912   \n",
      "3  POLYGON ((2.489285 48.944681, 2.489093 48.9469...     103.274141   \n",
      "4  POLYGON ((2.509089 48.972065, 2.509436 48.9720...      33.788109   \n",
      "\n",
      "  rayonnement_solaire  potentiel_solaire protection  \n",
      "0         1145.372559           0.000000      False  \n",
      "1         1145.388428        3309.480428      False  \n",
      "2         1145.400513        8778.453943      False  \n",
      "3         1145.413696       11829.161595      False  \n",
      "4         1145.424194        3870.171734      False  \n",
      "\n",
      "[5 rows x 29 columns]\n"
     ]
    },
    {
     "data": {
      "text/html": [
       "<div>\n",
       "<style scoped>\n",
       "    .dataframe tbody tr th:only-of-type {\n",
       "        vertical-align: middle;\n",
       "    }\n",
       "\n",
       "    .dataframe tbody tr th {\n",
       "        vertical-align: top;\n",
       "    }\n",
       "\n",
       "    .dataframe thead th {\n",
       "        text-align: right;\n",
       "    }\n",
       "</style>\n",
       "<table border=\"1\" class=\"dataframe\">\n",
       "  <thead>\n",
       "    <tr style=\"text-align: right;\">\n",
       "      <th></th>\n",
       "      <th>code_departement</th>\n",
       "      <th>libelle_departement</th>\n",
       "      <th>code_region</th>\n",
       "      <th>libelle_region</th>\n",
       "      <th>surface_utile</th>\n",
       "      <th>rayonnement_solaire</th>\n",
       "      <th>potentiel_solaire</th>\n",
       "      <th>protection</th>\n",
       "    </tr>\n",
       "  </thead>\n",
       "  <tbody>\n",
       "    <tr>\n",
       "      <th>0</th>\n",
       "      <td>093</td>\n",
       "      <td>Seine-Saint-Denis</td>\n",
       "      <td>11</td>\n",
       "      <td>Ile-de-France</td>\n",
       "      <td>867308.706529</td>\n",
       "      <td>965.961365</td>\n",
       "      <td>9.916325e+07</td>\n",
       "      <td>True</td>\n",
       "    </tr>\n",
       "  </tbody>\n",
       "</table>\n",
       "</div>"
      ],
      "text/plain": [
       "  code_departement libelle_departement code_region libelle_region  \\\n",
       "0              093   Seine-Saint-Denis          11  Ile-de-France   \n",
       "\n",
       "   surface_utile  rayonnement_solaire  potentiel_solaire  protection  \n",
       "0  867308.706529           965.961365       9.916325e+07        True  "
      ]
     },
     "execution_count": 22,
     "metadata": {},
     "output_type": "execute_result"
    }
   ],
   "source": [
    "results_by_departement = aggregate_solar_potential_by(\n",
    "    schools_establishments=schools_establishments,\n",
    "    solar_potential_of_schools_buildings=solar_potential_of_schools_buildings,\n",
    "    group_by = [\n",
    "        \"code_departement\",\n",
    "        \"libelle_departement\",\n",
    "        \"code_region\",\n",
    "        \"libelle_region\",\n",
    "    ]\n",
    ")\n",
    "\n",
    "results_by_departement"
   ]
  },
  {
   "cell_type": "markdown",
   "id": "35202e1b07211fb1",
   "metadata": {
    "papermill": {
     "duration": 0.00547,
     "end_time": "2025-03-09T16:25:51.539477",
     "exception": false,
     "start_time": "2025-03-09T16:25:51.534007",
     "status": "completed"
    },
    "tags": []
   },
   "source": [
    "### Par région"
   ]
  },
  {
   "cell_type": "code",
   "execution_count": 23,
   "id": "8cf55b4e6ce04838",
   "metadata": {
    "execution": {
     "iopub.execute_input": "2025-03-09T16:25:51.552585Z",
     "iopub.status.busy": "2025-03-09T16:25:51.552585Z",
     "iopub.status.idle": "2025-03-09T16:25:51.621363Z",
     "shell.execute_reply": "2025-03-09T16:25:51.621363Z"
    },
    "papermill": {
     "duration": 0.075385,
     "end_time": "2025-03-09T16:25:51.622371",
     "exception": false,
     "start_time": "2025-03-09T16:25:51.546986",
     "status": "completed"
    },
    "tags": []
   },
   "outputs": [
    {
     "name": "stdout",
     "output_type": "stream",
     "text": [
      "  identifiant_de_l_etablissement              nom_etablissement  \\\n",
      "0                       0930836D  Ecole élémentaire Ambourget 2   \n",
      "1                       0930836D  Ecole élémentaire Ambourget 2   \n",
      "2                       0930836D  Ecole élémentaire Ambourget 2   \n",
      "3                       0930836D  Ecole élémentaire Ambourget 2   \n",
      "4                       0930836D  Ecole élémentaire Ambourget 2   \n",
      "\n",
      "  type_etablissement               libelle_nature statut_public_prive  \\\n",
      "0              Ecole  ECOLE DE NIVEAU ELEMENTAIRE              Public   \n",
      "1              Ecole  ECOLE DE NIVEAU ELEMENTAIRE              Public   \n",
      "2              Ecole  ECOLE DE NIVEAU ELEMENTAIRE              Public   \n",
      "3              Ecole  ECOLE DE NIVEAU ELEMENTAIRE              Public   \n",
      "4              Ecole  ECOLE DE NIVEAU ELEMENTAIRE              Public   \n",
      "\n",
      "  code_commune       nom_commune code_departement libelle_departement  \\\n",
      "0        93005  Aulnay-sous-Bois              093   Seine-Saint-Denis   \n",
      "1        93005  Aulnay-sous-Bois              093   Seine-Saint-Denis   \n",
      "2        93005  Aulnay-sous-Bois              093   Seine-Saint-Denis   \n",
      "3        93005  Aulnay-sous-Bois              093   Seine-Saint-Denis   \n",
      "4        93005  Aulnay-sous-Bois              093   Seine-Saint-Denis   \n",
      "\n",
      "  code_region  ...               cleabs_zone                categorie  \\\n",
      "0          11  ...  SURFACTI0000000002555525  Science et enseignement   \n",
      "1          11  ...  SURFACTI0000000002555525  Science et enseignement   \n",
      "2          11  ...  SURFACTI0000000002555525  Science et enseignement   \n",
      "3          11  ...  SURFACTI0000000002555525  Science et enseignement   \n",
      "4          11  ...  SURFACTI0000000002555525  Science et enseignement   \n",
      "\n",
      "                  nature                     toponyme surface_totale_au_sol  \\\n",
      "0  Enseignement primaire  École Élémentaire Ambourget             62.354980   \n",
      "1  Enseignement primaire  École Élémentaire Ambourget            136.965921   \n",
      "2  Enseignement primaire  École Élémentaire Ambourget            337.611853   \n",
      "3  Enseignement primaire  École Élémentaire Ambourget            439.208917   \n",
      "4  Enseignement primaire  École Élémentaire Ambourget            158.847529   \n",
      "\n",
      "                       zone_pour_rayonnement_solaire  surface_utile  \\\n",
      "0  POLYGON ((2.508382 48.971335, 2.50852 48.97134...       0.000000   \n",
      "1  POLYGON ((2.509256 48.971595, 2.509274 48.9715...      28.893957   \n",
      "2  POLYGON ((2.52997 48.952159, 2.529973 48.95214...      76.640912   \n",
      "3  POLYGON ((2.489285 48.944681, 2.489093 48.9469...     103.274141   \n",
      "4  POLYGON ((2.509089 48.972065, 2.509436 48.9720...      33.788109   \n",
      "\n",
      "  rayonnement_solaire  potentiel_solaire protection  \n",
      "0         1145.372559           0.000000      False  \n",
      "1         1145.388428        3309.480428      False  \n",
      "2         1145.400513        8778.453943      False  \n",
      "3         1145.413696       11829.161595      False  \n",
      "4         1145.424194        3870.171734      False  \n",
      "\n",
      "[5 rows x 29 columns]"
     ]
    },
    {
     "name": "stdout",
     "output_type": "stream",
     "text": [
      "\n"
     ]
    },
    {
     "data": {
      "text/html": [
       "<div>\n",
       "<style scoped>\n",
       "    .dataframe tbody tr th:only-of-type {\n",
       "        vertical-align: middle;\n",
       "    }\n",
       "\n",
       "    .dataframe tbody tr th {\n",
       "        vertical-align: top;\n",
       "    }\n",
       "\n",
       "    .dataframe thead th {\n",
       "        text-align: right;\n",
       "    }\n",
       "</style>\n",
       "<table border=\"1\" class=\"dataframe\">\n",
       "  <thead>\n",
       "    <tr style=\"text-align: right;\">\n",
       "      <th></th>\n",
       "      <th>code_region</th>\n",
       "      <th>libelle_region</th>\n",
       "      <th>surface_utile</th>\n",
       "      <th>rayonnement_solaire</th>\n",
       "      <th>potentiel_solaire</th>\n",
       "      <th>protection</th>\n",
       "    </tr>\n",
       "  </thead>\n",
       "  <tbody>\n",
       "    <tr>\n",
       "      <th>0</th>\n",
       "      <td>11</td>\n",
       "      <td>Ile-de-France</td>\n",
       "      <td>867308.706529</td>\n",
       "      <td>965.961365</td>\n",
       "      <td>9.916325e+07</td>\n",
       "      <td>True</td>\n",
       "    </tr>\n",
       "  </tbody>\n",
       "</table>\n",
       "</div>"
      ],
      "text/plain": [
       "  code_region libelle_region  surface_utile  rayonnement_solaire  \\\n",
       "0          11  Ile-de-France  867308.706529           965.961365   \n",
       "\n",
       "   potentiel_solaire  protection  \n",
       "0       9.916325e+07        True  "
      ]
     },
     "execution_count": 23,
     "metadata": {},
     "output_type": "execute_result"
    }
   ],
   "source": [
    "results_by_region = aggregate_solar_potential_by(\n",
    "    schools_establishments=schools_establishments,\n",
    "    solar_potential_of_schools_buildings=solar_potential_of_schools_buildings,\n",
    "    group_by = [\n",
    "        \"code_region\",\n",
    "        \"libelle_region\",\n",
    "    ]\n",
    ")\n",
    "\n",
    "results_by_region"
   ]
  },
  {
   "cell_type": "markdown",
   "id": "229708fb93570bb0",
   "metadata": {
    "papermill": {
     "duration": 0.005001,
     "end_time": "2025-03-09T16:25:51.632878",
     "exception": false,
     "start_time": "2025-03-09T16:25:51.627877",
     "status": "completed"
    },
    "tags": []
   },
   "source": [
    "# Sauvegarde données"
   ]
  },
  {
   "cell_type": "markdown",
   "id": "6f62d89f",
   "metadata": {
    "tags": [
     "papermill-error-cell-tag"
    ]
   },
   "source": [
    "<span id=\"papermill-error-cell\" style=\"color:red; font-family:Helvetica Neue, Helvetica, Arial, sans-serif; font-size:2em;\">Execution using papermill encountered an exception here and stopped:</span>"
   ]
  },
  {
   "cell_type": "code",
   "execution_count": 24,
   "id": "f071523c837a9df5",
   "metadata": {
    "execution": {
     "iopub.execute_input": "2025-03-09T16:25:51.646563Z",
     "iopub.status.busy": "2025-03-09T16:25:51.646563Z",
     "iopub.status.idle": "2025-03-09T16:25:51.707367Z",
     "shell.execute_reply": "2025-03-09T16:25:51.707367Z"
    },
    "papermill": {
     "duration": 0.06883,
     "end_time": "2025-03-09T16:25:51.708374",
     "exception": true,
     "start_time": "2025-03-09T16:25:51.639544",
     "status": "failed"
    },
    "tags": []
   },
   "outputs": [
    {
     "ename": "AttributeError",
     "evalue": "'DataFrame' object has no attribute 'to_file'",
     "output_type": "error",
     "traceback": [
      "\u001b[1;31m---------------------------------------------------------------------------\u001b[0m",
      "\u001b[1;31mAttributeError\u001b[0m                            Traceback (most recent call last)",
      "\u001b[1;32m~\\AppData\\Local\\Temp\\ipykernel_20220\\2887814686.py\u001b[0m in \u001b[0;36m?\u001b[1;34m()\u001b[0m\n\u001b[0;32m      1\u001b[0m \u001b[0moutput_folder\u001b[0m \u001b[1;33m=\u001b[0m \u001b[0mALGORITHME_FOLDER\u001b[0m\u001b[1;33m.\u001b[0m\u001b[0mparent\u001b[0m \u001b[1;33m/\u001b[0m \u001b[1;34m\"results\"\u001b[0m \u001b[1;33m/\u001b[0m \u001b[1;33mf\"\u001b[0m\u001b[1;33mD\u001b[0m\u001b[1;33m{\u001b[0m\u001b[0mcode_departement\u001b[0m\u001b[1;33m}\u001b[0m\u001b[1;33m\"\u001b[0m\u001b[1;33m\u001b[0m\u001b[1;33m\u001b[0m\u001b[0m\n\u001b[0;32m      2\u001b[0m \u001b[0moutput_folder\u001b[0m\u001b[1;33m.\u001b[0m\u001b[0mmkdir\u001b[0m\u001b[1;33m(\u001b[0m\u001b[0mexist_ok\u001b[0m\u001b[1;33m=\u001b[0m\u001b[1;32mTrue\u001b[0m\u001b[1;33m,\u001b[0m \u001b[0mparents\u001b[0m\u001b[1;33m=\u001b[0m\u001b[1;32mTrue\u001b[0m\u001b[1;33m)\u001b[0m\u001b[1;33m\u001b[0m\u001b[1;33m\u001b[0m\u001b[0m\n\u001b[0;32m      3\u001b[0m \u001b[1;33m\u001b[0m\u001b[0m\n\u001b[0;32m      4\u001b[0m \u001b[1;31m# TODO : a voir cote front sil faut changer le format de mise a disposition\u001b[0m\u001b[1;33m\u001b[0m\u001b[1;33m\u001b[0m\u001b[0m\n\u001b[1;32m----> 5\u001b[1;33m \u001b[0mresults_by_school\u001b[0m\u001b[1;33m.\u001b[0m\u001b[0mto_file\u001b[0m\u001b[1;33m(\u001b[0m\u001b[0moutput_folder\u001b[0m \u001b[1;33m/\u001b[0m \u001b[1;33mf\"\u001b[0m\u001b[1;33mD\u001b[0m\u001b[1;33m{\u001b[0m\u001b[0mcode_departement\u001b[0m\u001b[1;33m}\u001b[0m\u001b[1;33m_ecoles.geojson\u001b[0m\u001b[1;33m\"\u001b[0m\u001b[1;33m,\u001b[0m \u001b[0mdriver\u001b[0m\u001b[1;33m=\u001b[0m\u001b[1;34m\"GeoJSON\"\u001b[0m\u001b[1;33m)\u001b[0m\u001b[1;33m\u001b[0m\u001b[1;33m\u001b[0m\u001b[0m\n\u001b[0m\u001b[0;32m      6\u001b[0m \u001b[0mresults_by_commune\u001b[0m\u001b[1;33m.\u001b[0m\u001b[0mto_file\u001b[0m\u001b[1;33m(\u001b[0m\u001b[0moutput_folder\u001b[0m \u001b[1;33m/\u001b[0m \u001b[1;33mf\"\u001b[0m\u001b[1;33mD\u001b[0m\u001b[1;33m{\u001b[0m\u001b[0mcode_departement\u001b[0m\u001b[1;33m}\u001b[0m\u001b[1;33m_communes.geojson\u001b[0m\u001b[1;33m\"\u001b[0m\u001b[1;33m,\u001b[0m \u001b[0mdriver\u001b[0m\u001b[1;33m=\u001b[0m\u001b[1;34m\"GeoJSON\"\u001b[0m\u001b[1;33m)\u001b[0m\u001b[1;33m\u001b[0m\u001b[1;33m\u001b[0m\u001b[0m\n\u001b[0;32m      7\u001b[0m \u001b[0mresults_by_departement\u001b[0m\u001b[1;33m.\u001b[0m\u001b[0mto_file\u001b[0m\u001b[1;33m(\u001b[0m\u001b[0moutput_folder\u001b[0m \u001b[1;33m/\u001b[0m \u001b[1;33mf\"\u001b[0m\u001b[1;33mD\u001b[0m\u001b[1;33m{\u001b[0m\u001b[0mcode_departement\u001b[0m\u001b[1;33m}\u001b[0m\u001b[1;33m_departement.geojson\u001b[0m\u001b[1;33m\"\u001b[0m\u001b[1;33m,\u001b[0m \u001b[0mdriver\u001b[0m\u001b[1;33m=\u001b[0m\u001b[1;34m\"GeoJSON\"\u001b[0m\u001b[1;33m)\u001b[0m\u001b[1;33m\u001b[0m\u001b[1;33m\u001b[0m\u001b[0m\n",
      "\u001b[1;32m~\\Projects\\13_potentiel_solaire\\algorithme\\.venv\\Lib\\site-packages\\pandas\\core\\generic.py\u001b[0m in \u001b[0;36m?\u001b[1;34m(self, name)\u001b[0m\n\u001b[0;32m   6295\u001b[0m             \u001b[1;32mand\u001b[0m \u001b[0mname\u001b[0m \u001b[1;32mnot\u001b[0m \u001b[1;32min\u001b[0m \u001b[0mself\u001b[0m\u001b[1;33m.\u001b[0m\u001b[0m_accessors\u001b[0m\u001b[1;33m\u001b[0m\u001b[1;33m\u001b[0m\u001b[0m\n\u001b[0;32m   6296\u001b[0m             \u001b[1;32mand\u001b[0m \u001b[0mself\u001b[0m\u001b[1;33m.\u001b[0m\u001b[0m_info_axis\u001b[0m\u001b[1;33m.\u001b[0m\u001b[0m_can_hold_identifiers_and_holds_name\u001b[0m\u001b[1;33m(\u001b[0m\u001b[0mname\u001b[0m\u001b[1;33m)\u001b[0m\u001b[1;33m\u001b[0m\u001b[1;33m\u001b[0m\u001b[0m\n\u001b[0;32m   6297\u001b[0m         \u001b[1;33m)\u001b[0m\u001b[1;33m:\u001b[0m\u001b[1;33m\u001b[0m\u001b[1;33m\u001b[0m\u001b[0m\n\u001b[0;32m   6298\u001b[0m             \u001b[1;32mreturn\u001b[0m \u001b[0mself\u001b[0m\u001b[1;33m[\u001b[0m\u001b[0mname\u001b[0m\u001b[1;33m]\u001b[0m\u001b[1;33m\u001b[0m\u001b[1;33m\u001b[0m\u001b[0m\n\u001b[1;32m-> 6299\u001b[1;33m         \u001b[1;32mreturn\u001b[0m \u001b[0mobject\u001b[0m\u001b[1;33m.\u001b[0m\u001b[0m__getattribute__\u001b[0m\u001b[1;33m(\u001b[0m\u001b[0mself\u001b[0m\u001b[1;33m,\u001b[0m \u001b[0mname\u001b[0m\u001b[1;33m)\u001b[0m\u001b[1;33m\u001b[0m\u001b[1;33m\u001b[0m\u001b[0m\n\u001b[0m",
      "\u001b[1;31mAttributeError\u001b[0m: 'DataFrame' object has no attribute 'to_file'"
     ]
    }
   ],
   "source": [
    "output_folder = ALGORITHME_FOLDER.parent / \"results\" / f\"D{code_departement}\"\n",
    "output_folder.mkdir(exist_ok=True, parents=True)\n",
    "\n",
    "# TODO : a voir cote front sil faut changer le format de mise a disposition\n",
    "results_by_school.to_file(output_folder / f\"D{code_departement}_ecoles.geojson\", driver=\"GeoJSON\")\n",
    "results_by_commune.to_file(output_folder / f\"D{code_departement}_communes.geojson\", driver=\"GeoJSON\")\n",
    "results_by_departement.to_file(output_folder / f\"D{code_departement}_departement.geojson\", driver=\"GeoJSON\")"
   ]
  },
  {
   "cell_type": "markdown",
   "id": "2723a1b3",
   "metadata": {
    "papermill": {
     "duration": null,
     "end_time": null,
     "exception": null,
     "start_time": null,
     "status": "pending"
    },
    "tags": []
   },
   "source": [
    "# Export sous forme de fichiers GeoJSON"
   ]
  },
  {
   "cell_type": "code",
   "execution_count": null,
   "id": "9117b553",
   "metadata": {
    "papermill": {
     "duration": null,
     "end_time": null,
     "exception": null,
     "start_time": null,
     "status": "pending"
    },
    "tags": []
   },
   "outputs": [],
   "source": [
    "output_folder = ALGORITHME_FOLDER.parent / \"results\" / f\"D{code_departement}\"\n",
    "output_folder.mkdir(exist_ok=True, parents=True)\n",
    "\n",
    "# TODO : a voir cote front sil faut changer le format de mise a disposition\n",
    "results_by_school.to_file(output_folder / f\"D{code_departement}_ecoles.geojson\", driver=\"GeoJSON\")\n",
    "results_by_commune.to_file(output_folder / f\"D{code_departement}_communes.geojson\", driver=\"GeoJSON\")\n",
    "results_by_departement.to_file(output_folder / f\"D{code_departement}_departement.geojson\", driver=\"GeoJSON\")"
   ]
  }
 ],
 "metadata": {
  "kernelspec": {
   "display_name": ".venv",
   "language": "python",
   "name": "python3"
  },
  "language_info": {
   "codemirror_mode": {
    "name": "ipython",
    "version": 3
   },
   "file_extension": ".py",
   "mimetype": "text/x-python",
   "name": "python",
   "nbconvert_exporter": "python",
   "pygments_lexer": "ipython3",
   "version": "3.12.5"
  },
  "papermill": {
   "default_parameters": {},
   "duration": 84.95177,
   "end_time": "2025-03-09T16:25:52.260975",
   "environment_variables": {},
   "exception": true,
   "input_path": "C:\\Users\\micka\\Projects\\13_potentiel_solaire\\algorithme\\notebooks\\pipeline_algorithme_par_departement.ipynb",
   "output_path": "C:\\Users\\micka\\Projects\\13_potentiel_solaire\\algorithme\\notebooks\\exports\\d_093_pipeline_algorithme.ipynb",
   "parameters": {
    "code_departement": "093",
    "logs_level": "WARNING"
   },
   "start_time": "2025-03-09T16:24:27.309205",
   "version": "2.6.0"
  }
 },
 "nbformat": 4,
 "nbformat_minor": 5
}