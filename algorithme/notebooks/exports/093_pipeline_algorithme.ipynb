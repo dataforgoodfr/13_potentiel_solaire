{
 "cells": [
  {
   "cell_type": "code",
   "execution_count": 1,
   "id": "f1f565b7",
   "metadata": {
    "execution": {
     "iopub.execute_input": "2025-04-01T11:50:28.029602Z",
     "iopub.status.busy": "2025-04-01T11:50:28.029017Z",
     "iopub.status.idle": "2025-04-01T11:50:28.091596Z",
     "shell.execute_reply": "2025-04-01T11:50:28.090820Z"
    },
    "papermill": {
     "duration": 0.07962,
     "end_time": "2025-04-01T11:50:28.093896",
     "exception": false,
     "start_time": "2025-04-01T11:50:28.014276",
     "status": "completed"
    },
    "tags": []
   },
   "outputs": [],
   "source": [
    "%load_ext autoreload\n",
    "%autoreload 2"
   ]
  },
  {
   "cell_type": "markdown",
   "id": "7218350249b1103e",
   "metadata": {
    "papermill": {
     "duration": 0.008517,
     "end_time": "2025-04-01T11:50:28.112580",
     "exception": false,
     "start_time": "2025-04-01T11:50:28.104063",
     "status": "completed"
    },
    "tags": []
   },
   "source": [
    "# Paramètres de la pipeline"
   ]
  },
  {
   "cell_type": "code",
   "execution_count": 2,
   "id": "6358f4912f9f22ab",
   "metadata": {
    "editable": true,
    "execution": {
     "iopub.execute_input": "2025-04-01T11:50:28.129161Z",
     "iopub.status.busy": "2025-04-01T11:50:28.128173Z",
     "iopub.status.idle": "2025-04-01T11:50:28.150128Z",
     "shell.execute_reply": "2025-04-01T11:50:28.148175Z"
    },
    "papermill": {
     "duration": 0.033718,
     "end_time": "2025-04-01T11:50:28.153824",
     "exception": false,
     "start_time": "2025-04-01T11:50:28.120106",
     "status": "completed"
    },
    "slideshow": {
     "slide_type": ""
    },
    "tags": [
     "parameters"
    ]
   },
   "outputs": [],
   "source": [
    "code_departement = \"093\"\n",
    "logs_level = \"WARNING\""
   ]
  },
  {
   "cell_type": "code",
   "execution_count": 3,
   "id": "26d2e1e1",
   "metadata": {
    "execution": {
     "iopub.execute_input": "2025-04-01T11:50:28.170905Z",
     "iopub.status.busy": "2025-04-01T11:50:28.170554Z",
     "iopub.status.idle": "2025-04-01T11:50:28.189122Z",
     "shell.execute_reply": "2025-04-01T11:50:28.188390Z"
    },
    "papermill": {
     "duration": 0.029075,
     "end_time": "2025-04-01T11:50:28.191198",
     "exception": false,
     "start_time": "2025-04-01T11:50:28.162123",
     "status": "completed"
    },
    "tags": [
     "injected-parameters"
    ]
   },
   "outputs": [],
   "source": [
    "# Parameters\n",
    "code_departement = \"093\"\n",
    "logs_level = \"WARNING\"\n"
   ]
  },
  {
   "cell_type": "markdown",
   "id": "d3a70f3e57e62a7c",
   "metadata": {
    "papermill": {
     "duration": 0.007141,
     "end_time": "2025-04-01T11:50:28.206709",
     "exception": false,
     "start_time": "2025-04-01T11:50:28.199568",
     "status": "completed"
    },
    "tags": []
   },
   "source": [
    "# Imports & setup"
   ]
  },
  {
   "cell_type": "code",
   "execution_count": 4,
   "id": "aa88b759c982f54c",
   "metadata": {
    "execution": {
     "iopub.execute_input": "2025-04-01T11:50:28.225356Z",
     "iopub.status.busy": "2025-04-01T11:50:28.224897Z",
     "iopub.status.idle": "2025-04-01T11:51:56.344486Z",
     "shell.execute_reply": "2025-04-01T11:51:56.343173Z"
    },
    "papermill": {
     "duration": 88.133285,
     "end_time": "2025-04-01T11:51:56.348233",
     "exception": false,
     "start_time": "2025-04-01T11:50:28.214948",
     "status": "completed"
    },
    "tags": []
   },
   "outputs": [
    {
     "name": "stderr",
     "output_type": "stream",
     "text": [
      "2025-04-01 13:51:53,032 - DEBUG - rasterio.session - /Users/sarahlenet/Desktop/potentiel_solaire/13_potentiel_solaire/algorithme/.venv/lib/python3.11/site-packages/rasterio/session.py - <module> - Could not import boto3, continuing with reduced functionality.\n"
     ]
    },
    {
     "name": "stderr",
     "output_type": "stream",
     "text": [
      "2025-04-01 13:51:53,039 - DEBUG - rasterio.env - /Users/sarahlenet/Desktop/potentiel_solaire/13_potentiel_solaire/algorithme/.venv/lib/python3.11/site-packages/rasterio/env.py - <module> - GDAL data found in package: path='/Users/sarahlenet/Desktop/potentiel_solaire/13_potentiel_solaire/algorithme/.venv/lib/python3.11/site-packages/rasterio/gdal_data'.\n"
     ]
    },
    {
     "name": "stderr",
     "output_type": "stream",
     "text": [
      "2025-04-01 13:51:53,042 - DEBUG - rasterio.env - /Users/sarahlenet/Desktop/potentiel_solaire/13_potentiel_solaire/algorithme/.venv/lib/python3.11/site-packages/rasterio/env.py - <module> - PROJ data found in package: path='/Users/sarahlenet/Desktop/potentiel_solaire/13_potentiel_solaire/algorithme/.venv/lib/python3.11/site-packages/rasterio/proj_data'.\n"
     ]
    }
   ],
   "source": [
    "import geopandas as gpd\n",
    "\n",
    "from potentiel_solaire.attach_buildings_to_schools import attach_buildings_to_schools\n",
    "from potentiel_solaire.constants import CRS, ALGORITHME_FOLDER, DATA_FOLDER\n",
    "from potentiel_solaire.sources.bd_topo import extract_bd_topo, get_topo_zones_of_interest, \\\n",
    "    get_topo_buildings_of_interest\n",
    "from potentiel_solaire.sources.bd_pci import extract_bd_pci\n",
    "from potentiel_solaire.sources.bd_solar_irradiation import extract_bd_irradiation\n",
    "from potentiel_solaire.sources.schools_establishments import extract_schools_establishments, \\\n",
    "    get_schools_establishments_of_interest\n",
    "from potentiel_solaire.features.solar_potential import calculate_solar_potential\n",
    "from potentiel_solaire.aggregate import aggregate_solar_potential_by\n",
    "from potentiel_solaire.logger import get_logger\n",
    "\n",
    "logger = get_logger()\n",
    "logger.setLevel(logs_level)"
   ]
  },
  {
   "cell_type": "markdown",
   "id": "a9a9258eef4ab443",
   "metadata": {
    "papermill": {
     "duration": 0.011064,
     "end_time": "2025-04-01T11:51:56.369882",
     "exception": false,
     "start_time": "2025-04-01T11:51:56.358818",
     "status": "completed"
    },
    "tags": []
   },
   "source": [
    "# Extraction des données sources"
   ]
  },
  {
   "cell_type": "markdown",
   "id": "463a1d94816fdbc3",
   "metadata": {
    "papermill": {
     "duration": 0.013187,
     "end_time": "2025-04-01T11:51:56.396652",
     "exception": false,
     "start_time": "2025-04-01T11:51:56.383465",
     "status": "completed"
    },
    "tags": []
   },
   "source": [
    "### Etablissements scolaires"
   ]
  },
  {
   "cell_type": "code",
   "execution_count": 5,
   "id": "7d8bb82fa7db3b7d",
   "metadata": {
    "execution": {
     "iopub.execute_input": "2025-04-01T11:51:56.420225Z",
     "iopub.status.busy": "2025-04-01T11:51:56.419490Z",
     "iopub.status.idle": "2025-04-01T11:51:56.470677Z",
     "shell.execute_reply": "2025-04-01T11:51:56.469693Z"
    },
    "papermill": {
     "duration": 0.068474,
     "end_time": "2025-04-01T11:51:56.474291",
     "exception": false,
     "start_time": "2025-04-01T11:51:56.405817",
     "status": "completed"
    },
    "tags": []
   },
   "outputs": [
    {
     "name": "stdout",
     "output_type": "stream",
     "text": [
      "Annuaire des établissements scolaires extrait ici: /Users/sarahlenet/Desktop/potentiel_solaire/13_potentiel_solaire/algorithme/data/fr-en-annuaire-education.geojson\n"
     ]
    }
   ],
   "source": [
    "schools_establishments_path = extract_schools_establishments()\n",
    "print(f\"Annuaire des établissements scolaires extrait ici: {schools_establishments_path}\")"
   ]
  },
  {
   "cell_type": "markdown",
   "id": "d24a2e59f349d78c",
   "metadata": {
    "papermill": {
     "duration": 0.009713,
     "end_time": "2025-04-01T11:51:56.493418",
     "exception": false,
     "start_time": "2025-04-01T11:51:56.483705",
     "status": "completed"
    },
    "tags": []
   },
   "source": [
    "### BD TOPO"
   ]
  },
  {
   "cell_type": "code",
   "execution_count": 6,
   "id": "3e8f100f2f53930c",
   "metadata": {
    "execution": {
     "iopub.execute_input": "2025-04-01T11:51:56.513043Z",
     "iopub.status.busy": "2025-04-01T11:51:56.512554Z",
     "iopub.status.idle": "2025-04-01T11:52:42.083946Z",
     "shell.execute_reply": "2025-04-01T11:52:42.081953Z"
    },
    "papermill": {
     "duration": 45.615765,
     "end_time": "2025-04-01T11:52:42.118791",
     "exception": false,
     "start_time": "2025-04-01T11:51:56.503026",
     "status": "completed"
    },
    "tags": []
   },
   "outputs": [
    {
     "name": "stdout",
     "output_type": "stream",
     "text": [
      "BD TOPO extraite ici: /Users/sarahlenet/Desktop/potentiel_solaire/13_potentiel_solaire/algorithme/data/BDTOPO_3-4_TOUSTHEMES_GPKG_LAMB93_D093_2024-12-15/BDTOPO/1_DONNEES_LIVRAISON_2024-12-00134/BDT_3-4_GPKG_LAMB93_D093-ED2024-12-15/BDT_3-4_GPKG_LAMB93_D093-ED2024-12-15.gpkg\n"
     ]
    }
   ],
   "source": [
    "bd_topo_path = extract_bd_topo(code_departement=code_departement)\n",
    "print(f\"BD TOPO extraite ici: {bd_topo_path}\")"
   ]
  },
  {
   "cell_type": "markdown",
   "id": "18355b4d87ca074a",
   "metadata": {
    "papermill": {
     "duration": 0.013926,
     "end_time": "2025-04-01T11:52:42.155270",
     "exception": false,
     "start_time": "2025-04-01T11:52:42.141344",
     "status": "completed"
    },
    "tags": []
   },
   "source": []
  },
  {
   "cell_type": "markdown",
   "id": "c26ed5544663d238",
   "metadata": {
    "papermill": {
     "duration": 0.012693,
     "end_time": "2025-04-01T11:52:42.182129",
     "exception": false,
     "start_time": "2025-04-01T11:52:42.169436",
     "status": "completed"
    },
    "tags": []
   },
   "source": [
    "### BD PCI"
   ]
  },
  {
   "cell_type": "code",
   "execution_count": 7,
   "id": "f22aa57125e42448",
   "metadata": {
    "execution": {
     "iopub.execute_input": "2025-04-01T11:52:42.207574Z",
     "iopub.status.busy": "2025-04-01T11:52:42.206916Z",
     "iopub.status.idle": "2025-04-01T11:52:49.539543Z",
     "shell.execute_reply": "2025-04-01T11:52:49.538589Z"
    },
    "papermill": {
     "duration": 7.349039,
     "end_time": "2025-04-01T11:52:49.541740",
     "exception": false,
     "start_time": "2025-04-01T11:52:42.192701",
     "status": "completed"
    },
    "tags": []
   },
   "outputs": [
    {
     "name": "stdout",
     "output_type": "stream",
     "text": [
      "BD PCI extraite ici: /Users/sarahlenet/Desktop/potentiel_solaire/13_potentiel_solaire/algorithme/data/PARCELLAIRE-EXPRESS_1-1__SHP_LAMB93_D093_2025-01-01/PARCELLAIRE-EXPRESS/1_DONNEES_LIVRAISON_2025-03-00057/PEPCI_1-1_SHP_LAMB93_D093/BATIMENT.SHP\n"
     ]
    }
   ],
   "source": [
    "bd_pci_path = extract_bd_pci(code_departement=code_departement)\n",
    "print(f\"BD PCI extraite ici: {bd_pci_path}\")"
   ]
  },
  {
   "cell_type": "markdown",
   "id": "a944bdd9d0c61e1",
   "metadata": {
    "papermill": {
     "duration": 0.007591,
     "end_time": "2025-04-01T11:52:49.559880",
     "exception": false,
     "start_time": "2025-04-01T11:52:49.552289",
     "status": "completed"
    },
    "tags": []
   },
   "source": [
    "### BD IRRADIATION"
   ]
  },
  {
   "cell_type": "code",
   "execution_count": 8,
   "id": "416cb349beec3928",
   "metadata": {
    "execution": {
     "iopub.execute_input": "2025-04-01T11:52:49.588554Z",
     "iopub.status.busy": "2025-04-01T11:52:49.587617Z",
     "iopub.status.idle": "2025-04-01T11:52:52.055287Z",
     "shell.execute_reply": "2025-04-01T11:52:52.054285Z"
    },
    "papermill": {
     "duration": 2.487072,
     "end_time": "2025-04-01T11:52:52.057614",
     "exception": false,
     "start_time": "2025-04-01T11:52:49.570542",
     "status": "completed"
    },
    "tags": []
   },
   "outputs": [
    {
     "name": "stdout",
     "output_type": "stream",
     "text": [
      "BD irradiation extraite ici: /Users/sarahlenet/Desktop/potentiel_solaire/13_potentiel_solaire/algorithme/data/ENR_1-0_IRR-SOL_TIFF_WGS84G_FXX_2023-10-01/1_DONNEES_LIVRAISON/GlobalHorizontalIrradiation.tif\n"
     ]
    }
   ],
   "source": [
    "bd_irradiation_path = extract_bd_irradiation()\n",
    "print(f\"BD irradiation extraite ici: {bd_irradiation_path}\")"
   ]
  },
  {
   "cell_type": "markdown",
   "id": "b315616c8a49a102",
   "metadata": {
    "papermill": {
     "duration": 0.008002,
     "end_time": "2025-04-01T11:52:52.075541",
     "exception": false,
     "start_time": "2025-04-01T11:52:52.067539",
     "status": "completed"
    },
    "tags": []
   },
   "source": [
    "# Filtre des données sur le périmètre du calcul"
   ]
  },
  {
   "cell_type": "markdown",
   "id": "8141e3850bdde72d",
   "metadata": {
    "papermill": {
     "duration": 0.007144,
     "end_time": "2025-04-01T11:52:52.092812",
     "exception": false,
     "start_time": "2025-04-01T11:52:52.085668",
     "status": "completed"
    },
    "tags": []
   },
   "source": [
    "### Etablissements scolaires\n"
   ]
  },
  {
   "cell_type": "code",
   "execution_count": 9,
   "id": "8c2714f479cce131",
   "metadata": {
    "execution": {
     "iopub.execute_input": "2025-04-01T11:52:52.119875Z",
     "iopub.status.busy": "2025-04-01T11:52:52.119537Z",
     "iopub.status.idle": "2025-04-01T11:53:22.899963Z",
     "shell.execute_reply": "2025-04-01T11:53:22.899021Z"
    },
    "papermill": {
     "duration": 30.825931,
     "end_time": "2025-04-01T11:53:22.932447",
     "exception": false,
     "start_time": "2025-04-01T11:52:52.106516",
     "status": "completed"
    },
    "tags": []
   },
   "outputs": [
    {
     "name": "stdout",
     "output_type": "stream",
     "text": [
      "Nb d'établissements scolaires: 1130\n"
     ]
    }
   ],
   "source": [
    "schools_establishments = get_schools_establishments_of_interest(\n",
    "    schools_filepath=schools_establishments_path,\n",
    "    code_departement=code_departement,\n",
    "    types_etablissements=['Ecole', 'Lycée', 'Collège'],\n",
    "    statut_public_prive=\"Public\",\n",
    "    etat=\"OUVERT\",\n",
    "    crs=CRS\n",
    ")\n",
    "nb_schools = schools_establishments.shape[0]\n",
    "print(f\"Nb d'établissements scolaires: {nb_schools}\")"
   ]
  },
  {
   "cell_type": "markdown",
   "id": "6a7c50bff2a4dcab",
   "metadata": {
    "papermill": {
     "duration": 0.014396,
     "end_time": "2025-04-01T11:53:22.961228",
     "exception": false,
     "start_time": "2025-04-01T11:53:22.946832",
     "status": "completed"
    },
    "tags": []
   },
   "source": [
    "### Zone d'intérêt géographique"
   ]
  },
  {
   "cell_type": "code",
   "execution_count": 10,
   "id": "90227f344c76c3d6",
   "metadata": {
    "execution": {
     "iopub.execute_input": "2025-04-01T11:53:22.991677Z",
     "iopub.status.busy": "2025-04-01T11:53:22.990872Z",
     "iopub.status.idle": "2025-04-01T11:53:23.295297Z",
     "shell.execute_reply": "2025-04-01T11:53:23.294580Z"
    },
    "papermill": {
     "duration": 0.323832,
     "end_time": "2025-04-01T11:53:23.298016",
     "exception": false,
     "start_time": "2025-04-01T11:53:22.974184",
     "status": "completed"
    },
    "tags": []
   },
   "outputs": [],
   "source": [
    "codes_commune = schools_establishments[\"code_commune\"].unique()\n",
    "communes = gpd.read_file(bd_topo_path, layer=\"commune\").to_crs(CRS)\n",
    "communes = communes[communes.code_insee.isin(codes_commune)]\n",
    "geom_of_interest = communes.dissolve()[[\"geometry\"]]"
   ]
  },
  {
   "cell_type": "markdown",
   "id": "ed36d1f4a8ff139d",
   "metadata": {
    "papermill": {
     "duration": 0.008772,
     "end_time": "2025-04-01T11:53:23.317196",
     "exception": false,
     "start_time": "2025-04-01T11:53:23.308424",
     "status": "completed"
    },
    "tags": []
   },
   "source": [
    "### Zones d'éducations"
   ]
  },
  {
   "cell_type": "code",
   "execution_count": 11,
   "id": "62c98433be3c4844",
   "metadata": {
    "execution": {
     "iopub.execute_input": "2025-04-01T11:53:23.357983Z",
     "iopub.status.busy": "2025-04-01T11:53:23.357568Z",
     "iopub.status.idle": "2025-04-01T11:53:24.422744Z",
     "shell.execute_reply": "2025-04-01T11:53:24.421445Z"
    },
    "papermill": {
     "duration": 1.093279,
     "end_time": "2025-04-01T11:53:24.424870",
     "exception": false,
     "start_time": "2025-04-01T11:53:23.331591",
     "status": "completed"
    },
    "tags": []
   },
   "outputs": [
    {
     "name": "stderr",
     "output_type": "stream",
     "text": [
      "/Users/sarahlenet/Desktop/potentiel_solaire/13_potentiel_solaire/algorithme/.venv/lib/python3.11/site-packages/pyogrio/core.py:279: RuntimeWarning: Field format 'character varying' not supported\n",
      "  return ogr_read_info(\n",
      "/Users/sarahlenet/Desktop/potentiel_solaire/13_potentiel_solaire/algorithme/.venv/lib/python3.11/site-packages/pyogrio/core.py:279: RuntimeWarning: Field format 'character varying(256)' not supported\n",
      "  return ogr_read_info(\n",
      "/Users/sarahlenet/Desktop/potentiel_solaire/13_potentiel_solaire/algorithme/.venv/lib/python3.11/site-packages/pyogrio/core.py:279: RuntimeWarning: Field format 'character varying(30)' not supported\n",
      "  return ogr_read_info(\n",
      "/Users/sarahlenet/Desktop/potentiel_solaire/13_potentiel_solaire/algorithme/.venv/lib/python3.11/site-packages/pyogrio/core.py:279: RuntimeWarning: Field format 'timestamp with time zone' not supported\n",
      "  return ogr_read_info(\n",
      "/Users/sarahlenet/Desktop/potentiel_solaire/13_potentiel_solaire/algorithme/.venv/lib/python3.11/site-packages/geopandas/io/file.py:497: UserWarning: More than one layer found in 'BDT_3-4_GPKG_LAMB93_D093-ED2024-12-15.gpkg': 'troncon_de_route' (default), 'route_numerotee_ou_nommee', 'itineraire_autre', 'troncon_de_voie_ferree', 'equipement_de_transport', 'piste_d_aerodrome', 'aerodrome', 'point_de_repere', 'non_communication', 'point_du_reseau', 'voie_ferree_nommee', 'toponymie_transport', 'batiment', 'cimetiere', 'construction_lineaire', 'construction_ponctuelle', 'construction_surfacique', 'reservoir', 'ligne_orographique', 'pylone', 'terrain_de_sport', 'toponymie_bati', 'cours_d_eau', 'troncon_hydrographique', 'bassin_versant_topographique', 'plan_d_eau', 'surface_hydrographique', 'noeud_hydrographique', 'detail_hydrographique', 'toponymie_hydrographie', 'zone_d_habitation', 'lieu_dit_non_habite', 'detail_orographique', 'toponymie_lieux_nommes', 'canalisation', 'ligne_electrique', 'poste_de_transformation', 'erp', 'zone_d_activite_ou_d_interet', 'toponymie_services_et_activites', 'voie_nommee', 'parc_ou_reserve', 'foret_publique', 'toponymie_zones_reglementees', 'haie', 'zone_de_vegetation', 'arrondissement', 'arrondissement_municipal', 'commune', 'epci', 'collectivite_territoriale', 'departement', 'region', 'adresse_ban', 'batiment_rnb_lien_bdtopo', 'lien_adresse_vers_bdtopo', 'section_de_points_de_repere', 'info_metadonnees', 'metadonnees_lot', 'metadonnees_theme', 'layer_styles'. Specify layer parameter to avoid this warning.\n",
      "  crs = pyogrio.read_info(path_or_bytes).get(\"crs\")\n"
     ]
    },
    {
     "name": "stdout",
     "output_type": "stream",
     "text": [
      "Nb de zones d'éducations:  1088\n"
     ]
    }
   ],
   "source": [
    "educational_zones = get_topo_zones_of_interest(\n",
    "    bd_topo_path=bd_topo_path,\n",
    "    geom_of_interest=geom_of_interest,\n",
    "    categories=[\"Science et enseignement\"],\n",
    "    natures=['Collège', 'Lycée', 'Enseignement primaire'],\n",
    "    crs=CRS\n",
    ")\n",
    "nb_educational_zones = educational_zones.shape[0]\n",
    "print(\"Nb de zones d'éducations: \", nb_educational_zones)"
   ]
  },
  {
   "cell_type": "markdown",
   "id": "50d92236b74ff088",
   "metadata": {
    "papermill": {
     "duration": 0.011136,
     "end_time": "2025-04-01T11:53:24.448163",
     "exception": false,
     "start_time": "2025-04-01T11:53:24.437027",
     "status": "completed"
    },
    "tags": []
   },
   "source": [
    "### Bâtiments"
   ]
  },
  {
   "cell_type": "code",
   "execution_count": 12,
   "id": "b092bb4fd4942b",
   "metadata": {
    "execution": {
     "iopub.execute_input": "2025-04-01T11:53:24.517765Z",
     "iopub.status.busy": "2025-04-01T11:53:24.517037Z",
     "iopub.status.idle": "2025-04-01T11:54:19.820095Z",
     "shell.execute_reply": "2025-04-01T11:54:19.819337Z"
    },
    "papermill": {
     "duration": 55.400464,
     "end_time": "2025-04-01T11:54:19.867353",
     "exception": false,
     "start_time": "2025-04-01T11:53:24.466889",
     "status": "completed"
    },
    "tags": []
   },
   "outputs": [
    {
     "name": "stderr",
     "output_type": "stream",
     "text": [
      "/Users/sarahlenet/Desktop/potentiel_solaire/13_potentiel_solaire/algorithme/.venv/lib/python3.11/site-packages/pyogrio/core.py:279: RuntimeWarning: Field format 'character varying' not supported\n",
      "  return ogr_read_info(\n",
      "/Users/sarahlenet/Desktop/potentiel_solaire/13_potentiel_solaire/algorithme/.venv/lib/python3.11/site-packages/pyogrio/core.py:279: RuntimeWarning: Field format 'character varying(256)' not supported\n",
      "  return ogr_read_info(\n",
      "/Users/sarahlenet/Desktop/potentiel_solaire/13_potentiel_solaire/algorithme/.venv/lib/python3.11/site-packages/pyogrio/core.py:279: RuntimeWarning: Field format 'character varying(30)' not supported\n",
      "  return ogr_read_info(\n",
      "/Users/sarahlenet/Desktop/potentiel_solaire/13_potentiel_solaire/algorithme/.venv/lib/python3.11/site-packages/pyogrio/core.py:279: RuntimeWarning: Field format 'timestamp with time zone' not supported\n",
      "  return ogr_read_info(\n",
      "/Users/sarahlenet/Desktop/potentiel_solaire/13_potentiel_solaire/algorithme/.venv/lib/python3.11/site-packages/geopandas/io/file.py:497: UserWarning: More than one layer found in 'BDT_3-4_GPKG_LAMB93_D093-ED2024-12-15.gpkg': 'troncon_de_route' (default), 'route_numerotee_ou_nommee', 'itineraire_autre', 'troncon_de_voie_ferree', 'equipement_de_transport', 'piste_d_aerodrome', 'aerodrome', 'point_de_repere', 'non_communication', 'point_du_reseau', 'voie_ferree_nommee', 'toponymie_transport', 'batiment', 'cimetiere', 'construction_lineaire', 'construction_ponctuelle', 'construction_surfacique', 'reservoir', 'ligne_orographique', 'pylone', 'terrain_de_sport', 'toponymie_bati', 'cours_d_eau', 'troncon_hydrographique', 'bassin_versant_topographique', 'plan_d_eau', 'surface_hydrographique', 'noeud_hydrographique', 'detail_hydrographique', 'toponymie_hydrographie', 'zone_d_habitation', 'lieu_dit_non_habite', 'detail_orographique', 'toponymie_lieux_nommes', 'canalisation', 'ligne_electrique', 'poste_de_transformation', 'erp', 'zone_d_activite_ou_d_interet', 'toponymie_services_et_activites', 'voie_nommee', 'parc_ou_reserve', 'foret_publique', 'toponymie_zones_reglementees', 'haie', 'zone_de_vegetation', 'arrondissement', 'arrondissement_municipal', 'commune', 'epci', 'collectivite_territoriale', 'departement', 'region', 'adresse_ban', 'batiment_rnb_lien_bdtopo', 'lien_adresse_vers_bdtopo', 'section_de_points_de_repere', 'info_metadonnees', 'metadonnees_lot', 'metadonnees_theme', 'layer_styles'. Specify layer parameter to avoid this warning.\n",
      "  crs = pyogrio.read_info(path_or_bytes).get(\"crs\")\n"
     ]
    },
    {
     "name": "stdout",
     "output_type": "stream",
     "text": [
      "Nb de batiments:  351577\n"
     ]
    }
   ],
   "source": [
    "# TODO : ajout des batiments manquants avec la BD PCI\n",
    "buildings = get_topo_buildings_of_interest(\n",
    "    bd_topo_path=bd_topo_path,\n",
    "    geom_of_interest=geom_of_interest,\n",
    "    crs=CRS\n",
    ")\n",
    "nb_buildings = buildings.shape[0]\n",
    "print(\"Nb de batiments: \", nb_buildings)"
   ]
  },
  {
   "cell_type": "markdown",
   "id": "129b67af5c421e52",
   "metadata": {
    "papermill": {
     "duration": 0.011908,
     "end_time": "2025-04-01T11:54:19.894745",
     "exception": false,
     "start_time": "2025-04-01T11:54:19.882837",
     "status": "completed"
    },
    "tags": []
   },
   "source": [
    "# Détermination des bâtiments scolaires"
   ]
  },
  {
   "cell_type": "code",
   "execution_count": 13,
   "id": "f164fcc395a85eeb",
   "metadata": {
    "execution": {
     "iopub.execute_input": "2025-04-01T11:54:19.926111Z",
     "iopub.status.busy": "2025-04-01T11:54:19.925751Z",
     "iopub.status.idle": "2025-04-01T11:54:20.835978Z",
     "shell.execute_reply": "2025-04-01T11:54:20.833572Z"
    },
    "papermill": {
     "duration": 0.93245,
     "end_time": "2025-04-01T11:54:20.840177",
     "exception": false,
     "start_time": "2025-04-01T11:54:19.907727",
     "status": "completed"
    },
    "tags": []
   },
   "outputs": [
    {
     "name": "stderr",
     "output_type": "stream",
     "text": [
      "/Users/sarahlenet/Desktop/potentiel_solaire/13_potentiel_solaire/algorithme/.venv/lib/python3.11/site-packages/geopandas/array.py:403: UserWarning: Geometry is in a geographic CRS. Results from 'sjoin_nearest' are likely incorrect. Use 'GeoSeries.to_crs()' to re-project geometries to a projected CRS before this operation.\n",
      "\n",
      "  warnings.warn(\n"
     ]
    }
   ],
   "source": [
    "schools_buildings = attach_buildings_to_schools(\n",
    "        schools_establishments=schools_establishments,\n",
    "        educational_zones=educational_zones,\n",
    "        buildings=buildings\n",
    ")"
   ]
  },
  {
   "cell_type": "markdown",
   "id": "25094a9970938a7d",
   "metadata": {
    "papermill": {
     "duration": 0.024924,
     "end_time": "2025-04-01T11:54:20.895075",
     "exception": false,
     "start_time": "2025-04-01T11:54:20.870151",
     "status": "completed"
    },
    "tags": []
   },
   "source": [
    "# Calcul des attributs utiles pour le potentiel solaire"
   ]
  },
  {
   "cell_type": "code",
   "execution_count": 14,
   "id": "c0cf2ab1980a4b17",
   "metadata": {
    "execution": {
     "iopub.execute_input": "2025-04-01T11:54:20.939496Z",
     "iopub.status.busy": "2025-04-01T11:54:20.939001Z",
     "iopub.status.idle": "2025-04-01T11:54:40.359355Z",
     "shell.execute_reply": "2025-04-01T11:54:40.356124Z"
    },
    "papermill": {
     "duration": 19.450285,
     "end_time": "2025-04-01T11:54:40.368748",
     "exception": false,
     "start_time": "2025-04-01T11:54:20.918463",
     "status": "completed"
    },
    "tags": []
   },
   "outputs": [],
   "source": [
    "# TODO: v0 seulement à ce stade\n",
    "solar_potential_of_schools_buildings = calculate_solar_potential(\n",
    "    schools_buildings=schools_buildings,\n",
    "    bd_irradiation_path=bd_irradiation_path\n",
    ")"
   ]
  },
  {
   "cell_type": "markdown",
   "id": "122f28cb4df0c233",
   "metadata": {
    "papermill": {
     "duration": 0.009735,
     "end_time": "2025-04-01T11:54:40.394034",
     "exception": false,
     "start_time": "2025-04-01T11:54:40.384299",
     "status": "completed"
    },
    "tags": []
   },
   "source": [
    "# Dump des donnees pour analyses"
   ]
  },
  {
   "cell_type": "code",
   "execution_count": 15,
   "id": "ec6bfaba919117a6",
   "metadata": {
    "execution": {
     "iopub.execute_input": "2025-04-01T11:54:40.454671Z",
     "iopub.status.busy": "2025-04-01T11:54:40.454026Z",
     "iopub.status.idle": "2025-04-01T11:54:41.215715Z",
     "shell.execute_reply": "2025-04-01T11:54:41.214810Z"
    },
    "papermill": {
     "duration": 0.777186,
     "end_time": "2025-04-01T11:54:41.218293",
     "exception": false,
     "start_time": "2025-04-01T11:54:40.441107",
     "status": "completed"
    },
    "tags": []
   },
   "outputs": [],
   "source": [
    "solar_potential_of_schools_buildings[\"zone_autour_du_batiment\"] = solar_potential_of_schools_buildings[\"zone_autour_du_batiment\"].to_wkt()\n",
    "\n",
    "layers = [\"schools_establishments\", \"educational_zones\", \"schools_buildings\", \"solar_potential_of_schools_buildings\"]\n",
    "gdfs = [schools_establishments, educational_zones, schools_buildings, solar_potential_of_schools_buildings]\n",
    "\n",
    "for layer, gdf in zip(layers, gdfs):\n",
    "    output_gpkg = DATA_FOLDER / f\"{code_departement}_pipeline_results.gpkg\"\n",
    "    gdf.to_file(output_gpkg, layer=layer, driver=\"GPKG\")"
   ]
  },
  {
   "cell_type": "markdown",
   "id": "363dff224bfb7766",
   "metadata": {
    "papermill": {
     "duration": 0.009649,
     "end_time": "2025-04-01T11:54:41.238126",
     "exception": false,
     "start_time": "2025-04-01T11:54:41.228477",
     "status": "completed"
    },
    "tags": []
   },
   "source": [
    "# Checks sur la qualité des données & calculs"
   ]
  },
  {
   "cell_type": "code",
   "execution_count": 16,
   "id": "46d41149e1faf14f",
   "metadata": {
    "execution": {
     "iopub.execute_input": "2025-04-01T11:54:41.276130Z",
     "iopub.status.busy": "2025-04-01T11:54:41.275801Z",
     "iopub.status.idle": "2025-04-01T11:54:41.308994Z",
     "shell.execute_reply": "2025-04-01T11:54:41.308187Z"
    },
    "papermill": {
     "duration": 0.066988,
     "end_time": "2025-04-01T11:54:41.318049",
     "exception": false,
     "start_time": "2025-04-01T11:54:41.251061",
     "status": "completed"
    },
    "tags": []
   },
   "outputs": [
    {
     "name": "stdout",
     "output_type": "stream",
     "text": [
      "Nb d'établissements scolaires avec des batiments: 445 (39%)\n"
     ]
    }
   ],
   "source": [
    "nb_schools_with_buildings = len(schools_buildings.identifiant_de_l_etablissement.unique())\n",
    "print(\"Nb d'établissements scolaires avec des batiments: {} ({}%)\".format(\n",
    "    nb_schools_with_buildings,\n",
    "    round(100 * nb_schools_with_buildings / nb_schools)\n",
    "))"
   ]
  },
  {
   "cell_type": "markdown",
   "id": "9b78aec5982e6099",
   "metadata": {
    "papermill": {
     "duration": 0.014774,
     "end_time": "2025-04-01T11:54:41.349320",
     "exception": false,
     "start_time": "2025-04-01T11:54:41.334546",
     "status": "completed"
    },
    "tags": []
   },
   "source": [
    "# Aggrégations"
   ]
  },
  {
   "cell_type": "markdown",
   "id": "c031864081bf3adb",
   "metadata": {
    "papermill": {
     "duration": 0.01648,
     "end_time": "2025-04-01T11:54:41.382042",
     "exception": false,
     "start_time": "2025-04-01T11:54:41.365562",
     "status": "completed"
    },
    "tags": []
   },
   "source": [
    "### Par établissement scolaire"
   ]
  },
  {
   "cell_type": "code",
   "execution_count": 17,
   "id": "c469e5829a888e0a",
   "metadata": {
    "execution": {
     "iopub.execute_input": "2025-04-01T11:54:41.408360Z",
     "iopub.status.busy": "2025-04-01T11:54:41.407541Z",
     "iopub.status.idle": "2025-04-01T11:54:41.716911Z",
     "shell.execute_reply": "2025-04-01T11:54:41.714420Z"
    },
    "papermill": {
     "duration": 0.325447,
     "end_time": "2025-04-01T11:54:41.721202",
     "exception": false,
     "start_time": "2025-04-01T11:54:41.395755",
     "status": "completed"
    },
    "tags": []
   },
   "outputs": [],
   "source": [
    "results_by_school = aggregate_solar_potential_by(\n",
    "    schools_establishments=schools_establishments,\n",
    "    solar_potential_of_schools_buildings=solar_potential_of_schools_buildings,\n",
    "    group_by = [\n",
    "        \"identifiant_de_l_etablissement\",\n",
    "        \"nom_etablissement\",\n",
    "        \"type_etablissement\",\n",
    "        \"libelle_nature\",\n",
    "        \"code_commune\",\n",
    "        \"nom_commune\",\n",
    "        \"code_departement\",\n",
    "        \"libelle_departement\",\n",
    "        \"code_region\",\n",
    "        \"libelle_region\",\n",
    "    ]\n",
    ")"
   ]
  },
  {
   "cell_type": "markdown",
   "id": "4095f66c6c4336a0",
   "metadata": {
    "papermill": {
     "duration": 0.021374,
     "end_time": "2025-04-01T11:54:41.759777",
     "exception": false,
     "start_time": "2025-04-01T11:54:41.738403",
     "status": "completed"
    },
    "tags": []
   },
   "source": [
    "### Par commune"
   ]
  },
  {
   "cell_type": "code",
   "execution_count": 18,
   "id": "1d2b76a6b5a0a16b",
   "metadata": {
    "execution": {
     "iopub.execute_input": "2025-04-01T11:54:41.813043Z",
     "iopub.status.busy": "2025-04-01T11:54:41.812209Z",
     "iopub.status.idle": "2025-04-01T11:54:41.946675Z",
     "shell.execute_reply": "2025-04-01T11:54:41.945124Z"
    },
    "papermill": {
     "duration": 0.164207,
     "end_time": "2025-04-01T11:54:41.951924",
     "exception": false,
     "start_time": "2025-04-01T11:54:41.787717",
     "status": "completed"
    },
    "tags": []
   },
   "outputs": [],
   "source": [
    "results_by_commune = aggregate_solar_potential_by(\n",
    "    schools_establishments=schools_establishments,\n",
    "    solar_potential_of_schools_buildings=solar_potential_of_schools_buildings,\n",
    "    group_by = [\n",
    "        \"code_commune\",\n",
    "        \"nom_commune\",\n",
    "        \"code_departement\",\n",
    "        \"libelle_departement\",\n",
    "        \"code_region\",\n",
    "        \"libelle_region\",\n",
    "    ]\n",
    ")\n",
    "# TODO : la geometrie de la commune est fausse"
   ]
  },
  {
   "cell_type": "markdown",
   "id": "b1979de1a83e56b",
   "metadata": {
    "papermill": {
     "duration": 0.013951,
     "end_time": "2025-04-01T11:54:41.978700",
     "exception": false,
     "start_time": "2025-04-01T11:54:41.964749",
     "status": "completed"
    },
    "tags": []
   },
   "source": [
    "### Par département"
   ]
  },
  {
   "cell_type": "code",
   "execution_count": 19,
   "id": "aa0632566b289415",
   "metadata": {
    "execution": {
     "iopub.execute_input": "2025-04-01T11:54:42.013332Z",
     "iopub.status.busy": "2025-04-01T11:54:42.012717Z",
     "iopub.status.idle": "2025-04-01T11:54:42.109104Z",
     "shell.execute_reply": "2025-04-01T11:54:42.108204Z"
    },
    "papermill": {
     "duration": 0.116162,
     "end_time": "2025-04-01T11:54:42.112443",
     "exception": false,
     "start_time": "2025-04-01T11:54:41.996281",
     "status": "completed"
    },
    "tags": []
   },
   "outputs": [],
   "source": [
    "results_by_departement = aggregate_solar_potential_by(\n",
    "    schools_establishments=schools_establishments,\n",
    "    solar_potential_of_schools_buildings=solar_potential_of_schools_buildings,\n",
    "    group_by = [\n",
    "        \"code_departement\",\n",
    "        \"libelle_departement\",\n",
    "        \"code_region\",\n",
    "        \"libelle_region\",\n",
    "    ]\n",
    ")\n",
    "# TODO : la geometrie du departement est fausse"
   ]
  },
  {
   "cell_type": "markdown",
   "id": "35202e1b07211fb1",
   "metadata": {
    "papermill": {
     "duration": 0.011974,
     "end_time": "2025-04-01T11:54:42.138210",
     "exception": false,
     "start_time": "2025-04-01T11:54:42.126236",
     "status": "completed"
    },
    "tags": []
   },
   "source": [
    "### Par région"
   ]
  },
  {
   "cell_type": "code",
   "execution_count": 20,
   "id": "8cf55b4e6ce04838",
   "metadata": {
    "execution": {
     "iopub.execute_input": "2025-04-01T11:54:42.169987Z",
     "iopub.status.busy": "2025-04-01T11:54:42.169228Z",
     "iopub.status.idle": "2025-04-01T11:54:42.198623Z",
     "shell.execute_reply": "2025-04-01T11:54:42.197897Z"
    },
    "papermill": {
     "duration": 0.048883,
     "end_time": "2025-04-01T11:54:42.200668",
     "exception": false,
     "start_time": "2025-04-01T11:54:42.151785",
     "status": "completed"
    },
    "tags": []
   },
   "outputs": [],
   "source": [
    "# TODO : demande de se connecter au bucket avec les resultats existants pour aggreger \n",
    "# TODO : ou de faire le calcul pour tous les departements d une region"
   ]
  },
  {
   "cell_type": "markdown",
   "id": "229708fb93570bb0",
   "metadata": {
    "papermill": {
     "duration": 0.009197,
     "end_time": "2025-04-01T11:54:42.219986",
     "exception": false,
     "start_time": "2025-04-01T11:54:42.210789",
     "status": "completed"
    },
    "tags": []
   },
   "source": [
    "# Sauvegarde des fichiers"
   ]
  },
  {
   "cell_type": "code",
   "execution_count": 21,
   "id": "f071523c837a9df5",
   "metadata": {
    "execution": {
     "iopub.execute_input": "2025-04-01T11:54:42.245534Z",
     "iopub.status.busy": "2025-04-01T11:54:42.245093Z",
     "iopub.status.idle": "2025-04-01T11:54:42.377281Z",
     "shell.execute_reply": "2025-04-01T11:54:42.376500Z"
    },
    "papermill": {
     "duration": 0.149181,
     "end_time": "2025-04-01T11:54:42.379499",
     "exception": false,
     "start_time": "2025-04-01T11:54:42.230318",
     "status": "completed"
    },
    "tags": []
   },
   "outputs": [],
   "source": [
    "output_folder = ALGORITHME_FOLDER.parent / \"results\" / f\"D{code_departement}\"\n",
    "output_folder.mkdir(exist_ok=True, parents=True)\n",
    "\n",
    "# TODO : a voir cote front sil faut changer le format de mise a disposition\n",
    "results_by_school.to_file(output_folder / f\"D{code_departement}_ecoles.geojson\", driver=\"GeoJSON\")\n",
    "results_by_commune.to_file(output_folder / f\"D{code_departement}_communes.geojson\", driver=\"GeoJSON\")\n",
    "results_by_departement.to_file(output_folder / f\"D{code_departement}_departement.geojson\", driver=\"GeoJSON\")"
   ]
  }
 ],
 "metadata": {
  "kernelspec": {
   "display_name": ".venv",
   "language": "python",
   "name": "python3"
  },
  "language_info": {
   "codemirror_mode": {
    "name": "ipython",
    "version": 3
   },
   "file_extension": ".py",
   "mimetype": "text/x-python",
   "name": "python",
   "nbconvert_exporter": "python",
   "pygments_lexer": "ipython3",
   "version": "3.11.7"
  },
  "papermill": {
   "default_parameters": {},
   "duration": 262.136377,
   "end_time": "2025-04-01T11:54:44.175953",
   "environment_variables": {},
   "exception": null,
   "input_path": "/Users/sarahlenet/Desktop/potentiel_solaire/13_potentiel_solaire/algorithme/notebooks/pipeline_algorithme.ipynb",
   "output_path": "/Users/sarahlenet/Desktop/potentiel_solaire/13_potentiel_solaire/algorithme/notebooks/exports/093_pipeline_algorithme.ipynb",
   "parameters": {
    "code_departement": "093",
    "logs_level": "WARNING"
   },
   "start_time": "2025-04-01T11:50:22.039576",
   "version": "2.6.0"
  }
 },
 "nbformat": 4,
 "nbformat_minor": 5
}