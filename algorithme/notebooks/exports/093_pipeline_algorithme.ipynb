{
 "cells": [
  {
   "cell_type": "code",
   "execution_count": 1,
   "id": "f1f565b7",
   "metadata": {
    "execution": {
     "iopub.execute_input": "2025-03-08T16:01:19.420705Z",
     "iopub.status.busy": "2025-03-08T16:01:19.420705Z",
     "iopub.status.idle": "2025-03-08T16:01:19.478687Z",
     "shell.execute_reply": "2025-03-08T16:01:19.478253Z"
    },
    "papermill": {
     "duration": 0.065011,
     "end_time": "2025-03-08T16:01:19.480201",
     "exception": false,
     "start_time": "2025-03-08T16:01:19.415190",
     "status": "completed"
    },
    "tags": []
   },
   "outputs": [],
   "source": [
    "%load_ext autoreload\n",
    "%autoreload 2"
   ]
  },
  {
   "cell_type": "markdown",
   "id": "7218350249b1103e",
   "metadata": {
    "papermill": {
     "duration": 0.002996,
     "end_time": "2025-03-08T16:01:19.487205",
     "exception": false,
     "start_time": "2025-03-08T16:01:19.484209",
     "status": "completed"
    },
    "tags": []
   },
   "source": [
    "# Paramètres de la pipeline"
   ]
  },
  {
   "cell_type": "code",
   "execution_count": 2,
   "id": "6358f4912f9f22ab",
   "metadata": {
    "editable": true,
    "execution": {
     "iopub.execute_input": "2025-03-08T16:01:19.498842Z",
     "iopub.status.busy": "2025-03-08T16:01:19.498842Z",
     "iopub.status.idle": "2025-03-08T16:01:19.526652Z",
     "shell.execute_reply": "2025-03-08T16:01:19.526652Z"
    },
    "papermill": {
     "duration": 0.03632,
     "end_time": "2025-03-08T16:01:19.527656",
     "exception": false,
     "start_time": "2025-03-08T16:01:19.491336",
     "status": "completed"
    },
    "slideshow": {
     "slide_type": ""
    },
    "tags": [
     "parameters"
    ]
   },
   "outputs": [],
   "source": [
    "code_departement = \"093\"\n",
    "logs_level = \"WARNING\""
   ]
  },
  {
   "cell_type": "code",
   "execution_count": 3,
   "id": "736b02ea",
   "metadata": {
    "execution": {
     "iopub.execute_input": "2025-03-08T16:01:19.536169Z",
     "iopub.status.busy": "2025-03-08T16:01:19.536169Z",
     "iopub.status.idle": "2025-03-08T16:01:19.565462Z",
     "shell.execute_reply": "2025-03-08T16:01:19.565462Z"
    },
    "papermill": {
     "duration": 0.034302,
     "end_time": "2025-03-08T16:01:19.566466",
     "exception": false,
     "start_time": "2025-03-08T16:01:19.532164",
     "status": "completed"
    },
    "tags": [
     "injected-parameters"
    ]
   },
   "outputs": [],
   "source": [
    "# Parameters\n",
    "code_departement = \"093\"\n",
    "logs_level = \"WARNING\"\n"
   ]
  },
  {
   "cell_type": "markdown",
   "id": "d3a70f3e57e62a7c",
   "metadata": {
    "papermill": {
     "duration": 0.003291,
     "end_time": "2025-03-08T16:01:19.576273",
     "exception": false,
     "start_time": "2025-03-08T16:01:19.572982",
     "status": "completed"
    },
    "tags": []
   },
   "source": [
    "# Imports & setup"
   ]
  },
  {
   "cell_type": "code",
   "execution_count": 4,
   "id": "aa88b759c982f54c",
   "metadata": {
    "execution": {
     "iopub.execute_input": "2025-03-08T16:01:19.585791Z",
     "iopub.status.busy": "2025-03-08T16:01:19.585791Z",
     "iopub.status.idle": "2025-03-08T16:01:32.233876Z",
     "shell.execute_reply": "2025-03-08T16:01:32.233876Z"
    },
    "papermill": {
     "duration": 12.655096,
     "end_time": "2025-03-08T16:01:32.235881",
     "exception": false,
     "start_time": "2025-03-08T16:01:19.580785",
     "status": "completed"
    },
    "tags": []
   },
   "outputs": [
    {
     "name": "stderr",
     "output_type": "stream",
     "text": [
      "2025-03-08 17:01:31,499 - DEBUG - rasterio.session - C:\\Users\\micka\\Projects\\13_potentiel_solaire\\algorithme\\.venv\\Lib\\site-packages\\rasterio\\session.py - <module> - Could not import boto3, continuing with reduced functionality.\n"
     ]
    },
    {
     "name": "stderr",
     "output_type": "stream",
     "text": [
      "2025-03-08 17:01:31,500 - DEBUG - rasterio.env - C:\\Users\\micka\\Projects\\13_potentiel_solaire\\algorithme\\.venv\\Lib\\site-packages\\rasterio\\env.py - <module> - GDAL data found in package: path='C:\\\\Users\\\\micka\\\\Projects\\\\13_potentiel_solaire\\\\algorithme\\\\.venv\\\\Lib\\\\site-packages\\\\rasterio\\\\gdal_data'.\n"
     ]
    },
    {
     "name": "stderr",
     "output_type": "stream",
     "text": [
      "2025-03-08 17:01:31,501 - DEBUG - rasterio.env - C:\\Users\\micka\\Projects\\13_potentiel_solaire\\algorithme\\.venv\\Lib\\site-packages\\rasterio\\env.py - <module> - PROJ data found in package: path='C:\\\\Users\\\\micka\\\\Projects\\\\13_potentiel_solaire\\\\algorithme\\\\.venv\\\\Lib\\\\site-packages\\\\rasterio\\\\proj_data'.\n"
     ]
    }
   ],
   "source": [
    "import geopandas as gpd\n",
    "\n",
    "from potentiel_solaire.attach_buildings_to_schools import attach_buildings_to_schools\n",
    "from potentiel_solaire.constants import DEFAULT_CRS, ALGORITHME_FOLDER, DATA_FOLDER\n",
    "from potentiel_solaire.sources.bd_topo import extract_bd_topo, get_topo_zones_of_interest, \\\n",
    "    get_topo_buildings_of_interest\n",
    "from potentiel_solaire.sources.bd_pci import extract_bd_pci\n",
    "from potentiel_solaire.sources.bd_solar_irradiation import extract_bd_irradiation\n",
    "from potentiel_solaire.sources.schools_establishments import extract_schools_establishments, \\\n",
    "    get_schools_establishments_of_interest\n",
    "from potentiel_solaire.sources.protected_buildings import extract_protected_buildings, get_areas_with_protected_buildings\n",
    "from potentiel_solaire.features.solar_potential import calculate_solar_potential\n",
    "from potentiel_solaire.aggregate import aggregate_solar_potential_by\n",
    "from potentiel_solaire.logger import get_logger\n",
    "\n",
    "logger = get_logger()\n",
    "logger.setLevel(logs_level)"
   ]
  },
  {
   "cell_type": "markdown",
   "id": "a9a9258eef4ab443",
   "metadata": {
    "papermill": {
     "duration": 0.004003,
     "end_time": "2025-03-08T16:01:32.244391",
     "exception": false,
     "start_time": "2025-03-08T16:01:32.240388",
     "status": "completed"
    },
    "tags": []
   },
   "source": [
    "# Extraction des données sources"
   ]
  },
  {
   "cell_type": "markdown",
   "id": "463a1d94816fdbc3",
   "metadata": {
    "papermill": {
     "duration": 0.004001,
     "end_time": "2025-03-08T16:01:32.253994",
     "exception": false,
     "start_time": "2025-03-08T16:01:32.249993",
     "status": "completed"
    },
    "tags": []
   },
   "source": [
    "### Etablissements scolaires"
   ]
  },
  {
   "cell_type": "code",
   "execution_count": 5,
   "id": "7d8bb82fa7db3b7d",
   "metadata": {
    "execution": {
     "iopub.execute_input": "2025-03-08T16:01:32.263277Z",
     "iopub.status.busy": "2025-03-08T16:01:32.262277Z",
     "iopub.status.idle": "2025-03-08T16:02:16.457374Z",
     "shell.execute_reply": "2025-03-08T16:02:16.457374Z"
    },
    "papermill": {
     "duration": 44.204434,
     "end_time": "2025-03-08T16:02:16.462427",
     "exception": false,
     "start_time": "2025-03-08T16:01:32.257993",
     "status": "completed"
    },
    "tags": []
   },
   "outputs": [
    {
     "name": "stdout",
     "output_type": "stream",
     "text": [
      "Annuaire des établissements scolaires extrait ici: C:\\Users\\micka\\Projects\\13_potentiel_solaire\\algorithme\\data\\fr-en-annuaire-education.geojson\n"
     ]
    }
   ],
   "source": [
    "schools_establishments_path = extract_schools_establishments()\n",
    "print(f\"Annuaire des établissements scolaires extrait ici: {schools_establishments_path}\")"
   ]
  },
  {
   "cell_type": "markdown",
   "id": "d24a2e59f349d78c",
   "metadata": {
    "papermill": {
     "duration": 0.005058,
     "end_time": "2025-03-08T16:02:16.472485",
     "exception": false,
     "start_time": "2025-03-08T16:02:16.467427",
     "status": "completed"
    },
    "tags": []
   },
   "source": [
    "### BD TOPO"
   ]
  },
  {
   "cell_type": "code",
   "execution_count": 6,
   "id": "3e8f100f2f53930c",
   "metadata": {
    "execution": {
     "iopub.execute_input": "2025-03-08T16:02:16.482997Z",
     "iopub.status.busy": "2025-03-08T16:02:16.482997Z",
     "iopub.status.idle": "2025-03-08T16:04:36.174995Z",
     "shell.execute_reply": "2025-03-08T16:04:36.174995Z"
    },
    "papermill": {
     "duration": 139.702023,
     "end_time": "2025-03-08T16:04:36.179508",
     "exception": false,
     "start_time": "2025-03-08T16:02:16.477485",
     "status": "completed"
    },
    "tags": []
   },
   "outputs": [
    {
     "name": "stdout",
     "output_type": "stream",
     "text": [
      "BD TOPO extraite ici: C:\\Users\\micka\\Projects\\13_potentiel_solaire\\algorithme\\data\\BDTOPO_3-4_TOUSTHEMES_GPKG_LAMB93_D093_2024-12-15\\BDTOPO\\1_DONNEES_LIVRAISON_2024-12-00134\\BDT_3-4_GPKG_LAMB93_D093-ED2024-12-15\\BDT_3-4_GPKG_LAMB93_D093-ED2024-12-15.gpkg\n"
     ]
    }
   ],
   "source": [
    "bd_topo_path = extract_bd_topo(code_departement=code_departement)\n",
    "print(f\"BD TOPO extraite ici: {bd_topo_path}\")"
   ]
  },
  {
   "cell_type": "markdown",
   "id": "18355b4d87ca074a",
   "metadata": {
    "papermill": {
     "duration": 0.006237,
     "end_time": "2025-03-08T16:04:36.189745",
     "exception": false,
     "start_time": "2025-03-08T16:04:36.183508",
     "status": "completed"
    },
    "tags": []
   },
   "source": []
  },
  {
   "cell_type": "markdown",
   "id": "c26ed5544663d238",
   "metadata": {
    "papermill": {
     "duration": 0.003503,
     "end_time": "2025-03-08T16:04:36.197248",
     "exception": false,
     "start_time": "2025-03-08T16:04:36.193745",
     "status": "completed"
    },
    "tags": []
   },
   "source": [
    "### BD PCI"
   ]
  },
  {
   "cell_type": "code",
   "execution_count": 7,
   "id": "f22aa57125e42448",
   "metadata": {
    "execution": {
     "iopub.execute_input": "2025-03-08T16:04:36.207252Z",
     "iopub.status.busy": "2025-03-08T16:04:36.206252Z",
     "iopub.status.idle": "2025-03-08T16:04:59.876341Z",
     "shell.execute_reply": "2025-03-08T16:04:59.876341Z"
    },
    "papermill": {
     "duration": 23.675278,
     "end_time": "2025-03-08T16:04:59.877530",
     "exception": false,
     "start_time": "2025-03-08T16:04:36.202252",
     "status": "completed"
    },
    "tags": []
   },
   "outputs": [
    {
     "name": "stdout",
     "output_type": "stream",
     "text": [
      "BD PCI extraite ici: C:\\Users\\micka\\Projects\\13_potentiel_solaire\\algorithme\\data\\PARCELLAIRE-EXPRESS_1-1__SHP_LAMB93_D093_2025-01-01\\PARCELLAIRE-EXPRESS\\1_DONNEES_LIVRAISON_2025-03-00057\\PEPCI_1-1_SHP_LAMB93_D093\\BATIMENT.SHP\n"
     ]
    }
   ],
   "source": [
    "bd_pci_path = extract_bd_pci(code_departement=code_departement)\n",
    "print(f\"BD PCI extraite ici: {bd_pci_path}\")"
   ]
  },
  {
   "cell_type": "markdown",
   "id": "a944bdd9d0c61e1",
   "metadata": {
    "papermill": {
     "duration": 0.0048,
     "end_time": "2025-03-08T16:04:59.887336",
     "exception": false,
     "start_time": "2025-03-08T16:04:59.882536",
     "status": "completed"
    },
    "tags": []
   },
   "source": [
    "### BD IRRADIATION"
   ]
  },
  {
   "cell_type": "code",
   "execution_count": 8,
   "id": "416cb349beec3928",
   "metadata": {
    "execution": {
     "iopub.execute_input": "2025-03-08T16:04:59.896341Z",
     "iopub.status.busy": "2025-03-08T16:04:59.896341Z",
     "iopub.status.idle": "2025-03-08T16:05:01.620658Z",
     "shell.execute_reply": "2025-03-08T16:05:01.620658Z"
    },
    "papermill": {
     "duration": 1.730319,
     "end_time": "2025-03-08T16:05:01.621662",
     "exception": false,
     "start_time": "2025-03-08T16:04:59.891343",
     "status": "completed"
    },
    "tags": []
   },
   "outputs": [
    {
     "name": "stdout",
     "output_type": "stream",
     "text": [
      "BD irradiation extraite ici: C:\\Users\\micka\\Projects\\13_potentiel_solaire\\algorithme\\data\\ENR_1-0_IRR-SOL_TIFF_WGS84G_FXX_2023-10-01\\1_DONNEES_LIVRAISON\\GlobalHorizontalIrradiation.tif\n"
     ]
    }
   ],
   "source": [
    "bd_irradiation_path = extract_bd_irradiation()\n",
    "print(f\"BD irradiation extraite ici: {bd_irradiation_path}\")"
   ]
  },
  {
   "cell_type": "markdown",
   "id": "5d3c5337",
   "metadata": {
    "papermill": {
     "duration": 0.00351,
     "end_time": "2025-03-08T16:05:01.629172",
     "exception": false,
     "start_time": "2025-03-08T16:05:01.625662",
     "status": "completed"
    },
    "tags": []
   },
   "source": [
    "### BD Protected Buildings"
   ]
  },
  {
   "cell_type": "code",
   "execution_count": 9,
   "id": "1786941c",
   "metadata": {
    "execution": {
     "iopub.execute_input": "2025-03-08T16:05:01.639679Z",
     "iopub.status.busy": "2025-03-08T16:05:01.639679Z",
     "iopub.status.idle": "2025-03-08T16:05:28.687416Z",
     "shell.execute_reply": "2025-03-08T16:05:28.687416Z"
    },
    "papermill": {
     "duration": 27.054254,
     "end_time": "2025-03-08T16:05:28.688424",
     "exception": false,
     "start_time": "2025-03-08T16:05:01.634170",
     "status": "completed"
    },
    "tags": []
   },
   "outputs": [
    {
     "name": "stderr",
     "output_type": "stream",
     "text": [
      "2025-03-08 17:05:23,695 - WARNING - pyogrio._io - C:\\Users\\micka\\Projects\\13_potentiel_solaire\\algorithme\\.venv\\Lib\\site-packages\\pyogrio\\raw.py - read - Skipping field cog_insee_lors_de_la_protection: unsupported OGR type: 5\n"
     ]
    },
    {
     "name": "stderr",
     "output_type": "stream",
     "text": [
      "2025-03-08 17:05:23,696 - WARNING - pyogrio._io - C:\\Users\\micka\\Projects\\13_potentiel_solaire\\algorithme\\.venv\\Lib\\site-packages\\pyogrio\\raw.py - read - Skipping field region: unsupported OGR type: 5\n"
     ]
    },
    {
     "name": "stderr",
     "output_type": "stream",
     "text": [
      "2025-03-08 17:05:23,696 - WARNING - pyogrio._io - C:\\Users\\micka\\Projects\\13_potentiel_solaire\\algorithme\\.venv\\Lib\\site-packages\\pyogrio\\raw.py - read - Skipping field departement_en_lettres: unsupported OGR type: 5\n"
     ]
    },
    {
     "name": "stdout",
     "output_type": "stream",
     "text": [
      "BD des bâtiments protégés extraite ici: C:\\Users\\micka\\Projects\\13_potentiel_solaire\\algorithme\\data/liste_immeubles_proteges.geojson\n"
     ]
    }
   ],
   "source": [
    "bd_protected_buildings_path = extract_protected_buildings()\n",
    "print(f\"BD des bâtiments protégés extraite ici: {bd_protected_buildings_path}\")"
   ]
  },
  {
   "cell_type": "markdown",
   "id": "b315616c8a49a102",
   "metadata": {
    "papermill": {
     "duration": 0.004015,
     "end_time": "2025-03-08T16:05:28.697949",
     "exception": false,
     "start_time": "2025-03-08T16:05:28.693934",
     "status": "completed"
    },
    "tags": []
   },
   "source": [
    "# Filtre des données sur le périmètre du calcul"
   ]
  },
  {
   "cell_type": "markdown",
   "id": "8141e3850bdde72d",
   "metadata": {
    "papermill": {
     "duration": 0.004,
     "end_time": "2025-03-08T16:05:28.706949",
     "exception": false,
     "start_time": "2025-03-08T16:05:28.702949",
     "status": "completed"
    },
    "tags": []
   },
   "source": [
    "### Etablissements scolaires\n"
   ]
  },
  {
   "cell_type": "code",
   "execution_count": 10,
   "id": "8c2714f479cce131",
   "metadata": {
    "execution": {
     "iopub.execute_input": "2025-03-08T16:05:28.717256Z",
     "iopub.status.busy": "2025-03-08T16:05:28.716255Z",
     "iopub.status.idle": "2025-03-08T16:05:36.391051Z",
     "shell.execute_reply": "2025-03-08T16:05:36.391051Z"
    },
    "papermill": {
     "duration": 7.680803,
     "end_time": "2025-03-08T16:05:36.392056",
     "exception": false,
     "start_time": "2025-03-08T16:05:28.711253",
     "status": "completed"
    },
    "tags": []
   },
   "outputs": [
    {
     "name": "stdout",
     "output_type": "stream",
     "text": [
      "Nb d'établissements scolaires: 1130\n"
     ]
    }
   ],
   "source": [
    "schools_establishments = get_schools_establishments_of_interest(\n",
    "    schools_filepath=schools_establishments_path,\n",
    "    code_departement=code_departement,\n",
    "    types_etablissements=['Ecole', 'Lycée', 'Collège'],\n",
    "    statut_public_prive=\"Public\",\n",
    "    etat=\"OUVERT\",\n",
    "    crs=DEFAULT_CRS\n",
    ")\n",
    "nb_schools = schools_establishments.shape[0]\n",
    "print(f\"Nb d'établissements scolaires: {nb_schools}\")"
   ]
  },
  {
   "cell_type": "markdown",
   "id": "6a7c50bff2a4dcab",
   "metadata": {
    "papermill": {
     "duration": 0.005013,
     "end_time": "2025-03-08T16:05:36.402092",
     "exception": false,
     "start_time": "2025-03-08T16:05:36.397079",
     "status": "completed"
    },
    "tags": []
   },
   "source": [
    "### Zone d'intérêt géographique"
   ]
  },
  {
   "cell_type": "code",
   "execution_count": 11,
   "id": "90227f344c76c3d6",
   "metadata": {
    "execution": {
     "iopub.execute_input": "2025-03-08T16:05:36.415602Z",
     "iopub.status.busy": "2025-03-08T16:05:36.415602Z",
     "iopub.status.idle": "2025-03-08T16:05:36.558109Z",
     "shell.execute_reply": "2025-03-08T16:05:36.558109Z"
    },
    "papermill": {
     "duration": 0.149515,
     "end_time": "2025-03-08T16:05:36.559113",
     "exception": false,
     "start_time": "2025-03-08T16:05:36.409598",
     "status": "completed"
    },
    "tags": []
   },
   "outputs": [],
   "source": [
    "codes_commune = schools_establishments[\"code_commune\"].unique()\n",
    "communes = gpd.read_file(bd_topo_path, layer=\"commune\").to_crs(DEFAULT_CRS)\n",
    "communes = communes[communes.code_insee.isin(codes_commune)]\n",
    "geom_of_interest = communes.dissolve()[[\"geometry\"]]"
   ]
  },
  {
   "cell_type": "markdown",
   "id": "ed36d1f4a8ff139d",
   "metadata": {
    "papermill": {
     "duration": 0.004486,
     "end_time": "2025-03-08T16:05:36.568601",
     "exception": false,
     "start_time": "2025-03-08T16:05:36.564115",
     "status": "completed"
    },
    "tags": []
   },
   "source": [
    "### Zones d'éducations"
   ]
  },
  {
   "cell_type": "code",
   "execution_count": 12,
   "id": "62c98433be3c4844",
   "metadata": {
    "execution": {
     "iopub.execute_input": "2025-03-08T16:05:36.578111Z",
     "iopub.status.busy": "2025-03-08T16:05:36.578111Z",
     "iopub.status.idle": "2025-03-08T16:05:36.939630Z",
     "shell.execute_reply": "2025-03-08T16:05:36.939630Z"
    },
    "papermill": {
     "duration": 0.368039,
     "end_time": "2025-03-08T16:05:36.940637",
     "exception": false,
     "start_time": "2025-03-08T16:05:36.572598",
     "status": "completed"
    },
    "tags": []
   },
   "outputs": [
    {
     "name": "stderr",
     "output_type": "stream",
     "text": [
      "C:\\Users\\micka\\Projects\\13_potentiel_solaire\\algorithme\\.venv\\Lib\\site-packages\\pyogrio\\core.py:279: RuntimeWarning: Field format 'character varying' not supported\n",
      "  return ogr_read_info(\n",
      "C:\\Users\\micka\\Projects\\13_potentiel_solaire\\algorithme\\.venv\\Lib\\site-packages\\pyogrio\\core.py:279: RuntimeWarning: Field format 'character varying(256)' not supported\n",
      "  return ogr_read_info(\n",
      "C:\\Users\\micka\\Projects\\13_potentiel_solaire\\algorithme\\.venv\\Lib\\site-packages\\pyogrio\\core.py:279: RuntimeWarning: Field format 'character varying(30)' not supported\n",
      "  return ogr_read_info(\n",
      "C:\\Users\\micka\\Projects\\13_potentiel_solaire\\algorithme\\.venv\\Lib\\site-packages\\pyogrio\\core.py:279: RuntimeWarning: Field format 'timestamp with time zone' not supported\n",
      "  return ogr_read_info(\n",
      "C:\\Users\\micka\\Projects\\13_potentiel_solaire\\algorithme\\.venv\\Lib\\site-packages\\geopandas\\io\\file.py:497: UserWarning: More than one layer found in 'BDT_3-4_GPKG_LAMB93_D093-ED2024-12-15.gpkg': 'troncon_de_route' (default), 'route_numerotee_ou_nommee', 'itineraire_autre', 'troncon_de_voie_ferree', 'equipement_de_transport', 'piste_d_aerodrome', 'aerodrome', 'point_de_repere', 'non_communication', 'point_du_reseau', 'voie_ferree_nommee', 'toponymie_transport', 'batiment', 'cimetiere', 'construction_lineaire', 'construction_ponctuelle', 'construction_surfacique', 'reservoir', 'ligne_orographique', 'pylone', 'terrain_de_sport', 'toponymie_bati', 'cours_d_eau', 'troncon_hydrographique', 'bassin_versant_topographique', 'plan_d_eau', 'surface_hydrographique', 'noeud_hydrographique', 'detail_hydrographique', 'toponymie_hydrographie', 'zone_d_habitation', 'lieu_dit_non_habite', 'detail_orographique', 'toponymie_lieux_nommes', 'canalisation', 'ligne_electrique', 'poste_de_transformation', 'erp', 'zone_d_activite_ou_d_interet', 'toponymie_services_et_activites', 'voie_nommee', 'parc_ou_reserve', 'foret_publique', 'toponymie_zones_reglementees', 'haie', 'zone_de_vegetation', 'arrondissement', 'arrondissement_municipal', 'commune', 'epci', 'collectivite_territoriale', 'departement', 'region', 'adresse_ban', 'batiment_rnb_lien_bdtopo', 'lien_adresse_vers_bdtopo', 'section_de_points_de_repere', 'info_metadonnees', 'metadonnees_lot', 'metadonnees_theme', 'layer_styles'. Specify layer parameter to avoid this warning.\n",
      "  crs = pyogrio.read_info(path_or_bytes).get(\"crs\")\n"
     ]
    },
    {
     "name": "stdout",
     "output_type": "stream",
     "text": [
      "Nb de zones d'éducations:  1088\n"
     ]
    }
   ],
   "source": [
    "educational_zones = get_topo_zones_of_interest(\n",
    "    bd_topo_path=bd_topo_path,\n",
    "    geom_of_interest=geom_of_interest,\n",
    "    categories=[\"Science et enseignement\"],\n",
    "    natures=['Collège', 'Lycée', 'Enseignement primaire'],\n",
    "    crs=DEFAULT_CRS\n",
    ")\n",
    "nb_educational_zones = educational_zones.shape[0]\n",
    "print(\"Nb de zones d'éducations: \", nb_educational_zones)"
   ]
  },
  {
   "cell_type": "markdown",
   "id": "50d92236b74ff088",
   "metadata": {
    "papermill": {
     "duration": 0.004512,
     "end_time": "2025-03-08T16:05:36.950146",
     "exception": false,
     "start_time": "2025-03-08T16:05:36.945634",
     "status": "completed"
    },
    "tags": []
   },
   "source": [
    "### Bâtiments"
   ]
  },
  {
   "cell_type": "code",
   "execution_count": 13,
   "id": "b092bb4fd4942b",
   "metadata": {
    "execution": {
     "iopub.execute_input": "2025-03-08T16:05:36.959654Z",
     "iopub.status.busy": "2025-03-08T16:05:36.959654Z",
     "iopub.status.idle": "2025-03-08T16:05:49.931750Z",
     "shell.execute_reply": "2025-03-08T16:05:49.931750Z"
    },
    "papermill": {
     "duration": 12.978108,
     "end_time": "2025-03-08T16:05:49.933252",
     "exception": false,
     "start_time": "2025-03-08T16:05:36.955144",
     "status": "completed"
    },
    "tags": []
   },
   "outputs": [
    {
     "name": "stderr",
     "output_type": "stream",
     "text": [
      "C:\\Users\\micka\\Projects\\13_potentiel_solaire\\algorithme\\.venv\\Lib\\site-packages\\pyogrio\\core.py:279: RuntimeWarning: Field format 'character varying' not supported\n",
      "  return ogr_read_info(\n",
      "C:\\Users\\micka\\Projects\\13_potentiel_solaire\\algorithme\\.venv\\Lib\\site-packages\\pyogrio\\core.py:279: RuntimeWarning: Field format 'character varying(256)' not supported\n",
      "  return ogr_read_info(\n",
      "C:\\Users\\micka\\Projects\\13_potentiel_solaire\\algorithme\\.venv\\Lib\\site-packages\\pyogrio\\core.py:279: RuntimeWarning: Field format 'character varying(30)' not supported\n",
      "  return ogr_read_info(\n",
      "C:\\Users\\micka\\Projects\\13_potentiel_solaire\\algorithme\\.venv\\Lib\\site-packages\\pyogrio\\core.py:279: RuntimeWarning: Field format 'timestamp with time zone' not supported\n",
      "  return ogr_read_info(\n",
      "C:\\Users\\micka\\Projects\\13_potentiel_solaire\\algorithme\\.venv\\Lib\\site-packages\\geopandas\\io\\file.py:497: UserWarning: More than one layer found in 'BDT_3-4_GPKG_LAMB93_D093-ED2024-12-15.gpkg': 'troncon_de_route' (default), 'route_numerotee_ou_nommee', 'itineraire_autre', 'troncon_de_voie_ferree', 'equipement_de_transport', 'piste_d_aerodrome', 'aerodrome', 'point_de_repere', 'non_communication', 'point_du_reseau', 'voie_ferree_nommee', 'toponymie_transport', 'batiment', 'cimetiere', 'construction_lineaire', 'construction_ponctuelle', 'construction_surfacique', 'reservoir', 'ligne_orographique', 'pylone', 'terrain_de_sport', 'toponymie_bati', 'cours_d_eau', 'troncon_hydrographique', 'bassin_versant_topographique', 'plan_d_eau', 'surface_hydrographique', 'noeud_hydrographique', 'detail_hydrographique', 'toponymie_hydrographie', 'zone_d_habitation', 'lieu_dit_non_habite', 'detail_orographique', 'toponymie_lieux_nommes', 'canalisation', 'ligne_electrique', 'poste_de_transformation', 'erp', 'zone_d_activite_ou_d_interet', 'toponymie_services_et_activites', 'voie_nommee', 'parc_ou_reserve', 'foret_publique', 'toponymie_zones_reglementees', 'haie', 'zone_de_vegetation', 'arrondissement', 'arrondissement_municipal', 'commune', 'epci', 'collectivite_territoriale', 'departement', 'region', 'adresse_ban', 'batiment_rnb_lien_bdtopo', 'lien_adresse_vers_bdtopo', 'section_de_points_de_repere', 'info_metadonnees', 'metadonnees_lot', 'metadonnees_theme', 'layer_styles'. Specify layer parameter to avoid this warning.\n",
      "  crs = pyogrio.read_info(path_or_bytes).get(\"crs\")\n"
     ]
    },
    {
     "name": "stdout",
     "output_type": "stream",
     "text": [
      "Nb de batiments:  351576\n"
     ]
    }
   ],
   "source": [
    "# TODO : ajout des batiments manquants avec la BD PCI\n",
    "buildings = get_topo_buildings_of_interest(\n",
    "    bd_topo_path=bd_topo_path,\n",
    "    geom_of_interest=geom_of_interest,\n",
    "    crs=DEFAULT_CRS\n",
    ")\n",
    "nb_buildings = buildings.shape[0]\n",
    "print(\"Nb de batiments: \", nb_buildings)"
   ]
  },
  {
   "cell_type": "markdown",
   "id": "176817ac7bffea59",
   "metadata": {
    "papermill": {
     "duration": 0.005002,
     "end_time": "2025-03-08T16:05:49.942759",
     "exception": false,
     "start_time": "2025-03-08T16:05:49.937757",
     "status": "completed"
    },
    "tags": []
   },
   "source": [
    "### Zones avec des bâtiments protégés"
   ]
  },
  {
   "cell_type": "code",
   "execution_count": 14,
   "id": "6d9accb3a3076291",
   "metadata": {
    "execution": {
     "iopub.execute_input": "2025-03-08T16:05:49.952135Z",
     "iopub.status.busy": "2025-03-08T16:05:49.951133Z",
     "iopub.status.idle": "2025-03-08T16:05:50.711879Z",
     "shell.execute_reply": "2025-03-08T16:05:50.711879Z"
    },
    "papermill": {
     "duration": 0.767125,
     "end_time": "2025-03-08T16:05:50.713884",
     "exception": false,
     "start_time": "2025-03-08T16:05:49.946759",
     "status": "completed"
    },
    "tags": []
   },
   "outputs": [],
   "source": [
    "areas_with_protected_buildings = get_areas_with_protected_buildings(\n",
    "    bd_protected_buildings_path=bd_protected_buildings_path,\n",
    "    geom_of_interest=geom_of_interest,\n",
    "    crs=DEFAULT_CRS\n",
    ")"
   ]
  },
  {
   "cell_type": "markdown",
   "id": "129b67af5c421e52",
   "metadata": {
    "papermill": {
     "duration": 0.004999,
     "end_time": "2025-03-08T16:05:50.723272",
     "exception": false,
     "start_time": "2025-03-08T16:05:50.718273",
     "status": "completed"
    },
    "tags": []
   },
   "source": [
    "# Détermination des bâtiments scolaires"
   ]
  },
  {
   "cell_type": "code",
   "execution_count": 15,
   "id": "f164fcc395a85eeb",
   "metadata": {
    "execution": {
     "iopub.execute_input": "2025-03-08T16:05:50.733781Z",
     "iopub.status.busy": "2025-03-08T16:05:50.732780Z",
     "iopub.status.idle": "2025-03-08T16:05:51.426108Z",
     "shell.execute_reply": "2025-03-08T16:05:51.425600Z"
    },
    "papermill": {
     "duration": 0.698832,
     "end_time": "2025-03-08T16:05:51.426612",
     "exception": false,
     "start_time": "2025-03-08T16:05:50.727780",
     "status": "completed"
    },
    "tags": []
   },
   "outputs": [
    {
     "name": "stderr",
     "output_type": "stream",
     "text": [
      "C:\\Users\\micka\\Projects\\13_potentiel_solaire\\algorithme\\.venv\\Lib\\site-packages\\geopandas\\array.py:403: UserWarning: Geometry is in a geographic CRS. Results from 'sjoin_nearest' are likely incorrect. Use 'GeoSeries.to_crs()' to re-project geometries to a projected CRS before this operation.\n",
      "\n",
      "  warnings.warn(\n"
     ]
    },
    {
     "name": "stdout",
     "output_type": "stream",
     "text": [
      "Nb de batiments scolaires:  3731\n"
     ]
    }
   ],
   "source": [
    "schools_buildings = attach_buildings_to_schools(\n",
    "    schools_establishments=schools_establishments,\n",
    "    educational_zones=educational_zones,\n",
    "    buildings=buildings\n",
    ")\n",
    "nb_schools_buildings = schools_buildings.shape[0]\n",
    "print(\"Nb de batiments scolaires: \", nb_schools_buildings)"
   ]
  },
  {
   "cell_type": "markdown",
   "id": "25094a9970938a7d",
   "metadata": {
    "papermill": {
     "duration": 0.005,
     "end_time": "2025-03-08T16:05:51.436616",
     "exception": false,
     "start_time": "2025-03-08T16:05:51.431616",
     "status": "completed"
    },
    "tags": []
   },
   "source": [
    "# Calcul des attributs utiles pour le potentiel solaire"
   ]
  },
  {
   "cell_type": "code",
   "execution_count": 16,
   "id": "c0cf2ab1980a4b17",
   "metadata": {
    "execution": {
     "iopub.execute_input": "2025-03-08T16:05:51.448784Z",
     "iopub.status.busy": "2025-03-08T16:05:51.448784Z",
     "iopub.status.idle": "2025-03-08T16:06:25.522511Z",
     "shell.execute_reply": "2025-03-08T16:06:25.522005Z"
    },
    "papermill": {
     "duration": 34.080829,
     "end_time": "2025-03-08T16:06:25.523512",
     "exception": false,
     "start_time": "2025-03-08T16:05:51.442683",
     "status": "completed"
    },
    "tags": []
   },
   "outputs": [],
   "source": [
    "# TODO: v0 seulement à ce stade\n",
    "solar_potential_of_schools_buildings = calculate_solar_potential(\n",
    "    schools_buildings=schools_buildings,\n",
    "    bd_irradiation_path=bd_irradiation_path,\n",
    "    areas_with_protected_buildings=areas_with_protected_buildings\n",
    ")"
   ]
  },
  {
   "cell_type": "markdown",
   "id": "122f28cb4df0c233",
   "metadata": {
    "papermill": {
     "duration": 0.003996,
     "end_time": "2025-03-08T16:06:25.533019",
     "exception": false,
     "start_time": "2025-03-08T16:06:25.529023",
     "status": "completed"
    },
    "tags": []
   },
   "source": [
    "# Dump des donnees pour analyses"
   ]
  },
  {
   "cell_type": "code",
   "execution_count": 17,
   "id": "ec6bfaba919117a6",
   "metadata": {
    "execution": {
     "iopub.execute_input": "2025-03-08T16:06:25.542530Z",
     "iopub.status.busy": "2025-03-08T16:06:25.542530Z",
     "iopub.status.idle": "2025-03-08T16:06:26.485610Z",
     "shell.execute_reply": "2025-03-08T16:06:26.485090Z"
    },
    "papermill": {
     "duration": 0.949106,
     "end_time": "2025-03-08T16:06:26.486637",
     "exception": false,
     "start_time": "2025-03-08T16:06:25.537531",
     "status": "completed"
    },
    "tags": []
   },
   "outputs": [],
   "source": [
    "solar_potential_of_schools_buildings[\"zone_pour_rayonnement_solaire\"] = solar_potential_of_schools_buildings[\"zone_pour_rayonnement_solaire\"].to_wkt()\n",
    "\n",
    "layers = [\"schools_establishments\", \"educational_zones\", \"schools_buildings\", \"solar_potential_of_schools_buildings\"]\n",
    "gdfs = [schools_establishments, educational_zones, schools_buildings, solar_potential_of_schools_buildings]\n",
    "\n",
    "for layer, gdf in zip(layers, gdfs):\n",
    "    output_gpkg = DATA_FOLDER / f\"{code_departement}_pipeline_results.gpkg\"\n",
    "    gdf.to_file(output_gpkg, layer=layer, driver=\"GPKG\")"
   ]
  },
  {
   "cell_type": "markdown",
   "id": "363dff224bfb7766",
   "metadata": {
    "papermill": {
     "duration": 0.005,
     "end_time": "2025-03-08T16:06:26.496644",
     "exception": false,
     "start_time": "2025-03-08T16:06:26.491644",
     "status": "completed"
    },
    "tags": []
   },
   "source": [
    "# Checks sur la qualité des données & calculs"
   ]
  },
  {
   "cell_type": "code",
   "execution_count": 18,
   "id": "46d41149e1faf14f",
   "metadata": {
    "execution": {
     "iopub.execute_input": "2025-03-08T16:06:26.506658Z",
     "iopub.status.busy": "2025-03-08T16:06:26.506658Z",
     "iopub.status.idle": "2025-03-08T16:06:26.562114Z",
     "shell.execute_reply": "2025-03-08T16:06:26.561608Z"
    },
    "papermill": {
     "duration": 0.061967,
     "end_time": "2025-03-08T16:06:26.563120",
     "exception": false,
     "start_time": "2025-03-08T16:06:26.501153",
     "status": "completed"
    },
    "tags": []
   },
   "outputs": [
    {
     "name": "stdout",
     "output_type": "stream",
     "text": [
      "Nb d'établissements scolaires avec des batiments: 445 (39%)\n"
     ]
    }
   ],
   "source": [
    "nb_schools_with_buildings = len(schools_buildings.identifiant_de_l_etablissement.unique())\n",
    "print(\"Nb d'établissements scolaires avec des batiments: {} ({}%)\".format(\n",
    "    nb_schools_with_buildings,\n",
    "    round(100 * nb_schools_with_buildings / nb_schools)\n",
    "))"
   ]
  },
  {
   "cell_type": "code",
   "execution_count": 19,
   "id": "3ba0c93b8e8c53da",
   "metadata": {
    "execution": {
     "iopub.execute_input": "2025-03-08T16:06:26.574639Z",
     "iopub.status.busy": "2025-03-08T16:06:26.573639Z",
     "iopub.status.idle": "2025-03-08T16:06:26.628122Z",
     "shell.execute_reply": "2025-03-08T16:06:26.628122Z"
    },
    "papermill": {
     "duration": 0.060678,
     "end_time": "2025-03-08T16:06:26.629318",
     "exception": false,
     "start_time": "2025-03-08T16:06:26.568640",
     "status": "completed"
    },
    "tags": []
   },
   "outputs": [
    {
     "name": "stdout",
     "output_type": "stream",
     "text": [
      "Nb de batiments protégés 1093 (29.30%)\n"
     ]
    }
   ],
   "source": [
    "nb_buildings_protected = solar_potential_of_schools_buildings[solar_potential_of_schools_buildings.protection].shape[0]\n",
    "print(f\"Nb de batiments protégés {nb_buildings_protected} ({100*nb_buildings_protected/nb_schools_buildings:.2f}%)\")"
   ]
  },
  {
   "cell_type": "markdown",
   "id": "9b78aec5982e6099",
   "metadata": {
    "papermill": {
     "duration": 0.004509,
     "end_time": "2025-03-08T16:06:26.638829",
     "exception": false,
     "start_time": "2025-03-08T16:06:26.634320",
     "status": "completed"
    },
    "tags": []
   },
   "source": [
    "# Aggrégations"
   ]
  },
  {
   "cell_type": "markdown",
   "id": "c031864081bf3adb",
   "metadata": {
    "papermill": {
     "duration": 0.005514,
     "end_time": "2025-03-08T16:06:26.650342",
     "exception": false,
     "start_time": "2025-03-08T16:06:26.644828",
     "status": "completed"
    },
    "tags": []
   },
   "source": [
    "### Par établissement scolaire"
   ]
  },
  {
   "cell_type": "code",
   "execution_count": 20,
   "id": "c469e5829a888e0a",
   "metadata": {
    "execution": {
     "iopub.execute_input": "2025-03-08T16:06:26.660465Z",
     "iopub.status.busy": "2025-03-08T16:06:26.660465Z",
     "iopub.status.idle": "2025-03-08T16:06:26.773947Z",
     "shell.execute_reply": "2025-03-08T16:06:26.773947Z"
    },
    "papermill": {
     "duration": 0.119861,
     "end_time": "2025-03-08T16:06:26.775205",
     "exception": false,
     "start_time": "2025-03-08T16:06:26.655344",
     "status": "completed"
    },
    "tags": []
   },
   "outputs": [],
   "source": [
    "results_by_school = aggregate_solar_potential_by(\n",
    "    schools_establishments=schools_establishments,\n",
    "    solar_potential_of_schools_buildings=solar_potential_of_schools_buildings,\n",
    "    group_by = [\n",
    "        \"identifiant_de_l_etablissement\",\n",
    "        \"nom_etablissement\",\n",
    "        \"type_etablissement\",\n",
    "        \"libelle_nature\",\n",
    "        \"code_commune\",\n",
    "        \"nom_commune\",\n",
    "        \"code_departement\",\n",
    "        \"libelle_departement\",\n",
    "        \"code_region\",\n",
    "        \"libelle_region\",\n",
    "    ]\n",
    ")"
   ]
  },
  {
   "cell_type": "markdown",
   "id": "4095f66c6c4336a0",
   "metadata": {
    "papermill": {
     "duration": 0.004998,
     "end_time": "2025-03-08T16:06:26.785717",
     "exception": false,
     "start_time": "2025-03-08T16:06:26.780719",
     "status": "completed"
    },
    "tags": []
   },
   "source": [
    "### Par commune"
   ]
  },
  {
   "cell_type": "code",
   "execution_count": 21,
   "id": "1d2b76a6b5a0a16b",
   "metadata": {
    "execution": {
     "iopub.execute_input": "2025-03-08T16:06:26.795776Z",
     "iopub.status.busy": "2025-03-08T16:06:26.795776Z",
     "iopub.status.idle": "2025-03-08T16:06:26.870197Z",
     "shell.execute_reply": "2025-03-08T16:06:26.870197Z"
    },
    "papermill": {
     "duration": 0.08063,
     "end_time": "2025-03-08T16:06:26.871405",
     "exception": false,
     "start_time": "2025-03-08T16:06:26.790775",
     "status": "completed"
    },
    "tags": []
   },
   "outputs": [],
   "source": [
    "results_by_commune = aggregate_solar_potential_by(\n",
    "    schools_establishments=schools_establishments,\n",
    "    solar_potential_of_schools_buildings=solar_potential_of_schools_buildings,\n",
    "    group_by = [\n",
    "        \"code_commune\",\n",
    "        \"nom_commune\",\n",
    "        \"code_departement\",\n",
    "        \"libelle_departement\",\n",
    "        \"code_region\",\n",
    "        \"libelle_region\",\n",
    "    ]\n",
    ")\n",
    "# TODO : la geometrie de la commune est fausse"
   ]
  },
  {
   "cell_type": "markdown",
   "id": "b1979de1a83e56b",
   "metadata": {
    "papermill": {
     "duration": 0.005124,
     "end_time": "2025-03-08T16:06:26.881526",
     "exception": false,
     "start_time": "2025-03-08T16:06:26.876402",
     "status": "completed"
    },
    "tags": []
   },
   "source": [
    "### Par département"
   ]
  },
  {
   "cell_type": "code",
   "execution_count": 22,
   "id": "aa0632566b289415",
   "metadata": {
    "execution": {
     "iopub.execute_input": "2025-03-08T16:06:26.892612Z",
     "iopub.status.busy": "2025-03-08T16:06:26.892612Z",
     "iopub.status.idle": "2025-03-08T16:06:26.963120Z",
     "shell.execute_reply": "2025-03-08T16:06:26.963120Z"
    },
    "papermill": {
     "duration": 0.078596,
     "end_time": "2025-03-08T16:06:26.965125",
     "exception": false,
     "start_time": "2025-03-08T16:06:26.886529",
     "status": "completed"
    },
    "tags": []
   },
   "outputs": [],
   "source": [
    "results_by_departement = aggregate_solar_potential_by(\n",
    "    schools_establishments=schools_establishments,\n",
    "    solar_potential_of_schools_buildings=solar_potential_of_schools_buildings,\n",
    "    group_by = [\n",
    "        \"code_departement\",\n",
    "        \"libelle_departement\",\n",
    "        \"code_region\",\n",
    "        \"libelle_region\",\n",
    "    ]\n",
    ")\n",
    "# TODO : la geometrie du departement est fausse"
   ]
  },
  {
   "cell_type": "markdown",
   "id": "35202e1b07211fb1",
   "metadata": {
    "papermill": {
     "duration": 0.005,
     "end_time": "2025-03-08T16:06:26.974635",
     "exception": false,
     "start_time": "2025-03-08T16:06:26.969635",
     "status": "completed"
    },
    "tags": []
   },
   "source": [
    "### Par région"
   ]
  },
  {
   "cell_type": "code",
   "execution_count": 23,
   "id": "8cf55b4e6ce04838",
   "metadata": {
    "execution": {
     "iopub.execute_input": "2025-03-08T16:06:26.984797Z",
     "iopub.status.busy": "2025-03-08T16:06:26.984797Z",
     "iopub.status.idle": "2025-03-08T16:06:27.037571Z",
     "shell.execute_reply": "2025-03-08T16:06:27.037571Z"
    },
    "papermill": {
     "duration": 0.058781,
     "end_time": "2025-03-08T16:06:27.038576",
     "exception": false,
     "start_time": "2025-03-08T16:06:26.979795",
     "status": "completed"
    },
    "tags": []
   },
   "outputs": [],
   "source": [
    "# TODO : demande de se connecter au bucket avec les resultats existants pour aggreger \n",
    "# TODO : ou de faire le calcul pour tous les departements d une region"
   ]
  },
  {
   "cell_type": "markdown",
   "id": "229708fb93570bb0",
   "metadata": {
    "papermill": {
     "duration": 0.004037,
     "end_time": "2025-03-08T16:06:27.048615",
     "exception": false,
     "start_time": "2025-03-08T16:06:27.044578",
     "status": "completed"
    },
    "tags": []
   },
   "source": [
    "# Sauvegarde des fichiers"
   ]
  },
  {
   "cell_type": "code",
   "execution_count": 24,
   "id": "f071523c837a9df5",
   "metadata": {
    "execution": {
     "iopub.execute_input": "2025-03-08T16:06:27.062126Z",
     "iopub.status.busy": "2025-03-08T16:06:27.061126Z",
     "iopub.status.idle": "2025-03-08T16:06:27.180817Z",
     "shell.execute_reply": "2025-03-08T16:06:27.180817Z"
    },
    "papermill": {
     "duration": 0.1265,
     "end_time": "2025-03-08T16:06:27.182115",
     "exception": false,
     "start_time": "2025-03-08T16:06:27.055615",
     "status": "completed"
    },
    "tags": []
   },
   "outputs": [],
   "source": [
    "output_folder = ALGORITHME_FOLDER.parent / \"results\" / f\"D{code_departement}\"\n",
    "output_folder.mkdir(exist_ok=True, parents=True)\n",
    "\n",
    "# TODO : a voir cote front sil faut changer le format de mise a disposition\n",
    "results_by_school.to_file(output_folder / f\"D{code_departement}_ecoles.geojson\", driver=\"GeoJSON\")\n",
    "results_by_commune.to_file(output_folder / f\"D{code_departement}_communes.geojson\", driver=\"GeoJSON\")\n",
    "results_by_departement.to_file(output_folder / f\"D{code_departement}_departement.geojson\", driver=\"GeoJSON\")"
   ]
  }
 ],
 "metadata": {
  "kernelspec": {
   "display_name": ".venv",
   "language": "python",
   "name": "python3"
  },
  "language_info": {
   "codemirror_mode": {
    "name": "ipython",
    "version": 3
   },
   "file_extension": ".py",
   "mimetype": "text/x-python",
   "name": "python",
   "nbconvert_exporter": "python",
   "pygments_lexer": "ipython3",
   "version": "3.12.5"
  },
  "papermill": {
   "default_parameters": {},
   "duration": 316.772239,
   "end_time": "2025-03-08T16:06:27.737616",
   "environment_variables": {},
   "exception": null,
   "input_path": "C:\\Users\\micka\\Projects\\13_potentiel_solaire\\algorithme\\notebooks\\pipeline_algorithme.ipynb",
   "output_path": "C:\\Users\\micka\\Projects\\13_potentiel_solaire\\algorithme\\notebooks\\exports\\093_pipeline_algorithme.ipynb",
   "parameters": {
    "code_departement": "093",
    "logs_level": "WARNING"
   },
   "start_time": "2025-03-08T16:01:10.965377",
   "version": "2.6.0"
  }
 },
 "nbformat": 4,
 "nbformat_minor": 5
}