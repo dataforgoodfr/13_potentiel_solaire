{
 "cells": [
  {
   "cell_type": "code",
   "execution_count": 1,
   "metadata": {},
   "outputs": [],
   "source": [
    "%load_ext autoreload\n",
    "%autoreload 2"
   ]
  },
  {
   "cell_type": "code",
   "execution_count": 2,
   "metadata": {},
   "outputs": [],
   "source": [
    "from pathlib import Path\n",
    "import geopandas as gpd\n",
    "import pandas as pd\n",
    "import numpy as np\n",
    "from tqdm import tqdm\n",
    "tqdm.pandas()\n"
   ]
  },
  {
   "cell_type": "code",
   "execution_count": 3,
   "metadata": {},
   "outputs": [],
   "source": [
    "# Potentiel solaire package\n",
    "from potentiel_solaire.constants import DATA_FOLDER\n",
    "from potentiel_solaire.features.roof_attributes import getMesureMNSToit"
   ]
  },
  {
   "cell_type": "markdown",
   "metadata": {},
   "source": [
    "#### Test sur les batiments de St Denis, qui n'ont pas de hauteur"
   ]
  },
  {
   "cell_type": "code",
   "execution_count": 4,
   "metadata": {},
   "outputs": [],
   "source": [
    "saint_denis_path = DATA_FOLDER / \"saint_denis_reference_data.gpkg\"\n",
    "batiments = gpd.read_file(saint_denis_path, layer=\"bdtopo_batiment\").to_crs(2154)\n",
    "batiments = batiments.to_crs(2154)"
   ]
  },
  {
   "cell_type": "code",
   "execution_count": null,
   "metadata": {},
   "outputs": [],
   "source": [
    "batiments_de_test = pd.concat([batiments[batiments.hauteur.isna()].head(50),batiments[~batiments.hauteur.isna()].head(50)])\n",
    "for measure in [\"hauteur_calculee\", \"hauteur_std-dev\"]:\n",
    "    batiments_de_test[measure] = \\\n",
    "        batiments_de_test.progress_apply(lambda batiment:\\\n",
    "        getMesureMNSToit(batiment, valeur=measure), axis = 1)\n",
    "batiments_de_test[[\"cleabs_left__bat\",\"hauteur\",\"hauteur_calculee\", \"hauteur_std-dev\"]]"
   ]
  },
  {
   "cell_type": "markdown",
   "metadata": {},
   "source": [
    "#### Les erreurs sont \"elevées\" sur les petits batiments, la précision est meilleure sur les plus grands bâtiments"
   ]
  },
  {
   "cell_type": "code",
   "execution_count": 6,
   "metadata": {},
   "outputs": [],
   "source": [
    "def getAccuracy(row):\n",
    "    return np.abs(row[\"hauteur\"]-row[\"hauteur_calculee\"])/np.abs(row[\"hauteur\"])"
   ]
  },
  {
   "cell_type": "code",
   "execution_count": null,
   "metadata": {},
   "outputs": [],
   "source": [
    "check = batiments_de_test[~batiments_de_test.hauteur.isna()]\n",
    "check[\"difference\"] = check.apply(lambda batiment: getAccuracy(batiment), axis = 1)\n",
    "check[[\"cleabs_left__bat\",\"hauteur\",\"hauteur_calculee\",\"difference\"]].plot.scatter(x=\"hauteur\",y=\"difference\",title=\"Erreur de calcul de la hauteur (basée sur dat MNH)\\nen fonction de la hauteur\")"
   ]
  },
  {
   "cell_type": "code",
   "execution_count": null,
   "metadata": {},
   "outputs": [],
   "source": [
    "check.plot.scatter(x=\"hauteur\",y=\"hauteur_calculee\",title=\"Comparaison hauteur calculée / hauteur 'reelle'\")"
   ]
  },
  {
   "cell_type": "markdown",
   "metadata": {},
   "source": [
    "#### Test avec les pentes de toit"
   ]
  },
  {
   "cell_type": "code",
   "execution_count": 11,
   "metadata": {},
   "outputs": [],
   "source": [
    "import matplotlib.pyplot as plt"
   ]
  },
  {
   "cell_type": "code",
   "execution_count": 12,
   "metadata": {},
   "outputs": [],
   "source": [
    "toits = gpd.read_file(saint_denis_path, layer=\"potentielsolaire_toitures\").to_crs(2154)\n",
    "toits = toits[toits.id.isin(check.cleabs_left__bat.unique())][[\"id\",\"forme\"]]\n",
    "dataset_test = check[[\"cleabs_left__bat\",\"hauteur_std-dev\",\"hauteur_calculee\"]]\n",
    "dataset_test.columns = [\"id\",\"stdev\",\"h\"]\n",
    "toits = toits.merge(dataset_test,on=\"id\",how=\"inner\")"
   ]
  },
  {
   "cell_type": "markdown",
   "metadata": {},
   "source": [
    "#### test non concluant.."
   ]
  },
  {
   "cell_type": "code",
   "execution_count": null,
   "metadata": {},
   "outputs": [],
   "source": [
    "colors = {'plat':'blue', 'Npans':'orange', 'toit2pentes':'green', 'petit_toit':'red'}\n",
    "\n",
    "fig, ax = plt.subplots(figsize=(6, 6))\n",
    "grouped = toits.groupby('forme')\n",
    "for key, group in grouped:\n",
    "    group.plot.scatter(ax=ax, x='h', y='stdev', label=key, color=colors[key])\n",
    "plt.show()"
   ]
  }
 ],
 "metadata": {
  "kernelspec": {
   "display_name": ".venv",
   "language": "python",
   "name": "python3"
  },
  "language_info": {
   "codemirror_mode": {
    "name": "ipython",
    "version": 3
   },
   "file_extension": ".py",
   "mimetype": "text/x-python",
   "name": "python",
   "nbconvert_exporter": "python",
   "pygments_lexer": "ipython3",
   "version": "3.10.12"
  }
 },
 "nbformat": 4,
 "nbformat_minor": 2
}
