{
 "cells": [
  {
   "cell_type": "code",
   "execution_count": null,
   "metadata": {},
   "outputs": [],
   "source": [
    "%load_ext autoreload\n",
    "%autoreload 2"
   ]
  },
  {
   "cell_type": "code",
   "execution_count": null,
   "metadata": {},
   "outputs": [],
   "source": [
    "#General\n",
    "# from pathlib import Path\n",
    "import geopandas as gpd\n",
    "import pandas as pd\n",
    "import numpy as np\n",
    "import matplotlib.pyplot as plt\n",
    "from tqdm import tqdm\n",
    "# Potentiel solaire package\n",
    "from potentiel_solaire.constants import DATA_FOLDER\n",
    "from potentiel_solaire.features.roof_attributes import recuperation_mnh_batiment, recuperation_mns_batiment\n",
    "tqdm.pandas()\n"
   ]
  },
  {
   "cell_type": "code",
   "execution_count": null,
   "metadata": {},
   "outputs": [],
   "source": [
    "# Executer ci dessous ci besoin pour récupérer les données\n",
    "# !extract-sample-data\n",
    "# Et pour sauver une version markdown des notebooks, utiliser\n",
    "# jupyter nbconvert wns_hauteur.ipynb --to markdown --output-dir=exports/"
   ]
  },
  {
   "cell_type": "code",
   "execution_count": null,
   "metadata": {},
   "outputs": [],
   "source": [
    "saint_denis_path = DATA_FOLDER / \"saint_denis_reference_data.gpkg\"\n",
    "batiments = gpd.read_file(saint_denis_path, layer=\"bdtopo_batiment\").to_crs(2154)\n",
    "batiments = batiments.to_crs(2154)"
   ]
  },
  {
   "cell_type": "markdown",
   "metadata": {},
   "source": [
    "# Testing caching\n"
   ]
  },
  {
   "cell_type": "code",
   "execution_count": null,
   "metadata": {},
   "outputs": [],
   "source": [
    "%%timeit -n3 -r2\n",
    "# Takes 2s\n",
    "recuperation_mnx_batiment(batiments[1:2], srs = 'EPSG:2154', layer = \"ELEVATION.ELEVATIONGRIDCOVERAGE.HIGHRES\", cache=False)"
   ]
  },
  {
   "cell_type": "code",
   "execution_count": null,
   "metadata": {},
   "outputs": [],
   "source": [
    "%%timeit -n3\n",
    "# Takes 0.0s\n",
    "recuperation_mnx_batiment(batiments[1:2], srs = 'EPSG:2154', layer = \"ELEVATION.ELEVATIONGRIDCOVERAGE.HIGHRES\", cache=True)"
   ]
  },
  {
   "cell_type": "markdown",
   "metadata": {},
   "source": [
    "# Testing parameters"
   ]
  },
  {
   "cell_type": "code",
   "execution_count": null,
   "metadata": {},
   "outputs": [],
   "source": [
    "def getMesureMNHToit(row, valeur=\"hauteur_calculee\"):\n",
    "\n",
    "    values = [\"hauteur_calculee\", \"hauteur_std-dev\", \"hauteur_min\",\n",
    "              \"hauteur_max\", \"hauteur_median\",\"mns_std-dev\"]\n",
    "    if valeur not in values:\n",
    "        return -1\n",
    "    row = gpd.GeoDataFrame(row).T\n",
    "    row = gpd.GeoDataFrame(row, geometry=\"geometry\")\n",
    "\n",
    "    mnh = recuperation_mnh_batiment(row, cache=True)\n",
    "    mns = recuperation_mns_batiment(row, cache=True)\n",
    "    row[\"hauteur_calculee\"] = np.average(mnh[np.nonzero(mnh)])\n",
    "    row[\"hauteur_std-dev\"] = np.std(mnh[np.nonzero(mnh)])\n",
    "    row[\"mns_std-dev\"] = np.std(mns[np.nonzero(mns)])\n",
    "    row[\"hauteur_min\"] = np.min(mnh[np.nonzero(mnh)])\n",
    "    row[\"hauteur_max\"] = np.max(mnh[np.nonzero(mnh)])\n",
    "    row[\"hauteur_median\"] = np.median(mnh[np.nonzero(mnh)])\n",
    "\n",
    "    return row[valeur].iloc[0]\n"
   ]
  },
  {
   "cell_type": "markdown",
   "metadata": {},
   "source": [
    "#### Test sur les batiments de St Denis, qui n'ont pas de hauteur"
   ]
  },
  {
   "cell_type": "code",
   "execution_count": null,
   "metadata": {},
   "outputs": [],
   "source": [
    "batiments_de_test = pd.concat([batiments[batiments.hauteur.isna()].head(50),batiments[~batiments.hauteur.isna()].head(50)]).to_crs(2154)\n",
    "for measure in [\"hauteur_calculee\", \"hauteur_std-dev\",\"mns_std-dev\"]:\n",
    "    batiments_de_test[measure] = \\\n",
    "        batiments_de_test.progress_apply(lambda batiment:\\\n",
    "        getMesureMNHToit(batiment, valeur=measure), axis = 1)\n",
    "# Pourquoi du caching? Les calls prennent qques par batiment sans cache ce qui impacte le temps de calcul\n",
    "batiments_de_test[[\"cleabs_left__bat\",\"hauteur\",\"hauteur_calculee\", \"hauteur_std-dev\",\"mns_std-dev\"]]"
   ]
  },
  {
   "cell_type": "markdown",
   "metadata": {},
   "source": [
    "#### Les erreurs sont \"elevées\" sur les petits batiments, la précision est meilleure sur les plus grands bâtiments"
   ]
  },
  {
   "cell_type": "code",
   "execution_count": null,
   "metadata": {},
   "outputs": [],
   "source": [
    "check = batiments_de_test[~batiments_de_test.hauteur.isna()]"
   ]
  },
  {
   "cell_type": "code",
   "execution_count": null,
   "metadata": {},
   "outputs": [],
   "source": [
    "identity_line = np.linspace(check.hauteur.min(),\n",
    "                            check.hauteur.max())\n",
    "\n",
    "check.plot.scatter(x=\"hauteur\",y=\"hauteur_calculee\",title=\"Comparaison hauteur calculée / hauteur 'reelle'\")\n",
    "plt.plot(identity_line, identity_line, color=\"red\", linestyle=\"dashed\", linewidth=1.0)"
   ]
  },
  {
   "cell_type": "markdown",
   "metadata": {},
   "source": [
    "#### Représentation des erreurs"
   ]
  },
  {
   "cell_type": "code",
   "execution_count": null,
   "metadata": {},
   "outputs": [],
   "source": [
    "def getAccuracy(row):\n",
    "    acc = np.abs(row[\"hauteur\"]-row[\"hauteur_calculee\"])/np.abs(row[\"hauteur\"])\n",
    "    return float(acc)"
   ]
  },
  {
   "cell_type": "code",
   "execution_count": null,
   "metadata": {},
   "outputs": [],
   "source": [
    "check[\"difference\"] = check.apply(lambda batiment: getAccuracy(batiment), axis = 1)"
   ]
  },
  {
   "cell_type": "code",
   "execution_count": null,
   "metadata": {},
   "outputs": [],
   "source": [
    "detail = \"Erreur sur les toits de plus de 4 mètres: \"+str(int(100*check[\"difference\"][check.hauteur > 4 ].mean()))+\"%\"\n",
    "check.plot.scatter(x=\"hauteur\",y=\"difference\",title=\"Erreur en fonction de la hauteur\\n\"+detail)"
   ]
  },
  {
   "cell_type": "markdown",
   "metadata": {},
   "source": [
    "#### Test avec les pentes de toit"
   ]
  },
  {
   "cell_type": "code",
   "execution_count": null,
   "metadata": {},
   "outputs": [],
   "source": [
    "toits = gpd.read_file(saint_denis_path, layer=\"potentielsolaire_toitures\").to_crs(2154)\n",
    "toits = toits[toits.id.isin(check.cleabs_left__bat.unique())][[\"id\",\"forme\"]]\n",
    "# can be \"hauteur_std-dev\" instead of mns to get mnh instead of mns\n",
    "dataset_test = check[[\"cleabs_left__bat\",\"mns_std-dev\",\"hauteur_calculee\"]]\n",
    "dataset_test.columns = [\"id\",\"stdev\",\"h\"]\n",
    "toits = toits.merge(dataset_test,on=\"id\",how=\"inner\")"
   ]
  },
  {
   "cell_type": "markdown",
   "metadata": {},
   "source": [
    "#### test non concluant.."
   ]
  },
  {
   "cell_type": "code",
   "execution_count": null,
   "metadata": {},
   "outputs": [],
   "source": [
    "colors = {'plat':'blue', 'Npans':'orange', 'toit2pentes':'green', 'petit_toit':'red'}\n",
    "\n",
    "fig, ax = plt.subplots(figsize=(6, 6))\n",
    "grouped = toits.groupby('forme')\n",
    "for key, group in grouped:\n",
    "    group.plot.scatter(ax=ax, x='h', y='stdev', label=key, color=colors[key])\n",
    "plt.show()"
   ]
  }
 ],
 "metadata": {
  "kernelspec": {
   "display_name": ".venv",
   "language": "python",
   "name": "python3"
  },
  "language_info": {
   "codemirror_mode": {
    "name": "ipython",
    "version": 3
   },
   "file_extension": ".py",
   "mimetype": "text/x-python",
   "name": "python",
   "nbconvert_exporter": "python",
   "pygments_lexer": "ipython3",
   "version": "3.10.12"
  }
 },
 "nbformat": 4,
 "nbformat_minor": 2
}
