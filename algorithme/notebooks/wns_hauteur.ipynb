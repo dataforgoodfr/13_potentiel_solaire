{
 "cells": [
  {
   "cell_type": "code",
   "execution_count": 1,
   "metadata": {},
   "outputs": [],
   "source": [
    "%load_ext autoreload\n",
    "%autoreload 2"
   ]
  },
  {
   "cell_type": "code",
   "execution_count": null,
   "metadata": {},
   "outputs": [],
   "source": [
    "from pathlib import Path\n",
    "from shapely import wkt\n",
    "import os\n",
    "import rasterio.mask\n",
    "import geopandas as gpd\n",
    "import pandas as pd\n",
    "import numpy as np\n",
    "import matplotlib.pyplot as plt\n",
    "from tqdm import tqdm\n",
    "import hashlib\n",
    "tqdm.pandas()\n"
   ]
  },
  {
   "cell_type": "code",
   "execution_count": 4,
   "metadata": {},
   "outputs": [],
   "source": [
    "# Potentiel solaire package\n",
    "from potentiel_solaire.constants import DATA_FOLDER\n",
    "from potentiel_solaire.features.roof_attributes import recuperation_mnh_batiment, recuperation_mns_batiment, recuperation_flux_wms"
   ]
  },
  {
   "cell_type": "code",
   "execution_count": 5,
   "metadata": {},
   "outputs": [],
   "source": [
    "# Executer ci dessous ci besoin pour récupérer les données\n",
    "# !extract-sample-data\n",
    "# Et pour sauver une version markdown des notebooks, utiliser\n",
    "# jupyter nbconvert wns_hauteur.ipynb --to markdown --output-dir=exports/"
   ]
  },
  {
   "cell_type": "code",
   "execution_count": 6,
   "metadata": {},
   "outputs": [],
   "source": [
    "saint_denis_path = DATA_FOLDER / \"saint_denis_reference_data.gpkg\"\n",
    "batiments = gpd.read_file(saint_denis_path, layer=\"bdtopo_batiment\").to_crs(2154)\n",
    "batiments = batiments.to_crs(2154)"
   ]
  },
  {
   "cell_type": "markdown",
   "metadata": {},
   "source": [
    "# Testing caching\n"
   ]
  },
  {
   "cell_type": "code",
   "execution_count": 28,
   "metadata": {},
   "outputs": [],
   "source": [
    "def get_cached_wns(row, layer, cache = True):\n",
    "    boite = row.total_bounds\n",
    "    x = int((boite[2]-boite[0])*2)\n",
    "    y= int((boite[3]-boite[1])*2)\n",
    "    \n",
    "    layer_hash = hashlib.md5(layer.encode()).hexdigest()[:8]\n",
    "    wkts = wkt.dumps(batiments[0:1].geometry.iloc[0])\n",
    "    wkts = hashlib.md5(wkts.encode()).hexdigest()[:8]\n",
    "    filename = f'{wkts}.tiff'\n",
    "\n",
    "    path_to_wns_cache = DATA_FOLDER / \"cache\" /\"wns\"/ layer_hash\n",
    "    path_to_wns_cache.mkdir(parents=True, exist_ok=True)\n",
    "    wns_data_path = path_to_wns_cache / filename\n",
    "\n",
    "    if not os.path.isfile(str(wns_data_path)) or (not cache):\n",
    "\n",
    "        flux = recuperation_flux_wms(boite, layer = layer, srs =  'EPSG:2154',\n",
    "                        X= x,Y= y)\n",
    "        with open(wns_data_path, 'wb') as out:\n",
    "            out.write(flux.read())\n",
    "\n",
    "    with rasterio.open(wns_data_path) as img:\n",
    "        data, _ = rasterio.mask.mask(img, row.geometry, crop=True)\n",
    "    return data"
   ]
  },
  {
   "cell_type": "code",
   "execution_count": null,
   "metadata": {},
   "outputs": [
    {
     "data": {
      "text/plain": [
       "array([[[0., 0., 0., ..., 0., 0., 0.],\n",
       "        [0., 0., 0., ..., 0., 0., 0.],\n",
       "        [0., 0., 0., ..., 0., 0., 0.],\n",
       "        ...,\n",
       "        [0., 0., 0., ..., 0., 0., 0.],\n",
       "        [0., 0., 0., ..., 0., 0., 0.],\n",
       "        [0., 0., 0., ..., 0., 0., 0.]]], shape=(1, 76, 50), dtype=float32)"
      ]
     },
     "execution_count": 30,
     "metadata": {},
     "output_type": "execute_result"
    }
   ],
   "source": [
    "# Takes 2s\n",
    "get_cached_wns(batiments[0:1], layer = \"ELEVATION.ELEVATIONGRIDCOVERAGE.HIGHRES\", cache=False)"
   ]
  },
  {
   "cell_type": "code",
   "execution_count": null,
   "metadata": {},
   "outputs": [
    {
     "data": {
      "text/plain": [
       "array([[[0., 0., 0., ..., 0., 0., 0.],\n",
       "        [0., 0., 0., ..., 0., 0., 0.],\n",
       "        [0., 0., 0., ..., 0., 0., 0.],\n",
       "        ...,\n",
       "        [0., 0., 0., ..., 0., 0., 0.],\n",
       "        [0., 0., 0., ..., 0., 0., 0.],\n",
       "        [0., 0., 0., ..., 0., 0., 0.]]], shape=(1, 76, 50), dtype=float32)"
      ]
     },
     "execution_count": 31,
     "metadata": {},
     "output_type": "execute_result"
    }
   ],
   "source": [
    "# Takes 0.0s\n",
    "get_cached_wns(batiments[0:1], layer = \"ELEVATION.ELEVATIONGRIDCOVERAGE.HIGHRES\", cache=True)"
   ]
  },
  {
   "cell_type": "markdown",
   "metadata": {},
   "source": [
    "# Back to no cache"
   ]
  },
  {
   "cell_type": "code",
   "execution_count": null,
   "metadata": {},
   "outputs": [],
   "source": [
    "def getMesureMNHToit(row, cache_file=\"cache.gpkg\", layercache=\"cache_hauteur\",\n",
    "                     valeur=\"hauteur_calculee\"):\n",
    "\n",
    "    values = [\"hauteur_calculee\", \"hauteur_std-dev\", \"hauteur_min\",\n",
    "              \"hauteur_max\", \"hauteur_median\",\"mns_std-dev\"]\n",
    "    if valeur not in values:\n",
    "        return -1\n",
    "    row = gpd.GeoDataFrame(row).T\n",
    "    row = gpd.GeoDataFrame(row, geometry=\"geometry\")\n",
    "    if \"cleabs_left__bat\" in row.columns:\n",
    "        row = row.rename(columns={\"cleabs_left__bat\": \"cleabs\"})\n",
    "    cache_h = DATA_FOLDER / cache_file\n",
    "\n",
    "    if os.path.isfile(str(cache_h)):\n",
    "        gdf = gpd.read_file(cache_h, layer=layercache)\n",
    "        existing = gdf[\"cleabs\"].unique()\n",
    "    else:\n",
    "        existing = []\n",
    "    row = row[[\"cleabs\", \"hauteur\", \"geometry\"]]\n",
    "\n",
    "    cols = [\"cleabs\", \"hauteur_calculee\", \"hauteur\", \"geometry\",\n",
    "            \"hauteur_std-dev\", \"hauteur_min\", \"hauteur_max\", \"hauteur_median\",\"mns_std-dev\"]\n",
    "\n",
    "    if row[\"cleabs\"].iloc[0] in existing:\n",
    "        v = gdf[gdf.cleabs == row[\"cleabs\"].iloc[0]][valeur].iloc[0]\n",
    "        return v\n",
    "    else:\n",
    "        mnh = recuperation_mnh_batiment(row)\n",
    "        mns = recuperation_mns_batiment(row)\n",
    "        row[\"hauteur_calculee\"] = np.average(mnh[np.nonzero(mnh)])\n",
    "        row[\"hauteur_std-dev\"] = np.std(mnh[np.nonzero(mnh)])\n",
    "        row[\"mns_std-dev\"] = np.std(mns[np.nonzero(mns)])\n",
    "        row[\"hauteur_min\"] = np.min(mnh[np.nonzero(mnh)])\n",
    "        row[\"hauteur_max\"] = np.max(mnh[np.nonzero(mnh)])\n",
    "        row[\"hauteur_median\"] = np.median(mnh[np.nonzero(mnh)])\n",
    "\n",
    "        if len(existing):\n",
    "            gtotal = pd.concat([gdf, row[cols]])\n",
    "            gtotal.to_file(cache_h, layer=layercache, driver=\"GPKG\")\n",
    "        else:\n",
    "            gtotal = row[cols]\n",
    "            gtotal.to_file(cache_h, layer=layercache, driver=\"GPKG\")\n",
    "\n",
    "    return row[valeur]\n"
   ]
  },
  {
   "cell_type": "markdown",
   "metadata": {},
   "source": [
    "#### Test sur les batiments de St Denis, qui n'ont pas de hauteur"
   ]
  },
  {
   "cell_type": "code",
   "execution_count": 10,
   "metadata": {},
   "outputs": [
    {
     "name": "stderr",
     "output_type": "stream",
     "text": [
      "100%|██████████| 100/100 [00:04<00:00, 23.20it/s]\n",
      "100%|██████████| 100/100 [00:04<00:00, 22.50it/s]\n",
      "100%|██████████| 100/100 [00:04<00:00, 23.44it/s]\n"
     ]
    },
    {
     "data": {
      "text/html": [
       "<div>\n",
       "<style scoped>\n",
       "    .dataframe tbody tr th:only-of-type {\n",
       "        vertical-align: middle;\n",
       "    }\n",
       "\n",
       "    .dataframe tbody tr th {\n",
       "        vertical-align: top;\n",
       "    }\n",
       "\n",
       "    .dataframe thead th {\n",
       "        text-align: right;\n",
       "    }\n",
       "</style>\n",
       "<table border=\"1\" class=\"dataframe\">\n",
       "  <thead>\n",
       "    <tr style=\"text-align: right;\">\n",
       "      <th></th>\n",
       "      <th>cleabs_left__bat</th>\n",
       "      <th>hauteur</th>\n",
       "      <th>hauteur_calculee</th>\n",
       "      <th>hauteur_std-dev</th>\n",
       "      <th>mns_std-dev</th>\n",
       "    </tr>\n",
       "  </thead>\n",
       "  <tbody>\n",
       "    <tr>\n",
       "      <th>3</th>\n",
       "      <td>BATIMENT0000000243403399</td>\n",
       "      <td>NaN</td>\n",
       "      <td>11.029757</td>\n",
       "      <td>0.067987</td>\n",
       "      <td>0.067987</td>\n",
       "    </tr>\n",
       "    <tr>\n",
       "      <th>4</th>\n",
       "      <td>BATIMENT0000000243403625</td>\n",
       "      <td>NaN</td>\n",
       "      <td>6.658521</td>\n",
       "      <td>2.384741</td>\n",
       "      <td>2.401657</td>\n",
       "    </tr>\n",
       "    <tr>\n",
       "      <th>9</th>\n",
       "      <td>BATIMENT0000000243399213</td>\n",
       "      <td>NaN</td>\n",
       "      <td>9.085352</td>\n",
       "      <td>3.031133</td>\n",
       "      <td>3.039754</td>\n",
       "    </tr>\n",
       "    <tr>\n",
       "      <th>21</th>\n",
       "      <td>BATIMENT0000000243399192</td>\n",
       "      <td>NaN</td>\n",
       "      <td>15.689178</td>\n",
       "      <td>0.720638</td>\n",
       "      <td>0.747832</td>\n",
       "    </tr>\n",
       "    <tr>\n",
       "      <th>22</th>\n",
       "      <td>BATIMENT0000000243399193</td>\n",
       "      <td>NaN</td>\n",
       "      <td>8.944949</td>\n",
       "      <td>3.632601</td>\n",
       "      <td>3.621020</td>\n",
       "    </tr>\n",
       "    <tr>\n",
       "      <th>...</th>\n",
       "      <td>...</td>\n",
       "      <td>...</td>\n",
       "      <td>...</td>\n",
       "      <td>...</td>\n",
       "      <td>...</td>\n",
       "    </tr>\n",
       "    <tr>\n",
       "      <th>57</th>\n",
       "      <td>BATIMENT0000002005316846</td>\n",
       "      <td>8.8</td>\n",
       "      <td>8.908059</td>\n",
       "      <td>2.549423</td>\n",
       "      <td>2.561931</td>\n",
       "    </tr>\n",
       "    <tr>\n",
       "      <th>58</th>\n",
       "      <td>BATIMENT0000000318256795</td>\n",
       "      <td>2.7</td>\n",
       "      <td>4.304110</td>\n",
       "      <td>3.272367</td>\n",
       "      <td>3.270343</td>\n",
       "    </tr>\n",
       "    <tr>\n",
       "      <th>59</th>\n",
       "      <td>BATIMENT0000000243401942</td>\n",
       "      <td>9.3</td>\n",
       "      <td>10.166159</td>\n",
       "      <td>3.535393</td>\n",
       "      <td>3.419895</td>\n",
       "    </tr>\n",
       "    <tr>\n",
       "      <th>60</th>\n",
       "      <td>BATIMENT0000000243401947</td>\n",
       "      <td>13.0</td>\n",
       "      <td>12.285078</td>\n",
       "      <td>2.676683</td>\n",
       "      <td>2.704555</td>\n",
       "    </tr>\n",
       "    <tr>\n",
       "      <th>61</th>\n",
       "      <td>BATIMENT0000000243401948</td>\n",
       "      <td>12.5</td>\n",
       "      <td>10.716463</td>\n",
       "      <td>3.483513</td>\n",
       "      <td>3.478312</td>\n",
       "    </tr>\n",
       "  </tbody>\n",
       "</table>\n",
       "<p>100 rows × 5 columns</p>\n",
       "</div>"
      ],
      "text/plain": [
       "            cleabs_left__bat  hauteur  hauteur_calculee  hauteur_std-dev  \\\n",
       "3   BATIMENT0000000243403399      NaN         11.029757         0.067987   \n",
       "4   BATIMENT0000000243403625      NaN          6.658521         2.384741   \n",
       "9   BATIMENT0000000243399213      NaN          9.085352         3.031133   \n",
       "21  BATIMENT0000000243399192      NaN         15.689178         0.720638   \n",
       "22  BATIMENT0000000243399193      NaN          8.944949         3.632601   \n",
       "..                       ...      ...               ...              ...   \n",
       "57  BATIMENT0000002005316846      8.8          8.908059         2.549423   \n",
       "58  BATIMENT0000000318256795      2.7          4.304110         3.272367   \n",
       "59  BATIMENT0000000243401942      9.3         10.166159         3.535393   \n",
       "60  BATIMENT0000000243401947     13.0         12.285078         2.676683   \n",
       "61  BATIMENT0000000243401948     12.5         10.716463         3.483513   \n",
       "\n",
       "    mns_std-dev  \n",
       "3      0.067987  \n",
       "4      2.401657  \n",
       "9      3.039754  \n",
       "21     0.747832  \n",
       "22     3.621020  \n",
       "..          ...  \n",
       "57     2.561931  \n",
       "58     3.270343  \n",
       "59     3.419895  \n",
       "60     2.704555  \n",
       "61     3.478312  \n",
       "\n",
       "[100 rows x 5 columns]"
      ]
     },
     "execution_count": 10,
     "metadata": {},
     "output_type": "execute_result"
    }
   ],
   "source": [
    "batiments_de_test = pd.concat([batiments[batiments.hauteur.isna()].head(50),batiments[~batiments.hauteur.isna()].head(50)]).to_crs(2154)\n",
    "for measure in [\"hauteur_calculee\", \"hauteur_std-dev\",\"mns_std-dev\"]:\n",
    "    batiments_de_test[measure] = \\\n",
    "        batiments_de_test.progress_apply(lambda batiment:\\\n",
    "        getMesureMNHToit(batiment, valeur=measure), axis = 1)\n",
    "# Pourquoi du caching? Les calls prennent 5s par batiment sans cache ce qui impacte le temps de calcul\n",
    "batiments_de_test[[\"cleabs_left__bat\",\"hauteur\",\"hauteur_calculee\", \"hauteur_std-dev\",\"mns_std-dev\"]]"
   ]
  },
  {
   "cell_type": "markdown",
   "metadata": {},
   "source": [
    "#### Les erreurs sont \"elevées\" sur les petits batiments, la précision est meilleure sur les plus grands bâtiments"
   ]
  },
  {
   "cell_type": "code",
   "execution_count": 11,
   "metadata": {},
   "outputs": [],
   "source": [
    "check = batiments_de_test[~batiments_de_test.hauteur.isna()]"
   ]
  },
  {
   "cell_type": "code",
   "execution_count": 12,
   "metadata": {},
   "outputs": [
    {
     "data": {
      "text/plain": [
       "[<matplotlib.lines.Line2D at 0x7fbe66d9fd00>]"
      ]
     },
     "execution_count": 12,
     "metadata": {},
     "output_type": "execute_result"
    },
    {
     "data": {
      "image/png": "[encoded data removed]",
      "text/plain": [
       "<Figure size 640x480 with 1 Axes>"
      ]
     },
     "metadata": {},
     "output_type": "display_data"
    }
   ],
   "source": [
    "identity_line = np.linspace(check.hauteur.min(),\n",
    "                            check.hauteur.max())\n",
    "\n",
    "check.plot.scatter(x=\"hauteur\",y=\"hauteur_calculee\",title=\"Comparaison hauteur calculée / hauteur 'reelle'\")\n",
    "plt.plot(identity_line, identity_line, color=\"red\", linestyle=\"dashed\", linewidth=1.0)"
   ]
  },
  {
   "cell_type": "markdown",
   "metadata": {},
   "source": [
    "#### Représentation des erreurs"
   ]
  },
  {
   "cell_type": "code",
   "execution_count": 13,
   "metadata": {},
   "outputs": [],
   "source": [
    "def getAccuracy(row):\n",
    "    acc = np.abs(row[\"hauteur\"]-row[\"hauteur_calculee\"])/np.abs(row[\"hauteur\"])\n",
    "    return float(acc)"
   ]
  },
  {
   "cell_type": "code",
   "execution_count": 14,
   "metadata": {},
   "outputs": [
    {
     "name": "stderr",
     "output_type": "stream",
     "text": [
      "/home/kelu/projets/13_potentiel_solaire/algorithme/.venv/lib/python3.10/site-packages/geopandas/geodataframe.py:1819: SettingWithCopyWarning: \n",
      "A value is trying to be set on a copy of a slice from a DataFrame.\n",
      "Try using .loc[row_indexer,col_indexer] = value instead\n",
      "\n",
      "See the caveats in the documentation: https://pandas.pydata.org/pandas-docs/stable/user_guide/indexing.html#returning-a-view-versus-a-copy\n",
      "  super().__setitem__(key, value)\n"
     ]
    }
   ],
   "source": [
    "check[\"difference\"] = check.apply(lambda batiment: getAccuracy(batiment), axis = 1)"
   ]
  },
  {
   "cell_type": "code",
   "execution_count": 15,
   "metadata": {},
   "outputs": [
    {
     "data": {
      "text/plain": [
       "<Axes: title={'center': 'Erreur en fonction de la hauteur\\nErreur sur les toits de plus de 4 mètres: 16%'}, xlabel='hauteur', ylabel='difference'>"
      ]
     },
     "execution_count": 15,
     "metadata": {},
     "output_type": "execute_result"
    },
    {
     "data": {
      "image/png": "[encoded data removed]",
      "text/plain": [
       "<Figure size 640x480 with 1 Axes>"
      ]
     },
     "metadata": {},
     "output_type": "display_data"
    }
   ],
   "source": [
    "detail = \"Erreur sur les toits de plus de 4 mètres: \"+str(int(100*check[\"difference\"][check.hauteur > 4 ].mean()))+\"%\"\n",
    "check.plot.scatter(x=\"hauteur\",y=\"difference\",title=\"Erreur en fonction de la hauteur\\n\"+detail)"
   ]
  },
  {
   "cell_type": "markdown",
   "metadata": {},
   "source": [
    "#### Test avec les pentes de toit"
   ]
  },
  {
   "cell_type": "code",
   "execution_count": 16,
   "metadata": {},
   "outputs": [],
   "source": [
    "toits = gpd.read_file(saint_denis_path, layer=\"potentielsolaire_toitures\").to_crs(2154)\n",
    "toits = toits[toits.id.isin(check.cleabs_left__bat.unique())][[\"id\",\"forme\"]]\n",
    "# can be \"hauteur_std-dev\" instead of mns to get mnh instead of mns\n",
    "dataset_test = check[[\"cleabs_left__bat\",\"mns_std-dev\",\"hauteur_calculee\"]]\n",
    "dataset_test.columns = [\"id\",\"stdev\",\"h\"]\n",
    "toits = toits.merge(dataset_test,on=\"id\",how=\"inner\")"
   ]
  },
  {
   "cell_type": "markdown",
   "metadata": {},
   "source": [
    "#### test non concluant.."
   ]
  },
  {
   "cell_type": "code",
   "execution_count": 17,
   "metadata": {},
   "outputs": [
    {
     "data": {
      "image/png": "[encoded data removed]",
      "text/plain": [
       "<Figure size 600x600 with 1 Axes>"
      ]
     },
     "metadata": {},
     "output_type": "display_data"
    }
   ],
   "source": [
    "colors = {'plat':'blue', 'Npans':'orange', 'toit2pentes':'green', 'petit_toit':'red'}\n",
    "\n",
    "fig, ax = plt.subplots(figsize=(6, 6))\n",
    "grouped = toits.groupby('forme')\n",
    "for key, group in grouped:\n",
    "    group.plot.scatter(ax=ax, x='h', y='stdev', label=key, color=colors[key])\n",
    "plt.show()"
   ]
  }
 ],
 "metadata": {
  "kernelspec": {
   "display_name": ".venv",
   "language": "python",
   "name": "python3"
  },
  "language_info": {
   "codemirror_mode": {
    "name": "ipython",
    "version": 3
   },
   "file_extension": ".py",
   "mimetype": "text/x-python",
   "name": "python",
   "nbconvert_exporter": "python",
   "pygments_lexer": "ipython3",
   "version": "3.10.12"
  }
 },
 "nbformat": 4,
 "nbformat_minor": 2
}
