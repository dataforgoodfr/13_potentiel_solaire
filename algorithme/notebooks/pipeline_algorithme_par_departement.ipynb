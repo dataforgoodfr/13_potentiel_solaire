{
 "cells": [
  {
   "cell_type": "code",
   "execution_count": 24,
   "id": "f1f565b7",
   "metadata": {},
   "outputs": [],
   "source": [
    "%load_ext autoreload\n",
    "%autoreload 2"
   ]
  },
  {
   "cell_type": "markdown",
   "id": "7218350249b1103e",
   "metadata": {},
   "source": [
    "# Paramètres de la pipeline"
   ]
  },
  {
   "cell_type": "code",
   "execution_count": 1,
   "id": "6358f4912f9f22ab",
   "metadata": {
    "editable": true,
    "slideshow": {
     "slide_type": ""
    },
    "tags": [
     "parameters"
    ]
   },
   "outputs": [],
   "source": [
    "code_departement = \"093\"\n",
    "logs_level = \"WARNING\""
   ]
  },
  {
   "cell_type": "markdown",
   "id": "d3a70f3e57e62a7c",
   "metadata": {},
   "source": [
    "# Imports & setup"
   ]
  },
  {
   "cell_type": "code",
   "execution_count": 2,
   "id": "aa88b759c982f54c",
   "metadata": {},
   "outputs": [
    {
     "name": "stderr",
     "output_type": "stream",
     "text": [
      "2025-03-09 18:02:38,903 - DEBUG - rasterio.session - c:\\Users\\micka\\Projects\\13_potentiel_solaire\\algorithme\\.venv\\Lib\\site-packages\\rasterio\\session.py - <module> - Could not import boto3, continuing with reduced functionality.\n",
      "2025-03-09 18:02:38,905 - DEBUG - rasterio.env - c:\\Users\\micka\\Projects\\13_potentiel_solaire\\algorithme\\.venv\\Lib\\site-packages\\rasterio\\env.py - <module> - GDAL data found in package: path='c:\\\\Users\\\\micka\\\\Projects\\\\13_potentiel_solaire\\\\algorithme\\\\.venv\\\\Lib\\\\site-packages\\\\rasterio\\\\gdal_data'.\n",
      "2025-03-09 18:02:38,906 - DEBUG - rasterio.env - c:\\Users\\micka\\Projects\\13_potentiel_solaire\\algorithme\\.venv\\Lib\\site-packages\\rasterio\\env.py - <module> - PROJ data found in package: path='c:\\\\Users\\\\micka\\\\Projects\\\\13_potentiel_solaire\\\\algorithme\\\\.venv\\\\Lib\\\\site-packages\\\\rasterio\\\\proj_data'.\n"
     ]
    }
   ],
   "source": [
    "import duckdb\n",
    "import geopandas as gpd\n",
    "import pandas as pd\n",
    "\n",
    "from potentiel_solaire.attach_buildings_to_schools import attach_buildings_to_schools\n",
    "from potentiel_solaire.constants import DEFAULT_CRS, ALGORITHME_FOLDER, DATA_FOLDER\n",
    "from potentiel_solaire.sources.bd_topo import extract_bd_topo, get_topo_zones_of_interest, \\\n",
    "    get_topo_buildings_of_interest\n",
    "from potentiel_solaire.sources.bd_pci import extract_bd_pci\n",
    "from potentiel_solaire.sources.bd_solar_irradiation import extract_bd_irradiation\n",
    "from potentiel_solaire.sources.schools_establishments import extract_schools_establishments, \\\n",
    "    get_schools_establishments_of_interest\n",
    "from potentiel_solaire.sources.protected_buildings import extract_protected_buildings, get_areas_with_protected_buildings\n",
    "from potentiel_solaire.features.solar_potential import calculate_solar_potential\n",
    "from potentiel_solaire.aggregate import aggregate_solar_potential_by\n",
    "from potentiel_solaire.logger import get_logger\n",
    "\n",
    "logger = get_logger()\n",
    "logger.setLevel(logs_level)\n",
    "pd.options.display.max_columns = None"
   ]
  },
  {
   "cell_type": "markdown",
   "id": "a9a9258eef4ab443",
   "metadata": {},
   "source": [
    "# Extraction des données sources"
   ]
  },
  {
   "cell_type": "markdown",
   "id": "463a1d94816fdbc3",
   "metadata": {},
   "source": [
    "### Etablissements scolaires"
   ]
  },
  {
   "cell_type": "code",
   "execution_count": 3,
   "id": "7d8bb82fa7db3b7d",
   "metadata": {},
   "outputs": [
    {
     "name": "stdout",
     "output_type": "stream",
     "text": [
      "Annuaire des établissements scolaires extrait ici: C:\\Users\\micka\\Projects\\13_potentiel_solaire\\algorithme\\data\\fr-en-annuaire-education.geojson\n"
     ]
    }
   ],
   "source": [
    "schools_establishments_path = extract_schools_establishments()\n",
    "print(f\"Annuaire des établissements scolaires extrait ici: {schools_establishments_path}\")"
   ]
  },
  {
   "cell_type": "markdown",
   "id": "d24a2e59f349d78c",
   "metadata": {},
   "source": [
    "### BD TOPO"
   ]
  },
  {
   "cell_type": "code",
   "execution_count": 4,
   "id": "3e8f100f2f53930c",
   "metadata": {},
   "outputs": [
    {
     "name": "stdout",
     "output_type": "stream",
     "text": [
      "BD TOPO extraite ici: C:\\Users\\micka\\Projects\\13_potentiel_solaire\\algorithme\\data\\BDTOPO_3-4_TOUSTHEMES_GPKG_LAMB93_D093_2024-12-15\\BDTOPO\\1_DONNEES_LIVRAISON_2024-12-00134\\BDT_3-4_GPKG_LAMB93_D093-ED2024-12-15\\BDT_3-4_GPKG_LAMB93_D093-ED2024-12-15.gpkg\n"
     ]
    }
   ],
   "source": [
    "bd_topo_path = extract_bd_topo(code_departement=code_departement)\n",
    "print(f\"BD TOPO extraite ici: {bd_topo_path}\")"
   ]
  },
  {
   "cell_type": "markdown",
   "id": "c26ed5544663d238",
   "metadata": {},
   "source": [
    "### BD PCI"
   ]
  },
  {
   "cell_type": "code",
   "execution_count": 5,
   "id": "f22aa57125e42448",
   "metadata": {},
   "outputs": [
    {
     "name": "stdout",
     "output_type": "stream",
     "text": [
      "BD PCI extraite ici: C:\\Users\\micka\\Projects\\13_potentiel_solaire\\algorithme\\data\\PARCELLAIRE-EXPRESS_1-1__SHP_LAMB93_D093_2025-01-01\\PARCELLAIRE-EXPRESS\\1_DONNEES_LIVRAISON_2025-03-00057\\PEPCI_1-1_SHP_LAMB93_D093\\BATIMENT.SHP\n"
     ]
    }
   ],
   "source": [
    "bd_pci_path = extract_bd_pci(code_departement=code_departement)\n",
    "print(f\"BD PCI extraite ici: {bd_pci_path}\")"
   ]
  },
  {
   "cell_type": "markdown",
   "id": "a944bdd9d0c61e1",
   "metadata": {},
   "source": [
    "### BD IRRADIATION"
   ]
  },
  {
   "cell_type": "code",
   "execution_count": 6,
   "id": "416cb349beec3928",
   "metadata": {},
   "outputs": [
    {
     "name": "stdout",
     "output_type": "stream",
     "text": [
      "BD irradiation extraite ici: C:\\Users\\micka\\Projects\\13_potentiel_solaire\\algorithme\\data\\ENR_1-0_IRR-SOL_TIFF_WGS84G_FXX_2023-10-01\\1_DONNEES_LIVRAISON\\GlobalHorizontalIrradiation.tif\n"
     ]
    }
   ],
   "source": [
    "bd_irradiation_path = extract_bd_irradiation()\n",
    "print(f\"BD irradiation extraite ici: {bd_irradiation_path}\")"
   ]
  },
  {
   "cell_type": "markdown",
   "id": "5d3c5337",
   "metadata": {},
   "source": [
    "### BD Protected Buildings"
   ]
  },
  {
   "cell_type": "code",
   "execution_count": 7,
   "id": "1786941c",
   "metadata": {},
   "outputs": [
    {
     "name": "stderr",
     "output_type": "stream",
     "text": [
      "2025-03-09 18:03:05,523 - WARNING - pyogrio._io - c:\\Users\\micka\\Projects\\13_potentiel_solaire\\algorithme\\.venv\\Lib\\site-packages\\pyogrio\\raw.py - read - Skipping field cog_insee_lors_de_la_protection: unsupported OGR type: 5\n",
      "2025-03-09 18:03:05,524 - WARNING - pyogrio._io - c:\\Users\\micka\\Projects\\13_potentiel_solaire\\algorithme\\.venv\\Lib\\site-packages\\pyogrio\\raw.py - read - Skipping field region: unsupported OGR type: 5\n",
      "2025-03-09 18:03:05,525 - WARNING - pyogrio._io - c:\\Users\\micka\\Projects\\13_potentiel_solaire\\algorithme\\.venv\\Lib\\site-packages\\pyogrio\\raw.py - read - Skipping field departement_en_lettres: unsupported OGR type: 5\n"
     ]
    },
    {
     "name": "stdout",
     "output_type": "stream",
     "text": [
      "BD des bâtiments protégés extraite ici: C:\\Users\\micka\\Projects\\13_potentiel_solaire\\algorithme\\data/liste_immeubles_proteges.geojson\n"
     ]
    }
   ],
   "source": [
    "bd_protected_buildings_path = extract_protected_buildings()\n",
    "print(f\"BD des bâtiments protégés extraite ici: {bd_protected_buildings_path}\")"
   ]
  },
  {
   "cell_type": "markdown",
   "id": "b315616c8a49a102",
   "metadata": {},
   "source": [
    "# Filtre des données sur le périmètre du calcul"
   ]
  },
  {
   "cell_type": "markdown",
   "id": "8141e3850bdde72d",
   "metadata": {},
   "source": [
    "### Etablissements scolaires\n"
   ]
  },
  {
   "cell_type": "code",
   "execution_count": 8,
   "id": "8c2714f479cce131",
   "metadata": {},
   "outputs": [
    {
     "name": "stdout",
     "output_type": "stream",
     "text": [
      "Nb d'établissements scolaires: 1130\n"
     ]
    }
   ],
   "source": [
    "schools_establishments = get_schools_establishments_of_interest(\n",
    "    schools_filepath=schools_establishments_path,\n",
    "    code_departement=code_departement,\n",
    "    types_etablissements=['Ecole', 'Lycée', 'Collège'],\n",
    "    statut_public_prive=\"Public\",\n",
    "    etat=\"OUVERT\",\n",
    "    crs=DEFAULT_CRS\n",
    ")\n",
    "nb_schools = schools_establishments.shape[0]\n",
    "print(f\"Nb d'établissements scolaires: {nb_schools}\")"
   ]
  },
  {
   "cell_type": "markdown",
   "id": "6a7c50bff2a4dcab",
   "metadata": {},
   "source": [
    "### Zone d'intérêt géographique"
   ]
  },
  {
   "cell_type": "code",
   "execution_count": 9,
   "id": "90227f344c76c3d6",
   "metadata": {},
   "outputs": [],
   "source": [
    "codes_commune = schools_establishments[\"code_commune\"].unique()\n",
    "communes = gpd.read_file(bd_topo_path, layer=\"commune\").to_crs(DEFAULT_CRS)\n",
    "communes = communes[communes.code_insee.isin(codes_commune)]\n",
    "geom_of_interest = communes.dissolve()[[\"geometry\"]]"
   ]
  },
  {
   "cell_type": "markdown",
   "id": "ed36d1f4a8ff139d",
   "metadata": {},
   "source": [
    "### Zones d'éducations"
   ]
  },
  {
   "cell_type": "code",
   "execution_count": 10,
   "id": "62c98433be3c4844",
   "metadata": {},
   "outputs": [
    {
     "name": "stderr",
     "output_type": "stream",
     "text": [
      "c:\\Users\\micka\\Projects\\13_potentiel_solaire\\algorithme\\.venv\\Lib\\site-packages\\pyogrio\\core.py:279: RuntimeWarning: Field format 'character varying' not supported\n",
      "  return ogr_read_info(\n",
      "c:\\Users\\micka\\Projects\\13_potentiel_solaire\\algorithme\\.venv\\Lib\\site-packages\\pyogrio\\core.py:279: RuntimeWarning: Field format 'character varying(256)' not supported\n",
      "  return ogr_read_info(\n",
      "c:\\Users\\micka\\Projects\\13_potentiel_solaire\\algorithme\\.venv\\Lib\\site-packages\\pyogrio\\core.py:279: RuntimeWarning: Field format 'character varying(30)' not supported\n",
      "  return ogr_read_info(\n",
      "c:\\Users\\micka\\Projects\\13_potentiel_solaire\\algorithme\\.venv\\Lib\\site-packages\\pyogrio\\core.py:279: RuntimeWarning: Field format 'timestamp with time zone' not supported\n",
      "  return ogr_read_info(\n",
      "c:\\Users\\micka\\Projects\\13_potentiel_solaire\\algorithme\\.venv\\Lib\\site-packages\\geopandas\\io\\file.py:497: UserWarning: More than one layer found in 'BDT_3-4_GPKG_LAMB93_D093-ED2024-12-15.gpkg': 'troncon_de_route' (default), 'route_numerotee_ou_nommee', 'itineraire_autre', 'troncon_de_voie_ferree', 'equipement_de_transport', 'piste_d_aerodrome', 'aerodrome', 'point_de_repere', 'non_communication', 'point_du_reseau', 'voie_ferree_nommee', 'toponymie_transport', 'batiment', 'cimetiere', 'construction_lineaire', 'construction_ponctuelle', 'construction_surfacique', 'reservoir', 'ligne_orographique', 'pylone', 'terrain_de_sport', 'toponymie_bati', 'cours_d_eau', 'troncon_hydrographique', 'bassin_versant_topographique', 'plan_d_eau', 'surface_hydrographique', 'noeud_hydrographique', 'detail_hydrographique', 'toponymie_hydrographie', 'zone_d_habitation', 'lieu_dit_non_habite', 'detail_orographique', 'toponymie_lieux_nommes', 'canalisation', 'ligne_electrique', 'poste_de_transformation', 'erp', 'zone_d_activite_ou_d_interet', 'toponymie_services_et_activites', 'voie_nommee', 'parc_ou_reserve', 'foret_publique', 'toponymie_zones_reglementees', 'haie', 'zone_de_vegetation', 'arrondissement', 'arrondissement_municipal', 'commune', 'epci', 'collectivite_territoriale', 'departement', 'region', 'adresse_ban', 'batiment_rnb_lien_bdtopo', 'lien_adresse_vers_bdtopo', 'section_de_points_de_repere', 'info_metadonnees', 'metadonnees_lot', 'metadonnees_theme', 'layer_styles'. Specify layer parameter to avoid this warning.\n",
      "  crs = pyogrio.read_info(path_or_bytes).get(\"crs\")\n"
     ]
    },
    {
     "name": "stdout",
     "output_type": "stream",
     "text": [
      "Nb de zones d'éducations:  1088\n"
     ]
    }
   ],
   "source": [
    "educational_zones = get_topo_zones_of_interest(\n",
    "    bd_topo_path=bd_topo_path,\n",
    "    geom_of_interest=geom_of_interest,\n",
    "    categories=[\"Science et enseignement\"],\n",
    "    natures=['Collège', 'Lycée', 'Enseignement primaire'],\n",
    "    crs=DEFAULT_CRS\n",
    ")\n",
    "nb_educational_zones = educational_zones.shape[0]\n",
    "print(\"Nb de zones d'éducations: \", nb_educational_zones)"
   ]
  },
  {
   "cell_type": "markdown",
   "id": "50d92236b74ff088",
   "metadata": {},
   "source": [
    "### Bâtiments"
   ]
  },
  {
   "cell_type": "code",
   "execution_count": 11,
   "id": "b092bb4fd4942b",
   "metadata": {},
   "outputs": [
    {
     "name": "stderr",
     "output_type": "stream",
     "text": [
      "c:\\Users\\micka\\Projects\\13_potentiel_solaire\\algorithme\\.venv\\Lib\\site-packages\\pyogrio\\core.py:279: RuntimeWarning: Field format 'character varying' not supported\n",
      "  return ogr_read_info(\n",
      "c:\\Users\\micka\\Projects\\13_potentiel_solaire\\algorithme\\.venv\\Lib\\site-packages\\pyogrio\\core.py:279: RuntimeWarning: Field format 'character varying(256)' not supported\n",
      "  return ogr_read_info(\n",
      "c:\\Users\\micka\\Projects\\13_potentiel_solaire\\algorithme\\.venv\\Lib\\site-packages\\pyogrio\\core.py:279: RuntimeWarning: Field format 'character varying(30)' not supported\n",
      "  return ogr_read_info(\n",
      "c:\\Users\\micka\\Projects\\13_potentiel_solaire\\algorithme\\.venv\\Lib\\site-packages\\pyogrio\\core.py:279: RuntimeWarning: Field format 'timestamp with time zone' not supported\n",
      "  return ogr_read_info(\n",
      "c:\\Users\\micka\\Projects\\13_potentiel_solaire\\algorithme\\.venv\\Lib\\site-packages\\geopandas\\io\\file.py:497: UserWarning: More than one layer found in 'BDT_3-4_GPKG_LAMB93_D093-ED2024-12-15.gpkg': 'troncon_de_route' (default), 'route_numerotee_ou_nommee', 'itineraire_autre', 'troncon_de_voie_ferree', 'equipement_de_transport', 'piste_d_aerodrome', 'aerodrome', 'point_de_repere', 'non_communication', 'point_du_reseau', 'voie_ferree_nommee', 'toponymie_transport', 'batiment', 'cimetiere', 'construction_lineaire', 'construction_ponctuelle', 'construction_surfacique', 'reservoir', 'ligne_orographique', 'pylone', 'terrain_de_sport', 'toponymie_bati', 'cours_d_eau', 'troncon_hydrographique', 'bassin_versant_topographique', 'plan_d_eau', 'surface_hydrographique', 'noeud_hydrographique', 'detail_hydrographique', 'toponymie_hydrographie', 'zone_d_habitation', 'lieu_dit_non_habite', 'detail_orographique', 'toponymie_lieux_nommes', 'canalisation', 'ligne_electrique', 'poste_de_transformation', 'erp', 'zone_d_activite_ou_d_interet', 'toponymie_services_et_activites', 'voie_nommee', 'parc_ou_reserve', 'foret_publique', 'toponymie_zones_reglementees', 'haie', 'zone_de_vegetation', 'arrondissement', 'arrondissement_municipal', 'commune', 'epci', 'collectivite_territoriale', 'departement', 'region', 'adresse_ban', 'batiment_rnb_lien_bdtopo', 'lien_adresse_vers_bdtopo', 'section_de_points_de_repere', 'info_metadonnees', 'metadonnees_lot', 'metadonnees_theme', 'layer_styles'. Specify layer parameter to avoid this warning.\n",
      "  crs = pyogrio.read_info(path_or_bytes).get(\"crs\")\n"
     ]
    },
    {
     "name": "stdout",
     "output_type": "stream",
     "text": [
      "Nb de batiments:  351576\n"
     ]
    }
   ],
   "source": [
    "# TODO : ajout des batiments manquants avec la BD PCI\n",
    "buildings = get_topo_buildings_of_interest(\n",
    "    bd_topo_path=bd_topo_path,\n",
    "    geom_of_interest=geom_of_interest,\n",
    "    crs=DEFAULT_CRS\n",
    ")\n",
    "nb_buildings = buildings.shape[0]\n",
    "print(\"Nb de batiments: \", nb_buildings)"
   ]
  },
  {
   "cell_type": "markdown",
   "id": "176817ac7bffea59",
   "metadata": {},
   "source": [
    "### Zones avec des bâtiments protégés"
   ]
  },
  {
   "cell_type": "code",
   "execution_count": 12,
   "id": "6d9accb3a3076291",
   "metadata": {},
   "outputs": [],
   "source": [
    "areas_with_protected_buildings = get_areas_with_protected_buildings(\n",
    "    bd_protected_buildings_path=bd_protected_buildings_path,\n",
    "    geom_of_interest=geom_of_interest,\n",
    "    crs=DEFAULT_CRS\n",
    ")"
   ]
  },
  {
   "cell_type": "markdown",
   "id": "129b67af5c421e52",
   "metadata": {},
   "source": [
    "# Détermination des bâtiments scolaires"
   ]
  },
  {
   "cell_type": "code",
   "execution_count": 13,
   "id": "f164fcc395a85eeb",
   "metadata": {},
   "outputs": [
    {
     "name": "stderr",
     "output_type": "stream",
     "text": [
      "c:\\Users\\micka\\Projects\\13_potentiel_solaire\\algorithme\\.venv\\Lib\\site-packages\\geopandas\\array.py:403: UserWarning: Geometry is in a geographic CRS. Results from 'sjoin_nearest' are likely incorrect. Use 'GeoSeries.to_crs()' to re-project geometries to a projected CRS before this operation.\n",
      "\n",
      "  warnings.warn(\n"
     ]
    },
    {
     "name": "stdout",
     "output_type": "stream",
     "text": [
      "Nb de batiments scolaires:  3731\n"
     ]
    }
   ],
   "source": [
    "schools_buildings = attach_buildings_to_schools(\n",
    "    schools_establishments=schools_establishments,\n",
    "    educational_zones=educational_zones,\n",
    "    buildings=buildings\n",
    ")\n",
    "nb_schools_buildings = schools_buildings.shape[0]\n",
    "print(\"Nb de batiments scolaires: \", nb_schools_buildings)"
   ]
  },
  {
   "cell_type": "markdown",
   "id": "25094a9970938a7d",
   "metadata": {},
   "source": [
    "# Calcul des attributs utiles pour le potentiel solaire"
   ]
  },
  {
   "cell_type": "code",
   "execution_count": 14,
   "id": "c0cf2ab1980a4b17",
   "metadata": {},
   "outputs": [],
   "source": [
    "# TODO: v0 seulement à ce stade\n",
    "solar_potential_of_schools_buildings = calculate_solar_potential(\n",
    "    schools_buildings=schools_buildings,\n",
    "    bd_irradiation_path=bd_irradiation_path,\n",
    "    areas_with_protected_buildings=areas_with_protected_buildings\n",
    ")"
   ]
  },
  {
   "cell_type": "markdown",
   "id": "122f28cb4df0c233",
   "metadata": {},
   "source": [
    "# Dump des donnees pour analyses"
   ]
  },
  {
   "cell_type": "code",
   "execution_count": 15,
   "id": "ec6bfaba919117a6",
   "metadata": {},
   "outputs": [],
   "source": [
    "solar_potential_of_schools_buildings[\"zone_pour_rayonnement_solaire\"] = solar_potential_of_schools_buildings[\"zone_pour_rayonnement_solaire\"].to_wkt()\n",
    "\n",
    "layers = [\"schools_establishments\", \"educational_zones\", \"schools_buildings\", \"solar_potential_of_schools_buildings\"]\n",
    "gdfs = [schools_establishments, educational_zones, schools_buildings, solar_potential_of_schools_buildings]\n",
    "\n",
    "for layer, gdf in zip(layers, gdfs):\n",
    "    output_gpkg = DATA_FOLDER / f\"{code_departement}_pipeline_results.gpkg\"\n",
    "    gdf.to_file(output_gpkg, layer=layer, driver=\"GPKG\")"
   ]
  },
  {
   "cell_type": "markdown",
   "id": "363dff224bfb7766",
   "metadata": {},
   "source": [
    "# Checks sur la qualité des données & calculs"
   ]
  },
  {
   "cell_type": "code",
   "execution_count": 16,
   "id": "46d41149e1faf14f",
   "metadata": {},
   "outputs": [
    {
     "name": "stdout",
     "output_type": "stream",
     "text": [
      "Nb d'établissements scolaires avec des batiments: 445 (39%)\n"
     ]
    }
   ],
   "source": [
    "nb_schools_with_buildings = len(schools_buildings.identifiant_de_l_etablissement.unique())\n",
    "print(\"Nb d'établissements scolaires avec des batiments: {} ({}%)\".format(\n",
    "    nb_schools_with_buildings,\n",
    "    round(100 * nb_schools_with_buildings / nb_schools)\n",
    "))"
   ]
  },
  {
   "cell_type": "code",
   "execution_count": 17,
   "id": "3ba0c93b8e8c53da",
   "metadata": {},
   "outputs": [
    {
     "name": "stdout",
     "output_type": "stream",
     "text": [
      "Nb de batiments protégés 1093 (29.30%)\n"
     ]
    }
   ],
   "source": [
    "nb_buildings_protected = solar_potential_of_schools_buildings[solar_potential_of_schools_buildings.protection].shape[0]\n",
    "print(f\"Nb de batiments protégés {nb_buildings_protected} ({100*nb_buildings_protected/nb_schools_buildings:.2f}%)\")"
   ]
  },
  {
   "cell_type": "markdown",
   "id": "9b78aec5982e6099",
   "metadata": {},
   "source": [
    "# Aggrégations"
   ]
  },
  {
   "cell_type": "markdown",
   "id": "c031864081bf3adb",
   "metadata": {},
   "source": [
    "### Par établissement scolaire"
   ]
  },
  {
   "cell_type": "code",
   "execution_count": 18,
   "id": "c469e5829a888e0a",
   "metadata": {},
   "outputs": [
    {
     "data": {
      "text/html": [
       "<div>\n",
       "<style scoped>\n",
       "    .dataframe tbody tr th:only-of-type {\n",
       "        vertical-align: middle;\n",
       "    }\n",
       "\n",
       "    .dataframe tbody tr th {\n",
       "        vertical-align: top;\n",
       "    }\n",
       "\n",
       "    .dataframe thead th {\n",
       "        text-align: right;\n",
       "    }\n",
       "</style>\n",
       "<table border=\"1\" class=\"dataframe\">\n",
       "  <thead>\n",
       "    <tr style=\"text-align: right;\">\n",
       "      <th></th>\n",
       "      <th>identifiant_de_l_etablissement</th>\n",
       "      <th>surface_utile</th>\n",
       "      <th>rayonnement_solaire</th>\n",
       "      <th>potentiel_solaire</th>\n",
       "      <th>protection</th>\n",
       "    </tr>\n",
       "  </thead>\n",
       "  <tbody>\n",
       "    <tr>\n",
       "      <th>0</th>\n",
       "      <td>0930043S</td>\n",
       "      <td>0.000000</td>\n",
       "      <td>0.000000</td>\n",
       "      <td>0.000000</td>\n",
       "      <td>False</td>\n",
       "    </tr>\n",
       "    <tr>\n",
       "      <th>1</th>\n",
       "      <td>0930089S</td>\n",
       "      <td>3245.297871</td>\n",
       "      <td>1143.404907</td>\n",
       "      <td>371066.369436</td>\n",
       "      <td>True</td>\n",
       "    </tr>\n",
       "    <tr>\n",
       "      <th>2</th>\n",
       "      <td>0930100D</td>\n",
       "      <td>2069.812266</td>\n",
       "      <td>1143.329590</td>\n",
       "      <td>236647.053457</td>\n",
       "      <td>False</td>\n",
       "    </tr>\n",
       "    <tr>\n",
       "      <th>3</th>\n",
       "      <td>0930116W</td>\n",
       "      <td>0.000000</td>\n",
       "      <td>0.000000</td>\n",
       "      <td>0.000000</td>\n",
       "      <td>False</td>\n",
       "    </tr>\n",
       "    <tr>\n",
       "      <th>4</th>\n",
       "      <td>0930117X</td>\n",
       "      <td>4907.794034</td>\n",
       "      <td>1141.873413</td>\n",
       "      <td>560407.952443</td>\n",
       "      <td>True</td>\n",
       "    </tr>\n",
       "  </tbody>\n",
       "</table>\n",
       "</div>"
      ],
      "text/plain": [
       "  identifiant_de_l_etablissement  surface_utile  rayonnement_solaire  \\\n",
       "0                       0930043S       0.000000             0.000000   \n",
       "1                       0930089S    3245.297871          1143.404907   \n",
       "2                       0930100D    2069.812266          1143.329590   \n",
       "3                       0930116W       0.000000             0.000000   \n",
       "4                       0930117X    4907.794034          1141.873413   \n",
       "\n",
       "   potentiel_solaire  protection  \n",
       "0           0.000000       False  \n",
       "1      371066.369436        True  \n",
       "2      236647.053457       False  \n",
       "3           0.000000       False  \n",
       "4      560407.952443        True  "
      ]
     },
     "execution_count": 18,
     "metadata": {},
     "output_type": "execute_result"
    }
   ],
   "source": [
    "results_by_school = aggregate_solar_potential_by(\n",
    "    schools_establishments=schools_establishments,\n",
    "    solar_potential_of_schools_buildings=solar_potential_of_schools_buildings,\n",
    "    group_by = [\n",
    "        \"identifiant_de_l_etablissement\",\n",
    "    ]\n",
    ")\n",
    "\n",
    "results_by_school.head()"
   ]
  },
  {
   "cell_type": "markdown",
   "id": "4095f66c6c4336a0",
   "metadata": {},
   "source": [
    "### Par commune"
   ]
  },
  {
   "cell_type": "code",
   "execution_count": 19,
   "id": "1d2b76a6b5a0a16b",
   "metadata": {},
   "outputs": [
    {
     "data": {
      "text/html": [
       "<div>\n",
       "<style scoped>\n",
       "    .dataframe tbody tr th:only-of-type {\n",
       "        vertical-align: middle;\n",
       "    }\n",
       "\n",
       "    .dataframe tbody tr th {\n",
       "        vertical-align: top;\n",
       "    }\n",
       "\n",
       "    .dataframe thead th {\n",
       "        text-align: right;\n",
       "    }\n",
       "</style>\n",
       "<table border=\"1\" class=\"dataframe\">\n",
       "  <thead>\n",
       "    <tr style=\"text-align: right;\">\n",
       "      <th></th>\n",
       "      <th>code_commune</th>\n",
       "      <th>nom_commune</th>\n",
       "      <th>code_departement</th>\n",
       "      <th>libelle_departement</th>\n",
       "      <th>code_region</th>\n",
       "      <th>libelle_region</th>\n",
       "      <th>surface_utile</th>\n",
       "      <th>rayonnement_solaire</th>\n",
       "      <th>potentiel_solaire</th>\n",
       "      <th>protection</th>\n",
       "    </tr>\n",
       "  </thead>\n",
       "  <tbody>\n",
       "    <tr>\n",
       "      <th>0</th>\n",
       "      <td>93001</td>\n",
       "      <td>Aubervilliers</td>\n",
       "      <td>093</td>\n",
       "      <td>Seine-Saint-Denis</td>\n",
       "      <td>11</td>\n",
       "      <td>Ile-de-France</td>\n",
       "      <td>54563.526631</td>\n",
       "      <td>967.649109</td>\n",
       "      <td>6.231777e+06</td>\n",
       "      <td>True</td>\n",
       "    </tr>\n",
       "    <tr>\n",
       "      <th>1</th>\n",
       "      <td>93005</td>\n",
       "      <td>Aulnay-sous-Bois</td>\n",
       "      <td>093</td>\n",
       "      <td>Seine-Saint-Denis</td>\n",
       "      <td>11</td>\n",
       "      <td>Ile-de-France</td>\n",
       "      <td>35282.028352</td>\n",
       "      <td>918.783203</td>\n",
       "      <td>4.040277e+06</td>\n",
       "      <td>True</td>\n",
       "    </tr>\n",
       "    <tr>\n",
       "      <th>2</th>\n",
       "      <td>93006</td>\n",
       "      <td>Bagnolet</td>\n",
       "      <td>093</td>\n",
       "      <td>Seine-Saint-Denis</td>\n",
       "      <td>11</td>\n",
       "      <td>Ile-de-France</td>\n",
       "      <td>25830.017170</td>\n",
       "      <td>1027.417969</td>\n",
       "      <td>2.955298e+06</td>\n",
       "      <td>True</td>\n",
       "    </tr>\n",
       "    <tr>\n",
       "      <th>3</th>\n",
       "      <td>93007</td>\n",
       "      <td>Le Blanc-Mesnil</td>\n",
       "      <td>093</td>\n",
       "      <td>Seine-Saint-Denis</td>\n",
       "      <td>11</td>\n",
       "      <td>Ile-de-France</td>\n",
       "      <td>29601.228822</td>\n",
       "      <td>915.268311</td>\n",
       "      <td>3.387507e+06</td>\n",
       "      <td>True</td>\n",
       "    </tr>\n",
       "    <tr>\n",
       "      <th>4</th>\n",
       "      <td>93008</td>\n",
       "      <td>Bobigny</td>\n",
       "      <td>093</td>\n",
       "      <td>Seine-Saint-Denis</td>\n",
       "      <td>11</td>\n",
       "      <td>Ile-de-France</td>\n",
       "      <td>28739.882571</td>\n",
       "      <td>876.470520</td>\n",
       "      <td>3.282204e+06</td>\n",
       "      <td>True</td>\n",
       "    </tr>\n",
       "  </tbody>\n",
       "</table>\n",
       "</div>"
      ],
      "text/plain": [
       "  code_commune       nom_commune code_departement libelle_departement  \\\n",
       "0        93001     Aubervilliers              093   Seine-Saint-Denis   \n",
       "1        93005  Aulnay-sous-Bois              093   Seine-Saint-Denis   \n",
       "2        93006          Bagnolet              093   Seine-Saint-Denis   \n",
       "3        93007   Le Blanc-Mesnil              093   Seine-Saint-Denis   \n",
       "4        93008           Bobigny              093   Seine-Saint-Denis   \n",
       "\n",
       "  code_region libelle_region  surface_utile  rayonnement_solaire  \\\n",
       "0          11  Ile-de-France   54563.526631           967.649109   \n",
       "1          11  Ile-de-France   35282.028352           918.783203   \n",
       "2          11  Ile-de-France   25830.017170          1027.417969   \n",
       "3          11  Ile-de-France   29601.228822           915.268311   \n",
       "4          11  Ile-de-France   28739.882571           876.470520   \n",
       "\n",
       "   potentiel_solaire  protection  \n",
       "0       6.231777e+06        True  \n",
       "1       4.040277e+06        True  \n",
       "2       2.955298e+06        True  \n",
       "3       3.387507e+06        True  \n",
       "4       3.282204e+06        True  "
      ]
     },
     "execution_count": 19,
     "metadata": {},
     "output_type": "execute_result"
    }
   ],
   "source": [
    "results_by_city = aggregate_solar_potential_by(\n",
    "    schools_establishments=schools_establishments,\n",
    "    solar_potential_of_schools_buildings=solar_potential_of_schools_buildings,\n",
    "    group_by = [\n",
    "        \"code_commune\",\n",
    "        \"nom_commune\",\n",
    "        \"code_departement\",\n",
    "        \"libelle_departement\",\n",
    "        \"code_region\",\n",
    "        \"libelle_region\",\n",
    "    ]\n",
    ")\n",
    "\n",
    "results_by_city.head()"
   ]
  },
  {
   "cell_type": "markdown",
   "id": "b1979de1a83e56b",
   "metadata": {},
   "source": [
    "### Pour le département"
   ]
  },
  {
   "cell_type": "code",
   "execution_count": 20,
   "id": "aa0632566b289415",
   "metadata": {},
   "outputs": [
    {
     "data": {
      "text/html": [
       "<div>\n",
       "<style scoped>\n",
       "    .dataframe tbody tr th:only-of-type {\n",
       "        vertical-align: middle;\n",
       "    }\n",
       "\n",
       "    .dataframe tbody tr th {\n",
       "        vertical-align: top;\n",
       "    }\n",
       "\n",
       "    .dataframe thead th {\n",
       "        text-align: right;\n",
       "    }\n",
       "</style>\n",
       "<table border=\"1\" class=\"dataframe\">\n",
       "  <thead>\n",
       "    <tr style=\"text-align: right;\">\n",
       "      <th></th>\n",
       "      <th>code_departement</th>\n",
       "      <th>libelle_departement</th>\n",
       "      <th>code_region</th>\n",
       "      <th>libelle_region</th>\n",
       "      <th>surface_utile</th>\n",
       "      <th>rayonnement_solaire</th>\n",
       "      <th>potentiel_solaire</th>\n",
       "      <th>protection</th>\n",
       "    </tr>\n",
       "  </thead>\n",
       "  <tbody>\n",
       "    <tr>\n",
       "      <th>0</th>\n",
       "      <td>093</td>\n",
       "      <td>Seine-Saint-Denis</td>\n",
       "      <td>11</td>\n",
       "      <td>Ile-de-France</td>\n",
       "      <td>867308.706529</td>\n",
       "      <td>965.961365</td>\n",
       "      <td>9.916325e+07</td>\n",
       "      <td>True</td>\n",
       "    </tr>\n",
       "  </tbody>\n",
       "</table>\n",
       "</div>"
      ],
      "text/plain": [
       "  code_departement libelle_departement code_region libelle_region  \\\n",
       "0              093   Seine-Saint-Denis          11  Ile-de-France   \n",
       "\n",
       "   surface_utile  rayonnement_solaire  potentiel_solaire  protection  \n",
       "0  867308.706529           965.961365       9.916325e+07        True  "
      ]
     },
     "execution_count": 20,
     "metadata": {},
     "output_type": "execute_result"
    }
   ],
   "source": [
    "results_by_departement = aggregate_solar_potential_by(\n",
    "    schools_establishments=schools_establishments,\n",
    "    solar_potential_of_schools_buildings=solar_potential_of_schools_buildings,\n",
    "    group_by = [\n",
    "        \"code_departement\",\n",
    "        \"libelle_departement\",\n",
    "        \"code_region\",\n",
    "        \"libelle_region\",\n",
    "    ]\n",
    ")\n",
    "\n",
    "results_by_departement"
   ]
  },
  {
   "cell_type": "markdown",
   "id": "229708fb93570bb0",
   "metadata": {},
   "source": [
    "# Sauvegarde des calculs en Base de Données"
   ]
  },
  {
   "cell_type": "code",
   "execution_count": 21,
   "id": "1a80c8de",
   "metadata": {},
   "outputs": [],
   "source": [
    "conn = duckdb.connect('./../database/potentiel_solaire.duckdb')"
   ]
  },
  {
   "cell_type": "markdown",
   "id": "76f552dc",
   "metadata": {},
   "source": [
    "### Mise à jour des données des Etablissements du Département en Base de Données"
   ]
  },
  {
   "cell_type": "code",
   "execution_count": null,
   "id": "a6e15203",
   "metadata": {},
   "outputs": [
    {
     "name": "stdout",
     "output_type": "stream",
     "text": [
      "<duckdb.duckdb.DuckDBPyConnection object at 0x0000021464F3F1F0>\n",
      "❔\n"
     ]
    }
   ],
   "source": [
    "conn.register(\"results_by_school\", results_by_school)\n",
    "\n",
    "query = \"\"\"\n",
    "UPDATE etablissements\n",
    "SET \n",
    "    surface_utile = results_by_school.surface_utile,\n",
    "    rayonnement_solaire = results_by_school.rayonnement_solaire,\n",
    "    potentiel_solaire = results_by_school.potentiel_solaire,\n",
    "    protection = results_by_school.protection\n",
    "FROM\n",
    "    results_by_school\n",
    "WHERE\n",
    "    etablissements.identifiant_de_l_etablissement = results_by_school.identifiant_de_l_etablissement\n",
    "\"\"\"\n",
    "\n",
    "conn.execute(query)\n",
    "conn.commit()\n",
    "\n",
    "assert conn.execute(\"SELECT COUNT(*) FROM etablissements WHERE surface_utile > 0\").fetchone()[0] > 0, \"Problème lors de la mise à jour des établissements\""
   ]
  },
  {
   "cell_type": "markdown",
   "id": "8b0bbdfa",
   "metadata": {},
   "source": [
    "### Mise à jour des données des Communes du Département en Base de Données"
   ]
  },
  {
   "cell_type": "code",
   "execution_count": null,
   "id": "341619cc",
   "metadata": {},
   "outputs": [
    {
     "name": "stdout",
     "output_type": "stream",
     "text": [
      "<duckdb.duckdb.DuckDBPyConnection object at 0x0000021464F3F1F0>\n"
     ]
    }
   ],
   "source": [
    "query = f\"\"\"\n",
    "UPDATE communes\n",
    "SET \n",
    "    surface_utile = agg.surface_utile,\n",
    "    potentiel_solaire = agg.potentiel_solaire,\n",
    "    count_etablissements = agg.count_etablissements,\n",
    "    count_etablissements_proteges = agg.count_etablissements_proteges\n",
    "FROM (\n",
    "    SELECT \n",
    "         code_commune,\n",
    "         SUM(surface_utile) AS surface_utile,\n",
    "         SUM(potentiel_solaire) AS potentiel_solaire,\n",
    "         COUNT(*) AS count_etablissements,\n",
    "         SUM(CASE WHEN protection THEN 1 ELSE 0 END) AS count_etablissements_proteges\n",
    "    FROM etablissements\n",
    "    GROUP BY code_commune\n",
    ") AS agg\n",
    "WHERE\n",
    "  communes.code_commune = agg.code_commune\n",
    "  AND communes.code_departement = '{code_departement}'\n",
    "\"\"\"\n",
    "\n",
    "conn.execute(query)\n",
    "conn.commit()\n",
    "\n",
    "assert conn.execute(\"SELECT COUNT(*) FROM communes WHERE surface_utile > 0\").fetchone()[0] > 0, \"Problème lors de la mise à jour des communes\""
   ]
  },
  {
   "cell_type": "markdown",
   "id": "aa3147ae",
   "metadata": {},
   "source": [
    "### Mise à jour des données du Département en Base de données"
   ]
  },
  {
   "cell_type": "code",
   "execution_count": 40,
   "id": "7a46bd4a",
   "metadata": {},
   "outputs": [],
   "source": [
    "query = f\"\"\"\n",
    "UPDATE departements\n",
    "SET \n",
    "    surface_utile = agg.surface_utile,\n",
    "    potentiel_solaire = agg.potentiel_solaire,\n",
    "    count_etablissements = agg.count_etablissements,\n",
    "    count_etablissements_proteges = agg.count_etablissements_proteges\n",
    "FROM (\n",
    "    SELECT \n",
    "         code_departement,\n",
    "         SUM(surface_utile) AS surface_utile,\n",
    "         SUM(potentiel_solaire) AS potentiel_solaire,\n",
    "         COUNT(*) AS count_etablissements,\n",
    "         SUM(CASE WHEN protection THEN 1 ELSE 0 END) AS count_etablissements_proteges\n",
    "    FROM etablissements\n",
    "    GROUP BY code_departement\n",
    ") AS agg\n",
    "WHERE\n",
    "    departements.code_departement = agg.code_departement\n",
    "    AND departements.code_departement = '{code_departement}'\n",
    "\"\"\"\n",
    "\n",
    "conn.execute(query)\n",
    "conn.commit()\n",
    "\n",
    "assert conn.execute(f\"SELECT COUNT(*) FROM departements WHERE surface_utile > 0 AND code_departement = '{code_departement}'\").fetchone()[0] > 0, f\"Problème lors de la mise à jour du département {code_departement}\""
   ]
  },
  {
   "cell_type": "markdown",
   "id": "2723a1b3",
   "metadata": {},
   "source": [
    "# Export sous forme de fichiers GeoJSON"
   ]
  },
  {
   "cell_type": "code",
   "execution_count": 23,
   "id": "9117b553",
   "metadata": {},
   "outputs": [],
   "source": [
    "output_folder = ALGORITHME_FOLDER.parent / \"results\" / f\"D{code_departement}\"\n",
    "output_folder.mkdir(exist_ok=True, parents=True)\n",
    "\n",
    "# TODO : a voir cote front sil faut changer le format de mise a disposition\n",
    "# TODO2 : créer les fichiers GeoJSON à partir de la Base de données dans un autre pipeline\n",
    "#results_by_school.to_file(output_folder / f\"D{code_departement}_ecoles.geojson\", driver=\"GeoJSON\")\n",
    "#results_by_commune.to_file(output_folder / f\"D{code_departement}_communes.geojson\", driver=\"GeoJSON\")\n",
    "#results_by_departement.to_file(output_folder / f\"D{code_departement}_departement.geojson\", driver=\"GeoJSON\")"
   ]
  }
 ],
 "metadata": {
  "kernelspec": {
   "display_name": ".venv",
   "language": "python",
   "name": "python3"
  },
  "language_info": {
   "codemirror_mode": {
    "name": "ipython",
    "version": 3
   },
   "file_extension": ".py",
   "mimetype": "text/x-python",
   "name": "python",
   "nbconvert_exporter": "python",
   "pygments_lexer": "ipython3",
   "version": "3.12.5"
  }
 },
 "nbformat": 4,
 "nbformat_minor": 5
}
