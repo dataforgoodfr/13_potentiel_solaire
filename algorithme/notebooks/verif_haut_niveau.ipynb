{
 "cells": [
  {
   "cell_type": "code",
   "execution_count": 1,
   "metadata": {},
   "outputs": [],
   "source": [
    "import geopandas as gpd\n",
    "from pathlib import Path\n",
    "import matplotlib.pyplot as plt\n",
    "import contextily as cx\n",
    "import fiona\n",
    "\n",
    "# Potentiel solaire package\n",
    "from potentiel_solaire.constants import DATA_FOLDER"
   ]
  },
  {
   "cell_type": "code",
   "execution_count": 2,
   "metadata": {},
   "outputs": [],
   "source": [
    "# Executer ci dessous ci besoin pour récupérer les données\n",
    "# !extract-sample-data\n",
    "# Et pour sauver une version markdown des notebooks, utiliser\n",
    "# jupyter nbconvert verif_haut_niveau.ipynb --to markdown --output-dir=exports/"
   ]
  },
  {
   "cell_type": "code",
   "execution_count": null,
   "metadata": {},
   "outputs": [],
   "source": [
    "src = DATA_FOLDER / \"saint_denis_reference_data.gpkg\"\n",
    "layers = fiona.listlayers(src)\n",
    "\n",
    "for layer in layers:\n",
    "    gdf_sd = gpd.read_file(src, layer=layer)\n",
    "    print(f\"* Couche: {layer} avec {len(gdf_sd)} éléments.\")"
   ]
  },
  {
   "cell_type": "code",
   "execution_count": 4,
   "metadata": {},
   "outputs": [],
   "source": [
    "zones = gpd.read_file(src, layer=\"bdtopo_education\")\n",
    "ecoles = gpd.read_file(src, layer=\"annuaire_education\")\n",
    "ecoles_seules = gpd.read_file(src, layer=\"annuaire_education_sans_zone\") \n",
    "potentiel = gpd.read_file(src, layer=\"potentielsolaire_toitures\")\n",
    "batiments_ecoles = gpd.read_file(src, layer=\"bdtopo_batiment\")\n",
    "stdenis = gpd.read_file(src, layer=\"perimetre_st_denis\")"
   ]
  },
  {
   "cell_type": "code",
   "execution_count": null,
   "metadata": {},
   "outputs": [],
   "source": [
    "fig1, ax1 = plt.subplots(figsize=(15, 15))\n",
    "zones.plot(ax=ax1, color='black', alpha=0.5, label='Zones')\n",
    "stdenis.plot(ax=ax1, color='black', alpha=0.5, label='Zones')\n",
    "ecoles.plot(ax=ax1, color='green', alpha=0.5, label='Ecoles avec zone')\n",
    "ecoles_seules.plot(ax=ax1, color='red', alpha=0.5, label='Ecole seules sans zone')\n",
    "batiments_ecoles.plot(ax=ax1, facecolor='yellow', edgecolor='red', linewidth=0.5, alpha=0.8, label='Saint-Denis')\n",
    "potentiel.plot(ax=ax1, facecolor='orange', edgecolor='red', linewidth=0.5, alpha=0.8, label='Saint-Denis')\n",
    "cx.add_basemap(ax1, crs=zones.crs, zoom=14)\n",
    "ax1.set_title(f\"Bâtiments à Saint-Denis\\n{len(potentiel)} bâtiments\", pad=20)\n",
    "ax1.legend()\n",
    "plt.show()"
   ]
  },
  {
   "cell_type": "markdown",
   "metadata": {},
   "source": [
    "# Premiere estimation\n",
    "\n",
    "France: 1000 kWh/m2/an  à 1900 kWh/m2/an"
   ]
  },
  {
   "cell_type": "code",
   "execution_count": 6,
   "metadata": {},
   "outputs": [],
   "source": [
    "gdf = potentiel\n",
    "\n",
    "gdb = batiments_ecoles"
   ]
  },
  {
   "cell_type": "code",
   "execution_count": 7,
   "metadata": {},
   "outputs": [],
   "source": [
    "batiments_calcules = gdf[list(gdf.columns)[:18]+[\"geometry\"]]\n",
    "batiments_calcules = batiments_calcules.rename(columns={\"id\": \"cleabs\"})\n",
    "batiments_reference = gdb\n",
    "batiments_reference = batiments_reference.rename(columns={\"cleabs_left__bat\": \"cleabs\"})\n",
    "communs = list(set(batiments_calcules.cleabs) & set(batiments_reference.cleabs))\n",
    "batiments_reference = batiments_reference[batiments_reference.cleabs.isin(communs)]\n",
    "batiments_calcules = batiments_calcules[batiments_calcules.cleabs.isin(communs)]\n",
    "\n",
    "\n",
    "# On calcule les surfaces\n",
    "batiments_calcules = batiments_calcules.to_crs(epsg=6933)\n",
    "batiments_calcules[\"surface_calculee\"] = batiments_calcules.area\n",
    "batiments_calcules = batiments_calcules.to_crs(epsg=4326)\n",
    "\n",
    "batiments_reference = batiments_reference.to_crs(epsg=6933)\n",
    "batiments_reference[\"surface_calculee\"] = batiments_reference.area\n",
    "batiments_reference = batiments_reference.to_crs(epsg=4326)"
   ]
  },
  {
   "cell_type": "code",
   "execution_count": 8,
   "metadata": {},
   "outputs": [],
   "source": [
    "batiments_calcules[\"calcul_naif\"] = 1100*batiments_calcules[\"surface_calculee\"]"
   ]
  },
  {
   "cell_type": "code",
   "execution_count": null,
   "metadata": {},
   "outputs": [],
   "source": [
    "batiments_calcules = batiments_calcules[[\"surface_calculee\", \"surf_util\", \"production\", \"calcul_naif\",\"moyenne2\", \"indic2\",\"forme\",  \"gisement\"\t,\"eq_pano\",\t\"eq_surf\"\t,\"cleabs\", \"geometry\"]]\n",
    "test = batiments_calcules[batiments_calcules.surf_util > 0]\n",
    "test[\"ratio\"] = test[\"production\"] / test[\"calcul_naif\"]\n",
    "ratio = test[\"ratio\"].mean()\n",
    "batiments_calcules[\"calcul_naif\"] = 1100*batiments_calcules[\"surface_calculee\"]\n",
    "batiments_calcules[\"calcul_naif_maj\"] = 1100*batiments_calcules[\"surface_calculee\"]*ratio\n",
    "batiments_calcules[\"ratio_surface\"] = batiments_calcules[\"surf_util\"]/batiments_calcules[\"surface_calculee\"]\n",
    "batiments_calcules"
   ]
  },
  {
   "cell_type": "code",
   "execution_count": null,
   "metadata": {},
   "outputs": [],
   "source": [
    "batiments_calcules.plot.scatter(x=\"surface_calculee\",y=\"production\",c=\"indic2\",colormap='viridis',\\\n",
    "    title='Relation between production et surface calculée\\nloglog scale', \\\n",
    "    logx=True, logy=True,\n",
    "    figsize = (10,5))"
   ]
  },
  {
   "cell_type": "code",
   "execution_count": null,
   "metadata": {},
   "outputs": [],
   "source": [
    "batiments_calcules[batiments_calcules.indic2 > 0].plot.scatter(x=\"surface_calculee\",y=\"surf_util\",c=\"indic2\",colormap='viridis', \\\n",
    "    title='Relation between surface calculée et surface utile\\nloglog scale', \\\n",
    "    logx=True, logy=True,\n",
    "    figsize = (10,5))"
   ]
  },
  {
   "cell_type": "code",
   "execution_count": null,
   "metadata": {},
   "outputs": [],
   "source": [
    "batiments_calcules[batiments_calcules.indic2 > 0].plot.scatter( \\\n",
    "    x=\"production\",y=\"calcul_naif_maj\",c=\"indic2\",colormap='viridis', \\\n",
    "    title='Relation between naive estimation and actual production\\nloglog scale', \\\n",
    "    logx=True, logy=True,\n",
    "    figsize = (10,5))"
   ]
  },
  {
   "cell_type": "code",
   "execution_count": null,
   "metadata": {},
   "outputs": [],
   "source": [
    "batiments_calcules.forme.unique()"
   ]
  },
  {
   "cell_type": "code",
   "execution_count": null,
   "metadata": {},
   "outputs": [],
   "source": [
    "batiments_calcules.groupby('forme')"
   ]
  },
  {
   "cell_type": "code",
   "execution_count": null,
   "metadata": {},
   "outputs": [],
   "source": [
    "import matplotlib.pyplot as plt\n",
    "import numpy as np\n",
    "import pandas as pd\n",
    "\n",
    "\n",
    "groups = batiments_calcules.groupby('forme')\n",
    "\n",
    "# Plot\n",
    "fig, ax = plt.subplots()\n",
    "ax.margins(0.05) # Optional, just adds 5% padding to the autoscaling\n",
    "for name, group in groups:\n",
    "    if name == \"plat\":\n",
    "        pass\n",
    "    else:\n",
    "        ax.plot(group.production, group.ratio_surface, marker='o', linestyle='', label=name)\n",
    "ax.legend()\n",
    "plt.title(\"Revue des ratios surfaceutile / surfacetotale en fonction des types de toits\\n\")\n",
    "plt.show()"
   ]
  },
  {
   "cell_type": "code",
   "execution_count": null,
   "metadata": {},
   "outputs": [],
   "source": [
    "groups = batiments_calcules.groupby('forme')\n",
    "\n",
    "# Plot\n",
    "fig, ax = plt.subplots()\n",
    "ax.margins(0.05) # Optional, just adds 5% padding to the autoscaling\n",
    "for name, group in groups:\n",
    "    if name == \"plat\":\n",
    "        ax.plot(group.production, group.ratio_surface, marker='o', linestyle='', label=name)\n",
    "ax.legend()\n",
    "plt.title(\"Revue des ratios surfaceutile / surfacetotale pour les toits plats\\n\")\n",
    "plt.show()"
   ]
  },
  {
   "cell_type": "markdown",
   "metadata": {},
   "source": [
    "# Ajout de la layer potentiel solaire "
   ]
  },
  {
   "cell_type": "markdown",
   "metadata": {},
   "source": [
    "PV_Sol_Polygon.gpkg\n",
    "* Couche: PV_Sol avec 2016422 éléments.\n",
    "* Couche: layer_styles avec 1 éléments."
   ]
  },
  {
   "cell_type": "code",
   "execution_count": 17,
   "metadata": {},
   "outputs": [],
   "source": [
    "mask_stdenis = stdenis.to_crs(2154)"
   ]
  },
  {
   "cell_type": "code",
   "execution_count": 18,
   "metadata": {},
   "outputs": [],
   "source": [
    "src = DATA_FOLDER / \"ENR_1-0_POT-SOL-SOL_GPKG_LAMB93_FXX_2024-04-01/1_DONNEES_LIVRAISON/PV_Sol_Polygon.gpkg\"\n",
    "layers = fiona.listlayers(src)\n"
   ]
  },
  {
   "cell_type": "code",
   "execution_count": null,
   "metadata": {},
   "outputs": [],
   "source": [
    "enrpot = gpd.read_file(src, layer=\"PV_Sol\", mask = mask_stdenis)\n",
    "enrpot"
   ]
  },
  {
   "cell_type": "markdown",
   "metadata": {},
   "source": [
    "# Representing the area for StDenis"
   ]
  },
  {
   "cell_type": "code",
   "execution_count": null,
   "metadata": {},
   "outputs": [],
   "source": [
    "enrpot.clip(mask_stdenis).plot()"
   ]
  }
 ],
 "metadata": {
  "kernelspec": {
   "display_name": ".venv",
   "language": "python",
   "name": "python3"
  },
  "language_info": {
   "codemirror_mode": {
    "name": "ipython",
    "version": 3
   },
   "file_extension": ".py",
   "mimetype": "text/x-python",
   "name": "python",
   "nbconvert_exporter": "python",
   "pygments_lexer": "ipython3",
   "version": "3.11.0"
  }
 },
 "nbformat": 4,
 "nbformat_minor": 2
}
