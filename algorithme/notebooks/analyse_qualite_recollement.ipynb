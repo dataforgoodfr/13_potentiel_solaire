{
 "cells": [
  {
   "cell_type": "code",
   "execution_count": 1,
   "id": "f1f565b7",
   "metadata": {},
   "outputs": [],
   "source": [
    "import numpy as np\n",
    "%load_ext autoreload\n",
    "%autoreload 2"
   ]
  },
  {
   "cell_type": "code",
   "execution_count": 2,
   "id": "6358f4912f9f22ab",
   "metadata": {},
   "outputs": [],
   "source": [
    "code_departement = \"093\"\n",
    "compare_with_idf = True"
   ]
  },
  {
   "cell_type": "markdown",
   "id": "d3a70f3e57e62a7c",
   "metadata": {},
   "source": [
    "# Imports & setup"
   ]
  },
  {
   "cell_type": "code",
   "execution_count": 3,
   "id": "aa88b759c982f54c",
   "metadata": {},
   "outputs": [],
   "source": [
    "import logging\n",
    "\n",
    "import geopandas as gpd\n",
    "import matplotlib.pyplot as plt\n",
    "\n",
    "from potentiel_solaire.constants import DATA_FOLDER, CRS\n",
    "from potentiel_solaire.sources.bd_topo import extract_bd_topo, get_topo_buildings_of_interest\n",
    "#from potentiel_solaire.aggregate import aggregate_solar_potential_by\n",
    "\n",
    "logging.getLogger().setLevel(\"WARNING\")"
   ]
  },
  {
   "cell_type": "code",
   "execution_count": 4,
   "id": "ea92c07884e98d3c",
   "metadata": {},
   "outputs": [],
   "source": [
    "path_results = DATA_FOLDER / f\"{code_departement}_pipeline_results.gpkg\""
   ]
  },
  {
   "cell_type": "markdown",
   "id": "654fe1ff3c8d5ccb",
   "metadata": {},
   "source": [
    "# Recupération des resultats intermédiaires"
   ]
  },
  {
   "cell_type": "markdown",
   "id": "8141e3850bdde72d",
   "metadata": {},
   "source": [
    "### Etablissements scolaires\n"
   ]
  },
  {
   "cell_type": "code",
   "execution_count": 5,
   "id": "8c2714f479cce131",
   "metadata": {},
   "outputs": [
    {
     "name": "stdout",
     "output_type": "stream",
     "text": [
      "Nb d'établissements scolaires: 1130\n"
     ]
    }
   ],
   "source": [
    "schools_establishments = gpd.read_file(path_results, layer=\"schools_establishments\")\n",
    "nb_schools = schools_establishments.shape[0]\n",
    "print(f\"Nb d'établissements scolaires: {nb_schools}\")"
   ]
  },
  {
   "cell_type": "markdown",
   "id": "ed36d1f4a8ff139d",
   "metadata": {},
   "source": [
    "### Zones d'éducations"
   ]
  },
  {
   "cell_type": "code",
   "execution_count": 6,
   "id": "62c98433be3c4844",
   "metadata": {},
   "outputs": [
    {
     "name": "stdout",
     "output_type": "stream",
     "text": [
      "Nb de zones d'éducations:  1088\n"
     ]
    }
   ],
   "source": [
    "educational_zones = gpd.read_file(path_results, layer=\"educational_zones\")\n",
    "nb_educational_zones = educational_zones.shape[0]\n",
    "print(\"Nb de zones d'éducations: \", nb_educational_zones)"
   ]
  },
  {
   "cell_type": "markdown",
   "id": "f6da9025d2ac027",
   "metadata": {},
   "source": [
    "### Bâtiments"
   ]
  },
  {
   "cell_type": "code",
   "execution_count": 7,
   "id": "20cb307a0e616424",
   "metadata": {},
   "outputs": [
    {
     "name": "stderr",
     "output_type": "stream",
     "text": [
      "/home/kelu/projets/13_potentiel_solaire/.venv/lib/python3.10/site-packages/pyogrio/core.py:279: RuntimeWarning: Field format 'character varying' not supported\n",
      "  return ogr_read_info(\n",
      "/home/kelu/projets/13_potentiel_solaire/.venv/lib/python3.10/site-packages/pyogrio/core.py:279: RuntimeWarning: Field format 'character varying(256)' not supported\n",
      "  return ogr_read_info(\n",
      "/home/kelu/projets/13_potentiel_solaire/.venv/lib/python3.10/site-packages/pyogrio/core.py:279: RuntimeWarning: Field format 'character varying(30)' not supported\n",
      "  return ogr_read_info(\n",
      "/home/kelu/projets/13_potentiel_solaire/.venv/lib/python3.10/site-packages/pyogrio/core.py:279: RuntimeWarning: Field format 'timestamp with time zone' not supported\n",
      "  return ogr_read_info(\n",
      "/home/kelu/projets/13_potentiel_solaire/.venv/lib/python3.10/site-packages/geopandas/io/file.py:497: UserWarning: More than one layer found in 'BDT_3-4_GPKG_LAMB93_D093-ED2024-12-15.gpkg': 'troncon_de_route' (default), 'route_numerotee_ou_nommee', 'itineraire_autre', 'troncon_de_voie_ferree', 'equipement_de_transport', 'piste_d_aerodrome', 'aerodrome', 'point_de_repere', 'non_communication', 'point_du_reseau', 'voie_ferree_nommee', 'toponymie_transport', 'batiment', 'cimetiere', 'construction_lineaire', 'construction_ponctuelle', 'construction_surfacique', 'reservoir', 'ligne_orographique', 'pylone', 'terrain_de_sport', 'toponymie_bati', 'cours_d_eau', 'troncon_hydrographique', 'bassin_versant_topographique', 'plan_d_eau', 'surface_hydrographique', 'noeud_hydrographique', 'detail_hydrographique', 'toponymie_hydrographie', 'zone_d_habitation', 'lieu_dit_non_habite', 'detail_orographique', 'toponymie_lieux_nommes', 'canalisation', 'ligne_electrique', 'poste_de_transformation', 'erp', 'zone_d_activite_ou_d_interet', 'toponymie_services_et_activites', 'voie_nommee', 'parc_ou_reserve', 'foret_publique', 'toponymie_zones_reglementees', 'haie', 'zone_de_vegetation', 'arrondissement', 'arrondissement_municipal', 'commune', 'epci', 'collectivite_territoriale', 'departement', 'region', 'adresse_ban', 'batiment_rnb_lien_bdtopo', 'lien_adresse_vers_bdtopo', 'section_de_points_de_repere', 'info_metadonnees', 'metadonnees_lot', 'metadonnees_theme', 'layer_styles'. Specify layer parameter to avoid this warning.\n",
      "  crs = pyogrio.read_info(path_or_bytes).get(\"crs\")\n"
     ]
    }
   ],
   "source": [
    "bd_topo_path = extract_bd_topo(code_departement=code_departement)\n",
    "codes_commune = schools_establishments[\"code_commune\"].unique()\n",
    "communes = gpd.read_file(bd_topo_path, layer=\"commune\").to_crs(CRS)\n",
    "communes = communes[communes.code_insee.isin(codes_commune)]\n",
    "geom_of_interest = communes.dissolve()[[\"geometry\"]]\n",
    "buildings = get_topo_buildings_of_interest(\n",
    "    bd_topo_path=bd_topo_path,\n",
    "    geom_of_interest=geom_of_interest,\n",
    "    crs=CRS\n",
    ")"
   ]
  },
  {
   "cell_type": "markdown",
   "id": "129b67af5c421e52",
   "metadata": {},
   "source": [
    "### Rattachement des bâtiments scolaires"
   ]
  },
  {
   "cell_type": "code",
   "execution_count": 8,
   "id": "f164fcc395a85eeb",
   "metadata": {},
   "outputs": [
    {
     "name": "stdout",
     "output_type": "stream",
     "text": [
      "Nb de batiments rattachés à des écoles: 7151\n"
     ]
    }
   ],
   "source": [
    "schools_buildings = gpd.read_file(path_results, layer=\"schools_buildings\")\n",
    "nb_schools_buildings = schools_buildings.shape[0]\n",
    "print(f\"Nb de batiments rattachés à des écoles: {nb_schools_buildings}\")\n",
    "# v0: Nb de batiments rattachés à des écoles: 3731"
   ]
  },
  {
   "cell_type": "markdown",
   "id": "25094a9970938a7d",
   "metadata": {},
   "source": [
    "### Calcul du potentiel solaire"
   ]
  },
  {
   "cell_type": "code",
   "execution_count": 9,
   "id": "c0cf2ab1980a4b17",
   "metadata": {},
   "outputs": [],
   "source": [
    "solar_potential_of_schools_buildings = gpd.read_file(path_results, layer=\"solar_potential_of_schools_buildings\")"
   ]
  },
  {
   "cell_type": "markdown",
   "id": "f86931e8173026c2",
   "metadata": {},
   "source": [
    "# Checks sur la qualité des données & calculs"
   ]
  },
  {
   "cell_type": "code",
   "execution_count": null,
   "id": "4831c36e49f035e6",
   "metadata": {},
   "outputs": [
    {
     "name": "stdout",
     "output_type": "stream",
     "text": [
      "Nb d'établissements scolaires avec des batiments: 1103 (98%)\n"
     ]
    }
   ],
   "source": [
    "nb_schools_with_buildings = len(schools_buildings.identifiant_de_l_etablissement.unique())\n",
    "print(\"Nb d'établissements scolaires avec des batiments: {} ({}%)\".format(\n",
    "    nb_schools_with_buildings,\n",
    "    round(100 * nb_schools_with_buildings / nb_schools)\n",
    "))\n",
    "# V0: Nb d'établissements scolaires avec des batiments: 445 (39%)\n",
    "# ID MinEducation : Nb d'établissements scolaires avec des batiments: 1103 (98%)"
   ]
  },
  {
   "cell_type": "code",
   "execution_count": null,
   "id": "6da39b16aa4a566c",
   "metadata": {},
   "outputs": [
    {
     "name": "stdout",
     "output_type": "stream",
     "text": [
      "Nb d'établissements scolaires sans batiment: 27 (2%)\n"
     ]
    }
   ],
   "source": [
    "missing_schools_establishments = schools_establishments.merge(\n",
    "    schools_buildings.drop_duplicates(subset=[\"identifiant_de_l_etablissement\"])[[\"identifiant_de_l_etablissement\", \"cleabs_zone\"]],\n",
    "    on=\"identifiant_de_l_etablissement\",\n",
    "    how=\"left\"\n",
    ")\n",
    "missing_schools_establishments = missing_schools_establishments[missing_schools_establishments[\"cleabs_zone\"].isna()]\n",
    "nb_missing_schools_establishments = missing_schools_establishments.shape[0]\n",
    "print(\"Nb d'établissements scolaires sans batiment: {} ({}%)\".format(\n",
    "    nb_missing_schools_establishments,\n",
    "    round(100 * nb_missing_schools_establishments / nb_schools)\n",
    "))\n",
    "\n",
    "# V0: Nb d'établissements scolaires sans batiment: 685 (61%)\n",
    "# ID MinEducation :  Nb d'établissements scolaires sans batiment: 27 (2%)"
   ]
  },
  {
   "cell_type": "code",
   "execution_count": null,
   "id": "6b0e892c837347a1",
   "metadata": {},
   "outputs": [
    {
     "name": "stdout",
     "output_type": "stream",
     "text": [
      "Nb de zones d'educations non rattachées à un établissement scolaire: 147 (14%)\n"
     ]
    }
   ],
   "source": [
    "missing_educational_zones = educational_zones.merge(\n",
    "    schools_buildings.drop_duplicates(subset=[\"cleabs_zone\"])[[\"cleabs_zone\"]],\n",
    "    left_on=\"cleabs\",\n",
    "    right_on=\"cleabs_zone\",\n",
    "    how=\"left\"\n",
    ")\n",
    "missing_educational_zones = missing_educational_zones[missing_educational_zones[\"cleabs_zone\"].isna()]\n",
    "missing_educational_zones.drop(columns=[\"cleabs_zone\"], inplace=True)\n",
    "\n",
    "nb_missing_educational_zones = len(missing_educational_zones.cleabs.unique())\n",
    "print(\"Nb de zones d'educations non rattachées à un établissement scolaire: {} ({}%)\".format(\n",
    "    nb_missing_educational_zones,\n",
    "    round(100 * nb_missing_educational_zones / nb_educational_zones)\n",
    "))\n",
    "\n",
    "#V0: Nb de zones d'educations non rattachées à un établissement scolaire: 643 (59%)\n",
    "# ID MinEducation Nb de zones d'educations non rattachées à un établissement scolaire: 147 (14%)"
   ]
  },
  {
   "cell_type": "code",
   "execution_count": null,
   "id": "51e55dd9e546c30c",
   "metadata": {},
   "outputs": [
    {
     "name": "stdout",
     "output_type": "stream",
     "text": [
      "Nb de batiments sur des zones non rattachées: 581\n"
     ]
    }
   ],
   "source": [
    "missing_buildings = gpd.sjoin(\n",
    "        buildings,\n",
    "        missing_educational_zones,\n",
    "        how='inner',\n",
    "        predicate='intersects',\n",
    "        lsuffix='bat',\n",
    "        rsuffix='zone'\n",
    "    )\n",
    "nb_missing_buildings = missing_buildings.shape[0]\n",
    "print(f\"Nb de batiments sur des zones non rattachées: {nb_missing_buildings}\")\n",
    "\n",
    "# v0: Nb de batiments sur des zones non rattachées: 2451\n",
    "# ID MinEducation: 581"
   ]
  },
  {
   "cell_type": "code",
   "execution_count": null,
   "id": "a4669ef660f33d68",
   "metadata": {},
   "outputs": [
    {
     "name": "stdout",
     "output_type": "stream",
     "text": [
      "3,725,023 m² de surface au sol pour tous les batiments scolaires, dont 373,259 m² (10%) ne sont pas dans une zone d'education\n"
     ]
    }
   ],
   "source": [
    "school_buildings_only_in_educational_zones = gpd.overlay(\n",
    "    solar_potential_of_schools_buildings,\n",
    "    educational_zones[[\"geometry\"]],\n",
    "    how=\"intersection\",\n",
    ").to_crs(epsg=6933)\n",
    "\n",
    "total_floor_area = solar_potential_of_schools_buildings[\"surface_totale_au_sol\"].sum()\n",
    "total_floor_area_only_in_educational_zones = school_buildings_only_in_educational_zones.area.sum()\n",
    "area_not_in_educational_zones = total_floor_area - total_floor_area_only_in_educational_zones\n",
    "print(f\"{total_floor_area:,.0f} m² de surface au sol pour tous les batiments scolaires, dont {area_not_in_educational_zones:,.0f} m² ({100*area_not_in_educational_zones/total_floor_area:.0f}%) ne sont pas dans une zone d'education\")\n",
    "#V0: 1,671,571 m² de surface au sol pour tous les batiments scolaires, dont 198,644 m² (12%) ne sont pas dans une zone d'education\n",
    "# ID MinEducation 3,725,023 m² de surface au sol pour tous les batiments scolaires, dont 373,259 m² (10%) ne sont pas dans une zone d'education"
   ]
  }
 ],
 "metadata": {
  "kernelspec": {
   "display_name": ".venv",
   "language": "python",
   "name": "python3"
  },
  "language_info": {
   "codemirror_mode": {
    "name": "ipython",
    "version": 3
   },
   "file_extension": ".py",
   "mimetype": "text/x-python",
   "name": "python",
   "nbconvert_exporter": "python",
   "pygments_lexer": "ipython3",
   "version": "3.10.12"
  }
 },
 "nbformat": 4,
 "nbformat_minor": 5
}
