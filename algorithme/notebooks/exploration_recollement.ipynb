{
 "cells": [
  {
   "cell_type": "code",
   "execution_count": null,
   "id": "f1f565b7",
   "metadata": {},
   "outputs": [],
   "source": [
    "%load_ext autoreload\n",
    "%autoreload 2"
   ]
  },
  {
   "cell_type": "code",
   "execution_count": null,
   "id": "d91e84ad",
   "metadata": {},
   "outputs": [],
   "source": [
    "import geopandas as gpd\n",
    "from pathlib import Path\n",
    "import fiona \n",
    "import numpy as np\n",
    "import pandas as pd\n",
    "import logging\n",
    "# Plotting\n",
    "import matplotlib.pyplot as plt\n",
    "# Pour la basemap\n",
    "import contextily as cx\n",
    "# Potentiel solaire package"
   ]
  },
  {
   "cell_type": "code",
   "execution_count": null,
   "id": "116ed959",
   "metadata": {},
   "outputs": [],
   "source": [
    "\n",
    "from potentiel_solaire.attach_buildings_to_schools import attach_buildings_to_schools\n",
    "from potentiel_solaire.constants import DATA_FOLDER\n",
    "from potentiel_solaire.constants import CRS, ALGORITHME_FOLDER, DATA_FOLDER\n",
    "from potentiel_solaire.sources.bd_topo import extract_bd_topo, get_topo_zones_of_interest, \\\n",
    "    get_topo_buildings_of_interest\n",
    "from potentiel_solaire.sources.bd_pci import extract_bd_pci\n",
    "from potentiel_solaire.sources.bd_solar_irradiation import extract_bd_irradiation\n",
    "from potentiel_solaire.sources.schools_establishments import extract_schools_establishments, \\\n",
    "    get_schools_establishments_of_interest\n",
    "from potentiel_solaire.features.solar_potential import calculate_solar_potential\n",
    "from potentiel_solaire.aggregate import aggregate_solar_potential_by\n",
    "from potentiel_solaire.logger import get_logger\n",
    "\n",
    "logger = get_logger() \n",
    "logger.setLevel(logging.ERROR)"
   ]
  },
  {
   "cell_type": "code",
   "execution_count": null,
   "id": "6358f4912f9f22ab",
   "metadata": {},
   "outputs": [],
   "source": [
    "code_departement = \"093\"\n",
    "compare_with_idf = True"
   ]
  },
  {
   "cell_type": "markdown",
   "id": "d3a70f3e57e62a7c",
   "metadata": {},
   "source": [
    "# Imports & setup"
   ]
  },
  {
   "cell_type": "code",
   "execution_count": null,
   "id": "8e500f10",
   "metadata": {},
   "outputs": [],
   "source": [
    "dpts = gpd.read_file(DATA_FOLDER / \"contour-des-departements.geojson\").to_crs(4326)\n",
    "ShapeNT = dpts[dpts.code == \"93\"].geometry\n",
    "fig, ax = plt.subplots()\n",
    "dpts[dpts.code == \"93\"].plot(column=\"nom\",legend=True, categorical = True, ax = ax, color=\"green\",alpha=0.5)\n",
    "cx.add_basemap(ax, crs=dpts.crs)\n",
    "fig.show()"
   ]
  },
  {
   "cell_type": "code",
   "execution_count": null,
   "id": "e3593636",
   "metadata": {},
   "outputs": [],
   "source": [
    "# get data and get paths\n",
    "schools_establishments_path = extract_schools_establishments()\n",
    "bd_topo_path = extract_bd_topo(code_departement=code_departement)\n",
    "bd_pci_path = extract_bd_pci(code_departement=code_departement)"
   ]
  },
  {
   "cell_type": "code",
   "execution_count": null,
   "id": "7a72c31c",
   "metadata": {},
   "outputs": [],
   "source": [
    "schools_establishments = get_schools_establishments_of_interest(\n",
    "    schools_filepath=schools_establishments_path,\n",
    "    code_departement=code_departement,\n",
    "    types_etablissements=['Ecole', 'Lycée', 'Collège'],\n",
    "    statut_public_prive=\"Public\",\n",
    "    etat=\"OUVERT\",\n",
    "    crs=CRS\n",
    ")\n",
    "nb_schools = schools_establishments.shape[0]\n",
    "print(f\"Nb d'établissements scolaires: {nb_schools}\")\n"
   ]
  },
  {
   "cell_type": "code",
   "execution_count": null,
   "id": "cd7c157d",
   "metadata": {},
   "outputs": [],
   "source": [
    "educational_zones = get_topo_zones_of_interest(\n",
    "    bd_topo_path=bd_topo_path,\n",
    "    geom_of_interest=ShapeNT,\n",
    "    categories=[\"Science et enseignement\"],\n",
    "    natures=['Collège', 'Lycée', 'Enseignement primaire'],\n",
    "    crs=CRS\n",
    ")\n",
    "nb_educational_zones = educational_zones.shape[0]\n",
    "print(\"Nb de zones d'éducations: \", nb_educational_zones)"
   ]
  },
  {
   "cell_type": "code",
   "execution_count": null,
   "id": "8c862e0f",
   "metadata": {},
   "outputs": [],
   "source": [
    "# Preparation 'educational_zones'\n",
    "educational_zones = educational_zones.dropna(subset=[\"identifiants_sources\"])\n",
    "educational_zones[\"identifiants_sources\"] = educational_zones[\"identifiants_sources\"].apply(lambda x: [y.strip() for y in str(x).replace(\"MEN:\",\"\").split(\"/\")])\n",
    "educational_zones = educational_zones.explode('identifiants_sources')\n",
    "\n",
    "# Recollement\n",
    "educational_zones_attached_to_schools = pd.merge(\n",
    "    educational_zones,\n",
    "    schools_establishments[[\"identifiant_de_l_etablissement\",\"nom_etablissement\"]],\n",
    "    left_on='identifiants_sources', right_on='identifiant_de_l_etablissement',\n",
    "    how=\"inner\"\n",
    ")\n",
    "\n",
    "educational_zones_attached_to_schools = educational_zones_attached_to_schools.dropna(subset=[\"cleabs\",\"identifiants_sources\"])"
   ]
  },
  {
   "cell_type": "code",
   "execution_count": null,
   "id": "12d16a55",
   "metadata": {},
   "outputs": [],
   "source": [
    "schools_establishments = schools_establishments.dropna(subset=[\"identifiant_de_l_etablissement\"])\n",
    "schools_establishments"
   ]
  }
 ],
 "metadata": {
  "kernelspec": {
   "display_name": ".venv",
   "language": "python",
   "name": "python3"
  },
  "language_info": {
   "codemirror_mode": {
    "name": "ipython",
    "version": 3
   },
   "file_extension": ".py",
   "mimetype": "text/x-python",
   "name": "python",
   "nbconvert_exporter": "python",
   "pygments_lexer": "ipython3",
   "version": "3.11.0"
  }
 },
 "nbformat": 4,
 "nbformat_minor": 5
}
