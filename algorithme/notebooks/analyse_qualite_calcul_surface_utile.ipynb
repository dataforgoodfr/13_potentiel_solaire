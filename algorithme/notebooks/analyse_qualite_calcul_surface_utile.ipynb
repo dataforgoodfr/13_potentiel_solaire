{
 "cells": [
  {
   "cell_type": "markdown",
   "id": "89624ed5",
   "metadata": {},
   "source": [
    "## Imports"
   ]
  },
  {
   "cell_type": "code",
   "execution_count": null,
   "id": "4b3317c5",
   "metadata": {},
   "outputs": [],
   "source": [
    "import pandas as pd\n",
    "import geopandas as gpd\n",
    "import matplotlib.pyplot as plt\n",
    "\n",
    "from sklearn.linear_model import LinearRegression\n",
    "\n",
    "from potentiel_solaire.constants import RESULTS_FOLDER"
   ]
  },
  {
   "cell_type": "markdown",
   "id": "b98ce3a8",
   "metadata": {},
   "source": [
    "## Récupération des résultats des deux methodes"
   ]
  },
  {
   "cell_type": "code",
   "execution_count": null,
   "id": "56fca115",
   "metadata": {},
   "outputs": [],
   "source": [
    "results_with_simplified_method = gpd.read_file(RESULTS_FOLDER / \"priotirized_schools_buildings.gpkg\", layer=\"results_with_simplified_method\")\n",
    "roof_segments_with_mns = pd.read_csv(RESULTS_FOLDER / \"roof_segments_with_mns.csv\").rename(columns={\"surface\": \"roof_surface\"})\n",
    "\n",
    "# Calculate flat roof surface\n",
    "roof_segments_with_mns[\"flat_roof_surface\"] = roof_segments_with_mns[\"roof_surface\"].where(\n",
    "    roof_segments_with_mns[\"slope_bin_min\"] == 0, 0\n",
    ")\n",
    "\n",
    "# Calculate total roof surface area for each building using the segmented roofs\n",
    "results_with_segmented_roofs = roof_segments_with_mns.groupby(by=\"cleabs_bat\").agg(\n",
    "    roof_surface=(\"roof_surface\", \"sum\"),\n",
    "    flat_roof_surface=(\"flat_roof_surface\", \"sum\"),\n",
    ").reset_index()\n",
    "\n",
    "# Merge the results from both methods at building level\n",
    "results_comparison_buildings = pd.merge(\n",
    "    results_with_simplified_method[[\"identifiant_de_l_etablissement\", \"cleabs_bat\", \"surface_totale_au_sol\", \"surface_utile\"]],\n",
    "    results_with_segmented_roofs[[\"cleabs_bat\", \"roof_surface\", \"flat_roof_surface\"]],\n",
    "    on=\"cleabs_bat\",\n",
    ")\n",
    "\n",
    "# Merge the results at school level\n",
    "results_comparison_schools = results_comparison_buildings.groupby(\"identifiant_de_l_etablissement\").agg(\n",
    "    surface_totale_au_sol=(\"surface_totale_au_sol\", \"sum\"),\n",
    "    surface_utile=(\"surface_utile\", \"sum\"),\n",
    "    roof_surface=(\"roof_surface\", \"sum\"),\n",
    "    flat_roof_surface=(\"flat_roof_surface\", \"sum\"),\n",
    ").reset_index()"
   ]
  },
  {
   "cell_type": "markdown",
   "id": "a268426c",
   "metadata": {},
   "source": [
    "## Comparaisons des résultats"
   ]
  },
  {
   "cell_type": "code",
   "execution_count": null,
   "id": "43451718",
   "metadata": {},
   "outputs": [],
   "source": [
    "def plot_scatter(\n",
    "    x: pd.Series,\n",
    "    y: pd.Series,\n",
    "    title: str, \n",
    "    xlabel: str,\n",
    "    ylabel: str,\n",
    "    xlim: tuple = None,\n",
    "    ylim: tuple = None,\n",
    "    idetity_line: bool = True\n",
    "):\n",
    "    \"\"\"Plot the results of two series against each other.\n",
    "    \n",
    "    Args:\n",
    "        x (pd.Series): The x-axis data.\n",
    "        y (pd.Series): The y-axis data.\n",
    "        title (str): The title of the plot.\n",
    "        xlabel (str): The label for the x-axis.\n",
    "        ylabel (str): The label for the y-axis.\n",
    "        xlim (tuple, optional): The limits for the x-axis. Defaults to None.\n",
    "        ylim (tuple, optional): The limits for the y-axis. Defaults to None.\n",
    "    \"\"\"\n",
    "    plt.rcParams['figure.figsize'] = [20, 10]\n",
    "\n",
    "    if idetity_line:\n",
    "        # plot identity line\n",
    "        identity_line = [0, x.max()]\n",
    "        plt.plot(identity_line, identity_line, \"r--\")\n",
    "\n",
    "    \n",
    "    # Compute and plot linear regression line\n",
    "    model = LinearRegression()\n",
    "    model.fit(x.values.reshape(-1, 1), y)\n",
    "    y_pred = model.predict(x.values.reshape(-1, 1))\n",
    "    plt.plot(x, y_pred, \"g--\")\n",
    "    \n",
    "    # Compute and display R^2 score and model parameters\n",
    "    r2 = model.score(x.values.reshape(-1, 1), y)\n",
    "    slope = model.coef_[0]\n",
    "    intercept = model.intercept_\n",
    "\n",
    "    # Display R², slope, and intercept on the plot\n",
    "    plt.text(\n",
    "        0.05, 0.95,\n",
    "        f\"R²: {r2:.3f}\\nSlope: {slope:.3f}\\nIntercept: {intercept:.3f}\",\n",
    "        transform=plt.gca().transAxes,\n",
    "        fontsize=14,\n",
    "        verticalalignment='top',\n",
    "        bbox=dict(boxstyle=\"round,pad=0.3\", facecolor=\"white\", alpha=0.7)\n",
    "    )\n",
    "    \n",
    "    # compare x and y\n",
    "    plt.scatter(x, y, alpha=0.8)\n",
    "\n",
    "    # Set the title and labels\n",
    "    plt.title(title)\n",
    "    plt.xlabel(xlabel)\n",
    "    plt.ylabel(ylabel)\n",
    "\n",
    "    #  Set the limits for x and y axes if provided\n",
    "    if xlim:\n",
    "        plt.xlim(xlim)\n",
    "    \n",
    "    if ylim:\n",
    "        plt.ylim(ylim)\n",
    "\n",
    "    # Show the plot \n",
    "    plt.show()"
   ]
  },
  {
   "cell_type": "markdown",
   "id": "427b2467",
   "metadata": {},
   "source": [
    "## La méthode simplifiée est-elle une bonne approximation de la surface des toits ?"
   ]
  },
  {
   "cell_type": "code",
   "execution_count": null,
   "id": "4dc716ec",
   "metadata": {},
   "outputs": [],
   "source": [
    "plot_scatter(\n",
    "    x=results_comparison_buildings[\"surface_utile\"],\n",
    "    y=results_comparison_buildings[\"roof_surface\"],\n",
    "    title=\"Surface utile (methode simplifiée) vs surface des toits (segmentation via MNS)\",\n",
    "    xlabel=\"Surface utile (m²)\",\n",
    "    ylabel=\"Surface des toits (m²)\",\n",
    "    idetity_line=True,\n",
    ")"
   ]
  },
  {
   "cell_type": "code",
   "execution_count": null,
   "id": "6ce19e14",
   "metadata": {},
   "outputs": [],
   "source": [
    "results_comparison_buildings[\"euclidean_distance\"] = abs(results_comparison_buildings[\"surface_utile\"] - results_comparison_buildings[\"roof_surface\"])\n",
    "results_comparison_buildings[\"euclidean_distance\"].describe()"
   ]
  },
  {
   "cell_type": "markdown",
   "id": "9c15ba8e",
   "metadata": {},
   "source": [
    "## La surface au sol du batiment est-elle un facteur determinant pour le calcul de la surface des toits ?"
   ]
  },
  {
   "cell_type": "code",
   "execution_count": null,
   "id": "342a2664",
   "metadata": {},
   "outputs": [],
   "source": [
    "plot_scatter(\n",
    "    x=results_comparison_buildings[\"surface_totale_au_sol\"],\n",
    "    y=results_comparison_buildings[\"roof_surface\"],\n",
    "    title=\"Surface au sol vs surface des toits (segmentation via MNS)\",\n",
    "    xlabel=\"Surface au sol (m²)\",\n",
    "    ylabel=\"Surface des toits (m²)\",\n",
    ")"
   ]
  },
  {
   "cell_type": "markdown",
   "id": "01703c9f",
   "metadata": {},
   "source": [
    "## L'hypothèse des toits plats est-elle pertinente ?"
   ]
  },
  {
   "cell_type": "code",
   "execution_count": null,
   "id": "3e6a12a9",
   "metadata": {},
   "outputs": [],
   "source": [
    "total_flat_surface = roof_segments_with_mns[\"flat_roof_surface\"].sum()\n",
    "total_roof_surface = roof_segments_with_mns[\"roof_surface\"].sum()\n",
    "ratio_flat_roof = total_flat_surface / total_roof_surface\n",
    "\n",
    "print(f\"Surface des toits plats: {total_flat_surface} m²\")\n",
    "print(f\"Surface totale des toits: {total_roof_surface} m²\")\n",
    "print(f\"Ratio des toits plats: {ratio_flat_roof:.2%}\")\n",
    "\n",
    "roof_segments_with_mns[\"slope_bin_label\"] = roof_segments_with_mns[\"slope_bin_min\"].astype(str) + \"-\" + roof_segments_with_mns[\"slope_bin_max\"].astype(str)\n",
    "h = roof_segments_with_mns.groupby(by=[\"slope_bin_min\", \"slope_bin_label\"])[\"roof_surface\"].sum().reset_index().sort_values(by=\"slope_bin_min\")\n",
    "\n",
    "plt.rcParams['figure.figsize'] = [20, 10]\n",
    "plt.bar(h[\"slope_bin_label\"], h[\"roof_surface\"])\n",
    "plt.title(\"Surface des toits par pente\")\n",
    "plt.xlabel(\"Pente des toits (°)\")\n",
    "plt.ylabel(\"Surface des toits (m²)\")\n",
    "plt.xticks(rotation=45)\n",
    "\n",
    "plt.show()"
   ]
  },
  {
   "cell_type": "code",
   "execution_count": null,
   "id": "effaf960",
   "metadata": {},
   "outputs": [],
   "source": [
    "roof_segments_by_departement = roof_segments_with_mns.groupby(by=\"code_departement\").agg(\n",
    "    roof_surface=(\"roof_surface\", \"sum\"),\n",
    "    flat_roof_surface=(\"flat_roof_surface\", \"sum\"),\n",
    ").reset_index()\n",
    "\n",
    "roof_segments_by_departement[\"flat_roof_surface_ratio\"] = roof_segments_by_departement[\"flat_roof_surface\"] / roof_segments_by_departement[\"roof_surface\"]\n",
    "\n",
    "plt.rcParams['figure.figsize'] = [20, 10]\n",
    "roof_segments_by_departement.plot(\n",
    "    x=\"code_departement\",\n",
    "    y=\"flat_roof_surface_ratio\",\n",
    "    kind=\"bar\",\n",
    "    title=\"Ratio des toits plats par département\",\n",
    "    xlabel=\"Code département\",\n",
    "    ylabel=\"Ratio des toits plats\",\n",
    ")\n",
    "\n",
    "# Add mean line\n",
    "plt.axhline(ratio_flat_roof, color='red', linestyle='--', label='Moyenne')\n",
    "plt.legend()\n",
    "plt.show()"
   ]
  },
  {
   "cell_type": "code",
   "execution_count": null,
   "id": "6e0d86c3",
   "metadata": {},
   "outputs": [],
   "source": [
    "roof_segments_by_region = roof_segments_with_mns.groupby(by=\"code_region\").agg(\n",
    "    roof_surface=(\"roof_surface\", \"sum\"),\n",
    "    flat_roof_surface=(\"flat_roof_surface\", \"sum\"),\n",
    ").reset_index()\n",
    "\n",
    "roof_segments_by_region[\"flat_roof_surface_ratio\"] = roof_segments_by_region[\"flat_roof_surface\"] / roof_segments_by_region[\"roof_surface\"]\n",
    "plt.rcParams['figure.figsize'] = [20, 10]\n",
    "roof_segments_by_region.plot(\n",
    "    x=\"code_region\",\n",
    "    y=\"flat_roof_surface_ratio\",\n",
    "    kind=\"bar\",\n",
    "    title=\"Ratio des toits plats par région\",\n",
    "    xlabel=\"Code région\",\n",
    "    ylabel=\"Ratio des toits plats\",\n",
    ")\n",
    "\n",
    "# Add mean line\n",
    "plt.axhline(ratio_flat_roof, color='red', linestyle='--', label\n",
    "='Moyenne')\n",
    "plt.legend()\n",
    "plt.show()"
   ]
  },
  {
   "cell_type": "markdown",
   "id": "aa3a36e7",
   "metadata": {},
   "source": [
    "## Est-ce que la surface au sol est un facteur determinant de la surface plane ?"
   ]
  },
  {
   "cell_type": "code",
   "execution_count": null,
   "id": "00acd893",
   "metadata": {},
   "outputs": [],
   "source": [
    "plot_scatter(\n",
    "    x=results_comparison_buildings[\"surface_totale_au_sol\"],\n",
    "    y=results_comparison_buildings[\"flat_roof_surface\"],\n",
    "    title=\"\",\n",
    "    xlabel=\"Surface au sol (m²)\",\n",
    "    ylabel=\"Surface plane des toits (m²)\",\n",
    ")"
   ]
  },
  {
   "cell_type": "markdown",
   "id": "ffb09133",
   "metadata": {},
   "source": [
    "## Relation surface au sol / surface plane à la maille d'un établissement"
   ]
  },
  {
   "cell_type": "code",
   "execution_count": null,
   "id": "ad8bf7af",
   "metadata": {},
   "outputs": [],
   "source": [
    "plot_scatter(\n",
    "    x=results_comparison_schools[\"surface_totale_au_sol\"],\n",
    "    y=results_comparison_schools[\"flat_roof_surface\"],\n",
    "    title=\"\",\n",
    "    xlabel=\"Surface au sol (m²)\",\n",
    "    ylabel=\"Surface plane des toits (m²)\",\n",
    ")"
   ]
  }
 ],
 "metadata": {
  "kernelspec": {
   "display_name": "potentiel-solaire-py3.11",
   "language": "python",
   "name": "python3"
  },
  "language_info": {
   "codemirror_mode": {
    "name": "ipython",
    "version": 3
   },
   "file_extension": ".py",
   "mimetype": "text/x-python",
   "name": "python",
   "nbconvert_exporter": "python",
   "pygments_lexer": "ipython3",
   "version": "3.11.9"
  }
 },
 "nbformat": 4,
 "nbformat_minor": 5
}
