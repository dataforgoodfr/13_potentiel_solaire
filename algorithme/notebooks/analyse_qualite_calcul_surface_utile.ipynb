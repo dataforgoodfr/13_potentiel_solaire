{
 "cells": [
  {
   "cell_type": "markdown",
   "id": "89624ed5",
   "metadata": {},
   "source": [
    "## Imports"
   ]
  },
  {
   "cell_type": "code",
   "execution_count": null,
   "id": "4b3317c5",
   "metadata": {},
   "outputs": [],
   "source": [
    "import warnings\n",
    "\n",
    "import pandas as pd\n",
    "import geopandas as gpd\n",
    "import matplotlib.pyplot as plt\n",
    "\n",
    "from potentiel_solaire.database.queries import get_high_priority_schools\n",
    "from potentiel_solaire.features.roof_attributes import segmentation_toits, recuperation_mns\n",
    "\n",
    "from potentiel_solaire.constants import RESULTS_FOLDER\n",
    "\n",
    "warnings.filterwarnings(\"ignore\")"
   ]
  },
  {
   "cell_type": "markdown",
   "id": "f77e2f35",
   "metadata": {},
   "source": [
    "## Constants"
   ]
  },
  {
   "cell_type": "code",
   "execution_count": null,
   "id": "7f0d7d17",
   "metadata": {},
   "outputs": [],
   "source": [
    "DEFAULT_CRS_METERS = 2154"
   ]
  },
  {
   "cell_type": "markdown",
   "id": "c951884b",
   "metadata": {},
   "source": [
    "## Bâtiments des écoles prioritaires pour Greenpeace"
   ]
  },
  {
   "cell_type": "code",
   "execution_count": null,
   "id": "83fb6202",
   "metadata": {},
   "outputs": [],
   "source": [
    "priotirized_schools = get_high_priority_schools()\n",
    "\n",
    "priotirized_schools_buildings = []\n",
    "for code_departement in priotirized_schools[\"code_departement\"].unique():\n",
    "    # Read results for the current department\n",
    "    path_results = RESULTS_FOLDER / f\"D{code_departement}_pipeline_results.gpkg\"\n",
    "    schools_buildings_dep = gpd.read_file(\n",
    "        path_results, layer=\"solar_potential_of_schools_buildings\"\n",
    "    ).to_crs(DEFAULT_CRS_METERS)[[\n",
    "        \"cleabs_bat\", \n",
    "        \"identifiant_de_l_etablissement\", \n",
    "        \"surface_totale_au_sol\", \n",
    "        \"surface_utile\", \n",
    "        \"geometry\"\n",
    "    ]]\n",
    "\n",
    "    # Get priotirized schools for the current department\n",
    "    priotirized_schools_dep = priotirized_schools[priotirized_schools[\"code_departement\"] == code_departement]\n",
    "\n",
    "    # Filter priotirized schools buildings for the current department\n",
    "    priotirized_schools_buildings_dep = schools_buildings_dep.merge(\n",
    "        priotirized_schools_dep[[\"identifiant_de_l_etablissement\", \"code_region\", \"code_departement\"]],\n",
    "        on=\"identifiant_de_l_etablissement\",\n",
    "        how=\"inner\"\n",
    "    )\n",
    "\n",
    "    # Append to the list\n",
    "    priotirized_schools_buildings.append(priotirized_schools_buildings_dep)\n",
    "\n",
    "\n",
    "# Concatenate all departements geodataframes\n",
    "priotirized_schools_buildings = gpd.GeoDataFrame(\n",
    "    pd.concat(priotirized_schools_buildings, ignore_index=True), \n",
    "    crs=DEFAULT_CRS_METERS\n",
    ")\n",
    "\n",
    "nb_priotirized_schools = len(priotirized_schools_buildings[\"identifiant_de_l_etablissement\"].unique())\n",
    "nb_priotirized_schools_buildings = len(priotirized_schools_buildings)\n",
    "print(f\"Nombre d'établissements scolaires prioritaires : {nb_priotirized_schools}\")\n",
    "print(f\"Nombre de bâtiments d'établissements scolaires prioritaires : {nb_priotirized_schools_buildings}\")"
   ]
  },
  {
   "cell_type": "code",
   "execution_count": null,
   "id": "2f080733",
   "metadata": {},
   "outputs": [],
   "source": [
    "solar_potential_of_schools_buildings_sampled = priotirized_schools_buildings[priotirized_schools_buildings[\"code_departement\"] == \"063\"].reset_index(drop=True).copy()\n",
    "solar_potential_of_schools_buildings_sampled[\"index\"] = solar_potential_of_schools_buildings_sampled.index\n",
    "\n",
    "nb_buildings_sampled = len(solar_potential_of_schools_buildings_sampled)\n",
    "print(f\"Nombre de bâtiments d'établissements scolaires prioritaires échantillonnés : {nb_buildings_sampled}\")"
   ]
  },
  {
   "cell_type": "markdown",
   "id": "b98ce3a8",
   "metadata": {},
   "source": [
    "## Calculs en utilisant la segmentation des toits via les MNS"
   ]
  },
  {
   "cell_type": "code",
   "execution_count": null,
   "id": "43fc3e04",
   "metadata": {},
   "outputs": [],
   "source": [
    "def compute_roof_attributes_with_mns(building):\n",
    "    print(building[\"index\"], \"/\", nb_buildings_sampled)\n",
    "          \n",
    "    building = gpd.GeoDataFrame(\n",
    "        [building.values], \n",
    "        columns=solar_potential_of_schools_buildings_sampled.columns, \n",
    "        crs=DEFAULT_CRS_METERS\n",
    "    ).to_crs(2154)\n",
    "\n",
    "    result = segmentation_toits(recuperation_mns(building), min_surface=2)\n",
    "\n",
    "    surface_utile = result[\"surface\"].sum()\n",
    "\n",
    "    return pd.Series({\"mns_surface_utile\": surface_utile})\n",
    "\n",
    "solar_potential_of_schools_buildings_sampled[\"mns_surface_utile\"] = solar_potential_of_schools_buildings_sampled.apply(\n",
    "    compute_roof_attributes_with_mns,\n",
    "    axis=1,\n",
    ")"
   ]
  },
  {
   "cell_type": "markdown",
   "id": "a268426c",
   "metadata": {},
   "source": [
    "## Comparaison de la surface utile calculée par le MNS avec la notre"
   ]
  },
  {
   "cell_type": "code",
   "execution_count": null,
   "id": "4dc716ec",
   "metadata": {},
   "outputs": [],
   "source": [
    "plt.rcParams['figure.figsize'] = [20, 10]\n",
    "\n",
    "surface_au_sol = solar_potential_of_schools_buildings_sampled[\"surface_totale_au_sol\"]\n",
    "surface_utile = solar_potential_of_schools_buildings_sampled[\"surface_utile\"]\n",
    "surface_utile_mns = solar_potential_of_schools_buildings_sampled[\"mns_surface_utile\"]\n",
    "\n",
    "# plot identity line\n",
    "identity_line = [0, surface_utile.max()]\n",
    "plt.plot(identity_line, identity_line, \"r--\")\n",
    "\n",
    "\n",
    "# compare with results using MNS\n",
    "plt.scatter(\n",
    "    surface_utile,\n",
    "    surface_utile_mns,\n",
    "    color=\"green\",\n",
    "    alpha=0.8,\n",
    ")\n",
    "\n",
    "plt.xlabel(\"Surface utile (methode simplifiée)\")\n",
    "plt.ylabel(\"Surface utile (segmentation des toits avec MNS)\")\n",
    "plt.title(\"Methode simplifiée vs methode de segmentation des toits avec MNS\")\n",
    "\n",
    "plt.show()"
   ]
  },
  {
   "cell_type": "code",
   "execution_count": null,
   "id": "6ce19e14",
   "metadata": {},
   "outputs": [],
   "source": [
    "solar_potential_of_schools_buildings_sampled[\"euclidean_distance\"] = abs(solar_potential_of_schools_buildings_sampled[\"surface_utile\"] - solar_potential_of_schools_buildings_sampled[\"mns_surface_utile\"])\n",
    "solar_potential_of_schools_buildings_sampled[\"euclidean_distance\"].describe()"
   ]
  },
  {
   "cell_type": "markdown",
   "id": "9c15ba8e",
   "metadata": {},
   "source": [
    "## Verification si la surface au sol du batiment reste un facteur determinant"
   ]
  },
  {
   "cell_type": "code",
   "execution_count": null,
   "id": "342a2664",
   "metadata": {},
   "outputs": [],
   "source": [
    "plt.rcParams['figure.figsize'] = [20, 10]\n",
    "\n",
    "surface_au_sol = solar_potential_of_schools_buildings_sampled[\"surface_totale_au_sol\"]\n",
    "surface_utile = solar_potential_of_schools_buildings_sampled[\"surface_utile\"]\n",
    "surface_utile_mns = solar_potential_of_schools_buildings_sampled[\"mns_surface_utile\"]\n",
    "\n",
    "# plot max possible surface utile\n",
    "max_surface_utile = [0, surface_au_sol.max()]\n",
    "plt.plot(max_surface_utile, max_surface_utile, \"r--\")\n",
    "\n",
    "\n",
    "# results with simplified method\n",
    "plt.scatter(\n",
    "    surface_au_sol,\n",
    "    surface_utile,\n",
    "    color=\"blue\",\n",
    "    alpha=0.8,\n",
    ")\n",
    "\n",
    "\n",
    "# compare with results using MNS\n",
    "plt.scatter(\n",
    "    surface_au_sol,\n",
    "    surface_utile_mns,\n",
    "    color=\"green\",\n",
    "    alpha=0.8,\n",
    ")\n",
    "\n",
    "plt.xlabel(\"Surface totale au sol (m²)\")\n",
    "plt.ylabel(\"Surface utile (m²)\")\n",
    "plt.title(\"Methode simplifiée vs methode de segmentation des toits avec MNS\")\n",
    "\n",
    "plt.show()"
   ]
  }
 ],
 "metadata": {
  "kernelspec": {
   "display_name": ".venv",
   "language": "python",
   "name": "python3"
  },
  "language_info": {
   "codemirror_mode": {
    "name": "ipython",
    "version": 3
   },
   "file_extension": ".py",
   "mimetype": "text/x-python",
   "name": "python",
   "nbconvert_exporter": "python",
   "pygments_lexer": "ipython3",
   "version": "3.11.9"
  }
 },
 "nbformat": 4,
 "nbformat_minor": 5
}
