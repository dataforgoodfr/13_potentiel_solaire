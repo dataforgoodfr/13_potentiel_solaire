{
 "cells": [
  {
   "cell_type": "code",
   "execution_count": 5,
   "metadata": {},
   "outputs": [],
   "source": [
    "import geopandas as gpd\n",
    "from pathlib import Path\n",
    "import matplotlib.pyplot as plt\n",
    "import contextily as cx\n",
    "import fiona\n",
    "\n",
    "# Potentiel solaire package\n",
    "from potentiel_solaire.constants import DATA_FOLDER"
   ]
  },
  {
   "cell_type": "code",
   "execution_count": 6,
   "metadata": {},
   "outputs": [],
   "source": [
    "# Executer ci dessous ci besoin pour récupérer les données\n",
    "# !extract-sample-data\n",
    "# Et pour sauver une version markdown des notebooks, utiliser\n",
    "# jupyter nbconvert donnees_par_ecole.ipynb --to markdown --output-dir=exports/"
   ]
  },
  {
   "cell_type": "markdown",
   "metadata": {},
   "source": [
    "## BDTOPO"
   ]
  },
  {
   "cell_type": "markdown",
   "metadata": {},
   "source": [
    "### Extraction "
   ]
  },
  {
   "cell_type": "code",
   "execution_count": 7,
   "metadata": {},
   "outputs": [],
   "source": [
    "GPKG = DATA_FOLDER / \"BDTOPO_3-4_TOUSTHEMES_GPKG_LAMB93_D093_2024-12-15/BDTOPO/1_DONNEES_LIVRAISON_2024-12-00134/BDT_3-4_GPKG_LAMB93_D093-ED2024-12-15/BDT_3-4_GPKG_LAMB93_D093-ED2024-12-15.gpkg\"\n",
    "communes = gpd.read_file(GPKG, layer=\"commune\")\n",
    "\n",
    "# on crée la var qui nous servira de filtre sur les autres db\n",
    "saint_denis = communes[communes.code_insee == \"93066\"].to_crs(4326)"
   ]
  },
  {
   "cell_type": "code",
   "execution_count": null,
   "metadata": {},
   "outputs": [],
   "source": [
    "# Takes 50s on my laptop \n",
    "\n",
    "# 1. Bâtiments\n",
    "bats = gpd.read_file(GPKG, layer=\"batiment\", mask=saint_denis)\n",
    "bats = bats.to_crs(4326)\n",
    "#TODO: confirm use of intersect (instead of within) with Luc or else\n",
    "bats_st_denis = gpd.sjoin(bats, saint_denis, how='inner', predicate='intersects')\n",
    "\n",
    "# 2. Zones d'éducation\n",
    "bdedu = gpd.read_file(GPKG, layer=\"zone_d_activite_ou_d_interet\", mask=saint_denis)\n",
    "bdedu = bdedu.to_crs(4326)\n",
    "bdedu = bdedu[bdedu[\"categorie\"] == \"Science et enseignement\"]\n",
    "bdedu_st_denis = gpd.sjoin(bdedu, saint_denis, how='inner', predicate='intersects')"
   ]
  },
  {
   "cell_type": "markdown",
   "metadata": {},
   "source": [
    "### Visualisation"
   ]
  },
  {
   "cell_type": "code",
   "execution_count": null,
   "metadata": {},
   "outputs": [],
   "source": [
    "# 1. Plot des bâtiments\n",
    "fig1, ax1 = plt.subplots(figsize=(15, 15))\n",
    "saint_denis.plot(ax=ax1, facecolor='none', edgecolor='red', linewidth=2, alpha=0.5, label='Saint-Denis')\n",
    "bats_st_denis.plot(ax=ax1, color='blue', alpha=0.5, label='Bâtiments')\n",
    "cx.add_basemap(ax1, crs=bats_st_denis.crs, zoom=14)\n",
    "ax1.set_title(f\"Bâtiments à Saint-Denis\\n{len(bats_st_denis)} bâtiments\", pad=20)\n",
    "ax1.legend()\n",
    "plt.show()"
   ]
  },
  {
   "cell_type": "code",
   "execution_count": null,
   "metadata": {},
   "outputs": [],
   "source": [
    "# 2. Plot des zones d'éducation\n",
    "fig2, ax2 = plt.subplots(figsize=(15, 15))\n",
    "saint_denis.plot(ax=ax2, facecolor='none', edgecolor='red', linewidth=2, alpha=0.5, label='Saint-Denis')\n",
    "bdedu_st_denis.plot(ax=ax2, facecolor='blue', alpha=0.3, edgecolor='blue', linewidth=2, label='Zones éducatives')\n",
    "cx.add_basemap(ax2, crs=bdedu_st_denis.crs, zoom=14)\n",
    "ax2.set_title(f\"Zones d'éducation à Saint-Denis\\n{len(bdedu_st_denis)} zones\", pad=20)\n",
    "ax2.legend()\n",
    "plt.show()"
   ]
  },
  {
   "cell_type": "markdown",
   "metadata": {},
   "source": [
    "## Annuaire éducation"
   ]
  },
  {
   "cell_type": "markdown",
   "metadata": {},
   "source": [
    "### Extraction "
   ]
  },
  {
   "cell_type": "code",
   "execution_count": 12,
   "metadata": {},
   "outputs": [],
   "source": [
    "# Takes 12s on my laptop \n",
    "\n",
    "annuaire = gpd.read_file(DATA_FOLDER / 'fr-en-annuaire-education.geojson')\n",
    "annuaire = annuaire.to_crs(4326)\n",
    "annuaire_st_denis = gpd.sjoin(annuaire, saint_denis, how='inner', predicate='within')"
   ]
  },
  {
   "cell_type": "markdown",
   "metadata": {},
   "source": [
    "### Visualisation"
   ]
  },
  {
   "cell_type": "code",
   "execution_count": null,
   "metadata": {},
   "outputs": [],
   "source": [
    "fig, ax = plt.subplots(figsize=(15, 15))\n",
    "saint_denis.plot(ax=ax, facecolor='none', edgecolor='red', linewidth=2, alpha=0.5, label='Saint-Denis')\n",
    "annuaire_st_denis.plot(ax=ax, color='blue', markersize=100, label='Ecoles')\n",
    "\n",
    "cx.add_basemap(ax, crs=annuaire_st_denis.crs, zoom=14)\n",
    "ax.set_title(f\"Annuaire des Ecoles à Saint-Denis\\n{len(annuaire_st_denis)} écoles\", pad=20)\n",
    "ax.legend()\n",
    "plt.show()"
   ]
  },
  {
   "cell_type": "markdown",
   "metadata": {},
   "source": [
    "## Plan Cadastral Informatisé (PCI)"
   ]
  },
  {
   "cell_type": "markdown",
   "metadata": {},
   "source": [
    "### Extraction "
   ]
  },
  {
   "cell_type": "code",
   "execution_count": 14,
   "metadata": {},
   "outputs": [],
   "source": [
    "# Takes 10s on my laptop\n",
    "\n",
    "pci = gpd.read_file(DATA_FOLDER / \"PARCELLAIRE-EXPRESS_1-1__SHP_LAMB93_D093_2024-10-01/PARCELLAIRE-EXPRESS/1_DONNEES_LIVRAISON_2024-11-00210/PEPCI_1-1_SHP_LAMB93_D093/BATIMENT.SHP\", mask=saint_denis)\n",
    "\n",
    "pci = pci.to_crs(4326)\n",
    "pci_st_denis = gpd.sjoin(pci, saint_denis, how='inner', predicate='intersects')"
   ]
  },
  {
   "cell_type": "markdown",
   "metadata": {},
   "source": [
    "### Visualisation "
   ]
  },
  {
   "cell_type": "code",
   "execution_count": null,
   "metadata": {},
   "outputs": [],
   "source": [
    "fig, ax = plt.subplots(figsize=(15, 15))\n",
    "saint_denis.plot(ax=ax, facecolor='none', edgecolor='red', linewidth=2, alpha=0.5, label='Saint-Denis')\n",
    "pci_st_denis.plot(ax=ax, color='blue', label='Ecoles')\n",
    "\n",
    "cx.add_basemap(ax, crs=pci_st_denis.crs, zoom=14)\n",
    "ax.set_title(f\"PCI Saint Denis\\n{len(pci_st_denis)}\", pad=20)\n",
    "ax.legend()\n",
    "plt.show()"
   ]
  },
  {
   "cell_type": "markdown",
   "metadata": {},
   "source": [
    "## Visualisation des écoles selon la bd topo vs selon l'annuaire "
   ]
  },
  {
   "cell_type": "code",
   "execution_count": null,
   "metadata": {},
   "outputs": [],
   "source": [
    "\n",
    "fig, ax = plt.subplots(figsize=(15, 15))\n",
    "\n",
    "# 1. la limite de Saint-Denis (en fond)\n",
    "saint_denis.plot(\n",
    "    ax=ax, \n",
    "    facecolor='none', \n",
    "    edgecolor='red', \n",
    "    linewidth=2, \n",
    "    alpha=0.5, \n",
    "    label='Saint-Denis'\n",
    ")\n",
    "\n",
    "# 2. les zones d'éducation de la BD TOPO (en dessous)\n",
    "bdedu_st_denis.plot(\n",
    "    ax=ax, \n",
    "    facecolor='lightblue', \n",
    "    alpha=0.3, \n",
    "    edgecolor='blue', \n",
    "    linewidth=2, \n",
    "    label='Zones éducatives (BD TOPO)'\n",
    ")\n",
    "\n",
    "# 3. les points de l'annuaire (au-dessus)\n",
    "annuaire_st_denis.plot(\n",
    "    ax=ax,\n",
    "    color='red',\n",
    "    markersize=100,\n",
    "    label='Écoles (Annuaire)'\n",
    ")\n",
    "\n",
    "cx.add_basemap(ax, crs=bdedu_st_denis.crs, zoom=14)\n",
    "ax.set_title(f\"Zones éducatives et écoles à Saint-Denis\\n\"\n",
    "             f\"{len(bdedu_st_denis)} zones, {len(annuaire_st_denis)} écoles\", \n",
    "             pad=20)\n",
    "ax.legend()\n",
    "\n",
    "plt.show()\n"
   ]
  },
  {
   "cell_type": "markdown",
   "metadata": {},
   "source": [
    "## Ajout du Potentiel gisement Solaire brut au bati"
   ]
  },
  {
   "cell_type": "code",
   "execution_count": null,
   "metadata": {},
   "outputs": [],
   "source": [
    "GPKG = DATA_FOLDER / \"potentiel-gisement-solaire-brut-au-bati.gpkg\"\n",
    "gsbab = gpd.read_file(GPKG, mask=saint_denis)\n",
    "gsbab.head()"
   ]
  },
  {
   "cell_type": "code",
   "execution_count": 18,
   "metadata": {},
   "outputs": [],
   "source": [
    "gsbab = gpd.sjoin(gsbab, saint_denis, how='inner', predicate='intersects')"
   ]
  },
  {
   "cell_type": "code",
   "execution_count": null,
   "metadata": {},
   "outputs": [],
   "source": [
    "\n",
    "fig, ax = plt.subplots(figsize=(15, 15))\n",
    "\n",
    "# 1. la limite de Saint-Denis (en fond)\n",
    "saint_denis.plot(\n",
    "    ax=ax, \n",
    "    facecolor='none', \n",
    "    edgecolor='red', \n",
    "    linewidth=2, \n",
    "    alpha=0.5, \n",
    "    label='Saint-Denis'\n",
    ")\n",
    "\n",
    "# 2. le potentiel brut au bati\n",
    "gsbab.plot(\n",
    "    ax=ax, \n",
    "    facecolor='yellow', \n",
    "    alpha=0.9, \n",
    "    edgecolor='orange', \n",
    "    linewidth=2, \n",
    "    label='Potentiel Solaire Brut au bati'\n",
    ")\n",
    "\n",
    "# 3. les points de l'annuaire (au-dessus)\n",
    "annuaire_st_denis.plot(\n",
    "    ax=ax,\n",
    "    color='green',\n",
    "    markersize=100,\n",
    "    label='Écoles (Annuaire)'\n",
    ")\n",
    "\n",
    "cx.add_basemap(ax, crs=bdedu_st_denis.crs, zoom=14)\n",
    "ax.set_title(f\"Zones éducatives et écoles à Saint-Denis\\n\"\n",
    "             f\"{len(bdedu_st_denis)} zones, {len(annuaire_st_denis)} écoles\", \n",
    "             pad=20)\n",
    "ax.legend()\n",
    "\n",
    "plt.show()\n"
   ]
  },
  {
   "cell_type": "markdown",
   "metadata": {},
   "source": [
    "## Utilisation de l'autre base de données - Potentiel solaire des toitures\n",
    "\n",
    "Provenant de https://data-iau-idf.opendata.arcgis.com/datasets/iau-idf::le-potentiel-solaire-des-toitures/explore?location=48.947152%2C2.406292%2C12.00"
   ]
  },
  {
   "cell_type": "code",
   "execution_count": null,
   "metadata": {},
   "outputs": [],
   "source": [
    "GPKG = DATA_FOLDER / \"potentiel-solaire.geojson\"\n",
    "gspsdt_total = gpd.read_file(GPKG, mask=saint_denis)\n",
    "print(len(gspsdt_total))\n",
    "gspsdt_total=  gspsdt_total.to_crs(4326)\n",
    "gspsdt_total.head()"
   ]
  },
  {
   "cell_type": "code",
   "execution_count": null,
   "metadata": {},
   "outputs": [],
   "source": [
    "gspsdt_total"
   ]
  },
  {
   "cell_type": "code",
   "execution_count": null,
   "metadata": {},
   "outputs": [],
   "source": [
    "gspsdt = gspsdt_total[gspsdt_total.insee == 93066]\n",
    "gspsdt = gpd.sjoin(gspsdt_total, saint_denis, how='inner', predicate='intersects')\n",
    "\n",
    "gspsdt.head(3)"
   ]
  },
  {
   "cell_type": "code",
   "execution_count": null,
   "metadata": {},
   "outputs": [],
   "source": [
    "gspsdt_total.plot()"
   ]
  },
  {
   "cell_type": "code",
   "execution_count": null,
   "metadata": {},
   "outputs": [],
   "source": [
    "saint_denis.plot()"
   ]
  },
  {
   "cell_type": "code",
   "execution_count": null,
   "metadata": {},
   "outputs": [],
   "source": [
    "\n",
    "fig, ax = plt.subplots(figsize=(15, 15))\n",
    "\n",
    "# 1. la limite de Saint-Denis (en fond)\n",
    "saint_denis.plot(\n",
    "    ax=ax, \n",
    "    facecolor='none', \n",
    "    edgecolor='red', \n",
    "    linewidth=2, \n",
    "    alpha=0.5, \n",
    "    label='Saint-Denis'\n",
    ")\n",
    "\n",
    "# 2. Potentiel Solaire des toitures\n",
    "gspsdt.plot(\n",
    "    ax=ax, \n",
    "    facecolor='yellow', \n",
    "    alpha=0.9, \n",
    "    edgecolor='orange', \n",
    "    linewidth=2, \n",
    "    label='Potentiel Solaire des toitures'\n",
    ")\n",
    "\n",
    "# 3. les points de l'annuaire (au-dessus)\n",
    "annuaire_st_denis.plot(\n",
    "    ax=ax,\n",
    "    color='green',\n",
    "    markersize=100,\n",
    "    label='Écoles (Annuaire)'\n",
    ")\n",
    "\n",
    "cx.add_basemap(ax, crs=saint_denis.crs, zoom=14)\n",
    "ax.set_title(f\"Potentiel scolaire et écoles à Saint-Denis\\n\"\n",
    "             f\"{len(gspsdt)} zones, {len(annuaire_st_denis)} écoles\", \n",
    "             pad=20)\n",
    "ax.legend()\n",
    "\n",
    "plt.show()\n"
   ]
  },
  {
   "cell_type": "markdown",
   "metadata": {},
   "source": [
    "## Nettoyer le dataset "
   ]
  },
  {
   "cell_type": "markdown",
   "metadata": {},
   "source": [
    "### Retirer les écoles de l'annuaire qui 'trop loin' des zones d'éducation"
   ]
  },
  {
   "cell_type": "code",
   "execution_count": null,
   "metadata": {},
   "outputs": [],
   "source": [
    "ecoles_avec_zone = gpd.sjoin_nearest(\n",
    "    annuaire_st_denis,\n",
    "    bdedu_st_denis,\n",
    "    how='inner',\n",
    "    lsuffix='_annuaire',\n",
    "    rsuffix='_zone',\n",
    "    distance_col=\"distances\",\n",
    "    exclusive=True\n",
    ")\n",
    "print(len(ecoles_avec_zone))"
   ]
  },
  {
   "cell_type": "code",
   "execution_count": null,
   "metadata": {},
   "outputs": [],
   "source": [
    "seuil_recol = ecoles_avec_zone.distances.quantile(q=0.7)\n",
    "print(seuil_recol)\n",
    "ecoles_avec_zone.distances.hist(bins=50,figsize=(15,5))"
   ]
  },
  {
   "cell_type": "code",
   "execution_count": null,
   "metadata": {},
   "outputs": [],
   "source": [
    "seuil_de_match = 0.0002 # cf histogramme ci dessus.\n",
    "ecoles_sans_zone = ecoles_avec_zone[ecoles_avec_zone.distances >= seuil_de_match ]\n",
    "ecoles_avec_zone = ecoles_avec_zone[ecoles_avec_zone.distances < seuil_de_match ]\n",
    "ecoles_avec_zone[\"UID\"] = ecoles_avec_zone.identifiant_de_l_etablissement\n",
    "print(len(ecoles_sans_zone),len(ecoles_avec_zone))\n",
    "ecoles_avec_zone.head()"
   ]
  },
  {
   "cell_type": "code",
   "execution_count": null,
   "metadata": {},
   "outputs": [],
   "source": [
    "identifiers = gpd.GeoDataFrame(ecoles_avec_zone[[\"identifiant_de_l_etablissement\",\"nom_etablissement\",\"cleabs_left\",\"adresse_1\",\"code_postal_left\",\"geometry\"]].reset_index(drop=True), geometry=\"geometry\")\n",
    "identifiers[\"UID\"] = identifiers.identifiant_de_l_etablissement\n",
    "identifiers.head(3)"
   ]
  },
  {
   "cell_type": "markdown",
   "metadata": {},
   "source": [
    "## Retirer les zones éducatives de la bd topo qui ne sont pas dans l'annuaire"
   ]
  },
  {
   "cell_type": "code",
   "execution_count": 40,
   "metadata": {},
   "outputs": [],
   "source": [
    "def checkUID(gdf):\n",
    "    assert \"UID\" in list(gdf.columns)\n",
    "\n",
    "    "
   ]
  },
  {
   "cell_type": "code",
   "execution_count": 41,
   "metadata": {},
   "outputs": [],
   "source": [
    "# On utilise cleabs_left qui est la colonne d'identifiant dans bdedu_st_denis\n",
    "zones_avec_ecole = bdedu_st_denis[bdedu_st_denis.cleabs_left.isin(ecoles_avec_zone['cleabs_left'])]"
   ]
  },
  {
   "cell_type": "markdown",
   "metadata": {},
   "source": [
    "### Filtrer les bâtiments de la bd topo qui sont dans une zone éducative"
   ]
  },
  {
   "cell_type": "code",
   "execution_count": null,
   "metadata": {},
   "outputs": [],
   "source": [
    "batiments_ecoles = gpd.sjoin(\n",
    "    bats_st_denis,\n",
    "    zones_avec_ecole,\n",
    "    how='inner',\n",
    "    predicate='intersects',\n",
    "    lsuffix='_bat',\n",
    "    rsuffix='_zone'\n",
    ")\n",
    "batiments_ecoles.head(2)\n",
    "\n",
    "#checkUID(batiments_ecoles)"
   ]
  },
  {
   "cell_type": "markdown",
   "metadata": {},
   "source": [
    "### Filtrer les batiments du plan cadastral qui sont dans une zone éducative"
   ]
  },
  {
   "cell_type": "code",
   "execution_count": null,
   "metadata": {},
   "outputs": [],
   "source": [
    "cadastre_ecoles = gpd.sjoin(\n",
    "    pci_st_denis,\n",
    "    zones_avec_ecole,\n",
    "    how='inner',\n",
    "    predicate='intersects',\n",
    "    lsuffix='_cadastre',\n",
    "    rsuffix='_zone'\n",
    ")\n",
    "cadastre_ecoles.head(2)"
   ]
  },
  {
   "cell_type": "markdown",
   "metadata": {},
   "source": [
    "### Filtrer les batiments avec potentiel solaire au bati qui sont dans une zone éducative"
   ]
  },
  {
   "cell_type": "code",
   "execution_count": null,
   "metadata": {},
   "outputs": [],
   "source": [
    "gspsdt_ecoles = gpd.sjoin(\n",
    "    gspsdt,\n",
    "    zones_avec_ecole,\n",
    "    how='inner',\n",
    "    predicate='intersects',\n",
    "    lsuffix='_gspsdt',\n",
    "    rsuffix='_zone'\n",
    ")\n",
    "gspsdt_ecoles.head(2)"
   ]
  },
  {
   "cell_type": "markdown",
   "metadata": {},
   "source": [
    "### Filtrer les batiments avec potentiel solaire au bati qui sont dans une zone éducative"
   ]
  },
  {
   "cell_type": "code",
   "execution_count": null,
   "metadata": {},
   "outputs": [],
   "source": [
    "gsbab_ecoles = gpd.sjoin(\n",
    "    gsbab,\n",
    "    zones_avec_ecole,\n",
    "    how='inner',\n",
    "    predicate='intersects',\n",
    "    lsuffix='_gsbab',\n",
    "    rsuffix='_zone'\n",
    ")\n",
    "gsbab_ecoles.head(2)"
   ]
  },
  {
   "cell_type": "code",
   "execution_count": null,
   "metadata": {},
   "outputs": [],
   "source": [
    "print(\"\\n=== Statistiques avant/après nettoyage ===\")\n",
    "print(f\"Annuaire: {len(annuaire_st_denis)} -> {len(ecoles_avec_zone)}\")\n",
    "print(f\"Zones éducatives: {len(bdedu_st_denis)} -> {len(zones_avec_ecole)}\")\n",
    "print(f\"Bâtiments: {len(bats_st_denis)} -> {len(batiments_ecoles)}\")\n",
    "print(f\"Cadastre: {len(pci_st_denis)} -> {len(cadastre_ecoles)}\")\n",
    "print(f\"Bâtiments avec potentiel scolaire au bati: {len(gsbab)} -> {len(gsbab_ecoles)}\")\n",
    "print(f\"Bâtiments avec potentiel scolaire des toitures: {len(gspsdt_total)}(total 93) -> {len(gspsdt)} -> {len(gspsdt_ecoles)}\")"
   ]
  },
  {
   "cell_type": "markdown",
   "metadata": {},
   "source": [
    "## Geopackage final"
   ]
  },
  {
   "cell_type": "markdown",
   "metadata": {},
   "source": [
    "### Sauvegarder en Geopackage\n"
   ]
  },
  {
   "cell_type": "code",
   "execution_count": 47,
   "metadata": {},
   "outputs": [],
   "source": [
    "output_gpkg = DATA_FOLDER / \"saint_denis_reference_data.gpkg\"\n",
    "\n",
    "# Ecoles d'apres l'annuaire\n",
    "ecoles_avec_zone.to_file(output_gpkg, layer='annuaire_education', driver=\"GPKG\")\n",
    "ecoles_sans_zone.to_file(output_gpkg, layer='annuaire_education_sans_zone', driver=\"GPKG\")\n",
    "# Données geographiques écoles\n",
    "zones_avec_ecole.to_file(output_gpkg, layer='bdtopo_education', driver=\"GPKG\")\n",
    "batiments_ecoles.to_file(output_gpkg, layer='bdtopo_batiment', driver=\"GPKG\")\n",
    "cadastre_ecoles.to_file(output_gpkg, layer='cadastre_parcellaire', driver=\"GPKG\")\n",
    "gsbab_ecoles.to_file(output_gpkg, layer='potentielsolaire_bati', driver=\"GPKG\")\n",
    "gspsdt_ecoles.to_file(output_gpkg, layer='potentielsolaire_toitures', driver=\"GPKG\")\n",
    "saint_denis.to_file(output_gpkg, layer='perimetre_st_denis', driver=\"GPKG\")\n",
    "# Rajout des identifiants\n",
    "identifiers.to_file(output_gpkg, layer='identifiers', driver=\"GPKG\")"
   ]
  },
  {
   "cell_type": "markdown",
   "metadata": {},
   "source": [
    "## Visualiser le geopackage créé "
   ]
  },
  {
   "cell_type": "markdown",
   "metadata": {},
   "source": [
    "### Verification des layers"
   ]
  },
  {
   "cell_type": "code",
   "execution_count": null,
   "metadata": {},
   "outputs": [],
   "source": [
    "layers = fiona.listlayers(output_gpkg)\n",
    "\n",
    "for layer in layers:\n",
    "    gdf = gpd.read_file(output_gpkg, layer=layer)\n",
    "    print(f\"\\n=== Couche: {layer} ===\")\n",
    "    print(f\"Nombre d'objets: {len(gdf)}\")\n",
    "    print(f\"Colonnes disponibles: {gdf.columns.tolist()}\")\n",
    "    print(f\"Type de géométrie: {gdf.geometry.geom_type.unique()}\")\n",
    "    print(f\"CRS: {gdf.crs}\") # bien vérifier que tout est en EPSG:4326 / WGS84"
   ]
  },
  {
   "cell_type": "markdown",
   "metadata": {},
   "source": [
    "### Verification visuelle"
   ]
  },
  {
   "cell_type": "code",
   "execution_count": null,
   "metadata": {},
   "outputs": [],
   "source": [
    "\n",
    "fig, ax = plt.subplots(figsize=(15, 15))\n",
    "\n",
    "saint_denis.plot(\n",
    "    ax=ax, \n",
    "    facecolor='none', \n",
    "    edgecolor='red', \n",
    "    linewidth=2, \n",
    "    alpha=0.5, \n",
    "    label='Saint-Denis'\n",
    ")\n",
    "\n",
    "# les zones d'éducation de la BD TOPO\n",
    "batiments_ecoles.plot(\n",
    "    ax=ax, \n",
    "    facecolor='lightblue', \n",
    "    alpha=0.3, \n",
    "    edgecolor='blue', \n",
    "    linewidth=2, \n",
    "    label='Zones éducatives (BD TOPO)'\n",
    ")\n",
    "\n",
    "# les zones d'éducation de la BD TOPO\n",
    "cadastre_ecoles.plot(\n",
    "    ax=ax, \n",
    "    facecolor='green', \n",
    "    alpha=0.3, \n",
    "    edgecolor='green', \n",
    "    linewidth=2, \n",
    "    label='Batiments d écoles cf cadastre(BD TOPO)'\n",
    ")\n",
    "\n",
    "\n",
    "# les zones d'éducation de la BD TOPO\n",
    "batiments_ecoles.plot(\n",
    "    ax=ax, \n",
    "    facecolor='lightblue', \n",
    "    alpha=0.3, \n",
    "    edgecolor='blue', \n",
    "    linewidth=2, \n",
    "    label='Zones éducatives (BD TOPO)'\n",
    ")\n",
    "\n",
    "gspsdt_ecoles.plot(\n",
    "    ax=ax, \n",
    "    facecolor='orange', \n",
    "    alpha=0.3, \n",
    "    edgecolor='orange', \n",
    "    linewidth=2, \n",
    "    label='Potentiel Solaire des Toitures'\n",
    ")\n",
    "\n",
    "gsbab_ecoles.plot(\n",
    "    ax=ax, \n",
    "    facecolor='yellow', \n",
    "    alpha=0.3, \n",
    "    edgecolor='orange', \n",
    "    linewidth=2, \n",
    "    label='Potentiel Solaire au bati'\n",
    ")\n",
    "\n",
    "# les points de l'annuaire avec zone\n",
    "ecoles_avec_zone.plot(\n",
    "    ax=ax,\n",
    "    color='green',\n",
    "    markersize=100,\n",
    "    label='Écoles avec zone (Annuaire)'\n",
    ")\n",
    "\n",
    "# les points de l'annuaire sans zone\n",
    "ecoles_sans_zone.plot(\n",
    "    ax=ax,\n",
    "    color='red',\n",
    "    markersize=100,\n",
    "    label='Écoles sans zone (Annuaire)'\n",
    ")\n",
    "\n",
    "cx.add_basemap(ax, crs=batiments_ecoles.crs, zoom=14)\n",
    "ax.set_title(f\"Zones éducatives et écoles à Saint-Denis\\n\"\n",
    "             f\"{len(batiments_ecoles)} batiments dans {len(zones_avec_ecole)} zones, \\n{len(ecoles_avec_zone)} écoles avec zone\\net {len(ecoles_sans_zone)} écoles sans zone\", \n",
    "             pad=20)\n",
    "ax.legend()\n",
    "\n",
    "plt.show()\n"
   ]
  }
 ],
 "metadata": {
  "kernelspec": {
   "display_name": ".venv",
   "language": "python",
   "name": "python3"
  },
  "language_info": {
   "codemirror_mode": {
    "name": "ipython",
    "version": 3
   },
   "file_extension": ".py",
   "mimetype": "text/x-python",
   "name": "python",
   "nbconvert_exporter": "python",
   "pygments_lexer": "ipython3",
   "version": "3.11.0"
  }
 },
 "nbformat": 4,
 "nbformat_minor": 2
}
