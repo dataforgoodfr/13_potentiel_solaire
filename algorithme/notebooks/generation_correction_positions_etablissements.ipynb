{
 "cells": [
  {
   "cell_type": "code",
   "execution_count": null,
   "id": "2bbeddec",
   "metadata": {},
   "outputs": [],
   "source": [
    "import glob\n",
    "import asyncio\n",
    "\n",
    "import pandas as pd\n",
    "import geopandas as gpd\n",
    "import numpy as np\n",
    "import matplotlib.pyplot as plt\n",
    "import aiohttp\n",
    "\n",
    "from shapely import Point\n",
    "from tqdm.asyncio import tqdm\n",
    "\n",
    "from potentiel_solaire.constants import DATA_FOLDER, RESULTS_FOLDER, CRS_FOR_BUFFERS, DATABASE_FOLDER\n",
    "from potentiel_solaire.database.queries import get_connection"
   ]
  },
  {
   "cell_type": "markdown",
   "id": "6bf28c1e",
   "metadata": {},
   "source": [
    "### Constants"
   ]
  },
  {
   "cell_type": "code",
   "execution_count": null,
   "id": "73eebb60",
   "metadata": {},
   "outputs": [],
   "source": [
    "OUTPUT_INITIAL_POSITIONS_PATH = DATABASE_FOLDER / \"correction_adresses\" / \"positions_initiales_etablissements.geojson\"\n",
    "OUTPUT_CORRECTIONS_PATH = DATABASE_FOLDER / \"correction_adresses\" / \"positions_corrigees_etablissements.geojson\""
   ]
  },
  {
   "cell_type": "markdown",
   "id": "ee0e4a77",
   "metadata": {},
   "source": [
    "### Fonctions utiles"
   ]
  },
  {
   "cell_type": "code",
   "execution_count": null,
   "id": "dd0f49b3",
   "metadata": {},
   "outputs": [],
   "source": [
    "def cree_adresse(df: pd.DataFrame, cols: list[str] = None) -> pd.Series:\n",
    "    \"\"\"\n",
    "    Construit une adresse complète à partir des colonnes spécifiées d'un DataFrame.\n",
    "\n",
    "    Args:\n",
    "        df (pd.DataFrame): Le DataFrame contenant les colonnes d'adresse.\n",
    "        cols (list[str], optional): Liste des noms de colonnes à utiliser pour l'adresse.\n",
    "            Par défaut [\"adresse_1\", \"code_postal\", \"nom_commune\"].\n",
    "\n",
    "    Returns:\n",
    "        pd.Series: Série contenant les adresses concaténées.\n",
    "    \"\"\"\n",
    "    if cols is None:\n",
    "        cols = [\"adresse_1\", \"code_postal\", \"nom_commune\"]\n",
    "    return df[cols].fillna(\" \").apply(lambda x: ' '.join(x.values), axis=1)\n",
    "\n",
    "\n",
    "async def geocode_adresse(\n",
    "    adresse: str, \n",
    "    initial_attrs: dict,\n",
    "    session: aiohttp.ClientSession, \n",
    "    pbar: tqdm\n",
    ") -> dict:\n",
    "    \"\"\"\n",
    "    Géocode une adresse en utilisant l'API IGN (data.geopf.fr).\n",
    "\n",
    "    Args:\n",
    "        adresse (str): L'adresse à géocoder, typiquement obtenue via cree_adresse().\n",
    "        initial_attrs (dict): Dictionnaire contenant les attributs initiaux de l'établissement,\n",
    "        session (aiohttp.ClientSession): La session HTTP asynchrone à utiliser pour la requête.\n",
    "        pbar (tqdm): La barre de progression à mettre à jour après chaque géocodage.\n",
    "\n",
    "    Returns:\n",
    "        dict : Dictionnaire contenant les attributs initiaux et la géométrie (Point) si trouvée.\n",
    "    \"\"\"\n",
    "    async with session.get(url=\"https://data.geopf.fr/geocodage/search\",\n",
    "                            params={\"q\": adresse}) as response:\n",
    "        \n",
    "        results = initial_attrs\n",
    "        \n",
    "        if response.status == 200:\n",
    "            js = await response.json()\n",
    "            \n",
    "            features = js.get('features', [])\n",
    "            if not features:\n",
    "                return results\n",
    "            \n",
    "            coordinates = features[0].get('geometry', {}).get('coordinates', None)\n",
    "            if not coordinates:\n",
    "                return results\n",
    "            \n",
    "            results[\"geometry\"] = Point(coordinates)\n",
    "            pbar.update(1)\n",
    "\n",
    "            return results\n",
    "\n",
    "        if response.status == 429:\n",
    "            await asyncio.sleep(0.04)\n",
    "            return await geocode_adresse(\n",
    "                adresse=adresse,\n",
    "                initial_attrs=initial_attrs,\n",
    "                session=session, \n",
    "                pbar=pbar\n",
    "            )\n",
    "\n",
    "        if response.status in [504, 529]:\n",
    "            await asyncio.sleep(5)\n",
    "            return await geocode_adresse(\n",
    "                adresse=adresse,\n",
    "                initial_attrs=initial_attrs,\n",
    "                session=session, \n",
    "                pbar=pbar\n",
    "            )\n",
    "\n",
    "        print(f\"Erreur {response.status} pour l'adresse {adresse}\")\n",
    "        return results\n",
    "\n",
    "\n",
    "def calcul_dist(gdf: gpd.GeoDataFrame, col1: str, col2: str, crs: str = CRS_FOR_BUFFERS) -> pd.Series:\n",
    "    \"\"\"\n",
    "    Calcule la distance entre deux colonnes de géométrie dans un DataFrame.\n",
    "\n",
    "    Args:\n",
    "        gdf (gpd.GeoDataFrame): Le GeoDataFrame contenant les colonnes de géométrie.\n",
    "        col1 (str): Nom de la première colonne.\n",
    "        col2 (str): Nom de la seconde colonne.\n",
    "        crs (str, optional): Système de référence de coordonnées cible (projetées)\n",
    "                             Par défaut EPSG:6933 (utilisée par le projet).\n",
    "\n",
    "    Returns:\n",
    "        pd.Series: Série contenant les distances calculées.\n",
    "    \"\"\"\n",
    "    return gpd.GeoSeries(gdf[col1], crs=gdf.crs).to_crs(crs)\\\n",
    "        .distance(gpd.GeoSeries(gdf[col2], crs=gdf.crs).to_crs(crs))"
   ]
  },
  {
   "cell_type": "markdown",
   "id": "de1e278d",
   "metadata": {},
   "source": [
    "### Recuperation des etablissements au format des .geojson"
   ]
  },
  {
   "cell_type": "code",
   "execution_count": null,
   "id": "89341ad2",
   "metadata": {},
   "outputs": [],
   "source": [
    "output_path = f\"{DATA_FOLDER}/etablissements.geojson\"\n",
    "\n",
    "with get_connection() as conn:\n",
    "    export_query = f\"\"\"\n",
    "        COPY (\n",
    "        SELECT \n",
    "            identifiant_de_l_etablissement,\n",
    "            nom_etablissement,\n",
    "            code_commune,\n",
    "            code_departement,\n",
    "            code_region,\n",
    "            adresse_1,\n",
    "            code_postal,\n",
    "            nom_commune,\n",
    "            reussite_rattachement,\n",
    "            identifiant_topo_zone_rattachee,\n",
    "            geom,\n",
    "        FROM\n",
    "            etablissements\n",
    "        ) TO '{output_path}' WITH (FORMAT GDAL, DRIVER 'GeoJSON', LAYER_NAME 'Etablissements')\n",
    "    \"\"\"\n",
    "\n",
    "    conn.query(export_query)\n",
    "\n",
    "# Lecture du fichier GeoJSON\n",
    "etablissements = gpd.read_file(output_path)\n",
    "\n",
    "# Ajout d'une colonne pour l'adresse complète\n",
    "etablissements[\"adresse_complete\"] = cree_adresse(etablissements)\n",
    "\n",
    "etablissements.head()"
   ]
  },
  {
   "cell_type": "markdown",
   "id": "1e09cd9c",
   "metadata": {},
   "source": [
    "### Recuperation des zones d'education\n",
    "\n",
    "Il faut executer en amont les commandes suivantes : \n",
    "```bash\n",
    "poetry run extract-data -a\n",
    "poetry run algorithme attach-buildings-to-schools -a\n",
    "```"
   ]
  },
  {
   "cell_type": "code",
   "execution_count": null,
   "id": "0786f754",
   "metadata": {},
   "outputs": [],
   "source": [
    "files = glob.glob(f\"{RESULTS_FOLDER}/D*.gpkg\")\n",
    "gdfs = [gpd.read_file(f, layer=\"educational_zones\") for f in files]\n",
    "educational_zones = gpd.GeoDataFrame(pd.concat(gdfs, ignore_index=True), crs=gdfs[0].crs)\n",
    "educational_zones[\"zone_geometry\"] = educational_zones.geometry\n",
    "\n",
    "educational_zones.head()"
   ]
  },
  {
   "cell_type": "markdown",
   "id": "f1990267",
   "metadata": {},
   "source": [
    "### Calcul de la distance entre la position de l'etablissement et sa zone d'education"
   ]
  },
  {
   "cell_type": "code",
   "execution_count": null,
   "id": "ff260f46",
   "metadata": {},
   "outputs": [],
   "source": [
    "etablissements_with_zones = etablissements[etablissements[\"reussite_rattachement\"]].merge(\n",
    "    educational_zones[[\"identifiant_de_l_etablissement\", \"cleabs_grande_zone\", \"zone_geometry\"]],\n",
    "    how=\"left\",\n",
    "    left_on=[\"identifiant_de_l_etablissement\", \"identifiant_topo_zone_rattachee\"],\n",
    "    right_on=[\"identifiant_de_l_etablissement\", \"cleabs_grande_zone\"],\n",
    ")\n",
    "\n",
    "etablissements_with_zones[\"distance_zone_etablissement_m\"] = calcul_dist(\n",
    "    etablissements_with_zones, \"geometry\", \"zone_geometry\"\n",
    ")"
   ]
  },
  {
   "cell_type": "code",
   "execution_count": null,
   "id": "50f7e29c",
   "metadata": {},
   "outputs": [],
   "source": [
    "fig, ax = plt.subplots(figsize=(12, 8))\n",
    "bins=np.logspace(-3, 5, 81)\n",
    "plt.hist(etablissements_with_zones[\"distance_zone_etablissement_m\"], bins=bins)\n",
    "plt.xlabel(\"Distance entre la position de l'établissement et sa zone d'éducation (mètres)\")\n",
    "plt.ylabel(\"Nombre d'établissements concernés\")\n",
    "plt.title(\"Distribution de la distance (échelle log/log)\")\n",
    "ax.loglog()\n",
    "ax.grid()"
   ]
  },
  {
   "cell_type": "code",
   "execution_count": null,
   "id": "2b3249c2",
   "metadata": {},
   "outputs": [],
   "source": [
    "fig, ax = plt.subplots(figsize=(12, 8))\n",
    "plt.hist(etablissements_with_zones[\"distance_zone_etablissement_m\"], bins=bins, cumulative=True, density=True)\n",
    "plt.xlabel(\"Distance entre la position de l'établissement et sa zone d'éducation (mètres)\")\n",
    "plt.ylabel(\"Nombre d'établissements concernés\")\n",
    "plt.title(\"Distribution cumulée de la distance\")\n",
    "ax.loglog()\n",
    "ax.grid()\n",
    "ax.set_xscale('log')"
   ]
  },
  {
   "cell_type": "code",
   "execution_count": null,
   "id": "57b27975",
   "metadata": {},
   "outputs": [],
   "source": [
    "fig, ax = plt.subplots(figsize=(12, 8))\n",
    "plt.hist(etablissements_with_zones[\"distance_zone_etablissement_m\"], bins=bins, cumulative=True, density=True)\n",
    "plt.xlabel(\"Distance entre la position de l'établissement et sa zone d'éducation (mètres)\")\n",
    "plt.ylabel(\"Nombre d'établissements concernés\")\n",
    "plt.title(\"Distribution cumulée de la distance\")\n",
    "ax.grid()\n",
    "ax.set_xscale('log')\n",
    "ax.set_ylim(0.8, 1)\n",
    "ax.set_xlim(100, 1e5)"
   ]
  },
  {
   "cell_type": "code",
   "execution_count": null,
   "id": "6d2efbae",
   "metadata": {},
   "outputs": [],
   "source": [
    "quantiles = [0.25, 0.5, 0.75, 0.85, 0.9, 0.95, 0.96, 0.97, 0.98, 0.99, 1.0]\n",
    "etablissements_with_zones[\"distance_zone_etablissement_m\"].quantile(quantiles)"
   ]
  },
  {
   "cell_type": "markdown",
   "id": "f3862862",
   "metadata": {},
   "source": [
    "### Selection des etablissements qu'on souhaite corriger"
   ]
  },
  {
   "cell_type": "code",
   "execution_count": null,
   "id": "605f7e43",
   "metadata": {},
   "outputs": [],
   "source": [
    "### Choix du seuil de correction\n",
    "seuil_correction_m = 268 # Correspond au 95ème percentile\n",
    "\n",
    "### Selection des etablissements qu'on souhaite corriger\n",
    "etablissements_to_correct = etablissements_with_zones[\n",
    "    etablissements_with_zones[\"distance_zone_etablissement_m\"] >= seuil_correction_m\n",
    "].copy()\n",
    "print(f\"Nombre d'établissements à corriger : {len(etablissements_to_correct)}\")\n"
   ]
  },
  {
   "cell_type": "markdown",
   "id": "1be817a7",
   "metadata": {},
   "source": [
    "### Sauvegarde de la position initiale des etablissements à corriger"
   ]
  },
  {
   "cell_type": "code",
   "execution_count": null,
   "id": "08c54222",
   "metadata": {},
   "outputs": [],
   "source": [
    "etablissements_to_correct[[\"identifiant_de_l_etablissement\", \"geometry\"]].to_file(OUTPUT_INITIAL_POSITIONS_PATH, driver=\"GeoJSON\")"
   ]
  },
  {
   "cell_type": "markdown",
   "id": "4da3736f",
   "metadata": {},
   "source": [
    "### Correction de la position"
   ]
  },
  {
   "cell_type": "code",
   "execution_count": null,
   "id": "def00d69",
   "metadata": {},
   "outputs": [],
   "source": [
    "async def correct_adresses(etab: gpd.GeoDataFrame, seuil_correction_m: int, session: aiohttp.ClientSession, pbar: tqdm) -> list:\n",
    "    # Geocodage des adresses\n",
    "    tasks = []\n",
    "    for _, row in etab.iterrows():\n",
    "        adresse = row[\"adresse_complete\"]\n",
    "        initial_attrs = {\n",
    "            column: row[column] for column in etab.columns\n",
    "        }\n",
    "        \n",
    "        tasks.append(\n",
    "            geocode_adresse(\n",
    "                adresse=adresse, \n",
    "                initial_attrs=initial_attrs,\n",
    "                session=session, \n",
    "                pbar=pbar\n",
    "            )\n",
    "        )\n",
    "\n",
    "    # Récupération des résultats\n",
    "    results = await asyncio.gather(*tasks, return_exceptions=True)\n",
    "    gdf = gpd.GeoDataFrame(results, crs=etab.crs)\n",
    "\n",
    "    # Calcul de la distance entre la position corrigée et la zone\n",
    "    gdf[\"distance_zone_adresse_geocodee_m\"] = calcul_dist(\n",
    "        gdf, \"geometry\", \"zone_geometry\"\n",
    "    )\n",
    "\n",
    "    # Si la nouvelle geometry est a une distance plus faible que le seuil, on la garde, sinon on prend le centre de la zone\n",
    "    gdf[\"geometry\"] = np.where(\n",
    "        gdf[\"distance_zone_adresse_geocodee_m\"] < seuil_correction_m,\n",
    "        gdf[\"geometry\"],\n",
    "        gdf[\"zone_geometry\"].apply(lambda geom: geom.centroid)\n",
    "    )\n",
    "\n",
    "    # Sauvegarde des résultats\n",
    "    gdf[[\"identifiant_de_l_etablissement\", \"geometry\"]].to_file(OUTPUT_CORRECTIONS_PATH, driver=\"GeoJSON\", mode='a', index=False)"
   ]
  },
  {
   "cell_type": "code",
   "execution_count": null,
   "id": "760b997f",
   "metadata": {},
   "outputs": [],
   "source": [
    "with tqdm(total=len(etablissements_to_correct), desc=\"Processing adresses\") as pbar:\n",
    "    async with aiohttp.ClientSession() as session:\n",
    "        etab_chunks = [\n",
    "            etablissements_to_correct[i : i + 100]\n",
    "            for i in range(0, len(etablissements_to_correct), 100)\n",
    "        ]\n",
    "        \n",
    "        for chunk in etab_chunks:\n",
    "            await correct_adresses(etab=chunk, seuil_correction_m=seuil_correction_m, session=session, pbar=pbar)"
   ]
  }
 ],
 "metadata": {
  "kernelspec": {
   "display_name": "potentiel-solaire-py3.11",
   "language": "python",
   "name": "python3"
  },
  "language_info": {
   "codemirror_mode": {
    "name": "ipython",
    "version": 3
   },
   "file_extension": ".py",
   "mimetype": "text/x-python",
   "name": "python",
   "nbconvert_exporter": "python",
   "pygments_lexer": "ipython3",
   "version": "3.11.9"
  }
 },
 "nbformat": 4,
 "nbformat_minor": 5
}
