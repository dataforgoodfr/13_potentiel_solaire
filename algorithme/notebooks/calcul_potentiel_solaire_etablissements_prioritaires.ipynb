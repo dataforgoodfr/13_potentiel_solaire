{
 "cells": [
  {
   "cell_type": "markdown",
   "id": "8967986e",
   "metadata": {},
   "source": [
    "## Imports"
   ]
  },
  {
   "cell_type": "code",
   "execution_count": null,
   "id": "8a90d426",
   "metadata": {},
   "outputs": [],
   "source": [
    "import asyncio\n",
    "\n",
    "import pandas as pd\n",
    "import geopandas as gpd\n",
    "import aiohttp\n",
    "from tqdm.asyncio import tqdm\n",
    "\n",
    "from potentiel_solaire.constants import RESULTS_FOLDER\n",
    "from potentiel_solaire.features.pvgis_api import async_get_potentiel_solaire_from_pvgis_api\n",
    "from potentiel_solaire.features.solar_potential import calculate_installed_capacity"
   ]
  },
  {
   "cell_type": "markdown",
   "id": "50601f31",
   "metadata": {},
   "source": [
    "## Constants"
   ]
  },
  {
   "cell_type": "code",
   "execution_count": null,
   "id": "0758562c",
   "metadata": {},
   "outputs": [],
   "source": [
    "SEGMENTS_CHUNK_SIZE = 1000  # Nb de segments à traiter en simultané (asynchrone)\n",
    "OUTPUT_CSV_PATH = RESULTS_FOLDER / \"roof_segments_potential.csv\""
   ]
  },
  {
   "cell_type": "markdown",
   "id": "c4d545e1",
   "metadata": {},
   "source": [
    "## Récupération des résultats de la segmentation des toits"
   ]
  },
  {
   "cell_type": "code",
   "execution_count": null,
   "id": "b45b60a3",
   "metadata": {},
   "outputs": [],
   "source": [
    "# Lecture des segments de toit calculés avec le MNS\n",
    "roof_segments_with_mns = pd.read_csv(RESULTS_FOLDER / \"roof_segments_with_mns.csv\")"
   ]
  },
  {
   "cell_type": "markdown",
   "id": "ce0714fd",
   "metadata": {},
   "source": [
    "## Préparation des params pour l'API pvgis\n",
    "- Azimuth de l'algo de segmentation : 0 -> north / 90 -> east / 180 -> south / 270 -> west\n",
    "- Azimuth attendue par l'api : -180 -> north / -90 -> east / 0 -> south / 90 -> west"
   ]
  },
  {
   "cell_type": "code",
   "execution_count": null,
   "id": "3313bf22",
   "metadata": {},
   "outputs": [],
   "source": [
    "roof_segments_with_mns[\"peakpower\"] = roof_segments_with_mns.apply(\n",
    "    lambda segment: calculate_installed_capacity(segment.surface), axis=1\n",
    ")\n",
    "roof_segments_with_mns[\"optimalangles\"] = roof_segments_with_mns.apply(\n",
    "    lambda segment: 1 if segment.slope_bin_min == 0 else 0, axis=1\n",
    ")\n",
    "roof_segments_with_mns[\"angle\"] = roof_segments_with_mns.apply(\n",
    "    lambda segment: segment.slope if segment.slope_bin_min != 0 else 0, axis=1\n",
    ")\n",
    "roof_segments_with_mns[\"aspect\"] = roof_segments_with_mns.apply(\n",
    "    lambda segment: segment.azimut - 180 if segment.slope_bin_min != 0 else 0, axis=1\n",
    ")"
   ]
  },
  {
   "cell_type": "markdown",
   "id": "c47dc44e",
   "metadata": {},
   "source": [
    "## Calcul du potentiel solaire pour chaque segment"
   ]
  },
  {
   "cell_type": "code",
   "execution_count": null,
   "id": "820b9149",
   "metadata": {},
   "outputs": [],
   "source": [
    "async def get_potentiel_solaire_segment(\n",
    "    segment, \n",
    "    session: aiohttp.ClientSession,\n",
    "    pbar: tqdm\n",
    "):\n",
    "    \"\"\"Récupère le potentiel solaire pour un segment de toit de façon asynchrone.\n",
    "    On souhaite retourner tous les attributs du segment, en plus du potentiel solaire calculé.\n",
    "    \"\"\"\n",
    "    result = {\n",
    "        **segment._asdict(),\n",
    "        \"solar_potential\": await async_get_potentiel_solaire_from_pvgis_api(\n",
    "            lat=segment.latitude,\n",
    "            lon=segment.longitude,\n",
    "            peakpower=segment.peakpower,\n",
    "            optimalangles=segment.optimalangles,\n",
    "            angle=segment.angle,\n",
    "            aspect=segment.aspect,\n",
    "            session=session,\n",
    "            pbar=pbar\n",
    "        )\n",
    "    }\n",
    "\n",
    "    del result[\"Index\"]  # Supprimer l'index du résultat\n",
    "\n",
    "    return result"
   ]
  },
  {
   "cell_type": "code",
   "execution_count": null,
   "id": "d0497748",
   "metadata": {},
   "outputs": [],
   "source": [
    "async def compute_solar_potential(\n",
    "    segments: gpd.GeoDataFrame, \n",
    "    session: aiohttp.ClientSession,\n",
    "    pbar: tqdm\n",
    ") -> gpd.GeoDataFrame:\n",
    "    \"\"\"Calcule le potentiel solaire pour un chunk de segments de toit.\n",
    "    Les résultats sont écrits dans un fichier CSV.\"\"\"\n",
    "    # Les appels à l'API pour calculer le potentiel solaire sont effectués de façon asynchrone\n",
    "    tasks = [\n",
    "        get_potentiel_solaire_segment(segment, session, pbar)\n",
    "        for segment in segments.itertuples()\n",
    "    ]\n",
    "\n",
    "    # Récupérer les résultats de toutes les tâches et les transformer en DataFrame\n",
    "    results = await asyncio.gather(*tasks, return_exceptions=True)\n",
    "    df = pd.DataFrame(results)\n",
    "\n",
    "    # Vérifier que tous les valeurs de potentiel solaire ont été calculées avec succès\n",
    "    assert df[\"solar_potential\"].notnull().all(), \"Certaines valeurs de potentiel solaire sont manquantes.\"\n",
    "\n",
    "    # Écrire le DataFrame dans un fichier CSV\n",
    "    df.to_csv(OUTPUT_CSV_PATH, mode='a', header=not OUTPUT_CSV_PATH.exists(), index=False)"
   ]
  },
  {
   "cell_type": "code",
   "execution_count": null,
   "id": "f534e366",
   "metadata": {},
   "outputs": [],
   "source": [
    "# Calcul du potentiel solaire par chunk de segments de toits\n",
    "with tqdm(total=len(roof_segments_with_mns), desc=\"Processing segments\") as pbar:\n",
    "    async with aiohttp.ClientSession() as session:\n",
    "        segments_chunks = [\n",
    "            roof_segments_with_mns[i : i + SEGMENTS_CHUNK_SIZE]\n",
    "            for i in range(0, len(roof_segments_with_mns), SEGMENTS_CHUNK_SIZE)\n",
    "        ]\n",
    "\n",
    "        for chunk in segments_chunks:\n",
    "            await compute_solar_potential(\n",
    "                chunk,\n",
    "                session=session,\n",
    "                pbar=pbar\n",
    "            )\n"
   ]
  }
 ],
 "metadata": {
  "kernelspec": {
   "display_name": "potentiel-solaire-py3.11",
   "language": "python",
   "name": "python3"
  },
  "language_info": {
   "codemirror_mode": {
    "name": "ipython",
    "version": 3
   },
   "file_extension": ".py",
   "mimetype": "text/x-python",
   "name": "python",
   "nbconvert_exporter": "python",
   "pygments_lexer": "ipython3",
   "version": "3.11.9"
  }
 },
 "nbformat": 4,
 "nbformat_minor": 5
}
