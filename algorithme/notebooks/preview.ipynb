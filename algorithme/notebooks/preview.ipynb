{
 "cells": [
  {
   "cell_type": "code",
   "execution_count": 27,
   "metadata": {},
   "outputs": [],
   "source": [
    "# Manipulations standard\n",
    "import geopandas as gpd\n",
    "import pandas as pd\n",
    "# Plotting\n",
    "import matplotlib.pyplot as plt\n",
    "# Pour la basemap\n",
    "import contextily as cx\n",
    "# Autres\n",
    "import os\n",
    "# Potentiel solaire package\n",
    "from potentiel_solaire.constants import DATA_FOLDER"
   ]
  },
  {
   "cell_type": "code",
   "execution_count": null,
   "metadata": {},
   "outputs": [],
   "source": [
    "# Executer ci dessous ci besoin pour récupérer les données\n",
    "# !extract-sample-data\n",
    "# Et pour sauver une version markdown des notebooks, utiliser\n",
    "# jupyter nbconvert donnees_par_ecole.ipynb --to markdown --output-dir=exports/"
   ]
  },
  {
   "cell_type": "markdown",
   "metadata": {},
   "source": [
    "# Etape 1: Ouverture des datasets"
   ]
  },
  {
   "cell_type": "markdown",
   "metadata": {},
   "source": [
    "## Dataset : départements"
   ]
  },
  {
   "cell_type": "code",
   "execution_count": null,
   "metadata": {},
   "outputs": [],
   "source": [
    "dpts = gpd.read_file(DATA_FOLDER / \"contour-des-departements.geojson\").to_crs(4326)\n",
    "ShapeNT = dpts[dpts.code == \"93\"].geometry\n",
    "fig, ax = plt.subplots()\n",
    "dpts[dpts.code == \"93\"].plot(column=\"nom\",legend=True, categorical = True, ax = ax, color=\"green\",alpha=0.5)\n",
    "cx.add_basemap(ax, crs=dpts.crs)\n",
    "fig.show()"
   ]
  },
  {
   "cell_type": "markdown",
   "metadata": {},
   "source": [
    "## Dataset : annuaire éducation / écoles"
   ]
  },
  {
   "cell_type": "code",
   "execution_count": null,
   "metadata": {},
   "outputs": [],
   "source": [
    "# Takes 58s on my laptop\n",
    "annuaire = gpd.read_file(DATA_FOLDER / 'fr-en-annuaire-education.geojson')\n",
    "print(len(annuaire),\"items\")\n",
    "annuaire = annuaire[annuaire.code_postal.str.startswith(\"93\")]\n",
    "print(len(annuaire),\"objets dans le 93\")\n",
    "annuaire = annuaire.to_crs(4326)\n",
    "annuaire.head(3)"
   ]
  },
  {
   "cell_type": "markdown",
   "metadata": {},
   "source": [
    "## Dataset : BD TOPO"
   ]
  },
  {
   "cell_type": "code",
   "execution_count": 30,
   "metadata": {},
   "outputs": [],
   "source": [
    "import fiona"
   ]
  },
  {
   "cell_type": "markdown",
   "metadata": {},
   "source": [
    "Vérifions quelles sont les layers de dispo dans le gpkg"
   ]
  },
  {
   "cell_type": "code",
   "execution_count": null,
   "metadata": {},
   "outputs": [],
   "source": [
    "GPKG = DATA_FOLDER / \"BDTOPO_3-4_TOUSTHEMES_GPKG_LAMB93_D093_2024-12-15/BDTOPO/1_DONNEES_LIVRAISON_2024-12-00134/BDT_3-4_GPKG_LAMB93_D093-ED2024-12-15/BDT_3-4_GPKG_LAMB93_D093-ED2024-12-15.gpkg\"\n",
    "layers = fiona.listlayers(GPKG)\n",
    "print(\" \".join(layers))"
   ]
  },
  {
   "cell_type": "markdown",
   "metadata": {},
   "source": [
    "Et on les display"
   ]
  },
  {
   "cell_type": "code",
   "execution_count": 32,
   "metadata": {},
   "outputs": [],
   "source": [
    "bats = gpd.read_file(GPKG, layer=\"batiment\")# toponymie_services_et_activites\n",
    "bats = bats.to_crs(4326) "
   ]
  },
  {
   "cell_type": "code",
   "execution_count": null,
   "metadata": {},
   "outputs": [],
   "source": [
    "bats.columns"
   ]
  },
  {
   "cell_type": "code",
   "execution_count": null,
   "metadata": {},
   "outputs": [],
   "source": [
    "# Takes 10s on my laptop\n",
    "bdedu = gpd.read_file(GPKG, layer=\"zone_d_activite_ou_d_interet\")# toponymie_services_et_activites\n",
    "print(len(bdedu),\"items\")\n",
    "# Utilisons les memes projections\n",
    "bdedu = bdedu.to_crs(4326) \n",
    "# Tri sur la catégorie d'intéret\n",
    "bdedu = bdedu[bdedu[\"categorie\"] == \"Science et enseignement\"] \n",
    "bdedu = gpd.sjoin(bdedu, dpts[dpts.code == \"93\"], how='left').dropna(subset=\"code\")\n",
    "print(len(bdedu),\"items dans la zone\")\n",
    "\n",
    "fig, ax = plt.subplots()\n",
    "bdedu.plot(column=\"nature\",legend=True, categorical = True, ax = ax, color=\"black\")\n",
    "cx.add_basemap(ax, crs=dpts.crs)\n",
    "fig.show()\n"
   ]
  },
  {
   "cell_type": "code",
   "execution_count": null,
   "metadata": {},
   "outputs": [],
   "source": [
    "bat_edu = gpd.sjoin(gpd.GeoDataFrame(bats[[\"cleabs\",\"geometry\",\"identifiants_rnb\",\"materiaux_de_la_toiture\",\"hauteur\"]],geometry=\"geometry\"), gpd.GeoDataFrame(bdedu[[\"cleabs\",\"toponyme\",\"geometry\"]],geometry=\"geometry\"), how='left').dropna(subset=\"toponyme\")\n",
    "bat_edu.head(3)"
   ]
  },
  {
   "cell_type": "markdown",
   "metadata": {},
   "source": [
    "On peut aussi afficher les réseaux"
   ]
  },
  {
   "cell_type": "code",
   "execution_count": null,
   "metadata": {},
   "outputs": [],
   "source": [
    "# Takes 80s on my laptop -- loading roads in this case\n",
    "bdtopo = gpd.read_file(GPKG)\n",
    "print(len(bdtopo),\"items\")\n",
    "# Utilisons les memes projections\n",
    "bdtopo = bdtopo.to_crs(4326)\n",
    "bdtopo = gpd.sjoin(bdtopo, dpts[dpts.code == \"93\"], how='left').dropna(subset=\"code\")\n",
    "print(len(bdtopo),\"items\")\n",
    "fig, ax = plt.subplots()\n",
    "bdtopo.plot(column=\"nature\",legend=True, categorical = True, ax = ax, color=\"black\")\n",
    "cx.add_basemap(ax, crs=dpts.crs)\n",
    "fig.show()"
   ]
  },
  {
   "cell_type": "markdown",
   "metadata": {},
   "source": [
    "## Dataset: parcellaire-express"
   ]
  },
  {
   "cell_type": "code",
   "execution_count": null,
   "metadata": {},
   "outputs": [],
   "source": [
    "# Takes 11s on my laptop\n",
    "pci = gpd.read_file(DATA_FOLDER / \"PARCELLAIRE-EXPRESS_1-1__SHP_LAMB93_D093_2024-10-01/PARCELLAIRE-EXPRESS/1_DONNEES_LIVRAISON_2024-11-00210/PEPCI_1-1_SHP_LAMB93_D093/BATIMENT.SHP\")\n",
    "print(len(pci),\"items\")\n",
    "pci = pci.to_crs(4326)\n",
    "pci = gpd.sjoin(pci, dpts[dpts.code == \"93\"], how='left').dropna(subset=\"code\")\n",
    "print(len(pci),\"items - sorted\")\n",
    "pci.head(3)"
   ]
  },
  {
   "cell_type": "markdown",
   "metadata": {},
   "source": [
    "# Etape 2: Exploration autour d'une école"
   ]
  },
  {
   "cell_type": "markdown",
   "metadata": {},
   "source": [
    "## Etablissement d'une zone d'intérêt"
   ]
  },
  {
   "cell_type": "code",
   "execution_count": null,
   "metadata": {},
   "outputs": [],
   "source": [
    "pd.DataFrame(annuaire.iloc[0])"
   ]
  },
  {
   "cell_type": "code",
   "execution_count": 39,
   "metadata": {},
   "outputs": [],
   "source": [
    "# Filtrons autour de d = 100m\n",
    "d = 0.02 # échelle à retrouver\n",
    "zone = annuaire.iloc[0].geometry.buffer(d)"
   ]
  },
  {
   "cell_type": "markdown",
   "metadata": {},
   "source": [
    "## Clip des dataset pour rester léger"
   ]
  },
  {
   "cell_type": "code",
   "execution_count": 40,
   "metadata": {},
   "outputs": [],
   "source": [
    "bdtopo_d = bdtopo[bdtopo.geometry.within(zone)].clip(zone)# check with within\n",
    "pci_d = pci[pci.geometry.within(zone)].clip(zone)# check with within\n",
    "bdedu_d = bdedu[bdedu.geometry.within(zone)].clip(zone)# check with within\n",
    "bat_edu_d =  bat_edu[bat_edu.geometry.within(zone)].clip(zone)"
   ]
  },
  {
   "cell_type": "code",
   "execution_count": null,
   "metadata": {},
   "outputs": [],
   "source": [
    "#plots all dans la zone sélectionnée\n",
    "fig, ax = plt.subplots(figsize=(20,20))\n",
    "pci_d.plot(column=\"TYPE\", legend=True, categorical = True, ax = ax, alpha=0.5)\n",
    "bdtopo_d.plot(column=\"nature\",legend=True, categorical = True, ax = ax, alpha=0.5)\n",
    "annuaire[annuaire.geometry.within(zone)].clip(zone).plot(column = \"nom_etablissement\",legend=True, categorical = True, ax = ax, markersize=500, legend_kwds={'loc': 'upper left'})\n",
    "bdedu_d.plot(column=\"toponyme\",legend=True, categorical = True, ax = ax, color=\"black\", alpha=0.5)\n",
    "bat_edu_d.plot(column=\"toponyme\",legend=True, categorical = True, ax = ax, color=\"yellow\")\n",
    "cx.add_basemap(ax, crs=pci_d.crs, zoom=16) # source=cx.providers.OpenStreetMap.Mapnik,\n",
    "leg = ax.get_legend()\n",
    "leg.set_bbox_to_anchor((1.2, 0, 0, 1))\n",
    "ax.set_title(\"Zone centrée sur : \"+annuaire.iloc[0].nom_etablissement+\"\\n\")\n",
    "plt.show()\n",
    "plt.savefig(\"preview_example.jpg\")"
   ]
  },
  {
   "cell_type": "markdown",
   "metadata": {},
   "source": [
    "# Etape 3: Travail au niveau d'une école spécifique"
   ]
  },
  {
   "cell_type": "code",
   "execution_count": 42,
   "metadata": {},
   "outputs": [],
   "source": [
    "from shapely.ops import nearest_points"
   ]
  },
  {
   "cell_type": "markdown",
   "metadata": {},
   "source": [
    "## Sélection de l'école et clip des datasets"
   ]
  },
  {
   "cell_type": "code",
   "execution_count": null,
   "metadata": {},
   "outputs": [],
   "source": [
    "# On s'intéresse à : bdedu_d, bat_edu_d\n",
    "ecoles = annuaire[annuaire.geometry.within(zone)]\n",
    "ecoles.head(3)"
   ]
  },
  {
   "cell_type": "code",
   "execution_count": null,
   "metadata": {},
   "outputs": [],
   "source": [
    "recollement = gpd.sjoin_nearest(ecoles, bdedu_d, distance_col=\"distances\", lsuffix=\"e_\", rsuffix=\"f_\", exclusive=True)[[\"identifiant_de_l_etablissement\",\"nom_etablissement\",\"distances\",\"toponyme\",\"cleabs\",\"nature\",\"nature_detaillee\"]]\n",
    "recollement.head(3)"
   ]
  },
  {
   "cell_type": "markdown",
   "metadata": {},
   "source": [
    "Et on essaye de bien vérifier que les écoles identifiées soient celles des zones identifiées, pour ca on vérifie la distance entre les écoles et les zones\n",
    "\n",
    "Et on retire les matchs où la distance entre les deux points est trop grande"
   ]
  },
  {
   "cell_type": "code",
   "execution_count": null,
   "metadata": {},
   "outputs": [],
   "source": [
    "seuil_recol = recollement.distances.quantile(q=0.7)\n",
    "print(seuil_recol)\n",
    "recollement.distances.hist()"
   ]
  },
  {
   "cell_type": "code",
   "execution_count": null,
   "metadata": {},
   "outputs": [],
   "source": [
    "recollement = recollement[recollement.distances < seuil_recol]\n",
    "bdedu_areas = recollement.toponyme.unique()\n",
    "bdedu_r = bdedu[bdedu.toponyme.isin(bdedu_areas)]\n",
    "recollement.head(3)"
   ]
  },
  {
   "cell_type": "markdown",
   "metadata": {},
   "source": [
    "## Création d'une liste école par école au sein de la zone définie à l'étape 2"
   ]
  },
  {
   "cell_type": "code",
   "execution_count": null,
   "metadata": {},
   "outputs": [],
   "source": [
    "documentation = \"# Example de liste d'écoles\\n\\n\"\n",
    "\n",
    "fullRun = False # Set true to to all all schools\n",
    "if fullRun :\n",
    "    ecoles_to_run = recollement[\"identifiant_de_l_etablissement\"].unique()\n",
    "else:\n",
    "    ecoles_to_run = [recollement[\"identifiant_de_l_etablissement\"].unique()[0]]\n",
    "for id_ecole in ecoles_to_run:\n",
    "\n",
    "    ecole = ecoles[ecoles.identifiant_de_l_etablissement == id_ecole]\n",
    "    documentation +=\"## \"+ecole.iloc[0][\"nom_etablissement\"]+\"\\n\\n\" + \\\n",
    "        \"* Type etablissement: \"+ecole.iloc[0][\"type_etablissement\"] +\"\\n\"+ \\\n",
    "        \"* adresse_1: \"+ecole.iloc[0][\"adresse_1\"] +\"\\n\"+ \\\n",
    "        \"* nom_commune: \"+ecole.iloc[0][\"nom_commune\"] +\"\\n\"+ \\\n",
    "        \"* identifiant_de_l_etablissement: \"+ecole.iloc[0][\"identifiant_de_l_etablissement\"] +\"\\n\"\n",
    "    match = recollement[recollement.identifiant_de_l_etablissement == id_ecole]\n",
    "    zone = ecole.iloc[0].geometry.buffer(0.01)\n",
    "    bdedu_s = bdedu[bdedu.toponyme == match.iloc[0].toponyme ].clip(zone)\n",
    "    bat_edu_s = bat_edu[bat_edu.toponyme == match.iloc[0].toponyme ].clip(zone)\n",
    "    bat_edu_s['hauteur'].fillna((bat_edu_s['hauteur'].mean()+0.001), inplace=True)\n",
    "    geod = bat_edu_s.crs.get_geod()\n",
    "    bat_edu_s[\"area_m2\"] = bat_edu_s.geometry.apply(lambda g: abs(geod.geometry_area_perimeter(g)[0]))\n",
    "    documentation += \"* Surface totale: \"+str(int(bat_edu_s.area_m2.sum())) +\"m2\\n\\n\"\n",
    "    if os.path.isfile(\"images/\"+id_ecole+\".jpg\"):\n",
    "        pass\n",
    "    else:\n",
    "        fig, ax = plt.subplots(figsize=(8,8))\n",
    "        bdedu_s.plot(legend=True, categorical = True, ax = ax, color=\"black\", alpha=0.5)\n",
    "        bat_edu_s.plot(column=\"hauteur\",legend=True, ax = ax, alpha=0.9)\n",
    "        ecole.plot(color=\"red\", ax = ax, markersize=500)\n",
    "        cx.add_basemap(ax, crs=pci_d.crs, zoom=18) # source=cx.providers.OpenStreetMap.Mapnik,\n",
    "        ax.set_title(\"Zone centrée sur : \"+ecole.iloc[0].nom_etablissement+\"\\n\")\n",
    "        plt.savefig(\"images/\"+id_ecole+\".jpg\")\n",
    "\n",
    "    documentation += \"### Image\\n\\n![](\"+ecole.iloc[0][\"identifiant_de_l_etablissement\"]+\".jpg)\\n\\n\"\n",
    "if not fullRun:\n",
    "    fig, ax = plt.subplots(figsize=(8,8))\n",
    "    bdedu_s.plot(legend=True, categorical = True, ax = ax, color=\"black\", alpha=0.5)\n",
    "    bat_edu_s.plot(column=\"hauteur\",legend=True, ax = ax, alpha=0.9)\n",
    "    ecole.plot(color=\"red\", ax = ax, markersize=500)\n",
    "    cx.add_basemap(ax, crs=pci_d.crs, zoom=18) # source=cx.providers.OpenStreetMap.Mapnik,\n",
    "    ax.set_title(\"Zone centrée sur : \"+ecole.iloc[0].nom_etablissement+\"\\n\")\n",
    "else:\n",
    "    with open(\"images/Readme.md\", \"w\") as f:\n",
    "        f.write(documentation)"
   ]
  },
  {
   "cell_type": "markdown",
   "metadata": {},
   "source": [
    "# Etape 3: Intégration pour le d93 une source de donnée 'potentiel solaire\"\n",
    "\n",
    "* Provenance: https://data-iau-idf.opendata.arcgis.com/datasets/iau-idf::le-potentiel-solaire-des-toitures/\n",
    "\n",
    "##  Préparation de la requete\n"
   ]
  },
  {
   "cell_type": "markdown",
   "metadata": {},
   "source": []
  },
  {
   "cell_type": "markdown",
   "metadata": {},
   "source": [
    "On définit le périmètre de la zone d'intérêt avant d'aller demander les data"
   ]
  },
  {
   "cell_type": "code",
   "execution_count": null,
   "metadata": {},
   "outputs": [],
   "source": [
    "dfecole = pd.concat([bdedu_s,bat_edu_s,ecole])\n",
    "gdf = gpd.GeoDataFrame(dfecole,geometry=\"geometry\")\n",
    "geo = \",\".join([str(x) for x in gdf.total_bounds])\n",
    "geo\n"
   ]
  },
  {
   "cell_type": "markdown",
   "metadata": {},
   "source": [
    "On prend les données des batiments qui sont dans la box"
   ]
  },
  {
   "cell_type": "code",
   "execution_count": 49,
   "metadata": {},
   "outputs": [],
   "source": [
    "import requests\n",
    "\n",
    "requete_type = \"https://geoweb.iau-idf.fr/agsmap1/rest/services/OPENDATA/OpendataIAU4/MapServer/26/query?where=1%3D1&outFields=*&geometry=\"+geo+\"&geometryType=esriGeometryEnvelope&inSR=4326&spatialRel=esriSpatialRelIntersects&outSR=4326&f=json\"\n",
    "\n",
    "response = requests.get(requete_type) \n"
   ]
  },
  {
   "cell_type": "code",
   "execution_count": null,
   "metadata": {},
   "outputs": [],
   "source": [
    "potentiel_batiment = pd.DataFrame([x[\"attributes\"] for x in response.json()[\"features\"]])\n",
    "potentiel_batiment = potentiel_batiment[potentiel_batiment.id.isin(bat_edu_s.cleabs_left)]\n",
    "bat_edu_p = bat_edu_s.merge(potentiel_batiment,how=\"left\", left_on=\"cleabs_left\", right_on=\"id\")\n",
    "bat_edu_p.head(3)"
   ]
  },
  {
   "cell_type": "markdown",
   "metadata": {},
   "source": [
    "## Visualisation"
   ]
  },
  {
   "cell_type": "code",
   "execution_count": null,
   "metadata": {},
   "outputs": [],
   "source": [
    "fig, ax = plt.subplots(figsize=(8,5))\n",
    "bdedu_s.plot(legend=True, categorical = True, ax = ax, color=\"black\", alpha=0.5)\n",
    "bat_edu_p.plot(column=\"production\",legend=True, ax = ax, alpha=0.9,cmap=\"hot\")\n",
    "ecole.plot(color=\"red\", ax = ax, markersize=500)\n",
    "cx.add_basemap(ax, crs=pci_d.crs, zoom=18) # source=cx.providers.OpenStreetMap.Mapnik,\n",
    "ax.set_title(\"Zone centrée sur : \"+ecole.iloc[0].nom_etablissement+\"\\nColormap: champ 'production' de la BDD:\\n'Potentiel solaire des toitures' de data-iau-idf\\n(Unité à confirmer, kWh/an ?)\")"
   ]
  },
  {
   "cell_type": "markdown",
   "metadata": {},
   "source": [
    "## Etape 4 : Ouverture de la db Gisement Solaire Brut au Bati "
   ]
  },
  {
   "cell_type": "code",
   "execution_count": 52,
   "metadata": {},
   "outputs": [],
   "source": [
    "# Takes some time \n",
    "\n",
    "potentiel_solaire = gpd.read_file(DATA_FOLDER / \"potentiel-gisement-solaire-brut-au-bati.geojson\").to_crs(4326)"
   ]
  },
  {
   "cell_type": "code",
   "execution_count": null,
   "metadata": {},
   "outputs": [],
   "source": [
    "potentiel_solaire.columns"
   ]
  },
  {
   "cell_type": "code",
   "execution_count": null,
   "metadata": {},
   "outputs": [],
   "source": [
    "# Reset indices and ensure CRS match\n",
    "bat_edu_s = bat_edu_s.reset_index(drop=True)\n",
    "potentiel_solaire = potentiel_solaire.reset_index(drop=True)\n",
    "bat_edu_s = bat_edu_s.to_crs(potentiel_solaire.crs)\n",
    "\n",
    "# Perform spatial join with explicit suffixes\n",
    "school_solar = gpd.sjoin(\n",
    "    bat_edu_s, \n",
    "    potentiel_solaire, \n",
    "    how=\"left\", \n",
    "    predicate=\"intersects\",\n",
    "    lsuffix='_left',\n",
    "    rsuffix='_right'\n",
    ")\n",
    "\n",
    "print(\"Number of buildings with missing solar data:\")\n",
    "print(school_solar['c_ens_moy'].isna().sum())\n",
    "\n",
    "fig, ax = plt.subplots(figsize=(8,5))\n",
    "bdedu_s.plot(legend=True, categorical=True, ax=ax, color=\"black\", alpha=0.5)\n",
    "\n",
    "school_solar.plot(\n",
    "    column=\"c_ens_moy\",  # average solar radiation\n",
    "    legend=True, \n",
    "    ax=ax, \n",
    "    alpha=0.9,\n",
    "    cmap=\"hot\",\n",
    "    legend_kwds={'label': 'Radiation solaire (kWh/m²/an)'}\n",
    ")\n",
    "\n",
    "ecole.plot(color=\"red\", ax=ax, markersize=500)\n",
    "cx.add_basemap(ax, crs=pci_d.crs, zoom=18)\n",
    "ax.set_title(\"Zone centrée sur : \" + ecole.iloc[0].nom_etablissement + \n",
    "             \"\\nRadiation solaire moyenne (kWh/m²/an)\")\n",
    "\n",
    "plt.show()"
   ]
  },
  {
   "cell_type": "markdown",
   "metadata": {},
   "source": [
    "## Impression des autres métriques de la db potentiel solaire 2"
   ]
  },
  {
   "cell_type": "markdown",
   "metadata": {},
   "source": [
    "Liste des attributs : https://geocatalogue.apur.org/catalogue/srv/fre/catalog.search#/metadata/urn:apur:potentiel_gisement_solaire_brut_au_bati"
   ]
  },
  {
   "cell_type": "code",
   "execution_count": null,
   "metadata": {},
   "outputs": [],
   "source": [
    "# the specific school's data\n",
    "school_data = school_solar.iloc[0]\n",
    "\n",
    "print(\"Solar Potential Analysis for:\", ecole.iloc[0].nom_etablissement)\n",
    "print(\"-\" * 50)\n",
    "\n",
    "# building information\n",
    "print(\"\\nBuilding Surface Areas:\")\n",
    "print(f\"Total roof surface: {school_data['m2_e_tot']:.0f} m²\")\n",
    "print(\"\\nBreakdown by solar radiation level:\")\n",
    "print(f\"- Excellent (>1000 kWh/m²/year): {school_data['m2_e_s1000']:.0f} m²\")\n",
    "print(f\"- Very Good (900-1000 kWh/m²/year): {school_data['m2_e_90_10']:.0f} m²\")\n",
    "print(f\"- Good (800-900 kWh/m²/year): {school_data['m2_e_80_90']:.0f} m²\")\n",
    "print(f\"- Moderate (700-800 kWh/m²/year): {school_data['m2_e_70_80']:.0f} m²\")\n",
    "print(f\"- Limited (<700 kWh/m²/year): {school_data['m2_e_in700']:.0f} m²\")\n",
    "\n",
    "print(\"\\nAverage Solar Radiation:\")\n",
    "print(f\"Mean radiation: {school_data['c_ens_moy']:.0f} kWh/m²/year\")\n",
    "\n",
    "# geometric information\n",
    "print(\"\\nGeometric Information:\")\n",
    "print(f\"Building perimeter: {school_data['shape_leng']:.0f} meters\")\n",
    "print(f\"Building footprint area: {school_data['shape_area']:.0f} m²\")\n",
    "\n",
    "# location information\n",
    "print(\"\\nLocation Information:\")\n",
    "print(f\"Municipality code: {school_data['c_cainsee']:.0f}\")\n",
    "print(f\"Building ID: {school_data['n_sq_eb']:.0f}\")\n",
    "print(f\"Original Building ID: {school_data['n_sq_eb_or']:.0f}\")\n",
    "\n",
    "# calculate a metric\n",
    "# TODO: This is not exhaustive, maybe we can also take into account very good and good radiations levels ?\n",
    "if school_data['m2_e_tot'] > 0:\n",
    "    optimal_percentage = (school_data['m2_e_s1000'] / school_data['m2_e_tot']) * 100\n",
    "    print(\"\\nDerived Metrics:\")\n",
    "    print(f\"Percentage of optimal solar surface: {optimal_percentage:.1f}%\")"
   ]
  }
 ],
 "metadata": {
  "kernelspec": {
   "display_name": ".venv",
   "language": "python",
   "name": "python3"
  },
  "language_info": {
   "codemirror_mode": {
    "name": "ipython",
    "version": 3
   },
   "file_extension": ".py",
   "mimetype": "text/x-python",
   "name": "python",
   "nbconvert_exporter": "python",
   "pygments_lexer": "ipython3",
   "version": "3.11.0"
  }
 },
 "nbformat": 4,
 "nbformat_minor": 2
}
