{
 "cells": [
  {
   "cell_type": "markdown",
   "metadata": {},
   "source": [
    "# Telechargement de la tuile MNS\n",
    "Ne fonctionne pas encore\n",
    "\n",
    "Je pense que le bon flux est Service d'images WMS-Raster, car le flux Service d'images tuilées WMTS renvoie des 404 des qu'on definit TILEMATRIX>6."
   ]
  },
  {
   "cell_type": "code",
   "execution_count": 3,
   "metadata": {},
   "outputs": [],
   "source": [
    "import numpy as np"
   ]
  },
  {
   "cell_type": "code",
   "execution_count": 4,
   "metadata": {},
   "outputs": [
    {
     "ename": "NameError",
     "evalue": "name 'example' is not defined",
     "output_type": "error",
     "traceback": [
      "\u001b[0;31m---------------------------------------------------------------------------\u001b[0m",
      "\u001b[0;31mNameError\u001b[0m                                 Traceback (most recent call last)",
      "Cell \u001b[0;32mIn[4], line 11\u001b[0m\n\u001b[1;32m      9\u001b[0m FORMAT \u001b[38;5;241m=\u001b[39m \u001b[38;5;124m\"\u001b[39m\u001b[38;5;124mimage/x-bil;bits=32\u001b[39m\u001b[38;5;124m\"\u001b[39m\n\u001b[1;32m     10\u001b[0m CRS \u001b[38;5;241m=\u001b[39m \u001b[38;5;124m\"\u001b[39m\u001b[38;5;124mIGNF:WGS84G\u001b[39m\u001b[38;5;124m\"\u001b[39m\n\u001b[0;32m---> 11\u001b[0m Xmin,Ymin,Xmax,Ymax \u001b[38;5;241m=\u001b[39m np\u001b[38;5;241m.\u001b[39mrint(\u001b[43mexample\u001b[49m\u001b[38;5;241m.\u001b[39mgeometry\u001b[38;5;241m.\u001b[39mtotal_bounds)\n\u001b[1;32m     12\u001b[0m WIDTH \u001b[38;5;241m=\u001b[39m \u001b[38;5;241m1000\u001b[39m\n\u001b[1;32m     13\u001b[0m HEIGHT\u001b[38;5;241m=\u001b[39m \u001b[38;5;241m1000\u001b[39m\n",
      "\u001b[0;31mNameError\u001b[0m: name 'example' is not defined"
     ]
    }
   ],
   "source": [
    "# Trying to get the same tile as in first example in the Service d'images WMS-Raster, where i can use the informations from example.geometry.total_bounds to find the same tile\n",
    "# Naively chose 1000*1000 dmensions as tiles in the zipped dataset are 1000*1000\n",
    "# XML description here https://data.geopf.fr/wmts?SERVICE=WMTS&VERSION=1.0.0&REQUEST=GetCapabilities\n",
    "\n",
    "import requests\n",
    "from rasterio.io import MemoryFile\n",
    "\n",
    "LAYER = \"ELEVATION.ELEVATIONGRIDCOVERAGE.HIGHRES.MNS\"\n",
    "FORMAT = \"image/x-bil;bits=32\"\n",
    "CRS = \"IGNF:WGS84G\"\n",
    "Xmin,Ymin,Xmax,Ymax = np.rint(example.geometry.total_bounds)\n",
    "WIDTH = 1000\n",
    "HEIGHT= 1000\n",
    "\n",
    "REQUEST = f\"https://data.geopf.fr/wms-r?LAYERS={LAYER}&FORMAT={FORMAT}&SERVICE=WMS&VERSION=1.3.0&REQUEST=GetMap&STYLES=&CRS={CRS}&BBOX={Xmin},{Ymin},{Xmax},{Ymax}&WIDTH={WIDTH}&HEIGHT={HEIGHT}\"\n",
    "\n",
    "response = requests.get(REQUEST)\n",
    "print(response)\n",
    "if response != 200:\n",
    "    print(response.content[:100])\n",
    "    # with MemoryFile(response.content) as memfile:\n",
    "    #     with memfile.open() as dataset:\n",
    "    #         data_array = dataset.read()"
   ]
  },
  {
   "cell_type": "code",
   "execution_count": null,
   "metadata": {},
   "outputs": [],
   "source": [
    "# Tried to get the same tile as first example in the Service d'images tuilées WMTS, but i don't understand how to define TILEMATRIX, TILEROW, TILECOL to get the same tile.\n",
    "# Also the XML at https://data.geopf.fr/wmts?SERVICE=WMTS&VERSION=1.0.0&REQUEST=GetCapabilities gives the ranges of TILEROW, TILECOL for each TILEMATRIX, but on TILEMATRIX>6, i get 404 errors.\n",
    "geome = example.geometry.total_bounds\n",
    "A = \"0\"+str(int(geome[0]//1000))\n",
    "B = str(int(geome[1]//1000)+1)\n",
    "tile = \"/MNS-Correl_1-0__TIFF_LAMB93_D093_2024-01-01/MNS-Correl/1_DONNEES_LIVRAISON_2024-11-00179/MNS-C_0M50_TIF_LAMB93_D93-2024/93-2024-\"+A+\"-\"+B+\"-LA93-0M50.tif\"\n",
    "\n",
    "\n",
    "LAYER = \"ELEVATION.ELEVATIONGRIDCOVERAGE.HIGHRES.MNS\"\n",
    "STYLE = \"normal\" #le style de rendu à appliquer)\n",
    "FORMAT = \"image/x-bil;bits=32\"\n",
    "TILEMATRIXSET = \"WGS84G_4_17\" #le nom de la pyramide d’images\n",
    "TILEMATRIX = 4 #le nom de la matrice qui contient la tuile\n",
    "TILEROW = 3 #le numéro de ligne du coin supérieur gauche de la tuile\n",
    "TILECOL = 10 #le numéro de colonne du coin supérieur gauche de la tuile\n",
    "\n",
    "REQUEST = f\"https://data.geopf.fr/wmts?SERVICE=WMTS&REQUEST=GetTile&VERSION=1.0.0&LAYER={LAYER}&STYLE={STYLE}&FORMAT={FORMAT}&TILEMATRIXSET={TILEMATRIXSET}&TILEMATRIX={TILEMATRIX}&TILEROW={TILEROW}&TILECOL={TILECOL}\"\n",
    "\n",
    "url = \"https://data.geopf.fr/wmts?SERVICE=WMTS&VERSION=1.0.0&REQUEST=GetCapabilities\"\n",
    "response = requests.get(REQUEST)\n",
    "print(response)\n",
    "if response != 200:\n",
    "    print(response.content)"
   ]
  }
 ],
 "metadata": {
  "kernelspec": {
   "display_name": "Python 3 (ipykernel)",
   "language": "python",
   "name": "python3"
  },
  "language_info": {
   "codemirror_mode": {
    "name": "ipython",
    "version": 3
   },
   "file_extension": ".py",
   "mimetype": "text/x-python",
   "name": "python",
   "nbconvert_exporter": "python",
   "pygments_lexer": "ipython3",
   "version": "3.11.7"
  }
 },
 "nbformat": 4,
 "nbformat_minor": 4
}
