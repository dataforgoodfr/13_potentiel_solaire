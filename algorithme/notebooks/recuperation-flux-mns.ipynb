{
 "cells": [
  {
   "cell_type": "markdown",
   "metadata": {},
   "source": [
    "# Telechargement de la tuile MNS\n",
    "Ne fonctionne pas encore\n",
    "\n",
    "Je pense que le bon flux est Service d'images WMS-Raster, car le flux Service d'images tuilées WMTS renvoie des 404 des qu'on definit TILEMATRIX>6."
   ]
  },
  {
   "cell_type": "code",
   "execution_count": null,
   "metadata": {},
   "outputs": [],
   "source": [
    "# Trying to get the same tile as in first example in the Service d'images WMS-Raster, where i can use the informations from example.geometry.total_bounds to find the same tile\n",
    "# Naively chose 1000*1000 dmensions as tiles in the zipped dataset are 1000*1000\n",
    "# XML description here https://data.geopf.fr/wmts?SERVICE=WMTS&VERSION=1.0.0&REQUEST=GetCapabilities\n",
    "\n",
    "import requests\n",
    "from rasterio.io import MemoryFile\n",
    "\n",
    "LAYER = \"ELEVATION.ELEVATIONGRIDCOVERAGE.HIGHRES.MNS\"\n",
    "FORMAT = \"image/x-bil;bits=32\"\n",
    "CRS = \"IGNF:WGS84G\"\n",
    "Xmin,Ymin,Xmax,Ymax = np.rint(example.geometry.total_bounds)\n",
    "WIDTH = 1000\n",
    "HEIGHT= 1000\n",
    "\n",
    "REQUEST = f\"https://data.geopf.fr/wms-r?LAYERS={LAYER}&FORMAT={FORMAT}&SERVICE=WMS&VERSION=1.3.0&REQUEST=GetMap&STYLES=&CRS={CRS}&BBOX={Xmin},{Ymin},{Xmax},{Ymax}&WIDTH={WIDTH}&HEIGHT={HEIGHT}\"\n",
    "\n",
    "response = requests.get(REQUEST)\n",
    "print(response)\n",
    "if response != 200:\n",
    "    print(response.content[:100])\n",
    "    # with MemoryFile(response.content) as memfile:\n",
    "    #     with memfile.open() as dataset:\n",
    "    #         data_array = dataset.read()"
   ]
  },
  {
   "cell_type": "code",
   "execution_count": null,
   "metadata": {},
   "outputs": [],
   "source": [
    "# Tried to get the same tile as first example in the Service d'images tuilées WMTS, but i don't understand how to define TILEMATRIX, TILEROW, TILECOL to get the same tile.\n",
    "# Also the XML at https://data.geopf.fr/wmts?SERVICE=WMTS&VERSION=1.0.0&REQUEST=GetCapabilities gives the ranges of TILEROW, TILECOL for each TILEMATRIX, but on TILEMATRIX>6, i get 404 errors.\n",
    "geome = example.geometry.total_bounds\n",
    "A = \"0\"+str(int(geome[0]//1000))\n",
    "B = str(int(geome[1]//1000)+1)\n",
    "tile = \"/MNS-Correl_1-0__TIFF_LAMB93_D093_2024-01-01/MNS-Correl/1_DONNEES_LIVRAISON_2024-11-00179/MNS-C_0M50_TIF_LAMB93_D93-2024/93-2024-\"+A+\"-\"+B+\"-LA93-0M50.tif\"\n",
    "\n",
    "\n",
    "LAYER = \"ELEVATION.ELEVATIONGRIDCOVERAGE.HIGHRES.MNS\"\n",
    "STYLE = \"normal\" #le style de rendu à appliquer)\n",
    "FORMAT = \"image/x-bil;bits=32\"\n",
    "TILEMATRIXSET = \"WGS84G_4_17\" #le nom de la pyramide d’images\n",
    "TILEMATRIX = 4 #le nom de la matrice qui contient la tuile\n",
    "TILEROW = 3 #le numéro de ligne du coin supérieur gauche de la tuile\n",
    "TILECOL = 10 #le numéro de colonne du coin supérieur gauche de la tuile\n",
    "\n",
    "REQUEST = f\"https://data.geopf.fr/wmts?SERVICE=WMTS&REQUEST=GetTile&VERSION=1.0.0&LAYER={LAYER}&STYLE={STYLE}&FORMAT={FORMAT}&TILEMATRIXSET={TILEMATRIXSET}&TILEMATRIX={TILEMATRIX}&TILEROW={TILEROW}&TILECOL={TILECOL}\"\n",
    "\n",
    "url = \"https://data.geopf.fr/wmts?SERVICE=WMTS&VERSION=1.0.0&REQUEST=GetCapabilities\"\n",
    "response = requests.get(REQUEST)\n",
    "print(response)\n",
    "if response != 200:\n",
    "    print(response.content)"
   ]
  }
 ],
 "metadata": {
  "language_info": {
   "name": "python"
  }
 },
 "nbformat": 4,
 "nbformat_minor": 2
}
