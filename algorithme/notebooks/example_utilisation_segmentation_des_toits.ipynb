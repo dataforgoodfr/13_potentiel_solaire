{
 "cells": [
  {
   "cell_type": "code",
   "id": "initial_id",
   "metadata": {
    "collapsed": true
   },
   "source": [
    "import geopandas as gpd\n",
    "import matplotlib.pyplot as plt\n",
    "from rasterio.plot import show\n",
    "\n",
    "from potentiel_solaire.sources.bd_topo import extract_bd_topo, get_topo_buildings_of_interest\n",
    "from potentiel_solaire.features.roof_attributes import recuperation_mnh, segmentation_toits"
   ],
   "outputs": [],
   "execution_count": null
  },
  {
   "metadata": {},
   "cell_type": "code",
   "source": [
    "code_departement = \"093\"\n",
    "\n",
    "bd_topo_path = extract_bd_topo(code_departement=code_departement)\n",
    "\n",
    "communes = gpd.read_file(bd_topo_path, layer=\"commune\").to_crs(2154)\n",
    "geom_of_interest = communes.dissolve()[[\"geometry\"]]\n",
    "\n",
    "buildings = get_topo_buildings_of_interest(\n",
    "    bd_topo_path=bd_topo_path,\n",
    "    geom_of_interest=geom_of_interest,\n",
    "    crs=2154\n",
    ")\n",
    "\n",
    "building = buildings.sample()"
   ],
   "id": "5d0ad33b9917b196",
   "outputs": [],
   "execution_count": null
  },
  {
   "metadata": {},
   "cell_type": "code",
   "source": [
    "mnh = recuperation_mnh(building)\n",
    "\n",
    "fig, ax = plt.subplots(figsize=(10,10))\n",
    "\n",
    "show(mnh, ax=ax)"
   ],
   "id": "bd044fa6e5d5cbed",
   "outputs": [],
   "execution_count": null
  },
  {
   "metadata": {},
   "cell_type": "code",
   "source": "segmentation_toits(mnh)",
   "id": "885970665dc9ab12",
   "outputs": [],
   "execution_count": null
  }
 ],
 "metadata": {
  "kernelspec": {
   "display_name": "Python 3",
   "language": "python",
   "name": "python3"
  },
  "language_info": {
   "codemirror_mode": {
    "name": "ipython",
    "version": 2
   },
   "file_extension": ".py",
   "mimetype": "text/x-python",
   "name": "python",
   "nbconvert_exporter": "python",
   "pygments_lexer": "ipython2",
   "version": "2.7.6"
  }
 },
 "nbformat": 4,
 "nbformat_minor": 5
}
