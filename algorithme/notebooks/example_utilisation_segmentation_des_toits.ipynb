{
 "cells": [
  {
   "cell_type": "markdown",
   "id": "1f86d9d4",
   "metadata": {},
   "source": [
    "## Imports"
   ]
  },
  {
   "cell_type": "code",
   "execution_count": null,
   "id": "initial_id",
   "metadata": {
    "collapsed": true
   },
   "outputs": [],
   "source": [
    "import geopandas as gpd\n",
    "import matplotlib.pyplot as plt\n",
    "\n",
    "from rasterio.plot import show\n",
    "\n",
    "from potentiel_solaire.constants import RESULTS_FOLDER\n",
    "from potentiel_solaire.features.roof_attributes import recuperation_mns, segmentation_toits"
   ]
  },
  {
   "cell_type": "markdown",
   "id": "9f6bd6f4",
   "metadata": {},
   "source": [
    "## Récupération du batiment"
   ]
  },
  {
   "cell_type": "code",
   "execution_count": null,
   "id": "5d0ad33b9917b196",
   "metadata": {},
   "outputs": [],
   "source": [
    "priotirized_schools_buildings = gpd.read_file(RESULTS_FOLDER / \"priotirized_schools_buildings.gpkg\")\n",
    "\n",
    "building = priotirized_schools_buildings[priotirized_schools_buildings[\"cleabs_bat\"] == \"BATIMENT0000000224615901\"]\n",
    "\n",
    "building.iloc[0]"
   ]
  },
  {
   "cell_type": "code",
   "execution_count": null,
   "id": "ac3fcca3",
   "metadata": {},
   "outputs": [],
   "source": [
    "def show_raster(raster, **kwargs):\n",
    "    \"\"\"Show a raster with matplotlib.\"\"\"\n",
    "    fig, ax = plt.subplots(figsize=(12, 12))\n",
    "    # Show the raster and add a colorbar to the plot\n",
    "    img = show(raster, ax=ax, **kwargs)\n",
    "    fig.colorbar(img.get_images()[0], ax=ax)"
   ]
  },
  {
   "cell_type": "markdown",
   "id": "fa8b6815",
   "metadata": {},
   "source": [
    "## MNS du batiment"
   ]
  },
  {
   "cell_type": "code",
   "execution_count": null,
   "id": "bd044fa6e5d5cbed",
   "metadata": {},
   "outputs": [],
   "source": [
    "mns = recuperation_mns(building)\n",
    "\n",
    "min_mns = mns[mns > -10].min()\n",
    "max_mns = mns[mns > -10].max()\n",
    "\n",
    "show_raster(mns, cmap=\"viridis\", vmin=min_mns, vmax=max_mns)"
   ]
  },
  {
   "cell_type": "markdown",
   "id": "65db5199",
   "metadata": {},
   "source": [
    "## Segmentation du toit du batiment"
   ]
  },
  {
   "cell_type": "code",
   "execution_count": null,
   "id": "885970665dc9ab12",
   "metadata": {},
   "outputs": [],
   "source": [
    "final_segment_toiture, slope_filtered, azimut_filtered = segmentation_toits(data=mns, debug=True)\n",
    "final_segment_toiture"
   ]
  },
  {
   "cell_type": "markdown",
   "id": "5ab3b56a",
   "metadata": {},
   "source": [
    "### Pente"
   ]
  },
  {
   "cell_type": "code",
   "execution_count": null,
   "id": "8ce4e0da",
   "metadata": {},
   "outputs": [],
   "source": [
    "show_raster(slope_filtered, cmap=\"viridis\")"
   ]
  },
  {
   "cell_type": "markdown",
   "id": "caa5e5f0",
   "metadata": {},
   "source": [
    "### Orientation"
   ]
  },
  {
   "cell_type": "code",
   "execution_count": null,
   "id": "59e651d4",
   "metadata": {},
   "outputs": [],
   "source": [
    "show_raster(azimut_filtered, cmap=\"viridis\")"
   ]
  }
 ],
 "metadata": {
  "kernelspec": {
   "display_name": "potentiel-solaire-py3.11",
   "language": "python",
   "name": "python3"
  },
  "language_info": {
   "codemirror_mode": {
    "name": "ipython",
    "version": 3
   },
   "file_extension": ".py",
   "mimetype": "text/x-python",
   "name": "python",
   "nbconvert_exporter": "python",
   "pygments_lexer": "ipython3",
   "version": "3.11.9"
  }
 },
 "nbformat": 4,
 "nbformat_minor": 5
}
