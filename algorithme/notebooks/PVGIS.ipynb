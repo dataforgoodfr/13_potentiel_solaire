{
 "cells": [
  {
   "cell_type": "code",
   "execution_count": 1,
   "id": "828bd87b",
   "metadata": {},
   "outputs": [],
   "source": [
    "import os, csv, json, requests\n",
    "import glob\n",
    "import pandas as pd\n",
    "import numpy as np\n",
    "from datetime import date"
   ]
  },
  {
   "cell_type": "markdown",
   "id": "30d90714",
   "metadata": {},
   "source": [
    "### API DOC"
   ]
  },
  {
   "cell_type": "markdown",
   "id": "6ec5e17b",
   "metadata": {},
   "source": [
    "https://joint-research-centre.ec.europa.eu/photovoltaic-geographical-information-system-pvgis/getting-started-pvgis/api-non-interactive-service_en"
   ]
  },
  {
   "cell_type": "markdown",
   "id": "5e8ce3b9",
   "metadata": {},
   "source": [
    "### PARAMETERS"
   ]
  },
  {
   "cell_type": "code",
   "execution_count": 2,
   "id": "6963b869",
   "metadata": {},
   "outputs": [],
   "source": [
    "pvgis_params = dict(\n",
    "    lat = 48.890751,\n",
    "    lon = 2.405467,\n",
    "    angle = 36,\n",
    "    aspect = 0, # azimuth\n",
    "    peakpower=1,\n",
    "    loss=20,\n",
    "    fixed=1,\n",
    "    mountingplace='building',\n",
    "    outputformat = 'json',\n",
    ")"
   ]
  },
  {
   "cell_type": "markdown",
   "id": "3e0c34f4",
   "metadata": {},
   "source": [
    "### API EXAMPLE"
   ]
  },
  {
   "cell_type": "code",
   "execution_count": 3,
   "id": "11de1680",
   "metadata": {},
   "outputs": [],
   "source": [
    "url_base = f\"https://re.jrc.ec.europa.eu/api/v5_2/PVcalc?\""
   ]
  },
  {
   "cell_type": "code",
   "execution_count": 4,
   "id": "e3a22af7",
   "metadata": {},
   "outputs": [],
   "source": [
    "params = \"&\".join([f'{key}={value}' for key, value in pvgis_params.items()])"
   ]
  },
  {
   "cell_type": "code",
   "execution_count": 5,
   "id": "f6af1eb4",
   "metadata": {},
   "outputs": [],
   "source": [
    "url = f'{url_base}&{params}'"
   ]
  },
  {
   "cell_type": "code",
   "execution_count": 7,
   "id": "0fefa384",
   "metadata": {},
   "outputs": [],
   "source": [
    "response = requests.get(url)\n",
    "row_json = json.loads(response.text)"
   ]
  },
  {
   "cell_type": "code",
   "execution_count": 9,
   "id": "91ca0ac4",
   "metadata": {},
   "outputs": [
    {
     "data": {
      "text/plain": [
       "{'inputs': {'location': {'latitude': 48.890751,\n",
       "   'longitude': 2.405467,\n",
       "   'elevation': 65.0},\n",
       "  'meteo_data': {'radiation_db': 'PVGIS-SARAH2',\n",
       "   'meteo_db': 'ERA5',\n",
       "   'year_min': 2005,\n",
       "   'year_max': 2020,\n",
       "   'use_horizon': True,\n",
       "   'horizon_db': 'DEM-calculated'},\n",
       "  'mounting_system': {'fixed': {'slope': {'value': 36, 'optimal': False},\n",
       "    'azimuth': {'value': 0, 'optimal': False},\n",
       "    'type': 'building-integrated'}},\n",
       "  'pv_module': {'technology': 'c-Si', 'peak_power': 1.0, 'system_loss': 20.0},\n",
       "  'economic_data': {'system_cost': None, 'interest': None, 'lifetime': None}},\n",
       " 'outputs': {'monthly': {'fixed': [{'month': 1,\n",
       "     'E_d': 1.29,\n",
       "     'E_m': 39.92,\n",
       "     'H(i)_d': 1.66,\n",
       "     'H(i)_m': 51.41,\n",
       "     'SD_m': 6.76},\n",
       "    {'month': 2,\n",
       "     'E_d': 2.02,\n",
       "     'E_m': 56.5,\n",
       "     'H(i)_d': 2.63,\n",
       "     'H(i)_m': 73.65,\n",
       "     'SD_m': 13.65},\n",
       "    {'month': 3,\n",
       "     'E_d': 2.88,\n",
       "     'E_m': 89.21,\n",
       "     'H(i)_d': 3.87,\n",
       "     'H(i)_m': 120.0,\n",
       "     'SD_m': 14.08},\n",
       "    {'month': 4,\n",
       "     'E_d': 3.8,\n",
       "     'E_m': 113.98,\n",
       "     'H(i)_d': 5.29,\n",
       "     'H(i)_m': 158.81,\n",
       "     'SD_m': 16.37},\n",
       "    {'month': 5,\n",
       "     'E_d': 3.68,\n",
       "     'E_m': 114.19,\n",
       "     'H(i)_d': 5.17,\n",
       "     'H(i)_m': 160.41,\n",
       "     'SD_m': 16.87},\n",
       "    {'month': 6,\n",
       "     'E_d': 3.85,\n",
       "     'E_m': 115.38,\n",
       "     'H(i)_d': 5.53,\n",
       "     'H(i)_m': 165.76,\n",
       "     'SD_m': 14.4},\n",
       "    {'month': 7,\n",
       "     'E_d': 3.84,\n",
       "     'E_m': 118.98,\n",
       "     'H(i)_d': 5.61,\n",
       "     'H(i)_m': 173.97,\n",
       "     'SD_m': 12.97},\n",
       "    {'month': 8,\n",
       "     'E_d': 3.59,\n",
       "     'E_m': 111.21,\n",
       "     'H(i)_d': 5.19,\n",
       "     'H(i)_m': 160.89,\n",
       "     'SD_m': 9.81},\n",
       "    {'month': 9,\n",
       "     'E_d': 3.29,\n",
       "     'E_m': 98.67,\n",
       "     'H(i)_d': 4.65,\n",
       "     'H(i)_m': 139.45,\n",
       "     'SD_m': 8.18},\n",
       "    {'month': 10,\n",
       "     'E_d': 2.29,\n",
       "     'E_m': 70.92,\n",
       "     'H(i)_d': 3.11,\n",
       "     'H(i)_m': 96.38,\n",
       "     'SD_m': 8.68},\n",
       "    {'month': 11,\n",
       "     'E_d': 1.55,\n",
       "     'E_m': 46.55,\n",
       "     'H(i)_d': 2.04,\n",
       "     'H(i)_m': 61.12,\n",
       "     'SD_m': 8.01},\n",
       "    {'month': 12,\n",
       "     'E_d': 1.3,\n",
       "     'E_m': 40.42,\n",
       "     'H(i)_d': 1.69,\n",
       "     'H(i)_m': 52.32,\n",
       "     'SD_m': 9.62}]},\n",
       "  'totals': {'fixed': {'E_d': 2.78,\n",
       "    'E_m': 84.66,\n",
       "    'E_y': 1015.94,\n",
       "    'H(i)_d': 3.87,\n",
       "    'H(i)_m': 117.85,\n",
       "    'H(i)_y': 1414.19,\n",
       "    'SD_m': 3.38,\n",
       "    'SD_y': 40.51,\n",
       "    'l_aoi': -2.99,\n",
       "    'l_spec': '1.65',\n",
       "    'l_tg': -8.94,\n",
       "    'l_total': -28.16}}},\n",
       " 'meta': {'inputs': {'location': {'description': 'Selected location',\n",
       "    'variables': {'latitude': {'description': 'Latitude',\n",
       "      'units': 'decimal degree'},\n",
       "     'longitude': {'description': 'Longitude', 'units': 'decimal degree'},\n",
       "     'elevation': {'description': 'Elevation', 'units': 'm'}}},\n",
       "   'meteo_data': {'description': 'Sources of meteorological data',\n",
       "    'variables': {'radiation_db': {'description': 'Solar radiation database'},\n",
       "     'meteo_db': {'description': 'Database used for meteorological variables other than solar radiation'},\n",
       "     'year_min': {'description': 'First year of the calculations'},\n",
       "     'year_max': {'description': 'Last year of the calculations'},\n",
       "     'use_horizon': {'description': 'Include horizon shadows'},\n",
       "     'horizon_db': {'description': 'Source of horizon data'}}},\n",
       "   'mounting_system': {'description': 'Mounting system',\n",
       "    'choices': 'fixed, vertical_axis, inclined_axis, two_axis',\n",
       "    'fields': {'slope': {'description': 'Inclination angle from the horizontal plane',\n",
       "      'units': 'degree'},\n",
       "     'azimuth': {'description': 'Orientation (azimuth) angle of the (fixed) PV system (0 = S, 90 = W, -90 = E)',\n",
       "      'units': 'degree'}}},\n",
       "   'pv_module': {'description': 'PV module parameters',\n",
       "    'variables': {'technology': {'description': 'PV technology'},\n",
       "     'peak_power': {'description': 'Nominal (peak) power of the PV module',\n",
       "      'units': 'kW'},\n",
       "     'system_loss': {'description': 'Sum of system losses', 'units': '%'}}},\n",
       "   'economic_data': {'description': 'Economic inputs',\n",
       "    'variables': {'system_cost': {'description': 'Total cost of the PV system',\n",
       "      'units': 'user-defined currency'},\n",
       "     'interest': {'description': 'Annual interest', 'units': '%/y'},\n",
       "     'lifetime': {'description': 'Expected lifetime of the PV system',\n",
       "      'units': 'y'}}}},\n",
       "  'outputs': {'monthly': {'type': 'time series',\n",
       "    'timestamp': 'monthly averages',\n",
       "    'variables': {'E_d': {'description': 'Average daily energy production from the given system',\n",
       "      'units': 'kWh/d'},\n",
       "     'E_m': {'description': 'Average monthly energy production from the given system',\n",
       "      'units': 'kWh/mo'},\n",
       "     'H(i)_d': {'description': 'Average daily sum of global irradiation per square meter received by the modules of the given system',\n",
       "      'units': 'kWh/m2/d'},\n",
       "     'H(i)_m': {'description': 'Average monthly sum of global irradiation per square meter received by the modules of the given system',\n",
       "      'units': 'kWh/m2/mo'},\n",
       "     'SD_m': {'description': 'Standard deviation of the monthly energy production due to year-to-year variation',\n",
       "      'units': 'kWh'}}},\n",
       "   'totals': {'type': 'time series totals',\n",
       "    'variables': {'E_d': {'description': 'Average daily energy production from the given system',\n",
       "      'units': 'kWh/d'},\n",
       "     'E_m': {'description': 'Average monthly energy production from the given system',\n",
       "      'units': 'kWh/mo'},\n",
       "     'E_y': {'description': 'Average annual energy production from the given system',\n",
       "      'units': 'kWh/y'},\n",
       "     'H(i)_d': {'description': 'Average daily sum of global irradiation per square meter received by the modules of the given system',\n",
       "      'units': 'kWh/m2/d'},\n",
       "     'H(i)_m': {'description': 'Average monthly sum of global irradiation per square meter received by the modules of the given system',\n",
       "      'units': 'kWh/m2/mo'},\n",
       "     'H(i)_y': {'description': 'Average annual sum of global irradiation per square meter received by the modules of the given system',\n",
       "      'units': 'kWh/m2/y'},\n",
       "     'SD_m': {'description': 'Standard deviation of the monthly energy production due to year-to-year variation',\n",
       "      'units': 'kWh'},\n",
       "     'SD_y': {'description': 'Standard deviation of the annual energy production due to year-to-year variation',\n",
       "      'units': 'kWh'},\n",
       "     'l_aoi': {'description': 'Angle of incidence loss', 'units': '%'},\n",
       "     'l_spec': {'description': 'Spectral loss', 'units': '%'},\n",
       "     'l_tg': {'description': 'Temperature and irradiance loss', 'units': '%'},\n",
       "     'l_total': {'description': 'Total loss', 'units': '%'}}}}}}"
      ]
     },
     "execution_count": 9,
     "metadata": {},
     "output_type": "execute_result"
    }
   ],
   "source": [
    "row_json"
   ]
  },
  {
   "cell_type": "markdown",
   "id": "3ceaad07",
   "metadata": {},
   "source": [
    "E_d: Average daily energy production from the given system (kWh/d)\n",
    "\n",
    "E_m: Average monthly energy production from the given system (kWh/mo)\n",
    "\n",
    "H(i)_d: Average daily sum of global irradiation per square meter received by the modules of the given system (kWh/m2/d)\n",
    "\n",
    "H(i)_m: Average monthly sum of global irradiation per square meter received by the modules of the given system (kWh/m2/mo)\n",
    "\n",
    "SD_m: Standard deviation of the monthly energy production due to year-to-year variation (kWh)"
   ]
  }
 ],
 "metadata": {
  "kernelspec": {
   "display_name": "Python 3 (ipykernel)",
   "language": "python",
   "name": "python3"
  },
  "language_info": {
   "codemirror_mode": {
    "name": "ipython",
    "version": 3
   },
   "file_extension": ".py",
   "mimetype": "text/x-python",
   "name": "python",
   "nbconvert_exporter": "python",
   "pygments_lexer": "ipython3",
   "version": "3.11.11"
  }
 },
 "nbformat": 4,
 "nbformat_minor": 5
}
