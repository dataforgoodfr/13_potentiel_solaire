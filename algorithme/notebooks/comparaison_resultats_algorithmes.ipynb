{
 "cells": [
  {
   "cell_type": "markdown",
   "id": "89624ed5",
   "metadata": {},
   "source": [
    "## Imports"
   ]
  },
  {
   "cell_type": "code",
   "execution_count": null,
   "id": "4b3317c5",
   "metadata": {},
   "outputs": [],
   "source": [
    "import pandas as pd\n",
    "import geopandas as gpd\n",
    "import matplotlib.pyplot as plt\n",
    "\n",
    "from sklearn.linear_model import LinearRegression\n",
    "\n",
    "from potentiel_solaire.constants import RESULTS_FOLDER, DATA_FOLDER\n",
    "from potentiel_solaire.sources.utils import download_file"
   ]
  },
  {
   "cell_type": "markdown",
   "id": "b98ce3a8",
   "metadata": {},
   "source": [
    "## Récupération des résultats des deux methodes"
   ]
  },
  {
   "cell_type": "code",
   "execution_count": null,
   "id": "56fca115",
   "metadata": {},
   "outputs": [],
   "source": [
    "results_with_simplified_method = gpd.read_file(RESULTS_FOLDER / \"priotirized_schools_buildings.gpkg\", layer=\"results_with_simplified_method\")\n",
    "results_with_segmentation = pd.read_csv(RESULTS_FOLDER / \"roof_segments_potential.csv\").rename(columns={\"surface\": \"roof_surface\"})\n",
    "\n",
    "# Identification des toits plats\n",
    "results_with_segmentation[\"is_flat\"] = results_with_segmentation[\"slope_bin_min\"] == 0\n",
    "\n",
    "# Calcule de la surface de toit plat\n",
    "results_with_segmentation[\"flat_roof_surface\"] = results_with_segmentation[\"roof_surface\"].where(\n",
    "    results_with_segmentation[\"is_flat\"], 0\n",
    ")\n",
    "\n",
    "# Calcul de la surface utile (methode par segmentation) en utilisant la meme definition que IDF\n",
    "# Surface présentant une irradiation suffisante > 900 kWh/m².an et n’ayant pas d’obstacle (cheminée, velux, aération…)\n",
    "results_with_segmentation[\"utility_surface\"] = results_with_segmentation[\"roof_surface\"].where(\n",
    "    results_with_segmentation[\"solar_irradiation\"] > 900, 0\n",
    ")\n",
    "\n",
    "# Calcul du potentiel solaire en ne prenant que les segments avec surface utile > 0\n",
    "results_with_segmentation[\"solar_potential\"] = results_with_segmentation[\"solar_potential\"].where(\n",
    "    results_with_segmentation[\"utility_surface\"] > 0, 0\n",
    ")\n",
    "\n",
    "# Synthese des resultats de la methode avec segmentation au niveau des batiments\n",
    "results_with_segmented_roofs = results_with_segmentation.groupby(by=\"cleabs_bat\").agg(\n",
    "    roof_surface=(\"roof_surface\", \"sum\"),  # methode avec segmentation (MNS)\n",
    "    flat_roof_surface=(\"flat_roof_surface\", \"sum\"),  # methode avec segmentation (MNS)\n",
    "    utility_surface=(\"utility_surface\", \"sum\"),  # methode avec segmentation (MNS)\n",
    "    solar_potential=(\"solar_potential\", \"sum\"),  # methode avec segmentation (MNS)\n",
    ").reset_index()\n",
    "\n",
    "# Comparaison des resultats entre les deux methodes\n",
    "results_comparison_buildings = pd.merge(\n",
    "    results_with_simplified_method[[\"code_region\", \"code_departement\", \"identifiant_de_l_etablissement\", \"cleabs_bat\", \"surface_totale_au_sol\", \"surface_utile\", \"potentiel_solaire\"]],\n",
    "    results_with_segmented_roofs[[\"cleabs_bat\", \"roof_surface\", \"flat_roof_surface\", \"utility_surface\", \"solar_potential\"]],\n",
    "    on=\"cleabs_bat\",\n",
    ")\n",
    "\n",
    "# Synthese des resultats des deux methodes a l echelle des etablissements\n",
    "results_comparison_schools = results_comparison_buildings.groupby(\"identifiant_de_l_etablissement\").agg(\n",
    "    surface_totale_au_sol=(\"surface_totale_au_sol\", \"sum\"),  # methode simplifiée\n",
    "    surface_utile=(\"surface_utile\", \"sum\"),  # methode simplifiée\n",
    "    potentiel_solaire=(\"potentiel_solaire\", \"sum\"),  # methode simplifiée\n",
    "    roof_surface=(\"roof_surface\", \"sum\"),  # methode avec segmentation (MNS)\n",
    "    flat_roof_surface=(\"flat_roof_surface\", \"sum\"),  # methode avec segmentation (MNS)\n",
    "    utility_surface=(\"utility_surface\", \"sum\"),  # methode avec segmentation (MNS)\n",
    "    solar_potential=(\"solar_potential\", \"sum\"),  # methode avec segmentation (MNS)\n",
    ").reset_index()"
   ]
  },
  {
   "cell_type": "markdown",
   "id": "a268426c",
   "metadata": {},
   "source": [
    "## Comparaisons des résultats"
   ]
  },
  {
   "cell_type": "code",
   "execution_count": null,
   "id": "43451718",
   "metadata": {},
   "outputs": [],
   "source": [
    "def plot_scatter(\n",
    "    x: pd.Series,\n",
    "    y: pd.Series,\n",
    "    title: str, \n",
    "    xlabel: str,\n",
    "    ylabel: str,\n",
    "    xlim: tuple = None,\n",
    "    ylim: tuple = None,\n",
    "    identity_line: bool = True\n",
    "):\n",
    "    \"\"\"Plot the results of two series against each other.\n",
    "    \n",
    "    Args:\n",
    "        x (pd.Series): The x-axis data.\n",
    "        y (pd.Series): The y-axis data.\n",
    "        title (str): The title of the plot.\n",
    "        xlabel (str): The label for the x-axis.\n",
    "        ylabel (str): The label for the y-axis.\n",
    "        xlim (tuple, optional): The limits for the x-axis. Defaults to None.\n",
    "        ylim (tuple, optional): The limits for the y-axis. Defaults to None.\n",
    "        identity_line (bool, optional): Whether to plot the identity line. Defaults to True.\n",
    "    \"\"\"\n",
    "    plt.rcParams['figure.figsize'] = [20, 10]\n",
    "\n",
    "    if identity_line:\n",
    "        # plot identity line\n",
    "        identity_line = [0, x.max()]\n",
    "        plt.plot(identity_line, identity_line, \"r--\")\n",
    "\n",
    "    \n",
    "    # Compute and plot linear regression line\n",
    "    model = LinearRegression()\n",
    "    model.fit(x.values.reshape(-1, 1), y)\n",
    "    y_pred = model.predict(x.values.reshape(-1, 1))\n",
    "    plt.plot(x, y_pred, \"g--\")\n",
    "    \n",
    "    # Compute and display R^2 score and model parameters\n",
    "    r2 = model.score(x.values.reshape(-1, 1), y)\n",
    "    slope = model.coef_[0]\n",
    "    intercept = model.intercept_\n",
    "\n",
    "    # Display R², slope, and intercept on the plot\n",
    "    plt.text(\n",
    "        0.05, 0.95,\n",
    "        f\"R²: {r2:.3f}\\nSlope: {slope:.3f}\\nIntercept: {intercept:.3f}\",\n",
    "        transform=plt.gca().transAxes,\n",
    "        fontsize=14,\n",
    "        verticalalignment='top',\n",
    "        bbox=dict(boxstyle=\"round,pad=0.3\", facecolor=\"white\", alpha=0.7)\n",
    "    )\n",
    "    \n",
    "    # compare x and y\n",
    "    plt.scatter(x, y, alpha=0.8)\n",
    "\n",
    "    # Set the title and labels\n",
    "    plt.title(title)\n",
    "    plt.xlabel(xlabel)\n",
    "    plt.ylabel(ylabel)\n",
    "\n",
    "    #  Set the limits for x and y axes if provided\n",
    "    if xlim:\n",
    "        plt.xlim(xlim)\n",
    "    \n",
    "    if ylim:\n",
    "        plt.ylim(ylim)\n",
    "\n",
    "    # Show the plot \n",
    "    plt.show()"
   ]
  },
  {
   "cell_type": "markdown",
   "id": "91a905e1",
   "metadata": {},
   "source": [
    "## La méthode simplifiée est-elle une bonne approximation de la surface utile ?"
   ]
  },
  {
   "cell_type": "code",
   "execution_count": null,
   "id": "d4e95e28",
   "metadata": {},
   "outputs": [],
   "source": [
    "plot_scatter(\n",
    "    x=results_comparison_buildings[\"surface_utile\"],\n",
    "    y=results_comparison_buildings[\"utility_surface\"],\n",
    "    title=\"Surface utile (méthode simplifiée) vs surface utile des toits (méthode avec segmentation)\",\n",
    "    xlabel=\"Surface utile - méthode simplifiée (m²)\",\n",
    "    ylabel=\"Surface utile - méthode avec segmentation (m²)\",\n",
    ")\n",
    "\n",
    "results_comparison_buildings[\"euclidean_distance\"] = abs(results_comparison_buildings[\"surface_utile\"] - results_comparison_buildings[\"utility_surface\"])\n",
    "results_comparison_buildings[\"euclidean_distance\"].describe()"
   ]
  },
  {
   "cell_type": "markdown",
   "id": "7d4ffbdb",
   "metadata": {},
   "source": [
    "## Relation surface totale au sol <-> surface utile (via segmentation) à la maille des batiments"
   ]
  },
  {
   "cell_type": "code",
   "execution_count": null,
   "id": "328aabc8",
   "metadata": {},
   "outputs": [],
   "source": [
    "plot_scatter(\n",
    "    x=results_comparison_buildings[\"surface_totale_au_sol\"],\n",
    "    y=results_comparison_buildings[\"utility_surface\"],\n",
    "    title=\"Relation entre la surface totale au sol et la surface utile réelle (obtenue par segmentation des toits)\",\n",
    "    xlabel=\"Surface totale au sol (m²)\",\n",
    "    ylabel=\"Surface utile au sol (m²)\",\n",
    "    identity_line=False,\n",
    ")"
   ]
  },
  {
   "cell_type": "markdown",
   "id": "a5033724",
   "metadata": {},
   "source": [
    "## Relation surface totale au sol <-> surface utile (via segmentation) à la maille des ecoles"
   ]
  },
  {
   "cell_type": "code",
   "execution_count": null,
   "id": "ce8ad221",
   "metadata": {},
   "outputs": [],
   "source": [
    "plot_scatter(\n",
    "    x=results_comparison_schools[\"surface_totale_au_sol\"],\n",
    "    y=results_comparison_schools[\"utility_surface\"],\n",
    "    title=\"Relation entre la surface totale au sol et la surface utile réelle (obtenue par segmentation des toits)\",\n",
    "    xlabel=\"Surface totale au sol (m²)\",\n",
    "    ylabel=\"Surface utile au sol (m²)\",\n",
    "    identity_line=False,\n",
    ")"
   ]
  },
  {
   "cell_type": "code",
   "execution_count": null,
   "id": "5fd3be8d",
   "metadata": {},
   "outputs": [],
   "source": [
    "surface_utile_segmentation = results_comparison_schools[\"utility_surface\"].sum()\n",
    "surface_totale_au_sol = results_comparison_schools[\"surface_totale_au_sol\"].sum()\n",
    "\n",
    "mean_ratio = surface_utile_segmentation / surface_totale_au_sol\n",
    "\n",
    "print(f\"Surface utile totale (méthode avec segmentation) : {surface_utile_segmentation:,.0f} m²\")\n",
    "print(f\"Surface totale au sol : {surface_totale_au_sol:,.0f} m²\")\n",
    "print(f\"Ratio moyen surface utile / surface totale au sol : {mean_ratio:.2f}\")"
   ]
  },
  {
   "cell_type": "markdown",
   "id": "01703c9f",
   "metadata": {},
   "source": [
    "## L'hypothèse des toits plats est-elle pertinente ?"
   ]
  },
  {
   "cell_type": "code",
   "execution_count": null,
   "id": "3e6a12a9",
   "metadata": {},
   "outputs": [],
   "source": [
    "total_flat_surface = results_with_segmentation[\"flat_roof_surface\"].sum()\n",
    "total_roof_surface = results_with_segmentation[\"roof_surface\"].sum()\n",
    "ratio_flat_roof = total_flat_surface / total_roof_surface\n",
    "\n",
    "print(f\"Surface des toits plats: {total_flat_surface} m²\")\n",
    "print(f\"Surface totale des toits: {total_roof_surface} m²\")\n",
    "print(f\"Ratio des toits plats: {ratio_flat_roof:.2%}\")\n",
    "\n",
    "results_with_segmentation[\"slope_bin_label\"] = results_with_segmentation[\"slope_bin_min\"].astype(str) + \"-\" + results_with_segmentation[\"slope_bin_max\"].astype(str)\n",
    "h = results_with_segmentation.groupby(by=[\"slope_bin_min\", \"slope_bin_label\"])[\"roof_surface\"].sum().reset_index().sort_values(by=\"slope_bin_min\")\n",
    "\n",
    "plt.rcParams['figure.figsize'] = [20, 10]\n",
    "plt.bar(h[\"slope_bin_label\"], h[\"roof_surface\"])\n",
    "plt.title(\"Surface des toits par pente\")\n",
    "plt.xlabel(\"Pente des toits (°)\")\n",
    "plt.ylabel(\"Surface des toits (m²)\")\n",
    "plt.xticks(rotation=45)\n",
    "\n",
    "plt.show()"
   ]
  },
  {
   "cell_type": "markdown",
   "id": "1c8235db",
   "metadata": {},
   "source": [
    "## Comparaison du potentiel solaire obtenu selon les deux méthodes (au niveau des établissements)"
   ]
  },
  {
   "cell_type": "code",
   "execution_count": null,
   "id": "2f25140a",
   "metadata": {},
   "outputs": [],
   "source": [
    "plot_scatter(\n",
    "    x=results_comparison_schools[\"potentiel_solaire\"],\n",
    "    y=results_comparison_schools[\"solar_potential\"],\n",
    "    title=\"Comparaison du potentiel solaire obtenu selon les deux méthodes (par établissement)\",\n",
    "    xlabel=\"Potentiel solaire - Méthode simplifiée (kWh/an)\",\n",
    "    ylabel=\"Potentiel solaire - Méthode avec segmentation (kWh/an)\",\n",
    ")\n",
    "\n",
    "results_comparison_schools[\"euclidean_distance\"] = abs(results_comparison_schools[\"potentiel_solaire\"] - results_comparison_schools[\"solar_potential\"])\n",
    "results_comparison_schools[\"euclidean_distance\"].describe()"
   ]
  },
  {
   "cell_type": "code",
   "execution_count": null,
   "id": "3abb099f",
   "metadata": {},
   "outputs": [],
   "source": [
    "potential_methode_simplifiee = results_comparison_schools[\"potentiel_solaire\"].sum() \n",
    "potential_methode_segmentation = results_comparison_schools[\"solar_potential\"].sum()\n",
    "\n",
    "print(f\"Potentiel solaire total - Méthode simplifiée : {potential_methode_simplifiee:,.0f} kWh/an\")\n",
    "print(f\"Potentiel solaire total - Méthode avec segmentation : {potential_methode_segmentation:,.0f} kWh/an\")\n",
    "print(f\"Différence en pourcentage : {((potential_methode_simplifiee- potential_methode_segmentation) / potential_methode_segmentation) * 100:.2f}%\")"
   ]
  },
  {
   "cell_type": "markdown",
   "id": "15d7ae6c",
   "metadata": {},
   "source": [
    "# Comparaison avec le potentiel solaire des toitures (IDF)"
   ]
  },
  {
   "cell_type": "markdown",
   "id": "316d1a0a",
   "metadata": {},
   "source": [
    "### Identification des batiments pour lesquels on a les resulats des trois methodes (simplifiee, segmentation & IDF)"
   ]
  },
  {
   "cell_type": "code",
   "execution_count": null,
   "id": "6262816a",
   "metadata": {},
   "outputs": [],
   "source": [
    "# Download des resultats IDF\n",
    "idf_results_path = DATA_FOLDER / \"potentiel-solaire-idf.geojson\"\n",
    "download_file(\n",
    "    url=\"https://hub.arcgis.com/api/v3/datasets/21e83d3c0fb3411bbc9b673afce13a1c_26/downloads/data?format=geojson&spatialRefId=4326&where=1%3D1\",\n",
    "    output_filepath=idf_results_path\n",
    ")\n",
    "external_results_idf = gpd.read_file(idf_results_path)[[\"id\", \"st_areashape\", \"surf_util\", \"moyenne2\", \"production\"]]\n",
    "# TODO: comment savoir quelles ont ete leurs hypotheses de calculs (puissance max des panneaux installes, % de pertes, ...)\n",
    "\n",
    "# Filtrage des resultats de nos deux methodes sur IDF \n",
    "results_comparison_buildings_idf = results_comparison_buildings[\n",
    "    results_comparison_buildings[\"code_region\"] == \"11\"\n",
    "]\n",
    "# TODO : calcul sur plus de batiments IDF avec la methode avec segmentation ?"
   ]
  },
  {
   "cell_type": "code",
   "execution_count": null,
   "id": "9da9a181",
   "metadata": {},
   "outputs": [],
   "source": [
    "buildings_to_audit = results_comparison_buildings_idf[\"cleabs_bat\"].unique()\n",
    "\n",
    "# Filtrage des resultats IDF sur les batiments a auditer\n",
    "external_results_idf_audits = external_results_idf[\n",
    "    external_results_idf[\"id\"].isin(buildings_to_audit)\n",
    "]\n",
    "print(f\"{len(external_results_idf_audits)} batiments avec les resultats des trois methodes\")\n",
    "\n",
    "# Merge des resultats de toutes les methodes\n",
    "all_results_idf = external_results_idf_audits.merge(\n",
    "    results_comparison_buildings_idf,\n",
    "    left_on='id', \n",
    "    right_on='cleabs_bat', \n",
    "    how=\"inner\"\n",
    ")\n",
    "\n",
    "# Synthese rapide du total de chacune des trois methodes pour la surface utile\n",
    "synthese_surface_utile = all_results_idf[[\"surface_totale_au_sol\", \"surf_util\", \"surface_utile\", \"utility_surface\"]].sum()\n",
    "print(f\"Surface totale au sol (IDF) : {synthese_surface_utile['surface_totale_au_sol'] / 1_000_000:.2f} km²\")\n",
    "print(f\"Surface utile (IDF) : {synthese_surface_utile['surf_util'] / 1_000_000:.2f} km²\")\n",
    "print(f\"Surface utile (méthode simplifiée) : {synthese_surface_utile['surface_utile'] / 1_000_000:.2f} km²\")\n",
    "print(f\"Surface utile (méthode avec segmentation) : {synthese_surface_utile['utility_surface'] / 1_000_000:.2f} km²\")\n",
    "\n",
    "# Synthese rapide du rapport surface utile / surface totale au sol\n",
    "ratio_surface_utile_idf = synthese_surface_utile[\"surf_util\"] / synthese_surface_utile[\"surface_totale_au_sol\"]\n",
    "print(f\"Ratio surface utile / surface totale au sol (IDF) : {ratio_surface_utile_idf:.2f}\")\n",
    "ratio_surface_utile_idf_simplifiee = synthese_surface_utile[\"surface_utile\"] / synthese_surface_utile[\"surface_totale_au_sol\"]\n",
    "print(f\"Ratio surface utile / surface totale au sol (méthode simplifiée) : {ratio_surface_utile_idf_simplifiee:.2f}\")\n",
    "ratio_surface_utile_idf_segmentation = synthese_surface_utile[\"utility_surface\"] / synthese_surface_utile[\"surface_totale_au_sol\"]\n",
    "print(f\"Ratio surface utile / surface totale au sol (méthode avec segmentation) : {ratio_surface_utile_idf_segmentation:.2f}\")\n",
    "\n",
    "# Synthese rapide du total de chacune des trois methodes pour le potentiel solaire\n",
    "synthese_potentiel_solaire = all_results_idf[[\"production\", \"potentiel_solaire\", \"solar_potential\"]].sum()\n",
    "print(f\"Potentiel solaire (IDF) : {synthese_potentiel_solaire['production'] / 1_000_000:.2f} GWh/an\")\n",
    "print(f\"Potentiel solaire (simplifiee) : {synthese_potentiel_solaire['potentiel_solaire'] / 1_000_000:.2f} GWh/an\")\n",
    "print(f\"Potentiel solaire (segmentation) : {synthese_potentiel_solaire['solar_potential'] / 1_000_000:.2f} GWh/an\")"
   ]
  },
  {
   "cell_type": "markdown",
   "id": "446a4ee1",
   "metadata": {},
   "source": [
    "### Comparaison des trois methodes sur le calcul de la surface utile"
   ]
  },
  {
   "cell_type": "code",
   "execution_count": null,
   "id": "6b0084f5",
   "metadata": {},
   "outputs": [],
   "source": [
    "plot_scatter(\n",
    "    x=all_results_idf[\"surf_util\"],\n",
    "    y=all_results_idf[\"surface_utile\"],\n",
    "    title=\"Surface utile (IDF) vs Surface utile (Methode simplifiée)\",\n",
    "    xlabel=\"Surface utile - IDF (m²)\",\n",
    "    ylabel=\"Surface utile - Methode simplifiée (m²)\"\n",
    ")\n",
    "\n",
    "all_results_idf[\"euclidean_distance\"] = abs(all_results_idf[\"surf_util\"] - all_results_idf[\"surface_utile\"])\n",
    "all_results_idf[\"euclidean_distance\"].describe()"
   ]
  },
  {
   "cell_type": "code",
   "execution_count": null,
   "id": "8622bdff",
   "metadata": {},
   "outputs": [],
   "source": [
    "plot_scatter(\n",
    "    x=all_results_idf[\"surf_util\"],\n",
    "    y=all_results_idf[\"utility_surface\"],\n",
    "    title=\"Surface utile (IDF) vs Surface utile (Methode avec segmentation)\",\n",
    "    xlabel=\"Surface utile - IDF (m²)\",\n",
    "    ylabel=\"Surface utile - Methode avec segmentation (m²)\"\n",
    ")\n",
    "\n",
    "all_results_idf[\"euclidean_distance\"] = abs(all_results_idf[\"surf_util\"] - all_results_idf[\"utility_surface\"])\n",
    "all_results_idf[\"euclidean_distance\"].describe()"
   ]
  }
 ],
 "metadata": {
  "kernelspec": {
   "display_name": "potentiel-solaire-py3.11",
   "language": "python",
   "name": "python3"
  },
  "language_info": {
   "codemirror_mode": {
    "name": "ipython",
    "version": 3
   },
   "file_extension": ".py",
   "mimetype": "text/x-python",
   "name": "python",
   "nbconvert_exporter": "python",
   "pygments_lexer": "ipython3",
   "version": "3.11.9"
  }
 },
 "nbformat": 4,
 "nbformat_minor": 5
}
