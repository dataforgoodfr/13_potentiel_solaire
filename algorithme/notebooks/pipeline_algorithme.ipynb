{
 "cells": [
  {
   "cell_type": "markdown",
   "id": "7218350249b1103e",
   "metadata": {},
   "source": [
    "# Paramètres de la pipeline"
   ]
  },
  {
   "cell_type": "code",
   "id": "6358f4912f9f22ab",
   "metadata": {
    "editable": true,
    "slideshow": {
     "slide_type": ""
    },
    "tags": [
     "parameters"
    ]
   },
   "source": [
    "code_departement = \"093\"\n",
    "logs_level = \"WARNING\""
   ],
   "outputs": [],
   "execution_count": null
  },
  {
   "cell_type": "markdown",
   "id": "d3a70f3e57e62a7c",
   "metadata": {},
   "source": [
    "# Imports & setup"
   ]
  },
  {
   "cell_type": "code",
   "id": "aa88b759c982f54c",
   "metadata": {},
   "source": [
    "import geopandas as gpd\n",
    "\n",
    "from potentiel_solaire.attach_buildings_to_schools import attach_buildings_to_schools\n",
    "from potentiel_solaire.constants import CRS, ALGORITHME_FOLDER\n",
    "from potentiel_solaire.sources.bd_topo import extract_bd_topo, get_topo_zones_of_interest, \\\n",
    "    get_topo_buildings_of_interest\n",
    "from potentiel_solaire.sources.schools_establishments import extract_schools_establishments, \\\n",
    "    get_schools_establishments_of_interest\n",
    "from potentiel_solaire.features.solar_potential import calculate_solar_potential\n",
    "from potentiel_solaire.aggregate import aggregate_solar_potential_by\n",
    "from potentiel_solaire.logger import get_logger\n",
    "\n",
    "logger = get_logger()\n",
    "logger.setLevel(logs_level)"
   ],
   "outputs": [],
   "execution_count": null
  },
  {
   "cell_type": "markdown",
   "id": "a9a9258eef4ab443",
   "metadata": {},
   "source": [
    "# Extraction des données sources"
   ]
  },
  {
   "cell_type": "markdown",
   "id": "463a1d94816fdbc3",
   "metadata": {},
   "source": [
    "### Etablissements scolaires"
   ]
  },
  {
   "cell_type": "code",
   "id": "7d8bb82fa7db3b7d",
   "metadata": {},
   "source": [
    "schools_establishments_path = extract_schools_establishments()\n",
    "print(f\"Annuaire des établissements scolaires extrait ici: {schools_establishments_path}\")"
   ],
   "outputs": [],
   "execution_count": null
  },
  {
   "cell_type": "markdown",
   "id": "d24a2e59f349d78c",
   "metadata": {},
   "source": [
    "### BD TOPO"
   ]
  },
  {
   "cell_type": "code",
   "id": "3e8f100f2f53930c",
   "metadata": {},
   "source": [
    "bd_topo_path = extract_bd_topo(code_departement=code_departement)\n",
    "print(f\"BD TOPO extraite ici: {bd_topo_path}\")"
   ],
   "outputs": [],
   "execution_count": null
  },
  {
   "cell_type": "markdown",
   "id": "18355b4d87ca074a",
   "metadata": {},
   "source": []
  },
  {
   "cell_type": "markdown",
   "id": "c26ed5544663d238",
   "metadata": {},
   "source": [
    "### BD PCI"
   ]
  },
  {
   "cell_type": "code",
   "id": "f22aa57125e42448",
   "metadata": {},
   "source": [
    "#TODO: recuperer les données PCI pour le département"
   ],
   "outputs": [],
   "execution_count": null
  },
  {
   "cell_type": "markdown",
   "id": "b315616c8a49a102",
   "metadata": {},
   "source": [
    "# Filtre des données sur le périmètre du calcul"
   ]
  },
  {
   "cell_type": "markdown",
   "id": "8141e3850bdde72d",
   "metadata": {},
   "source": [
    "### Etablissements scolaires\n"
   ]
  },
  {
   "cell_type": "code",
   "id": "8c2714f479cce131",
   "metadata": {},
   "source": [
    "schools_establishments = get_schools_establishments_of_interest(\n",
    "    schools_filepath=schools_establishments_path,\n",
    "    code_departement=code_departement,\n",
    "    types_etablissements=['Ecole', 'Lycée', 'Collège'],\n",
    "    statut_public_prive=\"Public\",\n",
    "    etat=\"OUVERT\",\n",
    "    crs=CRS\n",
    ")\n",
    "nb_schools = schools_establishments.shape[0]\n",
    "print(f\"Nb d'établissements scolaires: {nb_schools}\")"
   ],
   "outputs": [],
   "execution_count": null
  },
  {
   "cell_type": "markdown",
   "id": "6a7c50bff2a4dcab",
   "metadata": {},
   "source": [
    "### Zone d'intérêt géographique"
   ]
  },
  {
   "cell_type": "code",
   "id": "90227f344c76c3d6",
   "metadata": {},
   "source": [
    "codes_commune = schools_establishments[\"code_commune\"].unique()\n",
    "communes = gpd.read_file(bd_topo_path, layer=\"commune\").to_crs(CRS)\n",
    "communes = communes[communes.code_insee.isin(codes_commune)]\n",
    "geom_of_interest = communes.dissolve()[[\"geometry\"]]"
   ],
   "outputs": [],
   "execution_count": null
  },
  {
   "cell_type": "markdown",
   "id": "ed36d1f4a8ff139d",
   "metadata": {},
   "source": [
    "### Zones d'éducations"
   ]
  },
  {
   "cell_type": "code",
   "id": "62c98433be3c4844",
   "metadata": {},
   "source": [
    "educational_zones = get_topo_zones_of_interest(\n",
    "    bd_topo_path=bd_topo_path,\n",
    "    geom_of_interest=geom_of_interest,\n",
    "    categories=[\"Science et enseignement\"],\n",
    "    natures=['Collège', 'Lycée', 'Enseignement primaire'],\n",
    "    crs=CRS\n",
    ")\n",
    "nb_educational_zones = educational_zones.shape[0]\n",
    "print(\"Nb de zones d'éducations: \", nb_educational_zones)"
   ],
   "outputs": [],
   "execution_count": null
  },
  {
   "cell_type": "markdown",
   "id": "50d92236b74ff088",
   "metadata": {},
   "source": [
    "### Bâtiments"
   ]
  },
  {
   "cell_type": "code",
   "id": "b092bb4fd4942b",
   "metadata": {},
   "source": [
    "# TODO : ajout des batiments manquants avec la BD PCI\n",
    "buildings = get_topo_buildings_of_interest(\n",
    "    bd_topo_path=bd_topo_path,\n",
    "    geom_of_interest=geom_of_interest,\n",
    "    crs=CRS\n",
    ")\n",
    "nb_buildings = buildings.shape[0]\n",
    "print(\"Nb de batiments: \", nb_buildings)"
   ],
   "outputs": [],
   "execution_count": null
  },
  {
   "cell_type": "markdown",
   "id": "129b67af5c421e52",
   "metadata": {},
   "source": [
    "# Détermination des bâtiments scolaires"
   ]
  },
  {
   "cell_type": "code",
   "id": "f164fcc395a85eeb",
   "metadata": {},
   "source": [
    "schools_buildings = attach_buildings_to_schools(\n",
    "        schools_establishments=schools_establishments,\n",
    "        educational_zones=educational_zones,\n",
    "        buildings=buildings\n",
    ")"
   ],
   "outputs": [],
   "execution_count": null
  },
  {
   "cell_type": "markdown",
   "id": "25094a9970938a7d",
   "metadata": {},
   "source": "# Calcul des attributs utiles pour le potentiel solaire"
  },
  {
   "cell_type": "code",
   "id": "c0cf2ab1980a4b17",
   "metadata": {},
   "source": [
    "# TODO: Fausses valeurs pour le moment\n",
    "solar_potential_of_schools_buildings = calculate_solar_potential(\n",
    "    schools_buildings=schools_buildings,\n",
    ")"
   ],
   "outputs": [],
   "execution_count": null
  },
  {
   "cell_type": "markdown",
   "id": "363dff224bfb7766",
   "metadata": {},
   "source": "# Checks sur la qualité des données & calculs"
  },
  {
   "cell_type": "code",
   "id": "46d41149e1faf14f",
   "metadata": {},
   "source": [
    "nb_schools_with_buildings = len(schools_buildings.identifiant_de_l_etablissement.unique())\n",
    "print(\"Nb d'établissements scolaires avec des batiments: {} ({}%)\".format(\n",
    "    nb_schools_with_buildings,\n",
    "    round(100 * nb_schools_with_buildings / nb_schools)\n",
    "))"
   ],
   "outputs": [],
   "execution_count": null
  },
  {
   "cell_type": "markdown",
   "id": "9b78aec5982e6099",
   "metadata": {},
   "source": [
    "# Aggrégations"
   ]
  },
  {
   "cell_type": "markdown",
   "id": "c031864081bf3adb",
   "metadata": {},
   "source": "### Par établissement scolaire"
  },
  {
   "metadata": {},
   "cell_type": "code",
   "source": [
    "results_by_school = aggregate_solar_potential_by(\n",
    "    schools_establishments=schools_establishments,\n",
    "    solar_potential_of_schools_buildings=solar_potential_of_schools_buildings,\n",
    "    group_by = [\n",
    "        \"identifiant_de_l_etablissement\",\n",
    "        \"nom_etablissement\",\n",
    "        \"type_etablissement\",\n",
    "        \"libelle_nature\",\n",
    "        \"code_commune\",\n",
    "        \"nom_commune\",\n",
    "        \"code_departement\",\n",
    "        \"libelle_departement\",\n",
    "        \"code_region\",\n",
    "        \"libelle_region\",\n",
    "    ]\n",
    ")"
   ],
   "id": "c469e5829a888e0a",
   "outputs": [],
   "execution_count": null
  },
  {
   "cell_type": "markdown",
   "id": "4095f66c6c4336a0",
   "metadata": {},
   "source": "### Par commune"
  },
  {
   "cell_type": "code",
   "id": "1d2b76a6b5a0a16b",
   "metadata": {},
   "source": [
    "results_by_commune = aggregate_solar_potential_by(\n",
    "    schools_establishments=schools_establishments,\n",
    "    solar_potential_of_schools_buildings=solar_potential_of_schools_buildings,\n",
    "    group_by = [\n",
    "        \"code_commune\",\n",
    "        \"nom_commune\",\n",
    "        \"code_departement\",\n",
    "        \"libelle_departement\",\n",
    "        \"code_region\",\n",
    "        \"libelle_region\",\n",
    "    ]\n",
    ")\n",
    "# TODO : la geometrie de la commune est fausse"
   ],
   "outputs": [],
   "execution_count": null
  },
  {
   "cell_type": "markdown",
   "id": "b1979de1a83e56b",
   "metadata": {},
   "source": "### Par département"
  },
  {
   "cell_type": "code",
   "id": "aa0632566b289415",
   "metadata": {},
   "source": [
    "results_by_departement = aggregate_solar_potential_by(\n",
    "    schools_establishments=schools_establishments,\n",
    "    solar_potential_of_schools_buildings=solar_potential_of_schools_buildings,\n",
    "    group_by = [\n",
    "        \"code_departement\",\n",
    "        \"libelle_departement\",\n",
    "        \"code_region\",\n",
    "        \"libelle_region\",\n",
    "    ]\n",
    ")\n",
    "# TODO : la geometrie du departement est fausse"
   ],
   "outputs": [],
   "execution_count": null
  },
  {
   "metadata": {},
   "cell_type": "markdown",
   "source": "### Par région",
   "id": "35202e1b07211fb1"
  },
  {
   "metadata": {},
   "cell_type": "code",
   "source": [
    "# TODO : demande de se connecter au bucket avec les resultats existants pour aggreger \n",
    "# TODO : ou de faire le calcul pour tous les departements d une region"
   ],
   "id": "8cf55b4e6ce04838",
   "outputs": [],
   "execution_count": null
  },
  {
   "cell_type": "markdown",
   "id": "229708fb93570bb0",
   "metadata": {},
   "source": [
    "# Sauvegarde des fichiers"
   ]
  },
  {
   "cell_type": "code",
   "id": "f071523c837a9df5",
   "metadata": {},
   "source": [
    "output_folder = ALGORITHME_FOLDER.parent / \"results\" / f\"D{code_departement}\"\n",
    "output_folder.mkdir(exist_ok=True, parents=True)\n",
    "\n",
    "# TODO : a voir cote front sil faut changer le format de mise a disposition\n",
    "results_by_school.to_file(output_folder / f\"D{code_departement}_ecoles.geojson\", driver=\"GeoJSON\")\n",
    "results_by_commune.to_file(output_folder / f\"D{code_departement}_communes.geojson\", driver=\"GeoJSON\")\n",
    "results_by_departement.to_file(output_folder / f\"D{code_departement}_departement.geojson\", driver=\"GeoJSON\")"
   ],
   "outputs": [],
   "execution_count": null
  }
 ],
 "metadata": {
  "kernelspec": {
   "display_name": "Python 3 (ipykernel)",
   "language": "python",
   "name": "python3"
  },
  "language_info": {
   "codemirror_mode": {
    "name": "ipython",
    "version": 3
   },
   "file_extension": ".py",
   "mimetype": "text/x-python",
   "name": "python",
   "nbconvert_exporter": "python",
   "pygments_lexer": "ipython3",
   "version": "3.11.9"
  }
 },
 "nbformat": 4,
 "nbformat_minor": 5
}
