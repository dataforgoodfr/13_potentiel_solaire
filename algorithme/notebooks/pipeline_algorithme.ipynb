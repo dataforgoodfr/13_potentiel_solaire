{
 "cells": [
  {
   "cell_type": "code",
   "execution_count": 68,
   "id": "f1f565b7",
   "metadata": {},
   "outputs": [
    {
     "name": "stdout",
     "output_type": "stream",
     "text": [
      "The autoreload extension is already loaded. To reload it, use:\n",
      "  %reload_ext autoreload\n"
     ]
    }
   ],
   "source": [
    "%load_ext autoreload\n",
    "%autoreload 2"
   ]
  },
  {
   "cell_type": "markdown",
   "id": "7218350249b1103e",
   "metadata": {},
   "source": [
    "<!-- # Paramètres de la pipeline -->"
   ]
  },
  {
   "cell_type": "code",
   "execution_count": null,
   "id": "6358f4912f9f22ab",
   "metadata": {
    "editable": true,
    "slideshow": {
     "slide_type": ""
    },
    "tags": [
     "parameters"
    ]
   },
   "outputs": [],
   "source": [
    "code_departement = \"093\""
   ]
  },
  {
   "cell_type": "markdown",
   "id": "d3a70f3e57e62a7c",
   "metadata": {},
   "source": [
    "<!-- # Imports & setup -->"
   ]
  },
  {
   "cell_type": "code",
   "execution_count": 70,
   "id": "aa88b759c982f54c",
   "metadata": {},
   "outputs": [],
   "source": [
    "import geopandas as gpd\n",
    "\n",
    "from potentiel_solaire.attach_buildings_to_schools import attach_buildings_to_schools\n",
    "from potentiel_solaire.constants import DEFAULT_CRS, RESULTS_FOLDER\n",
    "from potentiel_solaire.sources.bd_topo import extract_bd_topo, get_topo_zones_of_interest, \\\n",
    "    get_topo_buildings_of_interest\n",
    "from potentiel_solaire.sources.extract import extract_sources\n",
    "from potentiel_solaire.sources.schools_establishments import get_schools_establishments_of_interest\n",
    "from potentiel_solaire.sources.protected_buildings import get_areas_with_protected_buildings\n",
    "from potentiel_solaire.features.solar_potential import calculate_solar_potential\n",
    "from potentiel_solaire.aggregate import aggregate_solar_potential_by_etablishment\n",
    "from potentiel_solaire.duckdb_manager import save_solar_potential_by_school, \\\n",
    "    save_solar_potential_by_commune, \\\n",
    "    save_solar_potential_by_department\n",
    "from potentiel_solaire.geojson_files_creator import export_to_geofile"
   ]
  },
  {
   "cell_type": "markdown",
   "id": "a9a9258eef4ab443",
   "metadata": {},
   "source": [
    "<!-- # Extraction des données sources -->"
   ]
  },
  {
   "cell_type": "markdown",
   "id": "463a1d94816fdbc3",
   "metadata": {},
   "source": [
    "<!-- ### Telechargements des fichiers listes dans data/sources.yaml -->"
   ]
  },
  {
   "cell_type": "code",
   "execution_count": 71,
   "id": "7d8bb82fa7db3b7d",
   "metadata": {},
   "outputs": [
    {
     "name": "stderr",
     "output_type": "stream",
     "text": [
      "2025-04-03 11:10:50,146 - INFO - root - D:\\datafrogood\\13_potentiel_solaire\\algorithme\\potentiel_solaire\\sources\\extract.py - extract_sources - source etablissements already extracted at D:\\datafrogood\\13_potentiel_solaire\\algorithme\\data\\fr-en-annuaire-education.geojson\n",
      "2025-04-03 11:10:50,148 - INFO - root - D:\\datafrogood\\13_potentiel_solaire\\algorithme\\potentiel_solaire\\sources\\extract.py - extract_sources - source immeubles_proteges already extracted at D:\\datafrogood\\13_potentiel_solaire\\algorithme\\data\\liste_immeubles_proteges.geojson\n",
      "2025-04-03 11:10:50,151 - INFO - root - D:\\datafrogood\\13_potentiel_solaire\\algorithme\\potentiel_solaire\\sources\\extract.py - extract_sources - source communes already extracted at D:\\datafrogood\\13_potentiel_solaire\\algorithme\\data\\communes.json\n",
      "2025-04-03 11:10:50,153 - INFO - root - D:\\datafrogood\\13_potentiel_solaire\\algorithme\\potentiel_solaire\\sources\\extract.py - extract_sources - source departements already extracted at D:\\datafrogood\\13_potentiel_solaire\\algorithme\\data\\departements.geojson\n",
      "2025-04-03 11:10:50,156 - INFO - root - D:\\datafrogood\\13_potentiel_solaire\\algorithme\\potentiel_solaire\\sources\\extract.py - extract_sources - source regions already extracted at D:\\datafrogood\\13_potentiel_solaire\\algorithme\\data\\regions.json\n"
     ]
    },
    {
     "name": "stdout",
     "output_type": "stream",
     "text": [
      "source etablissements extracted at D:\\datafrogood\\13_potentiel_solaire\\algorithme\\data\\fr-en-annuaire-education.geojson\n",
      "source immeubles_proteges extracted at D:\\datafrogood\\13_potentiel_solaire\\algorithme\\data\\liste_immeubles_proteges.geojson\n",
      "source communes extracted at D:\\datafrogood\\13_potentiel_solaire\\algorithme\\data\\communes.json\n",
      "source departements extracted at D:\\datafrogood\\13_potentiel_solaire\\algorithme\\data\\departements.geojson\n",
      "source regions extracted at D:\\datafrogood\\13_potentiel_solaire\\algorithme\\data\\regions.json\n"
     ]
    }
   ],
   "source": [
    "sources = extract_sources()\n",
    "for name, source in sources.items():\n",
    "    print(f\"source {name} extracted at {source.filepath}\")"
   ]
  },
  {
   "cell_type": "markdown",
   "id": "d24a2e59f349d78c",
   "metadata": {},
   "source": [
    "<!-- ### BD TOPO -->"
   ]
  },
  {
   "cell_type": "code",
   "execution_count": 72,
   "id": "3e8f100f2f53930c",
   "metadata": {},
   "outputs": [
    {
     "name": "stderr",
     "output_type": "stream",
     "text": [
      "2025-04-03 11:10:50,394 - INFO - root - D:\\datafrogood\\13_potentiel_solaire\\algorithme\\potentiel_solaire\\sources\\bd_topo.py - extract_bd_topo - gpkg file D:\\datafrogood\\13_potentiel_solaire\\algorithme\\data\\BDTOPO_3-4_TOUSTHEMES_GPKG_LAMB93_D093_2024-12-15\\BDTOPO\\1_DONNEES_LIVRAISON_2024-12-00134\\BDT_3-4_GPKG_LAMB93_D093-ED2024-12-15\\BDT_3-4_GPKG_LAMB93_D093-ED2024-12-15.gpkg for departement 093 already extracted\n"
     ]
    },
    {
     "name": "stdout",
     "output_type": "stream",
     "text": [
      "BD TOPO extraite ici: D:\\datafrogood\\13_potentiel_solaire\\algorithme\\data\\BDTOPO_3-4_TOUSTHEMES_GPKG_LAMB93_D093_2024-12-15\\BDTOPO\\1_DONNEES_LIVRAISON_2024-12-00134\\BDT_3-4_GPKG_LAMB93_D093-ED2024-12-15\\BDT_3-4_GPKG_LAMB93_D093-ED2024-12-15.gpkg\n"
     ]
    }
   ],
   "source": [
    "bd_topo_path = extract_bd_topo(code_departement=code_departement)\n",
    "print(f\"BD TOPO extraite ici: {bd_topo_path}\")"
   ]
  },
  {
   "cell_type": "markdown",
   "id": "b315616c8a49a102",
   "metadata": {},
   "source": [
    "<!-- # Filtre des données sur le périmètre du calcul -->"
   ]
  },
  {
   "cell_type": "markdown",
   "id": "8141e3850bdde72d",
   "metadata": {},
   "source": [
    "<!-- ### Etablissements scolaires -->\n"
   ]
  },
  {
   "cell_type": "code",
   "execution_count": 73,
   "id": "8c2714f479cce131",
   "metadata": {},
   "outputs": [
    {
     "name": "stdout",
     "output_type": "stream",
     "text": [
      "Nb d'établissements scolaires: 1130\n"
     ]
    }
   ],
   "source": [
    "schools_establishments = get_schools_establishments_of_interest(\n",
    "    schools_filepath=sources[\"etablissements\"].filepath,\n",
    "    code_departement=code_departement,\n",
    "    types_etablissements=['Ecole', 'Lycée', 'Collège'],\n",
    "    statut_public_prive=\"Public\",\n",
    "    etat=\"OUVERT\",\n",
    "    crs=DEFAULT_CRS\n",
    ")\n",
    "nb_schools = schools_establishments.shape[0]\n",
    "print(f\"Nb d'établissements scolaires: {nb_schools}\")"
   ]
  },
  {
   "cell_type": "markdown",
   "id": "6a7c50bff2a4dcab",
   "metadata": {},
   "source": [
    "<!-- ### Zone d'intérêt géographique -->"
   ]
  },
  {
   "cell_type": "code",
   "execution_count": 74,
   "id": "90227f344c76c3d6",
   "metadata": {},
   "outputs": [],
   "source": [
    "communes = gpd.read_file(bd_topo_path, layer=\"commune\").to_crs(DEFAULT_CRS)\n",
    "geom_of_interest = communes.sjoin(schools_establishments).dissolve()[[\"geometry\"]]"
   ]
  },
  {
   "cell_type": "markdown",
   "id": "ed36d1f4a8ff139d",
   "metadata": {},
   "source": [
    "<!-- ### Zones d'éducations -->"
   ]
  },
  {
   "cell_type": "code",
   "execution_count": 75,
   "id": "62c98433be3c4844",
   "metadata": {},
   "outputs": [
    {
     "name": "stderr",
     "output_type": "stream",
     "text": [
      "d:\\datafrogood\\13_potentiel_solaire\\algorithme\\.venv\\Lib\\site-packages\\pyogrio\\core.py:279: RuntimeWarning: Field format 'character varying' not supported\n",
      "  return ogr_read_info(\n",
      "d:\\datafrogood\\13_potentiel_solaire\\algorithme\\.venv\\Lib\\site-packages\\pyogrio\\core.py:279: RuntimeWarning: Field format 'character varying(256)' not supported\n",
      "  return ogr_read_info(\n",
      "d:\\datafrogood\\13_potentiel_solaire\\algorithme\\.venv\\Lib\\site-packages\\pyogrio\\core.py:279: RuntimeWarning: Field format 'character varying(30)' not supported\n",
      "  return ogr_read_info(\n",
      "d:\\datafrogood\\13_potentiel_solaire\\algorithme\\.venv\\Lib\\site-packages\\pyogrio\\core.py:279: RuntimeWarning: Field format 'timestamp with time zone' not supported\n",
      "  return ogr_read_info(\n",
      "d:\\datafrogood\\13_potentiel_solaire\\algorithme\\.venv\\Lib\\site-packages\\geopandas\\io\\file.py:497: UserWarning: More than one layer found in 'BDT_3-4_GPKG_LAMB93_D093-ED2024-12-15.gpkg': 'troncon_de_route' (default), 'route_numerotee_ou_nommee', 'itineraire_autre', 'troncon_de_voie_ferree', 'equipement_de_transport', 'piste_d_aerodrome', 'aerodrome', 'point_de_repere', 'non_communication', 'point_du_reseau', 'voie_ferree_nommee', 'toponymie_transport', 'batiment', 'cimetiere', 'construction_lineaire', 'construction_ponctuelle', 'construction_surfacique', 'reservoir', 'ligne_orographique', 'pylone', 'terrain_de_sport', 'toponymie_bati', 'cours_d_eau', 'troncon_hydrographique', 'bassin_versant_topographique', 'plan_d_eau', 'surface_hydrographique', 'noeud_hydrographique', 'detail_hydrographique', 'toponymie_hydrographie', 'zone_d_habitation', 'lieu_dit_non_habite', 'detail_orographique', 'toponymie_lieux_nommes', 'canalisation', 'ligne_electrique', 'poste_de_transformation', 'erp', 'zone_d_activite_ou_d_interet', 'toponymie_services_et_activites', 'voie_nommee', 'parc_ou_reserve', 'foret_publique', 'toponymie_zones_reglementees', 'haie', 'zone_de_vegetation', 'arrondissement', 'arrondissement_municipal', 'commune', 'epci', 'collectivite_territoriale', 'departement', 'region', 'adresse_ban', 'batiment_rnb_lien_bdtopo', 'lien_adresse_vers_bdtopo', 'section_de_points_de_repere', 'info_metadonnees', 'metadonnees_lot', 'metadonnees_theme', 'layer_styles'. Specify layer parameter to avoid this warning.\n",
      "  crs = pyogrio.read_info(path_or_bytes).get(\"crs\")\n"
     ]
    },
    {
     "name": "stdout",
     "output_type": "stream",
     "text": [
      "Nb de zones d'éducations:  1088\n"
     ]
    }
   ],
   "source": [
    "educational_zones = get_topo_zones_of_interest(\n",
    "    bd_topo_path=bd_topo_path,\n",
    "    geom_of_interest=geom_of_interest,\n",
    "    categories=[\"Science et enseignement\"],\n",
    "    natures=['Collège', 'Lycée', 'Enseignement primaire'],\n",
    "    crs=DEFAULT_CRS\n",
    ")\n",
    "nb_educational_zones = educational_zones.shape[0]\n",
    "print(\"Nb de zones d'éducations: \", nb_educational_zones)"
   ]
  },
  {
   "cell_type": "markdown",
   "id": "50d92236b74ff088",
   "metadata": {},
   "source": [
    "<!-- ### Bâtiments -->"
   ]
  },
  {
   "cell_type": "code",
   "execution_count": 76,
   "id": "b092bb4fd4942b",
   "metadata": {},
   "outputs": [
    {
     "name": "stderr",
     "output_type": "stream",
     "text": [
      "d:\\datafrogood\\13_potentiel_solaire\\algorithme\\.venv\\Lib\\site-packages\\pyogrio\\core.py:279: RuntimeWarning: Field format 'character varying' not supported\n",
      "  return ogr_read_info(\n",
      "d:\\datafrogood\\13_potentiel_solaire\\algorithme\\.venv\\Lib\\site-packages\\pyogrio\\core.py:279: RuntimeWarning: Field format 'character varying(256)' not supported\n",
      "  return ogr_read_info(\n",
      "d:\\datafrogood\\13_potentiel_solaire\\algorithme\\.venv\\Lib\\site-packages\\pyogrio\\core.py:279: RuntimeWarning: Field format 'character varying(30)' not supported\n",
      "  return ogr_read_info(\n",
      "d:\\datafrogood\\13_potentiel_solaire\\algorithme\\.venv\\Lib\\site-packages\\pyogrio\\core.py:279: RuntimeWarning: Field format 'timestamp with time zone' not supported\n",
      "  return ogr_read_info(\n",
      "d:\\datafrogood\\13_potentiel_solaire\\algorithme\\.venv\\Lib\\site-packages\\geopandas\\io\\file.py:497: UserWarning: More than one layer found in 'BDT_3-4_GPKG_LAMB93_D093-ED2024-12-15.gpkg': 'troncon_de_route' (default), 'route_numerotee_ou_nommee', 'itineraire_autre', 'troncon_de_voie_ferree', 'equipement_de_transport', 'piste_d_aerodrome', 'aerodrome', 'point_de_repere', 'non_communication', 'point_du_reseau', 'voie_ferree_nommee', 'toponymie_transport', 'batiment', 'cimetiere', 'construction_lineaire', 'construction_ponctuelle', 'construction_surfacique', 'reservoir', 'ligne_orographique', 'pylone', 'terrain_de_sport', 'toponymie_bati', 'cours_d_eau', 'troncon_hydrographique', 'bassin_versant_topographique', 'plan_d_eau', 'surface_hydrographique', 'noeud_hydrographique', 'detail_hydrographique', 'toponymie_hydrographie', 'zone_d_habitation', 'lieu_dit_non_habite', 'detail_orographique', 'toponymie_lieux_nommes', 'canalisation', 'ligne_electrique', 'poste_de_transformation', 'erp', 'zone_d_activite_ou_d_interet', 'toponymie_services_et_activites', 'voie_nommee', 'parc_ou_reserve', 'foret_publique', 'toponymie_zones_reglementees', 'haie', 'zone_de_vegetation', 'arrondissement', 'arrondissement_municipal', 'commune', 'epci', 'collectivite_territoriale', 'departement', 'region', 'adresse_ban', 'batiment_rnb_lien_bdtopo', 'lien_adresse_vers_bdtopo', 'section_de_points_de_repere', 'info_metadonnees', 'metadonnees_lot', 'metadonnees_theme', 'layer_styles'. Specify layer parameter to avoid this warning.\n",
      "  crs = pyogrio.read_info(path_or_bytes).get(\"crs\")\n"
     ]
    },
    {
     "name": "stdout",
     "output_type": "stream",
     "text": [
      "Nb de batiments:  351576\n"
     ]
    }
   ],
   "source": [
    "buildings = get_topo_buildings_of_interest(\n",
    "    bd_topo_path=bd_topo_path,\n",
    "    geom_of_interest=geom_of_interest,\n",
    "    crs=DEFAULT_CRS\n",
    ")\n",
    "nb_buildings = buildings.shape[0]\n",
    "print(\"Nb de batiments: \", nb_buildings)"
   ]
  },
  {
   "cell_type": "markdown",
   "id": "176817ac7bffea59",
   "metadata": {},
   "source": [
    "<!-- ### Zones avec des bâtiments protégés -->"
   ]
  },
  {
   "cell_type": "code",
   "execution_count": 77,
   "id": "6d9accb3a3076291",
   "metadata": {},
   "outputs": [],
   "source": [
    "areas_with_protected_buildings = get_areas_with_protected_buildings(\n",
    "    bd_protected_buildings_path=sources[\"immeubles_proteges\"].filepath,\n",
    "    geom_of_interest=geom_of_interest,\n",
    "    crs=DEFAULT_CRS\n",
    ")"
   ]
  },
  {
   "cell_type": "markdown",
   "id": "129b67af5c421e52",
   "metadata": {},
   "source": [
    "<!-- # Détermination des bâtiments scolaires -->"
   ]
  },
  {
   "cell_type": "code",
   "execution_count": 78,
   "id": "f164fcc395a85eeb",
   "metadata": {},
   "outputs": [
    {
     "name": "stderr",
     "output_type": "stream",
     "text": [
      "D:\\datafrogood\\13_potentiel_solaire\\algorithme\\potentiel_solaire\\attach_buildings_to_schools.py:23: UserWarning: `keep_geom_type=True` in overlay resulted in 162 dropped geometries of different geometry types than df1 has. Set `keep_geom_type=False` to retain all geometries\n",
      "  intersections = gpd.overlay(\n",
      "D:\\datafrogood\\13_potentiel_solaire\\algorithme\\potentiel_solaire\\attach_buildings_to_schools.py:43: FutureWarning: A value is trying to be set on a copy of a DataFrame or Series through chained assignment using an inplace method.\n",
      "The behavior will change in pandas 3.0. This inplace method will never work because the intermediate object on which we are setting values always behaves as a copy.\n",
      "\n",
      "For example, when doing 'df[col].method(value, inplace=True)', try using 'df.method({col: value}, inplace=True)' or df[col] = df[col].method(value) instead, to perform the operation inplace on the original object.\n",
      "\n",
      "\n",
      "  educational_zones_merged[\"cleabs_grande_zone\"].fillna(educational_zones_merged[\"cleabs\"], inplace=True)\n",
      "d:\\datafrogood\\13_potentiel_solaire\\algorithme\\.venv\\Lib\\site-packages\\geopandas\\geodataframe.py:1819: SettingWithCopyWarning: \n",
      "A value is trying to be set on a copy of a slice from a DataFrame.\n",
      "Try using .loc[row_indexer,col_indexer] = value instead\n",
      "\n",
      "See the caveats in the documentation: https://pandas.pydata.org/pandas-docs/stable/user_guide/indexing.html#returning-a-view-versus-a-copy\n",
      "  super().__setitem__(key, value)\n",
      "2025-04-03 11:12:38,033 - WARNING - root - D:\\datafrogood\\13_potentiel_solaire\\algorithme\\potentiel_solaire\\attach_buildings_to_schools.py - attach_buildings_to_schools - 395 ecoles partagent une zone d education avec d autres sur un total 1109 (36%) et sont ecartees du calcul\n",
      "2025-04-03 11:12:38,661 - INFO - root - D:\\datafrogood\\13_potentiel_solaire\\algorithme\\potentiel_solaire\\attach_buildings_to_schools.py - attach_buildings_to_schools - 7136065m² de zone deducation attachee a un etablissement sur un total de 7573240m² (94 %)\n",
      "D:\\datafrogood\\13_potentiel_solaire\\algorithme\\potentiel_solaire\\attach_buildings_to_schools.py:105: UserWarning: `keep_geom_type=True` in overlay resulted in 394 dropped geometries of different geometry types than df1 has. Set `keep_geom_type=False` to retain all geometries\n",
      "  buildings_for_schools = gpd.overlay(\n"
     ]
    },
    {
     "name": "stdout",
     "output_type": "stream",
     "text": [
      "Nb de batiments scolaires:  4261\n"
     ]
    }
   ],
   "source": [
    "schools_buildings = attach_buildings_to_schools(\n",
    "    schools_establishments=schools_establishments,\n",
    "    educational_zones=educational_zones,\n",
    "    buildings=buildings\n",
    ")\n",
    "nb_schools_buildings = schools_buildings.shape[0]\n",
    "print(\"Nb de batiments scolaires: \", nb_schools_buildings)"
   ]
  },
  {
   "cell_type": "markdown",
   "id": "25094a9970938a7d",
   "metadata": {},
   "source": [
    "<!-- # Calcul des attributs utiles pour le potentiel solaire -->"
   ]
  },
  {
   "cell_type": "code",
   "execution_count": 79,
   "id": "c0cf2ab1980a4b17",
   "metadata": {},
   "outputs": [
    {
     "name": "stderr",
     "output_type": "stream",
     "text": [
      "D:\\datafrogood\\13_potentiel_solaire\\algorithme\\potentiel_solaire\\features\\solar_potential.py:51: UserWarning: Geometry is in a geographic CRS. Results from 'centroid' are likely incorrect. Use 'GeoSeries.to_crs()' to re-project geometries to a projected CRS before this operation.\n",
      "\n",
      "  center = Point(geom_of_interest.centroid.x, geom_of_interest.centroid.y)\n",
      "D:\\datafrogood\\13_potentiel_solaire\\algorithme\\potentiel_solaire\\features\\solar_potential.py:52: UserWarning: Geometry is in a geographic CRS. Results from 'distance' are likely incorrect. Use 'GeoSeries.to_crs()' to re-project geometries to a projected CRS before this operation.\n",
      "\n",
      "  schools_buildings[\"distance_to_center\"] = schools_buildings.geometry.distance(center)\n"
     ]
    }
   ],
   "source": [
    "solar_potential_of_schools_buildings = calculate_solar_potential(\n",
    "    schools_buildings=schools_buildings,\n",
    "    areas_with_protected_buildings=areas_with_protected_buildings,\n",
    "    geom_of_interest=geom_of_interest\n",
    ")\n"
   ]
  },
  {
   "cell_type": "markdown",
   "id": "21abf1a8a6a99b54",
   "metadata": {},
   "source": [
    "<!-- # Evaluation du Potentiel solaire par Etablissement -->"
   ]
  },
  {
   "cell_type": "code",
   "execution_count": 82,
   "id": "1c18ec7a9440025a",
   "metadata": {},
   "outputs": [
    {
     "data": {
      "text/html": [
       "<div>\n",
       "<style scoped>\n",
       "    .dataframe tbody tr th:only-of-type {\n",
       "        vertical-align: middle;\n",
       "    }\n",
       "\n",
       "    .dataframe tbody tr th {\n",
       "        vertical-align: top;\n",
       "    }\n",
       "\n",
       "    .dataframe thead th {\n",
       "        text-align: right;\n",
       "    }\n",
       "</style>\n",
       "<table border=\"1\" class=\"dataframe\">\n",
       "  <thead>\n",
       "    <tr style=\"text-align: right;\">\n",
       "      <th></th>\n",
       "      <th>identifiant_de_l_etablissement</th>\n",
       "      <th>surface_utile</th>\n",
       "      <th>potentiel_solaire</th>\n",
       "      <th>protection</th>\n",
       "    </tr>\n",
       "  </thead>\n",
       "  <tbody>\n",
       "    <tr>\n",
       "      <th>0</th>\n",
       "      <td>0930043S</td>\n",
       "      <td>2261.489038</td>\n",
       "      <td>5.548897e+05</td>\n",
       "      <td>False</td>\n",
       "    </tr>\n",
       "    <tr>\n",
       "      <th>1</th>\n",
       "      <td>0930089S</td>\n",
       "      <td>3245.297871</td>\n",
       "      <td>7.962817e+05</td>\n",
       "      <td>True</td>\n",
       "    </tr>\n",
       "    <tr>\n",
       "      <th>2</th>\n",
       "      <td>0930100D</td>\n",
       "      <td>2069.812266</td>\n",
       "      <td>5.078590e+05</td>\n",
       "      <td>False</td>\n",
       "    </tr>\n",
       "    <tr>\n",
       "      <th>3</th>\n",
       "      <td>0930116W</td>\n",
       "      <td>2563.574939</td>\n",
       "      <td>6.290109e+05</td>\n",
       "      <td>True</td>\n",
       "    </tr>\n",
       "    <tr>\n",
       "      <th>4</th>\n",
       "      <td>0930117X</td>\n",
       "      <td>4907.794034</td>\n",
       "      <td>1.204200e+06</td>\n",
       "      <td>True</td>\n",
       "    </tr>\n",
       "  </tbody>\n",
       "</table>\n",
       "</div>"
      ],
      "text/plain": [
       "  identifiant_de_l_etablissement  surface_utile  potentiel_solaire  protection\n",
       "0                       0930043S    2261.489038       5.548897e+05       False\n",
       "1                       0930089S    3245.297871       7.962817e+05        True\n",
       "2                       0930100D    2069.812266       5.078590e+05       False\n",
       "3                       0930116W    2563.574939       6.290109e+05        True\n",
       "4                       0930117X    4907.794034       1.204200e+06        True"
      ]
     },
     "execution_count": 82,
     "metadata": {},
     "output_type": "execute_result"
    }
   ],
   "source": [
    "results_by_school = aggregate_solar_potential_by_etablishment(\n",
    "    schools_establishments=schools_establishments,\n",
    "    solar_potential_of_schools_buildings=solar_potential_of_schools_buildings\n",
    ")\n",
    "\n",
    "results_by_school.head()"
   ]
  },
  {
   "cell_type": "markdown",
   "id": "c5e2e9402f665b43",
   "metadata": {},
   "source": [
    "<!-- # Checks sur la qualité des données & calculs -->"
   ]
  },
  {
   "cell_type": "code",
   "execution_count": 83,
   "id": "987227d834fdbfe5",
   "metadata": {},
   "outputs": [
    {
     "name": "stdout",
     "output_type": "stream",
     "text": [
      "Nb d'établissements scolaires avec des batiments: 694 (61%)\n"
     ]
    }
   ],
   "source": [
    "nb_schools_with_buildings = len(schools_buildings.identifiant_de_l_etablissement.unique())\n",
    "print(\"Nb d'établissements scolaires avec des batiments: {} ({}%)\".format(\n",
    "    nb_schools_with_buildings,\n",
    "    round(100 * nb_schools_with_buildings / nb_schools)\n",
    "))"
   ]
  },
  {
   "cell_type": "code",
   "execution_count": 84,
   "id": "8de62fb84550db79",
   "metadata": {},
   "outputs": [
    {
     "name": "stdout",
     "output_type": "stream",
     "text": [
      "Nb de batiments protégés 1134 (26.61%)\n"
     ]
    }
   ],
   "source": [
    "nb_buildings_protected = solar_potential_of_schools_buildings[solar_potential_of_schools_buildings.protection].shape[0]\n",
    "print(f\"Nb de batiments protégés {nb_buildings_protected} ({100*nb_buildings_protected/nb_schools_buildings:.2f}%)\")"
   ]
  },
  {
   "cell_type": "markdown",
   "id": "17160719d605e13",
   "metadata": {},
   "source": [
    "<!-- ### Evaluation du Potentiel solaire par Etablissement -->"
   ]
  },
  {
   "cell_type": "code",
   "execution_count": 85,
   "id": "ea2303f4967745b4",
   "metadata": {},
   "outputs": [],
   "source": [
    "results_by_school = aggregate_solar_potential_by_etablishment(\n",
    "    schools_establishments=schools_establishments,\n",
    "    solar_potential_of_schools_buildings=solar_potential_of_schools_buildings\n",
    ")\n"
   ]
  },
  {
   "cell_type": "markdown",
   "id": "229708fb93570bb0",
   "metadata": {},
   "source": [
    "<!-- # Sauvegarde des calculs en Base de Données -->"
   ]
  },
  {
   "cell_type": "markdown",
   "id": "76f552dc",
   "metadata": {},
   "source": [
    "<!-- #### Mise à jour des données des Etablissements du Département en Base de Données -->"
   ]
  },
  {
   "cell_type": "code",
   "execution_count": 86,
   "id": "a6e15203",
   "metadata": {},
   "outputs": [
    {
     "data": {
      "text/html": [
       "<div>\n",
       "<style scoped>\n",
       "    .dataframe tbody tr th:only-of-type {\n",
       "        vertical-align: middle;\n",
       "    }\n",
       "\n",
       "    .dataframe tbody tr th {\n",
       "        vertical-align: top;\n",
       "    }\n",
       "\n",
       "    .dataframe thead th {\n",
       "        text-align: right;\n",
       "    }\n",
       "</style>\n",
       "<table border=\"1\" class=\"dataframe\">\n",
       "  <thead>\n",
       "    <tr style=\"text-align: right;\">\n",
       "      <th></th>\n",
       "      <th>identifiant_de_l_etablissement</th>\n",
       "      <th>nom_etablissement</th>\n",
       "      <th>type_etablissement</th>\n",
       "      <th>libelle_nature</th>\n",
       "      <th>code_commune</th>\n",
       "      <th>nom_commune</th>\n",
       "      <th>code_departement</th>\n",
       "      <th>libelle_departement</th>\n",
       "      <th>code_region</th>\n",
       "      <th>libelle_region</th>\n",
       "      <th>surface_utile</th>\n",
       "      <th>potentiel_solaire</th>\n",
       "      <th>protection</th>\n",
       "      <th>geo_point</th>\n",
       "      <th>geometry</th>\n",
       "    </tr>\n",
       "  </thead>\n",
       "  <tbody>\n",
       "    <tr>\n",
       "      <th>0</th>\n",
       "      <td>0930171F</td>\n",
       "      <td>Ecole élémentaire Diderot 1</td>\n",
       "      <td>Ecole</td>\n",
       "      <td>ECOLE DE NIVEAU ELEMENTAIRE</td>\n",
       "      <td>93029</td>\n",
       "      <td>Drancy</td>\n",
       "      <td>093</td>\n",
       "      <td>Seine-Saint-Denis</td>\n",
       "      <td>11</td>\n",
       "      <td>Ile-de-France</td>\n",
       "      <td>1991</td>\n",
       "      <td>488452</td>\n",
       "      <td>False</td>\n",
       "      <td>[0, 0, 0, 0, 0, 0, 0, 0, 0, 0, 0, 0, 1, 0, 0, ...</td>\n",
       "      <td>{\"type\":\"Point\",\"coordinates\":[2.4260302949154...</td>\n",
       "    </tr>\n",
       "    <tr>\n",
       "      <th>1</th>\n",
       "      <td>0930173H</td>\n",
       "      <td>Ecole élémentaire Marcel Cachin</td>\n",
       "      <td>Ecole</td>\n",
       "      <td>ECOLE DE NIVEAU ELEMENTAIRE</td>\n",
       "      <td>93055</td>\n",
       "      <td>Pantin</td>\n",
       "      <td>093</td>\n",
       "      <td>Seine-Saint-Denis</td>\n",
       "      <td>11</td>\n",
       "      <td>Ile-de-France</td>\n",
       "      <td>1304</td>\n",
       "      <td>320031</td>\n",
       "      <td>False</td>\n",
       "      <td>[0, 0, 0, 0, 0, 0, 0, 0, 0, 0, 0, 0, 1, 0, 0, ...</td>\n",
       "      <td>{\"type\":\"Point\",\"coordinates\":[2.4136966799138...</td>\n",
       "    </tr>\n",
       "    <tr>\n",
       "      <th>2</th>\n",
       "      <td>0930194F</td>\n",
       "      <td>Ecole élémentaire Jean Macé</td>\n",
       "      <td>Ecole</td>\n",
       "      <td>ECOLE DE NIVEAU ELEMENTAIRE</td>\n",
       "      <td>93001</td>\n",
       "      <td>Aubervilliers</td>\n",
       "      <td>093</td>\n",
       "      <td>Seine-Saint-Denis</td>\n",
       "      <td>11</td>\n",
       "      <td>Ile-de-France</td>\n",
       "      <td>0</td>\n",
       "      <td>0</td>\n",
       "      <td>False</td>\n",
       "      <td>[0, 0, 0, 0, 0, 0, 0, 0, 0, 0, 0, 0, 1, 0, 0, ...</td>\n",
       "      <td>{\"type\":\"Point\",\"coordinates\":[2.3897234458295...</td>\n",
       "    </tr>\n",
       "  </tbody>\n",
       "</table>\n",
       "</div>"
      ],
      "text/plain": [
       "  identifiant_de_l_etablissement                nom_etablissement  \\\n",
       "0                       0930171F      Ecole élémentaire Diderot 1   \n",
       "1                       0930173H  Ecole élémentaire Marcel Cachin   \n",
       "2                       0930194F      Ecole élémentaire Jean Macé   \n",
       "\n",
       "  type_etablissement               libelle_nature code_commune    nom_commune  \\\n",
       "0              Ecole  ECOLE DE NIVEAU ELEMENTAIRE        93029         Drancy   \n",
       "1              Ecole  ECOLE DE NIVEAU ELEMENTAIRE        93055         Pantin   \n",
       "2              Ecole  ECOLE DE NIVEAU ELEMENTAIRE        93001  Aubervilliers   \n",
       "\n",
       "  code_departement libelle_departement code_region libelle_region  \\\n",
       "0              093   Seine-Saint-Denis          11  Ile-de-France   \n",
       "1              093   Seine-Saint-Denis          11  Ile-de-France   \n",
       "2              093   Seine-Saint-Denis          11  Ile-de-France   \n",
       "\n",
       "   surface_utile  potentiel_solaire  protection  \\\n",
       "0           1991             488452       False   \n",
       "1           1304             320031       False   \n",
       "2              0                  0       False   \n",
       "\n",
       "                                           geo_point  \\\n",
       "0  [0, 0, 0, 0, 0, 0, 0, 0, 0, 0, 0, 0, 1, 0, 0, ...   \n",
       "1  [0, 0, 0, 0, 0, 0, 0, 0, 0, 0, 0, 0, 1, 0, 0, ...   \n",
       "2  [0, 0, 0, 0, 0, 0, 0, 0, 0, 0, 0, 0, 1, 0, 0, ...   \n",
       "\n",
       "                                            geometry  \n",
       "0  {\"type\":\"Point\",\"coordinates\":[2.4260302949154...  \n",
       "1  {\"type\":\"Point\",\"coordinates\":[2.4136966799138...  \n",
       "2  {\"type\":\"Point\",\"coordinates\":[2.3897234458295...  "
      ]
     },
     "execution_count": 86,
     "metadata": {},
     "output_type": "execute_result"
    }
   ],
   "source": [
    "stats_schools= save_solar_potential_by_school(\n",
    "    results_by_school,\n",
    "    code_departement\n",
    ")\n",
    "\n",
    "assert stats_schools.query('surface_utile > 0').shape[0] > 0, \"Problème lors de la mise à jour des établissements\"\n",
    "\n",
    "stats_schools.head(3)"
   ]
  },
  {
   "cell_type": "markdown",
   "id": "8b0bbdfa",
   "metadata": {},
   "source": [
    "<!-- #### Mise à jour des données des Communes du Département en Base de Données -->"
   ]
  },
  {
   "cell_type": "code",
   "execution_count": 87,
   "id": "341619cc",
   "metadata": {},
   "outputs": [
    {
     "data": {
      "text/html": [
       "<div>\n",
       "<style scoped>\n",
       "    .dataframe tbody tr th:only-of-type {\n",
       "        vertical-align: middle;\n",
       "    }\n",
       "\n",
       "    .dataframe tbody tr th {\n",
       "        vertical-align: top;\n",
       "    }\n",
       "\n",
       "    .dataframe thead th {\n",
       "        text-align: right;\n",
       "    }\n",
       "</style>\n",
       "<table border=\"1\" class=\"dataframe\">\n",
       "  <thead>\n",
       "    <tr style=\"text-align: right;\">\n",
       "      <th></th>\n",
       "      <th>code_commune</th>\n",
       "      <th>nom_commune</th>\n",
       "      <th>code_departement</th>\n",
       "      <th>libelle_departement</th>\n",
       "      <th>code_region</th>\n",
       "      <th>libelle_region</th>\n",
       "      <th>surface_utile</th>\n",
       "      <th>potentiel_solaire</th>\n",
       "      <th>count_etablissements</th>\n",
       "      <th>count_etablissements_proteges</th>\n",
       "      <th>geom</th>\n",
       "      <th>geometry</th>\n",
       "    </tr>\n",
       "  </thead>\n",
       "  <tbody>\n",
       "    <tr>\n",
       "      <th>0</th>\n",
       "      <td>93001</td>\n",
       "      <td>Aubervilliers</td>\n",
       "      <td>093</td>\n",
       "      <td>Seine-Saint-Denis</td>\n",
       "      <td>11</td>\n",
       "      <td>Île-de-France</td>\n",
       "      <td>52912</td>\n",
       "      <td>12982361</td>\n",
       "      <td>49</td>\n",
       "      <td>12</td>\n",
       "      <td>[2, 4, 0, 0, 0, 0, 0, 0, 170, 102, 23, 64, 209...</td>\n",
       "      <td>{\"type\":\"Polygon\",\"coordinates\":[[[2.389324795...</td>\n",
       "    </tr>\n",
       "    <tr>\n",
       "      <th>1</th>\n",
       "      <td>93005</td>\n",
       "      <td>Aulnay-sous-Bois</td>\n",
       "      <td>093</td>\n",
       "      <td>Seine-Saint-Denis</td>\n",
       "      <td>11</td>\n",
       "      <td>Île-de-France</td>\n",
       "      <td>71801</td>\n",
       "      <td>17617972</td>\n",
       "      <td>65</td>\n",
       "      <td>3</td>\n",
       "      <td>[2, 4, 0, 0, 0, 0, 0, 0, 224, 104, 29, 64, 232...</td>\n",
       "      <td>{\"type\":\"Polygon\",\"coordinates\":[[[2.507176188...</td>\n",
       "    </tr>\n",
       "    <tr>\n",
       "      <th>2</th>\n",
       "      <td>93006</td>\n",
       "      <td>Bagnolet</td>\n",
       "      <td>093</td>\n",
       "      <td>Seine-Saint-Denis</td>\n",
       "      <td>11</td>\n",
       "      <td>Île-de-France</td>\n",
       "      <td>22736</td>\n",
       "      <td>5578014</td>\n",
       "      <td>24</td>\n",
       "      <td>7</td>\n",
       "      <td>[2, 4, 0, 0, 0, 0, 0, 0, 233, 116, 26, 64, 187...</td>\n",
       "      <td>{\"type\":\"Polygon\",\"coordinates\":[[[2.415272860...</td>\n",
       "    </tr>\n",
       "  </tbody>\n",
       "</table>\n",
       "</div>"
      ],
      "text/plain": [
       "  code_commune       nom_commune code_departement libelle_departement  \\\n",
       "0        93001     Aubervilliers              093   Seine-Saint-Denis   \n",
       "1        93005  Aulnay-sous-Bois              093   Seine-Saint-Denis   \n",
       "2        93006          Bagnolet              093   Seine-Saint-Denis   \n",
       "\n",
       "  code_region libelle_region  surface_utile  potentiel_solaire  \\\n",
       "0          11  Île-de-France          52912           12982361   \n",
       "1          11  Île-de-France          71801           17617972   \n",
       "2          11  Île-de-France          22736            5578014   \n",
       "\n",
       "   count_etablissements  count_etablissements_proteges  \\\n",
       "0                    49                             12   \n",
       "1                    65                              3   \n",
       "2                    24                              7   \n",
       "\n",
       "                                                geom  \\\n",
       "0  [2, 4, 0, 0, 0, 0, 0, 0, 170, 102, 23, 64, 209...   \n",
       "1  [2, 4, 0, 0, 0, 0, 0, 0, 224, 104, 29, 64, 232...   \n",
       "2  [2, 4, 0, 0, 0, 0, 0, 0, 233, 116, 26, 64, 187...   \n",
       "\n",
       "                                            geometry  \n",
       "0  {\"type\":\"Polygon\",\"coordinates\":[[[2.389324795...  \n",
       "1  {\"type\":\"Polygon\",\"coordinates\":[[[2.507176188...  \n",
       "2  {\"type\":\"Polygon\",\"coordinates\":[[[2.415272860...  "
      ]
     },
     "execution_count": 87,
     "metadata": {},
     "output_type": "execute_result"
    }
   ],
   "source": [
    "stats_communes = save_solar_potential_by_commune(\n",
    "    code_departement\n",
    ")\n",
    "\n",
    "assert stats_communes.query('surface_utile > 0').shape[0] > 0, \"Problème lors de la mise à jour des communes\"\n",
    "\n",
    "stats_communes.head(3)"
   ]
  },
  {
   "cell_type": "markdown",
   "id": "aa3147ae",
   "metadata": {},
   "source": [
    "<!-- #### Mise à jour des données du Département en Base de données -->"
   ]
  },
  {
   "cell_type": "code",
   "execution_count": 88,
   "id": "7a46bd4a",
   "metadata": {},
   "outputs": [
    {
     "data": {
      "text/html": [
       "<div>\n",
       "<style scoped>\n",
       "    .dataframe tbody tr th:only-of-type {\n",
       "        vertical-align: middle;\n",
       "    }\n",
       "\n",
       "    .dataframe tbody tr th {\n",
       "        vertical-align: top;\n",
       "    }\n",
       "\n",
       "    .dataframe thead th {\n",
       "        text-align: right;\n",
       "    }\n",
       "</style>\n",
       "<table border=\"1\" class=\"dataframe\">\n",
       "  <thead>\n",
       "    <tr style=\"text-align: right;\">\n",
       "      <th></th>\n",
       "      <th>code_departement</th>\n",
       "      <th>libelle_departement</th>\n",
       "      <th>code_region</th>\n",
       "      <th>libelle_region</th>\n",
       "      <th>surface_utile</th>\n",
       "      <th>potentiel_solaire</th>\n",
       "      <th>count_etablissements</th>\n",
       "      <th>count_etablissements_proteges</th>\n",
       "      <th>geom</th>\n",
       "      <th>geometry</th>\n",
       "    </tr>\n",
       "  </thead>\n",
       "  <tbody>\n",
       "    <tr>\n",
       "      <th>0</th>\n",
       "      <td>093</td>\n",
       "      <td>Seine-Saint-Denis</td>\n",
       "      <td>11</td>\n",
       "      <td>Île-de-France</td>\n",
       "      <td>1153319</td>\n",
       "      <td>282983251</td>\n",
       "      <td>1130</td>\n",
       "      <td>193</td>\n",
       "      <td>[2, 4, 0, 0, 0, 0, 0, 0, 254, 115, 18, 64, 159...</td>\n",
       "      <td>{\"type\":\"Polygon\",\"coordinates\":[[[2.319887543...</td>\n",
       "    </tr>\n",
       "  </tbody>\n",
       "</table>\n",
       "</div>"
      ],
      "text/plain": [
       "  code_departement libelle_departement code_region libelle_region  \\\n",
       "0              093   Seine-Saint-Denis          11  Île-de-France   \n",
       "\n",
       "   surface_utile  potentiel_solaire  count_etablissements  \\\n",
       "0        1153319          282983251                  1130   \n",
       "\n",
       "   count_etablissements_proteges  \\\n",
       "0                            193   \n",
       "\n",
       "                                                geom  \\\n",
       "0  [2, 4, 0, 0, 0, 0, 0, 0, 254, 115, 18, 64, 159...   \n",
       "\n",
       "                                            geometry  \n",
       "0  {\"type\":\"Polygon\",\"coordinates\":[[[2.319887543...  "
      ]
     },
     "execution_count": 88,
     "metadata": {},
     "output_type": "execute_result"
    }
   ],
   "source": [
    "stats_department = save_solar_potential_by_department(\n",
    "    code_departement\n",
    ")\n",
    "\n",
    "assert stats_department['surface_utile'].shape[0] > 0, f\"Problème lors de la mise à jour du département {code_departement}\"\n",
    "\n",
    "stats_department.head(3)"
   ]
  },
  {
   "cell_type": "markdown",
   "id": "2723a1b3",
   "metadata": {},
   "source": [
    "<!-- # Dump des donnees pour analyses -->"
   ]
  },
  {
   "cell_type": "code",
   "execution_count": 89,
   "id": "9117b553",
   "metadata": {},
   "outputs": [
    {
     "name": "stderr",
     "output_type": "stream",
     "text": [
      "2025-04-03 11:14:06,862 - INFO - pyogrio._io - d:\\datafrogood\\13_potentiel_solaire\\algorithme\\.venv\\Lib\\site-packages\\pyogrio\\raw.py - write - Created 1,130 records\n",
      "2025-04-03 11:14:06,981 - INFO - pyogrio._io - d:\\datafrogood\\13_potentiel_solaire\\algorithme\\.venv\\Lib\\site-packages\\pyogrio\\raw.py - write - Created 1,088 records\n",
      "2025-04-03 11:14:07,257 - INFO - pyogrio._io - d:\\datafrogood\\13_potentiel_solaire\\algorithme\\.venv\\Lib\\site-packages\\pyogrio\\raw.py - write - Created 4,261 records\n",
      "2025-04-03 11:14:07,565 - INFO - pyogrio._io - d:\\datafrogood\\13_potentiel_solaire\\algorithme\\.venv\\Lib\\site-packages\\pyogrio\\raw.py - write - Created 4,261 records\n",
      "2025-04-03 11:14:07,680 - INFO - pyogrio._io - d:\\datafrogood\\13_potentiel_solaire\\algorithme\\.venv\\Lib\\site-packages\\pyogrio\\raw.py - write - Created 88 records\n",
      "2025-04-03 11:14:07,850 - INFO - pyogrio._io - d:\\datafrogood\\13_potentiel_solaire\\algorithme\\.venv\\Lib\\site-packages\\pyogrio\\raw.py - write - Created 1,130 records\n",
      "2025-04-03 11:14:07,907 - INFO - root - D:\\datafrogood\\13_potentiel_solaire\\algorithme\\potentiel_solaire\\geojson_files_creator.py - export_to_geofile - Fichier 'D:\\datafrogood\\13_potentiel_solaire\\algorithme\\data\\results\\D093_pipeline_results.gpkg' créé avec succès ✅\n",
      "2025-04-03 11:14:07,954 - INFO - pyogrio._io - d:\\datafrogood\\13_potentiel_solaire\\algorithme\\.venv\\Lib\\site-packages\\pyogrio\\raw.py - write - Created 40 records\n",
      "2025-04-03 11:14:08,006 - INFO - root - D:\\datafrogood\\13_potentiel_solaire\\algorithme\\potentiel_solaire\\geojson_files_creator.py - export_to_geofile - Fichier 'D:\\datafrogood\\13_potentiel_solaire\\algorithme\\data\\results\\D093_pipeline_results.gpkg' créé avec succès ✅\n",
      "2025-04-03 11:14:08,044 - INFO - pyogrio._io - d:\\datafrogood\\13_potentiel_solaire\\algorithme\\.venv\\Lib\\site-packages\\pyogrio\\raw.py - write - Created 1 records\n",
      "2025-04-03 11:14:08,096 - INFO - root - D:\\datafrogood\\13_potentiel_solaire\\algorithme\\potentiel_solaire\\geojson_files_creator.py - export_to_geofile - Fichier 'D:\\datafrogood\\13_potentiel_solaire\\algorithme\\data\\results\\D093_pipeline_results.gpkg' créé avec succès ✅\n"
     ]
    },
    {
     "data": {
      "text/plain": [
       "True"
      ]
     },
     "execution_count": 89,
     "metadata": {},
     "output_type": "execute_result"
    }
   ],
   "source": [
    "layers = [\"schools_establishments\", \"educational_zones\", \"schools_buildings\", \"solar_potential_of_schools_buildings\", \"areas_with_protected_buildings\"]\n",
    "gdfs = [schools_establishments, educational_zones, schools_buildings, solar_potential_of_schools_buildings, areas_with_protected_buildings]\n",
    "output_gpkg = RESULTS_FOLDER / f\"D{code_departement}_pipeline_results.gpkg\"\n",
    "\n",
    "for layer, gdf in zip(layers, gdfs):\n",
    "    gdf.to_file(output_gpkg, layer=layer, driver=\"GPKG\")\n",
    "\n",
    "export_to_geofile(stats_schools, output_gpkg, layer=\"etablissements\", driver=\"GPKG\")\n",
    "export_to_geofile(stats_communes, output_gpkg, layer=\"communes\", driver=\"GPKG\")\n",
    "export_to_geofile(stats_department, output_gpkg, layer=\"departements\", driver=\"GPKG\")"
   ]
  }
 ],
 "metadata": {
  "kernelspec": {
   "display_name": ".venv",
   "language": "python",
   "name": "python3"
  },
  "language_info": {
   "codemirror_mode": {
    "name": "ipython",
    "version": 3
   },
   "file_extension": ".py",
   "mimetype": "text/x-python",
   "name": "python",
   "nbconvert_exporter": "python",
   "pygments_lexer": "ipython3",
   "version": "3.12.0"
  }
 },
 "nbformat": 4,
 "nbformat_minor": 5
}
