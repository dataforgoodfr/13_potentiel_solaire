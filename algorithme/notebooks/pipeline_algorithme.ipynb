{
 "cells": [
  {
   "cell_type": "code",
   "execution_count": 109,
   "id": "f1f565b7",
   "metadata": {},
   "outputs": [
    {
     "name": "stdout",
     "output_type": "stream",
     "text": [
      "The autoreload extension is already loaded. To reload it, use:\n",
      "  %reload_ext autoreload\n"
     ]
    }
   ],
   "source": [
    "%load_ext autoreload\n",
    "%autoreload 2"
   ]
  },
  {
   "cell_type": "markdown",
   "id": "7218350249b1103e",
   "metadata": {},
   "source": [
    "# Paramètres de la pipeline"
   ]
  },
  {
   "cell_type": "code",
   "execution_count": 110,
   "id": "6358f4912f9f22ab",
   "metadata": {
    "editable": true,
    "slideshow": {
     "slide_type": ""
    },
    "tags": [
     "parameters"
    ]
   },
   "outputs": [],
   "source": [
    "code_departement = \"093\"\n",
    "logs_level = \"WARNING\""
   ]
  },
  {
   "cell_type": "markdown",
   "id": "d3a70f3e57e62a7c",
   "metadata": {},
   "source": [
    "# Imports & setup"
   ]
  },
  {
   "cell_type": "code",
   "execution_count": null,
   "id": "aa88b759c982f54c",
   "metadata": {},
   "outputs": [],
   "source": [
    "import duckdb\n",
    "import geopandas as gpd\n",
    "import pandas as pd\n",
    "\n",
    "from potentiel_solaire.attach_buildings_to_schools import attach_buildings_to_schools\n",
    "from potentiel_solaire.constants import DEFAULT_CRS, ALGORITHME_FOLDER, DATA_FOLDER\n",
    "from potentiel_solaire.sources.bd_topo import extract_bd_topo, get_topo_zones_of_interest, \\\n",
    "    get_topo_buildings_of_interest\n",
    "from potentiel_solaire.sources.bd_pci import extract_bd_pci\n",
    "from potentiel_solaire.sources.schools_establishments import extract_schools_establishments, \\\n",
    "    get_schools_establishments_of_interest\n",
    "from potentiel_solaire.sources.protected_buildings import extract_protected_buildings, get_areas_with_protected_buildings\n",
    "from potentiel_solaire.features.solar_potential import calculate_solar_potential\n",
    "from potentiel_solaire.aggregate import aggregate_solar_potential_by_etablishment\n",
    "from potentiel_solaire.geojson_files_creator import export_to_geojson\n",
    "from potentiel_solaire.logger import get_logger\n",
    "\n",
    "logger = get_logger()\n",
    "logger.setLevel(logs_level)\n",
    "pd.options.display.max_columns = None"
   ]
  },
  {
   "cell_type": "markdown",
   "id": "a9a9258eef4ab443",
   "metadata": {},
   "source": [
    "# Extraction des données sources"
   ]
  },
  {
   "cell_type": "markdown",
   "id": "463a1d94816fdbc3",
   "metadata": {},
   "source": [
    "### Etablissements scolaires"
   ]
  },
  {
   "cell_type": "code",
   "execution_count": 112,
   "id": "7d8bb82fa7db3b7d",
   "metadata": {},
   "outputs": [
    {
     "name": "stdout",
     "output_type": "stream",
     "text": [
      "Annuaire des établissements scolaires extrait ici: C:\\Users\\micka\\Projects\\13_potentiel_solaire\\algorithme\\data\\fr-en-annuaire-education.geojson\n"
     ]
    }
   ],
   "source": [
    "schools_establishments_path = extract_schools_establishments()\n",
    "print(f\"Annuaire des établissements scolaires extrait ici: {schools_establishments_path}\")"
   ]
  },
  {
   "cell_type": "markdown",
   "id": "d24a2e59f349d78c",
   "metadata": {},
   "source": [
    "### BD TOPO"
   ]
  },
  {
   "cell_type": "code",
   "execution_count": 113,
   "id": "3e8f100f2f53930c",
   "metadata": {},
   "outputs": [
    {
     "name": "stdout",
     "output_type": "stream",
     "text": [
      "BD TOPO extraite ici: C:\\Users\\micka\\Projects\\13_potentiel_solaire\\algorithme\\data\\BDTOPO_3-4_TOUSTHEMES_GPKG_LAMB93_D093_2024-12-15\\BDTOPO\\1_DONNEES_LIVRAISON_2024-12-00134\\BDT_3-4_GPKG_LAMB93_D093-ED2024-12-15\\BDT_3-4_GPKG_LAMB93_D093-ED2024-12-15.gpkg\n"
     ]
    }
   ],
   "source": [
    "bd_topo_path = extract_bd_topo(code_departement=code_departement)\n",
    "print(f\"BD TOPO extraite ici: {bd_topo_path}\")"
   ]
  },
  {
   "cell_type": "markdown",
   "id": "c26ed5544663d238",
   "metadata": {},
   "source": [
    "### BD PCI"
   ]
  },
  {
   "cell_type": "code",
   "execution_count": 114,
   "id": "f22aa57125e42448",
   "metadata": {},
   "outputs": [
    {
     "name": "stdout",
     "output_type": "stream",
     "text": [
      "BD PCI extraite ici: C:\\Users\\micka\\Projects\\13_potentiel_solaire\\algorithme\\data\\PARCELLAIRE-EXPRESS_1-1__SHP_LAMB93_D093_2025-01-01\\PARCELLAIRE-EXPRESS\\1_DONNEES_LIVRAISON_2025-03-00057\\PEPCI_1-1_SHP_LAMB93_D093\\BATIMENT.SHP\n"
     ]
    }
   ],
   "source": [
    "bd_pci_path = extract_bd_pci(code_departement=code_departement)\n",
    "print(f\"BD PCI extraite ici: {bd_pci_path}\")"
   ],
   "outputs": [],
   "execution_count": null
  },
  {
   "cell_type": "markdown",
   "id": "5d3c5337",
   "metadata": {},
   "source": [
    "### BD Protected Buildings"
   ]
  },
  {
   "cell_type": "code",
   "execution_count": 116,
   "id": "1786941c",
   "metadata": {},
   "outputs": [
    {
     "name": "stdout",
     "output_type": "stream",
     "text": [
      "BD des bâtiments protégés extraite ici: C:\\Users\\micka\\Projects\\13_potentiel_solaire\\algorithme\\data/liste_immeubles_proteges.geojson\n"
     ]
    }
   ],
   "source": [
    "bd_protected_buildings_path = extract_protected_buildings()\n",
    "print(f\"BD des bâtiments protégés extraite ici: {bd_protected_buildings_path}\")"
   ]
  },
  {
   "cell_type": "markdown",
   "id": "b315616c8a49a102",
   "metadata": {},
   "source": [
    "# Filtre des données sur le périmètre du calcul"
   ]
  },
  {
   "cell_type": "markdown",
   "id": "8141e3850bdde72d",
   "metadata": {},
   "source": [
    "### Etablissements scolaires\n"
   ]
  },
  {
   "cell_type": "code",
   "execution_count": 117,
   "id": "8c2714f479cce131",
   "metadata": {},
   "outputs": [
    {
     "name": "stdout",
     "output_type": "stream",
     "text": [
      "Nb d'établissements scolaires: 1130\n"
     ]
    }
   ],
   "source": [
    "schools_establishments = get_schools_establishments_of_interest(\n",
    "    schools_filepath=schools_establishments_path,\n",
    "    code_departement=code_departement,\n",
    "    types_etablissements=['Ecole', 'Lycée', 'Collège'],\n",
    "    statut_public_prive=\"Public\",\n",
    "    etat=\"OUVERT\",\n",
    "    crs=DEFAULT_CRS\n",
    ")\n",
    "nb_schools = schools_establishments.shape[0]\n",
    "print(f\"Nb d'établissements scolaires: {nb_schools}\")"
   ]
  },
  {
   "cell_type": "markdown",
   "id": "6a7c50bff2a4dcab",
   "metadata": {},
   "source": [
    "### Zone d'intérêt géographique"
   ]
  },
  {
   "cell_type": "code",
   "execution_count": 118,
   "id": "90227f344c76c3d6",
   "metadata": {},
   "outputs": [],
   "source": [
    "codes_commune = schools_establishments[\"code_commune\"].unique()\n",
    "communes = gpd.read_file(bd_topo_path, layer=\"commune\").to_crs(DEFAULT_CRS)\n",
    "communes = communes[communes.code_insee.isin(codes_commune)]\n",
    "geom_of_interest = communes.dissolve()[[\"geometry\"]]"
   ]
  },
  {
   "cell_type": "markdown",
   "id": "ed36d1f4a8ff139d",
   "metadata": {},
   "source": [
    "### Zones d'éducations"
   ]
  },
  {
   "cell_type": "code",
   "execution_count": 119,
   "id": "62c98433be3c4844",
   "metadata": {},
   "outputs": [
    {
     "name": "stderr",
     "output_type": "stream",
     "text": [
      "c:\\Users\\micka\\Projects\\13_potentiel_solaire\\algorithme\\.venv\\Lib\\site-packages\\pyogrio\\core.py:279: RuntimeWarning: Field format 'character varying' not supported\n",
      "  return ogr_read_info(\n",
      "c:\\Users\\micka\\Projects\\13_potentiel_solaire\\algorithme\\.venv\\Lib\\site-packages\\pyogrio\\core.py:279: RuntimeWarning: Field format 'character varying(256)' not supported\n",
      "  return ogr_read_info(\n",
      "c:\\Users\\micka\\Projects\\13_potentiel_solaire\\algorithme\\.venv\\Lib\\site-packages\\pyogrio\\core.py:279: RuntimeWarning: Field format 'character varying(30)' not supported\n",
      "  return ogr_read_info(\n",
      "c:\\Users\\micka\\Projects\\13_potentiel_solaire\\algorithme\\.venv\\Lib\\site-packages\\pyogrio\\core.py:279: RuntimeWarning: Field format 'timestamp with time zone' not supported\n",
      "  return ogr_read_info(\n",
      "c:\\Users\\micka\\Projects\\13_potentiel_solaire\\algorithme\\.venv\\Lib\\site-packages\\geopandas\\io\\file.py:497: UserWarning: More than one layer found in 'BDT_3-4_GPKG_LAMB93_D093-ED2024-12-15.gpkg': 'troncon_de_route' (default), 'route_numerotee_ou_nommee', 'itineraire_autre', 'troncon_de_voie_ferree', 'equipement_de_transport', 'piste_d_aerodrome', 'aerodrome', 'point_de_repere', 'non_communication', 'point_du_reseau', 'voie_ferree_nommee', 'toponymie_transport', 'batiment', 'cimetiere', 'construction_lineaire', 'construction_ponctuelle', 'construction_surfacique', 'reservoir', 'ligne_orographique', 'pylone', 'terrain_de_sport', 'toponymie_bati', 'cours_d_eau', 'troncon_hydrographique', 'bassin_versant_topographique', 'plan_d_eau', 'surface_hydrographique', 'noeud_hydrographique', 'detail_hydrographique', 'toponymie_hydrographie', 'zone_d_habitation', 'lieu_dit_non_habite', 'detail_orographique', 'toponymie_lieux_nommes', 'canalisation', 'ligne_electrique', 'poste_de_transformation', 'erp', 'zone_d_activite_ou_d_interet', 'toponymie_services_et_activites', 'voie_nommee', 'parc_ou_reserve', 'foret_publique', 'toponymie_zones_reglementees', 'haie', 'zone_de_vegetation', 'arrondissement', 'arrondissement_municipal', 'commune', 'epci', 'collectivite_territoriale', 'departement', 'region', 'adresse_ban', 'batiment_rnb_lien_bdtopo', 'lien_adresse_vers_bdtopo', 'section_de_points_de_repere', 'info_metadonnees', 'metadonnees_lot', 'metadonnees_theme', 'layer_styles'. Specify layer parameter to avoid this warning.\n",
      "  crs = pyogrio.read_info(path_or_bytes).get(\"crs\")\n"
     ]
    },
    {
     "name": "stdout",
     "output_type": "stream",
     "text": [
      "Nb de zones d'éducations:  1088\n"
     ]
    }
   ],
   "source": [
    "educational_zones = get_topo_zones_of_interest(\n",
    "    bd_topo_path=bd_topo_path,\n",
    "    geom_of_interest=geom_of_interest,\n",
    "    categories=[\"Science et enseignement\"],\n",
    "    natures=['Collège', 'Lycée', 'Enseignement primaire'],\n",
    "    crs=DEFAULT_CRS\n",
    ")\n",
    "nb_educational_zones = educational_zones.shape[0]\n",
    "print(\"Nb de zones d'éducations: \", nb_educational_zones)"
   ]
  },
  {
   "cell_type": "markdown",
   "id": "50d92236b74ff088",
   "metadata": {},
   "source": [
    "### Bâtiments"
   ]
  },
  {
   "cell_type": "code",
   "execution_count": 120,
   "id": "b092bb4fd4942b",
   "metadata": {},
   "outputs": [
    {
     "name": "stderr",
     "output_type": "stream",
     "text": [
      "c:\\Users\\micka\\Projects\\13_potentiel_solaire\\algorithme\\.venv\\Lib\\site-packages\\pyogrio\\core.py:279: RuntimeWarning: Field format 'character varying' not supported\n",
      "  return ogr_read_info(\n",
      "c:\\Users\\micka\\Projects\\13_potentiel_solaire\\algorithme\\.venv\\Lib\\site-packages\\pyogrio\\core.py:279: RuntimeWarning: Field format 'character varying(256)' not supported\n",
      "  return ogr_read_info(\n",
      "c:\\Users\\micka\\Projects\\13_potentiel_solaire\\algorithme\\.venv\\Lib\\site-packages\\pyogrio\\core.py:279: RuntimeWarning: Field format 'character varying(30)' not supported\n",
      "  return ogr_read_info(\n",
      "c:\\Users\\micka\\Projects\\13_potentiel_solaire\\algorithme\\.venv\\Lib\\site-packages\\pyogrio\\core.py:279: RuntimeWarning: Field format 'timestamp with time zone' not supported\n",
      "  return ogr_read_info(\n",
      "c:\\Users\\micka\\Projects\\13_potentiel_solaire\\algorithme\\.venv\\Lib\\site-packages\\geopandas\\io\\file.py:497: UserWarning: More than one layer found in 'BDT_3-4_GPKG_LAMB93_D093-ED2024-12-15.gpkg': 'troncon_de_route' (default), 'route_numerotee_ou_nommee', 'itineraire_autre', 'troncon_de_voie_ferree', 'equipement_de_transport', 'piste_d_aerodrome', 'aerodrome', 'point_de_repere', 'non_communication', 'point_du_reseau', 'voie_ferree_nommee', 'toponymie_transport', 'batiment', 'cimetiere', 'construction_lineaire', 'construction_ponctuelle', 'construction_surfacique', 'reservoir', 'ligne_orographique', 'pylone', 'terrain_de_sport', 'toponymie_bati', 'cours_d_eau', 'troncon_hydrographique', 'bassin_versant_topographique', 'plan_d_eau', 'surface_hydrographique', 'noeud_hydrographique', 'detail_hydrographique', 'toponymie_hydrographie', 'zone_d_habitation', 'lieu_dit_non_habite', 'detail_orographique', 'toponymie_lieux_nommes', 'canalisation', 'ligne_electrique', 'poste_de_transformation', 'erp', 'zone_d_activite_ou_d_interet', 'toponymie_services_et_activites', 'voie_nommee', 'parc_ou_reserve', 'foret_publique', 'toponymie_zones_reglementees', 'haie', 'zone_de_vegetation', 'arrondissement', 'arrondissement_municipal', 'commune', 'epci', 'collectivite_territoriale', 'departement', 'region', 'adresse_ban', 'batiment_rnb_lien_bdtopo', 'lien_adresse_vers_bdtopo', 'section_de_points_de_repere', 'info_metadonnees', 'metadonnees_lot', 'metadonnees_theme', 'layer_styles'. Specify layer parameter to avoid this warning.\n",
      "  crs = pyogrio.read_info(path_or_bytes).get(\"crs\")\n"
     ]
    },
    {
     "name": "stdout",
     "output_type": "stream",
     "text": [
      "Nb de batiments:  351576\n"
     ]
    }
   ],
   "source": [
    "buildings = get_topo_buildings_of_interest(\n",
    "    bd_topo_path=bd_topo_path,\n",
    "    geom_of_interest=geom_of_interest,\n",
    "    crs=DEFAULT_CRS\n",
    ")\n",
    "nb_buildings = buildings.shape[0]\n",
    "print(\"Nb de batiments: \", nb_buildings)"
   ]
  },
  {
   "cell_type": "markdown",
   "id": "176817ac7bffea59",
   "metadata": {},
   "source": [
    "### Zones avec des bâtiments protégés"
   ]
  },
  {
   "cell_type": "code",
   "execution_count": 121,
   "id": "6d9accb3a3076291",
   "metadata": {},
   "outputs": [],
   "source": [
    "areas_with_protected_buildings = get_areas_with_protected_buildings(\n",
    "    bd_protected_buildings_path=bd_protected_buildings_path,\n",
    "    geom_of_interest=geom_of_interest,\n",
    "    crs=DEFAULT_CRS\n",
    ")"
   ]
  },
  {
   "cell_type": "markdown",
   "id": "129b67af5c421e52",
   "metadata": {},
   "source": [
    "# Détermination des bâtiments scolaires"
   ]
  },
  {
   "cell_type": "code",
   "execution_count": 122,
   "id": "f164fcc395a85eeb",
   "metadata": {},
   "outputs": [
    {
     "name": "stderr",
     "output_type": "stream",
     "text": [
      "c:\\Users\\micka\\Projects\\13_potentiel_solaire\\algorithme\\.venv\\Lib\\site-packages\\geopandas\\array.py:403: UserWarning: Geometry is in a geographic CRS. Results from 'sjoin_nearest' are likely incorrect. Use 'GeoSeries.to_crs()' to re-project geometries to a projected CRS before this operation.\n",
      "\n",
      "  warnings.warn(\n"
     ]
    },
    {
     "name": "stdout",
     "output_type": "stream",
     "text": [
      "Nb de batiments scolaires:  3731\n"
     ]
    }
   ],
   "source": [
    "schools_buildings = attach_buildings_to_schools(\n",
    "    schools_establishments=schools_establishments,\n",
    "    educational_zones=educational_zones,\n",
    "    buildings=buildings\n",
    ")\n",
    "nb_schools_buildings = schools_buildings.shape[0]\n",
    "print(\"Nb de batiments scolaires: \", nb_schools_buildings)"
   ]
  },
  {
   "cell_type": "markdown",
   "id": "25094a9970938a7d",
   "metadata": {},
   "source": [
    "# Calcul des attributs utiles pour le potentiel solaire"
   ]
  },
  {
   "cell_type": "code",
   "execution_count": null,
   "id": "c0cf2ab1980a4b17",
   "metadata": {},
   "outputs": [],
   "source": [
    "# TODO: v0 seulement à ce stade\n",
    "solar_potential_of_schools_buildings = calculate_solar_potential(\n",
    "    schools_buildings=schools_buildings,\n",
    "    areas_with_protected_buildings=areas_with_protected_buildings,\n",
    "    geom_of_interest=geom_of_interest\n",
    ")"
   ]
  },
  {
   "cell_type": "markdown",
   "id": "122f28cb4df0c233",
   "metadata": {},
   "source": [
    "# Dump des donnees pour analyses"
   ]
  },
  {
   "cell_type": "code",
   "execution_count": 124,
   "id": "ec6bfaba919117a6",
   "metadata": {},
   "outputs": [],
   "source": [
    "layers = [\"schools_establishments\", \"educational_zones\", \"schools_buildings\", \"solar_potential_of_schools_buildings\"]\n",
    "gdfs = [schools_establishments, educational_zones, schools_buildings, solar_potential_of_schools_buildings]\n",
    "\n",
    "for layer, gdf in zip(layers, gdfs):\n",
    "    output_gpkg = DATA_FOLDER / f\"{code_departement}_pipeline_results.gpkg\"\n",
    "    gdf.to_file(output_gpkg, layer=layer, driver=\"GPKG\")"
   ]
  },
  {
   "cell_type": "markdown",
   "id": "363dff224bfb7766",
   "metadata": {},
   "source": [
    "# Checks sur la qualité des données & calculs"
   ]
  },
  {
   "cell_type": "code",
   "execution_count": 125,
   "id": "46d41149e1faf14f",
   "metadata": {},
   "outputs": [
    {
     "name": "stdout",
     "output_type": "stream",
     "text": [
      "Nb d'établissements scolaires avec des batiments: 445 (39%)\n"
     ]
    }
   ],
   "source": [
    "nb_schools_with_buildings = len(schools_buildings.identifiant_de_l_etablissement.unique())\n",
    "print(\"Nb d'établissements scolaires avec des batiments: {} ({}%)\".format(\n",
    "    nb_schools_with_buildings,\n",
    "    round(100 * nb_schools_with_buildings / nb_schools)\n",
    "))"
   ]
  },
  {
   "cell_type": "code",
   "execution_count": 126,
   "id": "3ba0c93b8e8c53da",
   "metadata": {},
   "outputs": [
    {
     "name": "stdout",
     "output_type": "stream",
     "text": [
      "Nb de batiments protégés 1093 (29.30%)\n"
     ]
    }
   ],
   "source": [
    "nb_buildings_protected = solar_potential_of_schools_buildings[solar_potential_of_schools_buildings.protection].shape[0]\n",
    "print(f\"Nb de batiments protégés {nb_buildings_protected} ({100*nb_buildings_protected/nb_schools_buildings:.2f}%)\")"
   ]
  },
  {
   "cell_type": "markdown",
   "id": "9b78aec5982e6099",
   "metadata": {},
   "source": [
    "# Sauvegarde des calculs en Base de Données et en fichiers GeoJson"
   ]
  },
  {
   "cell_type": "markdown",
   "id": "01ab9c87",
   "metadata": {},
   "source": [
    "### Evaluation du Potentiel solaire par Etablissement"
   ]
  },
  {
   "cell_type": "code",
   "execution_count": 127,
   "id": "c469e5829a888e0a",
   "metadata": {},
   "outputs": [
    {
     "data": {
      "text/html": [
       "<div>\n",
       "<style scoped>\n",
       "    .dataframe tbody tr th:only-of-type {\n",
       "        vertical-align: middle;\n",
       "    }\n",
       "\n",
       "    .dataframe tbody tr th {\n",
       "        vertical-align: top;\n",
       "    }\n",
       "\n",
       "    .dataframe thead th {\n",
       "        text-align: right;\n",
       "    }\n",
       "</style>\n",
       "<table border=\"1\" class=\"dataframe\">\n",
       "  <thead>\n",
       "    <tr style=\"text-align: right;\">\n",
       "      <th></th>\n",
       "      <th>identifiant_de_l_etablissement</th>\n",
       "      <th>surface_utile</th>\n",
       "      <th>rayonnement_solaire</th>\n",
       "      <th>potentiel_solaire</th>\n",
       "      <th>protection</th>\n",
       "    </tr>\n",
       "  </thead>\n",
       "  <tbody>\n",
       "    <tr>\n",
       "      <th>0</th>\n",
       "      <td>0930043S</td>\n",
       "      <td>0.000000</td>\n",
       "      <td>0.000000</td>\n",
       "      <td>0.000000</td>\n",
       "      <td>False</td>\n",
       "    </tr>\n",
       "    <tr>\n",
       "      <th>1</th>\n",
       "      <td>0930089S</td>\n",
       "      <td>3245.297871</td>\n",
       "      <td>1143.404907</td>\n",
       "      <td>371066.369436</td>\n",
       "      <td>True</td>\n",
       "    </tr>\n",
       "    <tr>\n",
       "      <th>2</th>\n",
       "      <td>0930100D</td>\n",
       "      <td>2069.812266</td>\n",
       "      <td>1143.329590</td>\n",
       "      <td>236647.053457</td>\n",
       "      <td>False</td>\n",
       "    </tr>\n",
       "    <tr>\n",
       "      <th>3</th>\n",
       "      <td>0930116W</td>\n",
       "      <td>0.000000</td>\n",
       "      <td>0.000000</td>\n",
       "      <td>0.000000</td>\n",
       "      <td>False</td>\n",
       "    </tr>\n",
       "    <tr>\n",
       "      <th>4</th>\n",
       "      <td>0930117X</td>\n",
       "      <td>4907.794034</td>\n",
       "      <td>1141.873413</td>\n",
       "      <td>560407.952443</td>\n",
       "      <td>True</td>\n",
       "    </tr>\n",
       "  </tbody>\n",
       "</table>\n",
       "</div>"
      ],
      "text/plain": [
       "  identifiant_de_l_etablissement  surface_utile  rayonnement_solaire  \\\n",
       "0                       0930043S       0.000000             0.000000   \n",
       "1                       0930089S    3245.297871          1143.404907   \n",
       "2                       0930100D    2069.812266          1143.329590   \n",
       "3                       0930116W       0.000000             0.000000   \n",
       "4                       0930117X    4907.794034          1141.873413   \n",
       "\n",
       "   potentiel_solaire  protection  \n",
       "0           0.000000       False  \n",
       "1      371066.369436        True  \n",
       "2      236647.053457       False  \n",
       "3           0.000000       False  \n",
       "4      560407.952443        True  "
      ]
     },
     "execution_count": 127,
     "metadata": {},
     "output_type": "execute_result"
    }
   ],
   "source": [
    "results_by_school = aggregate_solar_potential_by_etablishment(\n",
    "    schools_establishments=schools_establishments,\n",
    "    solar_potential_of_schools_buildings=solar_potential_of_schools_buildings\n",
    ")\n",
    "\n",
    "results_by_school.head()"
   ]
  },
  {
   "cell_type": "markdown",
   "id": "229708fb93570bb0",
   "metadata": {},
   "source": [
    "### Sauvegarde des calculs en Base de Données"
   ]
  },
  {
   "cell_type": "code",
   "execution_count": 141,
   "id": "1a80c8de",
   "metadata": {},
   "outputs": [],
   "source": [
    "conn = duckdb.connect('./../database/potentiel_solaire.duckdb')\n",
    "\n",
    "# Load Spatial extension\n",
    "\n",
    "conn.execute(\"\"\"\n",
    "    INSTALL spatial;\n",
    "    LOAD spatial;\n",
    "             \"\"\")\n",
    "\n",
    "conn.commit();"
   ]
  },
  {
   "cell_type": "markdown",
   "id": "76f552dc",
   "metadata": {},
   "source": [
    "#### Mise à jour des données des Etablissements du Département en Base de Données"
   ]
  },
  {
   "cell_type": "code",
   "execution_count": null,
   "id": "a6e15203",
   "metadata": {},
   "outputs": [
    {
     "data": {
      "text/html": [
       "<div>\n",
       "<style scoped>\n",
       "    .dataframe tbody tr th:only-of-type {\n",
       "        vertical-align: middle;\n",
       "    }\n",
       "\n",
       "    .dataframe tbody tr th {\n",
       "        vertical-align: top;\n",
       "    }\n",
       "\n",
       "    .dataframe thead th {\n",
       "        text-align: right;\n",
       "    }\n",
       "</style>\n",
       "<table border=\"1\" class=\"dataframe\">\n",
       "  <thead>\n",
       "    <tr style=\"text-align: right;\">\n",
       "      <th></th>\n",
       "      <th>identifiant_de_l_etablissement</th>\n",
       "      <th>nom_etablissement</th>\n",
       "      <th>type_etablissement</th>\n",
       "      <th>libelle_nature</th>\n",
       "      <th>code_commune</th>\n",
       "      <th>nom_commune</th>\n",
       "      <th>code_departement</th>\n",
       "      <th>libelle_departement</th>\n",
       "      <th>code_region</th>\n",
       "      <th>libelle_region</th>\n",
       "      <th>surface_utile</th>\n",
       "      <th>rayonnement_solaire</th>\n",
       "      <th>potentiel_solaire</th>\n",
       "      <th>protection</th>\n",
       "      <th>geo_point</th>\n",
       "      <th>geometry</th>\n",
       "    </tr>\n",
       "  </thead>\n",
       "  <tbody>\n",
       "    <tr>\n",
       "      <th>0</th>\n",
       "      <td>0930836D</td>\n",
       "      <td>Ecole élémentaire Ambourget 2</td>\n",
       "      <td>Ecole</td>\n",
       "      <td>ECOLE DE NIVEAU ELEMENTAIRE</td>\n",
       "      <td>93005</td>\n",
       "      <td>Aulnay-sous-Bois</td>\n",
       "      <td>093</td>\n",
       "      <td>Seine-Saint-Denis</td>\n",
       "      <td>11</td>\n",
       "      <td>Ile-de-France</td>\n",
       "      <td>2596</td>\n",
       "      <td>1145</td>\n",
       "      <td>297303</td>\n",
       "      <td>False</td>\n",
       "      <td>[0, 0, 0, 0, 0, 0, 0, 0, 0, 0, 0, 0, 1, 0, 0, ...</td>\n",
       "      <td>{\"type\":\"Point\",\"coordinates\":[2.5101234546026...</td>\n",
       "    </tr>\n",
       "    <tr>\n",
       "      <th>1</th>\n",
       "      <td>0930155N</td>\n",
       "      <td>Ecole élémentaire Romain Rolland</td>\n",
       "      <td>Ecole</td>\n",
       "      <td>ECOLE DE NIVEAU ELEMENTAIRE</td>\n",
       "      <td>93048</td>\n",
       "      <td>Montreuil</td>\n",
       "      <td>093</td>\n",
       "      <td>Seine-Saint-Denis</td>\n",
       "      <td>11</td>\n",
       "      <td>Ile-de-France</td>\n",
       "      <td>0</td>\n",
       "      <td>0</td>\n",
       "      <td>0</td>\n",
       "      <td>False</td>\n",
       "      <td>[0, 0, 0, 0, 0, 0, 0, 0, 0, 0, 0, 0, 1, 0, 0, ...</td>\n",
       "      <td>{\"type\":\"Point\",\"coordinates\":[2.4757109501393...</td>\n",
       "    </tr>\n",
       "    <tr>\n",
       "      <th>2</th>\n",
       "      <td>0930158S</td>\n",
       "      <td>Ecole élémentaire Jean Rostand</td>\n",
       "      <td>Ecole</td>\n",
       "      <td>ECOLE DE NIVEAU ELEMENTAIRE</td>\n",
       "      <td>93072</td>\n",
       "      <td>Stains</td>\n",
       "      <td>093</td>\n",
       "      <td>Seine-Saint-Denis</td>\n",
       "      <td>11</td>\n",
       "      <td>Ile-de-France</td>\n",
       "      <td>1149</td>\n",
       "      <td>1142</td>\n",
       "      <td>131260</td>\n",
       "      <td>True</td>\n",
       "      <td>[0, 0, 0, 0, 0, 0, 0, 0, 0, 0, 0, 0, 1, 0, 0, ...</td>\n",
       "      <td>{\"type\":\"Point\",\"coordinates\":[2.3869213324153...</td>\n",
       "    </tr>\n",
       "  </tbody>\n",
       "</table>\n",
       "</div>"
      ],
      "text/plain": [
       "  identifiant_de_l_etablissement                 nom_etablissement  \\\n",
       "0                       0930836D     Ecole élémentaire Ambourget 2   \n",
       "1                       0930155N  Ecole élémentaire Romain Rolland   \n",
       "2                       0930158S    Ecole élémentaire Jean Rostand   \n",
       "\n",
       "  type_etablissement               libelle_nature code_commune  \\\n",
       "0              Ecole  ECOLE DE NIVEAU ELEMENTAIRE        93005   \n",
       "1              Ecole  ECOLE DE NIVEAU ELEMENTAIRE        93048   \n",
       "2              Ecole  ECOLE DE NIVEAU ELEMENTAIRE        93072   \n",
       "\n",
       "        nom_commune code_departement libelle_departement code_region  \\\n",
       "0  Aulnay-sous-Bois              093   Seine-Saint-Denis          11   \n",
       "1         Montreuil              093   Seine-Saint-Denis          11   \n",
       "2            Stains              093   Seine-Saint-Denis          11   \n",
       "\n",
       "  libelle_region  surface_utile  rayonnement_solaire  potentiel_solaire  \\\n",
       "0  Ile-de-France           2596                 1145             297303   \n",
       "1  Ile-de-France              0                    0                  0   \n",
       "2  Ile-de-France           1149                 1142             131260   \n",
       "\n",
       "   protection                                          geo_point  \\\n",
       "0       False  [0, 0, 0, 0, 0, 0, 0, 0, 0, 0, 0, 0, 1, 0, 0, ...   \n",
       "1       False  [0, 0, 0, 0, 0, 0, 0, 0, 0, 0, 0, 0, 1, 0, 0, ...   \n",
       "2        True  [0, 0, 0, 0, 0, 0, 0, 0, 0, 0, 0, 0, 1, 0, 0, ...   \n",
       "\n",
       "                                            geometry  \n",
       "0  {\"type\":\"Point\",\"coordinates\":[2.5101234546026...  \n",
       "1  {\"type\":\"Point\",\"coordinates\":[2.4757109501393...  \n",
       "2  {\"type\":\"Point\",\"coordinates\":[2.3869213324153...  "
      ]
     },
     "execution_count": 144,
     "metadata": {},
     "output_type": "execute_result"
    }
   ],
   "source": [
    "conn.register(\"results_by_school\", results_by_school)\n",
    "\n",
    "update_query = \"\"\"\n",
    "UPDATE etablissements\n",
    "SET \n",
    "    surface_utile = results_by_school.surface_utile,\n",
    "    rayonnement_solaire = results_by_school.rayonnement_solaire,\n",
    "    potentiel_solaire = results_by_school.potentiel_solaire,\n",
    "    protection = results_by_school.protection\n",
    "FROM\n",
    "    results_by_school\n",
    "WHERE\n",
    "    etablissements.identifiant_de_l_etablissement = results_by_school.identifiant_de_l_etablissement\n",
    "\"\"\"\n",
    "\n",
    "conn.execute(update_query)\n",
    "\n",
    "query = f\"\"\"\n",
    "SELECT\n",
    "    *,\n",
    "    ST_AsGeoJSON(geo_point) as geometry\n",
    "FROM\n",
    "    etablissements\n",
    "WHERE\n",
    "code_departement = '{code_departement}'\n",
    "\"\"\"\n",
    "\n",
    "stats_schools = conn.query(query).df()\n",
    "\n",
    "assert stats_schools.query('surface_utile > 0').shape[0] > 0, \"Problème lors de la mise à jour des établissements\"\n",
    "\n",
    "stats_schools.head(3)"
   ]
  },
  {
   "cell_type": "markdown",
   "id": "8b0bbdfa",
   "metadata": {},
   "source": [
    "#### Mise à jour des données des Communes du Département en Base de Données"
   ]
  },
  {
   "cell_type": "code",
   "execution_count": null,
   "id": "341619cc",
   "metadata": {},
   "outputs": [
    {
     "data": {
      "text/plain": [
       "0    {\"type\":\"Polygon\",\"coordinates\":[[[2.389324795...\n",
       "1    {\"type\":\"Polygon\",\"coordinates\":[[[2.507176188...\n",
       "2    {\"type\":\"Polygon\",\"coordinates\":[[[2.415272860...\n",
       "Name: geometry, dtype: object"
      ]
     },
     "execution_count": 146,
     "metadata": {},
     "output_type": "execute_result"
    }
   ],
   "source": [
    "update_query = f\"\"\"\n",
    "UPDATE communes\n",
    "SET \n",
    "    surface_utile = agg.surface_utile,\n",
    "    potentiel_solaire = agg.potentiel_solaire,\n",
    "    count_etablissements = agg.count_etablissements,\n",
    "    count_etablissements_proteges = agg.count_etablissements_proteges\n",
    "FROM (\n",
    "    SELECT \n",
    "         code_commune,\n",
    "         SUM(surface_utile) AS surface_utile,\n",
    "         SUM(potentiel_solaire) AS potentiel_solaire,\n",
    "         COUNT(*) AS count_etablissements,\n",
    "         SUM(CASE WHEN protection THEN 1 ELSE 0 END) AS count_etablissements_proteges\n",
    "    FROM etablissements\n",
    "    GROUP BY code_commune\n",
    ") AS agg\n",
    "WHERE\n",
    "  communes.code_commune = agg.code_commune\n",
    "  AND communes.code_departement = '{code_departement}'\n",
    "\"\"\"\n",
    "\n",
    "conn.execute(update_query)\n",
    "\n",
    "query = f\"\"\"\n",
    "SELECT\n",
    "    *,\n",
    "    ST_AsGeoJSON(geom) as geometry\n",
    "FROM\n",
    "    communes\n",
    "WHERE\n",
    "    code_departement = '{code_departement}'\n",
    "         \"\"\"\n",
    "\n",
    "stats_cities = conn.query(query).df()\n",
    "\n",
    "assert stats_cities.query('surface_utile > 0').shape[0] > 0, \"Problème lors de la mise à jour des communes\"\n",
    "\n",
    "stats_cities.head(3)"
   ]
  },
  {
   "cell_type": "markdown",
   "id": "aa3147ae",
   "metadata": {},
   "source": [
    "#### Mise à jour des données du Département en Base de données"
   ]
  },
  {
   "cell_type": "code",
   "execution_count": 147,
   "id": "7a46bd4a",
   "metadata": {},
   "outputs": [
    {
     "data": {
      "text/html": [
       "<div>\n",
       "<style scoped>\n",
       "    .dataframe tbody tr th:only-of-type {\n",
       "        vertical-align: middle;\n",
       "    }\n",
       "\n",
       "    .dataframe tbody tr th {\n",
       "        vertical-align: top;\n",
       "    }\n",
       "\n",
       "    .dataframe thead th {\n",
       "        text-align: right;\n",
       "    }\n",
       "</style>\n",
       "<table border=\"1\" class=\"dataframe\">\n",
       "  <thead>\n",
       "    <tr style=\"text-align: right;\">\n",
       "      <th></th>\n",
       "      <th>code_departement</th>\n",
       "      <th>libelle_departement</th>\n",
       "      <th>code_region</th>\n",
       "      <th>libelle_region</th>\n",
       "      <th>surface_utile</th>\n",
       "      <th>potentiel_solaire</th>\n",
       "      <th>count_etablissements</th>\n",
       "      <th>count_etablissements_proteges</th>\n",
       "      <th>geom</th>\n",
       "      <th>geometry</th>\n",
       "    </tr>\n",
       "  </thead>\n",
       "  <tbody>\n",
       "    <tr>\n",
       "      <th>0</th>\n",
       "      <td>093</td>\n",
       "      <td>Seine-Saint-Denis</td>\n",
       "      <td>11</td>\n",
       "      <td>Île-de-France</td>\n",
       "      <td>867313</td>\n",
       "      <td>99163248</td>\n",
       "      <td>1431</td>\n",
       "      <td>134</td>\n",
       "      <td>[2, 4, 0, 0, 0, 0, 0, 0, 254, 115, 18, 64, 159...</td>\n",
       "      <td>{\"type\":\"Polygon\",\"coordinates\":[[[2.319887543...</td>\n",
       "    </tr>\n",
       "  </tbody>\n",
       "</table>\n",
       "</div>"
      ],
      "text/plain": [
       "  code_departement libelle_departement code_region libelle_region  \\\n",
       "0              093   Seine-Saint-Denis          11  Île-de-France   \n",
       "\n",
       "   surface_utile  potentiel_solaire  count_etablissements  \\\n",
       "0         867313           99163248                  1431   \n",
       "\n",
       "   count_etablissements_proteges  \\\n",
       "0                            134   \n",
       "\n",
       "                                                geom  \\\n",
       "0  [2, 4, 0, 0, 0, 0, 0, 0, 254, 115, 18, 64, 159...   \n",
       "\n",
       "                                            geometry  \n",
       "0  {\"type\":\"Polygon\",\"coordinates\":[[[2.319887543...  "
      ]
     },
     "execution_count": 147,
     "metadata": {},
     "output_type": "execute_result"
    }
   ],
   "source": [
    "update_query = f\"\"\"\n",
    "UPDATE departements\n",
    "SET \n",
    "    surface_utile = agg.surface_utile,\n",
    "    potentiel_solaire = agg.potentiel_solaire,\n",
    "    count_etablissements = agg.count_etablissements,\n",
    "    count_etablissements_proteges = agg.count_etablissements_proteges\n",
    "FROM (\n",
    "    SELECT \n",
    "         code_departement,\n",
    "         SUM(surface_utile) AS surface_utile,\n",
    "         SUM(potentiel_solaire) AS potentiel_solaire,\n",
    "         COUNT(*) AS count_etablissements,\n",
    "         SUM(CASE WHEN protection THEN 1 ELSE 0 END) AS count_etablissements_proteges\n",
    "    FROM etablissements\n",
    "    GROUP BY code_departement\n",
    ") AS agg\n",
    "WHERE\n",
    "    departements.code_departement = agg.code_departement\n",
    "    AND departements.code_departement = '{code_departement}'\n",
    "\"\"\"\n",
    "\n",
    "conn.execute(update_query)\n",
    "\n",
    "query = f\"\"\"\n",
    "SELECT\n",
    "    *,\n",
    "    ST_AsGeoJSON(geom) as geometry \n",
    "FROM\n",
    "    departements WHERE code_departement = '{code_departement}'\n",
    "    \"\"\"\n",
    "\n",
    "stats_department = conn.query(query).df()\n",
    "\n",
    "assert stats_department['surface_utile'].shape[0] > 0, f\"Problème lors de la mise à jour du département {code_departement}\"\n",
    "\n",
    "stats_department.head(3)"
   ]
  },
  {
   "cell_type": "markdown",
   "id": "2723a1b3",
   "metadata": {},
   "source": [
    "### Export sous forme de fichiers GeoJSON"
   ]
  },
  {
   "cell_type": "code",
   "execution_count": null,
   "id": "9117b553",
   "metadata": {},
   "outputs": [
    {
     "name": "stderr",
     "output_type": "stream",
     "text": [
      "c:\\Users\\micka\\Projects\\13_potentiel_solaire\\algorithme\\.venv\\Lib\\site-packages\\pyogrio\\geopandas.py:662: UserWarning: 'crs' was not provided.  The output dataset will not have projection information defined and may not be usable in other systems.\n",
      "  write(\n"
     ]
    },
    {
     "data": {
      "text/plain": [
       "True"
      ]
     },
     "execution_count": 151,
     "metadata": {},
     "output_type": "execute_result"
    }
   ],
   "source": [
    "output_folder = ALGORITHME_FOLDER.parent / \"results\" / f\"D{code_departement}\"\n",
    "output_folder.mkdir(exist_ok=True, parents=True)\n",
    "\n",
    "export_to_geojson(stats_schools, output_folder / f\"D{code_departement}_ecoles.geojson\")\n",
    "export_to_geojson(stats_cities, output_folder / f\"D{code_departement}_communes.geojson\")\n",
    "export_to_geojson(stats_department, output_folder / f\"D{code_departement}_departement.geojson\")\n"
   ]
  }
 ],
 "metadata": {
  "kernelspec": {
   "display_name": "Python 3",
   "language": "python",
   "name": "python3"
  },
  "language_info": {
   "codemirror_mode": {
    "name": "ipython",
    "version": 3
   },
   "file_extension": ".py",
   "mimetype": "text/x-python",
   "name": "python",
   "nbconvert_exporter": "python",
   "pygments_lexer": "ipython3",
   "version": "3.12.5"
  }
 },
 "nbformat": 4,
 "nbformat_minor": 5
}
