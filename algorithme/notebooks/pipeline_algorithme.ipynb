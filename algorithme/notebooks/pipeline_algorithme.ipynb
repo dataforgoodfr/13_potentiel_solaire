{
 "cells": [
  {
   "cell_type": "code",
   "execution_count": 1,
   "id": "f1f565b7",
   "metadata": {},
   "outputs": [],
   "source": [
    "%load_ext autoreload\n",
    "%autoreload 2"
   ]
  },
  {
   "cell_type": "markdown",
   "id": "7218350249b1103e",
   "metadata": {},
   "source": [
    "# Paramètres de la pipeline"
   ]
  },
  {
   "cell_type": "code",
   "execution_count": 2,
   "id": "6358f4912f9f22ab",
   "metadata": {
    "editable": true,
    "slideshow": {
     "slide_type": ""
    },
    "tags": [
     "parameters"
    ]
   },
   "outputs": [],
   "source": [
    "code_departement = \"093\"\n",
    "logs_level = \"WARNING\""
   ]
  },
  {
   "cell_type": "markdown",
   "id": "d3a70f3e57e62a7c",
   "metadata": {},
   "source": [
    "# Imports & setup"
   ]
  },
  {
   "cell_type": "code",
   "execution_count": 3,
   "id": "aa88b759c982f54c",
   "metadata": {},
   "outputs": [
    {
     "name": "stderr",
     "output_type": "stream",
     "text": [
      "2025-03-08 20:17:33,860 - DEBUG - rasterio.session - /home/kelu/projets/13_potentiel_solaire/.venv/lib/python3.10/site-packages/rasterio/session.py - <module> - Could not import boto3, continuing with reduced functionality.\n",
      "2025-03-08 20:17:33,867 - DEBUG - rasterio.env - /home/kelu/projets/13_potentiel_solaire/.venv/lib/python3.10/site-packages/rasterio/env.py - <module> - GDAL data found in package: path='/home/kelu/projets/13_potentiel_solaire/.venv/lib/python3.10/site-packages/rasterio/gdal_data'.\n",
      "2025-03-08 20:17:33,870 - DEBUG - rasterio.env - /home/kelu/projets/13_potentiel_solaire/.venv/lib/python3.10/site-packages/rasterio/env.py - <module> - PROJ data found in package: path='/home/kelu/projets/13_potentiel_solaire/.venv/lib/python3.10/site-packages/rasterio/proj_data'.\n"
     ]
    }
   ],
   "source": [
    "import geopandas as gpd\n",
    "\n",
    "from potentiel_solaire.attach_buildings_to_schools import attach_buildings_to_schools\n",
    "from potentiel_solaire.constants import CRS, ALGORITHME_FOLDER, DATA_FOLDER\n",
    "from potentiel_solaire.sources.bd_topo import extract_bd_topo, get_topo_zones_of_interest, \\\n",
    "    get_topo_buildings_of_interest\n",
    "from potentiel_solaire.sources.bd_pci import extract_bd_pci\n",
    "from potentiel_solaire.sources.bd_solar_irradiation import extract_bd_irradiation\n",
    "from potentiel_solaire.sources.schools_establishments import extract_schools_establishments, \\\n",
    "    get_schools_establishments_of_interest\n",
    "from potentiel_solaire.features.solar_potential import calculate_solar_potential\n",
    "from potentiel_solaire.aggregate import aggregate_solar_potential_by\n",
    "from potentiel_solaire.logger import get_logger\n",
    "\n",
    "logger = get_logger()\n",
    "logger.setLevel(logs_level)"
   ]
  },
  {
   "cell_type": "markdown",
   "id": "a9a9258eef4ab443",
   "metadata": {},
   "source": [
    "# Extraction des données sources"
   ]
  },
  {
   "cell_type": "markdown",
   "id": "463a1d94816fdbc3",
   "metadata": {},
   "source": [
    "### Etablissements scolaires"
   ]
  },
  {
   "cell_type": "code",
   "execution_count": 4,
   "id": "7d8bb82fa7db3b7d",
   "metadata": {},
   "outputs": [
    {
     "name": "stdout",
     "output_type": "stream",
     "text": [
      "Annuaire des établissements scolaires extrait ici: /home/kelu/projets/13_potentiel_solaire/algorithme/data/fr-en-annuaire-education.geojson\n"
     ]
    }
   ],
   "source": [
    "schools_establishments_path = extract_schools_establishments()\n",
    "print(f\"Annuaire des établissements scolaires extrait ici: {schools_establishments_path}\")"
   ]
  },
  {
   "cell_type": "markdown",
   "id": "d24a2e59f349d78c",
   "metadata": {},
   "source": [
    "### BD TOPO"
   ]
  },
  {
   "cell_type": "code",
   "execution_count": 5,
   "id": "3e8f100f2f53930c",
   "metadata": {},
   "outputs": [
    {
     "name": "stdout",
     "output_type": "stream",
     "text": [
      "BD TOPO extraite ici: /home/kelu/projets/13_potentiel_solaire/algorithme/data/BDTOPO_3-4_TOUSTHEMES_GPKG_LAMB93_D093_2024-12-15/BDTOPO/1_DONNEES_LIVRAISON_2024-12-00134/BDT_3-4_GPKG_LAMB93_D093-ED2024-12-15/BDT_3-4_GPKG_LAMB93_D093-ED2024-12-15.gpkg\n"
     ]
    }
   ],
   "source": [
    "bd_topo_path = extract_bd_topo(code_departement=code_departement)\n",
    "print(f\"BD TOPO extraite ici: {bd_topo_path}\")"
   ]
  },
  {
   "cell_type": "markdown",
   "id": "18355b4d87ca074a",
   "metadata": {},
   "source": []
  },
  {
   "cell_type": "markdown",
   "id": "c26ed5544663d238",
   "metadata": {},
   "source": [
    "### BD PCI"
   ]
  },
  {
   "cell_type": "code",
   "execution_count": 6,
   "id": "f22aa57125e42448",
   "metadata": {},
   "outputs": [
    {
     "name": "stdout",
     "output_type": "stream",
     "text": [
      "BD PCI extraite ici: /home/kelu/projets/13_potentiel_solaire/algorithme/data/PARCELLAIRE-EXPRESS_1-1__SHP_LAMB93_D093_2024-10-01/PARCELLAIRE-EXPRESS/1_DONNEES_LIVRAISON_2024-11-00210/PEPCI_1-1_SHP_LAMB93_D093/BATIMENT.SHP\n"
     ]
    }
   ],
   "source": [
    "bd_pci_path = extract_bd_pci(code_departement=code_departement)\n",
    "print(f\"BD PCI extraite ici: {bd_pci_path}\")"
   ]
  },
  {
   "cell_type": "markdown",
   "id": "a944bdd9d0c61e1",
   "metadata": {},
   "source": [
    "### BD IRRADIATION"
   ]
  },
  {
   "cell_type": "code",
   "execution_count": 7,
   "id": "416cb349beec3928",
   "metadata": {},
   "outputs": [
    {
     "name": "stdout",
     "output_type": "stream",
     "text": [
      "BD irradiation extraite ici: /home/kelu/projets/13_potentiel_solaire/algorithme/data/ENR_1-0_IRR-SOL_TIFF_WGS84G_FXX_2023-10-01/1_DONNEES_LIVRAISON/GlobalHorizontalIrradiation.tif\n"
     ]
    }
   ],
   "source": [
    "bd_irradiation_path = extract_bd_irradiation()\n",
    "print(f\"BD irradiation extraite ici: {bd_irradiation_path}\")"
   ]
  },
  {
   "cell_type": "markdown",
   "id": "b315616c8a49a102",
   "metadata": {},
   "source": [
    "# Filtre des données sur le périmètre du calcul"
   ]
  },
  {
   "cell_type": "markdown",
   "id": "8141e3850bdde72d",
   "metadata": {},
   "source": [
    "### Etablissements scolaires\n"
   ]
  },
  {
   "cell_type": "code",
   "execution_count": 8,
   "id": "8c2714f479cce131",
   "metadata": {},
   "outputs": [
    {
     "name": "stdout",
     "output_type": "stream",
     "text": [
      "Nb d'établissements scolaires: 1130\n"
     ]
    }
   ],
   "source": [
    "schools_establishments = get_schools_establishments_of_interest(\n",
    "    schools_filepath=schools_establishments_path,\n",
    "    code_departement=code_departement,\n",
    "    types_etablissements=['Ecole', 'Lycée', 'Collège'],\n",
    "    statut_public_prive=\"Public\",\n",
    "    etat=\"OUVERT\",\n",
    "    crs=CRS\n",
    ")\n",
    "nb_schools = schools_establishments.shape[0]\n",
    "print(f\"Nb d'établissements scolaires: {nb_schools}\")"
   ]
  },
  {
   "cell_type": "markdown",
   "id": "6a7c50bff2a4dcab",
   "metadata": {},
   "source": [
    "### Zone d'intérêt géographique"
   ]
  },
  {
   "cell_type": "code",
   "execution_count": 9,
   "id": "90227f344c76c3d6",
   "metadata": {},
   "outputs": [],
   "source": [
    "codes_commune = schools_establishments[\"code_commune\"].unique()\n",
    "communes = gpd.read_file(bd_topo_path, layer=\"commune\").to_crs(CRS)\n",
    "communes = communes[communes.code_insee.isin(codes_commune)]\n",
    "geom_of_interest = communes.dissolve()[[\"geometry\"]]"
   ]
  },
  {
   "cell_type": "markdown",
   "id": "ed36d1f4a8ff139d",
   "metadata": {},
   "source": [
    "### Zones d'éducations"
   ]
  },
  {
   "cell_type": "code",
   "execution_count": 10,
   "id": "62c98433be3c4844",
   "metadata": {},
   "outputs": [
    {
     "name": "stderr",
     "output_type": "stream",
     "text": [
      "/home/kelu/projets/13_potentiel_solaire/.venv/lib/python3.10/site-packages/pyogrio/core.py:279: RuntimeWarning: Field format 'character varying' not supported\n",
      "  return ogr_read_info(\n",
      "/home/kelu/projets/13_potentiel_solaire/.venv/lib/python3.10/site-packages/pyogrio/core.py:279: RuntimeWarning: Field format 'character varying(256)' not supported\n",
      "  return ogr_read_info(\n",
      "/home/kelu/projets/13_potentiel_solaire/.venv/lib/python3.10/site-packages/pyogrio/core.py:279: RuntimeWarning: Field format 'character varying(30)' not supported\n",
      "  return ogr_read_info(\n",
      "/home/kelu/projets/13_potentiel_solaire/.venv/lib/python3.10/site-packages/pyogrio/core.py:279: RuntimeWarning: Field format 'timestamp with time zone' not supported\n",
      "  return ogr_read_info(\n",
      "/home/kelu/projets/13_potentiel_solaire/.venv/lib/python3.10/site-packages/geopandas/io/file.py:497: UserWarning: More than one layer found in 'BDT_3-4_GPKG_LAMB93_D093-ED2024-12-15.gpkg': 'troncon_de_route' (default), 'route_numerotee_ou_nommee', 'itineraire_autre', 'troncon_de_voie_ferree', 'equipement_de_transport', 'piste_d_aerodrome', 'aerodrome', 'point_de_repere', 'non_communication', 'point_du_reseau', 'voie_ferree_nommee', 'toponymie_transport', 'batiment', 'cimetiere', 'construction_lineaire', 'construction_ponctuelle', 'construction_surfacique', 'reservoir', 'ligne_orographique', 'pylone', 'terrain_de_sport', 'toponymie_bati', 'cours_d_eau', 'troncon_hydrographique', 'bassin_versant_topographique', 'plan_d_eau', 'surface_hydrographique', 'noeud_hydrographique', 'detail_hydrographique', 'toponymie_hydrographie', 'zone_d_habitation', 'lieu_dit_non_habite', 'detail_orographique', 'toponymie_lieux_nommes', 'canalisation', 'ligne_electrique', 'poste_de_transformation', 'erp', 'zone_d_activite_ou_d_interet', 'toponymie_services_et_activites', 'voie_nommee', 'parc_ou_reserve', 'foret_publique', 'toponymie_zones_reglementees', 'haie', 'zone_de_vegetation', 'arrondissement', 'arrondissement_municipal', 'commune', 'epci', 'collectivite_territoriale', 'departement', 'region', 'adresse_ban', 'batiment_rnb_lien_bdtopo', 'lien_adresse_vers_bdtopo', 'section_de_points_de_repere', 'info_metadonnees', 'metadonnees_lot', 'metadonnees_theme', 'layer_styles'. Specify layer parameter to avoid this warning.\n",
      "  crs = pyogrio.read_info(path_or_bytes).get(\"crs\")\n"
     ]
    },
    {
     "name": "stdout",
     "output_type": "stream",
     "text": [
      "Nb de zones d'éducations:  1088\n"
     ]
    }
   ],
   "source": [
    "educational_zones = get_topo_zones_of_interest(\n",
    "    bd_topo_path=bd_topo_path,\n",
    "    geom_of_interest=geom_of_interest,\n",
    "    categories=[\"Science et enseignement\"],\n",
    "    natures=['Collège', 'Lycée', 'Enseignement primaire'],\n",
    "    crs=CRS\n",
    ")\n",
    "nb_educational_zones = educational_zones.shape[0]\n",
    "print(\"Nb de zones d'éducations: \", nb_educational_zones)"
   ]
  },
  {
   "cell_type": "markdown",
   "id": "50d92236b74ff088",
   "metadata": {},
   "source": [
    "### Bâtiments"
   ]
  },
  {
   "cell_type": "code",
   "execution_count": 11,
   "id": "b092bb4fd4942b",
   "metadata": {},
   "outputs": [
    {
     "name": "stderr",
     "output_type": "stream",
     "text": [
      "/home/kelu/projets/13_potentiel_solaire/.venv/lib/python3.10/site-packages/pyogrio/core.py:279: RuntimeWarning: Field format 'character varying' not supported\n",
      "  return ogr_read_info(\n",
      "/home/kelu/projets/13_potentiel_solaire/.venv/lib/python3.10/site-packages/pyogrio/core.py:279: RuntimeWarning: Field format 'character varying(256)' not supported\n",
      "  return ogr_read_info(\n",
      "/home/kelu/projets/13_potentiel_solaire/.venv/lib/python3.10/site-packages/pyogrio/core.py:279: RuntimeWarning: Field format 'character varying(30)' not supported\n",
      "  return ogr_read_info(\n",
      "/home/kelu/projets/13_potentiel_solaire/.venv/lib/python3.10/site-packages/pyogrio/core.py:279: RuntimeWarning: Field format 'timestamp with time zone' not supported\n",
      "  return ogr_read_info(\n",
      "/home/kelu/projets/13_potentiel_solaire/.venv/lib/python3.10/site-packages/geopandas/io/file.py:497: UserWarning: More than one layer found in 'BDT_3-4_GPKG_LAMB93_D093-ED2024-12-15.gpkg': 'troncon_de_route' (default), 'route_numerotee_ou_nommee', 'itineraire_autre', 'troncon_de_voie_ferree', 'equipement_de_transport', 'piste_d_aerodrome', 'aerodrome', 'point_de_repere', 'non_communication', 'point_du_reseau', 'voie_ferree_nommee', 'toponymie_transport', 'batiment', 'cimetiere', 'construction_lineaire', 'construction_ponctuelle', 'construction_surfacique', 'reservoir', 'ligne_orographique', 'pylone', 'terrain_de_sport', 'toponymie_bati', 'cours_d_eau', 'troncon_hydrographique', 'bassin_versant_topographique', 'plan_d_eau', 'surface_hydrographique', 'noeud_hydrographique', 'detail_hydrographique', 'toponymie_hydrographie', 'zone_d_habitation', 'lieu_dit_non_habite', 'detail_orographique', 'toponymie_lieux_nommes', 'canalisation', 'ligne_electrique', 'poste_de_transformation', 'erp', 'zone_d_activite_ou_d_interet', 'toponymie_services_et_activites', 'voie_nommee', 'parc_ou_reserve', 'foret_publique', 'toponymie_zones_reglementees', 'haie', 'zone_de_vegetation', 'arrondissement', 'arrondissement_municipal', 'commune', 'epci', 'collectivite_territoriale', 'departement', 'region', 'adresse_ban', 'batiment_rnb_lien_bdtopo', 'lien_adresse_vers_bdtopo', 'section_de_points_de_repere', 'info_metadonnees', 'metadonnees_lot', 'metadonnees_theme', 'layer_styles'. Specify layer parameter to avoid this warning.\n",
      "  crs = pyogrio.read_info(path_or_bytes).get(\"crs\")\n"
     ]
    },
    {
     "name": "stdout",
     "output_type": "stream",
     "text": [
      "Nb de batiments:  351578\n"
     ]
    }
   ],
   "source": [
    "# TODO : ajout des batiments manquants avec la BD PCI\n",
    "buildings = get_topo_buildings_of_interest(\n",
    "    bd_topo_path=bd_topo_path,\n",
    "    geom_of_interest=geom_of_interest,\n",
    "    crs=CRS\n",
    ")\n",
    "nb_buildings = buildings.shape[0]\n",
    "print(\"Nb de batiments: \", nb_buildings)"
   ]
  },
  {
   "cell_type": "markdown",
   "id": "129b67af5c421e52",
   "metadata": {},
   "source": [
    "# Détermination des bâtiments scolaires"
   ]
  },
  {
   "cell_type": "code",
   "execution_count": 12,
   "id": "f164fcc395a85eeb",
   "metadata": {},
   "outputs": [
    {
     "name": "stderr",
     "output_type": "stream",
     "text": [
      "/home/kelu/projets/13_potentiel_solaire/.venv/lib/python3.10/site-packages/geopandas/geodataframe.py:1819: SettingWithCopyWarning: \n",
      "A value is trying to be set on a copy of a slice from a DataFrame.\n",
      "Try using .loc[row_indexer,col_indexer] = value instead\n",
      "\n",
      "See the caveats in the documentation: https://pandas.pydata.org/pandas-docs/stable/user_guide/indexing.html#returning-a-view-versus-a-copy\n",
      "  super().__setitem__(key, value)\n"
     ]
    }
   ],
   "source": [
    "schools_buildings = attach_buildings_to_schools(\n",
    "        schools_establishments=schools_establishments,\n",
    "        educational_zones=educational_zones,\n",
    "        buildings=buildings\n",
    ")"
   ]
  },
  {
   "cell_type": "markdown",
   "id": "25094a9970938a7d",
   "metadata": {},
   "source": [
    "# Calcul des attributs utiles pour le potentiel solaire"
   ]
  },
  {
   "cell_type": "code",
   "execution_count": 13,
   "id": "c0cf2ab1980a4b17",
   "metadata": {},
   "outputs": [],
   "source": [
    "# TODO: v0 seulement à ce stade\n",
    "# la V0 tourne en 1m30 sur mon laptop\n",
    "solar_potential_of_schools_buildings = calculate_solar_potential(\n",
    "    schools_buildings=schools_buildings,\n",
    "    bd_irradiation_path=bd_irradiation_path\n",
    ")"
   ]
  },
  {
   "cell_type": "markdown",
   "id": "122f28cb4df0c233",
   "metadata": {},
   "source": [
    "# Dump des donnees pour analyses"
   ]
  },
  {
   "cell_type": "code",
   "execution_count": 14,
   "id": "ec6bfaba919117a6",
   "metadata": {},
   "outputs": [],
   "source": [
    "solar_potential_of_schools_buildings[\"zone_autour_du_batiment\"] = solar_potential_of_schools_buildings[\"zone_autour_du_batiment\"].to_wkt()\n",
    "\n",
    "layers = [\"schools_establishments\", \"educational_zones\", \"schools_buildings\", \"solar_potential_of_schools_buildings\"]\n",
    "gdfs = [schools_establishments, educational_zones, schools_buildings, solar_potential_of_schools_buildings]\n",
    "\n",
    "for layer, gdf in zip(layers, gdfs):\n",
    "    output_gpkg = DATA_FOLDER / f\"{code_departement}_pipeline_results.gpkg\"\n",
    "    gdf.to_file(output_gpkg, layer=layer, driver=\"GPKG\")"
   ]
  },
  {
   "cell_type": "markdown",
   "id": "363dff224bfb7766",
   "metadata": {},
   "source": [
    "# Checks sur la qualité des données & calculs"
   ]
  },
  {
   "cell_type": "code",
   "execution_count": 15,
   "id": "46d41149e1faf14f",
   "metadata": {},
   "outputs": [
    {
     "name": "stdout",
     "output_type": "stream",
     "text": [
      "Nb d'établissements scolaires avec des batiments: 1103 (98%)\n"
     ]
    }
   ],
   "source": [
    "nb_schools_with_buildings = len(schools_buildings.identifiant_de_l_etablissement.unique())\n",
    "print(\"Nb d'établissements scolaires avec des batiments: {} ({}%)\".format(\n",
    "    nb_schools_with_buildings,\n",
    "    round(100 * nb_schools_with_buildings / nb_schools)\n",
    "))"
   ]
  },
  {
   "cell_type": "markdown",
   "id": "9b78aec5982e6099",
   "metadata": {},
   "source": [
    "# Aggrégations"
   ]
  },
  {
   "cell_type": "markdown",
   "id": "c031864081bf3adb",
   "metadata": {},
   "source": [
    "### Par établissement scolaire"
   ]
  },
  {
   "cell_type": "code",
   "execution_count": null,
   "id": "c469e5829a888e0a",
   "metadata": {},
   "outputs": [],
   "source": [
    "results_by_school = aggregate_solar_potential_by(\n",
    "    schools_establishments=schools_establishments,\n",
    "    solar_potential_of_schools_buildings=solar_potential_of_schools_buildings,\n",
    "    group_by = [\n",
    "        \"identifiant_de_l_etablissement\",\n",
    "        #\"nom_etablissement\",  # @TODO comprendre pourquoi cet endroit bug\n",
    "        \"type_etablissement\",\n",
    "        \"libelle_nature\",\n",
    "        \"code_commune\",\n",
    "        \"nom_commune\",\n",
    "        \"code_departement\",\n",
    "        \"libelle_departement\",\n",
    "        \"code_region\",\n",
    "        \"libelle_region\",\n",
    "    ]\n",
    ")"
   ]
  },
  {
   "cell_type": "markdown",
   "id": "4095f66c6c4336a0",
   "metadata": {},
   "source": [
    "### Par commune"
   ]
  },
  {
   "cell_type": "code",
   "execution_count": 19,
   "id": "1d2b76a6b5a0a16b",
   "metadata": {},
   "outputs": [],
   "source": [
    "results_by_commune = aggregate_solar_potential_by(\n",
    "    schools_establishments=schools_establishments,\n",
    "    solar_potential_of_schools_buildings=solar_potential_of_schools_buildings,\n",
    "    group_by = [\n",
    "        \"code_commune\",\n",
    "        \"nom_commune\",\n",
    "        \"code_departement\",\n",
    "        \"libelle_departement\",\n",
    "        \"code_region\",\n",
    "        \"libelle_region\",\n",
    "    ]\n",
    ")\n",
    "# TODO : la geometrie de la commune est fausse"
   ]
  },
  {
   "cell_type": "markdown",
   "id": "b1979de1a83e56b",
   "metadata": {},
   "source": [
    "### Par département"
   ]
  },
  {
   "cell_type": "code",
   "execution_count": 20,
   "id": "aa0632566b289415",
   "metadata": {},
   "outputs": [],
   "source": [
    "results_by_departement = aggregate_solar_potential_by(\n",
    "    schools_establishments=schools_establishments,\n",
    "    solar_potential_of_schools_buildings=solar_potential_of_schools_buildings,\n",
    "    group_by = [\n",
    "        \"code_departement\",\n",
    "        \"libelle_departement\",\n",
    "        \"code_region\",\n",
    "        \"libelle_region\",\n",
    "    ]\n",
    ")\n",
    "# TODO : la geometrie du departement est fausse"
   ]
  },
  {
   "cell_type": "markdown",
   "id": "35202e1b07211fb1",
   "metadata": {},
   "source": [
    "### Par région"
   ]
  },
  {
   "cell_type": "code",
   "execution_count": 21,
   "id": "8cf55b4e6ce04838",
   "metadata": {},
   "outputs": [],
   "source": [
    "# TODO : demande de se connecter au bucket avec les resultats existants pour aggreger \n",
    "# TODO : ou de faire le calcul pour tous les departements d une region"
   ]
  },
  {
   "cell_type": "markdown",
   "id": "229708fb93570bb0",
   "metadata": {},
   "source": [
    "# Sauvegarde des fichiers"
   ]
  },
  {
   "cell_type": "code",
   "execution_count": 22,
   "id": "f071523c837a9df5",
   "metadata": {},
   "outputs": [],
   "source": [
    "output_folder = ALGORITHME_FOLDER.parent / \"results\" / f\"D{code_departement}\"\n",
    "output_folder.mkdir(exist_ok=True, parents=True)\n",
    "\n",
    "# TODO : a voir cote front sil faut changer le format de mise a disposition\n",
    "results_by_school.to_file(output_folder / f\"D{code_departement}_ecoles.geojson\", driver=\"GeoJSON\")\n",
    "results_by_commune.to_file(output_folder / f\"D{code_departement}_communes.geojson\", driver=\"GeoJSON\")\n",
    "results_by_departement.to_file(output_folder / f\"D{code_departement}_departement.geojson\", driver=\"GeoJSON\")"
   ]
  }
 ],
 "metadata": {
  "kernelspec": {
   "display_name": ".venv",
   "language": "python",
   "name": "python3"
  },
  "language_info": {
   "codemirror_mode": {
    "name": "ipython",
    "version": 3
   },
   "file_extension": ".py",
   "mimetype": "text/x-python",
   "name": "python",
   "nbconvert_exporter": "python",
   "pygments_lexer": "ipython3",
   "version": "3.11.0"
  }
 },
 "nbformat": 4,
 "nbformat_minor": 5
}
