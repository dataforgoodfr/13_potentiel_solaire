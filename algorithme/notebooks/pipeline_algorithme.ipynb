{
 "cells": [
  {
   "cell_type": "code",
   "id": "f1f565b7",
   "metadata": {},
   "source": [
    "%load_ext autoreload\n",
    "%autoreload 2"
   ],
   "outputs": [],
   "execution_count": null
  },
  {
   "cell_type": "markdown",
   "id": "7218350249b1103e",
   "metadata": {},
   "source": [
    "# Paramètres de la pipeline"
   ]
  },
  {
   "cell_type": "code",
   "id": "6358f4912f9f22ab",
   "metadata": {
    "editable": true,
    "slideshow": {
     "slide_type": ""
    },
    "tags": [
     "parameters"
    ]
   },
   "source": [
    "code_departement = \"093\"\n",
    "logs_level = \"WARNING\""
   ],
   "outputs": [],
   "execution_count": null
  },
  {
   "cell_type": "markdown",
   "id": "d3a70f3e57e62a7c",
   "metadata": {},
   "source": [
    "# Imports & setup"
   ]
  },
  {
   "cell_type": "code",
   "id": "aa88b759c982f54c",
   "metadata": {},
   "source": [
    "import geopandas as gpd\n",
    "import pandas as pd\n",
    "\n",
    "from potentiel_solaire.attach_buildings_to_schools import attach_buildings_to_schools\n",
    "from potentiel_solaire.constants import DEFAULT_CRS, RESULTS_FOLDER\n",
    "from potentiel_solaire.sources.bd_topo import extract_bd_topo, get_topo_zones_of_interest, \\\n",
    "    get_topo_buildings_of_interest\n",
    "from potentiel_solaire.sources.schools_establishments import extract_schools_establishments, \\\n",
    "    get_schools_establishments_of_interest\n",
    "from potentiel_solaire.sources.protected_buildings import extract_protected_buildings, get_areas_with_protected_buildings\n",
    "from potentiel_solaire.features.solar_potential import calculate_solar_potential\n",
    "from potentiel_solaire.aggregate import aggregate_solar_potential_by_etablishment\n",
    "from potentiel_solaire.duckdb_manager import save_solar_potential_by_school, \\\n",
    "    save_solar_potential_by_commune, \\\n",
    "    save_solar_potential_by_department\n",
    "from potentiel_solaire.geojson_files_creator import export_to_geojson\n",
    "from potentiel_solaire.logger import get_logger\n",
    "\n",
    "logger = get_logger()\n",
    "logger.setLevel(logs_level)\n",
    "pd.options.display.max_columns = None"
   ],
   "outputs": [],
   "execution_count": null
  },
  {
   "cell_type": "markdown",
   "id": "a9a9258eef4ab443",
   "metadata": {},
   "source": [
    "# Extraction des données sources"
   ]
  },
  {
   "cell_type": "markdown",
   "id": "463a1d94816fdbc3",
   "metadata": {},
   "source": [
    "### Etablissements scolaires"
   ]
  },
  {
   "cell_type": "code",
   "id": "7d8bb82fa7db3b7d",
   "metadata": {},
   "source": [
    "schools_establishments_path = extract_schools_establishments()\n",
    "print(f\"Annuaire des établissements scolaires extrait ici: {schools_establishments_path}\")"
   ],
   "outputs": [],
   "execution_count": null
  },
  {
   "cell_type": "markdown",
   "id": "d24a2e59f349d78c",
   "metadata": {},
   "source": [
    "### BD TOPO"
   ]
  },
  {
   "cell_type": "code",
   "id": "3e8f100f2f53930c",
   "metadata": {},
   "source": [
    "bd_topo_path = extract_bd_topo(code_departement=code_departement)\n",
    "print(f\"BD TOPO extraite ici: {bd_topo_path}\")"
   ],
   "outputs": [],
   "execution_count": null
  },
  {
   "cell_type": "markdown",
   "id": "5d3c5337",
   "metadata": {},
   "source": [
    "### BD Protected Buildings"
   ]
  },
  {
   "cell_type": "code",
   "id": "1786941c",
   "metadata": {},
   "source": [
    "bd_protected_buildings_path = extract_protected_buildings()\n",
    "print(f\"BD des bâtiments protégés extraite ici: {bd_protected_buildings_path}\")"
   ],
   "outputs": [],
   "execution_count": null
  },
  {
   "cell_type": "markdown",
   "id": "b315616c8a49a102",
   "metadata": {},
   "source": [
    "# Filtre des données sur le périmètre du calcul"
   ]
  },
  {
   "cell_type": "markdown",
   "id": "8141e3850bdde72d",
   "metadata": {},
   "source": [
    "### Etablissements scolaires\n"
   ]
  },
  {
   "cell_type": "code",
   "id": "8c2714f479cce131",
   "metadata": {},
   "source": [
    "schools_establishments = get_schools_establishments_of_interest(\n",
    "    schools_filepath=schools_establishments_path,\n",
    "    code_departement=code_departement,\n",
    "    types_etablissements=['Ecole', 'Lycée', 'Collège'],\n",
    "    statut_public_prive=\"Public\",\n",
    "    etat=\"OUVERT\",\n",
    "    crs=DEFAULT_CRS\n",
    ")\n",
    "nb_schools = schools_establishments.shape[0]\n",
    "print(f\"Nb d'établissements scolaires: {nb_schools}\")"
   ],
   "outputs": [],
   "execution_count": null
  },
  {
   "cell_type": "markdown",
   "id": "6a7c50bff2a4dcab",
   "metadata": {},
   "source": [
    "### Zone d'intérêt géographique"
   ]
  },
  {
   "cell_type": "code",
   "id": "90227f344c76c3d6",
   "metadata": {},
   "source": [
    "codes_commune = schools_establishments[\"code_commune\"].unique()\n",
    "communes = gpd.read_file(bd_topo_path, layer=\"commune\").to_crs(DEFAULT_CRS)\n",
    "communes = communes[communes.code_insee.isin(codes_commune)]\n",
    "geom_of_interest = communes.dissolve()[[\"geometry\"]]"
   ],
   "outputs": [],
   "execution_count": null
  },
  {
   "cell_type": "markdown",
   "id": "ed36d1f4a8ff139d",
   "metadata": {},
   "source": [
    "### Zones d'éducations"
   ]
  },
  {
   "cell_type": "code",
   "id": "62c98433be3c4844",
   "metadata": {},
   "source": [
    "educational_zones = get_topo_zones_of_interest(\n",
    "    bd_topo_path=bd_topo_path,\n",
    "    geom_of_interest=geom_of_interest,\n",
    "    categories=[\"Science et enseignement\"],\n",
    "    natures=['Collège', 'Lycée', 'Enseignement primaire'],\n",
    "    crs=DEFAULT_CRS\n",
    ")\n",
    "nb_educational_zones = educational_zones.shape[0]\n",
    "print(\"Nb de zones d'éducations: \", nb_educational_zones)"
   ],
   "outputs": [],
   "execution_count": null
  },
  {
   "cell_type": "markdown",
   "id": "50d92236b74ff088",
   "metadata": {},
   "source": [
    "### Bâtiments"
   ]
  },
  {
   "cell_type": "code",
   "id": "b092bb4fd4942b",
   "metadata": {},
   "source": [
    "buildings = get_topo_buildings_of_interest(\n",
    "    bd_topo_path=bd_topo_path,\n",
    "    geom_of_interest=geom_of_interest,\n",
    "    crs=DEFAULT_CRS\n",
    ")\n",
    "nb_buildings = buildings.shape[0]\n",
    "print(\"Nb de batiments: \", nb_buildings)"
   ],
   "outputs": [],
   "execution_count": null
  },
  {
   "cell_type": "markdown",
   "id": "176817ac7bffea59",
   "metadata": {},
   "source": [
    "### Zones avec des bâtiments protégés"
   ]
  },
  {
   "cell_type": "code",
   "id": "6d9accb3a3076291",
   "metadata": {},
   "source": [
    "areas_with_protected_buildings = get_areas_with_protected_buildings(\n",
    "    bd_protected_buildings_path=bd_protected_buildings_path,\n",
    "    geom_of_interest=geom_of_interest,\n",
    "    crs=DEFAULT_CRS\n",
    ")"
   ],
   "outputs": [],
   "execution_count": null
  },
  {
   "cell_type": "markdown",
   "id": "129b67af5c421e52",
   "metadata": {},
   "source": [
    "# Détermination des bâtiments scolaires"
   ]
  },
  {
   "cell_type": "code",
   "id": "f164fcc395a85eeb",
   "metadata": {},
   "source": [
    "schools_buildings = attach_buildings_to_schools(\n",
    "    schools_establishments=schools_establishments,\n",
    "    educational_zones=educational_zones,\n",
    "    buildings=buildings\n",
    ")\n",
    "nb_schools_buildings = schools_buildings.shape[0]\n",
    "print(\"Nb de batiments scolaires: \", nb_schools_buildings)"
   ],
   "outputs": [],
   "execution_count": null
  },
  {
   "cell_type": "markdown",
   "id": "25094a9970938a7d",
   "metadata": {},
   "source": [
    "# Calcul des attributs utiles pour le potentiel solaire"
   ]
  },
  {
   "cell_type": "code",
   "id": "c0cf2ab1980a4b17",
   "metadata": {},
   "source": [
    "# TODO: v0 seulement à ce stade\n",
    "solar_potential_of_schools_buildings = calculate_solar_potential(\n",
    "    schools_buildings=schools_buildings,\n",
    "    areas_with_protected_buildings=areas_with_protected_buildings,\n",
    "    geom_of_interest=geom_of_interest\n",
    ")"
   ],
   "outputs": [],
   "execution_count": null
  },
  {
   "cell_type": "markdown",
   "id": "122f28cb4df0c233",
   "metadata": {},
   "source": [
    "# Dump des donnees pour analyses"
   ]
  },
  {
   "cell_type": "code",
   "id": "ec6bfaba919117a6",
   "metadata": {},
   "source": [
    "layers = [\"schools_establishments\", \"educational_zones\", \"schools_buildings\", \"solar_potential_of_schools_buildings\"]\n",
    "gdfs = [schools_establishments, educational_zones, schools_buildings, solar_potential_of_schools_buildings]\n",
    "\n",
    "for layer, gdf in zip(layers, gdfs):\n",
    "    output_gpkg = RESULTS_FOLDER / f\"D{code_departement}_pipeline_results.gpkg\"\n",
    "    gdf.to_file(output_gpkg, layer=layer, driver=\"GPKG\")"
   ],
   "outputs": [],
   "execution_count": null
  },
  {
   "cell_type": "markdown",
   "id": "363dff224bfb7766",
   "metadata": {},
   "source": [
    "# Checks sur la qualité des données & calculs"
   ]
  },
  {
   "cell_type": "code",
   "id": "46d41149e1faf14f",
   "metadata": {},
   "source": [
    "nb_schools_with_buildings = len(schools_buildings.identifiant_de_l_etablissement.unique())\n",
    "print(\"Nb d'établissements scolaires avec des batiments: {} ({}%)\".format(\n",
    "    nb_schools_with_buildings,\n",
    "    round(100 * nb_schools_with_buildings / nb_schools)\n",
    "))"
   ],
   "outputs": [],
   "execution_count": null
  },
  {
   "cell_type": "code",
   "id": "3ba0c93b8e8c53da",
   "metadata": {},
   "source": [
    "nb_buildings_protected = solar_potential_of_schools_buildings[solar_potential_of_schools_buildings.protection].shape[0]\n",
    "print(f\"Nb de batiments protégés {nb_buildings_protected} ({100*nb_buildings_protected/nb_schools_buildings:.2f}%)\")"
   ],
   "outputs": [],
   "execution_count": null
  },
  {
   "cell_type": "markdown",
   "id": "01ab9c87",
   "metadata": {},
   "source": [
    "### Evaluation du Potentiel solaire par Etablissement"
   ]
  },
  {
   "cell_type": "code",
   "id": "c469e5829a888e0a",
   "metadata": {},
   "source": [
    "results_by_school = aggregate_solar_potential_by_etablishment(\n",
    "    schools_establishments=schools_establishments,\n",
    "    solar_potential_of_schools_buildings=solar_potential_of_schools_buildings\n",
    ")\n",
    "\n",
    "results_by_school.head()"
   ],
   "outputs": [],
   "execution_count": null
  },
  {
   "cell_type": "markdown",
   "id": "229708fb93570bb0",
   "metadata": {},
   "source": "# Sauvegarde des calculs en Base de Données"
  },
  {
   "cell_type": "markdown",
   "id": "76f552dc",
   "metadata": {},
   "source": [
    "#### Mise à jour des données des Etablissements du Département en Base de Données"
   ]
  },
  {
   "cell_type": "code",
   "id": "a6e15203",
   "metadata": {},
   "source": [
    "stats_schools= save_solar_potential_by_school(\n",
    "    results_by_school,\n",
    "    code_departement\n",
    ")\n",
    "\n",
    "assert stats_schools.query('surface_utile > 0').shape[0] > 0, \"Problème lors de la mise à jour des établissements\"\n",
    "\n",
    "stats_schools.head(3)"
   ],
   "outputs": [],
   "execution_count": null
  },
  {
   "cell_type": "markdown",
   "id": "8b0bbdfa",
   "metadata": {},
   "source": [
    "#### Mise à jour des données des Communes du Département en Base de Données"
   ]
  },
  {
   "cell_type": "code",
   "id": "341619cc",
   "metadata": {},
   "source": [
    "stats_cities = save_solar_potential_by_commune(\n",
    "    code_departement\n",
    ")\n",
    "\n",
    "assert stats_cities.query('surface_utile > 0').shape[0] > 0, \"Problème lors de la mise à jour des communes\"\n",
    "\n",
    "stats_cities.head(3)"
   ],
   "outputs": [],
   "execution_count": null
  },
  {
   "cell_type": "markdown",
   "id": "aa3147ae",
   "metadata": {},
   "source": [
    "#### Mise à jour des données du Département en Base de données"
   ]
  },
  {
   "cell_type": "code",
   "id": "7a46bd4a",
   "metadata": {},
   "source": [
    "stats_department = save_solar_potential_by_department(\n",
    "    code_departement\n",
    ")\n",
    "\n",
    "assert stats_department['surface_utile'].shape[0] > 0, f\"Problème lors de la mise à jour du département {code_departement}\"\n",
    "\n",
    "stats_department.head(3)"
   ],
   "outputs": [],
   "execution_count": null
  },
  {
   "cell_type": "markdown",
   "id": "2723a1b3",
   "metadata": {},
   "source": [
    "### Export sous forme de fichiers GeoJSON"
   ]
  },
  {
   "cell_type": "code",
   "id": "9117b553",
   "metadata": {},
   "source": [
    "output_folder = RESULTS_FOLDER\n",
    "output_folder.mkdir(exist_ok=True, parents=True)\n",
    "\n",
    "export_to_geojson(stats_schools, output_folder / f\"D{code_departement}_ecoles.geojson\")\n",
    "export_to_geojson(stats_cities, output_folder / f\"D{code_departement}_communes.geojson\")\n",
    "export_to_geojson(stats_department, output_folder / f\"D{code_departement}_departement.geojson\")"
   ],
   "outputs": [],
   "execution_count": null
  }
 ],
 "metadata": {
  "kernelspec": {
   "display_name": ".venv",
   "language": "python",
   "name": "python3"
  },
  "language_info": {
   "codemirror_mode": {
    "name": "ipython",
    "version": 3
   },
   "file_extension": ".py",
   "mimetype": "text/x-python",
   "name": "python",
   "nbconvert_exporter": "python",
   "pygments_lexer": "ipython3",
   "version": "3.12.5"
  }
 },
 "nbformat": 4,
 "nbformat_minor": 5
}
