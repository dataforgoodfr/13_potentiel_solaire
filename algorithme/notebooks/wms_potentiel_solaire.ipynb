{
 "cells": [
  {
   "cell_type": "code",
   "execution_count": null,
   "metadata": {},
   "outputs": [],
   "source": [
    "%load_ext autoreload\n",
    "%autoreload 2"
   ]
  },
  {
   "cell_type": "markdown",
   "metadata": {},
   "source": [
    "# Exploration Potentiel solaire - global, et à l'échelle d'une école"
   ]
  },
  {
   "cell_type": "code",
   "execution_count": 79,
   "metadata": {},
   "outputs": [],
   "source": [
    "# Executer ci dessous ci besoin pour récupérer les données\n",
    "# !extract-sample-data\n",
    "# Et pour sauver une version markdown des notebooks, utiliser\n",
    "# jupyter nbconvert wms_potentiel_solaire.ipynb --to markdown --output-dir=exports/"
   ]
  },
  {
   "cell_type": "code",
   "execution_count": 80,
   "metadata": {},
   "outputs": [],
   "source": [
    "from owslib.wms import WebMapService\n",
    "\n",
    "import geopandas as gpd\n",
    "import pandas as pd\n",
    "import matplotlib.pyplot as plt\n",
    "import contextily as cx\n",
    "from shapely.affinity import translate\n",
    "from shapely.ops import unary_union\n",
    "from shapely import intersection\n",
    "from pathlib import Path\n",
    "import numpy as np\n",
    "\n",
    "import warnings\n",
    "warnings.filterwarnings('ignore') "
   ]
  },
  {
   "cell_type": "code",
   "execution_count": 81,
   "metadata": {},
   "outputs": [],
   "source": [
    "import rasterio\n",
    "from io import BytesIO\n",
    "from rasterio.plot import show\n",
    "from rasterio import MemoryFile\n",
    "from rasterio.plot import show"
   ]
  },
  {
   "cell_type": "code",
   "execution_count": null,
   "metadata": {},
   "outputs": [],
   "source": [
    "import owslib\n",
    "owslib.__version__"
   ]
  },
  {
   "cell_type": "markdown",
   "metadata": {},
   "source": [
    "#### Récupération data d'une école"
   ]
  },
  {
   "cell_type": "code",
   "execution_count": null,
   "metadata": {},
   "outputs": [],
   "source": [
    "DATA_FOLDER = Path(\"../data\")\n",
    "\n",
    "saint_denis_path = DATA_FOLDER / \"saint_denis_reference_data.gpkg\"\n",
    "\n",
    "ecoles = gpd.read_file(saint_denis_path, layer=\"bdtopo_education\").to_crs(2154)\n",
    "batiments = gpd.read_file(saint_denis_path, layer=\"bdtopo_batiment\").to_crs(2154)\n",
    "\n",
    "ID = \"SURFACTI0000000002555648\"\n",
    "\n",
    "batiments_ecole = batiments[batiments.cleabs_left__zone == ID]\n",
    "boite = batiments_ecole.geometry.total_bounds\n",
    "batiments_ecole.plot()"
   ]
  },
  {
   "cell_type": "markdown",
   "metadata": {},
   "source": [
    "# 1. Potentiel solaire: utilisation d'un flux WMS\n",
    "\n",
    "#### Definitions WMS"
   ]
  },
  {
   "cell_type": "code",
   "execution_count": 84,
   "metadata": {},
   "outputs": [],
   "source": [
    "# https://geoservices.ign.fr/services-web-experts-energies-renouvelables\n",
    "# url = 'https://data.geopf.fr/annexes/ressources/wms-r/enr.xml'\n",
    "url = \"https://data.geopf.fr/wms-r/wms?SERVICE=WMS&\"\n",
    "wms = WebMapService(url, version='1.3.0')\n",
    "layer= 'IRRADIATION.SOLAIRE'"
   ]
  },
  {
   "cell_type": "code",
   "execution_count": null,
   "metadata": {},
   "outputs": [],
   "source": [
    "minx = -667916\n",
    "maxx = 1113194\n",
    "miny = 5012341\n",
    "maxy = 6800125\n",
    "espg = \"3857\"\n",
    "Y = (maxy-miny)//2000\n",
    "X = (maxx-minx)//2000\n",
    "print(X,Y)"
   ]
  },
  {
   "cell_type": "markdown",
   "metadata": {},
   "source": [
    "#### Acquisition of the image"
   ]
  },
  {
   "cell_type": "code",
   "execution_count": 86,
   "metadata": {},
   "outputs": [],
   "source": [
    "img = wms.getmap(layers = [layer], srs = 'EPSG:3857', bbox = [minx,miny,maxx,maxy] , size = (X, Y), format= 'image/geotiff',transparent=True,mode='32bit')"
   ]
  },
  {
   "cell_type": "code",
   "execution_count": null,
   "metadata": {},
   "outputs": [],
   "source": [
    "with MemoryFile(img) as memfile:\n",
    "    with memfile.open() as dataset:\n",
    "        metas = dataset.meta\n",
    "        show(dataset)"
   ]
  },
  {
   "cell_type": "markdown",
   "metadata": {},
   "source": [
    "There are 4 bands but no single value"
   ]
  },
  {
   "cell_type": "code",
   "execution_count": null,
   "metadata": {},
   "outputs": [],
   "source": [
    "metas"
   ]
  },
  {
   "cell_type": "markdown",
   "metadata": {},
   "source": [
    "## __PROBLEME__\n",
    "\n",
    "On a bien la France mais pas l'échelle! Le flux WMS contains a RGBA array mais ne contient pas une valeur en absolu.\n",
    "\n",
    "Il faut trouver une autre source."
   ]
  },
  {
   "cell_type": "markdown",
   "metadata": {},
   "source": [
    "# 2. Potentiel solaire: Fichier statique"
   ]
  },
  {
   "cell_type": "code",
   "execution_count": 89,
   "metadata": {},
   "outputs": [],
   "source": [
    "import os\n",
    "import rasterio.mask"
   ]
  },
  {
   "cell_type": "markdown",
   "metadata": {},
   "source": [
    "#### Verification du fichier à l'échelle de la France"
   ]
  },
  {
   "cell_type": "code",
   "execution_count": 104,
   "metadata": {},
   "outputs": [],
   "source": [
    "from matplotlib import pyplot as plt\n",
    "import matplotlib\n",
    "cmap = matplotlib.colors.LinearSegmentedColormap.from_list(\"\", [\"green\",\"yellow\",\"red\"])\n"
   ]
  },
  {
   "cell_type": "code",
   "execution_count": null,
   "metadata": {},
   "outputs": [],
   "source": [
    "\n",
    "tile = \"/ENR_1-0_IRR-SOL_TIFF_WGS84G_FXX_2023-10-01/1_DONNEES_LIVRAISON/GlobalHorizontalIrradiation.tif\"\n",
    "path = DATA_FOLDER / tile\n",
    "with rasterio.open(\"../data/\"+str(path)) as img:\n",
    "    print(img.crs)\n",
    "    show(img,title=\"Representation de l'IRR en france metropolitaine, en kWh/m2/an\",cmap=cmap)"
   ]
  },
  {
   "cell_type": "markdown",
   "metadata": {},
   "source": [
    "#### Focus autour de l'école"
   ]
  },
  {
   "cell_type": "code",
   "execution_count": 91,
   "metadata": {},
   "outputs": [],
   "source": [
    "batiments_ecole2 = batiments_ecole.copy()\n",
    "geo = batiments_ecole.to_crs(epsg=6933).buffer(2000)  ## buffer de 2km\n",
    "batiments_ecole2[\"geometry\"] = geo\n",
    "batiments_ecole2 = batiments_ecole2.to_crs(epsg=4326)"
   ]
  },
  {
   "cell_type": "markdown",
   "metadata": {},
   "source": [
    "#### Potentiel moyen autour de l'école"
   ]
  },
  {
   "cell_type": "code",
   "execution_count": null,
   "metadata": {},
   "outputs": [],
   "source": [
    "zone = batiments_ecole2\n",
    "zone.to_crs(epsg=4326)\n",
    "tile = \"/ENR_1-0_IRR-SOL_TIFF_WGS84G_FXX_2023-10-01/1_DONNEES_LIVRAISON/GlobalHorizontalIrradiation.tif\"\n",
    "path = DATA_FOLDER / tile\n",
    "with rasterio.open(\"../data/\"+str(path)) as img:\n",
    "    print(img.crs)\n",
    "    out_image, out_transform = rasterio.mask.mask(img, zone.geometry, crop=True)\n",
    "\n",
    "out_image[np.isnan(out_image)] = 0\n",
    "avg = np.mean(out_image[out_image > 100])\n",
    "print(\"Ensoleillement moyen:\",avg,\"kWh/m2/an\")"
   ]
  },
  {
   "cell_type": "markdown",
   "metadata": {},
   "source": [
    "# Assemblage pour une école"
   ]
  },
  {
   "cell_type": "markdown",
   "metadata": {},
   "source": [
    "#### Fonction grossiere pour estimer la surface utile d'une ecole"
   ]
  },
  {
   "cell_type": "code",
   "execution_count": 94,
   "metadata": {},
   "outputs": [],
   "source": [
    "def surface_utile(surfacetotale):\n",
    "    if surfacetotale < 500:\n",
    "        ratio = 0.4*surfacetotale/5000+0.2\n",
    "        if surfacetotale > 100:\n",
    "            return ratio*surfacetotale\n",
    "    else:\n",
    "        return surfacetotale*0.6\n",
    "    return 0\n",
    "        "
   ]
  },
  {
   "cell_type": "markdown",
   "metadata": {},
   "source": [
    "#### Hypothese de rendement"
   ]
  },
  {
   "cell_type": "code",
   "execution_count": 95,
   "metadata": {},
   "outputs": [],
   "source": [
    "# hypothese\n",
    "rendement = 0.1"
   ]
  },
  {
   "cell_type": "markdown",
   "metadata": {},
   "source": [
    "#### Selection de la layer de la BDD Potentiel Solaire Toiture"
   ]
  },
  {
   "cell_type": "code",
   "execution_count": 109,
   "metadata": {},
   "outputs": [],
   "source": [
    "src = DATA_FOLDER / \"saint_denis_reference_data.gpkg\"\n",
    "potentiel = gpd.read_file(src, layer=\"potentielsolaire_toitures\")\n",
    "potentiel_ecole = potentiel[potentiel.id.isin(batiments_ecole.cleabs_left__bat)]"
   ]
  },
  {
   "cell_type": "markdown",
   "metadata": {},
   "source": [
    "#### Methodologie de calcul de potentiel par batiment"
   ]
  },
  {
   "cell_type": "code",
   "execution_count": null,
   "metadata": {},
   "outputs": [],
   "source": [
    "potentiel_ecole = potentiel_ecole[[\"id\",'st_areashape',\"eq_pano\",\"eq_surf\",'surf_util','moyenne2','production',\"geometry\",'st_lengthshape']]\n",
    "potentiel_ecole[\"surf_utile_calculee\"] = potentiel_ecole['st_areashape'].apply(lambda x: surface_utile(x) )\n",
    "potentiel_ecole[\"prod_calculee\"] = avg*potentiel_ecole[\"surf_utile_calculee\"]*rendement\n",
    "potentiel_ecole[\"fit\"] = potentiel_ecole.prod_calculee / potentiel_ecole.production\n",
    "potentiel_ecole[\"IRR\"] = avg \n",
    "potentiel_ecole[[\"id\",'surf_util',\"surf_utile_calculee\",\"moyenne2\",'IRR','production','prod_calculee',\"fit\"]]"
   ]
  },
  {
   "cell_type": "markdown",
   "metadata": {},
   "source": [
    "#### Aggregation des valeurs à l'échelle de l'école"
   ]
  },
  {
   "cell_type": "code",
   "execution_count": null,
   "metadata": {},
   "outputs": [],
   "source": [
    "total_ecole         = potentiel_ecole.production.sum()\n",
    "total_ecole_calcule = potentiel_ecole.prod_calculee.sum()\n",
    "print(\"# Verification des potentiels pour l'école:\",ID,\"\\n\")\n",
    "print(\"* BDD Potentiel solaire\\t\",int(total_ecole),\"kWh/an\")\n",
    "print(\"* Estimation ordre 0\\t\",int(total_ecole_calcule),\"kWh/an\")\n",
    "print(\"* Tentative accuracy\\t\",int(total_ecole/total_ecole_calcule*100),\"%\")"
   ]
  }
 ],
 "metadata": {
  "kernelspec": {
   "display_name": ".venv",
   "language": "python",
   "name": "python3"
  },
  "language_info": {
   "codemirror_mode": {
    "name": "ipython",
    "version": 3
   },
   "file_extension": ".py",
   "mimetype": "text/x-python",
   "name": "python",
   "nbconvert_exporter": "python",
   "pygments_lexer": "ipython3",
   "version": "3.11.0"
  }
 },
 "nbformat": 4,
 "nbformat_minor": 2
}
