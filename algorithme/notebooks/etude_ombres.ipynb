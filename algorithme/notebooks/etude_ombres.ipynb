{
 "cells": [
  {
   "cell_type": "markdown",
   "metadata": {},
   "source": [
    "## Analyse d'ombre sur un établissement de St denis"
   ]
  },
  {
   "cell_type": "code",
   "execution_count": null,
   "metadata": {},
   "outputs": [],
   "source": [
    "# Autoreload des modules\n",
    "%load_ext autoreload\n",
    "%autoreload 2"
   ]
  },
  {
   "cell_type": "markdown",
   "metadata": {},
   "source": [
    "### Imports"
   ]
  },
  {
   "cell_type": "code",
   "execution_count": 39,
   "metadata": {},
   "outputs": [],
   "source": [
    "import geopandas as gpd\n",
    "import matplotlib.pyplot as plt\n",
    "import contextily as cx\n",
    "from pathlib import Path\n",
    "from shapely import Polygon\n",
    "import pandas as pd\n",
    "import os, rasterio\n",
    "from rasterio.plot import show\n",
    "from potentiel_solaire.features.ombres import getBatimentsEcoles, getOmbre, getBatiments\n",
    "from potentiel_solaire.features.ombres import get_sun_position\n",
    "import numpy as np"
   ]
  },
  {
   "cell_type": "code",
   "execution_count": 7,
   "metadata": {},
   "outputs": [],
   "source": [
    "import warnings\n",
    "warnings.filterwarnings('ignore') "
   ]
  },
  {
   "cell_type": "code",
   "execution_count": 8,
   "metadata": {},
   "outputs": [],
   "source": [
    "# Executer ci dessous ci besoin pour récupérer les données\n",
    "# !extract-sample-data\n",
    "# Et pour sauver une version markdown des notebooks, utiliser\n",
    "# jupyter nbconvert etude_ombres.ipynb --to markdown --output-dir=exports/"
   ]
  },
  {
   "cell_type": "markdown",
   "metadata": {},
   "source": [
    "### Chargement des Bâtiments et Zones Éducatives"
   ]
  },
  {
   "cell_type": "markdown",
   "metadata": {},
   "source": [
    "### Pour St Denis"
   ]
  },
  {
   "cell_type": "code",
   "execution_count": 9,
   "metadata": {},
   "outputs": [],
   "source": [
    "DATA_FOLDER = Path(\"../data\")\n",
    "\n",
    "saint_denis_path = DATA_FOLDER / \"saint_denis_reference_data.gpkg\"\n",
    "\n",
    "ecoles = gpd.read_file(saint_denis_path, layer=\"bdtopo_education\").to_crs(2154)\n",
    "batiments = gpd.read_file(saint_denis_path, layer=\"bdtopo_batiment\").to_crs(2154)"
   ]
  },
  {
   "cell_type": "markdown",
   "metadata": {},
   "source": [
    "### Batiments non écoles"
   ]
  },
  {
   "cell_type": "code",
   "execution_count": 21,
   "metadata": {},
   "outputs": [],
   "source": [
    "tous_batiments = DATA_FOLDER / \"BDTOPO_3-4_TOUSTHEMES_GPKG_LAMB93_D093_2024-12-15/BDTOPO/1_DONNEES_LIVRAISON_2024-12-00134/BDT_3-4_GPKG_LAMB93_D093-ED2024-12-15/BDT_3-4_GPKG_LAMB93_D093-ED2024-12-15.gpkg\"\n"
   ]
  },
  {
   "cell_type": "markdown",
   "metadata": {},
   "source": [
    "# Création des ombres sur différents jours pour la couche bâtiments"
   ]
  },
  {
   "cell_type": "code",
   "execution_count": 11,
   "metadata": {},
   "outputs": [],
   "source": [
    "# On charge les couches\n",
    "ecoles = gpd.read_file(saint_denis_path, layer=\"bdtopo_education\").to_crs(2154)\n",
    "batiments = gpd.read_file(saint_denis_path, layer=\"bdtopo_batiment\").to_crs(2154)"
   ]
  },
  {
   "cell_type": "code",
   "execution_count": 12,
   "metadata": {},
   "outputs": [],
   "source": [
    "# Choix d'une école\n",
    "ID = \"SURFACTI0000000002555648\""
   ]
  },
  {
   "cell_type": "code",
   "execution_count": null,
   "metadata": {},
   "outputs": [],
   "source": [
    "# Test de l'angle du soleil à une certaine position, date et heure\n",
    "a, b= get_sun_position(42, 3, \"2024-06-21\", 12)\n",
    "a,b "
   ]
  },
  {
   "cell_type": "code",
   "execution_count": 18,
   "metadata": {},
   "outputs": [],
   "source": [
    "# Capture des batiments proches\n",
    "batiments_ecole, ecole_cible, zone = getBatimentsEcoles(ID, ecoles, batiments)\n",
    "batiments_proches = getBatiments(ID, ecoles, batiments, rayon = 100)\n",
    "# Et on créé les ombres"
   ]
  },
  {
   "cell_type": "code",
   "execution_count": 29,
   "metadata": {},
   "outputs": [],
   "source": [
    "zone = ecoles[ecoles.cleabs_left == ID][\"geometry\"].iloc[0]\n",
    "buffer_en_m = 50\n",
    "# Passage en mètres\n",
    "zone_with_buffer = ecoles[ecoles.cleabs_left == ID].to_crs(epsg=6933)\n",
    "# Add buffer de 100m\n",
    "zone_with_buffer = zone_with_buffer.buffer(buffer_en_m) \n",
    "# Repassage en Lamb93\n",
    "zone_with_buffer = zone_with_buffer.to_crs(epsg=2154)"
   ]
  },
  {
   "cell_type": "code",
   "execution_count": 34,
   "metadata": {},
   "outputs": [],
   "source": [
    "bats = gpd.read_file(tous_batiments, layer=\"batiment\", mask=zone_with_buffer).clip(zone_with_buffer)\n",
    "bats = bats.to_crs(2154)\n",
    "ombres = getOmbre(batiments_ecole, bats)"
   ]
  },
  {
   "cell_type": "code",
   "execution_count": null,
   "metadata": {},
   "outputs": [],
   "source": [
    "# Et on représente les ombres\n",
    "fig, ax = plt.subplots(figsize=(15,5))\n",
    "zone_with_buffer.plot(ax=ax, alpha=0.2, color =\"pink\", edgecolor='yellow')\n",
    "batiments_ecole.plot(ax=ax, alpha=0.6, linewidth=1,facecolor=\"none\", edgecolor='red', label=\"batiments\")\n",
    "bats.plot(ax=ax, alpha=1, color=\"darkgreen\",figsize=(15,5))\n",
    "batiments_ecole.plot(ax=ax, alpha=0.9,column=\"hauteur\",legend=True,figsize=(15,5),cmap=\"RdBu_r\")\n",
    "ombres.plot(ax=ax, alpha=0.9, color =\"black\")\n",
    "ax.set_title(\"Ombres portées (en noir) sur les batiments (echelle en mètres)\\nEcole ID: \"+ID+\"\\nBuffer de \"+str(buffer_en_m)+\"m autour de l'école.\") \n",
    "cx.add_basemap(ax, crs=ecole_cible.crs, source=cx.providers.GeoportailFrance.orthos )\n",
    "fig.show()"
   ]
  },
  {
   "cell_type": "markdown",
   "metadata": {},
   "source": [
    "# Exploration des ombres des arbres"
   ]
  },
  {
   "cell_type": "markdown",
   "metadata": {},
   "source": [
    "On commence par calibrer hauteur de la BD TOPO vs hauteur donnée dans les MNS"
   ]
  },
  {
   "cell_type": "code",
   "execution_count": null,
   "metadata": {},
   "outputs": [],
   "source": [
    "batiments_ecole = batiments_ecole.to_crs(epsg=6933)\n",
    "batiments_ecole[\"surface_calculee\"] = batiments_ecole.area\n",
    "batiments_ecole = batiments_ecole.to_crs(epsg=2154)\n",
    "batiments_pour_calibration = batiments_ecole.sort_values(by=\"surface_calculee\",ascending=False).dropna(subset=\"hauteur\")[[\"cleabs_left__bat\",\"surface_calculee\",\"hauteur\",\"geometry\"]]\n",
    "batiments_pour_calibration"
   ]
  },
  {
   "cell_type": "code",
   "execution_count": 37,
   "metadata": {},
   "outputs": [],
   "source": [
    "import rasterio.mask\n",
    "from rasterio.features import shapes"
   ]
  },
  {
   "cell_type": "markdown",
   "metadata": {},
   "source": [
    "On créé un modele de surface autour de l'école."
   ]
  },
  {
   "cell_type": "code",
   "execution_count": null,
   "metadata": {},
   "outputs": [],
   "source": [
    "geotiff_cached = \"../data/cache/mns/\"+ID+\".masked.tif\"\n",
    "\n",
    "with rasterio.open(geotiff_cached) as img:\n",
    "    out_image, out_transform = rasterio.mask.mask(img, batiments_pour_calibration[0:1].geometry, crop=True)\n",
    "    out_meta = img.meta\n",
    "offset_hauteur = batiments_pour_calibration[0:1].hauteur.iloc[0] - np.mean(out_image[np.nonzero(out_image)])\n",
    "print(\"* Hauteur cf data Batiment ecole:\\t\", batiments_pour_calibration[0:1].hauteur.iloc[0])\n",
    "print(\"* Hauteur cf data MNS:\\t\", np.mean(out_image[np.nonzero(out_image)]))\n",
    "print(\"* Offset:\\t\",offset_hauteur)\n",
    "geome = ecole_cible.geometry.total_bounds\n",
    "A = \"0\"+str(int(geome[0]//1000))\n",
    "B = str(int(geome[1]//1000)+1)\n",
    "tile = \"/MNS-Correl_1-0__TIFF_LAMB93_D093_2024-01-01/MNS-Correl/1_DONNEES_LIVRAISON_2024-11-00179/MNS-C_0M50_TIF_LAMB93_D93-2024/93-2024-\"+A+\"-\"+B+\"-LA93-0M50.tif\"\n",
    "path = DATA_FOLDER / tile\n",
    "with rasterio.open(\"../data/\"+str(path)) as img:\n",
    "    out_image, out_transform = rasterio.mask.mask(img, ecole_cible.geometry, crop=True)\n",
    "    out_meta = img.meta\n",
    "\n",
    "out_meta.update({\"driver\": \"GTiff\",\n",
    "                \"height\": out_image.shape[1],\n",
    "                \"width\": out_image.shape[2],\n",
    "                \"transform\": out_transform})\n",
    "\n",
    "with rasterio.open(\"../data/cache/mns/\"+ID+\".masked.tif\", \"w\", **out_meta) as dest:\n",
    "    dest.write(out_image)\n",
    "\n",
    "with rasterio.open(\"../data/cache/mns/\"+ID+\".masked.tif\") as img:\n",
    "    out_image, out_transform = rasterio.mask.mask(img, batiments_ecole.geometry, invert=True)\n",
    "    out_meta = img.meta\n",
    "out_image = out_image + offset_hauteur\n",
    "hmin = batiments_pour_calibration.hauteur.min()\n",
    "out_image = np.where(out_image<hmin*1.05, 0, out_image)\n",
    "\n",
    "# Essayons d'avoir 3 couches de hauteur\n",
    "steps = 3\n",
    "processed = out_image - hmin\n",
    "hmax = np.max(processed)\n",
    "G = hmax/steps\n",
    "OUT = (((processed+G+1)//G)*G)-G+hmin\n",
    "OUT = np.where(OUT<0, 0, OUT)\n",
    "plt.imshow(OUT[0])\n",
    "\n",
    "out_meta.update({\"driver\": \"GTiff\",\n",
    "                \"height\": OUT.shape[1],\n",
    "                \"width\": OUT.shape[2],\n",
    "                \"transform\": out_transform})\n",
    "\n",
    "with rasterio.open(\"../data/cache/mns/\"+ID+\".nobats_masked.tif\", \"w\", **out_meta) as dest:\n",
    "    dest.write(OUT)\n",
    "\n",
    "with rasterio.open(\"../data/cache/mns/\"+ID+\".nobats_masked.tif\") as src:\n",
    "    image = src.read(1)\n",
    "    imgtoshow = src.read()\n",
    "\n",
    "img_arbres = rasterio.open(\"../data/cache/mns/\"+ID+\".nobats_masked.tif\")"
   ]
  },
  {
   "cell_type": "markdown",
   "metadata": {},
   "source": [
    "On créée ensuite les formes des arbres"
   ]
  },
  {
   "cell_type": "code",
   "execution_count": null,
   "metadata": {},
   "outputs": [],
   "source": [
    "ombres_mns = []\n",
    "mask = image != 0\n",
    "results = (\n",
    "            {'properties': {'raster_val': v}, 'geometry': s}\n",
    "            for i, (s, v)\n",
    "            in enumerate(\n",
    "                shapes(image, mask=mask, transform=src.transform)))\n",
    "for x in results:\n",
    "    #print(x)\n",
    "    ombres_mns.append([x[\"properties\"][\"raster_val\"], Polygon(x[\"geometry\"][\"coordinates\"][0]) ])\n",
    "df = pd.DataFrame(ombres_mns,columns = [\"hauteur\",\"geometry\"])\n",
    "gdf = gpd.GeoDataFrame(df,geometry=\"geometry\",crs = ecole_cible.crs)\n",
    "gdf"
   ]
  },
  {
   "cell_type": "markdown",
   "metadata": {},
   "source": [
    "On réutilise ici la fonction 'getOmbre' avant en passant plutot la forme des arbres (plutot que des batiments)"
   ]
  },
  {
   "cell_type": "code",
   "execution_count": null,
   "metadata": {},
   "outputs": [],
   "source": [
    "ombres_bis = getOmbre(batiments_ecole, gdf)"
   ]
  },
  {
   "cell_type": "code",
   "execution_count": null,
   "metadata": {},
   "outputs": [],
   "source": [
    "# Et on représente les ombres\n",
    "fig, ax = plt.subplots(figsize=(15,5))\n",
    "zone_with_buffer.plot(ax=ax, alpha=0.2, color =\"pink\", edgecolor='yellow')\n",
    "cx.add_basemap(ax, crs=ecole_cible.crs, source=cx.providers.GeoportailFrance.orthos )\n",
    "show(img_arbres, ax=ax, alpha=0.7)\n",
    "\n",
    "bats.plot(ax=ax, alpha=1, color=\"darkgreen\", label=\"batiments non ecole\")\n",
    "batiments_ecole.plot(ax=ax, alpha=0.6, linewidth=1,facecolor=\"orange\", edgecolor='orange', label=\"batiments ecole\")\n",
    "\n",
    "ombres_bis.plot(ax=ax, alpha=0.9, color =\"grey\")\n",
    "ombres.plot(ax=ax, alpha=0.9, color =\"black\")\n",
    "\n",
    "ax.set_title(\"Ombres des batiments (en noir) et des arbres (en gris) sur les batiments (échelle en mètres)\\nEcole ID: \"+ID+\"\\nBuffer de \"+str(buffer_en_m)+\"m autour de l'école.\") \n",
    "fig.show()"
   ]
  }
 ],
 "metadata": {
  "kernelspec": {
   "display_name": ".venv",
   "language": "python",
   "name": "python3"
  },
  "language_info": {
   "codemirror_mode": {
    "name": "ipython",
    "version": 3
   },
   "file_extension": ".py",
   "mimetype": "text/x-python",
   "name": "python",
   "nbconvert_exporter": "python",
   "pygments_lexer": "ipython3",
   "version": "3.10.12"
  }
 },
 "nbformat": 4,
 "nbformat_minor": 2
}
