{
 "cells": [
  {
   "cell_type": "markdown",
   "metadata": {},
   "source": [
    "## Analyse d'ombre sur un établissement de St denis"
   ]
  },
  {
   "cell_type": "code",
   "execution_count": 1,
   "metadata": {},
   "outputs": [],
   "source": [
    "# Autoreload des modules\n",
    "%load_ext autoreload\n",
    "%autoreload 2"
   ]
  },
  {
   "cell_type": "markdown",
   "metadata": {},
   "source": [
    "### Imports"
   ]
  },
  {
   "cell_type": "code",
   "execution_count": 2,
   "metadata": {},
   "outputs": [],
   "source": [
    "import geopandas as gpd\n",
    "import matplotlib.pyplot as plt\n",
    "import contextily as cx\n",
    "from pathlib import Path\n",
    "\n",
    "from potentiel_solaire.features.ombres import getBatimentsEcoles, getOmbre, getBatiments"
   ]
  },
  {
   "cell_type": "code",
   "execution_count": 3,
   "metadata": {},
   "outputs": [],
   "source": [
    "import warnings\n",
    "warnings.filterwarnings('ignore') "
   ]
  },
  {
   "cell_type": "code",
   "execution_count": 4,
   "metadata": {},
   "outputs": [],
   "source": [
    "# Executer ci dessous ci besoin pour récupérer les données\n",
    "# !extract-sample-data\n",
    "# Et pour sauver une version markdown des notebooks, utiliser\n",
    "# jupyter nbconvert donnees_par_ecole.ipynb --to markdown --output-dir=exports/"
   ]
  },
  {
   "cell_type": "markdown",
   "metadata": {},
   "source": [
    "### Chargement des Bâtiments et Zones Éducatives"
   ]
  },
  {
   "cell_type": "code",
   "execution_count": 5,
   "metadata": {},
   "outputs": [],
   "source": [
    "DATA_FOLDER = Path(\"../data\")\n",
    "\n",
    "saint_denis_path = DATA_FOLDER / \"saint_denis_reference_data.gpkg\"\n",
    "\n",
    "ecoles = gpd.read_file(saint_denis_path, layer=\"bdtopo_education\").to_crs(2154)\n",
    "batiments = gpd.read_file(saint_denis_path, layer=\"bdtopo_batiment\").to_crs(2154)"
   ]
  },
  {
   "cell_type": "markdown",
   "metadata": {},
   "source": [
    "# Création des ombres"
   ]
  },
  {
   "cell_type": "code",
   "execution_count": 6,
   "metadata": {},
   "outputs": [],
   "source": [
    "# On charge les couches\n",
    "ecoles = gpd.read_file(saint_denis_path, layer=\"bdtopo_education\").to_crs(2154)\n",
    "batiments = gpd.read_file(saint_denis_path, layer=\"bdtopo_batiment\").to_crs(2154)"
   ]
  },
  {
   "cell_type": "code",
   "execution_count": 7,
   "metadata": {},
   "outputs": [],
   "source": [
    "# Choix d'une école\n",
    "ID = \"SURFACTI0000000002555648\""
   ]
  },
  {
   "cell_type": "code",
   "execution_count": 8,
   "metadata": {},
   "outputs": [],
   "source": [
    "# Capture des batiments proches\n",
    "batiments_ecole, ecole_cible, zone = getBatimentsEcoles(ID, ecoles, batiments)\n",
    "batiments_proches = getBatiments(ID, ecoles, batiments, rayon = 100)\n",
    "# Et on créé les ombres\n",
    "ombres = getOmbre(batiments_ecole, batiments_proches)"
   ]
  },
  {
   "cell_type": "code",
   "execution_count": null,
   "metadata": {},
   "outputs": [],
   "source": [
    "# Et on représente les ombres\n",
    "fig, ax = plt.subplots(figsize=(15,5))\n",
    "ecole_cible.plot(ax=ax, alpha=0.2, color =\"green\", edgecolor='yellow')\n",
    "batiments_ecole.plot(ax=ax, alpha=0.6, linewidth=1,facecolor=\"none\", edgecolor='red', label=\"batiments\")\n",
    "batiments_ecole.plot(ax=ax, alpha=0.5,column=\"hauteur\",legend=True,figsize=(15,5),cmap=\"RdBu_r\")\n",
    "ombres.plot(ax=ax, alpha=0.9, color =\"black\")\n",
    "ax.set_title(\"Ombres portées (en noir) sur les batiments (echelle en mètres)\\nEcole ID: \"+ID+\"\\n\") \n",
    "cx.add_basemap(ax, crs=ecole_cible.crs, source=cx.providers.GeoportailFrance.orthos )\n",
    "fig.show()"
   ]
  },
  {
   "cell_type": "markdown",
   "metadata": {},
   "source": [
    "# Essayons maintenant avec une date heure"
   ]
  },
  {
   "cell_type": "code",
   "execution_count": 13,
   "metadata": {},
   "outputs": [],
   "source": [
    "import ephem\n",
    "from datetime import datetime\n",
    "import math\n",
    "\n",
    "def get_sun_position(latitude, longitude, date, hour):\n",
    "    \"\"\"\n",
    "    Calculate sun's position (altitude and azimuth) for given coordinates, date and hour\n",
    "    \n",
    "    Args:\n",
    "        latitude (float): Latitude in degrees (-90 to 90)\n",
    "        longitude (float): Longitude in degrees (-180 to 180)\n",
    "        date (str): Date in format 'YYYY-MM-DD'\n",
    "        hour (int): Hour of the day (0-23)\n",
    "    \n",
    "    Returns:\n",
    "        tuple: (altitude in degrees, azimuth in degrees)\n",
    "    \"\"\"\n",
    "    # Create observer object\n",
    "    observer = ephem.Observer()\n",
    "    observer.lat = str(latitude)\n",
    "    observer.lon = str(longitude)\n",
    "    \n",
    "    # Parse the date string and set the specified hour\n",
    "    specified_date = datetime.strptime(date, '%Y-%m-%d')\n",
    "    specified_date = specified_date.replace(hour=hour, minute=0, second=0)\n",
    "    observer.date = specified_date\n",
    "    \n",
    "    # Calculate sun's position\n",
    "    sun = ephem.Sun()\n",
    "    sun.compute(observer)\n",
    "    \n",
    "    # Convert altitude and azimuth to degrees\n",
    "    altitude = math.degrees(sun.alt)\n",
    "    azimuth = math.degrees(sun.az)\n",
    "    \n",
    "    return altitude, azimuth"
   ]
  },
  {
   "cell_type": "code",
   "execution_count": 15,
   "metadata": {},
   "outputs": [],
   "source": [
    "import geopandas as gpd\n",
    "from shapely.affinity import translate\n",
    "from shapely.ops import unary_union\n",
    "from shapely import intersection\n",
    "import numpy as np"
   ]
  },
  {
   "cell_type": "code",
   "execution_count": null,
   "metadata": {},
   "outputs": [],
   "source": [
    "a, b= get_sun_position(42, 3, \"2024-06-21\", 12)\n",
    "a,b "
   ]
  },
  {
   "cell_type": "code",
   "execution_count": 163,
   "metadata": {},
   "outputs": [],
   "source": [
    "\n",
    "def getOmbreUnitaire(ombres_potentielles, h, i, shape_batiment, resolution=10):\n",
    "    # @TODO: Docstring à écrire\n",
    "    saisons = {\n",
    "        \"hiver\": \"2024-12-21\",       # Soleil bas en hiver (21 décembre)\n",
    "        \"printemps\": \"2024-03-21\",   # Équinoxe (21 mars)\n",
    "        \"été\": \"2024-06-21\",         # Soleil haut en été (21 juin)\n",
    "        \"automne\": \"2024-09-21\"      # Équinoxe (21 septembre)\n",
    "    }\n",
    "\n",
    "    jours_cles = list(saisons.keys())\n",
    "\n",
    "    # Heures à considérer\n",
    "    heures = [10,12,14,16]\n",
    "    # @TODO à tweaker\n",
    "    POS = [43,2]\n",
    "    \n",
    "    ombre_totale = []\n",
    "    for _, saison in enumerate(jours_cles):\n",
    "        for heure in heures:\n",
    "            X, Y = get_sun_position(POS[0], POS[1], saisons[saison], heure)\n",
    "            #print(X,Y-180)\n",
    "            X = np.radians(X)\n",
    "            Y = np.radians(Y-180)            \n",
    "            for _, row in ombres_potentielles.iterrows():\n",
    "                hauteur_relative = row[\"hauteur\"] - h\n",
    "                distance_ombre = hauteur_relative / np.tan(X)\n",
    "                # @TODO: pourquoi hardcoder 45 ci-dessous?\n",
    "                deplacement_x = distance_ombre * np.sin(Y)\n",
    "                deplacement_y = distance_ombre * np.cos(Y)\n",
    "\n",
    "                ombre_projetee = []\n",
    "                for r in range(resolution+1):\n",
    "                    ombre_projetee.append(translate(row[\"geometry\"], xoff=r*deplacement_x/resolution, yoff=r*deplacement_y/resolution))\n",
    "                ombre_projetee = unary_union(ombre_projetee)\n",
    "                ombrage = intersection(ombre_projetee,shape_batiment) # ombre_projetee shape_batiment\n",
    "                ombre_totale.append(ombrage)\n",
    "    ombre_totale = unary_union(ombre_totale)\n",
    "    return ombre_totale\n",
    "\n",
    "def getOmbre(batiments_ecole, batiments_hauts):\n",
    "    ombres = []\n",
    "    for _, row in batiments_ecole.iterrows():\n",
    "        h = row[\"hauteur\"]\n",
    "        i = row[\"cleabs_left__bat\"]\n",
    "        shape_batiment = row[\"geometry\"]\n",
    "        ombres_potentielles = batiments_hauts[(batiments_hauts.hauteur > h)]\n",
    "        ombres_potentielles_shapes = getOmbreUnitaire(ombres_potentielles, h, i, shape_batiment,resolution=10)\n",
    "        if not ombres_potentielles_shapes.is_empty:\n",
    "            ombres.append(ombres_potentielles_shapes)\n",
    "    ombres = unary_union(ombres)\n",
    "    ombres = gpd.GeoDataFrame(geometry=[ombres], crs=2154)\n",
    "    ombres[\"geometries\"] = ombres.apply(lambda x: [g for g in x.geometry.geoms], axis=1)\n",
    "    ombres = ombres.explode(column=\"geometries\").drop(columns=\"geometry\").set_geometry(\"geometries\").rename_geometry(\"geometry\").reset_index(drop=True)\n",
    "    return ombres"
   ]
  },
  {
   "cell_type": "code",
   "execution_count": 164,
   "metadata": {},
   "outputs": [],
   "source": [
    "ombres = getOmbre(batiments_ecole, batiments_proches)"
   ]
  },
  {
   "cell_type": "code",
   "execution_count": null,
   "metadata": {},
   "outputs": [],
   "source": [
    "# Et on représente les ombres\n",
    "fig, ax = plt.subplots(figsize=(15,5))\n",
    "ecole_cible.plot(ax=ax, alpha=0.2, color =\"green\", edgecolor='yellow')\n",
    "batiments_ecole.plot(ax=ax, alpha=0.6, linewidth=1,facecolor=\"none\", edgecolor='red', label=\"batiments\")\n",
    "batiments_ecole.plot(ax=ax, alpha=0.8,column=\"hauteur\",legend=True,figsize=(15,5),cmap=\"RdBu_r\")\n",
    "ombres.plot(ax=ax, alpha=0.9, color =\"black\")\n",
    "ax.set_title(\"Ombres portées (en noir) sur les batiments (échelle en mètres)\\nEcole ID: \"+ID+\"\\n\") \n",
    "cx.add_basemap(ax, crs=ecole_cible.crs, source=cx.providers.GeoportailFrance.orthos )\n",
    "fig.show()"
   ]
  }
 ],
 "metadata": {
  "kernelspec": {
   "display_name": ".venv",
   "language": "python",
   "name": "python3"
  },
  "language_info": {
   "codemirror_mode": {
    "name": "ipython",
    "version": 3
   },
   "file_extension": ".py",
   "mimetype": "text/x-python",
   "name": "python",
   "nbconvert_exporter": "python",
   "pygments_lexer": "ipython3",
   "version": "3.10.12"
  }
 },
 "nbformat": 4,
 "nbformat_minor": 2
}
