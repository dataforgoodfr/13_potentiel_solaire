{
 "cells": [
  {
   "cell_type": "markdown",
   "metadata": {},
   "source": [
    "## Analyse d'ombre sur un établissement de St denis"
   ]
  },
  {
   "cell_type": "code",
   "execution_count": null,
   "metadata": {},
   "outputs": [],
   "source": [
    "# Autoreload des modules\n",
    "%load_ext autoreload\n",
    "%autoreload 2"
   ]
  },
  {
   "cell_type": "markdown",
   "metadata": {},
   "source": [
    "### Imports"
   ]
  },
  {
   "cell_type": "code",
   "execution_count": null,
   "metadata": {},
   "outputs": [],
   "source": [
    "import geopandas as gpd\n",
    "import matplotlib.pyplot as plt\n",
    "import contextily as cx\n",
    "from pathlib import Path\n",
    "\n",
    "from potentiel_solaire.features.ombres import getBatimentsEcoles, getOmbre, getBatiments"
   ]
  },
  {
   "cell_type": "code",
   "execution_count": 3,
   "metadata": {},
   "outputs": [],
   "source": [
    "import warnings\n",
    "warnings.filterwarnings('ignore') "
   ]
  },
  {
   "cell_type": "code",
   "execution_count": 4,
   "metadata": {},
   "outputs": [],
   "source": [
    "# Executer ci dessous ci besoin pour récupérer les données\n",
    "# !extract-sample-data\n",
    "# Et pour sauver une version markdown des notebooks, utiliser\n",
    "# jupyter nbconvert donnees_par_ecole.ipynb --to markdown --output-dir=exports/"
   ]
  },
  {
   "cell_type": "markdown",
   "metadata": {},
   "source": [
    "### Chargement des Bâtiments et Zones Éducatives"
   ]
  },
  {
   "cell_type": "code",
   "execution_count": 5,
   "metadata": {},
   "outputs": [],
   "source": [
    "DATA_FOLDER = Path(\"../data\")\n",
    "\n",
    "saint_denis_path = DATA_FOLDER / \"saint_denis_reference_data.gpkg\"\n",
    "\n",
    "ecoles = gpd.read_file(saint_denis_path, layer=\"bdtopo_education\").to_crs(2154)\n",
    "batiments = gpd.read_file(saint_denis_path, layer=\"bdtopo_batiment\").to_crs(2154)"
   ]
  },
  {
   "cell_type": "markdown",
   "metadata": {},
   "source": [
    "# Création des ombres"
   ]
  },
  {
   "cell_type": "code",
   "execution_count": 130,
   "metadata": {},
   "outputs": [],
   "source": [
    "# On charge les couches\n",
    "ecoles = gpd.read_file(saint_denis_path, layer=\"bdtopo_education\").to_crs(2154)\n",
    "batiments = gpd.read_file(saint_denis_path, layer=\"bdtopo_batiment\").to_crs(2154)"
   ]
  },
  {
   "cell_type": "code",
   "execution_count": 131,
   "metadata": {},
   "outputs": [],
   "source": [
    "# Choix d'une école\n",
    "ID = \"SURFACTI0000000002555648\""
   ]
  },
  {
   "cell_type": "code",
   "execution_count": null,
   "metadata": {},
   "outputs": [],
   "source": [
    "# Capture des batiments proches\n",
    "batiments_ecole, ecole_cible, zone = getBatimentsEcoles(ID, ecoles, batiments)\n",
    "batiments_proches = getBatiments(ID, ecoles, batiments, rayon = 100)\n",
    "# Et on créé les ombres\n",
    "ombres = getOmbre(batiments_ecole, batiments_proches)"
   ]
  },
  {
   "cell_type": "code",
   "execution_count": null,
   "metadata": {},
   "outputs": [],
   "source": [
    "# Et on représente les ombres\n",
    "fig, ax = plt.subplots(figsize=(15,5))\n",
    "ecole_cible.plot(ax=ax, alpha=0.2, color =\"green\", edgecolor='yellow')\n",
    "batiments_ecole.plot(ax=ax, alpha=0.6, linewidth=1,facecolor=\"none\", edgecolor='red', label=\"batiments\")\n",
    "batiments_ecole.plot(ax=ax, alpha=0.5,column=\"hauteur\",legend=True,figsize=(15,5),cmap=\"RdBu_r\")\n",
    "ombres.plot(ax=ax, alpha=0.9, color =\"black\")\n",
    "ax.set_title(\"Ombres portées (en noir) sur les batiments (echelle en mètres)\\nEcole ID: \"+id+\"\\n\") \n",
    "cx.add_basemap(ax, crs=ecole_cible.crs, source=cx.providers.GeoportailFrance.orthos )\n",
    "fig.show()"
   ]
  }
 ],
 "metadata": {
  "kernelspec": {
   "display_name": ".venv",
   "language": "python",
   "name": "python3"
  },
  "language_info": {
   "codemirror_mode": {
    "name": "ipython",
    "version": 3
   },
   "file_extension": ".py",
   "mimetype": "text/x-python",
   "name": "python",
   "nbconvert_exporter": "python",
   "pygments_lexer": "ipython3",
   "version": "3.10.12"
  }
 },
 "nbformat": 4,
 "nbformat_minor": 2
}
