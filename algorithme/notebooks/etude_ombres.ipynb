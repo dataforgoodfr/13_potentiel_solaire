{
 "cells": [
  {
   "cell_type": "markdown",
   "metadata": {},
   "source": [
    "## Analyse d'ombre sur un établissement de St denis"
   ]
  },
  {
   "cell_type": "markdown",
   "metadata": {},
   "source": [
    "### Imports"
   ]
  },
  {
   "cell_type": "code",
   "execution_count": 1,
   "metadata": {},
   "outputs": [],
   "source": [
    "import geopandas as gpd\n",
    "import pandas as pd\n",
    "import matplotlib.pyplot as plt\n",
    "import contextily as cx\n",
    "from shapely.affinity import translate\n",
    "from shapely.ops import unary_union\n",
    "from shapely import intersection\n",
    "from pathlib import Path\n",
    "import numpy as np"
   ]
  },
  {
   "cell_type": "code",
   "execution_count": 2,
   "metadata": {},
   "outputs": [],
   "source": [
    "import warnings\n",
    "warnings.filterwarnings('ignore') "
   ]
  },
  {
   "cell_type": "code",
   "execution_count": null,
   "metadata": {},
   "outputs": [],
   "source": [
    "# Executer ci dessous ci besoin pour récupérer les données\n",
    "# !extract-sample-data\n",
    "# Et pour sauver une version markdown des notebooks, utiliser\n",
    "# jupyter nbconvert donnees_par_ecole.ipynb --to markdown --output-dir=exports/"
   ]
  },
  {
   "cell_type": "markdown",
   "metadata": {},
   "source": [
    "### Chargement des Bâtiments et Zones Éducatives"
   ]
  },
  {
   "cell_type": "code",
   "execution_count": 3,
   "metadata": {},
   "outputs": [],
   "source": [
    "DATA_FOLDER = Path(\"../data\")\n",
    "\n",
    "saint_denis_path = DATA_FOLDER / \"saint_denis_reference_data.gpkg\"\n",
    "\n",
    "ecoles = gpd.read_file(saint_denis_path, layer=\"bdtopo_education\").to_crs(2154)\n",
    "batiments = gpd.read_file(saint_denis_path, layer=\"bdtopo_batiment\").to_crs(2154)"
   ]
  },
  {
   "cell_type": "markdown",
   "metadata": {},
   "source": [
    "### Préparation des données pour l'analyse des ombres"
   ]
  },
  {
   "cell_type": "code",
   "execution_count": 4,
   "metadata": {},
   "outputs": [],
   "source": [
    "\n",
    "ecole_cible = ecoles.iloc[[6]]  # On prend la 6ème école par exemple\n",
    "\n",
    "#Vérification de la hauteur \n",
    "if \"hauteur\" in batiments.columns:\n",
    "    hauteur_ecole = batiments.loc[batiments[\"cleabs_right__bat\"] == ecole_cible[\"cleabs_right\"].iloc[0], \"hauteur\"]\n",
    "    if not hauteur_ecole.empty:\n",
    "        hauteur_ecole = float(hauteur_ecole.iloc[0])\n",
    "    else:\n",
    "        raise ValueError(\"None\")\n",
    "else:\n",
    "    raise KeyError(\"None\")\n",
    "\n",
    "\n",
    "batiments[\"distance\"] = batiments.geometry.distance(ecole_cible.geometry.iloc[0])\n",
    "\n",
    "rayon = 100  #rayon de 100m\n",
    "batiments_voisins = batiments[batiments[\"distance\"] < rayon].copy()\n",
    "\n",
    "batiments_voisins[\"hauteur\"] = pd.to_numeric(batiments_voisins[\"hauteur\"], errors=\"coerce\")\n",
    "\n",
    "batiments_plus_hauts = batiments_voisins[batiments_voisins[\"hauteur\"] > hauteur_ecole]"
   ]
  },
  {
   "cell_type": "markdown",
   "metadata": {},
   "source": [
    "### Calcul de l'ombre projetée en fonction des 4 jours clés"
   ]
  },
  {
   "cell_type": "code",
   "execution_count": 5,
   "metadata": {},
   "outputs": [],
   "source": [
    "\n",
    "saisons = {\n",
    "    \"hiver\": 15,       # Soleil bas en hiver (21 décembre)\n",
    "    \"printemps\": 45,   # Équinoxe (21 mars)\n",
    "    \"été\": 75,         # Soleil haut en été (21 juin)\n",
    "    \"automne\": 45      # Équinoxe (21 septembre)\n",
    "}\n",
    "\n",
    "jours_cles = [\"hiver\", \"printemps\", \"été\", \"automne\"]"
   ]
  },
  {
   "cell_type": "markdown",
   "metadata": {},
   "source": [
    "### Visualisation comprenant les ombres des bâtiment voisins sur les toits (non sur le sol)"
   ]
  },
  {
   "cell_type": "code",
   "execution_count": null,
   "metadata": {},
   "outputs": [],
   "source": [
    "\n",
    "fig, axes = plt.subplots(2, 2, figsize=(16, 12))\n",
    "axes = axes.flatten()\n",
    "\n",
    "for i, saison in enumerate(jours_cles):\n",
    "    angle_solaire = np.radians(saisons[saison])\n",
    "    ombres_toit = []\n",
    "    \n",
    "    for _, row in batiments_plus_hauts.iterrows():\n",
    "        hauteur_relative = row[\"hauteur\"] - hauteur_ecole\n",
    "        distance_ombre = hauteur_relative / np.tan(angle_solaire)\n",
    "        \n",
    "        \n",
    "        deplacement_x = distance_ombre * np.cos(np.radians(45))\n",
    "        deplacement_y = distance_ombre * np.sin(np.radians(45))\n",
    "        ombre_projetee = translate(row[\"geometry\"], xoff=deplacement_x, yoff=deplacement_y)\n",
    "        \n",
    "        \n",
    "        instn = batiments_voisins.intersects(ombre_projetee)\n",
    "        if instn.any():\n",
    "            ombres_toit.append(ombre_projetee)\n",
    "    \n",
    "    ombre_toit_gdf = gpd.GeoDataFrame(geometry=ombres_toit, crs=2154)\n",
    "    \n",
    "    batiments_voisins.plot(ax=axes[i], color=\"none\", edgecolor=\"black\", linewidth=0.8)\n",
    "    ombre_toit_gdf.plot(ax=axes[i], color=\"grey\", alpha=0.7, label=f\"Ombres sur toits - {saison}\")\n",
    "    cx.add_basemap(axes[i], crs=batiments_voisins.crs, source=cx.providers.OpenStreetMap.Mapnik)\n",
    "    axes[i].set_title(f\"Projection des ombres sur les toits - {saison.capitalize()}\")\n",
    "\n",
    "plt.tight_layout()\n",
    "plt.show()\n"
   ]
  },
  {
   "cell_type": "markdown",
   "metadata": {},
   "source": [
    "# Proposition d'ajustement"
   ]
  },
  {
   "cell_type": "code",
   "execution_count": null,
   "metadata": {},
   "outputs": [],
   "source": [
    "ecoles = gpd.read_file(saint_denis_path, layer=\"bdtopo_education\").to_crs(2154)\n",
    "batiments = gpd.read_file(saint_denis_path, layer=\"bdtopo_batiment\").to_crs(2154)\n",
    "ecole_cible = ecoles.iloc[[6]]  # On prend la 6ème école par exemple\n",
    "id = ecole_cible[\"cleabs_left\"].iloc[0] # id de la surface\n",
    "zone = ecole_cible[\"geometry\"].iloc[0]\n",
    "print(id)"
   ]
  },
  {
   "cell_type": "code",
   "execution_count": null,
   "metadata": {},
   "outputs": [],
   "source": [
    "batiments_ecole = batiments[batiments.within(zone)]\n",
    "hauteur_moyenne = batiments_ecole['hauteur'].mean() \n",
    "if hauteur_moyenne > 0:\n",
    "    batiments_ecole.fillna(value=hauteur_moyenne, inplace=True) \n",
    "else:\n",
    "    raise KeyError(\"None\")\n",
    "\n",
    "batiments_ecole.plot(column=\"hauteur\",legend=True,figsize=(15,5))"
   ]
  },
  {
   "cell_type": "markdown",
   "metadata": {},
   "source": [
    "@TODO: les batiments proches peuvent etre des batiments qui ne sont pas du fichier écoles. Ici, ne sont pas pris en compte les batiments autres que zone éducative, il faudrait donc élargir la recherche à la BDD bâtiments initiale.\n",
    "\n",
    "Par conséquent, le travail sur les ombres va être fait sur uniquement les batiments de l'école qui font de l'ombre aux autres batiments de l'école."
   ]
  },
  {
   "cell_type": "code",
   "execution_count": null,
   "metadata": {},
   "outputs": [],
   "source": [
    "batiments_proches = batiments[batiments.within(zone.buffer(100))]\n",
    "batiments_proches.plot(column=\"hauteur\",legend=True,figsize=(15,5))"
   ]
  },
  {
   "cell_type": "code",
   "execution_count": 10,
   "metadata": {},
   "outputs": [],
   "source": [
    "def getOmbre(ombres_potentielles, h, shape_batiment,resolution=10):\n",
    "    ombres_toit = []\n",
    "    for i, saison in enumerate(jours_cles):\n",
    "        angle_solaire = np.radians(saisons[saison])\n",
    "        for _, row in ombres_potentielles.iterrows():\n",
    "            hauteur_relative = row[\"hauteur\"] - h\n",
    "            distance_ombre = hauteur_relative / np.tan(angle_solaire)\n",
    "\n",
    "            # @TODO: pourquoi hardcoder 45 ci-dessous?\n",
    "            deplacement_x = distance_ombre * np.cos(np.radians(45))\n",
    "            deplacement_y = distance_ombre * np.sin(np.radians(45))\n",
    "            ombre_projetee = []\n",
    "            for r in range(resolution+1):\n",
    "                ombre_projetee.append(translate(row[\"geometry\"], xoff=r*deplacement_x/resolution, yoff=r*deplacement_y/resolution))\n",
    "            ombre_projetee = unary_union(ombre_projetee)\n",
    "            ombrage = intersection(shape_batiment,ombre_projetee)\n",
    "            ombres_toit.append(ombrage)\n",
    "    ombres_toit = unary_union(ombres_toit)\n",
    "\n",
    "    return ombres_toit"
   ]
  },
  {
   "cell_type": "code",
   "execution_count": 11,
   "metadata": {},
   "outputs": [],
   "source": [
    "ombres = []\n",
    "for ix, row in batiments_ecole.iterrows():\n",
    "    h = row[\"hauteur\"]\n",
    "    i = row[\"cleabs_left__bat\"]\n",
    "    shape_batiment = row[\"geometry\"]\n",
    "    ombres_potentielles = batiments_ecole[(batiments_ecole.hauteur > h)]\n",
    "    ombres_potentielles_shapes = getOmbre(ombres_potentielles, h, shape_batiment,resolution=10)\n",
    "    if not ombres_potentielles_shapes.is_empty:\n",
    "        ombres.append(ombres_potentielles_shapes)    \n",
    "ombres = unary_union(ombres)\n",
    "ombres = gpd.GeoDataFrame(geometry=[ombres], crs=2154)\n",
    "ombres[\"geometries\"] = ombres.apply(lambda x: [g for g in x.geometry.geoms], axis=1)\n",
    "ombres = ombres.explode(column=\"geometries\").drop(columns=\"geometry\").set_geometry(\"geometries\").rename_geometry(\"geometry\")"
   ]
  },
  {
   "cell_type": "code",
   "execution_count": null,
   "metadata": {},
   "outputs": [],
   "source": [
    "fig, ax = plt.subplots(figsize=(15,5))\n",
    "\n",
    "ecole_cible.plot(ax=ax, alpha=0.2, color =\"green\", edgecolor='yellow')\n",
    "batiments_ecole.plot(ax=ax, alpha=0.6, linewidth=1,facecolor=\"none\", edgecolor='red', label=\"batiments\")\n",
    "batiments_ecole.plot(ax=ax, alpha=0.5,column=\"hauteur\",legend=True,figsize=(15,5),cmap=\"RdBu_r\")\n",
    "ombres.plot(ax=ax, alpha=0.9, color =\"black\")\n",
    "ax.set_title(\"Ombres portées (en noir) sur les batiments (echelle en mètres)\\nEcole ID: \"+id+\"\\n\") \n",
    "cx.add_basemap(ax, crs=ecole_cible.crs, source=cx.providers.GeoportailFrance.orthos )\n",
    "fig.show()"
   ]
  }
 ],
 "metadata": {
  "kernelspec": {
   "display_name": ".venv",
   "language": "python",
   "name": "python3"
  },
  "language_info": {
   "codemirror_mode": {
    "name": "ipython",
    "version": 3
   },
   "file_extension": ".py",
   "mimetype": "text/x-python",
   "name": "python",
   "nbconvert_exporter": "python",
   "pygments_lexer": "ipython3",
   "version": "3.11.0"
  }
 },
 "nbformat": 4,
 "nbformat_minor": 2
}
