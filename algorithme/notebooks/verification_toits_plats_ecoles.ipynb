{
 "cells": [
  {
   "cell_type": "code",
   "execution_count": 12,
   "id": "4fc8bddd-5d54-4d97-883e-0d6675d7576b",
   "metadata": {},
   "outputs": [],
   "source": [
    "import pandas as pd\n",
    "import rasterio\n",
    "import rasterio.mask\n",
    "import geopandas as gpd\n",
    "import numpy as np\n",
    "import matplotlib.pyplot as plt\n",
    "import fiona\n",
    "import contextily as cx\n",
    "from potentiel_solaire.constants import DATA_FOLDER\n",
    "from scipy.ndimage import sobel, gaussian_filter, shift, label, morphology\n",
    "import os"
   ]
  },
  {
   "cell_type": "code",
   "execution_count": 6,
   "id": "1557dcc3-a18b-4f37-a2d6-b40c2149f2b2",
   "metadata": {},
   "outputs": [
    {
     "name": "stdout",
     "output_type": "stream",
     "text": [
      "cadastre_parcellaire potentielsolaire_bati potentielsolaire_toitures perimetre_st_denis identifiers annuaire_education annuaire_education_sans_zone bdtopo_education bdtopo_batiment\n"
     ]
    }
   ],
   "source": [
    "# Verification des layers disponibles pour saint-denis\n",
    "stdenis_path = DATA_FOLDER / \"saint_denis_reference_data.gpkg\"\n",
    "layers = fiona.listlayers(stdenis_path)\n",
    "print(\" \".join(layers))"
   ]
  },
  {
   "cell_type": "code",
   "execution_count": null,
   "id": "388f84d5-0c2a-488f-9403-3b9f5a03594d",
   "metadata": {},
   "outputs": [],
   "source": [
    "# On va utiliser le script pour chaque zone, concaténer les résultats de slopes et regarder si les écoles sont toutes plates ou dans la majorité\n",
    "# On va définir un seuil de surface pour considérer qu'une école est plate\n",
    "# On va aussi, faire une distribution des pentes des rasters sur les écoles\n",
    "# On va regarder le pourcentage de surface utile"
   ]
  },
  {
   "cell_type": "code",
   "execution_count": 32,
   "id": "ba45c1ad-e5cc-4e45-95f6-c478f39487da",
   "metadata": {},
   "outputs": [
    {
     "name": "stderr",
     "output_type": "stream",
     "text": [
      "/var/folders/vm/ylnr3pdd3pjdxlnt2mn3hy7c0000gn/T/ipykernel_10926/2931344784.py:69: RuntimeWarning: Mean of empty slice\n",
      "  slopes_means[filename] = np.nanmean(slope_cleaned)\n",
      "/var/folders/vm/ylnr3pdd3pjdxlnt2mn3hy7c0000gn/T/ipykernel_10926/2931344784.py:72: RuntimeWarning: invalid value encountered in scalar divide\n",
      "  percentage_under_10_value = (count_under_10 / len(valid_values)) * 100\n",
      "/var/folders/vm/ylnr3pdd3pjdxlnt2mn3hy7c0000gn/T/ipykernel_10926/2931344784.py:69: RuntimeWarning: Mean of empty slice\n",
      "  slopes_means[filename] = np.nanmean(slope_cleaned)\n",
      "/var/folders/vm/ylnr3pdd3pjdxlnt2mn3hy7c0000gn/T/ipykernel_10926/2931344784.py:72: RuntimeWarning: invalid value encountered in scalar divide\n",
      "  percentage_under_10_value = (count_under_10 / len(valid_values)) * 100\n",
      "/var/folders/vm/ylnr3pdd3pjdxlnt2mn3hy7c0000gn/T/ipykernel_10926/2931344784.py:69: RuntimeWarning: Mean of empty slice\n",
      "  slopes_means[filename] = np.nanmean(slope_cleaned)\n",
      "/var/folders/vm/ylnr3pdd3pjdxlnt2mn3hy7c0000gn/T/ipykernel_10926/2931344784.py:72: RuntimeWarning: invalid value encountered in scalar divide\n",
      "  percentage_under_10_value = (count_under_10 / len(valid_values)) * 100\n",
      "/var/folders/vm/ylnr3pdd3pjdxlnt2mn3hy7c0000gn/T/ipykernel_10926/2931344784.py:69: RuntimeWarning: Mean of empty slice\n",
      "  slopes_means[filename] = np.nanmean(slope_cleaned)\n",
      "/var/folders/vm/ylnr3pdd3pjdxlnt2mn3hy7c0000gn/T/ipykernel_10926/2931344784.py:72: RuntimeWarning: invalid value encountered in scalar divide\n",
      "  percentage_under_10_value = (count_under_10 / len(valid_values)) * 100\n",
      "/var/folders/vm/ylnr3pdd3pjdxlnt2mn3hy7c0000gn/T/ipykernel_10926/2931344784.py:69: RuntimeWarning: Mean of empty slice\n",
      "  slopes_means[filename] = np.nanmean(slope_cleaned)\n",
      "/var/folders/vm/ylnr3pdd3pjdxlnt2mn3hy7c0000gn/T/ipykernel_10926/2931344784.py:72: RuntimeWarning: invalid value encountered in scalar divide\n",
      "  percentage_under_10_value = (count_under_10 / len(valid_values)) * 100\n"
     ]
    }
   ],
   "source": [
    "# On ouvre une zone\n",
    "stdenis = gpd.read_file(stdenis_path, layer=\"bdtopo_education\")# toponymie_services_et_activites\n",
    "stdenis = stdenis.to_crs(2154) # 2154 Lambert, 4326 latlon  \n",
    "l = len(stdenis)\n",
    "slopes = {}\n",
    "slopes_means = {}\n",
    "percentage_under_10 = {}\n",
    "\n",
    "for i in range(len(stdenis)):\n",
    "    ID = i\n",
    "    example = stdenis[ID:ID+1]\n",
    "    ID = example[\"cleabs_left\"].iloc[0]\n",
    "    NOM = example[\"toponyme\"].iloc[0]\n",
    "    \n",
    "    # On ouvre les toitures\n",
    "    toiture = gpd.read_file(stdenis_path, layer=\"bdtopo_batiment\")# toponymie_services_et_activites\n",
    "    toiture_b = gpd.read_file(stdenis_path, layer=\"potentielsolaire_bati\")# toponymie_services_et_activites\n",
    "    toiture_t = gpd.read_file(stdenis_path, layer=\"potentielsolaire_toitures\")# toponymie_services_et_activites\n",
    "    toiture = toiture.to_crs(2154) # 2154 Lambert, 4326 latlon  \n",
    "    toiture_b = toiture_b.to_crs(2154)\n",
    "    toiture_t = toiture_t.to_crs(2154)\n",
    "    toiture = gpd.sjoin(toiture, example, how='inner', predicate='intersects',lsuffix='_li', rsuffix='_ri').clip(example)\n",
    "    toiture_b = gpd.sjoin(toiture_b, example, how='inner', predicate='intersects',lsuffix='_li', rsuffix='_ri').clip(example)\n",
    "    toiture_t = gpd.sjoin(toiture_t, example, how='inner', predicate='intersects',lsuffix='_li', rsuffix='_ri').clip(example)\n",
    "    geotiff_cached_toits = \"../data/cache/mns/\"+ID+\"_toits.masked.tif\"\n",
    "\n",
    "    if not os.path.isfile(geotiff_cached_toits) or True:\n",
    "        geome = example.geometry.total_bounds\n",
    "        A = \"0\"+str(int(geome[0]//1000))\n",
    "        B = str(int(geome[1]//1000)+1)\n",
    "        filename = \"MNS-C_0M50_TIF_LAMB93_D93-2024/93-2024-\"+A+\"-\"+B+\"-LA93-0M50\"\n",
    "        tile = \"/Users/sarahlenet/Desktop/potentiel_solaire/13_potentiel_solaire/algorithme/data/MNS-Correl_1-0__TIFF_LAMB93_D093_2024-01-01/MNS-Correl/1_DONNEES_LIVRAISON_2024-11-00179/MNS-C_0M50_TIF_LAMB93_D93-2024/93-2024-\"+A+\"-\"+B+\"-LA93-0M50.tif\"\n",
    "        path = DATA_FOLDER / tile\n",
    "        with rasterio.open(str(path)) as img:\n",
    "            try:\n",
    "                out_image, out_transform = rasterio.mask.mask(img, toiture.geometry, crop=True)\n",
    "                out_meta = img.meta\n",
    "            except:\n",
    "                slopes[filename] = None\n",
    "        minval = np.min(out_image[np.nonzero(out_image)])\n",
    "        out_image = out_image - minval\n",
    "    \n",
    "        out_image = np.where(out_image<0, 0, out_image)\n",
    "    \n",
    "        MAX = np.percentile(out_image[np.nonzero(out_image)],80)\n",
    "        out_image = np.where(out_image>=MAX, MAX, out_image)\n",
    "    \n",
    "        out_meta.update({\"driver\": \"GTiff\",\n",
    "                        \"height\": out_image.shape[1],\n",
    "                        \"width\": out_image.shape[2],\n",
    "                        \"transform\": out_transform})\n",
    "\n",
    "        with rasterio.open(\"/Users/sarahlenet/Desktop/potentiel_solaire/13_potentiel_solaire/algorithme/data/cache/mns/\"+ID+\".masked.tif\", \"w\", **out_meta) as dest:\n",
    "           dest.write(out_image)\n",
    "        \n",
    "        # Calcul des gradients X et Y\n",
    "        dy, dx = np.gradient(out_image[0])\n",
    "        \n",
    "        dx = sobel(out_image[0], axis=1)  # Gradient selon l'axe X (est-ouest)\n",
    "        dy = sobel(out_image[0], axis=0)  # Gradient selon l'axe Y (nord-sud)\n",
    "        slope = np.sqrt(dx**2 + dy**2)\n",
    "        threshold = 2  # Seuil en mètres (à ajuster selon la donnée)\n",
    "        mask = out_image[0] < threshold\n",
    "\n",
    "        slope_cleaned = np.where(mask, np.nan, np.arctan(np.sqrt(dx**2 + dy**2)) * (180 / np.pi)) # np.nan sur ce qui n'est pas bâtiment\n",
    "        slopes[filename] = slope_cleaned # dictionnaire des slopes\n",
    "        slopes_means[filename] = np.nanmean(slope_cleaned) # dictionnaire des moyennes des slopes sur les non-nan values\n",
    "        valid_values = slope_cleaned[~np.isnan(slope_cleaned)] \n",
    "        count_under_10 = np.sum(valid_values < 10)\n",
    "        percentage_under_10_value = (count_under_10 / len(valid_values)) * 100\n",
    "        percentage_under_10[filename] = percentage_under_10_value # dictionnaire des valeurs en-dessous de 10 degrés (arbitraire, on pourrait chercher les pentes pour lesquelles on considère que c'est plat)"
   ]
  },
  {
   "cell_type": "code",
   "execution_count": 34,
   "id": "2ba12378-7b4e-4690-b237-3cdf5e9d8c39",
   "metadata": {},
   "outputs": [
    {
     "data": {
      "text/plain": [
       "{'MNS-C_0M50_TIF_LAMB93_D93-2024/93-2024-0653-6870-LA93-0M50': np.float64(17.539863325740317),\n",
       " 'MNS-C_0M50_TIF_LAMB93_D93-2024/93-2024-0654-6870-LA93-0M50': np.float64(16.27906976744186),\n",
       " 'MNS-C_0M50_TIF_LAMB93_D93-2024/93-2024-0653-6871-LA93-0M50': np.float64(27.996289424860855),\n",
       " 'MNS-C_0M50_TIF_LAMB93_D93-2024/93-2024-0651-6871-LA93-0M50': np.float64(23.5415752866721),\n",
       " 'MNS-C_0M50_TIF_LAMB93_D93-2024/93-2024-0651-6870-LA93-0M50': np.float64(22.784478238070268),\n",
       " 'MNS-C_0M50_TIF_LAMB93_D93-2024/93-2024-0652-6872-LA93-0M50': np.float64(17.654557042702358),\n",
       " 'MNS-C_0M50_TIF_LAMB93_D93-2024/93-2024-0652-6873-LA93-0M50': np.float64(29.31770890373453),\n",
       " 'MNS-C_0M50_TIF_LAMB93_D93-2024/93-2024-0652-6869-LA93-0M50': np.float64(15.617468427648703),\n",
       " 'MNS-C_0M50_TIF_LAMB93_D93-2024/93-2024-0653-6869-LA93-0M50': np.float64(23.121287021378084),\n",
       " 'MNS-C_0M50_TIF_LAMB93_D93-2024/93-2024-0652-6871-LA93-0M50': np.float64(19.335693461057893),\n",
       " 'MNS-C_0M50_TIF_LAMB93_D93-2024/93-2024-0652-6868-LA93-0M50': np.float64(31.34432088959492),\n",
       " 'MNS-C_0M50_TIF_LAMB93_D93-2024/93-2024-0653-6872-LA93-0M50': np.float64(nan),\n",
       " 'MNS-C_0M50_TIF_LAMB93_D93-2024/93-2024-0653-6868-LA93-0M50': np.float64(21.37230876947313),\n",
       " 'MNS-C_0M50_TIF_LAMB93_D93-2024/93-2024-0654-6871-LA93-0M50': np.float64(21.432389096739712),\n",
       " 'MNS-C_0M50_TIF_LAMB93_D93-2024/93-2024-0654-6872-LA93-0M50': np.float64(nan)}"
      ]
     },
     "execution_count": 34,
     "metadata": {},
     "output_type": "execute_result"
    }
   ],
   "source": [
    "percentage_under_10"
   ]
  },
  {
   "cell_type": "code",
   "execution_count": null,
   "id": "938a8846-bd05-499f-8d6d-b849a74154e0",
   "metadata": {},
   "outputs": [],
   "source": [
    "# Tuner percentage under 10 pour avoir seulement des surfaces et non la somme des pixels"
   ]
  },
  {
   "cell_type": "code",
   "execution_count": 35,
   "id": "a2c91f90-312f-4db6-97b7-6c971a78a0b4",
   "metadata": {},
   "outputs": [
    {
     "data": {
      "text/plain": [
       "{'MNS-C_0M50_TIF_LAMB93_D93-2024/93-2024-0653-6870-LA93-0M50': np.float32(47.601437),\n",
       " 'MNS-C_0M50_TIF_LAMB93_D93-2024/93-2024-0654-6870-LA93-0M50': np.float32(33.55983),\n",
       " 'MNS-C_0M50_TIF_LAMB93_D93-2024/93-2024-0653-6871-LA93-0M50': np.float32(31.109798),\n",
       " 'MNS-C_0M50_TIF_LAMB93_D93-2024/93-2024-0651-6871-LA93-0M50': np.float32(37.02075),\n",
       " 'MNS-C_0M50_TIF_LAMB93_D93-2024/93-2024-0651-6870-LA93-0M50': np.float32(35.588734),\n",
       " 'MNS-C_0M50_TIF_LAMB93_D93-2024/93-2024-0652-6872-LA93-0M50': np.float32(51.544815),\n",
       " 'MNS-C_0M50_TIF_LAMB93_D93-2024/93-2024-0652-6873-LA93-0M50': np.float32(32.026024),\n",
       " 'MNS-C_0M50_TIF_LAMB93_D93-2024/93-2024-0652-6869-LA93-0M50': np.float32(42.169025),\n",
       " 'MNS-C_0M50_TIF_LAMB93_D93-2024/93-2024-0653-6869-LA93-0M50': np.float32(36.069736),\n",
       " 'MNS-C_0M50_TIF_LAMB93_D93-2024/93-2024-0652-6871-LA93-0M50': np.float32(45.982075),\n",
       " 'MNS-C_0M50_TIF_LAMB93_D93-2024/93-2024-0652-6868-LA93-0M50': np.float32(31.053703),\n",
       " 'MNS-C_0M50_TIF_LAMB93_D93-2024/93-2024-0653-6872-LA93-0M50': np.float32(nan),\n",
       " 'MNS-C_0M50_TIF_LAMB93_D93-2024/93-2024-0653-6868-LA93-0M50': np.float32(39.590145),\n",
       " 'MNS-C_0M50_TIF_LAMB93_D93-2024/93-2024-0654-6871-LA93-0M50': np.float32(38.78405),\n",
       " 'MNS-C_0M50_TIF_LAMB93_D93-2024/93-2024-0654-6872-LA93-0M50': np.float32(nan)}"
      ]
     },
     "execution_count": 35,
     "metadata": {},
     "output_type": "execute_result"
    }
   ],
   "source": [
    "slopes_means"
   ]
  },
  {
   "cell_type": "code",
   "execution_count": null,
   "id": "16e242b4-2f0a-4980-b239-f92200911e49",
   "metadata": {},
   "outputs": [],
   "source": []
  }
 ],
 "metadata": {
  "kernelspec": {
   "display_name": "Python 3 (ipykernel)",
   "language": "python",
   "name": "python3"
  },
  "language_info": {
   "codemirror_mode": {
    "name": "ipython",
    "version": 3
   },
   "file_extension": ".py",
   "mimetype": "text/x-python",
   "name": "python",
   "nbconvert_exporter": "python",
   "pygments_lexer": "ipython3",
   "version": "3.11.7"
  }
 },
 "nbformat": 4,
 "nbformat_minor": 5
}
