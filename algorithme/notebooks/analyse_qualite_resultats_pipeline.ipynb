{
 "cells": [
  {
   "cell_type": "code",
   "id": "f1f565b7",
   "metadata": {},
   "source": [
    "%load_ext autoreload\n",
    "%autoreload 2"
   ],
   "outputs": [],
   "execution_count": null
  },
  {
   "metadata": {},
   "cell_type": "code",
   "source": [
    "code_departement = \"093\"\n",
    "logs_level = \"WARNING\""
   ],
   "id": "6358f4912f9f22ab",
   "outputs": [],
   "execution_count": null
  },
  {
   "cell_type": "markdown",
   "id": "d3a70f3e57e62a7c",
   "metadata": {},
   "source": [
    "# Imports & setup"
   ]
  },
  {
   "cell_type": "code",
   "id": "aa88b759c982f54c",
   "metadata": {},
   "source": [
    "import geopandas as gpd\n",
    "\n",
    "from potentiel_solaire.constants import DATA_FOLDER\n",
    "from potentiel_solaire.logger import get_logger\n",
    "\n",
    "logger = get_logger()\n",
    "logger.setLevel(logs_level)"
   ],
   "outputs": [],
   "execution_count": null
  },
  {
   "metadata": {},
   "cell_type": "code",
   "source": "path_results = DATA_FOLDER / \"093_pipeline_results.gpkg\"",
   "id": "ea92c07884e98d3c",
   "outputs": [],
   "execution_count": null
  },
  {
   "cell_type": "markdown",
   "id": "8141e3850bdde72d",
   "metadata": {},
   "source": [
    "### Etablissements scolaires\n"
   ]
  },
  {
   "cell_type": "code",
   "id": "8c2714f479cce131",
   "metadata": {},
   "source": [
    "schools_establishments = gpd.read_file(path_results, layer=\"schools_establishments\")\n",
    "nb_schools = schools_establishments.shape[0]\n",
    "print(f\"Nb d'établissements scolaires: {nb_schools}\")"
   ],
   "outputs": [],
   "execution_count": null
  },
  {
   "cell_type": "markdown",
   "id": "ed36d1f4a8ff139d",
   "metadata": {},
   "source": [
    "### Zones d'éducations"
   ]
  },
  {
   "cell_type": "code",
   "id": "62c98433be3c4844",
   "metadata": {},
   "source": [
    "educational_zones = gpd.read_file(path_results, layer=\"educational_zones\")\n",
    "nb_educational_zones = educational_zones.shape[0]\n",
    "print(\"Nb de zones d'éducations: \", nb_educational_zones)"
   ],
   "outputs": [],
   "execution_count": null
  },
  {
   "cell_type": "markdown",
   "id": "129b67af5c421e52",
   "metadata": {},
   "source": [
    "# Détermination des bâtiments scolaires"
   ]
  },
  {
   "cell_type": "code",
   "id": "f164fcc395a85eeb",
   "metadata": {},
   "source": "schools_buildings = gpd.read_file(path_results, layer=\"schools_buildings\")",
   "outputs": [],
   "execution_count": null
  },
  {
   "cell_type": "markdown",
   "id": "25094a9970938a7d",
   "metadata": {},
   "source": [
    "# Calcul des attributs utiles pour le potentiel solaire"
   ]
  },
  {
   "cell_type": "code",
   "id": "c0cf2ab1980a4b17",
   "metadata": {},
   "source": [
    "# TODO: v0 seulement à ce stade\n",
    "solar_potential_of_schools_buildings = gpd.read_file(path_results, layer=\"solar_potential_of_schools_buildings\")"
   ],
   "outputs": [],
   "execution_count": null
  },
  {
   "cell_type": "markdown",
   "id": "7465578d",
   "metadata": {},
   "source": [
    "# Check nos calculs vs potentiel solaire des toitures"
   ]
  },
  {
   "cell_type": "code",
   "id": "93accc36",
   "metadata": {},
   "source": [
    "bool_Audit = True"
   ],
   "outputs": [],
   "execution_count": null
  },
  {
   "cell_type": "code",
   "id": "5f184d73",
   "metadata": {},
   "source": [
    "if code_departement == \"093\" and bool_Audit:\n",
    "    # Audit des données sur Département 93\n",
    "    GPKG = DATA_FOLDER / \"potentiel-solaire.geojson\"\n",
    "    gspsdt_total = gpd.read_file(GPKG)\n",
    "    print(len(gspsdt_total),\"batiments\")\n",
    "    gspsdt_total=  gspsdt_total.to_crs(4326)"
   ],
   "outputs": [],
   "execution_count": null
  },
  {
   "cell_type": "code",
   "id": "b959a345",
   "metadata": {},
   "source": [
    "if code_departement == \"093\" and bool_Audit:\n",
    "    batiments_a_auditer = solar_potential_of_schools_buildings.cleabs_bat.unique()\n",
    "    gspsdt = gspsdt_total[gspsdt_total.id.isin(batiments_a_auditer)]\n",
    "\n",
    "    gspsdt = gspsdt[[\"id\",\"st_areashape\",\"surf_util\",\"moyenne2\",\"production\"]]\n",
    "    comparaison = gspsdt.merge(solar_potential_of_schools_buildings[[\"cleabs_bat\",\"surface_totale_au_sol\",\"surface_utile\",\"rayonnement_solaire\",\"potentiel_solaire\"]],\\\n",
    "             left_on='id', right_on='cleabs_bat', how=\"inner\")\n",
    "    \n",
    "    total_ecole         = comparaison.production.sum()\n",
    "    total_ecole_calcule = comparaison.potentiel_solaire.sum()\n",
    "    print(\"# Verification des potentiels pour:\",code_departement,\"\\n\")\n",
    "    print(\"* Verification effectuée sur:\",len(comparaison),\"batiments.\")\n",
    "    print(\"* BDD Potentiel solaire\\t\",int(total_ecole),\"kWh/an\")\n",
    "    print(\"* Estimation ordre 0\\t\",int(total_ecole_calcule),\"kWh/an\")\n",
    "    print(\"* Tentative accuracy\\t\",int(total_ecole/total_ecole_calcule*100),\"%\")"
   ],
   "outputs": [],
   "execution_count": null
  },
  {
   "cell_type": "markdown",
   "id": "e59a3f46",
   "metadata": {},
   "source": [
    "#### Observations noms des batiments"
   ]
  },
  {
   "cell_type": "code",
   "id": "958ef0aa",
   "metadata": {},
   "source": [
    "lack = len(batiments_a_auditer)-len(gspsdt)\n",
    "print(\"* There are\",len(batiments_a_auditer),\"batiments in\",code_departement)\n",
    "print(\"* There are\",len(gspsdt),\"batiments in the solar potential database for these buildings\")\n",
    "print(\"* Coverage of that DB (%):\",100*len(gspsdt)/len(batiments_a_auditer))"
   ],
   "outputs": [],
   "execution_count": null
  },
  {
   "cell_type": "code",
   "id": "5d2a1e76",
   "metadata": {},
   "source": [
    "dupes = solar_potential_of_schools_buildings[solar_potential_of_schools_buildings.duplicated(subset=[\"cleabs_bat\"],keep=False)]\n",
    "dupes = dupes.sort_values(by=[\"cleabs_bat\"]).reset_index(drop=True)\n",
    "print(\"* Duplicate rate for buildings in output (%):\",100*len(dupes)/len(solar_potential_of_schools_buildings))\n",
    "dupes[[\"cleabs_bat\",\"cleabs_zone\"]]"
   ],
   "outputs": [],
   "execution_count": null
  },
  {
   "cell_type": "code",
   "id": "05a804a9",
   "metadata": {},
   "source": [
    "len(solar_potential_of_schools_buildings),len(solar_potential_of_schools_buildings.cleabs_bat.unique())"
   ],
   "outputs": [],
   "execution_count": null
  },
  {
   "cell_type": "code",
   "id": "c0101590",
   "metadata": {},
   "source": [
    "len(gspsdt_total[gspsdt_total.id.isin(batiments_a_auditer)])"
   ],
   "outputs": [],
   "execution_count": null
  },
  {
   "cell_type": "markdown",
   "id": "363dff224bfb7766",
   "metadata": {},
   "source": [
    "# Checks sur la qualité des données & calculs"
   ]
  },
  {
   "cell_type": "code",
   "id": "46d41149e1faf14f",
   "metadata": {},
   "source": [
    "nb_schools_with_buildings = len(schools_buildings.identifiant_de_l_etablissement.unique())\n",
    "print(\"Nb d'établissements scolaires avec des batiments: {} ({}%)\".format(\n",
    "    nb_schools_with_buildings,\n",
    "    round(100 * nb_schools_with_buildings / nb_schools)\n",
    "))"
   ],
   "outputs": [],
   "execution_count": null
  }
 ],
 "metadata": {
  "kernelspec": {
   "display_name": ".venv",
   "language": "python",
   "name": "python3"
  },
  "language_info": {
   "codemirror_mode": {
    "name": "ipython",
    "version": 3
   },
   "file_extension": ".py",
   "mimetype": "text/x-python",
   "name": "python",
   "nbconvert_exporter": "python",
   "pygments_lexer": "ipython3",
   "version": "3.10.12"
  }
 },
 "nbformat": 4,
 "nbformat_minor": 5
}
