{
 "cells": [
  {
   "cell_type": "code",
   "id": "f1f565b7",
   "metadata": {},
   "source": [
    "import numpy as np\n",
    "%load_ext autoreload\n",
    "%autoreload 2"
   ],
   "outputs": [],
   "execution_count": null
  },
  {
   "cell_type": "code",
   "id": "6358f4912f9f22ab",
   "metadata": {},
   "source": [
    "code_departement = \"093\"\n",
    "compare_with_idf = True"
   ],
   "outputs": [],
   "execution_count": null
  },
  {
   "cell_type": "markdown",
   "id": "d3a70f3e57e62a7c",
   "metadata": {},
   "source": [
    "# Imports & setup"
   ]
  },
  {
   "cell_type": "code",
   "id": "aa88b759c982f54c",
   "metadata": {},
   "source": [
    "import logging\n",
    "\n",
    "import geopandas as gpd\n",
    "import matplotlib.pyplot as plt\n",
    "\n",
    "from potentiel_solaire.constants import DATA_FOLDER, DEFAULT_CRS\n",
    "from potentiel_solaire.sources.bd_topo import extract_bd_topo, get_topo_buildings_of_interest\n",
    "from potentiel_solaire.aggregate import aggregate_solar_potential_by\n",
    "\n",
    "logging.getLogger().setLevel(\"WARNING\")"
   ],
   "outputs": [],
   "execution_count": null
  },
  {
   "cell_type": "code",
   "id": "ea92c07884e98d3c",
   "metadata": {},
   "source": [
    "path_results = DATA_FOLDER / f\"{code_departement}_pipeline_results.gpkg\""
   ],
   "outputs": [],
   "execution_count": null
  },
  {
   "cell_type": "markdown",
   "id": "654fe1ff3c8d5ccb",
   "metadata": {},
   "source": [
    "# Recupération des resultats intermédiaires"
   ]
  },
  {
   "cell_type": "markdown",
   "id": "8141e3850bdde72d",
   "metadata": {},
   "source": [
    "### Etablissements scolaires\n"
   ]
  },
  {
   "cell_type": "code",
   "id": "8c2714f479cce131",
   "metadata": {},
   "source": [
    "schools_establishments = gpd.read_file(path_results, layer=\"schools_establishments\")\n",
    "nb_schools = schools_establishments.shape[0]\n",
    "print(f\"Nb d'établissements scolaires: {nb_schools}\")"
   ],
   "outputs": [],
   "execution_count": null
  },
  {
   "cell_type": "markdown",
   "id": "ed36d1f4a8ff139d",
   "metadata": {},
   "source": [
    "### Zones d'éducations"
   ]
  },
  {
   "cell_type": "code",
   "id": "62c98433be3c4844",
   "metadata": {},
   "source": [
    "educational_zones = gpd.read_file(path_results, layer=\"educational_zones\")\n",
    "nb_educational_zones = educational_zones.shape[0]\n",
    "print(\"Nb de zones d'éducations: \", nb_educational_zones)"
   ],
   "outputs": [],
   "execution_count": null
  },
  {
   "cell_type": "markdown",
   "id": "f6da9025d2ac027",
   "metadata": {},
   "source": [
    "### Bâtiments"
   ]
  },
  {
   "cell_type": "code",
   "id": "20cb307a0e616424",
   "metadata": {},
   "source": [
    "bd_topo_path = extract_bd_topo(code_departement=code_departement)\n",
    "codes_commune = schools_establishments[\"code_commune\"].unique()\n",
    "communes = gpd.read_file(bd_topo_path, layer=\"commune\").to_crs(DEFAULT_CRS)\n",
    "communes = communes[communes.code_insee.isin(codes_commune)]\n",
    "geom_of_interest = communes.dissolve()[[\"geometry\"]]\n",
    "buildings = get_topo_buildings_of_interest(\n",
    "    bd_topo_path=bd_topo_path,\n",
    "    geom_of_interest=geom_of_interest,\n",
    "    crs=DEFAULT_CRS\n",
    ")"
   ],
   "outputs": [],
   "execution_count": null
  },
  {
   "cell_type": "markdown",
   "id": "129b67af5c421e52",
   "metadata": {},
   "source": [
    "### Rattachement des bâtiments scolaires"
   ]
  },
  {
   "cell_type": "code",
   "id": "f164fcc395a85eeb",
   "metadata": {},
   "source": [
    "schools_buildings = gpd.read_file(path_results, layer=\"schools_buildings\")\n",
    "nb_schools_buildings = schools_buildings.shape[0]\n",
    "print(f\"Nb de batiments rattachés à des écoles: {nb_schools_buildings}\")"
   ],
   "outputs": [],
   "execution_count": null
  },
  {
   "cell_type": "markdown",
   "id": "25094a9970938a7d",
   "metadata": {},
   "source": [
    "### Calcul du potentiel solaire"
   ]
  },
  {
   "cell_type": "code",
   "id": "c0cf2ab1980a4b17",
   "metadata": {},
   "source": [
    "solar_potential_of_schools_buildings = gpd.read_file(path_results, layer=\"solar_potential_of_schools_buildings\")"
   ],
   "outputs": [],
   "execution_count": null
  },
  {
   "cell_type": "markdown",
   "id": "f86931e8173026c2",
   "metadata": {},
   "source": [
    "# Checks sur la qualité des données & calculs"
   ]
  },
  {
   "cell_type": "code",
   "id": "4831c36e49f035e6",
   "metadata": {},
   "source": [
    "nb_schools_with_buildings = len(schools_buildings.identifiant_de_l_etablissement.unique())\n",
    "print(\"Nb d'établissements scolaires avec des batiments: {} ({}%)\".format(\n",
    "    nb_schools_with_buildings,\n",
    "    round(100 * nb_schools_with_buildings / nb_schools)\n",
    "))"
   ],
   "outputs": [],
   "execution_count": null
  },
  {
   "cell_type": "code",
   "id": "6da39b16aa4a566c",
   "metadata": {},
   "source": [
    "missing_schools_establishments = schools_establishments.merge(\n",
    "    schools_buildings.drop_duplicates(subset=[\"identifiant_de_l_etablissement\"])[[\"identifiant_de_l_etablissement\", \"cleabs_zone\"]],\n",
    "    on=\"identifiant_de_l_etablissement\",\n",
    "    how=\"left\"\n",
    ")\n",
    "missing_schools_establishments = missing_schools_establishments[missing_schools_establishments[\"cleabs_zone\"].isna()]\n",
    "nb_missing_schools_establishments = missing_schools_establishments.shape[0]\n",
    "print(\"Nb d'établissements scolaires sans batiment: {} ({}%)\".format(\n",
    "    nb_missing_schools_establishments,\n",
    "    round(100 * nb_missing_schools_establishments / nb_schools)\n",
    "))"
   ],
   "outputs": [],
   "execution_count": null
  },
  {
   "cell_type": "code",
   "id": "6b0e892c837347a1",
   "metadata": {},
   "source": [
    "missing_educational_zones = educational_zones.merge(\n",
    "    schools_buildings.drop_duplicates(subset=[\"cleabs_zone\"])[[\"cleabs_zone\"]],\n",
    "    left_on=\"cleabs\",\n",
    "    right_on=\"cleabs_zone\",\n",
    "    how=\"left\"\n",
    ")\n",
    "missing_educational_zones = missing_educational_zones[missing_educational_zones[\"cleabs_zone\"].isna()]\n",
    "missing_educational_zones.drop(columns=[\"cleabs_zone\"], inplace=True)\n",
    "\n",
    "nb_missing_educational_zones = len(missing_educational_zones.cleabs.unique())\n",
    "print(\"Nb de zones d'educations non rattachées à un établissement scolaire: {} ({}%)\".format(\n",
    "    nb_missing_educational_zones,\n",
    "    round(100 * nb_missing_educational_zones / nb_educational_zones)\n",
    "))"
   ],
   "outputs": [],
   "execution_count": null
  },
  {
   "cell_type": "code",
   "id": "51e55dd9e546c30c",
   "metadata": {},
   "source": [
    "missing_buildings = gpd.sjoin(\n",
    "        buildings,\n",
    "        missing_educational_zones,\n",
    "        how='inner',\n",
    "        predicate='intersects',\n",
    "        lsuffix='bat',\n",
    "        rsuffix='zone'\n",
    "    )\n",
    "nb_missing_buildings = missing_buildings.shape[0]\n",
    "print(f\"Nb de batiments sur des zones non rattachées: {nb_missing_buildings}\")"
   ],
   "outputs": [],
   "execution_count": null
  },
  {
   "cell_type": "code",
   "id": "53cd4016a1627ddc",
   "metadata": {},
   "source": [
    "buildings_affected_to_multiple_schools = solar_potential_of_schools_buildings[solar_potential_of_schools_buildings.duplicated(subset=[\"cleabs_bat\"],keep=False)]\n",
    "nb_buildings_affected_to_multiple_schools = buildings_affected_to_multiple_schools.shape[0]\n",
    "print(\"Nb de batiments affectés en doubles: {} ({}%)\".format(\n",
    "    nb_buildings_affected_to_multiple_schools, \n",
    "    round(100 * nb_buildings_affected_to_multiple_schools / nb_schools_buildings)    \n",
    "))"
   ],
   "outputs": [],
   "execution_count": null
  },
  {
   "cell_type": "code",
   "id": "a4669ef660f33d68",
   "metadata": {},
   "source": [
    "school_buildings_only_in_educational_zones = gpd.overlay(\n",
    "    solar_potential_of_schools_buildings,\n",
    "    educational_zones[[\"geometry\"]],\n",
    "    how=\"intersection\",\n",
    ").to_crs(epsg=6933)\n",
    "\n",
    "total_floor_area = solar_potential_of_schools_buildings[\"surface_totale_au_sol\"].sum()\n",
    "total_floor_area_only_in_educational_zones = school_buildings_only_in_educational_zones.area.sum()\n",
    "area_not_in_educational_zones = total_floor_area - total_floor_area_only_in_educational_zones\n",
    "print(f\"{total_floor_area:,.0f} m² de surface au sol pour tous les batiments scolaires, dont {area_not_in_educational_zones:,.0f} m² ({100*area_not_in_educational_zones/total_floor_area:.0f}%) ne sont pas dans une zone d'education\")"
   ],
   "outputs": [],
   "execution_count": null
  },
  {
   "cell_type": "code",
   "id": "2fd3ffedf5f32693",
   "metadata": {},
   "source": [
    "results_by_school = aggregate_solar_potential_by(\n",
    "    schools_establishments=schools_establishments,\n",
    "    solar_potential_of_schools_buildings=solar_potential_of_schools_buildings,\n",
    "    group_by = [\n",
    "        \"identifiant_de_l_etablissement\",\n",
    "        \"nom_etablissement\",\n",
    "        \"type_etablissement\",\n",
    "        \"libelle_nature\",\n",
    "        \"code_commune\",\n",
    "        \"nom_commune\",\n",
    "        \"code_departement\",\n",
    "        \"libelle_departement\",\n",
    "        \"code_region\",\n",
    "        \"libelle_region\",\n",
    "    ]\n",
    ")"
   ],
   "outputs": [],
   "execution_count": null
  },
  {
   "cell_type": "code",
   "id": "b1c9a654453b7308",
   "metadata": {},
   "source": [
    "results_by_school.hist(column=\"surface_utile\", bins=10)"
   ],
   "outputs": [],
   "execution_count": null
  },
  {
   "cell_type": "code",
   "id": "e5658ae65a76eedf",
   "metadata": {},
   "source": [
    "results_by_school.hist(column=\"potentiel_solaire\", bins=10)"
   ],
   "outputs": [],
   "execution_count": null
  },
  {
   "cell_type": "markdown",
   "id": "7465578d",
   "metadata": {},
   "source": [
    "# Comparaison avec le potentiel solaire des toitures (IDF)"
   ]
  },
  {
   "cell_type": "code",
   "id": "5f184d73",
   "metadata": {},
   "source": [
    "if compare_with_idf:\n",
    "    # Audit des données sur Département 93\n",
    "    GPKG = DATA_FOLDER / \"potentiel-solaire.geojson\"\n",
    "    gspsdt_total = gpd.read_file(GPKG, mask=geom_of_interest)\n",
    "    print(len(gspsdt_total),\"batiments\")\n",
    "    gspsdt_total=  gspsdt_total.to_crs(4326)"
   ],
   "outputs": [],
   "execution_count": null
  },
  {
   "cell_type": "code",
   "id": "b959a345",
   "metadata": {},
   "source": [
    "if compare_with_idf:\n",
    "    batiments_a_auditer = solar_potential_of_schools_buildings.cleabs_bat.unique()\n",
    "    gspsdt = gspsdt_total[gspsdt_total.id.isin(batiments_a_auditer)]\n",
    "\n",
    "    gspsdt = gspsdt[[\"id\",\"st_areashape\",\"surf_util\",\"moyenne2\",\"production\"]]\n",
    "    comparaison = gspsdt.merge(solar_potential_of_schools_buildings[[\"cleabs_bat\",\"surface_totale_au_sol\",\"surface_utile\",\"potentiel_solaire\"]],\\\n",
    "             left_on='id', right_on='cleabs_bat', how=\"inner\")\n",
    "    \n",
    "    total_ecole         = comparaison.production.sum()\n",
    "    total_ecole_calcule = comparaison.potentiel_solaire.sum()\n",
    "    print(\"# Verification des potentiels pour:\",code_departement,\"\\n\")\n",
    "    print(\"* Verification effectuée sur:\",len(comparaison),\"batiments.\")\n",
    "    print(\"* BDD Potentiel solaire\\t\",int(total_ecole),\"kWh/an\")\n",
    "    print(\"* Estimation ordre 0\\t\",int(total_ecole_calcule),\"kWh/an\")\n",
    "    print(\"* Tentative accuracy\\t\",int((total_ecole_calcule-total_ecole)/total_ecole*100),\"%\")"
   ],
   "outputs": [],
   "execution_count": null
  },
  {
   "metadata": {},
   "cell_type": "code",
   "source": [
    "if compare_with_idf:\n",
    "    lack = len(batiments_a_auditer)-len(gspsdt)\n",
    "    print(\"* There are\",len(batiments_a_auditer),\"batiments in\",code_departement)\n",
    "    print(\"* There are\",len(gspsdt),\"batiments in the solar potential database for these buildings\")\n",
    "    print(\"* Coverage of that DB (%):\",100*len(gspsdt)/len(batiments_a_auditer))"
   ],
   "id": "c7f95c0be8658f47",
   "outputs": [],
   "execution_count": null
  },
  {
   "cell_type": "code",
   "id": "449c3c49-fe02-4056-833e-85cdb9cce175",
   "metadata": {},
   "source": [
    "def scatter_plot(df, column_x, column_y):\n",
    "    x = df[column_x]\n",
    "    y = df[column_y]\n",
    "    minimum = min(df[column_x].min(), df[column_y].min())\n",
    "    maximum = max(df[column_x].max(), df[column_y].max())\n",
    "    plt.scatter(x, y)\n",
    "    plt.plot([minimum, maximum], [minimum, maximum], color='red', linestyle='--')\n",
    "    plt.title(f\"Compare {column_x} with {column_y}\")\n",
    "    plt.xlabel(f\"{column_x}\")\n",
    "    plt.ylabel(f\"{column_y}\")\n",
    "    plt.show()"
   ],
   "outputs": [],
   "execution_count": null
  },
  {
   "cell_type": "code",
   "id": "6480ce6b68c32610",
   "metadata": {},
   "source": [
    "if compare_with_idf:\n",
    "    scatter_plot(comparaison, \"surf_util\", \"surface_utile\")"
   ],
   "outputs": [],
   "execution_count": null
  },
  {
   "cell_type": "code",
   "id": "c7066b620822f349",
   "metadata": {},
   "source": [
    "if compare_with_idf:\n",
    "    scatter_plot(comparaison, \"production\", \"potentiel_solaire\")"
   ],
   "outputs": [],
   "execution_count": null
  },
  {
   "metadata": {},
   "cell_type": "code",
   "source": "",
   "id": "9366a131ee882a33",
   "outputs": [],
   "execution_count": null
  }
 ],
 "metadata": {
  "kernelspec": {
   "display_name": "Python 3 (ipykernel)",
   "language": "python",
   "name": "python3"
  },
  "language_info": {
   "codemirror_mode": {
    "name": "ipython",
    "version": 3
   },
   "file_extension": ".py",
   "mimetype": "text/x-python",
   "name": "python",
   "nbconvert_exporter": "python",
   "pygments_lexer": "ipython3",
   "version": "3.11.9"
  }
 },
 "nbformat": 4,
 "nbformat_minor": 5
}
