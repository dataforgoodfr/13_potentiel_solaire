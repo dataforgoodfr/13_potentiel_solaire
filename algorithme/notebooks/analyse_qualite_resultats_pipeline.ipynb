{
 "cells": [
  {
   "cell_type": "code",
   "execution_count": 12,
   "id": "f1f565b7",
   "metadata": {},
   "outputs": [
    {
     "name": "stdout",
     "output_type": "stream",
     "text": [
      "The autoreload extension is already loaded. To reload it, use:\n",
      "  %reload_ext autoreload\n"
     ]
    }
   ],
   "source": [
    "%load_ext autoreload\n",
    "%autoreload 2"
   ]
  },
  {
   "cell_type": "code",
<<<<<<< Updated upstream
<<<<<<< Updated upstream
   "id": "6358f4912f9f22ab",
   "metadata": {},
   "source": [
    "code_departement = \"093\"\n",
    "compare_with_idf = True"
   ],
   "outputs": [],
   "execution_count": null
=======
=======
>>>>>>> Stashed changes
   "execution_count": 13,
   "id": "6358f4912f9f22ab",
   "metadata": {},
   "outputs": [],
   "source": [
    "code_departement = \"093\"\n",
    "logs_level = \"WARNING\""
   ]
<<<<<<< Updated upstream
>>>>>>> Stashed changes
=======
>>>>>>> Stashed changes
  },
  {
   "cell_type": "markdown",
   "id": "d3a70f3e57e62a7c",
   "metadata": {},
   "source": [
    "# Imports & setup"
   ]
  },
  {
   "cell_type": "code",
   "execution_count": 14,
   "id": "aa88b759c982f54c",
   "metadata": {},
   "outputs": [],
   "source": [
    "import logging\n",
    "\n",
    "import geopandas as gpd\n",
    "import matplotlib.pyplot as plt\n",
    "\n",
    "from potentiel_solaire.constants import DATA_FOLDER, RESULTS_FOLDER, DEFAULT_CRS\n",
    "from potentiel_solaire.sources.utils import download_file\n",
    "from potentiel_solaire.sources.bd_topo import extract_bd_topo, get_topo_buildings_of_interest\n",
    "\n",
<<<<<<< Updated upstream
<<<<<<< Updated upstream
    "logging.getLogger().setLevel(\"WARNING\")"
   ],
   "outputs": [],
   "execution_count": null
  },
  {
   "cell_type": "code",
   "id": "ea92c07884e98d3c",
   "metadata": {},
   "source": "path_results = RESULTS_FOLDER / f\"D{code_departement}_pipeline_results.gpkg\"",
=======
    "logger = get_logger()\n",
    "logger.setLevel(logs_level)"
   ]
  },
  {
   "cell_type": "code",
   "execution_count": 15,
   "id": "ea92c07884e98d3c",
   "metadata": {},
>>>>>>> Stashed changes
=======
    "logger = get_logger()\n",
    "logger.setLevel(logs_level)"
   ]
  },
  {
   "cell_type": "code",
   "execution_count": 15,
   "id": "ea92c07884e98d3c",
   "metadata": {},
>>>>>>> Stashed changes
   "outputs": [],
   "source": [
    "path_results = DATA_FOLDER / \"093_pipeline_results.gpkg\""
   ]
<<<<<<< Updated upstream
  },
  {
   "cell_type": "markdown",
   "id": "654fe1ff3c8d5ccb",
   "metadata": {},
   "source": [
    "# Recupération des resultats intermédiaires"
   ]
=======
>>>>>>> Stashed changes
  },
  {
   "cell_type": "markdown",
   "id": "8141e3850bdde72d",
   "metadata": {},
   "source": [
    "### Etablissements scolaires\n"
   ]
  },
  {
   "cell_type": "code",
   "execution_count": 16,
   "id": "8c2714f479cce131",
   "metadata": {},
   "outputs": [
    {
     "name": "stdout",
     "output_type": "stream",
     "text": [
      "Nb d'établissements scolaires: 1130\n"
     ]
    }
   ],
   "source": [
    "schools_establishments = gpd.read_file(path_results, layer=\"schools_establishments\")\n",
    "nb_schools = schools_establishments.shape[0]\n",
    "print(f\"Nb d'établissements scolaires: {nb_schools}\")"
   ]
  },
  {
   "cell_type": "markdown",
   "id": "ed36d1f4a8ff139d",
   "metadata": {},
   "source": [
    "### Zones d'éducations"
   ]
  },
  {
   "cell_type": "code",
   "execution_count": 17,
   "id": "62c98433be3c4844",
   "metadata": {},
   "outputs": [
    {
     "name": "stdout",
     "output_type": "stream",
     "text": [
      "Nb de zones d'éducations:  1088\n"
     ]
    }
   ],
   "source": [
    "educational_zones = gpd.read_file(path_results, layer=\"educational_zones\")\n",
    "nb_educational_zones = educational_zones.shape[0]\n",
    "print(\"Nb de zones d'éducations: \", nb_educational_zones)"
   ]
<<<<<<< Updated upstream
  },
  {
   "cell_type": "markdown",
   "id": "f6da9025d2ac027",
   "metadata": {},
   "source": [
    "### Bâtiments"
   ]
  },
  {
   "cell_type": "code",
   "id": "20cb307a0e616424",
   "metadata": {},
   "source": [
    "bd_topo_path = extract_bd_topo(code_departement=code_departement)\n",
    "codes_commune = schools_establishments[\"code_commune\"].unique()\n",
    "communes = gpd.read_file(bd_topo_path, layer=\"commune\").to_crs(DEFAULT_CRS)\n",
    "communes = communes[communes.code_insee.isin(codes_commune)]\n",
    "geom_of_interest = communes.dissolve()[[\"geometry\"]]\n",
    "buildings = get_topo_buildings_of_interest(\n",
    "    bd_topo_path=bd_topo_path,\n",
    "    geom_of_interest=geom_of_interest,\n",
    "    crs=DEFAULT_CRS\n",
    ")"
   ],
   "outputs": [],
   "execution_count": null
=======
>>>>>>> Stashed changes
  },
  {
   "cell_type": "markdown",
   "id": "129b67af5c421e52",
   "metadata": {},
   "source": [
    "### Rattachement des bâtiments scolaires"
   ]
  },
  {
   "cell_type": "code",
   "execution_count": 18,
   "id": "f164fcc395a85eeb",
   "metadata": {},
<<<<<<< Updated upstream
<<<<<<< Updated upstream
   "source": [
    "schools_buildings = gpd.read_file(path_results, layer=\"schools_buildings\")\n",
    "nb_schools_buildings = schools_buildings.shape[0]\n",
    "print(f\"Nb de batiments rattachés à des écoles: {nb_schools_buildings}\")"
   ],
=======
>>>>>>> Stashed changes
=======
>>>>>>> Stashed changes
   "outputs": [],
   "source": [
    "schools_buildings = gpd.read_file(path_results, layer=\"schools_buildings\")"
   ]
  },
  {
   "cell_type": "markdown",
   "id": "25094a9970938a7d",
   "metadata": {},
   "source": [
    "### Calcul du potentiel solaire"
   ]
  },
  {
   "cell_type": "code",
   "execution_count": 19,
   "id": "c0cf2ab1980a4b17",
   "metadata": {},
   "outputs": [],
   "source": [
    "solar_potential_of_schools_buildings = gpd.read_file(path_results, layer=\"solar_potential_of_schools_buildings\")"
   ]
<<<<<<< Updated upstream
  },
  {
   "metadata": {},
   "cell_type": "code",
   "source": "results_by_school = gpd.read_file(path_results, layer=\"etablissements\")",
   "id": "d17c6a969b2f44fb",
   "outputs": [],
   "execution_count": null
  },
  {
   "cell_type": "markdown",
   "id": "f86931e8173026c2",
   "metadata": {},
   "source": [
    "# Checks sur la qualité des données & calculs"
   ]
  },
  {
   "cell_type": "code",
   "id": "4831c36e49f035e6",
   "metadata": {},
   "source": [
    "nb_schools_with_buildings = len(schools_buildings.identifiant_de_l_etablissement.unique())\n",
    "print(\"Nb d'établissements scolaires avec des batiments: {} ({}%)\".format(\n",
    "    nb_schools_with_buildings,\n",
    "    round(100 * nb_schools_with_buildings / nb_schools)\n",
    "))"
   ],
   "outputs": [],
   "execution_count": null
  },
  {
   "cell_type": "code",
   "id": "6da39b16aa4a566c",
   "metadata": {},
   "source": [
    "missing_schools_establishments = schools_establishments.merge(\n",
    "    schools_buildings.drop_duplicates(subset=[\"identifiant_de_l_etablissement\"])[[\"identifiant_de_l_etablissement\", \"cleabs_zone\"]],\n",
    "    on=\"identifiant_de_l_etablissement\",\n",
    "    how=\"left\"\n",
    ")\n",
    "missing_schools_establishments = missing_schools_establishments[missing_schools_establishments[\"cleabs_zone\"].isna()]\n",
    "nb_missing_schools_establishments = missing_schools_establishments.shape[0]\n",
    "print(\"Nb d'établissements scolaires sans batiment: {} ({}%)\".format(\n",
    "    nb_missing_schools_establishments,\n",
    "    round(100 * nb_missing_schools_establishments / nb_schools)\n",
    "))"
   ],
   "outputs": [],
   "execution_count": null
  },
  {
   "cell_type": "code",
   "id": "6b0e892c837347a1",
   "metadata": {},
   "source": [
    "missing_educational_zones = educational_zones.merge(\n",
    "    schools_buildings.drop_duplicates(subset=[\"cleabs_zone\"])[[\"cleabs_zone\"]],\n",
    "    left_on=\"cleabs\",\n",
    "    right_on=\"cleabs_zone\",\n",
    "    how=\"left\"\n",
    ")\n",
    "missing_educational_zones = missing_educational_zones[missing_educational_zones[\"cleabs_zone\"].isna()]\n",
    "missing_educational_zones.drop(columns=[\"cleabs_zone\"], inplace=True)\n",
    "\n",
    "nb_missing_educational_zones = len(missing_educational_zones.cleabs.unique())\n",
    "print(\"Nb de zones d'educations non rattachées à un établissement scolaire: {} ({}%)\".format(\n",
    "    nb_missing_educational_zones,\n",
    "    round(100 * nb_missing_educational_zones / nb_educational_zones)\n",
    "))"
   ],
   "outputs": [],
   "execution_count": null
  },
  {
   "cell_type": "code",
   "id": "51e55dd9e546c30c",
   "metadata": {},
   "source": [
    "missing_buildings = gpd.sjoin(\n",
    "        buildings,\n",
    "        missing_educational_zones,\n",
    "        how='inner',\n",
    "        predicate='intersects',\n",
    "        lsuffix='bat',\n",
    "        rsuffix='zone'\n",
    "    )\n",
    "nb_missing_buildings = missing_buildings.shape[0]\n",
    "print(f\"Nb de batiments sur des zones non rattachées: {nb_missing_buildings}\")"
   ],
   "outputs": [],
   "execution_count": null
  },
  {
   "cell_type": "code",
   "id": "53cd4016a1627ddc",
   "metadata": {},
   "source": [
    "buildings_affected_to_multiple_schools = solar_potential_of_schools_buildings[solar_potential_of_schools_buildings.duplicated(subset=[\"cleabs_bat\"],keep=False)]\n",
    "nb_buildings_affected_to_multiple_schools = buildings_affected_to_multiple_schools.shape[0]\n",
    "print(\"Nb de batiments affectés en doubles: {} ({}%)\".format(\n",
    "    nb_buildings_affected_to_multiple_schools, \n",
    "    round(100 * nb_buildings_affected_to_multiple_schools / nb_schools_buildings)    \n",
    "))"
   ],
   "outputs": [],
   "execution_count": null
  },
  {
   "cell_type": "code",
   "id": "a4669ef660f33d68",
   "metadata": {},
   "source": [
    "school_buildings_only_in_educational_zones = gpd.overlay(\n",
    "    solar_potential_of_schools_buildings,\n",
    "    educational_zones[[\"geometry\"]],\n",
    "    how=\"intersection\",\n",
    ").to_crs(epsg=6933)\n",
    "\n",
    "total_floor_area = solar_potential_of_schools_buildings[\"surface_totale_au_sol\"].sum()\n",
    "total_floor_area_only_in_educational_zones = school_buildings_only_in_educational_zones.area.sum()\n",
    "area_not_in_educational_zones = total_floor_area - total_floor_area_only_in_educational_zones\n",
    "print(f\"{total_floor_area:,.0f} m² de surface au sol pour tous les batiments scolaires, dont {area_not_in_educational_zones:,.0f} m² ({100*area_not_in_educational_zones/total_floor_area:.0f}%) ne sont pas dans une zone d'education\")"
   ],
   "outputs": [],
   "execution_count": null
  },
  {
   "cell_type": "code",
   "id": "b1c9a654453b7308",
   "metadata": {},
   "source": [
    "results_by_school.hist(column=\"surface_utile\", bins=10)"
   ],
   "outputs": [],
   "execution_count": null
  },
  {
   "cell_type": "code",
   "id": "e5658ae65a76eedf",
   "metadata": {},
   "source": [
    "results_by_school.hist(column=\"potentiel_solaire\", bins=10)"
   ],
   "outputs": [],
   "execution_count": null
=======
>>>>>>> Stashed changes
  },
  {
   "cell_type": "markdown",
   "id": "7465578d",
   "metadata": {},
   "source": [
    "# Comparaison avec le potentiel solaire des toitures (IDF)"
   ]
  },
  {
   "cell_type": "code",
<<<<<<< Updated upstream
<<<<<<< Updated upstream
=======
=======
>>>>>>> Stashed changes
   "execution_count": 20,
   "id": "93accc36",
   "metadata": {},
   "outputs": [],
   "source": [
    "bool_Audit = True"
   ]
  },
  {
   "cell_type": "code",
   "execution_count": 21,
<<<<<<< Updated upstream
>>>>>>> Stashed changes
=======
>>>>>>> Stashed changes
   "id": "5f184d73",
   "metadata": {},
   "outputs": [
    {
     "name": "stdout",
     "output_type": "stream",
     "text": [
      "1000 batiments\n"
     ]
    }
   ],
   "source": [
    "if compare_with_idf:\n",
    "    # Audit des données sur Département 93\n",
    "    idf_results_path = DATA_FOLDER / \"potentiel-solaire.geojson\"\n",
    "    download_file(\n",
    "        url=\"https://hub.arcgis.com/api/v3/datasets/21e83d3c0fb3411bbc9b673afce13a1c_26/downloads/data?format=geojson&spatialRefId=4326&where=1%3D1\",\n",
    "        output_filepath=idf_results_path\n",
    "    )\n",
    "    gspsdt_total = gpd.read_file(idf_results_path, mask=geom_of_interest)\n",
    "    print(len(gspsdt_total),\"batiments\")\n",
    "    gspsdt_total=  gspsdt_total.to_crs(4326)"
   ]
  },
  {
   "cell_type": "code",
   "execution_count": 22,
   "id": "b959a345",
   "metadata": {},
   "outputs": [
    {
     "ename": "KeyError",
     "evalue": "\"['st_areashape'] not in index\"",
     "output_type": "error",
     "traceback": [
      "\u001b[0;31m---------------------------------------------------------------------------\u001b[0m",
      "\u001b[0;31mKeyError\u001b[0m                                  Traceback (most recent call last)",
      "Cell \u001b[0;32mIn[22], line 5\u001b[0m\n\u001b[1;32m      2\u001b[0m batiments_a_auditer \u001b[38;5;241m=\u001b[39m solar_potential_of_schools_buildings\u001b[38;5;241m.\u001b[39mcleabs_bat\u001b[38;5;241m.\u001b[39munique()\n\u001b[1;32m      3\u001b[0m gspsdt \u001b[38;5;241m=\u001b[39m gspsdt_total[gspsdt_total\u001b[38;5;241m.\u001b[39mid\u001b[38;5;241m.\u001b[39misin(batiments_a_auditer)]\n\u001b[0;32m----> 5\u001b[0m gspsdt \u001b[38;5;241m=\u001b[39m \u001b[43mgspsdt\u001b[49m\u001b[43m[\u001b[49m\u001b[43m[\u001b[49m\u001b[38;5;124;43m\"\u001b[39;49m\u001b[38;5;124;43mid\u001b[39;49m\u001b[38;5;124;43m\"\u001b[39;49m\u001b[43m,\u001b[49m\u001b[38;5;124;43m\"\u001b[39;49m\u001b[38;5;124;43mst_areashape\u001b[39;49m\u001b[38;5;124;43m\"\u001b[39;49m\u001b[43m,\u001b[49m\u001b[38;5;124;43m\"\u001b[39;49m\u001b[38;5;124;43msurf_util\u001b[39;49m\u001b[38;5;124;43m\"\u001b[39;49m\u001b[43m,\u001b[49m\u001b[38;5;124;43m\"\u001b[39;49m\u001b[38;5;124;43mmoyenne2\u001b[39;49m\u001b[38;5;124;43m\"\u001b[39;49m\u001b[43m,\u001b[49m\u001b[38;5;124;43m\"\u001b[39;49m\u001b[38;5;124;43mproduction\u001b[39;49m\u001b[38;5;124;43m\"\u001b[39;49m\u001b[43m]\u001b[49m\u001b[43m]\u001b[49m\n\u001b[1;32m      6\u001b[0m comparaison \u001b[38;5;241m=\u001b[39m gspsdt\u001b[38;5;241m.\u001b[39mmerge(solar_potential_of_schools_buildings[[\u001b[38;5;124m\"\u001b[39m\u001b[38;5;124mcleabs_bat\u001b[39m\u001b[38;5;124m\"\u001b[39m,\u001b[38;5;124m\"\u001b[39m\u001b[38;5;124msurface_totale_au_sol\u001b[39m\u001b[38;5;124m\"\u001b[39m,\u001b[38;5;124m\"\u001b[39m\u001b[38;5;124msurface_utile\u001b[39m\u001b[38;5;124m\"\u001b[39m,\u001b[38;5;124m\"\u001b[39m\u001b[38;5;124mrayonnement_solaire\u001b[39m\u001b[38;5;124m\"\u001b[39m,\u001b[38;5;124m\"\u001b[39m\u001b[38;5;124mpotentiel_solaire\u001b[39m\u001b[38;5;124m\"\u001b[39m]],\\\n\u001b[1;32m      7\u001b[0m          left_on\u001b[38;5;241m=\u001b[39m\u001b[38;5;124m'\u001b[39m\u001b[38;5;124mid\u001b[39m\u001b[38;5;124m'\u001b[39m, right_on\u001b[38;5;241m=\u001b[39m\u001b[38;5;124m'\u001b[39m\u001b[38;5;124mcleabs_bat\u001b[39m\u001b[38;5;124m'\u001b[39m, how\u001b[38;5;241m=\u001b[39m\u001b[38;5;124m\"\u001b[39m\u001b[38;5;124minner\u001b[39m\u001b[38;5;124m\"\u001b[39m)\n\u001b[1;32m      9\u001b[0m total_ecole         \u001b[38;5;241m=\u001b[39m comparaison\u001b[38;5;241m.\u001b[39mproduction\u001b[38;5;241m.\u001b[39msum()\n",
      "File \u001b[0;32m~/Desktop/potentiel_solaire/13_potentiel_solaire/algorithme/.venv/lib/python3.11/site-packages/geopandas/geodataframe.py:1750\u001b[0m, in \u001b[0;36mGeoDataFrame.__getitem__\u001b[0;34m(self, key)\u001b[0m\n\u001b[1;32m   1744\u001b[0m \u001b[38;5;28;01mdef\u001b[39;00m\u001b[38;5;250m \u001b[39m\u001b[38;5;21m__getitem__\u001b[39m(\u001b[38;5;28mself\u001b[39m, key):\n\u001b[1;32m   1745\u001b[0m \u001b[38;5;250m    \u001b[39m\u001b[38;5;124;03m\"\"\"\u001b[39;00m\n\u001b[1;32m   1746\u001b[0m \u001b[38;5;124;03m    If the result is a column containing only 'geometry', return a\u001b[39;00m\n\u001b[1;32m   1747\u001b[0m \u001b[38;5;124;03m    GeoSeries. If it's a DataFrame with any columns of GeometryDtype,\u001b[39;00m\n\u001b[1;32m   1748\u001b[0m \u001b[38;5;124;03m    return a GeoDataFrame.\u001b[39;00m\n\u001b[1;32m   1749\u001b[0m \u001b[38;5;124;03m    \"\"\"\u001b[39;00m\n\u001b[0;32m-> 1750\u001b[0m     result \u001b[38;5;241m=\u001b[39m \u001b[38;5;28;43msuper\u001b[39;49m\u001b[43m(\u001b[49m\u001b[43m)\u001b[49m\u001b[38;5;241;43m.\u001b[39;49m\u001b[38;5;21;43m__getitem__\u001b[39;49m\u001b[43m(\u001b[49m\u001b[43mkey\u001b[49m\u001b[43m)\u001b[49m\n\u001b[1;32m   1751\u001b[0m     \u001b[38;5;66;03m# Custom logic to avoid waiting for pandas GH51895\u001b[39;00m\n\u001b[1;32m   1752\u001b[0m     \u001b[38;5;66;03m# result is not geometry dtype for multi-indexes\u001b[39;00m\n\u001b[1;32m   1753\u001b[0m     \u001b[38;5;28;01mif\u001b[39;00m (\n\u001b[1;32m   1754\u001b[0m         pd\u001b[38;5;241m.\u001b[39mapi\u001b[38;5;241m.\u001b[39mtypes\u001b[38;5;241m.\u001b[39mis_scalar(key)\n\u001b[1;32m   1755\u001b[0m         \u001b[38;5;129;01mand\u001b[39;00m key \u001b[38;5;241m==\u001b[39m \u001b[38;5;124m\"\u001b[39m\u001b[38;5;124m\"\u001b[39m\n\u001b[0;32m   (...)\u001b[0m\n\u001b[1;32m   1758\u001b[0m         \u001b[38;5;129;01mand\u001b[39;00m \u001b[38;5;129;01mnot\u001b[39;00m is_geometry_type(result)\n\u001b[1;32m   1759\u001b[0m     ):\n",
      "File \u001b[0;32m~/Desktop/potentiel_solaire/13_potentiel_solaire/algorithme/.venv/lib/python3.11/site-packages/pandas/core/frame.py:4108\u001b[0m, in \u001b[0;36mDataFrame.__getitem__\u001b[0;34m(self, key)\u001b[0m\n\u001b[1;32m   4106\u001b[0m     \u001b[38;5;28;01mif\u001b[39;00m is_iterator(key):\n\u001b[1;32m   4107\u001b[0m         key \u001b[38;5;241m=\u001b[39m \u001b[38;5;28mlist\u001b[39m(key)\n\u001b[0;32m-> 4108\u001b[0m     indexer \u001b[38;5;241m=\u001b[39m \u001b[38;5;28;43mself\u001b[39;49m\u001b[38;5;241;43m.\u001b[39;49m\u001b[43mcolumns\u001b[49m\u001b[38;5;241;43m.\u001b[39;49m\u001b[43m_get_indexer_strict\u001b[49m\u001b[43m(\u001b[49m\u001b[43mkey\u001b[49m\u001b[43m,\u001b[49m\u001b[43m \u001b[49m\u001b[38;5;124;43m\"\u001b[39;49m\u001b[38;5;124;43mcolumns\u001b[39;49m\u001b[38;5;124;43m\"\u001b[39;49m\u001b[43m)\u001b[49m[\u001b[38;5;241m1\u001b[39m]\n\u001b[1;32m   4110\u001b[0m \u001b[38;5;66;03m# take() does not accept boolean indexers\u001b[39;00m\n\u001b[1;32m   4111\u001b[0m \u001b[38;5;28;01mif\u001b[39;00m \u001b[38;5;28mgetattr\u001b[39m(indexer, \u001b[38;5;124m\"\u001b[39m\u001b[38;5;124mdtype\u001b[39m\u001b[38;5;124m\"\u001b[39m, \u001b[38;5;28;01mNone\u001b[39;00m) \u001b[38;5;241m==\u001b[39m \u001b[38;5;28mbool\u001b[39m:\n",
      "File \u001b[0;32m~/Desktop/potentiel_solaire/13_potentiel_solaire/algorithme/.venv/lib/python3.11/site-packages/pandas/core/indexes/base.py:6200\u001b[0m, in \u001b[0;36mIndex._get_indexer_strict\u001b[0;34m(self, key, axis_name)\u001b[0m\n\u001b[1;32m   6197\u001b[0m \u001b[38;5;28;01melse\u001b[39;00m:\n\u001b[1;32m   6198\u001b[0m     keyarr, indexer, new_indexer \u001b[38;5;241m=\u001b[39m \u001b[38;5;28mself\u001b[39m\u001b[38;5;241m.\u001b[39m_reindex_non_unique(keyarr)\n\u001b[0;32m-> 6200\u001b[0m \u001b[38;5;28;43mself\u001b[39;49m\u001b[38;5;241;43m.\u001b[39;49m\u001b[43m_raise_if_missing\u001b[49m\u001b[43m(\u001b[49m\u001b[43mkeyarr\u001b[49m\u001b[43m,\u001b[49m\u001b[43m \u001b[49m\u001b[43mindexer\u001b[49m\u001b[43m,\u001b[49m\u001b[43m \u001b[49m\u001b[43maxis_name\u001b[49m\u001b[43m)\u001b[49m\n\u001b[1;32m   6202\u001b[0m keyarr \u001b[38;5;241m=\u001b[39m \u001b[38;5;28mself\u001b[39m\u001b[38;5;241m.\u001b[39mtake(indexer)\n\u001b[1;32m   6203\u001b[0m \u001b[38;5;28;01mif\u001b[39;00m \u001b[38;5;28misinstance\u001b[39m(key, Index):\n\u001b[1;32m   6204\u001b[0m     \u001b[38;5;66;03m# GH 42790 - Preserve name from an Index\u001b[39;00m\n",
      "File \u001b[0;32m~/Desktop/potentiel_solaire/13_potentiel_solaire/algorithme/.venv/lib/python3.11/site-packages/pandas/core/indexes/base.py:6252\u001b[0m, in \u001b[0;36mIndex._raise_if_missing\u001b[0;34m(self, key, indexer, axis_name)\u001b[0m\n\u001b[1;32m   6249\u001b[0m     \u001b[38;5;28;01mraise\u001b[39;00m \u001b[38;5;167;01mKeyError\u001b[39;00m(\u001b[38;5;124mf\u001b[39m\u001b[38;5;124m\"\u001b[39m\u001b[38;5;124mNone of [\u001b[39m\u001b[38;5;132;01m{\u001b[39;00mkey\u001b[38;5;132;01m}\u001b[39;00m\u001b[38;5;124m] are in the [\u001b[39m\u001b[38;5;132;01m{\u001b[39;00maxis_name\u001b[38;5;132;01m}\u001b[39;00m\u001b[38;5;124m]\u001b[39m\u001b[38;5;124m\"\u001b[39m)\n\u001b[1;32m   6251\u001b[0m not_found \u001b[38;5;241m=\u001b[39m \u001b[38;5;28mlist\u001b[39m(ensure_index(key)[missing_mask\u001b[38;5;241m.\u001b[39mnonzero()[\u001b[38;5;241m0\u001b[39m]]\u001b[38;5;241m.\u001b[39munique())\n\u001b[0;32m-> 6252\u001b[0m \u001b[38;5;28;01mraise\u001b[39;00m \u001b[38;5;167;01mKeyError\u001b[39;00m(\u001b[38;5;124mf\u001b[39m\u001b[38;5;124m\"\u001b[39m\u001b[38;5;132;01m{\u001b[39;00mnot_found\u001b[38;5;132;01m}\u001b[39;00m\u001b[38;5;124m not in index\u001b[39m\u001b[38;5;124m\"\u001b[39m)\n",
      "\u001b[0;31mKeyError\u001b[0m: \"['st_areashape'] not in index\""
     ]
    }
   ],
   "source": [
    "if compare_with_idf:\n",
    "    batiments_a_auditer = solar_potential_of_schools_buildings.cleabs_bat.unique()\n",
    "    gspsdt = gspsdt_total[gspsdt_total.id.isin(batiments_a_auditer)]\n",
    "\n",
    "    gspsdt = gspsdt[[\"id\",\"st_areashape\",\"surf_util\",\"moyenne2\",\"production\"]]\n",
    "    comparaison = gspsdt.merge(solar_potential_of_schools_buildings[[\"cleabs_bat\",\"surface_totale_au_sol\",\"surface_utile\",\"potentiel_solaire\"]],\\\n",
    "             left_on='id', right_on='cleabs_bat', how=\"inner\")\n",
    "    \n",
    "    total_ecole         = comparaison.production.sum()\n",
    "    total_ecole_calcule = comparaison.potentiel_solaire.sum()\n",
    "    print(\"# Verification des potentiels pour:\",code_departement,\"\\n\")\n",
    "    print(\"* Verification effectuée sur:\",len(comparaison),\"batiments.\")\n",
    "    print(\"* BDD Potentiel solaire\\t\",int(total_ecole),\"kWh/an\")\n",
    "    print(\"* Estimation ordre 0\\t\",int(total_ecole_calcule),\"kWh/an\")\n",
<<<<<<< Updated upstream
    "    print(\"* Tentative accuracy\\t\",int((total_ecole_calcule-total_ecole)/total_ecole*100),\"%\")"
   ],
   "outputs": [],
   "execution_count": null
=======
    "    print(\"* Tentative accuracy\\t\",int(total_ecole/total_ecole_calcule*100),\"%\")"
   ]
<<<<<<< Updated upstream
>>>>>>> Stashed changes
  },
  {
   "metadata": {},
   "cell_type": "code",
   "source": [
    "if compare_with_idf:\n",
    "    lack = len(batiments_a_auditer)-len(gspsdt)\n",
    "    print(\"* There are\",len(batiments_a_auditer),\"batiments in\",code_departement)\n",
    "    print(\"* There are\",len(gspsdt),\"batiments in the solar potential database for these buildings\")\n",
    "    print(\"* Coverage of that DB (%):\",100*len(gspsdt)/len(batiments_a_auditer))"
   ],
   "id": "c7f95c0be8658f47",
   "outputs": [],
   "execution_count": null
  },
  {
   "cell_type": "code",
<<<<<<< Updated upstream
   "id": "449c3c49-fe02-4056-833e-85cdb9cce175",
=======
   "execution_count": 23,
   "id": "958ef0aa",
>>>>>>> Stashed changes
   "metadata": {},
   "outputs": [
    {
     "name": "stdout",
     "output_type": "stream",
     "text": [
      "* There are 3686 batiments in 093\n",
      "* There are 0 batiments in the solar potential database for these buildings\n",
      "* Coverage of that DB (%): 0.0\n"
     ]
    }
   ],
   "source": [
<<<<<<< Updated upstream
    "def scatter_plot(df, column_x, column_y):\n",
    "    x = df[column_x]\n",
    "    y = df[column_y]\n",
    "    minimum = min(df[column_x].min(), df[column_y].min())\n",
    "    maximum = max(df[column_x].max(), df[column_y].max())\n",
    "    plt.scatter(x, y)\n",
    "    plt.plot([minimum, maximum], [minimum, maximum], color='red', linestyle='--')\n",
    "    plt.title(f\"Compare {column_x} with {column_y}\")\n",
    "    plt.xlabel(f\"{column_x}\")\n",
    "    plt.ylabel(f\"{column_y}\")\n",
    "    plt.show()"
   ],
   "outputs": [],
   "execution_count": null
=======
>>>>>>> Stashed changes
  },
  {
   "cell_type": "code",
<<<<<<< Updated upstream
   "id": "6480ce6b68c32610",
=======
=======
   "execution_count": 23,
   "id": "958ef0aa",
   "metadata": {},
   "outputs": [
    {
     "name": "stdout",
     "output_type": "stream",
     "text": [
      "* There are 3686 batiments in 093\n",
      "* There are 0 batiments in the solar potential database for these buildings\n",
      "* Coverage of that DB (%): 0.0\n"
     ]
    }
   ],
   "source": [
>>>>>>> Stashed changes
    "lack = len(batiments_a_auditer)-len(gspsdt)\n",
    "print(\"* There are\",len(batiments_a_auditer),\"batiments in\",code_departement)\n",
    "print(\"* There are\",len(gspsdt),\"batiments in the solar potential database for these buildings\")\n",
    "print(\"* Coverage of that DB (%):\",100*len(gspsdt)/len(batiments_a_auditer))"
   ]
<<<<<<< Updated upstream
  },
  {
   "cell_type": "code",
   "execution_count": 24,
   "id": "5d2a1e76",
>>>>>>> Stashed changes
   "metadata": {},
   "outputs": [
    {
     "name": "stdout",
     "output_type": "stream",
     "text": [
      "* Duplicate rate for buildings in output (%): 2.3854194585901904\n"
     ]
    },
    {
     "data": {
      "text/html": [
       "<div>\n",
       "<style scoped>\n",
       "    .dataframe tbody tr th:only-of-type {\n",
       "        vertical-align: middle;\n",
       "    }\n",
       "\n",
       "    .dataframe tbody tr th {\n",
       "        vertical-align: top;\n",
       "    }\n",
       "\n",
       "    .dataframe thead th {\n",
       "        text-align: right;\n",
       "    }\n",
       "</style>\n",
       "<table border=\"1\" class=\"dataframe\">\n",
       "  <thead>\n",
       "    <tr style=\"text-align: right;\">\n",
       "      <th></th>\n",
       "      <th>cleabs_bat</th>\n",
       "      <th>cleabs_zone</th>\n",
       "    </tr>\n",
       "  </thead>\n",
       "  <tbody>\n",
       "    <tr>\n",
       "      <th>0</th>\n",
       "      <td>BATIMENT0000000002670922</td>\n",
       "      <td>SURFACTI0000000002555817</td>\n",
       "    </tr>\n",
       "    <tr>\n",
       "      <th>1</th>\n",
       "      <td>BATIMENT0000000002670922</td>\n",
       "      <td>SURFACTI0000000002555819</td>\n",
       "    </tr>\n",
       "    <tr>\n",
       "      <th>2</th>\n",
       "      <td>BATIMENT0000000002715271</td>\n",
       "      <td>SURFACTI0000000002556088</td>\n",
       "    </tr>\n",
       "    <tr>\n",
       "      <th>3</th>\n",
       "      <td>BATIMENT0000000002715271</td>\n",
       "      <td>SURFACTI0000000002556091</td>\n",
       "    </tr>\n",
       "    <tr>\n",
       "      <th>4</th>\n",
       "      <td>BATIMENT0000000242884145</td>\n",
       "      <td>SURFACTI0000002244506721</td>\n",
       "    </tr>\n",
       "    <tr>\n",
       "      <th>...</th>\n",
       "      <td>...</td>\n",
       "      <td>...</td>\n",
       "    </tr>\n",
       "    <tr>\n",
       "      <th>84</th>\n",
       "      <td>BATIMENT0000000356502312</td>\n",
       "      <td>SURFACTI0000000002555977</td>\n",
       "    </tr>\n",
       "    <tr>\n",
       "      <th>85</th>\n",
       "      <td>BATIMENT0000002011622488</td>\n",
       "      <td>SURFACTI0000000296813125</td>\n",
       "    </tr>\n",
       "    <tr>\n",
       "      <th>86</th>\n",
       "      <td>BATIMENT0000002011622488</td>\n",
       "      <td>SURFACTI0000000002555703</td>\n",
       "    </tr>\n",
       "    <tr>\n",
       "      <th>87</th>\n",
       "      <td>BATIMENT0000002275259102</td>\n",
       "      <td>SURFACTI0000000002555771</td>\n",
       "    </tr>\n",
       "    <tr>\n",
       "      <th>88</th>\n",
       "      <td>BATIMENT0000002275259102</td>\n",
       "      <td>SURFACTI0000002244506721</td>\n",
       "    </tr>\n",
       "  </tbody>\n",
       "</table>\n",
       "<p>89 rows × 2 columns</p>\n",
       "</div>"
      ],
      "text/plain": [
       "                  cleabs_bat               cleabs_zone\n",
       "0   BATIMENT0000000002670922  SURFACTI0000000002555817\n",
       "1   BATIMENT0000000002670922  SURFACTI0000000002555819\n",
       "2   BATIMENT0000000002715271  SURFACTI0000000002556088\n",
       "3   BATIMENT0000000002715271  SURFACTI0000000002556091\n",
       "4   BATIMENT0000000242884145  SURFACTI0000002244506721\n",
       "..                       ...                       ...\n",
       "84  BATIMENT0000000356502312  SURFACTI0000000002555977\n",
       "85  BATIMENT0000002011622488  SURFACTI0000000296813125\n",
       "86  BATIMENT0000002011622488  SURFACTI0000000002555703\n",
       "87  BATIMENT0000002275259102  SURFACTI0000000002555771\n",
       "88  BATIMENT0000002275259102  SURFACTI0000002244506721\n",
       "\n",
       "[89 rows x 2 columns]"
      ]
     },
     "execution_count": 24,
     "metadata": {},
     "output_type": "execute_result"
    }
   ],
   "source": [
<<<<<<< Updated upstream
    "if compare_with_idf:\n",
    "    scatter_plot(comparaison, \"surf_util\", \"surface_utile\")"
   ],
   "outputs": [],
   "execution_count": null
  },
  {
   "cell_type": "code",
   "id": "c7066b620822f349",
=======
=======
  },
  {
   "cell_type": "code",
   "execution_count": 24,
   "id": "5d2a1e76",
   "metadata": {},
   "outputs": [
    {
     "name": "stdout",
     "output_type": "stream",
     "text": [
      "* Duplicate rate for buildings in output (%): 2.3854194585901904\n"
     ]
    },
    {
     "data": {
      "text/html": [
       "<div>\n",
       "<style scoped>\n",
       "    .dataframe tbody tr th:only-of-type {\n",
       "        vertical-align: middle;\n",
       "    }\n",
       "\n",
       "    .dataframe tbody tr th {\n",
       "        vertical-align: top;\n",
       "    }\n",
       "\n",
       "    .dataframe thead th {\n",
       "        text-align: right;\n",
       "    }\n",
       "</style>\n",
       "<table border=\"1\" class=\"dataframe\">\n",
       "  <thead>\n",
       "    <tr style=\"text-align: right;\">\n",
       "      <th></th>\n",
       "      <th>cleabs_bat</th>\n",
       "      <th>cleabs_zone</th>\n",
       "    </tr>\n",
       "  </thead>\n",
       "  <tbody>\n",
       "    <tr>\n",
       "      <th>0</th>\n",
       "      <td>BATIMENT0000000002670922</td>\n",
       "      <td>SURFACTI0000000002555817</td>\n",
       "    </tr>\n",
       "    <tr>\n",
       "      <th>1</th>\n",
       "      <td>BATIMENT0000000002670922</td>\n",
       "      <td>SURFACTI0000000002555819</td>\n",
       "    </tr>\n",
       "    <tr>\n",
       "      <th>2</th>\n",
       "      <td>BATIMENT0000000002715271</td>\n",
       "      <td>SURFACTI0000000002556088</td>\n",
       "    </tr>\n",
       "    <tr>\n",
       "      <th>3</th>\n",
       "      <td>BATIMENT0000000002715271</td>\n",
       "      <td>SURFACTI0000000002556091</td>\n",
       "    </tr>\n",
       "    <tr>\n",
       "      <th>4</th>\n",
       "      <td>BATIMENT0000000242884145</td>\n",
       "      <td>SURFACTI0000002244506721</td>\n",
       "    </tr>\n",
       "    <tr>\n",
       "      <th>...</th>\n",
       "      <td>...</td>\n",
       "      <td>...</td>\n",
       "    </tr>\n",
       "    <tr>\n",
       "      <th>84</th>\n",
       "      <td>BATIMENT0000000356502312</td>\n",
       "      <td>SURFACTI0000000002555977</td>\n",
       "    </tr>\n",
       "    <tr>\n",
       "      <th>85</th>\n",
       "      <td>BATIMENT0000002011622488</td>\n",
       "      <td>SURFACTI0000000296813125</td>\n",
       "    </tr>\n",
       "    <tr>\n",
       "      <th>86</th>\n",
       "      <td>BATIMENT0000002011622488</td>\n",
       "      <td>SURFACTI0000000002555703</td>\n",
       "    </tr>\n",
       "    <tr>\n",
       "      <th>87</th>\n",
       "      <td>BATIMENT0000002275259102</td>\n",
       "      <td>SURFACTI0000000002555771</td>\n",
       "    </tr>\n",
       "    <tr>\n",
       "      <th>88</th>\n",
       "      <td>BATIMENT0000002275259102</td>\n",
       "      <td>SURFACTI0000002244506721</td>\n",
       "    </tr>\n",
       "  </tbody>\n",
       "</table>\n",
       "<p>89 rows × 2 columns</p>\n",
       "</div>"
      ],
      "text/plain": [
       "                  cleabs_bat               cleabs_zone\n",
       "0   BATIMENT0000000002670922  SURFACTI0000000002555817\n",
       "1   BATIMENT0000000002670922  SURFACTI0000000002555819\n",
       "2   BATIMENT0000000002715271  SURFACTI0000000002556088\n",
       "3   BATIMENT0000000002715271  SURFACTI0000000002556091\n",
       "4   BATIMENT0000000242884145  SURFACTI0000002244506721\n",
       "..                       ...                       ...\n",
       "84  BATIMENT0000000356502312  SURFACTI0000000002555977\n",
       "85  BATIMENT0000002011622488  SURFACTI0000000296813125\n",
       "86  BATIMENT0000002011622488  SURFACTI0000000002555703\n",
       "87  BATIMENT0000002275259102  SURFACTI0000000002555771\n",
       "88  BATIMENT0000002275259102  SURFACTI0000002244506721\n",
       "\n",
       "[89 rows x 2 columns]"
      ]
     },
     "execution_count": 24,
     "metadata": {},
     "output_type": "execute_result"
    }
   ],
   "source": [
>>>>>>> Stashed changes
    "dupes = solar_potential_of_schools_buildings[solar_potential_of_schools_buildings.duplicated(subset=[\"cleabs_bat\"],keep=False)]\n",
    "dupes = dupes.sort_values(by=[\"cleabs_bat\"]).reset_index(drop=True)\n",
    "print(\"* Duplicate rate for buildings in output (%):\",100*len(dupes)/len(solar_potential_of_schools_buildings))\n",
    "dupes[[\"cleabs_bat\",\"cleabs_zone\"]]"
   ]
  },
  {
   "cell_type": "code",
   "execution_count": 25,
   "id": "05a804a9",
>>>>>>> Stashed changes
   "metadata": {},
   "outputs": [
    {
     "data": {
      "text/plain": [
       "(3731, 3686)"
      ]
     },
     "execution_count": 25,
     "metadata": {},
     "output_type": "execute_result"
    }
   ],
   "source": [
<<<<<<< Updated upstream
<<<<<<< Updated upstream
    "if compare_with_idf:\n",
    "    scatter_plot(comparaison, \"production\", \"potentiel_solaire\")"
   ],
   "outputs": [],
   "execution_count": null
=======
=======
>>>>>>> Stashed changes
    "len(solar_potential_of_schools_buildings),len(solar_potential_of_schools_buildings.cleabs_bat.unique())"
   ]
  },
  {
   "cell_type": "code",
   "execution_count": 26,
   "id": "c0101590",
   "metadata": {},
   "outputs": [
    {
     "data": {
      "text/plain": [
       "0"
      ]
     },
     "execution_count": 26,
     "metadata": {},
     "output_type": "execute_result"
    }
   ],
   "source": [
    "len(gspsdt_total[gspsdt_total.id.isin(batiments_a_auditer)])"
   ]
  },
  {
   "cell_type": "markdown",
   "id": "363dff224bfb7766",
   "metadata": {},
   "source": [
    "# Checks sur la qualité des données & calculs"
   ]
  },
  {
   "cell_type": "code",
   "execution_count": 27,
   "id": "46d41149e1faf14f",
   "metadata": {},
   "outputs": [
    {
     "name": "stdout",
     "output_type": "stream",
     "text": [
      "Nb d'établissements scolaires avec des batiments: 445 (39%)\n"
     ]
    }
   ],
   "source": [
    "nb_schools_with_buildings = len(schools_buildings.identifiant_de_l_etablissement.unique())\n",
    "print(\"Nb d'établissements scolaires avec des batiments: {} ({}%)\".format(\n",
    "    nb_schools_with_buildings,\n",
    "    round(100 * nb_schools_with_buildings / nb_schools)\n",
    "))"
   ]
<<<<<<< Updated upstream
>>>>>>> Stashed changes
=======
>>>>>>> Stashed changes
  }
 ],
 "metadata": {
  "kernelspec": {
   "display_name": "Python 3 (ipykernel)",
   "language": "python",
   "name": "python3"
  },
  "language_info": {
   "codemirror_mode": {
    "name": "ipython",
    "version": 3
   },
   "file_extension": ".py",
   "mimetype": "text/x-python",
   "name": "python",
   "nbconvert_exporter": "python",
   "pygments_lexer": "ipython3",
<<<<<<< Updated upstream
<<<<<<< Updated upstream
   "version": "3.11.9"
=======
   "version": "3.11.7"
>>>>>>> Stashed changes
=======
   "version": "3.11.7"
>>>>>>> Stashed changes
  }
 },
 "nbformat": 4,
 "nbformat_minor": 5
}
