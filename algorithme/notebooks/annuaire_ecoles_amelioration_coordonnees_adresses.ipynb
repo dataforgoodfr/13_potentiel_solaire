{
 "cells": [
  {
   "cell_type": "markdown",
   "id": "87333689",
   "metadata": {},
   "source": [
    "# Amélioration des coordonnées & adresses de l'annuaire des écoles\n",
    "**Objectifs :**\n",
    "- Améliorer la qualité des coordonnées des établissements scolaires (champs geom de la table etablissements)\n",
    "- Bonus : meilleure complétude des champs liés à l'adresse des établissements scolaires (notamment le champs adresse_3 de la table etablissements)\n",
    "\n",
    "**Livrables :** \n",
    "- Estimer le nb / % d'établissements scolaires pour lesquels coordonnées & adresses semblent incohérents\n",
    "- Script python avec la logique permettant l'amélioration de la qualité des données de l'annuaire\n",
    "- Optionnel : migration alembic pour mettre à jour la base de données potentiel_solaire.duckdb (@machbry s'en occupera si besoin)"
   ]
  },
  {
   "cell_type": "markdown",
   "id": "f135fd97",
   "metadata": {},
   "source": [
    "## Python stuff"
   ]
  },
  {
   "cell_type": "code",
   "execution_count": 1,
   "id": "ca7b224c",
   "metadata": {},
   "outputs": [],
   "source": [
    "import requests\n",
    "import pandas as pd\n",
    "import geopandas as gpd\n",
    "from typing import Optional\n",
    "import plotly.express as px\n",
    "from shapely.geometry import Point\n",
    "from potentiel_solaire.constants import DATA_FOLDER\n",
    "from potentiel_solaire.database.queries import get_connection"
   ]
  },
  {
   "cell_type": "markdown",
   "id": "3660f57f",
   "metadata": {},
   "source": [
    "## 1 - Chargement des données et exploration des données\n",
    "> Code de l'import des données est fourni dans l'[issue 245](https://github.com/dataforgoodfr/13_potentiel_solaire/issues/245)."
   ]
  },
  {
   "cell_type": "markdown",
   "id": "6c5e492a",
   "metadata": {},
   "source": [
    "### 1.1 - Chargement des données"
   ]
  },
  {
   "cell_type": "code",
   "execution_count": 2,
   "id": "75221a6e",
   "metadata": {},
   "outputs": [
    {
     "data": {
      "application/vnd.jupyter.widget-view+json": {
       "model_id": "07c2c456be884ec6bfaf6ca2376ae2e4",
       "version_major": 2,
       "version_minor": 0
      },
      "text/plain": [
       "FloatProgress(value=0.0, layout=Layout(width='auto'), style=ProgressStyle(bar_color='black'))"
      ]
     },
     "metadata": {},
     "output_type": "display_data"
    }
   ],
   "source": [
    "# Export des etablissements au format des .geojson\n",
    "output_path = f\"{DATA_FOLDER}/etablissements.geojson\"\n",
    "\n",
    "with get_connection() as conn:\n",
    "    export_query = f\"\"\"\n",
    "        COPY (\n",
    "        SELECT *\n",
    "        FROM\n",
    "            etablissements\n",
    "        ) TO '{output_path}' WITH (FORMAT GDAL, DRIVER 'GeoJSON', LAYER_NAME 'Etablissements')\n",
    "    \"\"\"\n",
    "\n",
    "    conn.query(export_query)"
   ]
  },
  {
   "cell_type": "code",
   "execution_count": 3,
   "id": "39662b17",
   "metadata": {},
   "outputs": [],
   "source": [
    "# Lecture du fichier GeoJSON\n",
    "use_cols = [\n",
    "    \"identifiant_de_l_etablissement\", \n",
    "    \"nom_etablissement\", \n",
    "    \"code_commune\", \n",
    "    \"adresse_1\", \n",
    "    \"adresse_2\", \n",
    "    \"adresse_3\", \n",
    "    \"code_postal\", \n",
    "    \"identifiant_topo_zone_rattachee\", \n",
    "    \"geometry\"\n",
    "]\n",
    "etablissements = gpd.read_file(output_path)\n",
    "f_etablissements = etablissements[use_cols]"
   ]
  },
  {
   "cell_type": "markdown",
   "id": "9180e68c",
   "metadata": {},
   "source": [
    "### 1.2 - Exploration rapide des données"
   ]
  },
  {
   "cell_type": "code",
   "execution_count": 4,
   "id": "550986d8",
   "metadata": {},
   "outputs": [
    {
     "name": "stdout",
     "output_type": "stream",
     "text": [
      "--> 52546 établissements scolaires chargés.\n",
      "--> Projection spatiale : EPSG:4326\n"
     ]
    },
    {
     "data": {
      "text/html": [
       "<div>\n",
       "<style scoped>\n",
       "    .dataframe tbody tr th:only-of-type {\n",
       "        vertical-align: middle;\n",
       "    }\n",
       "\n",
       "    .dataframe tbody tr th {\n",
       "        vertical-align: top;\n",
       "    }\n",
       "\n",
       "    .dataframe thead th {\n",
       "        text-align: right;\n",
       "    }\n",
       "</style>\n",
       "<table border=\"1\" class=\"dataframe\">\n",
       "  <thead>\n",
       "    <tr style=\"text-align: right;\">\n",
       "      <th></th>\n",
       "      <th>identifiant_de_l_etablissement</th>\n",
       "      <th>nom_etablissement</th>\n",
       "      <th>code_commune</th>\n",
       "      <th>adresse_1</th>\n",
       "      <th>adresse_2</th>\n",
       "      <th>adresse_3</th>\n",
       "      <th>code_postal</th>\n",
       "      <th>identifiant_topo_zone_rattachee</th>\n",
       "      <th>geometry</th>\n",
       "    </tr>\n",
       "  </thead>\n",
       "  <tbody>\n",
       "    <tr>\n",
       "      <th>0</th>\n",
       "      <td>0631701G</td>\n",
       "      <td>Ecole maternelle Jean Alix</td>\n",
       "      <td>63284</td>\n",
       "      <td>Chemin DU MOULIN</td>\n",
       "      <td>None</td>\n",
       "      <td>63430 PONT DU CHATEAU</td>\n",
       "      <td>63430</td>\n",
       "      <td>None</td>\n",
       "      <td>POINT (3.25496 45.79291)</td>\n",
       "    </tr>\n",
       "    <tr>\n",
       "      <th>1</th>\n",
       "      <td>0631702H</td>\n",
       "      <td>Ecole maternelle Montjoie</td>\n",
       "      <td>63471</td>\n",
       "      <td>7 rue de Montjoie</td>\n",
       "      <td>None</td>\n",
       "      <td>63700 YOUX</td>\n",
       "      <td>63700</td>\n",
       "      <td>None</td>\n",
       "      <td>POINT (2.81888 46.1339)</td>\n",
       "    </tr>\n",
       "    <tr>\n",
       "      <th>2</th>\n",
       "      <td>0631743C</td>\n",
       "      <td>Ecole élémentaire René Cassin</td>\n",
       "      <td>63300</td>\n",
       "      <td>Avenue du Général de Gaulle</td>\n",
       "      <td>None</td>\n",
       "      <td>63200 RIOM</td>\n",
       "      <td>63200</td>\n",
       "      <td>None</td>\n",
       "      <td>POINT (3.10421 45.88063)</td>\n",
       "    </tr>\n",
       "    <tr>\n",
       "      <th>3</th>\n",
       "      <td>0631756S</td>\n",
       "      <td>Ecole maternelle George Sand</td>\n",
       "      <td>63113</td>\n",
       "      <td>Rue de Neyrat</td>\n",
       "      <td>None</td>\n",
       "      <td>63100 CLERMONT FERRAND</td>\n",
       "      <td>63100</td>\n",
       "      <td>None</td>\n",
       "      <td>POINT (3.10179 45.81044)</td>\n",
       "    </tr>\n",
       "    <tr>\n",
       "      <th>4</th>\n",
       "      <td>0631757T</td>\n",
       "      <td>Ecole élémentaire George Sand</td>\n",
       "      <td>63113</td>\n",
       "      <td>71 rue de Neyrat</td>\n",
       "      <td>None</td>\n",
       "      <td>63000 CLERMONT FERRAND</td>\n",
       "      <td>63000</td>\n",
       "      <td>None</td>\n",
       "      <td>POINT (3.10282 45.80544)</td>\n",
       "    </tr>\n",
       "  </tbody>\n",
       "</table>\n",
       "</div>"
      ],
      "text/plain": [
       "  identifiant_de_l_etablissement              nom_etablissement code_commune  \\\n",
       "0                       0631701G     Ecole maternelle Jean Alix        63284   \n",
       "1                       0631702H      Ecole maternelle Montjoie        63471   \n",
       "2                       0631743C  Ecole élémentaire René Cassin        63300   \n",
       "3                       0631756S   Ecole maternelle George Sand        63113   \n",
       "4                       0631757T  Ecole élémentaire George Sand        63113   \n",
       "\n",
       "                     adresse_1 adresse_2               adresse_3 code_postal  \\\n",
       "0             Chemin DU MOULIN      None   63430 PONT DU CHATEAU       63430   \n",
       "1            7 rue de Montjoie      None              63700 YOUX       63700   \n",
       "2  Avenue du Général de Gaulle      None              63200 RIOM       63200   \n",
       "3                Rue de Neyrat      None  63100 CLERMONT FERRAND       63100   \n",
       "4             71 rue de Neyrat      None  63000 CLERMONT FERRAND       63000   \n",
       "\n",
       "  identifiant_topo_zone_rattachee                  geometry  \n",
       "0                            None  POINT (3.25496 45.79291)  \n",
       "1                            None   POINT (2.81888 46.1339)  \n",
       "2                            None  POINT (3.10421 45.88063)  \n",
       "3                            None  POINT (3.10179 45.81044)  \n",
       "4                            None  POINT (3.10282 45.80544)  "
      ]
     },
     "execution_count": 4,
     "metadata": {},
     "output_type": "execute_result"
    }
   ],
   "source": [
    "print(f\"--> {f_etablissements.shape[0]} établissements scolaires chargés.\")\n",
    "print(f\"--> Projection spatiale : {f_etablissements.crs}\")\n",
    "f_etablissements.head()"
   ]
  },
  {
   "cell_type": "code",
   "execution_count": 5,
   "id": "ffd4c5c1",
   "metadata": {},
   "outputs": [
    {
     "name": "stdout",
     "output_type": "stream",
     "text": [
      "<class 'geopandas.geodataframe.GeoDataFrame'>\n",
      "RangeIndex: 52546 entries, 0 to 52545\n",
      "Data columns (total 9 columns):\n",
      " #   Column                           Non-Null Count  Dtype   \n",
      "---  ------                           --------------  -----   \n",
      " 0   identifiant_de_l_etablissement   52546 non-null  object  \n",
      " 1   nom_etablissement                52546 non-null  object  \n",
      " 2   code_commune                     52546 non-null  object  \n",
      " 3   adresse_1                        52531 non-null  object  \n",
      " 4   adresse_2                        10365 non-null  object  \n",
      " 5   adresse_3                        44558 non-null  object  \n",
      " 6   code_postal                      52546 non-null  object  \n",
      " 7   identifiant_topo_zone_rattachee  0 non-null      object  \n",
      " 8   geometry                         52539 non-null  geometry\n",
      "dtypes: geometry(1), object(8)\n",
      "memory usage: 3.6+ MB\n"
     ]
    }
   ],
   "source": [
    "f_etablissements.info()"
   ]
  },
  {
   "cell_type": "markdown",
   "id": "d581c2bd",
   "metadata": {},
   "source": [
    "### 1.3 - Les adresses/geometrie vide"
   ]
  },
  {
   "cell_type": "code",
   "execution_count": 6,
   "id": "2da446c5",
   "metadata": {},
   "outputs": [
    {
     "data": {
      "text/html": [
       "<div>\n",
       "<style scoped>\n",
       "    .dataframe tbody tr th:only-of-type {\n",
       "        vertical-align: middle;\n",
       "    }\n",
       "\n",
       "    .dataframe tbody tr th {\n",
       "        vertical-align: top;\n",
       "    }\n",
       "\n",
       "    .dataframe thead th {\n",
       "        text-align: right;\n",
       "    }\n",
       "</style>\n",
       "<table border=\"1\" class=\"dataframe\">\n",
       "  <thead>\n",
       "    <tr style=\"text-align: right;\">\n",
       "      <th></th>\n",
       "      <th>identifiant_de_l_etablissement</th>\n",
       "      <th>nom_etablissement</th>\n",
       "      <th>code_commune</th>\n",
       "      <th>adresse_1</th>\n",
       "      <th>adresse_2</th>\n",
       "      <th>adresse_3</th>\n",
       "      <th>code_postal</th>\n",
       "      <th>identifiant_topo_zone_rattachee</th>\n",
       "      <th>geometry</th>\n",
       "    </tr>\n",
       "  </thead>\n",
       "  <tbody>\n",
       "    <tr>\n",
       "      <th>30173</th>\n",
       "      <td>9730606W</td>\n",
       "      <td>SEGPA CLG REMIRE-MONTJOLY III</td>\n",
       "      <td>97309</td>\n",
       "      <td>7 avenue L.G. DAMAS, Eco Quartier Geor</td>\n",
       "      <td>None</td>\n",
       "      <td>97354 REMIRE MONTJOLY</td>\n",
       "      <td>97354</td>\n",
       "      <td>None</td>\n",
       "      <td>None</td>\n",
       "    </tr>\n",
       "    <tr>\n",
       "      <th>30809</th>\n",
       "      <td>0741834S</td>\n",
       "      <td>Section d'enseignement générale et professionn...</td>\n",
       "      <td>74229</td>\n",
       "      <td>525 chemin de la fondue</td>\n",
       "      <td>None</td>\n",
       "      <td>74140 ST CERGUES</td>\n",
       "      <td>74140</td>\n",
       "      <td>None</td>\n",
       "      <td>None</td>\n",
       "    </tr>\n",
       "    <tr>\n",
       "      <th>31144</th>\n",
       "      <td>0342605X</td>\n",
       "      <td>Lycée Polyvalent de Cournonterral</td>\n",
       "      <td>34088</td>\n",
       "      <td>2 avenue Cynisca</td>\n",
       "      <td>None</td>\n",
       "      <td>34660 COURNONTERRAL</td>\n",
       "      <td>34660</td>\n",
       "      <td>None</td>\n",
       "      <td>None</td>\n",
       "    </tr>\n",
       "    <tr>\n",
       "      <th>31145</th>\n",
       "      <td>0342608A</td>\n",
       "      <td>Section d'enseignement professionnel du Lycée ...</td>\n",
       "      <td>34088</td>\n",
       "      <td>2 avenue Cynisca</td>\n",
       "      <td>None</td>\n",
       "      <td>34660 COURNONTERRAL</td>\n",
       "      <td>34660</td>\n",
       "      <td>None</td>\n",
       "      <td>None</td>\n",
       "    </tr>\n",
       "    <tr>\n",
       "      <th>31811</th>\n",
       "      <td>9741966U</td>\n",
       "      <td>Ecole maternelle publique de Beauséjour Sainte...</td>\n",
       "      <td>97418</td>\n",
       "      <td>Quartier de Beauséjour</td>\n",
       "      <td>None</td>\n",
       "      <td>97438 STE MARIE</td>\n",
       "      <td>97438</td>\n",
       "      <td>None</td>\n",
       "      <td>None</td>\n",
       "    </tr>\n",
       "    <tr>\n",
       "      <th>45976</th>\n",
       "      <td>0741835T</td>\n",
       "      <td>Collège de la Géline - Vetraz-Monthoux</td>\n",
       "      <td>74298</td>\n",
       "      <td>Chemin des Fontaines</td>\n",
       "      <td>None</td>\n",
       "      <td>None</td>\n",
       "      <td>74100</td>\n",
       "      <td>None</td>\n",
       "      <td>None</td>\n",
       "    </tr>\n",
       "    <tr>\n",
       "      <th>51598</th>\n",
       "      <td>0741833R</td>\n",
       "      <td>Collège de Saint-Cergues</td>\n",
       "      <td>74229</td>\n",
       "      <td>Route du Bourgeau</td>\n",
       "      <td>None</td>\n",
       "      <td>None</td>\n",
       "      <td>74140</td>\n",
       "      <td>None</td>\n",
       "      <td>None</td>\n",
       "    </tr>\n",
       "  </tbody>\n",
       "</table>\n",
       "</div>"
      ],
      "text/plain": [
       "      identifiant_de_l_etablissement  \\\n",
       "30173                       9730606W   \n",
       "30809                       0741834S   \n",
       "31144                       0342605X   \n",
       "31145                       0342608A   \n",
       "31811                       9741966U   \n",
       "45976                       0741835T   \n",
       "51598                       0741833R   \n",
       "\n",
       "                                       nom_etablissement code_commune  \\\n",
       "30173                      SEGPA CLG REMIRE-MONTJOLY III        97309   \n",
       "30809  Section d'enseignement générale et professionn...        74229   \n",
       "31144                  Lycée Polyvalent de Cournonterral        34088   \n",
       "31145  Section d'enseignement professionnel du Lycée ...        34088   \n",
       "31811  Ecole maternelle publique de Beauséjour Sainte...        97418   \n",
       "45976             Collège de la Géline - Vetraz-Monthoux        74298   \n",
       "51598                           Collège de Saint-Cergues        74229   \n",
       "\n",
       "                                    adresse_1 adresse_2  \\\n",
       "30173  7 avenue L.G. DAMAS, Eco Quartier Geor      None   \n",
       "30809                 525 chemin de la fondue      None   \n",
       "31144                        2 avenue Cynisca      None   \n",
       "31145                        2 avenue Cynisca      None   \n",
       "31811                  Quartier de Beauséjour      None   \n",
       "45976                    Chemin des Fontaines      None   \n",
       "51598                       Route du Bourgeau      None   \n",
       "\n",
       "                   adresse_3 code_postal identifiant_topo_zone_rattachee  \\\n",
       "30173  97354 REMIRE MONTJOLY       97354                            None   \n",
       "30809       74140 ST CERGUES       74140                            None   \n",
       "31144    34660 COURNONTERRAL       34660                            None   \n",
       "31145    34660 COURNONTERRAL       34660                            None   \n",
       "31811        97438 STE MARIE       97438                            None   \n",
       "45976                   None       74100                            None   \n",
       "51598                   None       74140                            None   \n",
       "\n",
       "      geometry  \n",
       "30173     None  \n",
       "30809     None  \n",
       "31144     None  \n",
       "31145     None  \n",
       "31811     None  \n",
       "45976     None  \n",
       "51598     None  "
      ]
     },
     "execution_count": 6,
     "metadata": {},
     "output_type": "execute_result"
    }
   ],
   "source": [
    "# Géometrie null --> piste de remplissage geocodage de la BAN\n",
    "f_etablissements[f_etablissements[\"geometry\"].isnull()]"
   ]
  },
  {
   "cell_type": "markdown",
   "id": "989ba361",
   "metadata": {},
   "source": [
    "> Proposition : remplir les données vie geocodage par la BAN"
   ]
  },
  {
   "cell_type": "code",
   "execution_count": 7,
   "id": "c65868e9",
   "metadata": {},
   "outputs": [
    {
     "data": {
      "text/html": [
       "<div>\n",
       "<style scoped>\n",
       "    .dataframe tbody tr th:only-of-type {\n",
       "        vertical-align: middle;\n",
       "    }\n",
       "\n",
       "    .dataframe tbody tr th {\n",
       "        vertical-align: top;\n",
       "    }\n",
       "\n",
       "    .dataframe thead th {\n",
       "        text-align: right;\n",
       "    }\n",
       "</style>\n",
       "<table border=\"1\" class=\"dataframe\">\n",
       "  <thead>\n",
       "    <tr style=\"text-align: right;\">\n",
       "      <th></th>\n",
       "      <th>identifiant_de_l_etablissement</th>\n",
       "      <th>nom_etablissement</th>\n",
       "      <th>code_commune</th>\n",
       "      <th>adresse_1</th>\n",
       "      <th>adresse_2</th>\n",
       "      <th>adresse_3</th>\n",
       "      <th>code_postal</th>\n",
       "      <th>identifiant_topo_zone_rattachee</th>\n",
       "      <th>geometry</th>\n",
       "    </tr>\n",
       "  </thead>\n",
       "  <tbody>\n",
       "    <tr>\n",
       "      <th>11600</th>\n",
       "      <td>9760206V</td>\n",
       "      <td>Lycée agricole de Coconi</td>\n",
       "      <td>97614</td>\n",
       "      <td>None</td>\n",
       "      <td>BP 02</td>\n",
       "      <td>None</td>\n",
       "      <td>97670</td>\n",
       "      <td>None</td>\n",
       "      <td>POINT (45.13416 -12.83958)</td>\n",
       "    </tr>\n",
       "    <tr>\n",
       "      <th>13466</th>\n",
       "      <td>0291758D</td>\n",
       "      <td>Centre d'instruction naval Ecole de Maistrance</td>\n",
       "      <td>29019</td>\n",
       "      <td>None</td>\n",
       "      <td>BP 300</td>\n",
       "      <td>29240 BREST CEDEX 9</td>\n",
       "      <td>29240</td>\n",
       "      <td>None</td>\n",
       "      <td>POINT (-4.48606 48.39043)</td>\n",
       "    </tr>\n",
       "    <tr>\n",
       "      <th>27398</th>\n",
       "      <td>9760543L</td>\n",
       "      <td>Ecole élémentaire publique de Iloni T12</td>\n",
       "      <td>97607</td>\n",
       "      <td>None</td>\n",
       "      <td>None</td>\n",
       "      <td>97660 DEMBENI</td>\n",
       "      <td>97660</td>\n",
       "      <td>None</td>\n",
       "      <td>POINT (45.18777 -12.84673)</td>\n",
       "    </tr>\n",
       "    <tr>\n",
       "      <th>27966</th>\n",
       "      <td>9760244L</td>\n",
       "      <td>Collège Frédéric d'Achery</td>\n",
       "      <td>97610</td>\n",
       "      <td>None</td>\n",
       "      <td>None</td>\n",
       "      <td>None</td>\n",
       "      <td>97690</td>\n",
       "      <td>None</td>\n",
       "      <td>POINT (45.20251 -12.73505)</td>\n",
       "    </tr>\n",
       "    <tr>\n",
       "      <th>28012</th>\n",
       "      <td>9760125G</td>\n",
       "      <td>Lycée polyvalent Gustave Eiffel de Kahani</td>\n",
       "      <td>97614</td>\n",
       "      <td>None</td>\n",
       "      <td>BP 04</td>\n",
       "      <td>None</td>\n",
       "      <td>97670</td>\n",
       "      <td>None</td>\n",
       "      <td>POINT (45.13107 -12.82231)</td>\n",
       "    </tr>\n",
       "  </tbody>\n",
       "</table>\n",
       "</div>"
      ],
      "text/plain": [
       "      identifiant_de_l_etablissement  \\\n",
       "11600                       9760206V   \n",
       "13466                       0291758D   \n",
       "27398                       9760543L   \n",
       "27966                       9760244L   \n",
       "28012                       9760125G   \n",
       "\n",
       "                                    nom_etablissement code_commune adresse_1  \\\n",
       "11600                        Lycée agricole de Coconi        97614      None   \n",
       "13466  Centre d'instruction naval Ecole de Maistrance        29019      None   \n",
       "27398         Ecole élémentaire publique de Iloni T12        97607      None   \n",
       "27966                       Collège Frédéric d'Achery        97610      None   \n",
       "28012       Lycée polyvalent Gustave Eiffel de Kahani        97614      None   \n",
       "\n",
       "      adresse_2            adresse_3 code_postal  \\\n",
       "11600     BP 02                 None       97670   \n",
       "13466    BP 300  29240 BREST CEDEX 9       29240   \n",
       "27398      None        97660 DEMBENI       97660   \n",
       "27966      None                 None       97690   \n",
       "28012     BP 04                 None       97670   \n",
       "\n",
       "      identifiant_topo_zone_rattachee                    geometry  \n",
       "11600                            None  POINT (45.13416 -12.83958)  \n",
       "13466                            None   POINT (-4.48606 48.39043)  \n",
       "27398                            None  POINT (45.18777 -12.84673)  \n",
       "27966                            None  POINT (45.20251 -12.73505)  \n",
       "28012                            None  POINT (45.13107 -12.82231)  "
      ]
     },
     "execution_count": 7,
     "metadata": {},
     "output_type": "execute_result"
    }
   ],
   "source": [
    "f_etablissements[f_etablissements[\"adresse_1\"].isnull()].head()"
   ]
  },
  {
   "cell_type": "code",
   "execution_count": 8,
   "id": "bc1c4796",
   "metadata": {},
   "outputs": [
    {
     "data": {
      "text/html": [
       "<div>\n",
       "<style scoped>\n",
       "    .dataframe tbody tr th:only-of-type {\n",
       "        vertical-align: middle;\n",
       "    }\n",
       "\n",
       "    .dataframe tbody tr th {\n",
       "        vertical-align: top;\n",
       "    }\n",
       "\n",
       "    .dataframe thead th {\n",
       "        text-align: right;\n",
       "    }\n",
       "</style>\n",
       "<table border=\"1\" class=\"dataframe\">\n",
       "  <thead>\n",
       "    <tr style=\"text-align: right;\">\n",
       "      <th></th>\n",
       "      <th>identifiant_de_l_etablissement</th>\n",
       "      <th>nom_etablissement</th>\n",
       "      <th>code_commune</th>\n",
       "      <th>adresse_1</th>\n",
       "      <th>adresse_2</th>\n",
       "      <th>adresse_3</th>\n",
       "      <th>code_postal</th>\n",
       "      <th>identifiant_topo_zone_rattachee</th>\n",
       "      <th>geometry</th>\n",
       "      <th>adresse</th>\n",
       "    </tr>\n",
       "  </thead>\n",
       "  <tbody>\n",
       "    <tr>\n",
       "      <th>0</th>\n",
       "      <td>0631701G</td>\n",
       "      <td>Ecole maternelle Jean Alix</td>\n",
       "      <td>63284</td>\n",
       "      <td>Chemin DU MOULIN</td>\n",
       "      <td>None</td>\n",
       "      <td>63430 PONT DU CHATEAU</td>\n",
       "      <td>63430</td>\n",
       "      <td>None</td>\n",
       "      <td>POINT (3.25496 45.79291)</td>\n",
       "      <td>Chemin DU MOULIN 63430 PONT DU CHATEAU</td>\n",
       "    </tr>\n",
       "    <tr>\n",
       "      <th>1</th>\n",
       "      <td>0631702H</td>\n",
       "      <td>Ecole maternelle Montjoie</td>\n",
       "      <td>63471</td>\n",
       "      <td>7 rue de Montjoie</td>\n",
       "      <td>None</td>\n",
       "      <td>63700 YOUX</td>\n",
       "      <td>63700</td>\n",
       "      <td>None</td>\n",
       "      <td>POINT (2.81888 46.1339)</td>\n",
       "      <td>7 rue de Montjoie 63700 YOUX</td>\n",
       "    </tr>\n",
       "    <tr>\n",
       "      <th>2</th>\n",
       "      <td>0631743C</td>\n",
       "      <td>Ecole élémentaire René Cassin</td>\n",
       "      <td>63300</td>\n",
       "      <td>Avenue du Général de Gaulle</td>\n",
       "      <td>None</td>\n",
       "      <td>63200 RIOM</td>\n",
       "      <td>63200</td>\n",
       "      <td>None</td>\n",
       "      <td>POINT (3.10421 45.88063)</td>\n",
       "      <td>Avenue du Général de Gaulle 63200 RIOM</td>\n",
       "    </tr>\n",
       "    <tr>\n",
       "      <th>3</th>\n",
       "      <td>0631756S</td>\n",
       "      <td>Ecole maternelle George Sand</td>\n",
       "      <td>63113</td>\n",
       "      <td>Rue de Neyrat</td>\n",
       "      <td>None</td>\n",
       "      <td>63100 CLERMONT FERRAND</td>\n",
       "      <td>63100</td>\n",
       "      <td>None</td>\n",
       "      <td>POINT (3.10179 45.81044)</td>\n",
       "      <td>Rue de Neyrat 63100 CLERMONT FERRAND</td>\n",
       "    </tr>\n",
       "    <tr>\n",
       "      <th>4</th>\n",
       "      <td>0631757T</td>\n",
       "      <td>Ecole élémentaire George Sand</td>\n",
       "      <td>63113</td>\n",
       "      <td>71 rue de Neyrat</td>\n",
       "      <td>None</td>\n",
       "      <td>63000 CLERMONT FERRAND</td>\n",
       "      <td>63000</td>\n",
       "      <td>None</td>\n",
       "      <td>POINT (3.10282 45.80544)</td>\n",
       "      <td>71 rue de Neyrat 63000 CLERMONT FERRAND</td>\n",
       "    </tr>\n",
       "  </tbody>\n",
       "</table>\n",
       "</div>"
      ],
      "text/plain": [
       "  identifiant_de_l_etablissement              nom_etablissement code_commune  \\\n",
       "0                       0631701G     Ecole maternelle Jean Alix        63284   \n",
       "1                       0631702H      Ecole maternelle Montjoie        63471   \n",
       "2                       0631743C  Ecole élémentaire René Cassin        63300   \n",
       "3                       0631756S   Ecole maternelle George Sand        63113   \n",
       "4                       0631757T  Ecole élémentaire George Sand        63113   \n",
       "\n",
       "                     adresse_1 adresse_2               adresse_3 code_postal  \\\n",
       "0             Chemin DU MOULIN      None   63430 PONT DU CHATEAU       63430   \n",
       "1            7 rue de Montjoie      None              63700 YOUX       63700   \n",
       "2  Avenue du Général de Gaulle      None              63200 RIOM       63200   \n",
       "3                Rue de Neyrat      None  63100 CLERMONT FERRAND       63100   \n",
       "4             71 rue de Neyrat      None  63000 CLERMONT FERRAND       63000   \n",
       "\n",
       "  identifiant_topo_zone_rattachee                  geometry  \\\n",
       "0                            None  POINT (3.25496 45.79291)   \n",
       "1                            None   POINT (2.81888 46.1339)   \n",
       "2                            None  POINT (3.10421 45.88063)   \n",
       "3                            None  POINT (3.10179 45.81044)   \n",
       "4                            None  POINT (3.10282 45.80544)   \n",
       "\n",
       "                                    adresse  \n",
       "0    Chemin DU MOULIN 63430 PONT DU CHATEAU  \n",
       "1              7 rue de Montjoie 63700 YOUX  \n",
       "2    Avenue du Général de Gaulle 63200 RIOM  \n",
       "3      Rue de Neyrat 63100 CLERMONT FERRAND  \n",
       "4   71 rue de Neyrat 63000 CLERMONT FERRAND  "
      ]
     },
     "execution_count": 8,
     "metadata": {},
     "output_type": "execute_result"
    }
   ],
   "source": [
    "f_etablissements = f_etablissements.copy()\n",
    "f_etablissements[\"adresse\"] = (\n",
    "    f_etablissements[\"adresse_2\"].fillna('') + ' '\n",
    "    + f_etablissements[\"adresse_1\"].fillna('') + ' '\n",
    "    + f_etablissements[\"adresse_3\"].fillna('')\n",
    ")\n",
    "f_etablissements.head()"
   ]
  },
  {
   "cell_type": "code",
   "execution_count": 9,
   "id": "0e260ffa",
   "metadata": {},
   "outputs": [
    {
     "name": "stdout",
     "output_type": "stream",
     "text": [
      "<class 'pandas.core.series.Series'>\n",
      "RangeIndex: 52546 entries, 0 to 52545\n",
      "Series name: adresse\n",
      "Non-Null Count  Dtype \n",
      "--------------  ----- \n",
      "52546 non-null  object\n",
      "dtypes: object(1)\n",
      "memory usage: 410.6+ KB\n"
     ]
    }
   ],
   "source": [
    "f_etablissements[\"adresse\"].info()"
   ]
  },
  {
   "cell_type": "markdown",
   "id": "d02ced47",
   "metadata": {},
   "source": [
    "> Aucune adresse n'est vide"
   ]
  },
  {
   "cell_type": "markdown",
   "id": "9da57f11",
   "metadata": {},
   "source": [
    "## 2 - Exploration du cas spécifique de l'issue #245"
   ]
  },
  {
   "cell_type": "markdown",
   "id": "c16fe85d",
   "metadata": {},
   "source": [
    "### 2.1 - Rappel de l'issue\n",
    "**Problème :** La position est incohérente avec les autres données comme adresse, google maps, zone d'education associée, ...\n",
    "\n",
    "> Par exemple : l'établissement Lycée polyvalent Germaine Tillion (identifiant_de_l_etablissement = 0110012D) a une geom incohérente avec son adresse Avenue du Docteur Laennec BP 1301.\n",
    "\n",
    "Dans ce cas, la `geom` semble mauvaise car :\n",
    "- cela place l'établissement proche de l'avenue Georges Pompidou / Rue Jean Durand\n",
    "- sa zone d'éducation associée est bien située le long de l'avenue du Docteur Laennec"
   ]
  },
  {
   "cell_type": "code",
   "execution_count": 10,
   "id": "3173589b",
   "metadata": {},
   "outputs": [
    {
     "data": {
      "text/html": [
       "<div>\n",
       "<style scoped>\n",
       "    .dataframe tbody tr th:only-of-type {\n",
       "        vertical-align: middle;\n",
       "    }\n",
       "\n",
       "    .dataframe tbody tr th {\n",
       "        vertical-align: top;\n",
       "    }\n",
       "\n",
       "    .dataframe thead th {\n",
       "        text-align: right;\n",
       "    }\n",
       "</style>\n",
       "<table border=\"1\" class=\"dataframe\">\n",
       "  <thead>\n",
       "    <tr style=\"text-align: right;\">\n",
       "      <th></th>\n",
       "      <th>identifiant_de_l_etablissement</th>\n",
       "      <th>nom_etablissement</th>\n",
       "      <th>code_commune</th>\n",
       "      <th>adresse_1</th>\n",
       "      <th>adresse_2</th>\n",
       "      <th>adresse_3</th>\n",
       "      <th>code_postal</th>\n",
       "      <th>identifiant_topo_zone_rattachee</th>\n",
       "      <th>geometry</th>\n",
       "      <th>adresse</th>\n",
       "    </tr>\n",
       "  </thead>\n",
       "  <tbody>\n",
       "    <tr>\n",
       "      <th>51894</th>\n",
       "      <td>0110012D</td>\n",
       "      <td>Lycée polyvalent Germaine Tillion</td>\n",
       "      <td>11076</td>\n",
       "      <td>Avenue du Docteur Laennec</td>\n",
       "      <td>BP 1301</td>\n",
       "      <td>None</td>\n",
       "      <td>11493</td>\n",
       "      <td>None</td>\n",
       "      <td>POINT (1.94887 43.31734)</td>\n",
       "      <td>BP 1301 Avenue du Docteur Laennec</td>\n",
       "    </tr>\n",
       "  </tbody>\n",
       "</table>\n",
       "</div>"
      ],
      "text/plain": [
       "      identifiant_de_l_etablissement                  nom_etablissement  \\\n",
       "51894                       0110012D  Lycée polyvalent Germaine Tillion   \n",
       "\n",
       "      code_commune                  adresse_1 adresse_2 adresse_3 code_postal  \\\n",
       "51894        11076  Avenue du Docteur Laennec   BP 1301      None       11493   \n",
       "\n",
       "      identifiant_topo_zone_rattachee                  geometry  \\\n",
       "51894                            None  POINT (1.94887 43.31734)   \n",
       "\n",
       "                                  adresse  \n",
       "51894  BP 1301 Avenue du Docteur Laennec   "
      ]
     },
     "execution_count": 10,
     "metadata": {},
     "output_type": "execute_result"
    }
   ],
   "source": [
    "# Charger la données\n",
    "f_etablissements[f_etablissements[\"identifiant_de_l_etablissement\"] == \"0110012D\"]"
   ]
  },
  {
   "cell_type": "markdown",
   "id": "857e7f15",
   "metadata": {},
   "source": [
    "> Note : l'adresse a l'air  bonne mais la géolocalisation n'est pas bonne; exploration d'une première piste avec le geocodeur de la BAN"
   ]
  },
  {
   "cell_type": "markdown",
   "id": "5b30ffc7",
   "metadata": {},
   "source": [
    "### 2.2 - API Geocodeur de la BAN"
   ]
  },
  {
   "cell_type": "markdown",
   "id": "46513192",
   "metadata": {},
   "source": [
    "#### 2.2.1 - Script de geocodage"
   ]
  },
  {
   "cell_type": "code",
   "execution_count": 11,
   "id": "a65c0a3d",
   "metadata": {},
   "outputs": [],
   "source": [
    "# Fonction de geocodage par la BAN\n",
    "def geocode_ban(adresse, limit=1):\n",
    "    \"\"\"\n",
    "    Interroge l’API de la BAN pour géocoder une adresse.\n",
    "    Renvoie la liste des top `limit` résultats.\n",
    "    \"\"\"\n",
    "    url = \"https://api-adresse.data.gouv.fr/search/\"\n",
    "    params = {\n",
    "        \"q\": adresse, \n",
    "        \"limit\": limit,\n",
    "        \"type\": \"street\"\n",
    "    }\n",
    "    resp = requests.get(url, params=params)\n",
    "    resp.raise_for_status()\n",
    "    data = resp.json()\n",
    "    return data[\"features\"][0][\"geometry\"][\"coordinates\"], data[\"features\"][0][\"properties\"]"
   ]
  },
  {
   "cell_type": "markdown",
   "id": "b87fb874",
   "metadata": {},
   "source": [
    "#### 2.2.2 - Test sur l'adresse dans le GeoDataFrame"
   ]
  },
  {
   "cell_type": "code",
   "execution_count": 12,
   "id": "64792470",
   "metadata": {},
   "outputs": [],
   "source": [
    "# Définir les éléments à géocoder\n",
    "t_adresse = str(f_etablissements[f_etablissements[\"identifiant_de_l_etablissement\"] == \"0110012D\"][\"adresse\"].values[0])\n",
    "code_postal = str(f_etablissements[f_etablissements[\"identifiant_de_l_etablissement\"] == \"0110012D\"][\"code_postal\"].values[0])\n",
    "adresse = t_adresse + \" \" + code_postal\n",
    "results_geom, results_properties = geocode_ban(adresse)"
   ]
  },
  {
   "cell_type": "code",
   "execution_count": 13,
   "id": "594d214e",
   "metadata": {},
   "outputs": [
    {
     "name": "stdout",
     "output_type": "stream",
     "text": [
      "Adresse recherchée --> BP 1301 Avenue du Docteur Laennec 11493\n",
      "\n",
      "--- RESULTATS DU GEOCODAGE BAN ---\n",
      "- label: Avenue du Docteur Laennec 44800 Saint-Herblain\n",
      "- score: 0.5789445933014353\n",
      "- id: 44162_0890\n",
      "- banId: cba9b45c-c3de-4bad-9ca1-a52add54ca92\n",
      "- name: Avenue du Docteur Laennec\n",
      "- postcode: 44800\n",
      "- citycode: 44162\n",
      "- x: 352761.96\n",
      "- y: 6691947.32\n",
      "- city: Saint-Herblain\n",
      "- context: 44, Loire-Atlantique, Pays de la Loire\n",
      "- type: street\n",
      "- importance: 0.68418\n",
      "- street: Avenue du Docteur Laennec\n",
      "- _type: address\n",
      "--- --- ---\n",
      "\n",
      "GeoPoint WGG:84 : [-1.592453, 47.236923]\n"
     ]
    }
   ],
   "source": [
    "print(f\"Adresse recherchée --> {t_adresse}{code_postal}\\n\")\n",
    "print(\"--- RESULTATS DU GEOCODAGE BAN ---\")\n",
    "for key, value in results_properties.items():\n",
    "    print(f\"- {key}: {value}\")\n",
    "print(\"--- --- ---\\n\")\n",
    "print(f\"GeoPoint WGG:84 : {results_geom}\")"
   ]
  },
  {
   "cell_type": "markdown",
   "id": "4fbf83a3",
   "metadata": {},
   "source": [
    "#### 2.2.3 - Test sur l'adresse ajustée"
   ]
  },
  {
   "cell_type": "code",
   "execution_count": 14,
   "id": "55c094a8",
   "metadata": {},
   "outputs": [],
   "source": [
    "# Définir les éléments à géocoder\n",
    "t_adresse = str(f_etablissements[f_etablissements[\"identifiant_de_l_etablissement\"] == \"0110012D\"][\"adresse\"].values[0])\n",
    "code_postal = \"11400\"\n",
    "adresse = t_adresse + \" \" + code_postal\n",
    "results_geom, results_properties = geocode_ban(adresse)"
   ]
  },
  {
   "cell_type": "code",
   "execution_count": 15,
   "id": "25a28984",
   "metadata": {},
   "outputs": [
    {
     "name": "stdout",
     "output_type": "stream",
     "text": [
      "Adresse recherchée --> BP 1301 Avenue du Docteur Laennec 11400\n",
      "\n",
      "--- RESULTATS DU GEOCODAGE BAN ---\n",
      "- label: Avenue du Docteur René Laënnec 11400 Castelnaudary\n",
      "- score: 0.6243590697674418\n",
      "- id: 11076_0899\n",
      "- banId: 11d56225-f4d4-472d-9a8f-bcc8050ae73c\n",
      "- name: Avenue du Docteur René Laënnec\n",
      "- postcode: 11400\n",
      "- citycode: 11076\n",
      "- x: 613960.47\n",
      "- y: 6245865.38\n",
      "- city: Castelnaudary\n",
      "- context: 11, Aude, Occitanie\n",
      "- type: street\n",
      "- importance: 0.58888\n",
      "- street: Avenue du Docteur René Laënnec\n",
      "- _type: address\n",
      "--- --- ---\n",
      "\n",
      "GeoPoint WGG:84 : [1.940132, 43.306754]\n"
     ]
    }
   ],
   "source": [
    "print(f\"Adresse recherchée --> {t_adresse}11400\\n\")\n",
    "print(\"--- RESULTATS DU GEOCODAGE BAN ---\")\n",
    "for key, value in results_properties.items():\n",
    "    print(f\"- {key}: {value}\")\n",
    "print(\"--- --- ---\\n\")\n",
    "print(f\"GeoPoint WGG:84 : {results_geom}\")"
   ]
  },
  {
   "cell_type": "markdown",
   "id": "79dcaeaa",
   "metadata": {},
   "source": [
    "> L'adresse : BP 1301 Avenue du Docteur Laennec 11493\n",
    "\n",
    "On est ici face à un CEDEX  ce qui fait que le géocodage de cette adresse via la BAN ou autre outil sera faux par défaut comme l'exemple ci-dessus le montre. \n",
    "\n",
    "L'adresse en elle même n'est pas bonne : sur leurs site internet, on a : \n",
    "- LYCEE GERMAINE TILLION 1 avenue du Campus Jean Durand 11493 CASTELNAUDARY CEDEX\n",
    "> [source](https://germaine-tillion.mon-ent-occitanie.fr/)\n",
    "\n",
    "Avec le changement du CEDEX avec le vrai code postal, le Géocodage est plus efficace et réussi à modifier légèrement l'emplacement"
   ]
  },
  {
   "cell_type": "code",
   "execution_count": 16,
   "id": "a9a70045",
   "metadata": {},
   "outputs": [],
   "source": [
    "v_etablissements = f_etablissements[f_etablissements[\"identifiant_de_l_etablissement\"] == \"0110012D\"].copy()\n",
    "v_etablissements[\"geometry\"] = Point(results_geom)"
   ]
  },
  {
   "cell_type": "code",
   "execution_count": 17,
   "id": "b2eb7beb",
   "metadata": {},
   "outputs": [
    {
     "data": {
      "application/vnd.plotly.v1+json": {
       "config": {
        "plotlyServerURL": "https://plot.ly"
       },
       "data": [
        {
         "hovertemplate": "<b>%{hovertext}</b><br><br>size=%{marker.size}<br>lat=%{lat}<br>lon=%{lon}<extra></extra>",
         "hovertext": [
          "0110012D"
         ],
         "lat": {
          "bdata": "ZvUOt0OnRUA=",
          "dtype": "f8"
         },
         "legendgroup": "",
         "lon": {
          "bdata": "58Qe2scK/z8=",
          "dtype": "f8"
         },
         "marker": {
          "color": "gold",
          "size": {
           "bdata": "Dw==",
           "dtype": "i1"
          },
          "sizemode": "area",
          "sizeref": 0.0375
         },
         "mode": "markers",
         "name": "",
         "showlegend": false,
         "subplot": "map",
         "type": "scattermap"
        }
       ],
       "layout": {
        "height": 400,
        "legend": {
         "itemsizing": "constant",
         "tracegroupgap": 0
        },
        "map": {
         "center": {
          "lat": 43.306754,
          "lon": 1.940132
         },
         "domain": {
          "x": [
           0,
           1
          ],
          "y": [
           0,
           1
          ]
         },
         "zoom": 15
        },
        "mapbox": {
         "center": {
          "lat": 43.306754,
          "lon": 1.940132
         },
         "style": "open-street-map",
         "zoom": 15
        },
        "margin": {
         "b": 0,
         "l": 0,
         "r": 0,
         "t": 0
        },
        "template": {
         "data": {
          "bar": [
           {
            "error_x": {
             "color": "#2a3f5f"
            },
            "error_y": {
             "color": "#2a3f5f"
            },
            "marker": {
             "line": {
              "color": "#E5ECF6",
              "width": 0.5
             },
             "pattern": {
              "fillmode": "overlay",
              "size": 10,
              "solidity": 0.2
             }
            },
            "type": "bar"
           }
          ],
          "barpolar": [
           {
            "marker": {
             "line": {
              "color": "#E5ECF6",
              "width": 0.5
             },
             "pattern": {
              "fillmode": "overlay",
              "size": 10,
              "solidity": 0.2
             }
            },
            "type": "barpolar"
           }
          ],
          "carpet": [
           {
            "aaxis": {
             "endlinecolor": "#2a3f5f",
             "gridcolor": "white",
             "linecolor": "white",
             "minorgridcolor": "white",
             "startlinecolor": "#2a3f5f"
            },
            "baxis": {
             "endlinecolor": "#2a3f5f",
             "gridcolor": "white",
             "linecolor": "white",
             "minorgridcolor": "white",
             "startlinecolor": "#2a3f5f"
            },
            "type": "carpet"
           }
          ],
          "choropleth": [
           {
            "colorbar": {
             "outlinewidth": 0,
             "ticks": ""
            },
            "type": "choropleth"
           }
          ],
          "contour": [
           {
            "colorbar": {
             "outlinewidth": 0,
             "ticks": ""
            },
            "colorscale": [
             [
              0,
              "#0d0887"
             ],
             [
              0.1111111111111111,
              "#46039f"
             ],
             [
              0.2222222222222222,
              "#7201a8"
             ],
             [
              0.3333333333333333,
              "#9c179e"
             ],
             [
              0.4444444444444444,
              "#bd3786"
             ],
             [
              0.5555555555555556,
              "#d8576b"
             ],
             [
              0.6666666666666666,
              "#ed7953"
             ],
             [
              0.7777777777777778,
              "#fb9f3a"
             ],
             [
              0.8888888888888888,
              "#fdca26"
             ],
             [
              1,
              "#f0f921"
             ]
            ],
            "type": "contour"
           }
          ],
          "contourcarpet": [
           {
            "colorbar": {
             "outlinewidth": 0,
             "ticks": ""
            },
            "type": "contourcarpet"
           }
          ],
          "heatmap": [
           {
            "colorbar": {
             "outlinewidth": 0,
             "ticks": ""
            },
            "colorscale": [
             [
              0,
              "#0d0887"
             ],
             [
              0.1111111111111111,
              "#46039f"
             ],
             [
              0.2222222222222222,
              "#7201a8"
             ],
             [
              0.3333333333333333,
              "#9c179e"
             ],
             [
              0.4444444444444444,
              "#bd3786"
             ],
             [
              0.5555555555555556,
              "#d8576b"
             ],
             [
              0.6666666666666666,
              "#ed7953"
             ],
             [
              0.7777777777777778,
              "#fb9f3a"
             ],
             [
              0.8888888888888888,
              "#fdca26"
             ],
             [
              1,
              "#f0f921"
             ]
            ],
            "type": "heatmap"
           }
          ],
          "histogram": [
           {
            "marker": {
             "pattern": {
              "fillmode": "overlay",
              "size": 10,
              "solidity": 0.2
             }
            },
            "type": "histogram"
           }
          ],
          "histogram2d": [
           {
            "colorbar": {
             "outlinewidth": 0,
             "ticks": ""
            },
            "colorscale": [
             [
              0,
              "#0d0887"
             ],
             [
              0.1111111111111111,
              "#46039f"
             ],
             [
              0.2222222222222222,
              "#7201a8"
             ],
             [
              0.3333333333333333,
              "#9c179e"
             ],
             [
              0.4444444444444444,
              "#bd3786"
             ],
             [
              0.5555555555555556,
              "#d8576b"
             ],
             [
              0.6666666666666666,
              "#ed7953"
             ],
             [
              0.7777777777777778,
              "#fb9f3a"
             ],
             [
              0.8888888888888888,
              "#fdca26"
             ],
             [
              1,
              "#f0f921"
             ]
            ],
            "type": "histogram2d"
           }
          ],
          "histogram2dcontour": [
           {
            "colorbar": {
             "outlinewidth": 0,
             "ticks": ""
            },
            "colorscale": [
             [
              0,
              "#0d0887"
             ],
             [
              0.1111111111111111,
              "#46039f"
             ],
             [
              0.2222222222222222,
              "#7201a8"
             ],
             [
              0.3333333333333333,
              "#9c179e"
             ],
             [
              0.4444444444444444,
              "#bd3786"
             ],
             [
              0.5555555555555556,
              "#d8576b"
             ],
             [
              0.6666666666666666,
              "#ed7953"
             ],
             [
              0.7777777777777778,
              "#fb9f3a"
             ],
             [
              0.8888888888888888,
              "#fdca26"
             ],
             [
              1,
              "#f0f921"
             ]
            ],
            "type": "histogram2dcontour"
           }
          ],
          "mesh3d": [
           {
            "colorbar": {
             "outlinewidth": 0,
             "ticks": ""
            },
            "type": "mesh3d"
           }
          ],
          "parcoords": [
           {
            "line": {
             "colorbar": {
              "outlinewidth": 0,
              "ticks": ""
             }
            },
            "type": "parcoords"
           }
          ],
          "pie": [
           {
            "automargin": true,
            "type": "pie"
           }
          ],
          "scatter": [
           {
            "fillpattern": {
             "fillmode": "overlay",
             "size": 10,
             "solidity": 0.2
            },
            "type": "scatter"
           }
          ],
          "scatter3d": [
           {
            "line": {
             "colorbar": {
              "outlinewidth": 0,
              "ticks": ""
             }
            },
            "marker": {
             "colorbar": {
              "outlinewidth": 0,
              "ticks": ""
             }
            },
            "type": "scatter3d"
           }
          ],
          "scattercarpet": [
           {
            "marker": {
             "colorbar": {
              "outlinewidth": 0,
              "ticks": ""
             }
            },
            "type": "scattercarpet"
           }
          ],
          "scattergeo": [
           {
            "marker": {
             "colorbar": {
              "outlinewidth": 0,
              "ticks": ""
             }
            },
            "type": "scattergeo"
           }
          ],
          "scattergl": [
           {
            "marker": {
             "colorbar": {
              "outlinewidth": 0,
              "ticks": ""
             }
            },
            "type": "scattergl"
           }
          ],
          "scattermap": [
           {
            "marker": {
             "colorbar": {
              "outlinewidth": 0,
              "ticks": ""
             }
            },
            "type": "scattermap"
           }
          ],
          "scattermapbox": [
           {
            "marker": {
             "colorbar": {
              "outlinewidth": 0,
              "ticks": ""
             }
            },
            "type": "scattermapbox"
           }
          ],
          "scatterpolar": [
           {
            "marker": {
             "colorbar": {
              "outlinewidth": 0,
              "ticks": ""
             }
            },
            "type": "scatterpolar"
           }
          ],
          "scatterpolargl": [
           {
            "marker": {
             "colorbar": {
              "outlinewidth": 0,
              "ticks": ""
             }
            },
            "type": "scatterpolargl"
           }
          ],
          "scatterternary": [
           {
            "marker": {
             "colorbar": {
              "outlinewidth": 0,
              "ticks": ""
             }
            },
            "type": "scatterternary"
           }
          ],
          "surface": [
           {
            "colorbar": {
             "outlinewidth": 0,
             "ticks": ""
            },
            "colorscale": [
             [
              0,
              "#0d0887"
             ],
             [
              0.1111111111111111,
              "#46039f"
             ],
             [
              0.2222222222222222,
              "#7201a8"
             ],
             [
              0.3333333333333333,
              "#9c179e"
             ],
             [
              0.4444444444444444,
              "#bd3786"
             ],
             [
              0.5555555555555556,
              "#d8576b"
             ],
             [
              0.6666666666666666,
              "#ed7953"
             ],
             [
              0.7777777777777778,
              "#fb9f3a"
             ],
             [
              0.8888888888888888,
              "#fdca26"
             ],
             [
              1,
              "#f0f921"
             ]
            ],
            "type": "surface"
           }
          ],
          "table": [
           {
            "cells": {
             "fill": {
              "color": "#EBF0F8"
             },
             "line": {
              "color": "white"
             }
            },
            "header": {
             "fill": {
              "color": "#C8D4E3"
             },
             "line": {
              "color": "white"
             }
            },
            "type": "table"
           }
          ]
         },
         "layout": {
          "annotationdefaults": {
           "arrowcolor": "#2a3f5f",
           "arrowhead": 0,
           "arrowwidth": 1
          },
          "autotypenumbers": "strict",
          "coloraxis": {
           "colorbar": {
            "outlinewidth": 0,
            "ticks": ""
           }
          },
          "colorscale": {
           "diverging": [
            [
             0,
             "#8e0152"
            ],
            [
             0.1,
             "#c51b7d"
            ],
            [
             0.2,
             "#de77ae"
            ],
            [
             0.3,
             "#f1b6da"
            ],
            [
             0.4,
             "#fde0ef"
            ],
            [
             0.5,
             "#f7f7f7"
            ],
            [
             0.6,
             "#e6f5d0"
            ],
            [
             0.7,
             "#b8e186"
            ],
            [
             0.8,
             "#7fbc41"
            ],
            [
             0.9,
             "#4d9221"
            ],
            [
             1,
             "#276419"
            ]
           ],
           "sequential": [
            [
             0,
             "#0d0887"
            ],
            [
             0.1111111111111111,
             "#46039f"
            ],
            [
             0.2222222222222222,
             "#7201a8"
            ],
            [
             0.3333333333333333,
             "#9c179e"
            ],
            [
             0.4444444444444444,
             "#bd3786"
            ],
            [
             0.5555555555555556,
             "#d8576b"
            ],
            [
             0.6666666666666666,
             "#ed7953"
            ],
            [
             0.7777777777777778,
             "#fb9f3a"
            ],
            [
             0.8888888888888888,
             "#fdca26"
            ],
            [
             1,
             "#f0f921"
            ]
           ],
           "sequentialminus": [
            [
             0,
             "#0d0887"
            ],
            [
             0.1111111111111111,
             "#46039f"
            ],
            [
             0.2222222222222222,
             "#7201a8"
            ],
            [
             0.3333333333333333,
             "#9c179e"
            ],
            [
             0.4444444444444444,
             "#bd3786"
            ],
            [
             0.5555555555555556,
             "#d8576b"
            ],
            [
             0.6666666666666666,
             "#ed7953"
            ],
            [
             0.7777777777777778,
             "#fb9f3a"
            ],
            [
             0.8888888888888888,
             "#fdca26"
            ],
            [
             1,
             "#f0f921"
            ]
           ]
          },
          "colorway": [
           "#636efa",
           "#EF553B",
           "#00cc96",
           "#ab63fa",
           "#FFA15A",
           "#19d3f3",
           "#FF6692",
           "#B6E880",
           "#FF97FF",
           "#FECB52"
          ],
          "font": {
           "color": "#2a3f5f"
          },
          "geo": {
           "bgcolor": "white",
           "lakecolor": "white",
           "landcolor": "#E5ECF6",
           "showlakes": true,
           "showland": true,
           "subunitcolor": "white"
          },
          "hoverlabel": {
           "align": "left"
          },
          "hovermode": "closest",
          "mapbox": {
           "style": "light"
          },
          "paper_bgcolor": "white",
          "plot_bgcolor": "#E5ECF6",
          "polar": {
           "angularaxis": {
            "gridcolor": "white",
            "linecolor": "white",
            "ticks": ""
           },
           "bgcolor": "#E5ECF6",
           "radialaxis": {
            "gridcolor": "white",
            "linecolor": "white",
            "ticks": ""
           }
          },
          "scene": {
           "xaxis": {
            "backgroundcolor": "#E5ECF6",
            "gridcolor": "white",
            "gridwidth": 2,
            "linecolor": "white",
            "showbackground": true,
            "ticks": "",
            "zerolinecolor": "white"
           },
           "yaxis": {
            "backgroundcolor": "#E5ECF6",
            "gridcolor": "white",
            "gridwidth": 2,
            "linecolor": "white",
            "showbackground": true,
            "ticks": "",
            "zerolinecolor": "white"
           },
           "zaxis": {
            "backgroundcolor": "#E5ECF6",
            "gridcolor": "white",
            "gridwidth": 2,
            "linecolor": "white",
            "showbackground": true,
            "ticks": "",
            "zerolinecolor": "white"
           }
          },
          "shapedefaults": {
           "line": {
            "color": "#2a3f5f"
           }
          },
          "ternary": {
           "aaxis": {
            "gridcolor": "white",
            "linecolor": "white",
            "ticks": ""
           },
           "baxis": {
            "gridcolor": "white",
            "linecolor": "white",
            "ticks": ""
           },
           "bgcolor": "#E5ECF6",
           "caxis": {
            "gridcolor": "white",
            "linecolor": "white",
            "ticks": ""
           }
          },
          "title": {
           "x": 0.05
          },
          "xaxis": {
           "automargin": true,
           "gridcolor": "white",
           "linecolor": "white",
           "ticks": "",
           "title": {
            "standoff": 15
           },
           "zerolinecolor": "white",
           "zerolinewidth": 2
          },
          "yaxis": {
           "automargin": true,
           "gridcolor": "white",
           "linecolor": "white",
           "ticks": "",
           "title": {
            "standoff": 15
           },
           "zerolinecolor": "white",
           "zerolinewidth": 2
          }
         }
        },
        "width": 400
       }
      }
     },
     "metadata": {},
     "output_type": "display_data"
    }
   ],
   "source": [
    "# Sélection des données\n",
    "point = v_etablissements[v_etablissements[\"identifiant_de_l_etablissement\"] == \"0110012D\"].copy()\n",
    "\n",
    "# Extraire lat et lon\n",
    "point[\"lon\"] = point.geometry.x\n",
    "point[\"lat\"] = point.geometry.y\n",
    "lon0 = point[\"lon\"].iloc[0]\n",
    "lat0 = point[\"lat\"].iloc[0]\n",
    "\n",
    "# Tracer les données\n",
    "fig = px.scatter_map(\n",
    "    point,\n",
    "    lon=\"lon\",\n",
    "    lat=\"lat\",\n",
    "    hover_name=\"identifiant_de_l_etablissement\",\n",
    "    color_discrete_sequence=[\"gold\"],\n",
    "    size=[15],\n",
    "    center={\"lat\": lat0, \"lon\": lon0},\n",
    "    zoom=15, \n",
    "    height=400, width=400\n",
    ")\n",
    "fig.update_layout(\n",
    "    mapbox_style=\"open-street-map\", \n",
    "    margin={\"l\":0,\"r\":0,\"t\":0,\"b\":0}\n",
    ")\n",
    "fig.show()"
   ]
  },
  {
   "cell_type": "markdown",
   "id": "f5a20aae",
   "metadata": {},
   "source": [
    "## 3 - Livrables issue #245"
   ]
  },
  {
   "cell_type": "markdown",
   "id": "ab399e54",
   "metadata": {},
   "source": [
    "### 3.1 - Identification des données incohérentes\n",
    "<!-- > Méthodologie : mapper les données avec les données de correspondance entre les codes postaux et codes insee des communes francaises données sur [data.gouv.fr](https://www.data.gouv.fr/datasets/correspondance-entre-les-codes-postaux-et-codes-insee-des-communes-francaises/). \n",
    "Les données sont sur opendatasoft, téléchargement du fichier en FlatGeoBuf -->\n",
    "\n",
    "> Méthodologie : lancer un géocodage avec la BAN correspondance code postaux voir si pas possible "
   ]
  },
  {
   "cell_type": "code",
   "execution_count": 18,
   "id": "47a53cc9",
   "metadata": {},
   "outputs": [
    {
     "data": {
      "text/html": [
       "<div>\n",
       "<style scoped>\n",
       "    .dataframe tbody tr th:only-of-type {\n",
       "        vertical-align: middle;\n",
       "    }\n",
       "\n",
       "    .dataframe tbody tr th {\n",
       "        vertical-align: top;\n",
       "    }\n",
       "\n",
       "    .dataframe thead th {\n",
       "        text-align: right;\n",
       "    }\n",
       "</style>\n",
       "<table border=\"1\" class=\"dataframe\">\n",
       "  <thead>\n",
       "    <tr style=\"text-align: right;\">\n",
       "      <th></th>\n",
       "      <th>identifiant_de_l_etablissement</th>\n",
       "      <th>nom_etablissement</th>\n",
       "      <th>code_commune</th>\n",
       "      <th>adresse_1</th>\n",
       "      <th>adresse_2</th>\n",
       "      <th>adresse_3</th>\n",
       "      <th>code_postal</th>\n",
       "      <th>identifiant_topo_zone_rattachee</th>\n",
       "      <th>geometry</th>\n",
       "      <th>adresse</th>\n",
       "    </tr>\n",
       "  </thead>\n",
       "  <tbody>\n",
       "    <tr>\n",
       "      <th>0</th>\n",
       "      <td>0631701G</td>\n",
       "      <td>Ecole maternelle Jean Alix</td>\n",
       "      <td>63284</td>\n",
       "      <td>Chemin DU MOULIN</td>\n",
       "      <td>None</td>\n",
       "      <td>63430 PONT DU CHATEAU</td>\n",
       "      <td>63430</td>\n",
       "      <td>None</td>\n",
       "      <td>POINT (3.25496 45.79291)</td>\n",
       "      <td>Chemin DU MOULIN 63430 PONT DU CHATEAU</td>\n",
       "    </tr>\n",
       "    <tr>\n",
       "      <th>1</th>\n",
       "      <td>0631702H</td>\n",
       "      <td>Ecole maternelle Montjoie</td>\n",
       "      <td>63471</td>\n",
       "      <td>7 rue de Montjoie</td>\n",
       "      <td>None</td>\n",
       "      <td>63700 YOUX</td>\n",
       "      <td>63700</td>\n",
       "      <td>None</td>\n",
       "      <td>POINT (2.81888 46.1339)</td>\n",
       "      <td>7 rue de Montjoie 63700 YOUX</td>\n",
       "    </tr>\n",
       "    <tr>\n",
       "      <th>2</th>\n",
       "      <td>0631743C</td>\n",
       "      <td>Ecole élémentaire René Cassin</td>\n",
       "      <td>63300</td>\n",
       "      <td>Avenue du Général de Gaulle</td>\n",
       "      <td>None</td>\n",
       "      <td>63200 RIOM</td>\n",
       "      <td>63200</td>\n",
       "      <td>None</td>\n",
       "      <td>POINT (3.10421 45.88063)</td>\n",
       "      <td>Avenue du Général de Gaulle 63200 RIOM</td>\n",
       "    </tr>\n",
       "    <tr>\n",
       "      <th>3</th>\n",
       "      <td>0631756S</td>\n",
       "      <td>Ecole maternelle George Sand</td>\n",
       "      <td>63113</td>\n",
       "      <td>Rue de Neyrat</td>\n",
       "      <td>None</td>\n",
       "      <td>63100 CLERMONT FERRAND</td>\n",
       "      <td>63100</td>\n",
       "      <td>None</td>\n",
       "      <td>POINT (3.10179 45.81044)</td>\n",
       "      <td>Rue de Neyrat 63100 CLERMONT FERRAND</td>\n",
       "    </tr>\n",
       "    <tr>\n",
       "      <th>4</th>\n",
       "      <td>0631757T</td>\n",
       "      <td>Ecole élémentaire George Sand</td>\n",
       "      <td>63113</td>\n",
       "      <td>71 rue de Neyrat</td>\n",
       "      <td>None</td>\n",
       "      <td>63000 CLERMONT FERRAND</td>\n",
       "      <td>63000</td>\n",
       "      <td>None</td>\n",
       "      <td>POINT (3.10282 45.80544)</td>\n",
       "      <td>71 rue de Neyrat 63000 CLERMONT FERRAND</td>\n",
       "    </tr>\n",
       "    <tr>\n",
       "      <th>...</th>\n",
       "      <td>...</td>\n",
       "      <td>...</td>\n",
       "      <td>...</td>\n",
       "      <td>...</td>\n",
       "      <td>...</td>\n",
       "      <td>...</td>\n",
       "      <td>...</td>\n",
       "      <td>...</td>\n",
       "      <td>...</td>\n",
       "      <td>...</td>\n",
       "    </tr>\n",
       "    <tr>\n",
       "      <th>52541</th>\n",
       "      <td>9741354D</td>\n",
       "      <td>Section d'enseignement général et technologiqu...</td>\n",
       "      <td>97411</td>\n",
       "      <td>CITE SCOLAIRE DU BUTOR</td>\n",
       "      <td>BUTOR / BP 155</td>\n",
       "      <td>97492 STE CLOTILDE CEDEX</td>\n",
       "      <td>97492</td>\n",
       "      <td>None</td>\n",
       "      <td>POINT (55.47051 -20.88848)</td>\n",
       "      <td>BUTOR / BP 155 CITE SCOLAIRE DU BUTOR 97492 ST...</td>\n",
       "    </tr>\n",
       "    <tr>\n",
       "      <th>52542</th>\n",
       "      <td>9741558A</td>\n",
       "      <td>Section d'enseignement professionnel du Lycée ...</td>\n",
       "      <td>97412</td>\n",
       "      <td>10  ROUTE DE LA MARINE</td>\n",
       "      <td>None</td>\n",
       "      <td>97480 ST JOSEPH</td>\n",
       "      <td>97480</td>\n",
       "      <td>None</td>\n",
       "      <td>POINT (55.66822 -21.37716)</td>\n",
       "      <td>10  ROUTE DE LA MARINE 97480 ST JOSEPH</td>\n",
       "    </tr>\n",
       "    <tr>\n",
       "      <th>52543</th>\n",
       "      <td>9741624X</td>\n",
       "      <td>Section d'enseignement professionnel du Lycée ...</td>\n",
       "      <td>97411</td>\n",
       "      <td>Route francicéas</td>\n",
       "      <td>Bois de Nèfles</td>\n",
       "      <td>97400 ST DENIS</td>\n",
       "      <td>97400</td>\n",
       "      <td>None</td>\n",
       "      <td>POINT (55.47752 -20.91054)</td>\n",
       "      <td>Bois de Nèfles Route francicéas 97400 ST DENIS</td>\n",
       "    </tr>\n",
       "    <tr>\n",
       "      <th>52544</th>\n",
       "      <td>9760296T</td>\n",
       "      <td>SEP du lycée de Chirongui</td>\n",
       "      <td>97606</td>\n",
       "      <td>CHIRONGUI</td>\n",
       "      <td>CHIRONGUI</td>\n",
       "      <td>97620 CHIRONGUI</td>\n",
       "      <td>97620</td>\n",
       "      <td>None</td>\n",
       "      <td>POINT (45.15056 -12.93488)</td>\n",
       "      <td>CHIRONGUI CHIRONGUI 97620 CHIRONGUI</td>\n",
       "    </tr>\n",
       "    <tr>\n",
       "      <th>52545</th>\n",
       "      <td>9760382L</td>\n",
       "      <td>SEP du lycée de Mamoudzou sud</td>\n",
       "      <td>97611</td>\n",
       "      <td>KWALE</td>\n",
       "      <td>KWALE</td>\n",
       "      <td>97605 MAMOUDZOU</td>\n",
       "      <td>97605</td>\n",
       "      <td>None</td>\n",
       "      <td>POINT (45.2317 -12.78068)</td>\n",
       "      <td>KWALE KWALE 97605 MAMOUDZOU</td>\n",
       "    </tr>\n",
       "  </tbody>\n",
       "</table>\n",
       "<p>52546 rows × 10 columns</p>\n",
       "</div>"
      ],
      "text/plain": [
       "      identifiant_de_l_etablissement  \\\n",
       "0                           0631701G   \n",
       "1                           0631702H   \n",
       "2                           0631743C   \n",
       "3                           0631756S   \n",
       "4                           0631757T   \n",
       "...                              ...   \n",
       "52541                       9741354D   \n",
       "52542                       9741558A   \n",
       "52543                       9741624X   \n",
       "52544                       9760296T   \n",
       "52545                       9760382L   \n",
       "\n",
       "                                       nom_etablissement code_commune  \\\n",
       "0                             Ecole maternelle Jean Alix        63284   \n",
       "1                              Ecole maternelle Montjoie        63471   \n",
       "2                          Ecole élémentaire René Cassin        63300   \n",
       "3                           Ecole maternelle George Sand        63113   \n",
       "4                          Ecole élémentaire George Sand        63113   \n",
       "...                                                  ...          ...   \n",
       "52541  Section d'enseignement général et technologiqu...        97411   \n",
       "52542  Section d'enseignement professionnel du Lycée ...        97412   \n",
       "52543  Section d'enseignement professionnel du Lycée ...        97411   \n",
       "52544                          SEP du lycée de Chirongui        97606   \n",
       "52545                      SEP du lycée de Mamoudzou sud        97611   \n",
       "\n",
       "                         adresse_1       adresse_2                 adresse_3  \\\n",
       "0                 Chemin DU MOULIN            None     63430 PONT DU CHATEAU   \n",
       "1                7 rue de Montjoie            None                63700 YOUX   \n",
       "2      Avenue du Général de Gaulle            None                63200 RIOM   \n",
       "3                    Rue de Neyrat            None    63100 CLERMONT FERRAND   \n",
       "4                 71 rue de Neyrat            None    63000 CLERMONT FERRAND   \n",
       "...                            ...             ...                       ...   \n",
       "52541       CITE SCOLAIRE DU BUTOR  BUTOR / BP 155  97492 STE CLOTILDE CEDEX   \n",
       "52542       10  ROUTE DE LA MARINE            None           97480 ST JOSEPH   \n",
       "52543             Route francicéas  Bois de Nèfles            97400 ST DENIS   \n",
       "52544                    CHIRONGUI       CHIRONGUI           97620 CHIRONGUI   \n",
       "52545                        KWALE           KWALE           97605 MAMOUDZOU   \n",
       "\n",
       "      code_postal identifiant_topo_zone_rattachee                    geometry  \\\n",
       "0           63430                            None    POINT (3.25496 45.79291)   \n",
       "1           63700                            None     POINT (2.81888 46.1339)   \n",
       "2           63200                            None    POINT (3.10421 45.88063)   \n",
       "3           63100                            None    POINT (3.10179 45.81044)   \n",
       "4           63000                            None    POINT (3.10282 45.80544)   \n",
       "...           ...                             ...                         ...   \n",
       "52541       97492                            None  POINT (55.47051 -20.88848)   \n",
       "52542       97480                            None  POINT (55.66822 -21.37716)   \n",
       "52543       97400                            None  POINT (55.47752 -20.91054)   \n",
       "52544       97620                            None  POINT (45.15056 -12.93488)   \n",
       "52545       97605                            None   POINT (45.2317 -12.78068)   \n",
       "\n",
       "                                                 adresse  \n",
       "0                 Chemin DU MOULIN 63430 PONT DU CHATEAU  \n",
       "1                           7 rue de Montjoie 63700 YOUX  \n",
       "2                 Avenue du Général de Gaulle 63200 RIOM  \n",
       "3                   Rue de Neyrat 63100 CLERMONT FERRAND  \n",
       "4                71 rue de Neyrat 63000 CLERMONT FERRAND  \n",
       "...                                                  ...  \n",
       "52541  BUTOR / BP 155 CITE SCOLAIRE DU BUTOR 97492 ST...  \n",
       "52542             10  ROUTE DE LA MARINE 97480 ST JOSEPH  \n",
       "52543     Bois de Nèfles Route francicéas 97400 ST DENIS  \n",
       "52544                CHIRONGUI CHIRONGUI 97620 CHIRONGUI  \n",
       "52545                        KWALE KWALE 97605 MAMOUDZOU  \n",
       "\n",
       "[52546 rows x 10 columns]"
      ]
     },
     "execution_count": 18,
     "metadata": {},
     "output_type": "execute_result"
    }
   ],
   "source": [
    "f_etablissements"
   ]
  },
  {
   "cell_type": "code",
   "execution_count": 19,
   "id": "584c22bc",
   "metadata": {},
   "outputs": [
    {
     "data": {
      "text/plain": [
       "0                   Chemin DU MOULIN 63430 PONT DU CHATEAU\n",
       "1                             7 rue de Montjoie 63700 YOUX\n",
       "2                   Avenue du Général de Gaulle 63200 RIOM\n",
       "3                     Rue de Neyrat 63100 CLERMONT FERRAND\n",
       "4                  71 rue de Neyrat 63000 CLERMONT FERRAND\n",
       "                               ...                        \n",
       "52541    BUTOR / BP 155 CITE SCOLAIRE DU BUTOR 97492 ST...\n",
       "52542               10  ROUTE DE LA MARINE 97480 ST JOSEPH\n",
       "52543       Bois de Nèfles Route francicéas 97400 ST DENIS\n",
       "52544                  CHIRONGUI CHIRONGUI 97620 CHIRONGUI\n",
       "52545                          KWALE KWALE 97605 MAMOUDZOU\n",
       "Name: adresse, Length: 52546, dtype: object"
      ]
     },
     "execution_count": 19,
     "metadata": {},
     "output_type": "execute_result"
    }
   ],
   "source": [
    "# Geocodage --> tester de géocoder pour améliorer les adresses et détecter les annomalies\n",
    "f_etablissements[\"adresse\"]"
   ]
  },
  {
   "cell_type": "code",
   "execution_count": 20,
   "id": "ce8b2b02",
   "metadata": {},
   "outputs": [
    {
     "data": {
      "text/plain": [
       "0        63430\n",
       "1        63700\n",
       "2        63200\n",
       "3        63100\n",
       "4        63000\n",
       "         ...  \n",
       "52541    97492\n",
       "52542    97480\n",
       "52543    97400\n",
       "52544    97620\n",
       "52545    97605\n",
       "Name: code_postal, Length: 52546, dtype: object"
      ]
     },
     "execution_count": 20,
     "metadata": {},
     "output_type": "execute_result"
    }
   ],
   "source": [
    "f_etablissements[\"code_postal\"]"
   ]
  },
  {
   "cell_type": "code",
   "execution_count": 21,
   "id": "29f05106",
   "metadata": {},
   "outputs": [
    {
     "data": {
      "text/html": [
       "<div>\n",
       "<style scoped>\n",
       "    .dataframe tbody tr th:only-of-type {\n",
       "        vertical-align: middle;\n",
       "    }\n",
       "\n",
       "    .dataframe tbody tr th {\n",
       "        vertical-align: top;\n",
       "    }\n",
       "\n",
       "    .dataframe thead th {\n",
       "        text-align: right;\n",
       "    }\n",
       "</style>\n",
       "<table border=\"1\" class=\"dataframe\">\n",
       "  <thead>\n",
       "    <tr style=\"text-align: right;\">\n",
       "      <th></th>\n",
       "      <th>#Code_commune_INSEE</th>\n",
       "      <th>Nom_de_la_commune</th>\n",
       "      <th>Code_postal</th>\n",
       "      <th>Libellé_d_acheminement</th>\n",
       "      <th>Ligne_5</th>\n",
       "    </tr>\n",
       "  </thead>\n",
       "  <tbody>\n",
       "    <tr>\n",
       "      <th>0</th>\n",
       "      <td>01001</td>\n",
       "      <td>L ABERGEMENT CLEMENCIAT</td>\n",
       "      <td>01400</td>\n",
       "      <td>L ABERGEMENT CLEMENCIAT</td>\n",
       "      <td>NaN</td>\n",
       "    </tr>\n",
       "    <tr>\n",
       "      <th>1</th>\n",
       "      <td>01002</td>\n",
       "      <td>L ABERGEMENT DE VAREY</td>\n",
       "      <td>01640</td>\n",
       "      <td>L ABERGEMENT DE VAREY</td>\n",
       "      <td>NaN</td>\n",
       "    </tr>\n",
       "    <tr>\n",
       "      <th>2</th>\n",
       "      <td>01004</td>\n",
       "      <td>AMBERIEU EN BUGEY</td>\n",
       "      <td>01500</td>\n",
       "      <td>AMBERIEU EN BUGEY</td>\n",
       "      <td>NaN</td>\n",
       "    </tr>\n",
       "    <tr>\n",
       "      <th>3</th>\n",
       "      <td>01005</td>\n",
       "      <td>AMBERIEUX EN DOMBES</td>\n",
       "      <td>01330</td>\n",
       "      <td>AMBERIEUX EN DOMBES</td>\n",
       "      <td>NaN</td>\n",
       "    </tr>\n",
       "    <tr>\n",
       "      <th>4</th>\n",
       "      <td>01006</td>\n",
       "      <td>AMBLEON</td>\n",
       "      <td>01300</td>\n",
       "      <td>AMBLEON</td>\n",
       "      <td>NaN</td>\n",
       "    </tr>\n",
       "  </tbody>\n",
       "</table>\n",
       "</div>"
      ],
      "text/plain": [
       "  #Code_commune_INSEE        Nom_de_la_commune Code_postal  \\\n",
       "0               01001  L ABERGEMENT CLEMENCIAT       01400   \n",
       "1               01002    L ABERGEMENT DE VAREY       01640   \n",
       "2               01004        AMBERIEU EN BUGEY       01500   \n",
       "3               01005      AMBERIEUX EN DOMBES       01330   \n",
       "4               01006                  AMBLEON       01300   \n",
       "\n",
       "    Libellé_d_acheminement Ligne_5  \n",
       "0  L ABERGEMENT CLEMENCIAT     NaN  \n",
       "1    L ABERGEMENT DE VAREY     NaN  \n",
       "2        AMBERIEU EN BUGEY     NaN  \n",
       "3      AMBERIEUX EN DOMBES     NaN  \n",
       "4                  AMBLEON     NaN  "
      ]
     },
     "execution_count": 21,
     "metadata": {},
     "output_type": "execute_result"
    }
   ],
   "source": [
    "csv_path = \"../data/correspondance-code-insee-code-postal.csv\"\n",
    "gdf_corr = pd.read_csv(csv_path,  sep=\";\", \n",
    "    encoding=\"latin1\",    # <- change l'encodage\n",
    "    engine=\"python\",      # <- parfois plus tolérant\n",
    "    dtype=str )\n",
    "gdf_corr.head()"
   ]
  },
  {
   "cell_type": "code",
   "execution_count": 28,
   "id": "cadfef25",
   "metadata": {},
   "outputs": [],
   "source": [
    "# 2️⃣ Extraction des colonnes utiles et conversion en DataFrame pandas\n",
    "df_corr = pd.DataFrame({\n",
    "    \"code_commune\": gdf_corr[\"#Code_commune_INSEE\"].astype(str),\n",
    "    \"postal_code_ref\": gdf_corr[\"Code_postal\"].astype(str),\n",
    "})\n",
    "\n",
    "# 3️⃣ On enlève les doublons (au cas où)\n",
    "df_corr = df_corr.drop_duplicates(subset=[\"code_commune\", \"postal_code_ref\"])\n",
    "\n",
    "# 4️⃣ Merge avec vos établissements\n",
    "#    On suppose que f_etablissements est déjà un DataFrame pandas\n",
    "#    avec les colonnes 'code_commune' et 'code_postal'\n",
    "merged = f_etablissements[f_etablissements[\"adresse_3\"].isnull()].merge(\n",
    "    df_corr,\n",
    "    on=\"code_commune\",\n",
    "    how=\"left\"\n",
    ")\n",
    "\n",
    "# 5️⃣ Vérification de la correspondance des codes postaux\n",
    "merged[\"postal_ok\"] = merged[\"code_postal\"].astype(str) == merged[\"postal_code_ref\"]\n",
    "\n",
    "# 6️⃣ Résultat final\n",
    "data_merged = merged[[\"identifiant_de_l_etablissement\", \"code_commune\", \"code_postal\", \"postal_code_ref\", \"postal_ok\"]]\n",
    "data_merged[data_merged[\"postal_ok\"] == False].to_csv(\"../data/etablissements_postal_check.csv\", index=False)\n"
   ]
  },
  {
   "cell_type": "code",
   "execution_count": 29,
   "id": "73dc9d04",
   "metadata": {},
   "outputs": [
    {
     "data": {
      "text/html": [
       "<div>\n",
       "<style scoped>\n",
       "    .dataframe tbody tr th:only-of-type {\n",
       "        vertical-align: middle;\n",
       "    }\n",
       "\n",
       "    .dataframe tbody tr th {\n",
       "        vertical-align: top;\n",
       "    }\n",
       "\n",
       "    .dataframe thead th {\n",
       "        text-align: right;\n",
       "    }\n",
       "</style>\n",
       "<table border=\"1\" class=\"dataframe\">\n",
       "  <thead>\n",
       "    <tr style=\"text-align: right;\">\n",
       "      <th></th>\n",
       "      <th>identifiant_de_l_etablissement</th>\n",
       "      <th>code_commune</th>\n",
       "      <th>code_postal</th>\n",
       "      <th>postal_code_ref</th>\n",
       "      <th>postal_ok</th>\n",
       "    </tr>\n",
       "  </thead>\n",
       "  <tbody>\n",
       "    <tr>\n",
       "      <th>1</th>\n",
       "      <td>0313080E</td>\n",
       "      <td>31555</td>\n",
       "      <td>31000</td>\n",
       "      <td>31100</td>\n",
       "      <td>False</td>\n",
       "    </tr>\n",
       "    <tr>\n",
       "      <th>2</th>\n",
       "      <td>0313080E</td>\n",
       "      <td>31555</td>\n",
       "      <td>31000</td>\n",
       "      <td>31200</td>\n",
       "      <td>False</td>\n",
       "    </tr>\n",
       "    <tr>\n",
       "      <th>3</th>\n",
       "      <td>0313080E</td>\n",
       "      <td>31555</td>\n",
       "      <td>31000</td>\n",
       "      <td>31300</td>\n",
       "      <td>False</td>\n",
       "    </tr>\n",
       "    <tr>\n",
       "      <th>4</th>\n",
       "      <td>0313080E</td>\n",
       "      <td>31555</td>\n",
       "      <td>31000</td>\n",
       "      <td>31400</td>\n",
       "      <td>False</td>\n",
       "    </tr>\n",
       "    <tr>\n",
       "      <th>5</th>\n",
       "      <td>0313080E</td>\n",
       "      <td>31555</td>\n",
       "      <td>31000</td>\n",
       "      <td>31500</td>\n",
       "      <td>False</td>\n",
       "    </tr>\n",
       "    <tr>\n",
       "      <th>...</th>\n",
       "      <td>...</td>\n",
       "      <td>...</td>\n",
       "      <td>...</td>\n",
       "      <td>...</td>\n",
       "      <td>...</td>\n",
       "    </tr>\n",
       "    <tr>\n",
       "      <th>10081</th>\n",
       "      <td>0630022G</td>\n",
       "      <td>63113</td>\n",
       "      <td>63100</td>\n",
       "      <td>63000</td>\n",
       "      <td>False</td>\n",
       "    </tr>\n",
       "    <tr>\n",
       "      <th>10083</th>\n",
       "      <td>0630018C</td>\n",
       "      <td>63113</td>\n",
       "      <td>63037</td>\n",
       "      <td>63000</td>\n",
       "      <td>False</td>\n",
       "    </tr>\n",
       "    <tr>\n",
       "      <th>10084</th>\n",
       "      <td>0630018C</td>\n",
       "      <td>63113</td>\n",
       "      <td>63037</td>\n",
       "      <td>63100</td>\n",
       "      <td>False</td>\n",
       "    </tr>\n",
       "    <tr>\n",
       "      <th>10088</th>\n",
       "      <td>0030061A</td>\n",
       "      <td>03095</td>\n",
       "      <td>03306</td>\n",
       "      <td>03300</td>\n",
       "      <td>False</td>\n",
       "    </tr>\n",
       "    <tr>\n",
       "      <th>10091</th>\n",
       "      <td>0150030B</td>\n",
       "      <td>15187</td>\n",
       "      <td>15101</td>\n",
       "      <td>15100</td>\n",
       "      <td>False</td>\n",
       "    </tr>\n",
       "  </tbody>\n",
       "</table>\n",
       "<p>4264 rows × 5 columns</p>\n",
       "</div>"
      ],
      "text/plain": [
       "      identifiant_de_l_etablissement code_commune code_postal postal_code_ref  \\\n",
       "1                           0313080E        31555       31000           31100   \n",
       "2                           0313080E        31555       31000           31200   \n",
       "3                           0313080E        31555       31000           31300   \n",
       "4                           0313080E        31555       31000           31400   \n",
       "5                           0313080E        31555       31000           31500   \n",
       "...                              ...          ...         ...             ...   \n",
       "10081                       0630022G        63113       63100           63000   \n",
       "10083                       0630018C        63113       63037           63000   \n",
       "10084                       0630018C        63113       63037           63100   \n",
       "10088                       0030061A        03095       03306           03300   \n",
       "10091                       0150030B        15187       15101           15100   \n",
       "\n",
       "       postal_ok  \n",
       "1          False  \n",
       "2          False  \n",
       "3          False  \n",
       "4          False  \n",
       "5          False  \n",
       "...          ...  \n",
       "10081      False  \n",
       "10083      False  \n",
       "10084      False  \n",
       "10088      False  \n",
       "10091      False  \n",
       "\n",
       "[4264 rows x 5 columns]"
      ]
     },
     "execution_count": 29,
     "metadata": {},
     "output_type": "execute_result"
    }
   ],
   "source": [
    "data_merged[data_merged[\"postal_ok\"] == False]"
   ]
  },
  {
   "cell_type": "code",
   "execution_count": 23,
   "id": "13394e52",
   "metadata": {},
   "outputs": [
    {
     "data": {
      "text/plain": [
       "20827"
      ]
     },
     "execution_count": 23,
     "metadata": {},
     "output_type": "execute_result"
    }
   ],
   "source": [
    "f_etablissements.code_commune.nunique()"
   ]
  },
  {
   "cell_type": "code",
   "execution_count": 30,
   "id": "997abe1c",
   "metadata": {},
   "outputs": [
    {
     "data": {
      "text/html": [
       "<div>\n",
       "<style scoped>\n",
       "    .dataframe tbody tr th:only-of-type {\n",
       "        vertical-align: middle;\n",
       "    }\n",
       "\n",
       "    .dataframe tbody tr th {\n",
       "        vertical-align: top;\n",
       "    }\n",
       "\n",
       "    .dataframe thead th {\n",
       "        text-align: right;\n",
       "    }\n",
       "</style>\n",
       "<table border=\"1\" class=\"dataframe\">\n",
       "  <thead>\n",
       "    <tr style=\"text-align: right;\">\n",
       "      <th></th>\n",
       "      <th>identifiant_de_l_etablissement</th>\n",
       "      <th>nom_etablissement</th>\n",
       "      <th>code_commune</th>\n",
       "      <th>adresse_1</th>\n",
       "      <th>adresse_2</th>\n",
       "      <th>adresse_3</th>\n",
       "      <th>code_postal</th>\n",
       "      <th>identifiant_topo_zone_rattachee</th>\n",
       "      <th>geometry</th>\n",
       "      <th>adresse</th>\n",
       "    </tr>\n",
       "  </thead>\n",
       "  <tbody>\n",
       "    <tr>\n",
       "      <th>8550</th>\n",
       "      <td>0313080E</td>\n",
       "      <td>Collège Jeanne et Jean Philippe</td>\n",
       "      <td>31555</td>\n",
       "      <td>7 rue Micheline Ostermeyer</td>\n",
       "      <td>None</td>\n",
       "      <td>None</td>\n",
       "      <td>31000</td>\n",
       "      <td>None</td>\n",
       "      <td>POINT (1.39302 43.56027)</td>\n",
       "      <td>7 rue Micheline Ostermeyer</td>\n",
       "    </tr>\n",
       "    <tr>\n",
       "      <th>9550</th>\n",
       "      <td>0313228R</td>\n",
       "      <td>Lycée polyvalent d'Auterive</td>\n",
       "      <td>31033</td>\n",
       "      <td>600 route d'Espagne</td>\n",
       "      <td>None</td>\n",
       "      <td>None</td>\n",
       "      <td>31190</td>\n",
       "      <td>None</td>\n",
       "      <td>POINT (1.47471 43.3448)</td>\n",
       "      <td>600 route d'Espagne</td>\n",
       "    </tr>\n",
       "    <tr>\n",
       "      <th>9551</th>\n",
       "      <td>9730094P</td>\n",
       "      <td>Lycée professionnel Jean Marie Michotte</td>\n",
       "      <td>97302</td>\n",
       "      <td>Boulevard de la République</td>\n",
       "      <td>BP 5018</td>\n",
       "      <td>None</td>\n",
       "      <td>97305</td>\n",
       "      <td>None</td>\n",
       "      <td>POINT (-52.32394 4.938)</td>\n",
       "      <td>BP 5018 Boulevard de la République</td>\n",
       "    </tr>\n",
       "    <tr>\n",
       "      <th>9552</th>\n",
       "      <td>0061760F</td>\n",
       "      <td>Lycée Alexis de Tocqueville</td>\n",
       "      <td>06069</td>\n",
       "      <td>22 chemin de l'Orme</td>\n",
       "      <td>BP 72111</td>\n",
       "      <td>None</td>\n",
       "      <td>06131</td>\n",
       "      <td>None</td>\n",
       "      <td>POINT (6.94095 43.65363)</td>\n",
       "      <td>BP 72111 22 chemin de l'Orme</td>\n",
       "    </tr>\n",
       "    <tr>\n",
       "      <th>9553</th>\n",
       "      <td>0142133T</td>\n",
       "      <td>Lycée Laplace - Dumont d'Urville</td>\n",
       "      <td>14118</td>\n",
       "      <td>130 rue de la Délivrande</td>\n",
       "      <td>BP 75183</td>\n",
       "      <td>None</td>\n",
       "      <td>14075</td>\n",
       "      <td>None</td>\n",
       "      <td>POINT (-0.35722 49.19631)</td>\n",
       "      <td>BP 75183 130 rue de la Délivrande</td>\n",
       "    </tr>\n",
       "    <tr>\n",
       "      <th>...</th>\n",
       "      <td>...</td>\n",
       "      <td>...</td>\n",
       "      <td>...</td>\n",
       "      <td>...</td>\n",
       "      <td>...</td>\n",
       "      <td>...</td>\n",
       "      <td>...</td>\n",
       "      <td>...</td>\n",
       "      <td>...</td>\n",
       "      <td>...</td>\n",
       "    </tr>\n",
       "    <tr>\n",
       "      <th>52240</th>\n",
       "      <td>0031044U</td>\n",
       "      <td>Lycée polyvalent Geneviève Vincent</td>\n",
       "      <td>03082</td>\n",
       "      <td>15 boulevard du Général de Gaulle</td>\n",
       "      <td>None</td>\n",
       "      <td>None</td>\n",
       "      <td>03600</td>\n",
       "      <td>None</td>\n",
       "      <td>POINT (2.73495 46.29235)</td>\n",
       "      <td>15 boulevard du Général de Gaulle</td>\n",
       "    </tr>\n",
       "    <tr>\n",
       "      <th>52241</th>\n",
       "      <td>0430112N</td>\n",
       "      <td>LEGTA de Brioude Bonnefont Saugues - site de F...</td>\n",
       "      <td>43096</td>\n",
       "      <td>Route de Bonnefont</td>\n",
       "      <td>None</td>\n",
       "      <td>None</td>\n",
       "      <td>43100</td>\n",
       "      <td>None</td>\n",
       "      <td>POINT (3.42341 45.29192)</td>\n",
       "      <td>Route de Bonnefont</td>\n",
       "    </tr>\n",
       "    <tr>\n",
       "      <th>52242</th>\n",
       "      <td>0150030B</td>\n",
       "      <td>Lycée polyvalent de Haute Auvergne</td>\n",
       "      <td>15187</td>\n",
       "      <td>20 rue Marcellin Boudet</td>\n",
       "      <td>BP 41</td>\n",
       "      <td>None</td>\n",
       "      <td>15101</td>\n",
       "      <td>None</td>\n",
       "      <td>POINT (3.08198 45.0352)</td>\n",
       "      <td>BP 41 20 rue Marcellin Boudet</td>\n",
       "    </tr>\n",
       "    <tr>\n",
       "      <th>52243</th>\n",
       "      <td>0430023S</td>\n",
       "      <td>Lycée professionnel Auguste Aymard</td>\n",
       "      <td>43089</td>\n",
       "      <td>2 rue Saint Marcel</td>\n",
       "      <td>None</td>\n",
       "      <td>None</td>\n",
       "      <td>43000</td>\n",
       "      <td>None</td>\n",
       "      <td>POINT (3.86845 45.04909)</td>\n",
       "      <td>2 rue Saint Marcel</td>\n",
       "    </tr>\n",
       "    <tr>\n",
       "      <th>52244</th>\n",
       "      <td>0430113P</td>\n",
       "      <td>LEGTA George Sand</td>\n",
       "      <td>43268</td>\n",
       "      <td>85 route de Queyrières</td>\n",
       "      <td>BP 41</td>\n",
       "      <td>None</td>\n",
       "      <td>43200</td>\n",
       "      <td>None</td>\n",
       "      <td>POINT (4.12359 45.13471)</td>\n",
       "      <td>BP 41 85 route de Queyrières</td>\n",
       "    </tr>\n",
       "  </tbody>\n",
       "</table>\n",
       "<p>7988 rows × 10 columns</p>\n",
       "</div>"
      ],
      "text/plain": [
       "      identifiant_de_l_etablissement  \\\n",
       "8550                        0313080E   \n",
       "9550                        0313228R   \n",
       "9551                        9730094P   \n",
       "9552                        0061760F   \n",
       "9553                        0142133T   \n",
       "...                              ...   \n",
       "52240                       0031044U   \n",
       "52241                       0430112N   \n",
       "52242                       0150030B   \n",
       "52243                       0430023S   \n",
       "52244                       0430113P   \n",
       "\n",
       "                                       nom_etablissement code_commune  \\\n",
       "8550                     Collège Jeanne et Jean Philippe        31555   \n",
       "9550                         Lycée polyvalent d'Auterive        31033   \n",
       "9551             Lycée professionnel Jean Marie Michotte        97302   \n",
       "9552                         Lycée Alexis de Tocqueville        06069   \n",
       "9553                    Lycée Laplace - Dumont d'Urville        14118   \n",
       "...                                                  ...          ...   \n",
       "52240                 Lycée polyvalent Geneviève Vincent        03082   \n",
       "52241  LEGTA de Brioude Bonnefont Saugues - site de F...        43096   \n",
       "52242                 Lycée polyvalent de Haute Auvergne        15187   \n",
       "52243                 Lycée professionnel Auguste Aymard        43089   \n",
       "52244                                  LEGTA George Sand        43268   \n",
       "\n",
       "                               adresse_1 adresse_2 adresse_3 code_postal  \\\n",
       "8550          7 rue Micheline Ostermeyer      None      None       31000   \n",
       "9550                 600 route d'Espagne      None      None       31190   \n",
       "9551          Boulevard de la République   BP 5018      None       97305   \n",
       "9552                 22 chemin de l'Orme  BP 72111      None       06131   \n",
       "9553            130 rue de la Délivrande  BP 75183      None       14075   \n",
       "...                                  ...       ...       ...         ...   \n",
       "52240  15 boulevard du Général de Gaulle      None      None       03600   \n",
       "52241                 Route de Bonnefont      None      None       43100   \n",
       "52242            20 rue Marcellin Boudet     BP 41      None       15101   \n",
       "52243                 2 rue Saint Marcel      None      None       43000   \n",
       "52244             85 route de Queyrières     BP 41      None       43200   \n",
       "\n",
       "      identifiant_topo_zone_rattachee                   geometry  \\\n",
       "8550                             None   POINT (1.39302 43.56027)   \n",
       "9550                             None    POINT (1.47471 43.3448)   \n",
       "9551                             None    POINT (-52.32394 4.938)   \n",
       "9552                             None   POINT (6.94095 43.65363)   \n",
       "9553                             None  POINT (-0.35722 49.19631)   \n",
       "...                               ...                        ...   \n",
       "52240                            None   POINT (2.73495 46.29235)   \n",
       "52241                            None   POINT (3.42341 45.29192)   \n",
       "52242                            None    POINT (3.08198 45.0352)   \n",
       "52243                            None   POINT (3.86845 45.04909)   \n",
       "52244                            None   POINT (4.12359 45.13471)   \n",
       "\n",
       "                                   adresse  \n",
       "8550           7 rue Micheline Ostermeyer   \n",
       "9550                  600 route d'Espagne   \n",
       "9551   BP 5018 Boulevard de la République   \n",
       "9552         BP 72111 22 chemin de l'Orme   \n",
       "9553    BP 75183 130 rue de la Délivrande   \n",
       "...                                    ...  \n",
       "52240   15 boulevard du Général de Gaulle   \n",
       "52241                  Route de Bonnefont   \n",
       "52242       BP 41 20 rue Marcellin Boudet   \n",
       "52243                  2 rue Saint Marcel   \n",
       "52244        BP 41 85 route de Queyrières   \n",
       "\n",
       "[7988 rows x 10 columns]"
      ]
     },
     "execution_count": 30,
     "metadata": {},
     "output_type": "execute_result"
    }
   ],
   "source": [
    "f_etablissements[f_etablissements[\"adresse_3\"].isnull()]"
   ]
  },
  {
   "cell_type": "markdown",
   "id": "2349c4bc",
   "metadata": {},
   "source": [
    "> Conclusion : Mauvaise approche"
   ]
  }
 ],
 "metadata": {
  "kernelspec": {
   "display_name": "potentiel-solaire-py3.13",
   "language": "python",
   "name": "python3"
  },
  "language_info": {
   "codemirror_mode": {
    "name": "ipython",
    "version": 3
   },
   "file_extension": ".py",
   "mimetype": "text/x-python",
   "name": "python",
   "nbconvert_exporter": "python",
   "pygments_lexer": "ipython3",
   "version": "3.13.0"
  }
 },
 "nbformat": 4,
 "nbformat_minor": 5
}
