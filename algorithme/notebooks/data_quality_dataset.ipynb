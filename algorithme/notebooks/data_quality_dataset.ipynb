{
 "cells": [
  {
   "cell_type": "markdown",
   "id": "56b156a8-4117-48a7-aa3f-2a6c14c81152",
   "metadata": {},
   "source": [
    "# TABLE DES MATIERES\n",
    "* [INFORMATIONS ATTENDUES](#INFORMATIONS-ATTENDUES)\n",
    "* [SOURCES](#SOURCES)\n",
    "    * [ANNUAIRE](#ANNUAIRE)\n",
    "    * [BDD TOPO](#BDD-TOPO)\n",
    "    * [POTENTIEL GISEMENT SOLAIRE BRUT AU BATI](#POTENTIEL-GISEMENT-SOLAIRE-BRUT-AU-BATI)\n",
    "    * [POTENTIEL SOLAIRE](#POTENTIEL-SOLAIRE)\n",
    "* [EVALUATION](#EVALUATION)\n",
    "    * [COMPLETUDE](#COMPLETUDE)\n",
    "    * [PROXIMITE](#PROXIMITE)\n",
    "        * [Similarité cosinus entre deux textes](#Similarité-cosinus-entre-deux-textes) "
   ]
  },
  {
   "cell_type": "markdown",
   "id": "1c941c64-37aa-4283-881a-a95ffc2c3714",
   "metadata": {},
   "source": [
    "Références: \n",
    "- https://outline.services.dataforgood.fr/doc/contraintes-a-respecter-pour-linstallation-de-panneaux-solaires-W2W2IaNwKn\n",
    "- https://data-iau-idf.opendata.arcgis.com/datasets/iau-idf::le-potentiel-solaire-des-toitures/about\n",
    "- https://outline.services.dataforgood.fr/doc/ressources-algorithme-9afGJyytC8\n",
    "- https://geocatalogue.apur.org/catalogue/srv/fre/catalog.search#/metadata/urn:apur:potentiel_gisement_solaire_brut_au_bati"
   ]
  },
  {
   "cell_type": "markdown",
   "id": "1b9bf510-67fb-4324-896f-84bab38c881b",
   "metadata": {},
   "source": [
    "# INFORMATIONS ATTENDUES"
   ]
  },
  {
   "cell_type": "markdown",
   "id": "84c71694-ad89-4fbb-bad8-2a6bbfb272eb",
   "metadata": {},
   "source": [
    "## Contraintes à respecter (Nocodb)\n",
    "- Logistique\n",
    "    - Pente du toit\n",
    "    - Orientation au soleil\n",
    "    - Latitude\n",
    "    - Indice de rayonnement solaire local\n",
    "    - Bâtiments classés\n",
    "    - Bâtiments en zone non classée\n",
    "    - Ombre (Bâtiments adjacents & végétations)\n",
    "    - Eléments présents sur le toit\n",
    "    - Structure porteuse (est-ce que le bâtiment peut supporter le poids?)\n",
    "- Réseaux"
   ]
  },
  {
   "cell_type": "markdown",
   "id": "5e592c8c-bbc2-44e2-a632-a4142d4a22ae",
   "metadata": {
    "jp-MarkdownHeadingCollapsed": true
   },
   "source": [
    "# Potentiel Solaire - Attributs importants\n",
    "- surf_util : Surface présentant une irradiation suffisante (> 900 kWh/m².an) et sans obstacles (comme des cheminées, velux, aérations, etc.). Cette surface est réellement utilisable pour l'installation de panneaux solaires.\n",
    "- indic2 : Valeur numérique correspondant au gisement solaire. Les valeurs possibles sont :\n",
    "1 : Non favorable\n",
    "1 : Faible\n",
    "2 : Intermédiaire\n",
    "3 : Important\n",
    "- gisement : Classification du gisement solaire en termes qualitatifs : \"important\", \"intermédiaire\", \"faible\", ou \"Non favorable\".\n",
    "- moyenne2 : Potentiel solaire moyen au m² du bâtiment, exprimé en kWh/m².an. Cet indicateur représente la quantité d'énergie solaire reçue sur la surface utile.\n",
    "- production : La production annuelle théorique en kWh/an, qui est une estimation de la quantité d'énergie solaire que la toiture pourrait produire sur une année.\n",
    "- forme : Forme de la toiture estimée à partir d'un modèle numérique de surface. La forme de la toiture peut influencer l'ensoleillement et donc le potentiel solaire.\n",
    "- eq_pano : La surface utile en équivalent panneaux solaires. Cet attribut indique le nombre de panneaux solaires susceptibles d'être installés sur la toiture.\n",
    "- eq_surf : L'équivalent en superficie de l'équivalent panneau solaire, qui donne une idée de la surface disponible pour l'installation de panneaux solaires."
   ]
  },
  {
   "cell_type": "markdown",
   "id": "e6c249b4-434b-4d36-a338-8e4550bfccef",
   "metadata": {},
   "source": [
    "# Qualité du rattachement de l'annuaire avec les surfaces / bâtiments de la BD TOPO\n",
    "\"un des points importants à regarder en l'état c'est la qualité du rattachement de l'annuaire avec les surfaces / bâtiments de la BD TOPO. Pour le moment c'est une règle sur la proximité géographique qui est utilisée mais il y a d'autres métadonnées qui peuvent nous éclairer je pense. Par exemple :\n",
    "le champs toponyme du layer zone d'activité de la BD TOPO (ex : \"Ecole Elementaire Victor Hugo\") avec le champs nom_etablissement de l'annuaire (ex: \"Ecole élémentaire Victor Hugo\")\n",
    "le champs nature du layer zone d'activité de la BD TOPO (9 valeurs possibles) avec type_etablissement de l'annuaire (8 valeurs possibles)\n",
    "En creusant, c'est clairement pas l'égalité à chercher mais peut etre calculer la proximité des valeurs (ou juste les comparer) pour voir si on s'est pas complètement loupé. Ou trouver une piste pour les établissements de l'annuaire sans surface d'activité.\n",
    "Sachant que j'ai pas regardé tous les champs et il y a peut être d'autres informations à utiliser.\""
   ]
  },
  {
   "cell_type": "markdown",
   "id": "9a6ef9cc-78be-475d-bdee-e0307d0d182b",
   "metadata": {},
   "source": [
    "# SOURCES"
   ]
  },
  {
   "cell_type": "markdown",
   "id": "dfe5b916-7061-4c11-a72c-daaf70975a6f",
   "metadata": {},
   "source": [
    "## ANNUAIRE"
   ]
  },
  {
   "cell_type": "code",
   "execution_count": null,
   "id": "f42bd62e-0e6d-4cc3-8055-1f4e39add290",
   "metadata": {},
   "outputs": [],
   "source": [
    "import geopandas as gpd\n",
    "from pathlib import Path\n",
    "import matplotlib.pyplot as plt\n",
    "import contextily as cx\n",
    "import fiona\n",
    "import pandas as pd\n",
    "\n",
    "# Potentiel solaire package\n",
    "from potentiel_solaire.constants import DATA_FOLDER"
   ]
  },
  {
   "cell_type": "code",
   "execution_count": null,
   "id": "f28e14a9-cbf9-427d-9db3-d5b7f0a532fb",
   "metadata": {},
   "outputs": [],
   "source": [
    "!extract-sample-data"
   ]
  },
  {
   "cell_type": "code",
   "execution_count": null,
   "id": "ba70ef56-90e1-4cbf-a824-4f403f671b3f",
   "metadata": {},
   "outputs": [],
   "source": [
    "annuaire = gpd.read_file(DATA_FOLDER / 'fr-en-annuaire-education.geojson')\n",
    "annuaire = annuaire.to_crs(4326)\n",
    "#annuaire.shape\n",
    "annuaire[annuaire.code_commune=='93066'].sample(15) # Saint-Denis"
   ]
  },
  {
   "cell_type": "markdown",
   "id": "54759eca-26f0-42f7-8eab-8748039c1dc1",
   "metadata": {},
   "source": [
    "## BDD TOPO"
   ]
  },
  {
   "cell_type": "code",
   "execution_count": null,
   "id": "c4b5874c-26bd-4534-8294-c5118939fedd",
   "metadata": {},
   "outputs": [],
   "source": [
    "GPKG = DATA_FOLDER / \"BDTOPO_3-4_TOUSTHEMES_GPKG_LAMB93_D093_2024-12-15/BDTOPO/1_DONNEES_LIVRAISON_2024-12-00134/BDT_3-4_GPKG_LAMB93_D093-ED2024-12-15/BDT_3-4_GPKG_LAMB93_D093-ED2024-12-15.gpkg\"\n",
    "communes = gpd.read_file(GPKG, layer=\"commune\")\n",
    "\n",
    "# on filtre sur saint-denis\n",
    "saint_denis = communes[communes.code_insee == \"93066\"].to_crs(4326)\n"
   ]
  },
  {
   "cell_type": "code",
   "execution_count": null,
   "id": "512f67ee-023a-4128-ac36-a4edc44206f8",
   "metadata": {},
   "outputs": [],
   "source": [
    "# Exploration des layers\n",
    "layers = fiona.listlayers(GPKG)\n",
    "layers"
   ]
  },
  {
   "cell_type": "code",
   "execution_count": null,
   "id": "d7a15a5b-f825-4935-8486-044d85ab5305",
   "metadata": {
    "scrolled": true
   },
   "outputs": [],
   "source": [
    "zone_d_activite=gpd.read_file(GPKG, layer=\"zone_d_activite_ou_d_interet\")"
   ]
  },
  {
   "cell_type": "code",
   "execution_count": null,
   "id": "faaf04c8-39d8-4fb4-bc4b-1fa5e8a586d3",
   "metadata": {},
   "outputs": [],
   "source": [
    "zone_d_activite[zone_d_activite.categorie=='Science et enseignement']"
   ]
  },
  {
   "cell_type": "markdown",
   "id": "09329fb1-8339-43bc-abe2-594f71408845",
   "metadata": {},
   "source": [
    "## POTENTIEL GISEMENT SOLAIRE BRUT AU BATI\n"
   ]
  },
  {
   "cell_type": "markdown",
   "id": "733bc2e4-3d4b-40e1-b769-d41832f5ab38",
   "metadata": {},
   "source": [
    "Les attributs importants pour le projet sont en **gras** \n",
    "\n",
    "- N_SQ_EB: Identifiant informatique séquentiel\n",
    "- **C_CAINSEE: Code INSEE de la commune/arrondissement**\n",
    "- **C_ENS_MOY: Ensoleillement annuel moyen (KWh/m²/an)**\n",
    "- M2_E_IN700: Surface d'ensoleillement inférieure à 700 KWh/m²/an\n",
    "- M2_E_70_80: Surface d'ensoleillement comprise entre 700 et 800 KWh/m²/an\n",
    "- M2_E_80_90: Surface d'ensoleillement comprise entre 800 et 900 KWh/m²/an\n",
    "- **M2_E_90_10: Surface d'ensoleillement comprise entre 900 et 1000 KWh/m²/an**\n",
    "- **M2_E_S1000: Surface d'ensoleillement supérieure à 1000 KWh/m²/an**\n",
    "- **M2_E_TOT: Surface totale d'ensoleillement (m²)**\n",
    "- SHAPE_LENGTH: Périmètre de l’emprise (m)\n",
    "- SHAPE_AREA: Surface de l’emprise (m²)"
   ]
  },
  {
   "cell_type": "code",
   "execution_count": null,
   "id": "d154b4db-0a28-432f-bc61-fd325ddb99e2",
   "metadata": {},
   "outputs": [],
   "source": [
    "potentiel_gisement_solaire = gpd.read_file(DATA_FOLDER / 'potentiel-gisement-solaire-brut-au-bati.geojson')\n",
    "potentiel_gisement_solaire = potentiel_gisement_solaire.to_crs(4326)"
   ]
  },
  {
   "cell_type": "code",
   "execution_count": null,
   "id": "63dc82b4-d335-428d-81a7-cccbbde56d10",
   "metadata": {},
   "outputs": [],
   "source": [
    "potentiel_gisement_solaire[potentiel_gisement_solaire.c_cainsee==93066]"
   ]
  },
  {
   "cell_type": "markdown",
   "id": "7b1ad175-3ebe-451d-9737-8d30a26df499",
   "metadata": {},
   "source": [
    "## POTENTIEL SOLAIRE"
   ]
  },
  {
   "cell_type": "code",
   "execution_count": null,
   "id": "7a526322-c1b5-44c8-a20a-ee50a2af86d7",
   "metadata": {},
   "outputs": [],
   "source": [
    "potentiel = gpd.read_file(DATA_FOLDER / 'potentiel-solaire.geojson')"
   ]
  },
  {
   "cell_type": "code",
   "execution_count": null,
   "id": "4fbf2141-6e1d-40c2-b4fd-175e283f73df",
   "metadata": {},
   "outputs": [],
   "source": [
    "potentiel"
   ]
  },
  {
   "cell_type": "markdown",
   "id": "0f38a9bc-af07-4e09-9054-a14eac72d213",
   "metadata": {},
   "source": [
    "# EVALUATION"
   ]
  },
  {
   "cell_type": "markdown",
   "id": "edb6d8be-42f4-44c6-b588-d58bc7580b86",
   "metadata": {},
   "source": [
    "## COMPLETUDE"
   ]
  },
  {
   "cell_type": "markdown",
   "id": "b9f9ba54-4586-44c8-9421-6f8f03f4bc2f",
   "metadata": {},
   "source": [
    "### Valeurs manquantes"
   ]
  },
  {
   "cell_type": "code",
   "execution_count": null,
   "id": "7a839162-b196-4838-a622-9222ada80650",
   "metadata": {},
   "outputs": [],
   "source": [
    "taux_noms_etablissements_manquants=annuaire.nom_etablissement.isnull().sum()/len(annuaire.nom_etablissement)\n",
    "print(f\"Taux de noms d'établissement manquants: {taux_noms_etablissements_manquants} %\")"
   ]
  },
  {
   "cell_type": "code",
   "execution_count": null,
   "id": "61c98a50-abbb-4246-a435-66da837e7c01",
   "metadata": {},
   "outputs": [],
   "source": [
    "taux_toponymes_manquants=zone_d_activite.toponyme.isnull().sum()/len(zone_d_activite.toponyme)\n",
    "print(f\"Taux de toponymes*100 manquants: {taux_toponymes_manquants*100} %\") "
   ]
  },
  {
   "cell_type": "markdown",
   "id": "53c7eb93-12a4-4f77-af96-7c3df6b28822",
   "metadata": {},
   "source": [
    "### Couverture temporelle"
   ]
  },
  {
   "cell_type": "code",
   "execution_count": null,
   "id": "aa4883a0-f7d4-4755-b0dd-a7424d17fb8d",
   "metadata": {},
   "outputs": [],
   "source": [
    "annuaire[(annuaire.type_etablissement=='Ecole') & (annuaire.code_commune=='93066')].date_maj_ligne.unique()"
   ]
  },
  {
   "cell_type": "code",
   "execution_count": null,
   "id": "df778b8d-114b-4f1e-a960-f755d74b6767",
   "metadata": {},
   "outputs": [],
   "source": [
    "zone_d_activite[zone_d_activite.categorie=='Science et enseignement'][[\"date_modification\"]].sort_values(by='date_modification',ascending=False)"
   ]
  },
  {
   "cell_type": "markdown",
   "id": "d4271341-a366-4c08-95ae-b36dcb31efbc",
   "metadata": {},
   "source": [
    "## PROXIMITE"
   ]
  },
  {
   "cell_type": "markdown",
   "id": "b123b570-070a-4ddd-a9ef-6ad47c5ab293",
   "metadata": {},
   "source": [
    "Pour voir si les informations sont bien correlées, essayons de calculer la proximité des valeurs (ou juste les comparer) entre sources de données "
   ]
  },
  {
   "cell_type": "code",
   "execution_count": null,
   "id": "28771dd2-c9f5-42e5-89a1-96ccf0c151e8",
   "metadata": {},
   "outputs": [],
   "source": [
    "# recherche avec suppression préalable des accents (normalisation + encodage + desencodage + minuscule) \n",
    "s_annuaire_ecole_1=annuaire[annuaire.nom_etablissement.str.normalize('NFKD').str.encode('ascii', errors='ignore').str.decode('utf-8').str.lower()==\"ecole elementaire daniel sorano\"]\n",
    "s_annuaire_ecole_1"
   ]
  },
  {
   "cell_type": "code",
   "execution_count": null,
   "id": "b1542ffc-8c3d-4942-9725-8b423365ffa3",
   "metadata": {},
   "outputs": [],
   "source": [
    "s_bddtopo_ecole_1=zone_d_activite[zone_d_activite.toponyme.str.normalize('NFKD').str.encode('ascii', errors='ignore').str.decode('utf-8').str.lower().str.contains(\"ecole elementaire daniel sorano\")==True]\n",
    "s_bddtopo_ecole_1"
   ]
  },
  {
   "cell_type": "code",
   "execution_count": null,
   "id": "7c262b4b-c8fb-461a-ba72-ab85591b4762",
   "metadata": {},
   "outputs": [],
   "source": [
    "s_annuaire_ecole_1[['nom_etablissement','type_etablissement']]"
   ]
  },
  {
   "cell_type": "code",
   "execution_count": null,
   "id": "9ffb218d-4cf9-404e-8b61-30d7ad5ab6f6",
   "metadata": {},
   "outputs": [],
   "source": [
    "s_bddtopo_ecole_1[['toponyme','nature']]"
   ]
  },
  {
   "cell_type": "markdown",
   "id": "719e298f-39ce-46cf-babd-c7a93577b369",
   "metadata": {},
   "source": [
    "### Similarité cosinus entre deux textes"
   ]
  },
  {
   "cell_type": "markdown",
   "id": "aadada9e-f798-47e6-8029-de1f4c65a409",
   "metadata": {},
   "source": [
    "Nous calculons la similarité cosinus entre deux attributs texte pour déterminer le taux de similarité  \n",
    "Plus la valeur de la similarité cosinus est :  \n",
    "- proche de 1, plus les textes sont similaires.  \n",
    "- proche de 0, plus les textes sont différents."
   ]
  },
  {
   "cell_type": "code",
   "execution_count": null,
   "id": "25f12320-e14e-4f66-9dd6-56770f53fbf4",
   "metadata": {},
   "outputs": [],
   "source": [
    "import nltk\n",
    "nltk.download(\"stopwords\")\n",
    "\n",
    "from nltk.corpus import stopwords\n",
    "from nltk.tokenize import word_tokenize\n",
    "\n",
    "from unidecode import unidecode"
   ]
  },
  {
   "cell_type": "code",
   "execution_count": null,
   "id": "c3a7b38a-550d-4b93-bfc9-d93da112409a",
   "metadata": {},
   "outputs": [],
   "source": [
    "def similarite_cosinus(X,Y):\n",
    "    # Programme pour mesurer la similarité entre\n",
    "    # deux phrases en utilisant la similarité cosinus (similarité=1 -> identique, similarité=0 -> pas du tout similaire)\n",
    "\n",
    "    # Suppression des accents et passage en minuscules\n",
    "    X = unidecode(X).lower()\n",
    "    Y = unidecode(Y).lower()\n",
    "    \n",
    "    # Tokenisation\n",
    "    X_list = word_tokenize(X)\n",
    "    Y_list = word_tokenize(Y)\n",
    "    \n",
    "    # sw contient la liste des mots vides\n",
    "    sw = set(stopwords.words('french'))\n",
    "    l1 = []\n",
    "    l2 = []\n",
    "    \n",
    "    # Supprimer les mots vides de la chaîne\n",
    "    X_set = {w for w in X_list if w not in sw}\n",
    "    Y_set = {w for w in Y_list if w not in sw}\n",
    "    \n",
    "    # Former un ensemble contenant les mots-clés des deux chaînes\n",
    "    rvector = X_set.union(Y_set)\n",
    "    for w in rvector:\n",
    "        if w in X_set:\n",
    "            l1.append(1)  # créer un premier vecteur\n",
    "        else:\n",
    "            l1.append(0)\n",
    "        if w in Y_set:\n",
    "            l2.append(1) # créer un deuxieme vecteur\n",
    "        else:\n",
    "            l2.append(0)\n",
    "    c = 0\n",
    "    \n",
    "    # Formule du cosinus\n",
    "    for i in range(len(rvector)):\n",
    "        c += l1[i] * l2[i]\n",
    "    cosine = c / float((sum(l1) * sum(l2)) ** 0.5)\n",
    "    return cosine"
   ]
  },
  {
   "cell_type": "code",
   "execution_count": null,
   "id": "2a279ae3-fc8b-4475-9787-3cfbf7e43b29",
   "metadata": {},
   "outputs": [],
   "source": [
    "X=s_annuaire_ecole_1['nom_etablissement'].values[0]\n",
    "Y=s_bddtopo_ecole_1['toponyme'].values[0]\n",
    "\n",
    "print(f\"similarité ({X}|{Y}): {similarite_cosinus(X,Y)}\")"
   ]
  },
  {
   "cell_type": "markdown",
   "id": "c4f60e5c-2721-4c53-8832-5e9f191926ff",
   "metadata": {},
   "source": [
    "Les attributs annuaire.nom_etablissement et bddtop.toponyme sont identiques"
   ]
  },
  {
   "cell_type": "code",
   "execution_count": null,
   "id": "b618ad93-1223-4768-9882-defdf99f632e",
   "metadata": {},
   "outputs": [],
   "source": [
    "X=s_annuaire_ecole_1['type_etablissement'].values[0]\n",
    "Y=s_bddtopo_ecole_1['nature'].values[0]\n",
    "\n",
    "print(f\"similarité ({X}|{Y}): {similarite_cosinus(X,Y)}\")"
   ]
  }
 ],
 "metadata": {
  "kernelspec": {
   "display_name": "Python 3 (ipykernel)",
   "language": "python",
   "name": "python3"
  },
  "language_info": {
   "codemirror_mode": {
    "name": "ipython",
    "version": 3
   },
   "file_extension": ".py",
   "mimetype": "text/x-python",
   "name": "python",
   "nbconvert_exporter": "python",
   "pygments_lexer": "ipython3",
   "version": "3.12.8"
  }
 },
 "nbformat": 4,
 "nbformat_minor": 5
}
