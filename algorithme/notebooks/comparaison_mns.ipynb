{
 "cells": [
  {
   "cell_type": "code",
   "execution_count": null,
   "id": "4b3317c5",
   "metadata": {},
   "outputs": [],
   "source": [
    "import pandas as pd\n",
    "import geopandas as gpd\n",
    "import matplotlib.pyplot as plt\n",
    "from rasterio.plot import show\n",
    "\n",
    "from potentiel_solaire.sources.bd_topo import extract_bd_topo, get_topo_buildings_of_interest\n",
    "from potentiel_solaire.features.roof_attributes import recuperation_mnh, segmentation_toits, recuperation_mns\n",
    "\n",
    "from potentiel_solaire.constants import DATA_FOLDER, RESULTS_FOLDER, DEFAULT_CRS\n",
    "\n",
    "import warnings\n",
    "\n",
    "warnings.filterwarnings(\"ignore\")\n",
    "\n",
    "code_departement = \"063\"\n",
    "\n",
    "sample_size = 500\n",
    "random_state = 45"
   ]
  },
  {
   "cell_type": "code",
   "execution_count": null,
   "id": "bfa10cd0",
   "metadata": {},
   "outputs": [],
   "source": [
    "path_results = RESULTS_FOLDER / f\"D{code_departement}_pipeline_results.gpkg\"\n",
    "\n",
    "solar_potential_of_schools_buildings = gpd.read_file(path_results, layer=\"solar_potential_of_schools_buildings\").to_crs(2154)\n",
    "\n",
    "solar_potential_of_schools_buildings.head()"
   ]
  },
  {
   "cell_type": "markdown",
   "id": "5b64a51b",
   "metadata": {},
   "source": [
    "## Proportion de batiments avec ou sans surface utile selon notre algorithme"
   ]
  },
  {
   "cell_type": "code",
   "execution_count": null,
   "id": "6602f200",
   "metadata": {},
   "outputs": [],
   "source": [
    "plt.rcParams['figure.figsize'] = [5, 5]\n",
    "\n",
    "plt.pie(\n",
    "    [len(solar_potential_of_schools_buildings[solar_potential_of_schools_buildings[\"surface_utile\"]==0]),\n",
    "     len(solar_potential_of_schools_buildings[solar_potential_of_schools_buildings[\"surface_utile\"]>0])],\n",
    "    labels=[\"Pas de surface utile\", \"Surface utile disponible\"],\n",
    "    autopct=\"%1.1f%%\",\n",
    "    startangle=90,                                                                                                                                                  \n",
    ")\n",
    "\n",
    "plt.title(\"Répartition des bâtiments scolaires selon la surface utile disponible\")\n",
    "\n",
    "plt.show()"
   ]
  },
  {
   "cell_type": "markdown",
   "id": "042c8221",
   "metadata": {},
   "source": [
    "## Récupération de la surface utile et la pente par batiments grâce aux données MNS"
   ]
  },
  {
   "cell_type": "code",
   "execution_count": null,
   "id": "6c7feccc",
   "metadata": {},
   "outputs": [],
   "source": [
    "def get_usable_surface(building):\n",
    "\n",
    "    print(building[\"index\"], \"/\", sample_size)\n",
    "\n",
    "    building = gpd.GeoDataFrame([building.values], columns=solar_potential_of_schools_buildings_sampled.columns, crs=2154)\n",
    "\n",
    "    mns = segmentation_toits(recuperation_mns(building))\n",
    "\n",
    "    mns_surface_utile = mns[\"surface\"].sum()\n",
    "\n",
    "    mns_slope = mns[\"slope\"].to_numpy()\n",
    "\n",
    "    return pd.Series({\n",
    "        \"mns_surface_utile\": mns_surface_utile,\n",
    "        \"mns_slope\": mns_slope,\n",
    "    })\n",
    "\n",
    "solar_potential_of_schools_buildings_sampled = solar_potential_of_schools_buildings.sample(sample_size, random_state=random_state).reset_index(drop=True)\n",
    "solar_potential_of_schools_buildings_sampled[\"index\"] = solar_potential_of_schools_buildings_sampled.index\n",
    "\n",
    "solar_potential_of_schools_buildings_sampled[[\"mns_surface_utile\", \"mns_slope\"]] = solar_potential_of_schools_buildings_sampled.apply(\n",
    "    get_usable_surface,\n",
    "    axis=1,\n",
    ")"
   ]
  },
  {
   "cell_type": "code",
   "execution_count": null,
   "id": "a8a655ef",
   "metadata": {},
   "outputs": [],
   "source": [
    "solar_potential_of_schools_buildings_sampled[\"mns_slope_mean\"] = solar_potential_of_schools_buildings_sampled[\"mns_slope\"].apply(lambda x: x.mean())"
   ]
  },
  {
   "cell_type": "markdown",
   "id": "a268426c",
   "metadata": {},
   "source": [
    "## Comparaison de la surface utile calculée par le MNS avec la notre"
   ]
  },
  {
   "cell_type": "code",
   "execution_count": null,
   "id": "1ce58a55",
   "metadata": {},
   "outputs": [],
   "source": [
    "# add a label to the points based on the slope and bin the slope into 5 bins\n",
    "solar_potential_of_schools_buildings_sampled[\"mns_slope_mean_label\"] = pd.cut(\n",
    "    solar_potential_of_schools_buildings_sampled[\"mns_slope_mean\"],\n",
    "    bins=5,\n",
    "    labels=[\"très faible\", \"faible\", \"moyenne\", \"forte\", \"très forte\"],\n",
    ")\n",
    "\n",
    "dict_colors = {\n",
    "    \"très faible\": \"b\",\n",
    "    \"faible\": \"y\",\n",
    "    \"moyenne\": \"r\",\n",
    "    \"forte\": \"k\",\n",
    "    \"très forte\": \"g\",\n",
    "}\n",
    "\n",
    "plt.rcParams['figure.figsize'] = [20, 10]\n",
    "\n",
    "# plot a line y=x\n",
    "x = [0, solar_potential_of_schools_buildings_sampled[\"surface_utile\"].max()]\n",
    "y = x\n",
    "plt.plot(x, y, \"r--\")\n",
    "\n",
    "for label, color in dict_colors.items():\n",
    "    plt.plot(\n",
    "        solar_potential_of_schools_buildings_sampled[solar_potential_of_schools_buildings_sampled[\"mns_slope_mean_label\"]==label][\"surface_utile\"],\n",
    "        solar_potential_of_schools_buildings_sampled[solar_potential_of_schools_buildings_sampled[\"mns_slope_mean_label\"]==label][\"mns_surface_utile\"],\n",
    "        \"o\",\n",
    "        color=color,\n",
    "        label=label,\n",
    "    )\n",
    "\n",
    "plt.legend(title=\"Pente moyenne\")\n",
    "\n",
    "plt.xlabel(\"Surface utile\")\n",
    "plt.ylabel(\"Surface utile MNS\")\n",
    "plt.title(\"Surface utile MNS vs surface utile\")\n",
    "\n",
    "plt.show()"
   ]
  },
  {
   "cell_type": "code",
   "execution_count": null,
   "id": "6ce19e14",
   "metadata": {},
   "outputs": [],
   "source": [
    "solar_potential_of_schools_buildings_sampled[\"euclidean_distance\"] = abs(solar_potential_of_schools_buildings_sampled[\"surface_utile\"] - solar_potential_of_schools_buildings_sampled[\"mns_surface_utile\"])\n",
    "solar_potential_of_schools_buildings_sampled[\"euclidean_distance\"].describe()"
   ]
  },
  {
   "cell_type": "code",
   "execution_count": null,
   "id": "ebe3b1e5",
   "metadata": {},
   "outputs": [],
   "source": [
    "solar_potential_of_schools_buildings_sampled[\"mns_slope_mean\"] = solar_potential_of_schools_buildings_sampled[\"mns_slope\"].apply(lambda x: x.mean())"
   ]
  },
  {
   "cell_type": "markdown",
   "id": "4494df77",
   "metadata": {},
   "source": [
    "# Distribution de la pente moyenne par batiment"
   ]
  },
  {
   "cell_type": "code",
   "execution_count": null,
   "id": "3491b546",
   "metadata": {},
   "outputs": [],
   "source": [
    "plt.rcParams['figure.figsize'] = [10, 5]\n",
    "\n",
    "plt.hist(\n",
    "    solar_potential_of_schools_buildings_sampled[\"mns_slope_mean\"],\n",
    "    bins=5,\n",
    ")\n",
    "\n",
    "plt.xlabel(\"Pente moyenne\")\n",
    "plt.ylabel(\"Nombre de bâtiments\")\n",
    "plt.title(\"Distribution des pentes moyennes des bâtiments scolaires échantillonnés\")\n",
    "plt.show()"
   ]
  },
  {
   "cell_type": "code",
   "execution_count": null,
   "id": "3f39251b",
   "metadata": {},
   "outputs": [],
   "source": [
    "solar_potential_of_schools_buildings_sampled.to_csv(\n",
    "    DATA_FOLDER / f\"solar_potential_of_schools_buildings_sampled_{code_departement}.csv\",\n",
    "    index=False,\n",
    ")"
   ]
  }
 ],
 "metadata": {
  "kernelspec": {
   "display_name": "Python 3",
   "language": "python",
   "name": "python3"
  },
  "language_info": {
   "codemirror_mode": {
    "name": "ipython",
    "version": 3
   },
   "file_extension": ".py",
   "mimetype": "text/x-python",
   "name": "python",
   "nbconvert_exporter": "python",
   "pygments_lexer": "ipython3",
   "version": "3.10.12"
  }
 },
 "nbformat": 4,
 "nbformat_minor": 5
}
