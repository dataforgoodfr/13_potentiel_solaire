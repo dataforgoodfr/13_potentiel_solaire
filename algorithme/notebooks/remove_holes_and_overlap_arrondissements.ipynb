{
 "cells": [
  {
   "cell_type": "code",
   "execution_count": null,
   "metadata": {},
   "outputs": [],
   "source": [
    "%load_ext autoreload\n",
    "%autoreload 2"
   ]
  },
  {
   "cell_type": "code",
   "execution_count": null,
   "metadata": {},
   "outputs": [],
   "source": [
    "import geopandas as gpd\n",
    "import matplotlib.pyplot as plt\n",
    "\n",
    "\n",
    "from potentiel_solaire.sources.extract import load_sources\n",
    "from potentiel_solaire.sources.arrondissements import get_arrondissements, simplify_arrondissements, remove_holes_and_overlap_for_cities"
   ]
  },
  {
   "cell_type": "code",
   "execution_count": null,
   "metadata": {},
   "outputs": [],
   "source": [
    "arrondissements = get_arrondissements()\n",
    "arrondissements_simplified = simplify_arrondissements(arrondissements)\n",
    "\n",
    "sources = load_sources()\n",
    "communes = gpd.read_file(sources[\"communes\"].filepath)\n",
    "cities = communes[communes[\"codgeo\"].isin(['13055', '69123', '75056'])]\n",
    "arrondissements_corrected = remove_holes_and_overlap_for_cities(\n",
    "    arrondissements=arrondissements_simplified,\n",
    "    cities=cities\n",
    ")"
   ]
  },
  {
   "cell_type": "code",
   "execution_count": null,
   "metadata": {},
   "outputs": [],
   "source": [
    "def plot_city(code_commune: str):\n",
    "    fig, ax = plt.subplots(figsize=(20, 10))\n",
    "\n",
    "    arrondissements_corrected_in_zone = arrondissements_corrected[arrondissements_corrected[\"insee_com\"] == code_commune]\n",
    "\n",
    "    arrondissements_corrected_in_zone.plot(\n",
    "        ax=ax, edgecolor=\"black\", linewidth=0.5, color=\"blue\", alpha=0.5\n",
    "    )\n",
    "\n",
    "    zone = communes[communes[\"codgeo\"] == code_commune].copy()\n",
    "    zone.geometry = zone.geometry.buffer(0.0005)\n",
    "\n",
    "    communes_arround = gpd.sjoin(\n",
    "        communes, zone[[\"geometry\"]], how='inner', predicate='intersects'\n",
    "    )\n",
    "\n",
    "    communes_arround = communes_arround[communes_arround[\"codgeo\"] != code_commune]\n",
    "\n",
    "    communes_arround.plot(\n",
    "        ax=ax, edgecolor=\"black\", linewidth=0.5, color=\"blue\", alpha=0.5\n",
    "    )\n",
    "\n",
    "    # arrondissements_in_zone = arrondissements[arrondissements[\"insee_com\"] == code_commune]\n",
    "\n",
    "    # arrondissements_in_zone.plot(\n",
    "    #     ax=ax, edgecolor=\"red\", linewidth=0.5, color=\"none\", alpha=1\n",
    "    # )\n",
    "\n",
    "    plt.show()"
   ]
  },
  {
   "cell_type": "code",
   "execution_count": null,
   "metadata": {},
   "outputs": [],
   "source": [
    "plot_city('13055')"
   ]
  },
  {
   "cell_type": "code",
   "execution_count": null,
   "metadata": {},
   "outputs": [],
   "source": [
    "plot_city('69123')"
   ]
  },
  {
   "cell_type": "code",
   "execution_count": null,
   "metadata": {},
   "outputs": [],
   "source": [
    "plot_city('75056')"
   ]
  }
 ],
 "metadata": {
  "kernelspec": {
   "display_name": ".venv",
   "language": "python",
   "name": "python3"
  },
  "language_info": {
   "codemirror_mode": {
    "name": "ipython",
    "version": 3
   },
   "file_extension": ".py",
   "mimetype": "text/x-python",
   "name": "python",
   "nbconvert_exporter": "python",
   "pygments_lexer": "ipython3",
   "version": "3.11.9"
  }
 },
 "nbformat": 4,
 "nbformat_minor": 2
}
