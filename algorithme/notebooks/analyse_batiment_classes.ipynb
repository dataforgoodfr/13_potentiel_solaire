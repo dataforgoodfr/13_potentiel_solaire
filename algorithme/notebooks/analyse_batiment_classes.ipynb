{
 "cells": [
  {
   "cell_type": "code",
   "metadata": {},
   "source": [
    "import geopandas as gpd\n",
    "from pathlib import Path\n",
    "import matplotlib.pyplot as plt\n",
    "import contextily as cx\n",
    "import fiona \n",
    "\n",
    "# Potentiel solaire package\n",
    "from potentiel_solaire.constants import DATA_FOLDER"
   ],
   "outputs": [],
   "execution_count": null
  },
  {
   "cell_type": "markdown",
   "metadata": {},
   "source": [
    "# BDTOPO"
   ]
  },
  {
   "cell_type": "code",
   "metadata": {},
   "source": [
    "GPKG = DATA_FOLDER / \"BDTOPO_3-4_TOUSTHEMES_GPKG_LAMB93_D093_2024-12-15/BDTOPO/1_DONNEES_LIVRAISON_2024-12-00134/BDT_3-4_GPKG_LAMB93_D093-ED2024-12-15/BDT_3-4_GPKG_LAMB93_D093-ED2024-12-15.gpkg\"\n",
    "communes = gpd.read_file(GPKG, layer=\"commune\")\n",
    "\n",
    "# on crée la var qui nous servira de filtre sur les autres db\n",
    "saint_denis = communes[communes.code_insee == \"93066\"].to_crs(4326)"
   ],
   "outputs": [],
   "execution_count": null
  },
  {
   "cell_type": "code",
   "metadata": {},
   "source": [
    "# 1. Bâtiments\n",
    "bats = gpd.read_file(GPKG, layer=\"batiment\")\n",
    "bats = bats.to_crs(4326)\n",
    "#TODO: confirm use of intersect (instead of within) with Luc or else\n",
    "bats_st_denis = gpd.sjoin(bats, saint_denis, how='inner', predicate='intersects')\n",
    "\n",
    "# 2. Zones d'éducation\n",
    "bdedu = gpd.read_file(GPKG, layer=\"zone_d_activite_ou_d_interet\")\n",
    "bdedu = bdedu.to_crs(4326)\n",
    "bdedu = bdedu[bdedu[\"categorie\"] == \"Science et enseignement\"]\n",
    "bdedu_st_denis = gpd.sjoin(bdedu, saint_denis, how='inner', predicate='intersects')"
   ],
   "outputs": [],
   "execution_count": null
  },
  {
   "cell_type": "code",
   "metadata": {},
   "source": [
    "# 1. Plot des bâtiments\n",
    "fig1, ax1 = plt.subplots(figsize=(15, 15))\n",
    "saint_denis.plot(ax=ax1, facecolor='none', edgecolor='red', linewidth=2, alpha=0.5, label='Saint-Denis')\n",
    "bats_st_denis.plot(ax=ax1, color='blue', alpha=0.5, label='Bâtiments')\n",
    "cx.add_basemap(ax1, crs=bats_st_denis.crs, zoom=14)\n",
    "ax1.set_title(f\"Bâtiments à Saint-Denis\\n{len(bats_st_denis)} bâtiments\", pad=20)\n",
    "plt.show()"
   ],
   "outputs": [],
   "execution_count": null
  },
  {
   "cell_type": "code",
   "metadata": {},
   "source": [
    "batiment_en_zone_scolaire = gpd.sjoin(bats_st_denis.drop(columns=[\"index_right\"]), bdedu_st_denis.drop(columns=[\"index_right\"]), how='inner', predicate='intersects')\n",
    "fig1, ax1 = plt.subplots(figsize=(15, 15))\n",
    "saint_denis.plot(ax=ax1, facecolor='none', edgecolor='red', linewidth=2, alpha=0.5, label='Saint-Denis')\n",
    "batiment_en_zone_scolaire.plot(ax=ax1, color='blue', alpha=0.5, label='Bâtiments')\n",
    "cx.add_basemap(ax1, crs=bats_st_denis.crs, zoom=14)\n",
    "ax1.set_title(f\"Bâtiments à Saint-Denis\\n{len(bats_st_denis)} bâtiments\", pad=20)\n",
    "plt.show()"
   ],
   "outputs": [],
   "execution_count": null
  },
  {
   "cell_type": "code",
   "metadata": {},
   "source": [
    "# 2. Plot des zones d'éducation\n",
    "fig2, ax2 = plt.subplots(figsize=(15, 15))\n",
    "saint_denis.plot(ax=ax2, facecolor='none', edgecolor='red', linewidth=2, alpha=0.5, label='Saint-Denis')\n",
    "bdedu_st_denis.plot(ax=ax2, facecolor='blue', alpha=0.3, edgecolor='blue', linewidth=2, label='Zones éducatives')\n",
    "cx.add_basemap(ax2, crs=bdedu_st_denis.crs, zoom=14)\n",
    "ax2.set_title(f\"Zones d'éducation à Saint-Denis\\n{len(bdedu_st_denis)} zones\", pad=20)\n",
    "plt.show()"
   ],
   "outputs": [],
   "execution_count": null
  },
  {
   "cell_type": "markdown",
   "metadata": {},
   "source": [
    "# Annuaires des établissements scolaires "
   ]
  },
  {
   "cell_type": "code",
   "metadata": {},
   "source": [
    "annuaire = gpd.read_file(DATA_FOLDER / 'fr-en-annuaire-education.geojson')\n",
    "annuaire = annuaire.to_crs(4326)\n",
    "annuaire_st_denis = gpd.sjoin(annuaire, saint_denis, how='inner', predicate='within')"
   ],
   "outputs": [],
   "execution_count": null
  },
  {
   "cell_type": "code",
   "metadata": {},
   "source": [
    "# 2. Plot des zones d'éducation\n",
    "fig2, ax2 = plt.subplots(figsize=(15, 15))\n",
    "saint_denis.plot(ax=ax2, facecolor='none', edgecolor='red', linewidth=2, alpha=0.5, label='Saint-Denis')\n",
    "bdedu_st_denis.plot(ax=ax2, facecolor='blue', alpha=0.3, edgecolor='blue', linewidth=2, label='Zones éducatives')\n",
    "annuaire_st_denis.plot(ax=ax2, color='green', alpha=0.5, label='Établissements scolaires')\n",
    "cx.add_basemap(ax2, crs=bdedu_st_denis.crs, zoom=14)\n",
    "ax2.set_title(f\"Zones d'éducation à Saint-Denis\\n{len(bdedu_st_denis)} zones\", pad=20)\n",
    "plt.show()"
   ],
   "outputs": [],
   "execution_count": null
  },
  {
   "cell_type": "markdown",
   "metadata": {},
   "source": [
    "# Immeubles protégés"
   ]
  },
  {
   "cell_type": "code",
   "metadata": {},
   "source": [
    "immeubles_proteges = gpd.read_file(DATA_FOLDER / \"liste-des-immeubles-proteges-au-titre-des-monuments-historiques.geojson\").to_crs(4326)\n",
    "immeubles_proteges = immeubles_proteges[immeubles_proteges.departement_format_numerique == \"93\"]\n",
    "print(len(immeubles_proteges))\n",
    "immeubles_proteges_st_denis = gpd.sjoin(immeubles_proteges, saint_denis, how='inner', predicate='within')"
   ],
   "outputs": [],
   "execution_count": null
  },
  {
   "cell_type": "code",
   "metadata": {},
   "source": [
    "# 2. Plot des zones d'éducation\n",
    "fig2, ax2 = plt.subplots(figsize=(15, 15))\n",
    "saint_denis.plot(ax=ax2, facecolor='none', edgecolor='red', linewidth=2, alpha=0.5, label='Saint-Denis')\n",
    "bdedu_st_denis.plot(ax=ax2, facecolor='blue', alpha=0.3, edgecolor='blue', linewidth=2, label='Zones éducatives')\n",
    "annuaire_st_denis.plot(ax=ax2, color='green', alpha=0.5, label='Établissements scolaires')\n",
    "immeubles_proteges_st_denis.plot(ax=ax2, color='red', alpha=0.5, label='Immeubles protégés')\n",
    "cx.add_basemap(ax2, crs=bdedu_st_denis.crs, zoom=14)\n",
    "ax2.set_title(f\"Zones d'éducation à Saint-Denis\\n{len(bdedu_st_denis)} zones\", pad=20)\n",
    "plt.show()"
   ],
   "outputs": [],
   "execution_count": null
  },
  {
   "cell_type": "markdown",
   "metadata": {},
   "source": [
    "## Zones protégées dans les zones d'établissements scolaires"
   ]
  },
  {
   "cell_type": "code",
   "metadata": {},
   "source": [
    "immeubles_proteges_st_denis_utm = immeubles_proteges_st_denis.to_crs(epsg=32631)\n",
    "immeubles_proteges_buffer_500m  = immeubles_proteges_st_denis.buffer(0.005, cap_style=\"round\").to_crs(epsg=4326)\n",
    "\n",
    "fig2, ax2 = plt.subplots(figsize=(15, 15))\n",
    "saint_denis.plot(ax=ax2, facecolor='none', edgecolor='red', linewidth=2, alpha=0.5, label='Saint-Denis')\n",
    "bdedu_st_denis.plot(ax=ax2, facecolor='blue', alpha=0.3, edgecolor='blue', linewidth=2, label='Zones éducatives')\n",
    "annuaire_st_denis.plot(ax=ax2, color='green', alpha=0.5, label='Établissements scolaires')\n",
    "immeubles_proteges_st_denis.plot(ax=ax2, color='red', alpha=0.5, label='Immeubles protégés')\n",
    "immeubles_proteges_buffer_500m.plot(ax=ax2, color='red', alpha=0.2, edgecolor='red', label='Buffer 500m')\n",
    "cx.add_basemap(ax2, crs=bdedu_st_denis.crs, zoom=14)\n",
    "ax2.set_title(f\"Zones d'éducation à Saint-Denis\\n{len(bdedu_st_denis)} zones\", pad=20)\n",
    "plt.show()"
   ],
   "outputs": [],
   "execution_count": null
  },
  {
   "cell_type": "code",
   "metadata": {},
   "source": [
    "# create a column True if a building is in the buffer\n",
    "bdedu_st_denis[\"en_zone_classe\"] = bdedu_st_denis.intersects(immeubles_proteges_buffer_500m.unary_union)\n",
    "bdedu_st_denis.head()"
   ],
   "outputs": [],
   "execution_count": null
  },
  {
   "cell_type": "code",
   "metadata": {},
   "source": [
    "print(\"Nombre de zone d'éducation situées dans une zone classée:\", bdedu_st_denis[\"en_zone_classe\"].sum(), \"/\", len(bdedu_st_denis))\n",
    "bdedu_st_denis[\"en_zone_classe\"].value_counts()"
   ],
   "outputs": [],
   "execution_count": null
  },
  {
   "cell_type": "code",
   "metadata": {},
   "source": [
    "immeubles_proteges_st_denis_utm = immeubles_proteges_st_denis.to_crs(epsg=32631)\n",
    "\n",
    "immeubles_proteges_buffer_500m = immeubles_proteges_st_denis.buffer(0.005, cap_style=\"round\").to_crs(epsg=4326)\n",
    "immeubles_proteges_buffer_500m = gpd.GeoDataFrame(geometry=immeubles_proteges_buffer_500m, crs=4326)\n",
    "\n",
    "bdedu_st_denis = bdedu_st_denis.drop(columns=[\"index_right\"])\n",
    "\n",
    "bdedu_st_denis_in_buffer = bdedu_st_denis.sjoin(immeubles_proteges_buffer_500m, how='inner', predicate='intersects')\n",
    "bdedu_st_denis_in_buffer.drop_duplicates()\n",
    "\n",
    "fig2, ax2 = plt.subplots(figsize=(15, 15))\n",
    "saint_denis.plot(ax=ax2, facecolor='none', edgecolor='red', linewidth=2, alpha=0.5, label='Saint-Denis')\n",
    "bdedu_st_denis_in_buffer.plot(ax=ax2, facecolor='blue', alpha=0.3, edgecolor='blue', linewidth=2, label='Zones éducatives')\n",
    "annuaire_st_denis.plot(ax=ax2, color='green', alpha=0.5, label='Établissements scolaires')\n",
    "immeubles_proteges_st_denis.plot(ax=ax2, color='red', alpha=0.5, label='Immeubles protégés')\n",
    "immeubles_proteges_buffer_500m.plot(ax=ax2, color='red', alpha=0.2, edgecolor='red', label='Buffer 500m')\n",
    "cx.add_basemap(ax2, crs=bdedu_st_denis.crs, zoom=14)\n",
    "ax2.set_title(f\"Zones d'éducation à Saint-Denis\\n{len(bdedu_st_denis)} zones\", pad=20)\n",
    "plt.show()"
   ],
   "outputs": [],
   "execution_count": null
  },
  {
   "cell_type": "markdown",
   "metadata": {},
   "source": [
    "# Analyse des batiments appartenants à des zones éducatives "
   ]
  },
  {
   "cell_type": "code",
   "metadata": {},
   "source": [
    "# immeubles_proteges_buffer_500m = immeubles_proteges_st_denis.drop(columns=[\"index_right\"])\n",
    "batiment_en_zone_scolaire = batiment_en_zone_scolaire.drop(columns=[\"index_right\"])\n",
    "\n",
    "batiment_en_zone_scolaire = batiment_en_zone_scolaire.sjoin(immeubles_proteges_buffer_500m, how='inner', predicate='intersects')\n",
    "batiment_en_zone_scolaire = batiment_en_zone_scolaire.drop_duplicates()\n",
    "\n",
    "fig2, ax2 = plt.subplots(figsize=(15, 15))\n",
    "saint_denis.plot(ax=ax2, facecolor='none', edgecolor='red', linewidth=2, alpha=0.5, label='Saint-Denis')\n",
    "batiment_en_zone_scolaire.plot(ax=ax2, facecolor='blue', alpha=0.3, edgecolor='blue', linewidth=2, label='Zones éducatives')\n",
    "annuaire_st_denis.plot(ax=ax2, color='green', alpha=0.5, label='Établissements scolaires')\n",
    "immeubles_proteges_st_denis.plot(ax=ax2, color='red', alpha=0.5, label='Immeubles protégés')\n",
    "immeubles_proteges_buffer_500m.plot(ax=ax2, color='red', alpha=0.2, edgecolor='red', label='Buffer 500m')\n",
    "cx.add_basemap(ax2, crs=bdedu_st_denis.crs, zoom=14)\n",
    "ax2.set_title(f\"Zones d'éducation à Saint-Denis\\n{len(bdedu_st_denis)} zones\", pad=20)\n",
    "plt.show()"
   ],
   "outputs": [],
   "execution_count": null
  },
  {
   "cell_type": "code",
   "metadata": {},
   "source": [
    "batiment_en_zone_scolaire[\"en_zone_classe\"] = batiment_en_zone_scolaire.intersects(immeubles_proteges_buffer_500m.unary_union)\n",
    "batiment_en_zone_scolaire = batiment_en_zone_scolaire.drop_duplicates()\n",
    "batiment_en_zone_scolaire.head()"
   ],
   "outputs": [],
   "execution_count": null
  }
 ],
 "metadata": {
  "kernelspec": {
   "display_name": "Python 3",
   "language": "python",
   "name": "python3"
  },
  "language_info": {
   "codemirror_mode": {
    "name": "ipython",
    "version": 3
   },
   "file_extension": ".py",
   "mimetype": "text/x-python",
   "name": "python",
   "nbconvert_exporter": "python",
   "pygments_lexer": "ipython3",
   "version": "3.10.12"
  }
 },
 "nbformat": 4,
 "nbformat_minor": 2
}
