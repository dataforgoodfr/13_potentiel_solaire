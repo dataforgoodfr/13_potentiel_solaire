{
 "cells": [
  {
   "cell_type": "code",
   "id": "initial_id",
   "metadata": {
    "collapsed": true
   },
   "source": [
    "code_departement = \"971\"\n",
    "logs_level = \"WARNING\""
   ],
   "outputs": [],
   "execution_count": null
  },
  {
   "metadata": {},
   "cell_type": "code",
   "source": [
    "import geopandas as gpd\n",
    "import numpy as np\n",
    "import matplotlib.pyplot as plt\n",
    "\n",
    "from shapely.geometry import Point\n",
    "\n",
    "from potentiel_solaire.constants import DEFAULT_CRS, CRS_FOR_BUFFERS\n",
    "from potentiel_solaire.sources.bd_topo import extract_bd_topo, get_topo_zones_of_interest, get_topo_buildings_of_interest\n",
    "from potentiel_solaire.sources.schools_establishments import extract_schools_establishments, get_schools_establishments_of_interest\n",
    "from potentiel_solaire.attach_buildings_to_schools import attach_buildings_to_schools\n",
    "from potentiel_solaire.features.pvgis_api import get_potentiel_solaire_from_pvgis_api\n",
    "from potentiel_solaire.features.solar_potential import calculate_surface_utile, calculate_installed_capacity\n",
    "from potentiel_solaire.logger import get_logger\n",
    "\n",
    "logger = get_logger()\n",
    "logger.setLevel(logs_level)"
   ],
   "id": "fedf139debf6e6d2",
   "outputs": [],
   "execution_count": null
  },
  {
   "metadata": {},
   "cell_type": "code",
   "source": [
    "schools_establishments_path = extract_schools_establishments()\n",
    "print(f\"Annuaire des établissements scolaires extrait ici: {schools_establishments_path}\")"
   ],
   "id": "f9b8f998b63d22a9",
   "outputs": [],
   "execution_count": null
  },
  {
   "metadata": {},
   "cell_type": "code",
   "source": [
    "bd_topo_path = extract_bd_topo(code_departement=code_departement)\n",
    "print(f\"BD TOPO extraite ici: {bd_topo_path}\")"
   ],
   "id": "4a6948ee6a4de9ae",
   "outputs": [],
   "execution_count": null
  },
  {
   "metadata": {},
   "cell_type": "code",
   "source": [
    "schools_establishments = get_schools_establishments_of_interest(\n",
    "    schools_filepath=schools_establishments_path,\n",
    "    code_departement=code_departement,\n",
    "    types_etablissements=['Ecole', 'Lycée', 'Collège'],\n",
    "    statut_public_prive=\"Public\",\n",
    "    etat=\"OUVERT\",\n",
    "    crs=DEFAULT_CRS\n",
    ")\n",
    "nb_schools = schools_establishments.shape[0]\n",
    "print(f\"Nb d'établissements scolaires: {nb_schools}\")"
   ],
   "id": "350f7520155c703e",
   "outputs": [],
   "execution_count": null
  },
  {
   "metadata": {},
   "cell_type": "code",
   "source": [
    "codes_commune = schools_establishments[\"code_commune\"].unique()\n",
    "communes = gpd.read_file(bd_topo_path, layer=\"commune\").to_crs(DEFAULT_CRS)\n",
    "communes = communes[communes.code_insee.isin(codes_commune)]\n",
    "geom_of_interest = communes.dissolve()[[\"geometry\"]]"
   ],
   "id": "6ff144fd4fe7656",
   "outputs": [],
   "execution_count": null
  },
  {
   "metadata": {},
   "cell_type": "code",
   "source": [
    "educational_zones = get_topo_zones_of_interest(\n",
    "    bd_topo_path=bd_topo_path,\n",
    "    geom_of_interest=geom_of_interest,\n",
    "    categories=[\"Science et enseignement\"],\n",
    "    natures=['Collège', 'Lycée', 'Enseignement primaire'],\n",
    "    crs=DEFAULT_CRS\n",
    ")\n",
    "nb_educational_zones = educational_zones.shape[0]\n",
    "print(\"Nb de zones d'éducations: \", nb_educational_zones)"
   ],
   "id": "75e4e53115f2299a",
   "outputs": [],
   "execution_count": null
  },
  {
   "metadata": {},
   "cell_type": "code",
   "source": [
    "buildings = get_topo_buildings_of_interest(\n",
    "    bd_topo_path=bd_topo_path,\n",
    "    geom_of_interest=geom_of_interest,\n",
    "    crs=DEFAULT_CRS\n",
    ")\n",
    "nb_buildings = buildings.shape[0]\n",
    "print(\"Nb de batiments: \", nb_buildings)"
   ],
   "id": "35a10aa936bc5551",
   "outputs": [],
   "execution_count": null
  },
  {
   "metadata": {},
   "cell_type": "code",
   "source": [
    "schools_buildings = attach_buildings_to_schools(\n",
    "    schools_establishments=schools_establishments,\n",
    "    educational_zones=educational_zones,\n",
    "    buildings=buildings\n",
    ").sample(100)\n",
    "nb_schools_buildings = schools_buildings.shape[0]\n",
    "print(\"Nb de batiments scolaires: \", nb_schools_buildings)"
   ],
   "id": "2ea6b5525b44d027",
   "outputs": [],
   "execution_count": null
  },
  {
   "metadata": {},
   "cell_type": "code",
   "source": [
    "# calcul du potentiel en prenant les positions les plus exactes possibles\n",
    "schools_buildings[\"longitude\"] = schools_buildings.centroid.map(lambda p: p.x)\n",
    "schools_buildings[\"latitude\"] = schools_buildings.centroid.map(lambda p: p.y)\n",
    "\n",
    "crs_init = schools_buildings.crs\n",
    "schools_buildings = schools_buildings.to_crs(epsg=CRS_FOR_BUFFERS)\n",
    "schools_buildings[\"surface_totale_au_sol\"] = schools_buildings.area\n",
    "schools_buildings = schools_buildings.to_crs(crs_init)\n",
    "\n",
    "schools_buildings[\"surface_utile\"] = schools_buildings.apply(\n",
    "    lambda building: calculate_surface_utile(\n",
    "        surface_totale_au_sol=building[\"surface_totale_au_sol\"]\n",
    "    ), axis=1\n",
    ")\n",
    "\n",
    "schools_buildings[\"peakpower\"] = schools_buildings.apply(\n",
    "        lambda building: calculate_installed_capacity(\n",
    "            rooftop_surface=building[\"surface_utile\"]\n",
    "        ), axis=1\n",
    ")\n",
    "\n",
    "schools_buildings[\"potentiel_solaire_exact\"] = schools_buildings.apply(\n",
    "        lambda building: get_potentiel_solaire_from_pvgis_api(\n",
    "            longitude=building[\"longitude\"],\n",
    "            latitude=building[\"latitude\"],\n",
    "            peakpower=building[\"peakpower\"]\n",
    "        ), axis=1\n",
    ")"
   ],
   "id": "2bc8606ae2a52463",
   "outputs": [],
   "execution_count": null
  },
  {
   "metadata": {},
   "cell_type": "code",
   "source": [
    "# calcul du potentiel en prenant le centre du departement comme position\n",
    "departement_center = Point(geom_of_interest.centroid.x, geom_of_interest.centroid.y)\n",
    "schools_buildings[\"distance_to_center\"] = schools_buildings.geometry.distance(departement_center)\n",
    "closest_building = schools_buildings.loc[schools_buildings[\"distance_to_center\"].idxmin()].geometry\n",
    "\n",
    "pot = get_potentiel_solaire_from_pvgis_api(\n",
    "    longitude=closest_building.centroid.x,\n",
    "    latitude=closest_building.centroid.y,\n",
    "    peakpower=1\n",
    ")\n",
    "\n",
    "schools_buildings[\"potentiel_solaire_approx\"] = pot * schools_buildings[\"peakpower\"]"
   ],
   "id": "68d62d9ece438045",
   "outputs": [],
   "execution_count": null
  },
  {
   "metadata": {},
   "cell_type": "code",
   "source": [
    "potentiel_solaire_exact = schools_buildings[\"potentiel_solaire_exact\"].sum()\n",
    "potentiel_solaire_approx = schools_buildings[\"potentiel_solaire_approx\"].sum()\n",
    "print(f\"Utiliser la position exacte & peakpower du bâtiment donne: {potentiel_solaire_exact:.0f} kWh/an\")\n",
    "print(f\"Utiliser le centre du departement & peakpower normalisé à 1 donne: {potentiel_solaire_approx:.0f} kWh/an\")\n",
    "print(f\"Soit un écart de {(potentiel_solaire_approx-potentiel_solaire_exact)/(potentiel_solaire_exact):.4f}%\")"
   ],
   "id": "f8a68b005a803491",
   "outputs": [],
   "execution_count": null
  },
  {
   "metadata": {},
   "cell_type": "code",
   "source": [
    "peakpowers = np.linspace(0, 500, 51)\n",
    "potentials = [\n",
    "    get_potentiel_solaire_from_pvgis_api(\n",
    "        longitude=closest_building.centroid.x,\n",
    "        latitude=closest_building.centroid.y,\n",
    "        peakpower=peakpower\n",
    "    ) for peakpower in peakpowers\n",
    "]\n",
    "\n",
    "plt.scatter(peakpowers, potentials)"
   ],
   "id": "60fca0b19d945546",
   "outputs": [],
   "execution_count": null
  },
  {
   "metadata": {},
   "cell_type": "code",
   "source": "",
   "id": "41748ea578bbe064",
   "outputs": [],
   "execution_count": null
  }
 ],
 "metadata": {
  "kernelspec": {
   "display_name": "Python 3",
   "language": "python",
   "name": "python3"
  },
  "language_info": {
   "codemirror_mode": {
    "name": "ipython",
    "version": 2
   },
   "file_extension": ".py",
   "mimetype": "text/x-python",
   "name": "python",
   "nbconvert_exporter": "python",
   "pygments_lexer": "ipython2",
   "version": "2.7.6"
  }
 },
 "nbformat": 4,
 "nbformat_minor": 5
}
