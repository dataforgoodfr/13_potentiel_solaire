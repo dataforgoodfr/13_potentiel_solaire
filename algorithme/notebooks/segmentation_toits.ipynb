{
 "cells": [
  {
   "cell_type": "code",
   "metadata": {},
   "source": [
    "import geopandas as gpd\n",
    "import matplotlib.pyplot as plt\n",
    "import contextily as cx\n",
    "import fiona \n",
    "import numpy as np\n",
    "import pandas as pd\n",
    "from scipy.ndimage import sobel, gaussian_filter, shift, label, morphology\n",
    "# Potentiel solaire package\n",
    "from potentiel_solaire.constants import DATA_FOLDER"
   ],
   "outputs": [],
   "execution_count": null
  },
  {
   "cell_type": "code",
   "metadata": {},
   "source": [
    "# Verification des layers disponibles\n",
    "stdenis_path = DATA_FOLDER / \"saint_denis_reference_data.gpkg\"\n",
    "layers = fiona.listlayers(stdenis_path)\n",
    "print(\" \".join(layers))"
   ],
   "outputs": [],
   "execution_count": null
  },
  {
   "cell_type": "markdown",
   "metadata": {},
   "source": [
    "## On ouvre le jeu de données préparé"
   ]
  },
  {
   "cell_type": "code",
   "metadata": {},
   "source": [
    "# On ouvre une zone\n",
    "ID = 22\n",
    "\n",
    "stdenis = gpd.read_file(stdenis_path, layer=\"bdtopo_education\")# toponymie_services_et_activites\n",
    "stdenis = stdenis.to_crs(2154) # 2154 Lambert, 4326 latlon  \n",
    "example = stdenis[ID:ID+1]\n",
    "ID = example[\"cleabs_left\"].iloc[0]\n",
    "NOM = example[\"toponyme\"].iloc[0]\n",
    "# On ouvre les toitures\n",
    "toiture = gpd.read_file(stdenis_path, layer=\"bdtopo_batiment\")# toponymie_services_et_activites\n",
    "toiture_b = gpd.read_file(stdenis_path, layer=\"potentielsolaire_bati\")# toponymie_services_et_activites\n",
    "toiture_t = gpd.read_file(stdenis_path, layer=\"potentielsolaire_toitures\")# toponymie_services_et_activites\n",
    "toiture = toiture.to_crs(2154) # 2154 Lambert, 4326 latlon  \n",
    "toiture_b = toiture.to_crs(2154)\n",
    "toiture_t = toiture.to_crs(2154)\n",
    "toiture = gpd.sjoin(toiture, example, how='inner', predicate='intersects',lsuffix='_li', rsuffix='_ri').clip(example)\n",
    "toiture_b = gpd.sjoin(toiture_b, example, how='inner', predicate='intersects',lsuffix='_li', rsuffix='_ri').clip(example)\n",
    "toiture_t = gpd.sjoin(toiture_t, example, how='inner', predicate='intersects',lsuffix='_li', rsuffix='_ri').clip(example)"
   ],
   "outputs": [],
   "execution_count": null
  },
  {
   "cell_type": "code",
   "metadata": {},
   "source": [
    "fig, ax = plt.subplots()\n",
    "\n",
    "example.plot(ax=ax, alpha=0.7, color =\"green\")\n",
    "toiture_t.plot(ax=ax, alpha=0.7, color =\"yellow\")\n",
    "toiture_b.plot(ax=ax, alpha=0.7, color =\"orange\")\n",
    "toiture.plot(ax=ax, alpha=0.7, color =\"red\")\n",
    "\n",
    "\n",
    "cx.add_basemap(ax, crs=example.crs)\n",
    "fig.show()"
   ],
   "outputs": [],
   "execution_count": null
  },
  {
   "cell_type": "markdown",
   "metadata": {},
   "source": [
    "# Exploration MNS liées aux zones"
   ]
  },
  {
   "cell_type": "code",
   "metadata": {},
   "source": [
    "import rasterio\n",
    "import rasterio.mask\n",
    "import os\n",
    "from rasterio.plot import show"
   ],
   "outputs": [],
   "execution_count": null
  },
  {
   "cell_type": "markdown",
   "metadata": {},
   "source": [
    "## On recadre l'image"
   ]
  },
  {
   "cell_type": "code",
   "metadata": {},
   "source": [
    "geotiff_cached = \"../data/cache/mns/\"+ID+\".masked.tif\"\n",
    "\n",
    "if not os.path.isfile(geotiff_cached):\n",
    "    geome = example.geometry.total_bounds\n",
    "    A = \"0\"+str(int(geome[0]//1000))\n",
    "    B = str(int(geome[1]//1000)+1)\n",
    "    tile = \"/MNS-Correl_1-0__TIFF_LAMB93_D093_2024-01-01/MNS-Correl/1_DONNEES_LIVRAISON_2024-11-00179/MNS-C_0M50_TIF_LAMB93_D93-2024/93-2024-\"+A+\"-\"+B+\"-LA93-0M50.tif\"\n",
    "    path = DATA_FOLDER / tile\n",
    "    with rasterio.open(\"../data/\"+str(path)) as img:\n",
    "        out_image, out_transform = rasterio.mask.mask(img, example.geometry, crop=True)\n",
    "        out_meta = img.meta\n",
    "    minval = np.min(out_image[np.nonzero(out_image)])\n",
    "    out_image = out_image - minval\n",
    "\n",
    "    out_image = np.where(out_image<0, 0, out_image)\n",
    "    out_meta.update({\"driver\": \"GTiff\",\n",
    "                    \"height\": out_image.shape[1],\n",
    "                    \"width\": out_image.shape[2],\n",
    "                    \"transform\": out_transform})\n",
    "\n",
    "    with rasterio.open(\"../data/cache/mns/\"+ID+\".masked.tif\", \"w\", **out_meta) as dest:\n",
    "        dest.write(out_image)"
   ],
   "outputs": [],
   "execution_count": null
  },
  {
   "cell_type": "markdown",
   "metadata": {},
   "source": [
    "## Et on la représente"
   ]
  },
  {
   "cell_type": "code",
   "metadata": {},
   "source": [
    "type(toiture_b)"
   ],
   "outputs": [],
   "execution_count": null
  },
  {
   "cell_type": "code",
   "metadata": {},
   "source": [
    "img_ecole = rasterio.open(\"../data/cache/mns/\"+ID+\".masked.tif\")\n",
    "\n",
    "fig, ax = plt.subplots(figsize=(10,10))\n",
    "\n",
    "\n",
    "\n",
    "show(img_ecole, ax=ax, alpha=0.9)\n",
    "example.plot(ax=ax, alpha=0.7, linewidth=2, facecolor=\"none\", edgecolor='pink')\n",
    "toiture.plot(ax=ax, alpha=0.7, linewidth=4,facecolor=\"none\", edgecolor='red', label=\"batiments\")\n",
    "toiture_t.plot(ax=ax, alpha=0.7, linewidth=2,facecolor=\"none\", edgecolor='orange')\n",
    "toiture_b.plot(ax=ax, alpha=0.7, linewidth=3,facecolor=\"none\", edgecolor='yellow')\n",
    "\n",
    "\n",
    "cx.add_basemap(ax, crs=example.crs, alpha=0.5, source=cx.providers.GeoportailFrance.orthos )\n",
    "\n",
    "\n",
    "plt.title(\"Exploitation MNS pour :\"+ NOM+\"\\n\"+ID+\"\\n\")\n",
    "fig.show()\n",
    "\n"
   ],
   "outputs": [],
   "execution_count": null
  },
  {
   "cell_type": "markdown",
   "metadata": {},
   "source": [
    "# Focalisation sur les batiments"
   ]
  },
  {
   "cell_type": "code",
   "metadata": {},
   "source": [
    "geotiff_cached_toits = \"../data/cache/mns/\"+ID+\"_toits.masked.tif\"\n",
    "\n",
    "if not os.path.isfile(geotiff_cached_toits) or True:\n",
    "    geome = example.geometry.total_bounds\n",
    "    A = \"0\"+str(int(geome[0]//1000))\n",
    "    B = str(int(geome[1]//1000)+1)\n",
    "    tile = \"/MNS-Correl_1-0__TIFF_LAMB93_D093_2024-01-01/MNS-Correl/1_DONNEES_LIVRAISON_2024-11-00179/MNS-C_0M50_TIF_LAMB93_D93-2024/93-2024-\"+A+\"-\"+B+\"-LA93-0M50.tif\"\n",
    "    path = DATA_FOLDER / tile\n",
    "    with rasterio.open(\"../data/\"+str(path)) as img:\n",
    "        out_image, out_transform = rasterio.mask.mask(img, toiture.geometry, crop=True)\n",
    "        out_meta = img.meta\n",
    "    minval = np.min(out_image[np.nonzero(out_image)])\n",
    "    out_image = out_image - minval\n",
    "\n",
    "    out_image = np.where(out_image<0, 0, out_image)\n",
    "\n",
    "    MAX = np.percentile(out_image[np.nonzero(out_image)],80)\n",
    "    out_image = np.where(out_image>=MAX, MAX, out_image)\n",
    "\n",
    "    out_meta.update({\"driver\": \"GTiff\",\n",
    "                    \"height\": out_image.shape[1],\n",
    "                    \"width\": out_image.shape[2],\n",
    "                    \"transform\": out_transform})\n",
    "\n",
    "    with rasterio.open(geotiff_cached_toits, \"w\", **out_meta) as dest:\n",
    "        dest.write(out_image)"
   ],
   "outputs": [],
   "execution_count": null
  },
  {
   "cell_type": "code",
   "metadata": {},
   "source": [
    "img_ecole = rasterio.open(geotiff_cached_toits)\n",
    "\n",
    "fig, ax = plt.subplots(figsize=(10,10))\n",
    "\n",
    "show(img_ecole, ax=ax, alpha=0.8)\n",
    "\n",
    "example.plot(ax=ax, alpha=0.7, linewidth=2, facecolor=\"none\", edgecolor='pink')\n",
    "# A explorer peut etre: cx.providers.GeoportailFrance \n",
    "cx.add_basemap(ax, crs=example.crs, alpha=0.6, source=cx.providers.GeoportailFrance.orthos )\n",
    "toiture.plot(ax=ax, alpha=0.7, linewidth=4,facecolor=\"none\", edgecolor='red')\n",
    "toiture_t.plot(ax=ax, alpha=0.7, linewidth=2,facecolor=\"none\", edgecolor='orange')\n",
    "toiture_b.plot(ax=ax, alpha=0.7, linewidth=3,facecolor=\"none\", edgecolor='yellow')\n",
    "\n",
    "\n",
    "plt.title(\"Exploitation MNS pour :\"+ NOM+\"\\n\"+ID+\"\\n\")\n",
    "fig.show()"
   ],
   "outputs": [],
   "execution_count": null
  },
  {
   "cell_type": "code",
   "metadata": {},
   "source": [
    "from potentiel_solaire.features import roof_attributes"
   ],
   "outputs": [],
   "execution_count": null
  },
  {
   "cell_type": "code",
   "metadata": {},
   "source": [
    "roof_attributes.segmentation_toits(out_image)"
   ],
   "outputs": [],
   "execution_count": null
  },
  {
   "cell_type": "markdown",
   "metadata": {},
   "source": [
    "## Analyse de la pente des toits"
   ]
  },
  {
   "cell_type": "markdown",
   "metadata": {},
   "source": [
    "On plot d'abord les altitudes en appliquant un seuil pour conserver que les élements en hauteurs (toits)."
   ]
  },
  {
   "cell_type": "code",
   "metadata": {},
   "source": [
    "threshold = 2  # Seuil en mètres (à ajuster selon la donnée)\n",
    "mask = out_image[0] < threshold\n",
    "\n",
    "# Exclure ces zones du calcul de pente\n",
    "focus_toits = np.where(mask, np.nan, out_image[0])\n",
    "\n",
    "\n",
    "# Affichage\n",
    "plt.figure(figsize=(8, 6))\n",
    "cmap = plt.cm.inferno \n",
    "im = plt.imshow(focus_toits, cmap=cmap, interpolation='nearest')\n",
    "cbar = plt.colorbar(im)\n",
    "cbar.set_label(\"Altitudes\")\n",
    "plt.title(\"Carte des altitudes\")\n",
    "plt.show()"
   ],
   "outputs": [],
   "execution_count": null
  },
  {
   "cell_type": "markdown",
   "metadata": {},
   "source": [
    "On calcule les dérivées partielles :\n",
    "\n",
    "* dx représente la variation d'altitude dans la direction horizontale.\n",
    "* dy représente la variation d'altitude dans la direction verticale."
   ]
  },
  {
   "cell_type": "code",
   "metadata": {},
   "source": [
    "# Calcul des gradients X et Y\n",
    "dy, dx = np.gradient(out_image[0])\n",
    "\n",
    "dx = sobel(out_image[0], axis=1)  # Gradient selon l'axe X (est-ouest)\n",
    "dy = sobel(out_image[0], axis=0)  # Gradient selon l'axe Y (nord-sud)\n",
    "\n",
    "# Affichage des dy\n",
    "plt.figure(figsize=(8, 6))\n",
    "cmap = plt.cm.inferno \n",
    "im = plt.imshow(dy, cmap=cmap, interpolation='nearest')\n",
    "cbar = plt.colorbar(im)\n",
    "cbar.set_label(\"Gardient verticale\")\n",
    "plt.title(\"Variations verticale\")\n",
    "plt.show()"
   ],
   "outputs": [],
   "execution_count": null
  },
  {
   "cell_type": "code",
   "metadata": {},
   "source": [
    "# Affichage des dx\n",
    "plt.figure(figsize=(8, 6))\n",
    "cmap = plt.cm.inferno \n",
    "im = plt.imshow(dx, cmap=cmap, interpolation='nearest')\n",
    "cbar = plt.colorbar(im)\n",
    "cbar.set_label(\"Gardient horizontale\")\n",
    "plt.title(\"Variations horizontale\")\n",
    "plt.show()"
   ],
   "outputs": [],
   "execution_count": null
  },
  {
   "cell_type": "markdown",
   "metadata": {},
   "source": [
    "On calcule la norme du gradient pour calculer la pente locale."
   ]
  },
  {
   "cell_type": "code",
   "metadata": {},
   "source": [
    "slope = np.sqrt(dx**2 + dy**2)\n",
    "\n",
    "# Affichage\n",
    "plt.figure(figsize=(8, 6))\n",
    "cmap = plt.cm.inferno \n",
    "im = plt.imshow(slope, cmap=cmap, interpolation='nearest')\n",
    "cbar = plt.colorbar(im)\n",
    "cbar.set_label(\"Pente (degrés)\")\n",
    "plt.title(\"Carte de pente (sans zones aberrantes)\")\n",
    "plt.show()"
   ],
   "outputs": [],
   "execution_count": null
  },
  {
   "cell_type": "markdown",
   "metadata": {},
   "source": [
    "On calcule l'angle à partir du gradient, puis on convertit en degré. "
   ]
  },
  {
   "cell_type": "code",
   "metadata": {},
   "source": [
    "slope = np.arctan(np.sqrt(dx**2 + dy**2)) * (180 / np.pi)\n",
    "\n",
    "# Affichage\n",
    "plt.figure(figsize=(8, 6))\n",
    "cmap = plt.cm.inferno \n",
    "im = plt.imshow(slope, cmap=cmap, interpolation='nearest')\n",
    "cbar = plt.colorbar(im)\n",
    "cbar.set_label(\"Pente (degrés)\")\n",
    "plt.title(\"Carte de pente (sans zones aberrantes)\")\n",
    "plt.show()"
   ],
   "outputs": [],
   "execution_count": null
  },
  {
   "cell_type": "markdown",
   "metadata": {},
   "source": [
    "On retire les valeurs trop élevées qui correspondent à des objets sur le toit, ou aux bords des toits."
   ]
  },
  {
   "cell_type": "code",
   "metadata": {},
   "source": [
    "# Détection des zones à forte variation d'altitude\n",
    "threshold = 15  # Seuil à ajuster selon la donnée)\n",
    "mask = np.arctan(np.sqrt(dx**2 + dy**2)) * (180 / np.pi) < threshold\n",
    "\n",
    "# Exclure ces zones du calcul de pente\n",
    "slope_cleaned = np.where(mask, np.nan, np.arctan(np.sqrt(dx**2 + dy**2)) * (180 / np.pi))\n",
    "\n",
    "# Affichage\n",
    "plt.figure(figsize=(8, 6))\n",
    "cmap = plt.cm.inferno \n",
    "im = plt.imshow(slope_cleaned, cmap=cmap, interpolation='nearest')\n",
    "cbar = plt.colorbar(im)\n",
    "cbar.set_label(\"Pente (degrés)\")\n",
    "plt.title(\"Carte de pente (sans zones aberrantes)\")\n",
    "plt.show()"
   ],
   "outputs": [],
   "execution_count": null
  },
  {
   "cell_type": "markdown",
   "metadata": {},
   "source": [
    "On affiche les images de toits pour comparer avec les pentes identifiées."
   ]
  },
  {
   "cell_type": "code",
   "metadata": {},
   "source": [
    "img_ecole = rasterio.open(geotiff_cached_toits)\n",
    "\n",
    "fig, ax = plt.subplots(figsize=(10,10))\n",
    "\n",
    "show(img_ecole, ax=ax, alpha=0.7)\n",
    "example.plot(ax=ax, alpha=0.7, linewidth=2, facecolor=\"none\", edgecolor='pink')\n",
    "toiture_b.plot(ax=ax, alpha=0.7, linewidth=3,facecolor=\"none\", edgecolor='yellow')\n",
    "cx.add_basemap(ax, crs=example.crs, alpha=0.6, source=cx.providers.GeoportailFrance.orthos )"
   ],
   "outputs": [],
   "execution_count": null
  },
  {
   "cell_type": "markdown",
   "metadata": {},
   "source": [
    "## Mesure de l'orientation des toits"
   ]
  },
  {
   "cell_type": "code",
   "metadata": {},
   "source": [
    "dx = sobel(out_image[0], axis=0)  # Dérivée selon X\n",
    "dy = sobel(out_image[0], axis=1)  # Dérivée selon Y\n",
    "\n",
    "azimut = (360 - np.degrees(np.arctan2(dy, dx))) % 360 # azimut en degré\n",
    "\n",
    "# Affichage\n",
    "plt.figure(figsize=(8, 6))\n",
    "cmap = plt.cm.inferno \n",
    "im = plt.imshow(azimut, cmap=cmap, interpolation='nearest')\n",
    "cbar = plt.colorbar(im)\n",
    "cbar.set_label(\"Azimut\")\n",
    "plt.title(\"Carte des Azimuth\")\n",
    "plt.show()"
   ],
   "outputs": [],
   "execution_count": null
  },
  {
   "cell_type": "markdown",
   "metadata": {},
   "source": [
    "## Segmentation des toits"
   ]
  },
  {
   "cell_type": "markdown",
   "metadata": {},
   "source": [
    "### Tests de traitements pour identifier des zones de même typologie (slope & azimut)\n",
    "\n",
    "#### Traitement par bins"
   ]
  },
  {
   "cell_type": "markdown",
   "metadata": {},
   "source": [
    "Création de bucket de valeurs pour merge les valeurs proches (approche complexe à scaler car très dépendante du bucket choisi).\n",
    "\n",
    "Pour les azimuts : "
   ]
  },
  {
   "cell_type": "code",
   "metadata": {},
   "source": [
    "# Définition des intervalles et des valeurs correspondantes\n",
    "bins = list(np.linspace(0,360,9))  # Délimitation des fourchettes\n",
    "values = list(np.convolve(bins, [0.5, 0.5])) # Valeur à attribuer à chaque fourchette\n",
    "\n",
    "# Transformation des valeurs\n",
    "indexed = np.digitize(azimut, bins, right=False)  # Trouve l'index de la fourchette\n",
    "result_azimut = np.array(values)[indexed - 1]  # Assigne la valeur correspondante\n",
    "threshold_azimut = (values[-2]-values[-3]) * 1.1\n",
    "\n",
    "# Affichage\n",
    "plt.figure(figsize=(8, 6))\n",
    "cmap = plt.cm.inferno \n",
    "im = plt.imshow(result_azimut, cmap=cmap, interpolation='nearest')\n",
    "cbar = plt.colorbar(im)\n",
    "cbar.set_label(\"Azimuts\")\n",
    "plt.title(\"Affichage des azimuts\")\n",
    "plt.show()"
   ],
   "outputs": [],
   "execution_count": null
  },
  {
   "cell_type": "markdown",
   "metadata": {},
   "source": [
    "Pour les slopes : "
   ]
  },
  {
   "cell_type": "code",
   "metadata": {},
   "source": [
    "# Définition des intervalles et des valeurs correspondantes\n",
    "bins = list(np.arange(0, slope.max(),20))  # Délimitation des fourchettes\n",
    "values = list(np.convolve(bins, [0.5, 0.5])) # Valeur à attribuer à chaque fourchette\n",
    "\n",
    "# Transformation des valeurs\n",
    "indexed = np.digitize(slope, bins, right=False)  # Trouve l'index de la fourchette\n",
    "result_slope = np.array(values)[indexed - 1]  # Assigne la valeur correspondante\n",
    "\n",
    "# Affichage\n",
    "plt.figure(figsize=(8, 6))\n",
    "cmap = plt.cm.inferno \n",
    "im = plt.imshow(result_slope, cmap=cmap, interpolation='nearest')\n",
    "cbar = plt.colorbar(im)\n",
    "cbar.set_label(\"Segment\")\n",
    "plt.title(\"Segment\")\n",
    "plt.show()"
   ],
   "outputs": [],
   "execution_count": null
  },
  {
   "cell_type": "markdown",
   "metadata": {},
   "source": [
    "#### Traitement par kernel gaussien\n",
    "\n",
    "Test avec un Kernel gaussien pour \"flouter\" l'image et lisser les valeurs qui sont proches."
   ]
  },
  {
   "cell_type": "markdown",
   "metadata": {},
   "source": [
    "Pour les azimuts : "
   ]
  },
  {
   "cell_type": "code",
   "metadata": {},
   "source": [
    "# Appliquer un flou gaussien avec sigma = 2\n",
    "blurred_azimut = gaussian_filter(azimut, sigma=2)\n",
    "\n",
    "# Affichage\n",
    "plt.figure(figsize=(8, 6))\n",
    "cmap = plt.cm.inferno \n",
    "im = plt.imshow(blurred_azimut, cmap=cmap, interpolation='nearest')\n",
    "cbar = plt.colorbar(im)\n",
    "cbar.set_label(\"Azimuts\")\n",
    "plt.title(\"Affichage des Azimuts\")\n",
    "plt.show()\n"
   ],
   "outputs": [],
   "execution_count": null
  },
  {
   "cell_type": "markdown",
   "metadata": {},
   "source": [
    "Pour les slopes : "
   ]
  },
  {
   "cell_type": "code",
   "metadata": {},
   "source": [
    "# Appliquer un flou gaussien avec sigma = 2\n",
    "blurred_slope = gaussian_filter(slope, sigma=2)\n",
    "\n",
    "# Affichage\n",
    "plt.figure(figsize=(8, 6))\n",
    "cmap = plt.cm.inferno \n",
    "im = plt.imshow(blurred_slope, cmap=cmap, interpolation='nearest')\n",
    "cbar = plt.colorbar(im)\n",
    "cbar.set_label(\"Slopes\")\n",
    "plt.title(\"Affichage des slopes\")\n",
    "plt.show()"
   ],
   "outputs": [],
   "execution_count": null
  },
  {
   "cell_type": "markdown",
   "metadata": {},
   "source": [
    "### Segmentation des segments de toits\n",
    "\n",
    "Afin de segmenter les toits, nous allons identifier les ruptures de pentes et les changements d'orientation (azimuts).\n",
    "\n",
    "Pour cela, nous allons tout d'abord exclure les parties de toits que nous considérerons comme plates, avec des pentes inférieures à un certain seuil. Nous appliquerons le même filtre sur l'array des azimuts pour homogénéiser les résultats (sur les toits plats, le clacul de l'azimut est très instable)."
   ]
  },
  {
   "cell_type": "code",
   "metadata": {},
   "source": [
    "# filtre des slopes sur les toits plats\n",
    "flat_mask = result_slope < 15\n",
    "result_flat = np.where(flat_mask, 0, 1)\n",
    "slope_filtered = slope * result_flat\n",
    "\n",
    "# filtre des azimut pour les toits plats\n",
    "result_flat = np.where(flat_mask, 0, 1)\n",
    "azimut_filtered = azimut * result_flat"
   ],
   "outputs": [],
   "execution_count": null
  },
  {
   "cell_type": "code",
   "metadata": {},
   "source": [
    "# Affichage\n",
    "plt.figure(figsize=(8, 6))\n",
    "cmap = plt.cm.inferno \n",
    "im = plt.imshow(azimut_filtered, cmap=cmap, interpolation='nearest')\n",
    "cbar = plt.colorbar(im)\n",
    "cbar.set_label(\"Segment\")\n",
    "plt.title(\"Segment\")\n",
    "plt.show()"
   ],
   "outputs": [],
   "execution_count": null
  },
  {
   "cell_type": "markdown",
   "metadata": {},
   "source": [
    "Détection des frontières (là où la valeur change)"
   ]
  },
  {
   "cell_type": "code",
   "metadata": {},
   "source": [
    "# Détection des frontières (là où la valeur change)\n",
    "border_x = np.abs(np.diff(azimut_filtered, axis=0, prepend=azimut_filtered[0:1, :])) > 25\n",
    "border_y = np.abs(np.diff(azimut_filtered, axis=1, prepend=azimut_filtered[:, 0:1])) > 25\n",
    "\n",
    "# Création d'un masque des régions homogènes (pixels qui n'ont pas de frontière)\n",
    "regions_mask = ~(border_x | border_y)\n",
    "\n",
    "# Attribution d'un label à chaque région\n",
    "azimut_bounds = np.where(regions_mask,0,1)\n",
    "\n",
    "# Affichage\n",
    "plt.figure(figsize=(8, 6))\n",
    "cmap = plt.cm.inferno \n",
    "im = plt.imshow(azimut_bounds, cmap=cmap, interpolation='nearest')\n",
    "cbar = plt.colorbar(im)\n",
    "cbar.set_label(\"Segment\")\n",
    "plt.title(\"Segment\")\n",
    "plt.show()"
   ],
   "outputs": [],
   "execution_count": null
  },
  {
   "cell_type": "code",
   "metadata": {},
   "source": [
    "# Détection des frontières (là où la valeur change)\n",
    "border_x = np.abs(np.diff(slope_filtered, axis=0, prepend=slope_filtered[0:1, :])) > 40\n",
    "border_y = np.abs(np.diff(slope_filtered, axis=1, prepend=slope_filtered[:, 0:1])) > 40\n",
    "\n",
    "# Création d'un masque des régions homogènes (pixels qui n'ont pas de frontière)\n",
    "regions_mask = ~(border_x | border_y)\n",
    "\n",
    "# Attribution d'un label à chaque région\n",
    "slope_bounds = np.where(regions_mask,0,1)\n",
    "\n",
    "# Affichage\n",
    "plt.figure(figsize=(8, 6))\n",
    "cmap = plt.cm.inferno \n",
    "im = plt.imshow(slope_bounds, cmap=cmap, interpolation='nearest')\n",
    "cbar = plt.colorbar(im)\n",
    "cbar.set_label(\"Segment\")\n",
    "plt.title(\"Segment\")\n",
    "plt.show()"
   ],
   "outputs": [],
   "execution_count": null
  },
  {
   "cell_type": "code",
   "metadata": {},
   "source": [
    "# Création d'un masque des régions homogènes (pixels qui n'ont pas de frontière)\n",
    "regions_mask = slope_filtered > 80\n",
    "\n",
    "# Attribution d'un label à chaque région\n",
    "high_slope_bounds = np.where(regions_mask,1,0)\n",
    "\n",
    "# Affichage\n",
    "plt.figure(figsize=(8, 6))\n",
    "cmap = plt.cm.inferno \n",
    "im = plt.imshow(high_slope_bounds, cmap=cmap, interpolation='nearest')\n",
    "cbar = plt.colorbar(im)\n",
    "cbar.set_label(\"Segment\")\n",
    "plt.title(\"Segment\")\n",
    "plt.show()"
   ],
   "outputs": [],
   "execution_count": null
  },
  {
   "cell_type": "code",
   "metadata": {},
   "source": [
    "final_bounds = azimut_bounds + slope_bounds + high_slope_bounds\n",
    "final_bounds = (final_bounds > 0).astype(int) \n",
    "\n",
    "# Affichage\n",
    "plt.figure(figsize=(8, 6))\n",
    "cmap = plt.cm.inferno \n",
    "im = plt.imshow(final_bounds, cmap=cmap, interpolation='nearest')\n",
    "cbar = plt.colorbar(im)\n",
    "cbar.set_label(\"Bounds\")\n",
    "plt.title(\"Bounds\")\n",
    "plt.show()"
   ],
   "outputs": [],
   "execution_count": null
  },
  {
   "cell_type": "markdown",
   "metadata": {},
   "source": [
    "Créer des classes"
   ]
  },
  {
   "cell_type": "code",
   "metadata": {},
   "source": [
    "# Trouver les clusters de pixels 0\n",
    "labeled_bounds, num_features = label(final_bounds == 0)\n",
    "mask = out_image == 0\n",
    "labeled_bounds = np.where(mask, None, labeled_bounds)"
   ],
   "outputs": [],
   "execution_count": null
  },
  {
   "cell_type": "code",
   "metadata": {},
   "source": [
    "labeled_bounds"
   ],
   "outputs": [],
   "execution_count": null
  },
  {
   "cell_type": "code",
   "metadata": {},
   "source": [
    "labeled_bounds"
   ],
   "outputs": [],
   "execution_count": null
  },
  {
   "cell_type": "code",
   "metadata": {},
   "source": [
    "# Trouver les clusters de pixels 0\n",
    "labeled_bounds, num_features = label(final_bounds == 0)\n",
    "mask = out_image == 0\n",
    "labeled_bounds = np.where(mask, -1, labeled_bounds)\n",
    "\n",
    "# Affichage des labels\n",
    "plt.figure(figsize=(8, 6))\n",
    "plt.imshow(labeled_bounds[0])\n",
    "plt.colorbar(label=\"Labels des clusters\")\n",
    "plt.title(f\"{num_features} clusters détectés\")\n",
    "plt.show()\n"
   ],
   "outputs": [],
   "execution_count": null
  },
  {
   "cell_type": "markdown",
   "metadata": {},
   "source": [
    "Calcul de la pente et de l'orientation par segment de toit "
   ]
  },
  {
   "cell_type": "code",
   "metadata": {},
   "source": [
    "df_segment_toiture = pd.DataFrame({\"label\":[],\"surface\":[],\"slope\":[],\"azimut\":[]})\n",
    "\n",
    "for n in range(1,num_features+1) : \n",
    "    labeled_bounds_mask = labeled_bounds == n \n",
    "    slope_n = np.where(labeled_bounds_mask, slope_filtered, 0)\n",
    "    azimut_n = np.where(labeled_bounds_mask, azimut_filtered, 0)\n",
    "    surface_m = np.sum(labeled_bounds_mask) * 0.25\n",
    "    slope_degree = np.sum(slope_n) / np.sum(labeled_bounds_mask)\n",
    "    azimut_degree = np.sum(azimut_n) / np.sum(labeled_bounds_mask)\n",
    "    new_row = pd.DataFrame({\"label\":[int(n)],\"surface\":[surface_m],\"slope\":[slope_degree],\"azimut\":[azimut_degree]})\n",
    "    df_segment_toiture = pd.concat([df_segment_toiture,new_row])\n",
    "\n"
   ],
   "outputs": [],
   "execution_count": null
  },
  {
   "cell_type": "markdown",
   "metadata": {},
   "source": [
    "Suppression des segments sur les bords de l'image \n",
    "\n",
    "**Optimisation possible en filtrant l'image à l'aide des GeoDataFrame - permet d'être plus précis et d'exclure les surfaceshors scope qui ne sont pas en bord d'image.**"
   ]
  },
  {
   "cell_type": "markdown",
   "metadata": {},
   "source": [
    "Filtre sur les segments avec une surface minimum "
   ]
  },
  {
   "cell_type": "code",
   "metadata": {},
   "source": [
    "# Selection de la surface minimum à considérer en m²\n",
    "min_surface = 25\n",
    "final_segment_toiture = df_segment_toiture[df_segment_toiture[\"surface\"]>min_surface]\n",
    "final_segment_toiture.sort_values(\"surface\")"
   ],
   "outputs": [],
   "execution_count": null
  },
  {
   "cell_type": "code",
   "metadata": {},
   "source": [
    "import matplotlib.colors as mcolors\n",
    "selected_segments = np.where(np.isin(labeled_bounds, final_segment_toiture[\"label\"]),labeled_bounds,0)\n",
    "\n",
    "unique_labels = np.unique(selected_segments)\n",
    "unique_labels = unique_labels[unique_labels > 0]  # Exclure le fond (0)\n",
    "\n",
    "cmap = plt.cm.get_cmap(\"tab10\", len(unique_labels))\n",
    "norm = mcolors.BoundaryNorm(unique_labels, cmap.N)\n",
    "# Affichage des labels\n",
    "plt.figure(figsize=(8, 6))\n",
    "plt.imshow(selected_segments[0],cmap=cmap, norm=norm)\n",
    "plt.colorbar(label=\"Labels des clusters\")\n",
    "plt.title(f\"{len(final_segment_toiture)} clusters conservés\")\n",
    "plt.show()"
   ],
   "outputs": [],
   "execution_count": null
  }
 ],
 "metadata": {
  "kernelspec": {
   "display_name": "potentiel-solaire",
   "language": "python",
   "name": "python3"
  },
  "language_info": {
   "codemirror_mode": {
    "name": "ipython",
    "version": 3
   },
   "file_extension": ".py",
   "mimetype": "text/x-python",
   "name": "python",
   "nbconvert_exporter": "python",
   "pygments_lexer": "ipython3",
   "version": "3.13.1"
  }
 },
 "nbformat": 4,
 "nbformat_minor": 2
}
