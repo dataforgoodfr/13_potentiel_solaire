{
 "cells": [
  {
   "cell_type": "markdown",
   "id": "4a602bed-78e6-4868-9284-9bff19a998ee",
   "metadata": {},
   "source": [
    "# Contexte\n",
    "\n",
    "Ce notebook tente de résoudre le bug 245 :\n",
    "https://github.com/dataforgoodfr/13_potentiel_solaire/issues/245\n",
    "\n",
    "Pour rappel, les livrables sont :\n",
    "\n",
    "* Estimer le nb / % d'établissements scolaires pour lesquels coordonnées & adresses semblent incohérents\n",
    "* Script python avec la logique permettant l'amélioration de la qualité des données de l'annuaire\n",
    "* Optionnel : migration alembic pour mettre à jour la base de données potentiel_solaire.duckdb (@machbry s'en occupera si besoin)\n",
    "\n",
    "\n",
    "# Données\n",
    "\n",
    "## Imports et fonctions d'appoint\n",
    "\n",
    "Nous utilisons deux jeux de données :\n",
    "1. celui contenant la géométrie (empreinte au sol) des bâtiments, provenant des zones d'éducation (un fichiers gpkg par département, prétraité par notre algorithme) ; il notamment contient l'identifiant de l'établissement, et un MULTIPOLYGON.\n",
    "2. celui de l'annuaire des établissements scolaires, qui contient le même identifiant, une adresse (code postal, région, département...), et des coordonnées sous forme de POINT.\n",
    "\n",
    "Après les imports nous définissons trois fonction d'appoint, respectivement pour créer une adresse en concaténant les colonnes correspondantes, d'une fonction de géocodage (utilisant l'excellent service de l'IGN), et d'un calcul de distance entre deux objets shapely, par défaut dans l'EPSG 6933 comme défini ici : https://outline.services.dataforgood.fr/doc/choix-du-crs-pour-les-calculs-de-distance-fFPOfhd1mi\n",
    "\n",
    "\n"
   ]
  },
  {
   "cell_type": "code",
   "execution_count": null,
   "id": "6675e0b6-f692-4137-b9ea-894a73b9747c",
   "metadata": {},
   "outputs": [],
   "source": [
    "import glob\n",
    "import numpy as np\n",
    "import matplotlib.pyplot as plt\n",
    "import pandas as pd\n",
    "import geopandas as gpd\n",
    "from shapely import Point\n",
    "\n",
    "\n",
    "import requests\n",
    "\n",
    "\n",
    "pd.options.display.max_rows=200\n",
    "\n",
    "\n",
    "lamb93=\"EPSG:2154\"\n",
    "wgs84=\"EPSG:4326\"\n",
    "projglob=\"EPSG:6933\"\n",
    "\n",
    "def cree_adresse(df: 'pd.DataFrame', cols: list[str] = None) -> 'pd.Series':\n",
    "    \"\"\"\n",
    "    Construit une adresse complète à partir des colonnes spécifiées d'un DataFrame.\n",
    "\n",
    "    Args:\n",
    "        df (pd.DataFrame): Le DataFrame contenant les colonnes d'adresse.\n",
    "        cols (list[str], optional): Liste des noms de colonnes à utiliser pour l'adresse.\n",
    "            Par défaut [\"adresse_1\", \"code_postal\", \"nom_commune\"].\n",
    "\n",
    "    Returns:\n",
    "        pd.Series: Série contenant les adresses concaténées.\n",
    "    \"\"\"\n",
    "    if cols is None:\n",
    "        cols = [\"adresse_1\", \"code_postal\", \"nom_commune\"]\n",
    "    return df[cols].fillna(\" \").apply(lambda x: ' '.join(x.values), axis=1)\n",
    "\n",
    "\n",
    "def geocode(adresse: str) -> 'Point | None':\n",
    "    \"\"\"\n",
    "    Géocode une adresse en utilisant l'API IGN (data.geopf.fr).\n",
    "\n",
    "    Args:\n",
    "        adresse (str): L'adresse à géocoder, typiquement obtenue via cree_adresse().\n",
    "\n",
    "    Returns:\n",
    "        Point | None: Un objet Point avec les coordonnées géographiques (WGS84) ou None si échec.\n",
    "    \"\"\"\n",
    "    #time.sleep(0.1)\n",
    "    r = requests.get(url=\"https://data.geopf.fr/geocodage/search\",\n",
    "                     params={\"q\": adresse})\n",
    "    if not r.ok:\n",
    "        return None\n",
    "    try:\n",
    "        js = r.json()\n",
    "        return Point(js['features'][0]['geometry']['coordinates'])\n",
    "    except:\n",
    "        return None\n",
    "\n",
    "def calcul_dist(df: 'pd.DataFrame', col1: str, col2: str, crs: str = projglob) -> 'pd.Series':\n",
    "    \"\"\"\n",
    "    Calcule la distance entre deux colonnes de géométrie dans un DataFrame.\n",
    "\n",
    "    Args:\n",
    "        df (pd.DataFrame): Le DataFrame contenant les colonnes de géométrie.\n",
    "        col1 (str): Nom de la première colonne.\n",
    "        col2 (str): Nom de la seconde colonne.\n",
    "        crs (str, optional): Système de référence de coordonnées cible (projetées)\n",
    "                             Par défaut EPSG:6933 (utilisée par le projet).\n",
    "\n",
    "    Returns:\n",
    "        pd.Series: Série contenant les distances calculées.\n",
    "    \"\"\"\n",
    "    return gpd.GeoSeries(df[col1], crs=\"WGS84\").to_crs(crs)\\\n",
    "        .distance(gpd.GeoSeries(df[col2], crs=\"WGS84\").to_crs(crs))\n",
    "\n"
   ]
  },
  {
   "cell_type": "markdown",
   "id": "7f40ba12-11ce-4be9-a3cc-04a71488bd98",
   "metadata": {},
   "source": [
    "## Nous commençons par les zones éducatives\n",
    "\n",
    "On peut se contenter dans cette étude d'idcol (commune à l'annuaire), toponyme et geometry. \n",
    "\n",
    "La séparation en multipolygones rend possible, pour un même site, la présence de nombreux doublons. Nous en comptons 2200, et ne les considérerons pas à notre niveau d'analyse."
   ]
  },
  {
   "cell_type": "code",
   "execution_count": null,
   "id": "f0e8d732-cd7a-4538-80c5-531844f8acce",
   "metadata": {},
   "outputs": [],
   "source": [
    "folder_path='../data/results/'\n",
    "files = glob.glob(f\"{folder_path}/D*.gpkg\")\n",
    "gdfs = [gpd.read_file(f, layer=\"educational_zones\") for f in files]\n",
    "gezraw=gpd.GeoDataFrame(pd.concat(gdfs, ignore_index=True), crs=gdfs[0].crs)\n",
    "gezraw"
   ]
  },
  {
   "cell_type": "code",
   "execution_count": null,
   "id": "d6ea8b45-0671-4f9a-9c55-07a97f3ce74f",
   "metadata": {},
   "outputs": [],
   "source": [
    "idcol='identifiant_de_l_etablissement'\n",
    "\n",
    "gez=gezraw[[idcol, \"toponyme\", \"geometry\"]]\n",
    "gez"
   ]
  },
  {
   "cell_type": "code",
   "execution_count": null,
   "id": "e7c611e2-086b-42f8-a42e-f27c1cd68947",
   "metadata": {},
   "outputs": [],
   "source": [
    "gez[gez[idcol].duplicated(keep=False)]"
   ]
  },
  {
   "cell_type": "code",
   "execution_count": null,
   "id": "b6511552-fffa-4f85-a64b-8a9e430895bd",
   "metadata": {},
   "outputs": [],
   "source": [
    "gez=gez.drop_duplicates(subset=idcol)\n",
    "gez"
   ]
  },
  {
   "cell_type": "markdown",
   "id": "ed671a1d-d86b-466a-a4f5-77855a6ee44e",
   "metadata": {},
   "source": [
    "## Annuaire des établissements\n",
    "\n",
    "Nous poursuivons avec l'annuaire.\n",
    "\n",
    "Nous avons cette fois 7 paires de doublons ; ils ont même adresse et geometry, dans le contexte de cette étude nous pouvons les supprimer.\n",
    "\n",
    "Une fois les doublons supprimés, nous créons un dataframe dfm fusionné sur la colonne idcol.\n",
    "\n"
   ]
  },
  {
   "cell_type": "code",
   "execution_count": null,
   "id": "ece54dd8-444d-4617-99fd-d1b6c7d499c6",
   "metadata": {},
   "outputs": [],
   "source": [
    "goodcols=[idcol, 'nom_etablissement','adresse_1', 'code_postal', 'nom_commune',\n",
    "          'libelle_departement',  'libelle_region', 'geometry']\n",
    "gann=gpd.read_file(\"../data/etablissements.geojson\", columns=goodcols).sort_values(idcol)\n",
    "gann"
   ]
  },
  {
   "cell_type": "code",
   "execution_count": null,
   "id": "0ceeb497-73ea-4c6f-9e14-bec7773291a1",
   "metadata": {},
   "outputs": [],
   "source": [
    "gann.dropna(subset=\"geometry\", inplace=True)\n",
    "gann"
   ]
  },
  {
   "cell_type": "code",
   "execution_count": null,
   "id": "4a6a824b-e05b-4d81-bf63-b50e91940fb5",
   "metadata": {},
   "outputs": [],
   "source": [
    "gann[gann.duplicated(subset=[idcol], keep=False)]"
   ]
  },
  {
   "cell_type": "code",
   "execution_count": null,
   "id": "a0d05009-7e0b-4cce-a131-eb28d9d243f4",
   "metadata": {},
   "outputs": [],
   "source": [
    "dfm=gann.merge(gez.rename(columns={\"geometry\": \"polygon\"}), on=idcol)\n",
    "dfm[\"dist\"]=calcul_dist(dfm, \"geometry\", \"polygon\")\n",
    "dfm.sort_values(\"dist\", inplace=True, ascending=False)\n",
    "dfm[\"adresse\"]=cree_adresse(dfm)\n",
    "dfm"
   ]
  },
  {
   "cell_type": "markdown",
   "id": "cdb620ba-99bb-4cb3-9cdf-eb3aa3674ee4",
   "metadata": {},
   "source": [
    "# Statistiques des écarts\n",
    "\n",
    "L'on cherche à savoir s'il y a une coupure nette des distances entre une identification correcte et une qui ne l'est pas.\n",
    "\n",
    "Pour ce faire, nous regardons les distributions associées (classique et cumulée)\n"
   ]
  },
  {
   "cell_type": "code",
   "execution_count": null,
   "id": "41332430-f691-460b-a198-54853fa2903f",
   "metadata": {},
   "outputs": [],
   "source": [
    "fig, ax = plt.subplots(figsize=(12, 8))\n",
    "bins=np.logspace(-3, 5, 81)\n",
    "plt.hist(dfm.dist, bins=bins)\n",
    "plt.xlabel(\"Distance entre les coordonnées GPS du bâtiment physique et de l'adresse (m)\")\n",
    "plt.ylabel(\"Nombre d'établissements concernés\")\n",
    "plt.title(\"Distribution de la distance des empreintes aux coordonnées (échelle log/log)\")\n",
    "ax.loglog()\n",
    "ax.grid()"
   ]
  },
  {
   "cell_type": "code",
   "execution_count": null,
   "id": "9e83be50-718b-4e2e-b20d-9e5a125a9a78",
   "metadata": {},
   "outputs": [],
   "source": [
    "fig, ax = plt.subplots(figsize=(12, 8))\n",
    "plt.hist(dfm.dist, bins=bins, cumulative=True, density=True)\n",
    "plt.xlabel(\"Distance entre les coordonnées GPS du bâtiment physique et de l'adresse (m)\")\n",
    "plt.ylabel(\"Nombre d'établissements concernés\")\n",
    "plt.title(\"Distribution cumulée de la distance des empreintes aux coordonnées\")\n",
    "ax.grid()\n",
    "ax.set_xscale('log')\n"
   ]
  },
  {
   "cell_type": "code",
   "execution_count": null,
   "id": "28b372f1-6ce7-467e-960b-9b1671b82582",
   "metadata": {},
   "outputs": [],
   "source": [
    "fig, ax = plt.subplots(figsize=(12, 8))\n",
    "plt.hist(dfm.dist, bins=bins, cumulative=True, density=True)\n",
    "plt.xlabel(\"Distance entre les coordonnées GPS du bâtiment physique et de l'adresse (m)\")\n",
    "plt.ylabel(\"Nombre d'établissements concernés\")\n",
    "plt.title(\"Distribution cumulée de la distance des empreintes aux coordonnées\")\n",
    "ax.grid()\n",
    "ax.set_xscale('log')\n",
    "ax.set_ylim(0.8, 1)\n",
    "ax.set_xlim(100, 1e5)"
   ]
  },
  {
   "cell_type": "markdown",
   "id": "c624f213-316b-434d-bef4-f4777adfc7f2",
   "metadata": {},
   "source": [
    "On observe une distribution monomodale des distances, centrée à quelques dizaines de mètres.\n",
    "\n",
    "Les distributions cumulées confirment ce diagnostic : environ 50% des établissements à une distance inférieure à une vingtaine de mètres, 80% à 100 mètres, 920% à 250m, 2.5 % à 1 km, et peut-être un millième au-delà de 10 km.\n",
    "\n",
    "Il faut fixer un seuil au-delà duquel on estimera qu'il y a un problème. Une solution devra alors être envisagée. Nous suggérons 300m, ce qui correspond tout de même près de 10 % des établissements.\n",
    "\n",
    "Nous regardons s'il existe des différences au sein des régions et départements ; nous trions par distance au troisième quartile (le pire quart des établissements au-dessus de cette valeur).\n"
   ]
  },
  {
   "cell_type": "code",
   "execution_count": null,
   "id": "1bf27cb8-a67b-42d6-aa81-3b7360f6f293",
   "metadata": {},
   "outputs": [],
   "source": [
    "dfm.groupby(\"libelle_region\")[\"dist\"].describe().sort_values(\"75%\", ascending=False)"
   ]
  },
  {
   "cell_type": "code",
   "execution_count": null,
   "id": "beaf4a30-9192-40a5-929c-14d60e934bca",
   "metadata": {},
   "outputs": [],
   "source": [
    "dfm.groupby(\"libelle_departement\")[\"dist\"].describe().sort_values(\"75%\", ascending=False)"
   ]
  },
  {
   "cell_type": "markdown",
   "id": "006dbf82-2640-4f63-b07e-0cdb3cdf367a",
   "metadata": {},
   "source": [
    "Les DROM, en particulier la Guadeloupe (50% supérieurs à 200 m), se distinguent par des écarts élevés, mais aucune région n'est épargnée et toutes ont des établissements plus loin qu'un kilomètre de leurs coordonnées.\n",
    "\n",
    "Après confirmation sur osm, les bâtiments de quelques établissements sont bien placés, mais ce sont les coordonnées GPS qui ne correspondent pas à la réalité.\n",
    "\n",
    "# Exemple de la git issue et géocodage\n",
    "\n",
    "Nous reprenons l'exemple du lycée Germaine Tillion.\n",
    "\n",
    "Nous observons bien l'écart constaté d'un kilomètre.\n",
    "\n",
    "En géocodant l'adresse, on obtient des coordonnées plus proches de celles du polygone.\n",
    "\n",
    "Est-ce qu'un géocodage des établissements où la distance est la plus grande serait la solution ?"
   ]
  },
  {
   "cell_type": "code",
   "execution_count": null,
   "id": "45099175-4cb4-460c-9782-d04de1c9aa71",
   "metadata": {},
   "outputs": [],
   "source": [
    "idgermaine='0110012D'\n",
    "dfgermaine=dfm.query(f\"{idcol}=='{idgermaine}'\").iloc[0].copy()\n",
    "dfgermaine"
   ]
  },
  {
   "cell_type": "code",
   "execution_count": null,
   "id": "005a9583-b9d9-4dc9-a9c5-b0c78134e8ff",
   "metadata": {},
   "outputs": [],
   "source": [
    "print()"
   ]
  },
  {
   "cell_type": "code",
   "execution_count": null,
   "id": "0065006a-e5f7-4453-ad24-3ebc187b209c",
   "metadata": {},
   "outputs": [],
   "source": [
    "dfgermaine[\"geocode\"]=geocode(dfgermaine.adresse)"
   ]
  },
  {
   "cell_type": "code",
   "execution_count": null,
   "id": "83543a08-c825-45f9-9bee-8e42bf18d54f",
   "metadata": {},
   "outputs": [],
   "source": [
    "calcul_dist(dfgermaine, \"polygon\", \"geocode\")"
   ]
  },
  {
   "cell_type": "markdown",
   "id": "f3425e9f-0b39-4526-bcc6-ae47b613f15a",
   "metadata": {},
   "source": [
    "En l'espèce, cela se passe beaucoup mieux : géocoder de nouveau l'adresse permet de la faire coller à la position des bâtiments.\n",
    "\n",
    "Pour savoir si cela généralise, nous sélectionnons au hasard dix établissements dans chaque département, pour avoir une variété ; les biais d'échantillonnage seraient intéressants à discuter, mais ça sera pour une autre fois ;)\n",
    "\n"
   ]
  },
  {
   "cell_type": "code",
   "execution_count": null,
   "id": "360a89bd-a3a7-46ac-92f4-d3e5a61113f5",
   "metadata": {},
   "outputs": [],
   "source": [
    "dfsamp=dfm.groupby(\"libelle_departement\").sample(10).copy()"
   ]
  },
  {
   "cell_type": "code",
   "execution_count": null,
   "id": "b7a60452-376d-40a0-ad2b-a124c9159912",
   "metadata": {},
   "outputs": [],
   "source": [
    "geocodes=dfsamp.adresse.apply(geocode)\n",
    "geocodes"
   ]
  },
  {
   "cell_type": "code",
   "execution_count": null,
   "id": "1b6815cf-7adf-4afd-b6b2-5f2e337903ad",
   "metadata": {},
   "outputs": [],
   "source": [
    "dfsamp[\"geocodes\"]=geocodes\n",
    "dfsamp[\"dist2\"]=calcul_dist(dfsamp, \"polygon\", \"geocodes\")\n",
    "\n",
    "dfsamp"
   ]
  },
  {
   "cell_type": "code",
   "execution_count": null,
   "id": "a8b9b5ff-dc8a-47a8-a632-230a2a131281",
   "metadata": {},
   "outputs": [],
   "source": [
    "import colorcet as cc\n",
    "cmap=cc.glasbey\n",
    "dfsamp[\"dpt\"]=dfsamp.code_postal.astype(int)//1000\n",
    "dfsamp[\"color\"]=dfsamp[\"dpt\"].apply(lambda x: cmap[x])\n",
    "dfsamp"
   ]
  },
  {
   "cell_type": "code",
   "execution_count": null,
   "id": "b128ee0b-5dbc-40aa-90a8-2009258d3e3d",
   "metadata": {},
   "outputs": [],
   "source": [
    "import matplotlib.pyplot as plt\n",
    "import colorcet as color\n",
    "\n",
    "fig, ax=plt.subplots(figsize=(10, 10))\n",
    "plt.scatter(dfsamp.dist, dfsamp.dist2, color=dfsamp.color, alpha=0.8)\n",
    "p1, p2=(1e-2, 1e6)\n",
    "plt.axline((p1, p1), (p2, p2) , color=\"k\")\n",
    "\n",
    "ax.loglog()\n",
    "ax.set_xlabel(\"Distance originale\")\n",
    "ax.set_ylabel(\"Distance après géocode\")\n",
    "ax.set_xlim(p1, p2)\n",
    "ax.set_ylim(p1, p2)\n",
    "ax.grid()"
   ]
  },
  {
   "cell_type": "markdown",
   "id": "0f2fb56b-dde7-497b-a53c-b2085294a7c1",
   "metadata": {},
   "source": [
    "# Analyse et recommandation\n",
    "\n",
    "On observe un bel effet de régression à la moyenne : les points initialement loin sont statistiquement plus proches après géocodage (les points sous la droite ont une abscisse élevée), et les points initialement proches sont plus distants (les points d'abscisse faible sont au-dessus de la courbe).\n",
    "\n",
    "La décision n'est pas évidente. On pourrait, pour les établissements initialement distants, voir si un géocodage réduit la distance, auquel cas prendre cette nouvelle position pour la carte.\n",
    "\n",
    "Ou bien partir du centroïde des positions de l'empreinte des bâtiments (qui semble systématiquement fiable, empiriquement et par construction) défini comme point indiqué sur la carte. On pourrait envisager un géocoding inverse, mais cela soulèverait sans doute plus de questions en cas d'écart constaté par les utilisateurs à l'adresse réelle que de garder l'adresse connue et d'en déplacer les coordonnées.\n",
    "\n",
    "Une fonction proposée, utilisant les fonctions d'appoint déjà définies, et partant d'un dataframe mergé, pourrait avoir cette allure :\n",
    "\n"
   ]
  },
  {
   "cell_type": "code",
   "execution_count": null,
   "id": "3b348c97-7386-409a-96ba-e8e0d8c0d3ca",
   "metadata": {},
   "outputs": [],
   "source": [
    "def reduction_ecarts(df: 'pd.DataFrame', seuil: int = 300) -> None:\n",
    "    \"\"\"\n",
    "    Réduit les écarts de géolocalisation en optimisant les points selon la distance à un polygone.\n",
    "\n",
    "    Args:\n",
    "        df (pd.DataFrame): DataFrame contenant les colonnes 'geometry' et 'polygon'.\n",
    "        seuil (int, optional): Seuil de distance pour optimisation. Par défaut 300.\n",
    "\n",
    "    Modifie le DataFrame en ajoutant les colonnes:\n",
    "        - 'dist': distance entre 'geometry' et 'polygon'\n",
    "        - 'adresse': adresse concaténée\n",
    "        - 'optim_geo': géométrie optimisée\n",
    "        - 'optim_dist': distance entre 'polygon' et 'optim_geo'\n",
    "        - 'final_pt': point final optimisé\n",
    "    \"\"\"\n",
    "    df[\"dist\"] = calcul_dist(df, \"geometry\", \"polygon\")\n",
    "    df[\"adresse\"] = cree_adresse(df)\n",
    "    df[\"optim_geo\"] = df.apply(lambda x: x[\"geometry\"] if x[\"dist\"] < seuil else geocode(x[\"adresse\"]), axis=1)\n",
    "    df[\"optim_dist\"] = calcul_dist(df, \"polygon\", \"optim_geo\")\n",
    "    df[\"final_pt\"] = df.apply(lambda x: x[\"optim_geo\"] if x[\"optim_dist\"] < seuil else x[\"polygon\"].centroid, axis=1)\n",
    "    return df\n",
    "\n",
    "dft=dfm.sample(100).copy()\n",
    "dft=reduction_ecarts(dft)\n",
    "dft"
   ]
  }
 ],
 "metadata": {
  "kernelspec": {
   "display_name": "Python 3 (ipykernel)",
   "language": "python",
   "name": "python3"
  },
  "language_info": {
   "codemirror_mode": {
    "name": "ipython",
    "version": 3
   },
   "file_extension": ".py",
   "mimetype": "text/x-python",
   "name": "python",
   "nbconvert_exporter": "python",
   "pygments_lexer": "ipython3",
   "version": "3.13.3"
  }
 },
 "nbformat": 4,
 "nbformat_minor": 5
}
