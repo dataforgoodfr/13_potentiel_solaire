{
 "cells": [
  {
   "cell_type": "code",
   "execution_count": 1,
   "id": "f1f565b7",
   "metadata": {
    "execution": {
     "iopub.execute_input": "2025-03-05T22:28:39.267370Z",
     "iopub.status.busy": "2025-03-05T22:28:39.267191Z",
     "iopub.status.idle": "2025-03-05T22:28:39.276679Z",
     "shell.execute_reply": "2025-03-05T22:28:39.276320Z"
    },
    "papermill": {
     "duration": 0.016334,
     "end_time": "2025-03-05T22:28:39.277719",
     "exception": false,
     "start_time": "2025-03-05T22:28:39.261385",
     "status": "completed"
    },
    "tags": []
   },
   "outputs": [],
   "source": [
    "%load_ext autoreload\n",
    "%autoreload 2"
   ]
  },
  {
   "cell_type": "markdown",
   "id": "7218350249b1103e",
   "metadata": {
    "papermill": {
     "duration": 0.002734,
     "end_time": "2025-03-05T22:28:39.283242",
     "exception": false,
     "start_time": "2025-03-05T22:28:39.280508",
     "status": "completed"
    },
    "tags": []
   },
   "source": [
    "# Paramètres de la pipeline"
   ]
  },
  {
   "cell_type": "code",
   "execution_count": 2,
   "id": "6358f4912f9f22ab",
   "metadata": {
    "editable": true,
    "execution": {
     "iopub.execute_input": "2025-03-05T22:28:39.289969Z",
     "iopub.status.busy": "2025-03-05T22:28:39.289788Z",
     "iopub.status.idle": "2025-03-05T22:28:39.295961Z",
     "shell.execute_reply": "2025-03-05T22:28:39.295382Z"
    },
    "papermill": {
     "duration": 0.010787,
     "end_time": "2025-03-05T22:28:39.296886",
     "exception": false,
     "start_time": "2025-03-05T22:28:39.286099",
     "status": "completed"
    },
    "slideshow": {
     "slide_type": ""
    },
    "tags": [
     "parameters"
    ]
   },
   "outputs": [],
   "source": [
    "code_departement = \"093\"\n",
    "logs_level = \"WARNING\""
   ]
  },
  {
   "cell_type": "code",
   "execution_count": 3,
   "id": "5dda0b47",
   "metadata": {
    "execution": {
     "iopub.execute_input": "2025-03-05T22:28:39.302876Z",
     "iopub.status.busy": "2025-03-05T22:28:39.302726Z",
     "iopub.status.idle": "2025-03-05T22:28:39.308693Z",
     "shell.execute_reply": "2025-03-05T22:28:39.308055Z"
    },
    "papermill": {
     "duration": 0.010553,
     "end_time": "2025-03-05T22:28:39.309993",
     "exception": false,
     "start_time": "2025-03-05T22:28:39.299440",
     "status": "completed"
    },
    "tags": [
     "injected-parameters"
    ]
   },
   "outputs": [],
   "source": [
    "# Parameters\n",
    "code_departement = \"093\"\n",
    "logs_level = \"WARNING\"\n"
   ]
  },
  {
   "cell_type": "markdown",
   "id": "d3a70f3e57e62a7c",
   "metadata": {
    "papermill": {
     "duration": 0.002392,
     "end_time": "2025-03-05T22:28:39.315209",
     "exception": false,
     "start_time": "2025-03-05T22:28:39.312817",
     "status": "completed"
    },
    "tags": []
   },
   "source": [
    "# Imports & setup"
   ]
  },
  {
   "cell_type": "code",
   "execution_count": 4,
   "id": "aa88b759c982f54c",
   "metadata": {
    "execution": {
     "iopub.execute_input": "2025-03-05T22:28:39.321516Z",
     "iopub.status.busy": "2025-03-05T22:28:39.321386Z",
     "iopub.status.idle": "2025-03-05T22:28:40.127607Z",
     "shell.execute_reply": "2025-03-05T22:28:40.127273Z"
    },
    "papermill": {
     "duration": 0.810448,
     "end_time": "2025-03-05T22:28:40.128727",
     "exception": false,
     "start_time": "2025-03-05T22:28:39.318279",
     "status": "completed"
    },
    "tags": []
   },
   "outputs": [
    {
     "name": "stderr",
     "output_type": "stream",
     "text": [
      "2025-03-09 20:09:44,321 - DEBUG - rasterio.session - /Users/ASalles/dataforgood/13_potentiel_solaire/algorithme/.venv/lib/python3.13/site-packages/rasterio/session.py - <module> - Could not import boto3, continuing with reduced functionality.\n",
      "2025-03-09 20:09:44,323 - DEBUG - rasterio.env - /Users/ASalles/dataforgood/13_potentiel_solaire/algorithme/.venv/lib/python3.13/site-packages/rasterio/env.py - <module> - GDAL data found in package: path='/Users/ASalles/dataforgood/13_potentiel_solaire/algorithme/.venv/lib/python3.13/site-packages/rasterio/gdal_data'.\n",
      "2025-03-09 20:09:44,324 - DEBUG - rasterio.env - /Users/ASalles/dataforgood/13_potentiel_solaire/algorithme/.venv/lib/python3.13/site-packages/rasterio/env.py - <module> - PROJ data found in package: path='/Users/ASalles/dataforgood/13_potentiel_solaire/algorithme/.venv/lib/python3.13/site-packages/rasterio/proj_data'.\n"
     ]
    }
   ],
   "source": [
    "import geopandas as gpd\n",
    "\n",
    "from potentiel_solaire.attach_buildings_to_schools import attach_buildings_to_schools\n",
    "from potentiel_solaire.constants import DEFAULT_CRS, ALGORITHME_FOLDER, DATA_FOLDER\n",
    "from potentiel_solaire.sources.bd_topo import extract_bd_topo, get_topo_zones_of_interest, \\\n",
    "    get_topo_buildings_of_interest\n",
    "from potentiel_solaire.sources.bd_pci import extract_bd_pci\n",
    "from potentiel_solaire.sources.bd_solar_irradiation import extract_bd_irradiation\n",
    "from potentiel_solaire.sources.schools_establishments import extract_schools_establishments, \\\n",
    "    get_schools_establishments_of_interest\n",
    "from potentiel_solaire.sources.protected_buildings import extract_protected_buildings, get_areas_with_protected_buildings\n",
    "from potentiel_solaire.features.solar_potential import calculate_solar_potential\n",
    "from potentiel_solaire.aggregate import aggregate_solar_potential_by\n",
    "from potentiel_solaire.logger import get_logger\n",
    "\n",
    "logger = get_logger()\n",
    "logger.setLevel(logs_level)"
   ]
  },
  {
   "cell_type": "markdown",
   "id": "a9a9258eef4ab443",
   "metadata": {
    "papermill": {
     "duration": 0.002448,
     "end_time": "2025-03-05T22:28:40.134283",
     "exception": false,
     "start_time": "2025-03-05T22:28:40.131835",
     "status": "completed"
    },
    "tags": []
   },
   "source": [
    "# Extraction des données sources"
   ]
  },
  {
   "cell_type": "markdown",
   "id": "463a1d94816fdbc3",
   "metadata": {
    "papermill": {
     "duration": 0.002503,
     "end_time": "2025-03-05T22:28:40.140272",
     "exception": false,
     "start_time": "2025-03-05T22:28:40.137769",
     "status": "completed"
    },
    "tags": []
   },
   "source": [
    "### Etablissements scolaires"
   ]
  },
  {
   "cell_type": "code",
   "execution_count": 5,
   "id": "7d8bb82fa7db3b7d",
   "metadata": {
    "execution": {
     "iopub.execute_input": "2025-03-05T22:28:40.147204Z",
     "iopub.status.busy": "2025-03-05T22:28:40.147013Z",
     "iopub.status.idle": "2025-03-05T22:28:40.156879Z",
     "shell.execute_reply": "2025-03-05T22:28:40.156584Z"
    },
    "papermill": {
     "duration": 0.014111,
     "end_time": "2025-03-05T22:28:40.157760",
     "exception": false,
     "start_time": "2025-03-05T22:28:40.143649",
     "status": "completed"
    },
    "tags": []
   },
   "outputs": [
    {
     "name": "stdout",
     "output_type": "stream",
     "text": [
      "Annuaire des établissements scolaires extrait ici: /Users/ASalles/dataforgood/13_potentiel_solaire/algorithme/data/fr-en-annuaire-education.geojson\n"
     ]
    }
   ],
   "source": [
    "schools_establishments_path = extract_schools_establishments()\n",
    "print(f\"Annuaire des établissements scolaires extrait ici: {schools_establishments_path}\")"
   ]
  },
  {
   "cell_type": "markdown",
   "id": "d24a2e59f349d78c",
   "metadata": {
    "papermill": {
     "duration": 0.002818,
     "end_time": "2025-03-05T22:28:40.163740",
     "exception": false,
     "start_time": "2025-03-05T22:28:40.160922",
     "status": "completed"
    },
    "tags": []
   },
   "source": [
    "### BD TOPO"
   ]
  },
  {
   "cell_type": "code",
   "execution_count": 6,
   "id": "3e8f100f2f53930c",
   "metadata": {
    "execution": {
     "iopub.execute_input": "2025-03-05T22:28:40.169883Z",
     "iopub.status.busy": "2025-03-05T22:28:40.169740Z",
     "iopub.status.idle": "2025-03-05T22:28:40.182390Z",
     "shell.execute_reply": "2025-03-05T22:28:40.182008Z"
    },
    "papermill": {
     "duration": 0.017058,
     "end_time": "2025-03-05T22:28:40.183274",
     "exception": false,
     "start_time": "2025-03-05T22:28:40.166216",
     "status": "completed"
    },
    "tags": []
   },
   "outputs": [
    {
     "name": "stdout",
     "output_type": "stream",
     "text": [
      "BD TOPO extraite ici: /Users/ASalles/dataforgood/13_potentiel_solaire/algorithme/data/BDTOPO_3-4_TOUSTHEMES_GPKG_LAMB93_D093_2024-12-15/BDTOPO/1_DONNEES_LIVRAISON_2024-12-00134/BDT_3-4_GPKG_LAMB93_D093-ED2024-12-15/BDT_3-4_GPKG_LAMB93_D093-ED2024-12-15.gpkg\n"
     ]
    }
   ],
   "source": [
    "bd_topo_path = extract_bd_topo(code_departement=code_departement)\n",
    "print(f\"BD TOPO extraite ici: {bd_topo_path}\")"
   ]
  },
  {
   "cell_type": "markdown",
   "id": "c26ed5544663d238",
   "metadata": {
    "papermill": {
     "duration": 0.003175,
     "end_time": "2025-03-05T22:28:40.194370",
     "exception": false,
     "start_time": "2025-03-05T22:28:40.191195",
     "status": "completed"
    },
    "tags": []
   },
   "source": [
    "### BD PCI"
   ]
  },
  {
   "cell_type": "code",
   "execution_count": 7,
   "id": "f22aa57125e42448",
   "metadata": {
    "execution": {
     "iopub.execute_input": "2025-03-05T22:28:40.201331Z",
     "iopub.status.busy": "2025-03-05T22:28:40.200857Z",
     "iopub.status.idle": "2025-03-05T22:28:53.309385Z",
     "shell.execute_reply": "2025-03-05T22:28:53.308555Z"
    },
    "papermill": {
     "duration": 13.113432,
     "end_time": "2025-03-05T22:28:53.310683",
     "exception": false,
     "start_time": "2025-03-05T22:28:40.197251",
     "status": "completed"
    },
    "tags": []
   },
   "outputs": [
    {
     "name": "stdout",
     "output_type": "stream",
     "text": [
      "BD PCI extraite ici: /Users/ASalles/dataforgood/13_potentiel_solaire/algorithme/data/PARCELLAIRE-EXPRESS_1-1__SHP_LAMB93_D093_2025-01-01/PARCELLAIRE-EXPRESS/1_DONNEES_LIVRAISON_2025-02-00010/PEPCI_1-1_SHP_LAMB93_D093/BATIMENT.SHP\n"
     ]
    }
   ],
   "source": [
    "bd_pci_path = extract_bd_pci(code_departement=code_departement)\n",
    "print(f\"BD PCI extraite ici: {bd_pci_path}\")"
   ]
  },
  {
   "cell_type": "markdown",
   "id": "a944bdd9d0c61e1",
   "metadata": {
    "papermill": {
     "duration": 0.00293,
     "end_time": "2025-03-05T22:28:53.316568",
     "exception": false,
     "start_time": "2025-03-05T22:28:53.313638",
     "status": "completed"
    },
    "tags": []
   },
   "source": [
    "### BD IRRADIATION"
   ]
  },
  {
   "cell_type": "code",
   "execution_count": 8,
   "id": "416cb349beec3928",
   "metadata": {
    "execution": {
     "iopub.execute_input": "2025-03-05T22:28:53.324910Z",
     "iopub.status.busy": "2025-03-05T22:28:53.324750Z",
     "iopub.status.idle": "2025-03-05T22:28:53.338461Z",
     "shell.execute_reply": "2025-03-05T22:28:53.338163Z"
    },
    "papermill": {
     "duration": 0.01999,
     "end_time": "2025-03-05T22:28:53.339428",
     "exception": false,
     "start_time": "2025-03-05T22:28:53.319438",
     "status": "completed"
    },
    "tags": []
   },
   "outputs": [
    {
     "name": "stdout",
     "output_type": "stream",
     "text": [
      "BD irradiation extraite ici: /Users/ASalles/dataforgood/13_potentiel_solaire/algorithme/data/ENR_1-0_IRR-SOL_TIFF_WGS84G_FXX_2023-10-01/1_DONNEES_LIVRAISON/GlobalHorizontalIrradiation.tif\n"
     ]
    }
   ],
   "source": [
    "bd_irradiation_path = extract_bd_irradiation()\n",
    "print(f\"BD irradiation extraite ici: {bd_irradiation_path}\")"
   ]
  },
  {
   "cell_type": "markdown",
   "id": "5d3c5337",
   "metadata": {
    "papermill": {
     "duration": 0.004527,
     "end_time": "2025-03-05T22:28:53.347482",
     "exception": false,
     "start_time": "2025-03-05T22:28:53.342955",
     "status": "completed"
    },
    "tags": []
   },
   "source": [
    "### BD Protected Buildings"
   ]
  },
  {
   "cell_type": "code",
   "execution_count": 9,
   "id": "1786941c",
   "metadata": {
    "execution": {
     "iopub.execute_input": "2025-03-05T22:28:53.355501Z",
     "iopub.status.busy": "2025-03-05T22:28:53.355320Z",
     "iopub.status.idle": "2025-03-05T22:29:19.276979Z",
     "shell.execute_reply": "2025-03-05T22:29:19.276480Z"
    },
    "papermill": {
     "duration": 25.927615,
     "end_time": "2025-03-05T22:29:19.278328",
     "exception": false,
     "start_time": "2025-03-05T22:28:53.350713",
     "status": "completed"
    },
    "tags": []
   },
   "outputs": [
    {
     "name": "stderr",
     "output_type": "stream",
     "text": [
      "2025-03-09 20:10:04,889 - WARNING - pyogrio._io - /Users/ASalles/dataforgood/13_potentiel_solaire/algorithme/.venv/lib/python3.13/site-packages/pyogrio/raw.py - read - Skipping field cog_insee_lors_de_la_protection: unsupported OGR type: 5\n",
      "2025-03-09 20:10:04,890 - WARNING - pyogrio._io - /Users/ASalles/dataforgood/13_potentiel_solaire/algorithme/.venv/lib/python3.13/site-packages/pyogrio/raw.py - read - Skipping field region: unsupported OGR type: 5\n",
      "2025-03-09 20:10:04,890 - WARNING - pyogrio._io - /Users/ASalles/dataforgood/13_potentiel_solaire/algorithme/.venv/lib/python3.13/site-packages/pyogrio/raw.py - read - Skipping field departement_en_lettres: unsupported OGR type: 5\n"
     ]
    },
    {
     "name": "stdout",
     "output_type": "stream",
     "text": [
      "BD des bâtiments protégés extraite ici: /Users/ASalles/dataforgood/13_potentiel_solaire/algorithme/data/liste_immeubles_proteges.geojson\n"
     ]
    }
   ],
   "source": [
    "bd_protected_buildings_path = extract_protected_buildings()\n",
    "print(f\"BD des bâtiments protégés extraite ici: {bd_protected_buildings_path}\")"
   ]
  },
  {
   "cell_type": "markdown",
   "id": "b315616c8a49a102",
   "metadata": {
    "papermill": {
     "duration": 0.003597,
     "end_time": "2025-03-05T22:29:19.287098",
     "exception": false,
     "start_time": "2025-03-05T22:29:19.283501",
     "status": "completed"
    },
    "tags": []
   },
   "source": [
    "# Filtre des données sur le périmètre du calcul"
   ]
  },
  {
   "cell_type": "markdown",
   "id": "8141e3850bdde72d",
   "metadata": {
    "papermill": {
     "duration": 0.003162,
     "end_time": "2025-03-05T22:29:19.293231",
     "exception": false,
     "start_time": "2025-03-05T22:29:19.290069",
     "status": "completed"
    },
    "tags": []
   },
   "source": [
    "### Etablissements scolaires\n"
   ]
  },
  {
   "cell_type": "code",
   "execution_count": 10,
   "id": "8c2714f479cce131",
   "metadata": {
    "execution": {
     "iopub.execute_input": "2025-03-05T22:29:19.301994Z",
     "iopub.status.busy": "2025-03-05T22:29:19.301668Z",
     "iopub.status.idle": "2025-03-05T22:29:28.737639Z",
     "shell.execute_reply": "2025-03-05T22:29:28.737120Z"
    },
    "papermill": {
     "duration": 9.442375,
     "end_time": "2025-03-05T22:29:28.738939",
     "exception": false,
     "start_time": "2025-03-05T22:29:19.296564",
     "status": "completed"
    },
    "tags": []
   },
   "outputs": [
    {
     "name": "stdout",
     "output_type": "stream",
     "text": [
      "Nb d'établissements scolaires: 1130\n"
     ]
    }
   ],
   "source": [
    "schools_establishments = get_schools_establishments_of_interest(\n",
    "    schools_filepath=schools_establishments_path,\n",
    "    code_departement=code_departement,\n",
    "    types_etablissements=['Ecole', 'Lycée', 'Collège'],\n",
    "    statut_public_prive=\"Public\",\n",
    "    etat=\"OUVERT\",\n",
    "    crs=DEFAULT_CRS\n",
    ")\n",
    "nb_schools = schools_establishments.shape[0]\n",
    "print(f\"Nb d'établissements scolaires: {nb_schools}\")"
   ]
  },
  {
   "cell_type": "markdown",
   "id": "6a7c50bff2a4dcab",
   "metadata": {
    "papermill": {
     "duration": 0.003987,
     "end_time": "2025-03-05T22:29:28.746187",
     "exception": false,
     "start_time": "2025-03-05T22:29:28.742200",
     "status": "completed"
    },
    "tags": []
   },
   "source": [
    "### Zone d'intérêt géographique"
   ]
  },
  {
   "cell_type": "code",
   "execution_count": 11,
   "id": "90227f344c76c3d6",
   "metadata": {
    "execution": {
     "iopub.execute_input": "2025-03-05T22:29:28.755766Z",
     "iopub.status.busy": "2025-03-05T22:29:28.755530Z",
     "iopub.status.idle": "2025-03-05T22:29:28.926215Z",
     "shell.execute_reply": "2025-03-05T22:29:28.925805Z"
    },
    "papermill": {
     "duration": 0.177754,
     "end_time": "2025-03-05T22:29:28.927756",
     "exception": false,
     "start_time": "2025-03-05T22:29:28.750002",
     "status": "completed"
    },
    "tags": []
   },
   "outputs": [],
   "source": [
    "codes_commune = schools_establishments[\"code_commune\"].unique()\n",
    "communes = gpd.read_file(bd_topo_path, layer=\"commune\").to_crs(DEFAULT_CRS)\n",
    "communes = communes[communes.code_insee.isin(codes_commune)]\n",
    "geom_of_interest = communes.dissolve()[[\"geometry\"]]"
   ]
  },
  {
   "cell_type": "markdown",
   "id": "ed36d1f4a8ff139d",
   "metadata": {
    "papermill": {
     "duration": 0.003989,
     "end_time": "2025-03-05T22:29:28.935936",
     "exception": false,
     "start_time": "2025-03-05T22:29:28.931947",
     "status": "completed"
    },
    "tags": []
   },
   "source": [
    "### Zones d'éducations"
   ]
  },
  {
   "cell_type": "code",
   "execution_count": 12,
   "id": "62c98433be3c4844",
   "metadata": {
    "execution": {
     "iopub.execute_input": "2025-03-05T22:29:28.944419Z",
     "iopub.status.busy": "2025-03-05T22:29:28.944163Z",
     "iopub.status.idle": "2025-03-05T22:29:29.319825Z",
     "shell.execute_reply": "2025-03-05T22:29:29.319354Z"
    },
    "papermill": {
     "duration": 0.381816,
     "end_time": "2025-03-05T22:29:29.321013",
     "exception": false,
     "start_time": "2025-03-05T22:29:28.939197",
     "status": "completed"
    },
    "tags": []
   },
   "outputs": [
    {
     "name": "stderr",
     "output_type": "stream",
     "text": [
      "/Users/ASalles/dataforgood/13_potentiel_solaire/algorithme/.venv/lib/python3.13/site-packages/pyogrio/core.py:279: RuntimeWarning: Field format 'character varying' not supported\n",
      "  return ogr_read_info(\n",
      "/Users/ASalles/dataforgood/13_potentiel_solaire/algorithme/.venv/lib/python3.13/site-packages/pyogrio/core.py:279: RuntimeWarning: Field format 'character varying(256)' not supported\n",
      "  return ogr_read_info(\n",
      "/Users/ASalles/dataforgood/13_potentiel_solaire/algorithme/.venv/lib/python3.13/site-packages/pyogrio/core.py:279: RuntimeWarning: Field format 'character varying(30)' not supported\n",
      "  return ogr_read_info(\n",
      "/Users/ASalles/dataforgood/13_potentiel_solaire/algorithme/.venv/lib/python3.13/site-packages/pyogrio/core.py:279: RuntimeWarning: Field format 'timestamp with time zone' not supported\n",
      "  return ogr_read_info(\n",
      "/Users/ASalles/dataforgood/13_potentiel_solaire/algorithme/.venv/lib/python3.13/site-packages/geopandas/io/file.py:497: UserWarning: More than one layer found in 'BDT_3-4_GPKG_LAMB93_D093-ED2024-12-15.gpkg': 'troncon_de_route' (default), 'route_numerotee_ou_nommee', 'itineraire_autre', 'troncon_de_voie_ferree', 'equipement_de_transport', 'piste_d_aerodrome', 'aerodrome', 'point_de_repere', 'non_communication', 'point_du_reseau', 'voie_ferree_nommee', 'toponymie_transport', 'batiment', 'cimetiere', 'construction_lineaire', 'construction_ponctuelle', 'construction_surfacique', 'reservoir', 'ligne_orographique', 'pylone', 'terrain_de_sport', 'toponymie_bati', 'cours_d_eau', 'troncon_hydrographique', 'bassin_versant_topographique', 'plan_d_eau', 'surface_hydrographique', 'noeud_hydrographique', 'detail_hydrographique', 'toponymie_hydrographie', 'zone_d_habitation', 'lieu_dit_non_habite', 'detail_orographique', 'toponymie_lieux_nommes', 'canalisation', 'ligne_electrique', 'poste_de_transformation', 'erp', 'zone_d_activite_ou_d_interet', 'toponymie_services_et_activites', 'voie_nommee', 'parc_ou_reserve', 'foret_publique', 'toponymie_zones_reglementees', 'haie', 'zone_de_vegetation', 'arrondissement', 'arrondissement_municipal', 'commune', 'epci', 'collectivite_territoriale', 'departement', 'region', 'adresse_ban', 'batiment_rnb_lien_bdtopo', 'lien_adresse_vers_bdtopo', 'section_de_points_de_repere', 'info_metadonnees', 'metadonnees_lot', 'metadonnees_theme', 'layer_styles'. Specify layer parameter to avoid this warning.\n",
      "  crs = pyogrio.read_info(path_or_bytes).get(\"crs\")\n"
     ]
    },
    {
     "name": "stdout",
     "output_type": "stream",
     "text": [
      "Nb de zones d'éducations:  1088\n"
     ]
    }
   ],
   "source": [
    "educational_zones = get_topo_zones_of_interest(\n",
    "    bd_topo_path=bd_topo_path,\n",
    "    geom_of_interest=geom_of_interest,\n",
    "    categories=[\"Science et enseignement\"],\n",
    "    natures=['Collège', 'Lycée', 'Enseignement primaire'],\n",
    "    crs=DEFAULT_CRS\n",
    ")\n",
    "nb_educational_zones = educational_zones.shape[0]\n",
    "print(\"Nb de zones d'éducations: \", nb_educational_zones)"
   ]
  },
  {
   "cell_type": "markdown",
   "id": "50d92236b74ff088",
   "metadata": {
    "papermill": {
     "duration": 0.004015,
     "end_time": "2025-03-05T22:29:29.329213",
     "exception": false,
     "start_time": "2025-03-05T22:29:29.325198",
     "status": "completed"
    },
    "tags": []
   },
   "source": [
    "### Bâtiments"
   ]
  },
  {
   "cell_type": "code",
   "execution_count": 13,
   "id": "b092bb4fd4942b",
   "metadata": {
    "execution": {
     "iopub.execute_input": "2025-03-05T22:29:29.337158Z",
     "iopub.status.busy": "2025-03-05T22:29:29.336987Z",
     "iopub.status.idle": "2025-03-05T22:29:44.397589Z",
     "shell.execute_reply": "2025-03-05T22:29:44.397032Z"
    },
    "papermill": {
     "duration": 15.06663,
     "end_time": "2025-03-05T22:29:44.399132",
     "exception": false,
     "start_time": "2025-03-05T22:29:29.332502",
     "status": "completed"
    },
    "tags": []
   },
   "outputs": [
    {
     "name": "stderr",
     "output_type": "stream",
     "text": [
      "/Users/ASalles/dataforgood/13_potentiel_solaire/algorithme/.venv/lib/python3.13/site-packages/pyogrio/core.py:279: RuntimeWarning: Field format 'character varying' not supported\n",
      "  return ogr_read_info(\n",
      "/Users/ASalles/dataforgood/13_potentiel_solaire/algorithme/.venv/lib/python3.13/site-packages/pyogrio/core.py:279: RuntimeWarning: Field format 'character varying(256)' not supported\n",
      "  return ogr_read_info(\n",
      "/Users/ASalles/dataforgood/13_potentiel_solaire/algorithme/.venv/lib/python3.13/site-packages/pyogrio/core.py:279: RuntimeWarning: Field format 'character varying(30)' not supported\n",
      "  return ogr_read_info(\n",
      "/Users/ASalles/dataforgood/13_potentiel_solaire/algorithme/.venv/lib/python3.13/site-packages/pyogrio/core.py:279: RuntimeWarning: Field format 'timestamp with time zone' not supported\n",
      "  return ogr_read_info(\n",
      "/Users/ASalles/dataforgood/13_potentiel_solaire/algorithme/.venv/lib/python3.13/site-packages/geopandas/io/file.py:497: UserWarning: More than one layer found in 'BDT_3-4_GPKG_LAMB93_D093-ED2024-12-15.gpkg': 'troncon_de_route' (default), 'route_numerotee_ou_nommee', 'itineraire_autre', 'troncon_de_voie_ferree', 'equipement_de_transport', 'piste_d_aerodrome', 'aerodrome', 'point_de_repere', 'non_communication', 'point_du_reseau', 'voie_ferree_nommee', 'toponymie_transport', 'batiment', 'cimetiere', 'construction_lineaire', 'construction_ponctuelle', 'construction_surfacique', 'reservoir', 'ligne_orographique', 'pylone', 'terrain_de_sport', 'toponymie_bati', 'cours_d_eau', 'troncon_hydrographique', 'bassin_versant_topographique', 'plan_d_eau', 'surface_hydrographique', 'noeud_hydrographique', 'detail_hydrographique', 'toponymie_hydrographie', 'zone_d_habitation', 'lieu_dit_non_habite', 'detail_orographique', 'toponymie_lieux_nommes', 'canalisation', 'ligne_electrique', 'poste_de_transformation', 'erp', 'zone_d_activite_ou_d_interet', 'toponymie_services_et_activites', 'voie_nommee', 'parc_ou_reserve', 'foret_publique', 'toponymie_zones_reglementees', 'haie', 'zone_de_vegetation', 'arrondissement', 'arrondissement_municipal', 'commune', 'epci', 'collectivite_territoriale', 'departement', 'region', 'adresse_ban', 'batiment_rnb_lien_bdtopo', 'lien_adresse_vers_bdtopo', 'section_de_points_de_repere', 'info_metadonnees', 'metadonnees_lot', 'metadonnees_theme', 'layer_styles'. Specify layer parameter to avoid this warning.\n",
      "  crs = pyogrio.read_info(path_or_bytes).get(\"crs\")\n"
     ]
    },
    {
     "name": "stdout",
     "output_type": "stream",
     "text": [
      "Nb de batiments:  351577\n"
     ]
    }
   ],
   "source": [
    "# TODO : ajout des batiments manquants avec la BD PCI\n",
    "buildings = get_topo_buildings_of_interest(\n",
    "    bd_topo_path=bd_topo_path,\n",
    "    geom_of_interest=geom_of_interest,\n",
    "    crs=DEFAULT_CRS\n",
    ")\n",
    "nb_buildings = buildings.shape[0]\n",
    "print(\"Nb de batiments: \", nb_buildings)"
   ]
  },
  {
   "cell_type": "markdown",
   "id": "176817ac7bffea59",
   "metadata": {
    "papermill": {
     "duration": 0.003268,
     "end_time": "2025-03-05T22:29:44.408093",
     "exception": false,
     "start_time": "2025-03-05T22:29:44.404825",
     "status": "completed"
    },
    "tags": []
   },
   "source": [
    "### Zones avec des bâtiments protégés"
   ]
  },
  {
   "cell_type": "code",
   "execution_count": 14,
   "id": "6d9accb3a3076291",
   "metadata": {
    "execution": {
     "iopub.execute_input": "2025-03-05T22:29:44.416512Z",
     "iopub.status.busy": "2025-03-05T22:29:44.416297Z",
     "iopub.status.idle": "2025-03-05T22:29:45.149754Z",
     "shell.execute_reply": "2025-03-05T22:29:45.149403Z"
    },
    "papermill": {
     "duration": 0.738855,
     "end_time": "2025-03-05T22:29:45.151227",
     "exception": false,
     "start_time": "2025-03-05T22:29:44.412372",
     "status": "completed"
    },
    "tags": []
   },
   "outputs": [],
   "source": [
    "areas_with_protected_buildings = get_areas_with_protected_buildings(\n",
    "    bd_protected_buildings_path=bd_protected_buildings_path,\n",
    "    geom_of_interest=geom_of_interest,\n",
    "    crs=DEFAULT_CRS\n",
    ")"
   ]
  },
  {
   "cell_type": "markdown",
   "id": "129b67af5c421e52",
   "metadata": {
    "papermill": {
     "duration": 0.004189,
     "end_time": "2025-03-05T22:29:45.159399",
     "exception": false,
     "start_time": "2025-03-05T22:29:45.155210",
     "status": "completed"
    },
    "tags": []
   },
   "source": [
    "# Détermination des bâtiments scolaires"
   ]
  },
  {
   "cell_type": "code",
   "execution_count": 15,
   "id": "f164fcc395a85eeb",
   "metadata": {
    "execution": {
     "iopub.execute_input": "2025-03-05T22:29:45.168462Z",
     "iopub.status.busy": "2025-03-05T22:29:45.168271Z",
     "iopub.status.idle": "2025-03-05T22:29:45.473863Z",
     "shell.execute_reply": "2025-03-05T22:29:45.472959Z"
    },
    "papermill": {
     "duration": 0.311891,
     "end_time": "2025-03-05T22:29:45.475660",
     "exception": false,
     "start_time": "2025-03-05T22:29:45.163769",
     "status": "completed"
    },
    "tags": []
   },
   "outputs": [
    {
     "name": "stderr",
     "output_type": "stream",
     "text": [
      "/Users/ASalles/dataforgood/13_potentiel_solaire/algorithme/.venv/lib/python3.13/site-packages/geopandas/array.py:403: UserWarning: Geometry is in a geographic CRS. Results from 'sjoin_nearest' are likely incorrect. Use 'GeoSeries.to_crs()' to re-project geometries to a projected CRS before this operation.\n",
      "\n",
      "  warnings.warn(\n"
     ]
    },
    {
     "name": "stdout",
     "output_type": "stream",
     "text": [
      "Nb de batiments scolaires:  3731\n"
     ]
    }
   ],
   "source": [
    "schools_buildings = attach_buildings_to_schools(\n",
    "    schools_establishments=schools_establishments,\n",
    "    educational_zones=educational_zones,\n",
    "    buildings=buildings\n",
    ")\n",
    "nb_schools_buildings = schools_buildings.shape[0]\n",
    "print(\"Nb de batiments scolaires: \", nb_schools_buildings)"
   ]
  },
  {
   "cell_type": "code",
   "execution_count": 16,
   "id": "2bd8f7a3",
   "metadata": {
    "execution": {
     "iopub.execute_input": "2025-03-05T22:29:45.484486Z",
     "iopub.status.busy": "2025-03-05T22:29:45.484077Z",
     "iopub.status.idle": "2025-03-05T22:29:45.511465Z",
     "shell.execute_reply": "2025-03-05T22:29:45.510933Z"
    },
    "papermill": {
     "duration": 0.033144,
     "end_time": "2025-03-05T22:29:45.512667",
     "exception": false,
     "start_time": "2025-03-05T22:29:45.479523",
     "status": "completed"
    },
    "tags": []
   },
   "outputs": [
    {
     "data": {
      "text/html": [
       "<div>\n",
       "<style scoped>\n",
       "    .dataframe tbody tr th:only-of-type {\n",
       "        vertical-align: middle;\n",
       "    }\n",
       "\n",
       "    .dataframe tbody tr th {\n",
       "        vertical-align: top;\n",
       "    }\n",
       "\n",
       "    .dataframe thead th {\n",
       "        text-align: right;\n",
       "    }\n",
       "</style>\n",
       "<table border=\"1\" class=\"dataframe\">\n",
       "  <thead>\n",
       "    <tr style=\"text-align: right;\">\n",
       "      <th></th>\n",
       "      <th>cleabs_bat</th>\n",
       "      <th>construction_legere</th>\n",
       "      <th>hauteur</th>\n",
       "      <th>geometry</th>\n",
       "      <th>index_zone</th>\n",
       "      <th>cleabs_zone</th>\n",
       "      <th>categorie</th>\n",
       "      <th>nature</th>\n",
       "      <th>toponyme</th>\n",
       "      <th>identifiant_de_l_etablissement</th>\n",
       "    </tr>\n",
       "  </thead>\n",
       "  <tbody>\n",
       "    <tr>\n",
       "      <th>4</th>\n",
       "      <td>BATIMENT0000000229474428</td>\n",
       "      <td>False</td>\n",
       "      <td>24.7</td>\n",
       "      <td>MULTIPOLYGON Z (((2.3241 48.90492 44.5, 2.3240...</td>\n",
       "      <td>409</td>\n",
       "      <td>SURFACTI0000000002555886</td>\n",
       "      <td>Science et enseignement</td>\n",
       "      <td>Enseignement primaire</td>\n",
       "      <td>École Maternelle Victor Hugo</td>\n",
       "      <td>0930409P</td>\n",
       "    </tr>\n",
       "    <tr>\n",
       "      <th>237</th>\n",
       "      <td>BATIMENT0000000243403398</td>\n",
       "      <td>False</td>\n",
       "      <td>7.2</td>\n",
       "      <td>MULTIPOLYGON Z (((2.36008 48.9081 44.2, 2.3601...</td>\n",
       "      <td>418</td>\n",
       "      <td>SURFACTI0000000246200139</td>\n",
       "      <td>Science et enseignement</td>\n",
       "      <td>Enseignement primaire</td>\n",
       "      <td>École Élémentaire Louis Antoine Saint-Just</td>\n",
       "      <td>0931478B</td>\n",
       "    </tr>\n",
       "    <tr>\n",
       "      <th>238</th>\n",
       "      <td>BATIMENT0000000243403396</td>\n",
       "      <td>False</td>\n",
       "      <td>6.8</td>\n",
       "      <td>MULTIPOLYGON Z (((2.36022 48.90797 43.8, 2.359...</td>\n",
       "      <td>418</td>\n",
       "      <td>SURFACTI0000000246200139</td>\n",
       "      <td>Science et enseignement</td>\n",
       "      <td>Enseignement primaire</td>\n",
       "      <td>École Élémentaire Louis Antoine Saint-Just</td>\n",
       "      <td>0931478B</td>\n",
       "    </tr>\n",
       "    <tr>\n",
       "      <th>245</th>\n",
       "      <td>BATIMENT0000000243403399</td>\n",
       "      <td>True</td>\n",
       "      <td>NaN</td>\n",
       "      <td>MULTIPOLYGON Z (((2.36046 48.90831 -1000, 2.36...</td>\n",
       "      <td>418</td>\n",
       "      <td>SURFACTI0000000246200139</td>\n",
       "      <td>Science et enseignement</td>\n",
       "      <td>Enseignement primaire</td>\n",
       "      <td>École Élémentaire Louis Antoine Saint-Just</td>\n",
       "      <td>0931478B</td>\n",
       "    </tr>\n",
       "    <tr>\n",
       "      <th>253</th>\n",
       "      <td>BATIMENT0000000243403625</td>\n",
       "      <td>False</td>\n",
       "      <td>NaN</td>\n",
       "      <td>MULTIPOLYGON Z (((2.36118 48.908 -1000, 2.3612...</td>\n",
       "      <td>418</td>\n",
       "      <td>SURFACTI0000000246200139</td>\n",
       "      <td>Science et enseignement</td>\n",
       "      <td>Enseignement primaire</td>\n",
       "      <td>École Élémentaire Louis Antoine Saint-Just</td>\n",
       "      <td>0931478B</td>\n",
       "    </tr>\n",
       "  </tbody>\n",
       "</table>\n",
       "</div>"
      ],
      "text/plain": [
       "                   cleabs_bat  construction_legere  hauteur  \\\n",
       "4    BATIMENT0000000229474428                False     24.7   \n",
       "237  BATIMENT0000000243403398                False      7.2   \n",
       "238  BATIMENT0000000243403396                False      6.8   \n",
       "245  BATIMENT0000000243403399                 True      NaN   \n",
       "253  BATIMENT0000000243403625                False      NaN   \n",
       "\n",
       "                                              geometry  index_zone  \\\n",
       "4    MULTIPOLYGON Z (((2.3241 48.90492 44.5, 2.3240...         409   \n",
       "237  MULTIPOLYGON Z (((2.36008 48.9081 44.2, 2.3601...         418   \n",
       "238  MULTIPOLYGON Z (((2.36022 48.90797 43.8, 2.359...         418   \n",
       "245  MULTIPOLYGON Z (((2.36046 48.90831 -1000, 2.36...         418   \n",
       "253  MULTIPOLYGON Z (((2.36118 48.908 -1000, 2.3612...         418   \n",
       "\n",
       "                  cleabs_zone                categorie                 nature  \\\n",
       "4    SURFACTI0000000002555886  Science et enseignement  Enseignement primaire   \n",
       "237  SURFACTI0000000246200139  Science et enseignement  Enseignement primaire   \n",
       "238  SURFACTI0000000246200139  Science et enseignement  Enseignement primaire   \n",
       "245  SURFACTI0000000246200139  Science et enseignement  Enseignement primaire   \n",
       "253  SURFACTI0000000246200139  Science et enseignement  Enseignement primaire   \n",
       "\n",
       "                                       toponyme identifiant_de_l_etablissement  \n",
       "4                  École Maternelle Victor Hugo                       0930409P  \n",
       "237  École Élémentaire Louis Antoine Saint-Just                       0931478B  \n",
       "238  École Élémentaire Louis Antoine Saint-Just                       0931478B  \n",
       "245  École Élémentaire Louis Antoine Saint-Just                       0931478B  \n",
       "253  École Élémentaire Louis Antoine Saint-Just                       0931478B  "
      ]
     },
     "execution_count": 16,
     "metadata": {},
     "output_type": "execute_result"
    }
   ],
   "source": [
    "schools_buildings.head()"
   ]
  },
  {
   "cell_type": "markdown",
   "id": "25094a9970938a7d",
   "metadata": {
    "papermill": {
     "duration": 0.00423,
     "end_time": "2025-03-05T22:29:45.520370",
     "exception": false,
     "start_time": "2025-03-05T22:29:45.516140",
     "status": "completed"
    },
    "tags": []
   },
   "source": [
    "# Calcul des attributs utiles pour le potentiel solaire"
   ]
  },
  {
   "cell_type": "code",
   "execution_count": null,
   "metadata": {},
   "outputs": [],
   "source": []
  },
  {
   "cell_type": "code",
   "execution_count": 17,
   "id": "c0cf2ab1980a4b17",
   "metadata": {
    "execution": {
     "iopub.execute_input": "2025-03-05T22:29:45.528433Z",
     "iopub.status.busy": "2025-03-05T22:29:45.528283Z",
     "iopub.status.idle": "2025-03-05T22:30:14.861476Z",
     "shell.execute_reply": "2025-03-05T22:30:14.860459Z"
    },
    "papermill": {
     "duration": 29.341365,
     "end_time": "2025-03-05T22:30:14.864901",
     "exception": false,
     "start_time": "2025-03-05T22:29:45.523536",
     "status": "completed"
    },
    "tags": []
   },
   "outputs": [
    {
     "name": "stderr",
     "output_type": "stream",
     "text": [
      "/Users/ASalles/dataforgood/13_potentiel_solaire/algorithme/potentiel_solaire/features/solar_potential.py:36: UserWarning: Geometry is in a geographic CRS. Results from 'centroid' are likely incorrect. Use 'GeoSeries.to_crs()' to re-project geometries to a projected CRS before this operation.\n",
      "\n",
      "  schools_buildings['lon'] = schools_buildings.centroid.map(lambda p: p.x)\n",
      "/Users/ASalles/dataforgood/13_potentiel_solaire/algorithme/potentiel_solaire/features/solar_potential.py:37: UserWarning: Geometry is in a geographic CRS. Results from 'centroid' are likely incorrect. Use 'GeoSeries.to_crs()' to re-project geometries to a projected CRS before this operation.\n",
      "\n",
      "  schools_buildings['lat'] = schools_buildings.centroid.map(lambda p: p.y)\n"
     ]
    },
    {
     "data": {
      "text/html": [
       "<div>\n",
       "<style scoped>\n",
       "    .dataframe tbody tr th:only-of-type {\n",
       "        vertical-align: middle;\n",
       "    }\n",
       "\n",
       "    .dataframe tbody tr th {\n",
       "        vertical-align: top;\n",
       "    }\n",
       "\n",
       "    .dataframe thead th {\n",
       "        text-align: right;\n",
       "    }\n",
       "</style>\n",
       "<table border=\"1\" class=\"dataframe\">\n",
       "  <thead>\n",
       "    <tr style=\"text-align: right;\">\n",
       "      <th></th>\n",
       "      <th>cleabs_bat</th>\n",
       "      <th>construction_legere</th>\n",
       "      <th>hauteur</th>\n",
       "      <th>geometry</th>\n",
       "      <th>index_zone</th>\n",
       "      <th>cleabs_zone</th>\n",
       "      <th>categorie</th>\n",
       "      <th>nature</th>\n",
       "      <th>toponyme</th>\n",
       "      <th>identifiant_de_l_etablissement</th>\n",
       "      <th>lon</th>\n",
       "      <th>lat</th>\n",
       "      <th>protection</th>\n",
       "      <th>surface_totale_au_sol</th>\n",
       "      <th>zone_pour_rayonnement_solaire</th>\n",
       "      <th>surface_utile</th>\n",
       "      <th>peakpower</th>\n",
       "      <th>url</th>\n",
       "      <th>productible</th>\n",
       "    </tr>\n",
       "  </thead>\n",
       "  <tbody>\n",
       "    <tr>\n",
       "      <th>4</th>\n",
       "      <td>BATIMENT0000000229474428</td>\n",
       "      <td>False</td>\n",
       "      <td>24.7</td>\n",
       "      <td>MULTIPOLYGON Z (((2.3241 48.90492 44.5, 2.3240...</td>\n",
       "      <td>409</td>\n",
       "      <td>SURFACTI0000000002555886</td>\n",
       "      <td>Science et enseignement</td>\n",
       "      <td>Enseignement primaire</td>\n",
       "      <td>École Maternelle Victor Hugo</td>\n",
       "      <td>0930409P</td>\n",
       "      <td>2.324039</td>\n",
       "      <td>48.904789</td>\n",
       "      <td>False</td>\n",
       "      <td>390.546688</td>\n",
       "      <td>POLYGON ((2.31409 48.92563, 2.31408 48.92565, ...</td>\n",
       "      <td>90.311475</td>\n",
       "      <td>20.320082</td>\n",
       "      <td>https://re.jrc.ec.europa.eu/api/v5_2/PVcalc?&amp;l...</td>\n",
       "      <td>22.39781</td>\n",
       "    </tr>\n",
       "    <tr>\n",
       "      <th>237</th>\n",
       "      <td>BATIMENT0000000243403398</td>\n",
       "      <td>False</td>\n",
       "      <td>7.2</td>\n",
       "      <td>MULTIPOLYGON Z (((2.36008 48.9081 44.2, 2.3601...</td>\n",
       "      <td>418</td>\n",
       "      <td>SURFACTI0000000246200139</td>\n",
       "      <td>Science et enseignement</td>\n",
       "      <td>Enseignement primaire</td>\n",
       "      <td>École Élémentaire Louis Antoine Saint-Just</td>\n",
       "      <td>0931478B</td>\n",
       "      <td>2.360569</td>\n",
       "      <td>48.908249</td>\n",
       "      <td>True</td>\n",
       "      <td>2169.036390</td>\n",
       "      <td>POLYGON ((2.35849 48.88451, 2.35819 48.88453, ...</td>\n",
       "      <td>1301.421834</td>\n",
       "      <td>292.819913</td>\n",
       "      <td>https://re.jrc.ec.europa.eu/api/v5_2/PVcalc?&amp;l...</td>\n",
       "      <td>320.43220</td>\n",
       "    </tr>\n",
       "    <tr>\n",
       "      <th>238</th>\n",
       "      <td>BATIMENT0000000243403396</td>\n",
       "      <td>False</td>\n",
       "      <td>6.8</td>\n",
       "      <td>MULTIPOLYGON Z (((2.36022 48.90797 43.8, 2.359...</td>\n",
       "      <td>418</td>\n",
       "      <td>SURFACTI0000000246200139</td>\n",
       "      <td>Science et enseignement</td>\n",
       "      <td>Enseignement primaire</td>\n",
       "      <td>École Élémentaire Louis Antoine Saint-Just</td>\n",
       "      <td>0931478B</td>\n",
       "      <td>2.360053</td>\n",
       "      <td>48.908029</td>\n",
       "      <td>True</td>\n",
       "      <td>312.978909</td>\n",
       "      <td>POLYGON ((2.35737 48.93155, 2.35763 48.9316, 2...</td>\n",
       "      <td>70.432246</td>\n",
       "      <td>15.847255</td>\n",
       "      <td>https://re.jrc.ec.europa.eu/api/v5_2/PVcalc?&amp;l...</td>\n",
       "      <td>17.34157</td>\n",
       "    </tr>\n",
       "    <tr>\n",
       "      <th>245</th>\n",
       "      <td>BATIMENT0000000243403399</td>\n",
       "      <td>True</td>\n",
       "      <td>NaN</td>\n",
       "      <td>MULTIPOLYGON Z (((2.36046 48.90831 -1000, 2.36...</td>\n",
       "      <td>418</td>\n",
       "      <td>SURFACTI0000000246200139</td>\n",
       "      <td>Science et enseignement</td>\n",
       "      <td>Enseignement primaire</td>\n",
       "      <td>École Élémentaire Louis Antoine Saint-Just</td>\n",
       "      <td>0931478B</td>\n",
       "      <td>2.360468</td>\n",
       "      <td>48.908307</td>\n",
       "      <td>False</td>\n",
       "      <td>0.990138</td>\n",
       "      <td>POLYGON ((2.36037 48.93199, 2.36038 48.93199, ...</td>\n",
       "      <td>0.000000</td>\n",
       "      <td>0.000000</td>\n",
       "      <td>None</td>\n",
       "      <td>0.00000</td>\n",
       "    </tr>\n",
       "    <tr>\n",
       "      <th>253</th>\n",
       "      <td>BATIMENT0000000243403625</td>\n",
       "      <td>False</td>\n",
       "      <td>NaN</td>\n",
       "      <td>MULTIPOLYGON Z (((2.36118 48.908 -1000, 2.3612...</td>\n",
       "      <td>418</td>\n",
       "      <td>SURFACTI0000000246200139</td>\n",
       "      <td>Science et enseignement</td>\n",
       "      <td>Enseignement primaire</td>\n",
       "      <td>École Élémentaire Louis Antoine Saint-Just</td>\n",
       "      <td>0931478B</td>\n",
       "      <td>2.361212</td>\n",
       "      <td>48.908000</td>\n",
       "      <td>False</td>\n",
       "      <td>6.420895</td>\n",
       "      <td>POLYGON ((2.34099 48.91337, 2.341 48.91338, 2....</td>\n",
       "      <td>0.000000</td>\n",
       "      <td>0.000000</td>\n",
       "      <td>None</td>\n",
       "      <td>0.00000</td>\n",
       "    </tr>\n",
       "    <tr>\n",
       "      <th>...</th>\n",
       "      <td>...</td>\n",
       "      <td>...</td>\n",
       "      <td>...</td>\n",
       "      <td>...</td>\n",
       "      <td>...</td>\n",
       "      <td>...</td>\n",
       "      <td>...</td>\n",
       "      <td>...</td>\n",
       "      <td>...</td>\n",
       "      <td>...</td>\n",
       "      <td>...</td>\n",
       "      <td>...</td>\n",
       "      <td>...</td>\n",
       "      <td>...</td>\n",
       "      <td>...</td>\n",
       "      <td>...</td>\n",
       "      <td>...</td>\n",
       "      <td>...</td>\n",
       "      <td>...</td>\n",
       "    </tr>\n",
       "    <tr>\n",
       "      <th>348076</th>\n",
       "      <td>BATIMENT0000000246439599</td>\n",
       "      <td>True</td>\n",
       "      <td>NaN</td>\n",
       "      <td>MULTIPOLYGON Z (((2.58408 48.94175 -1000, 2.58...</td>\n",
       "      <td>306</td>\n",
       "      <td>SURFACTI0000000002555563</td>\n",
       "      <td>Science et enseignement</td>\n",
       "      <td>Collège</td>\n",
       "      <td>Collège Romain Rolland</td>\n",
       "      <td>0931191P</td>\n",
       "      <td>2.584090</td>\n",
       "      <td>48.941770</td>\n",
       "      <td>False</td>\n",
       "      <td>7.330652</td>\n",
       "      <td>POLYGON ((2.56534 48.93164, 2.56533 48.93167, ...</td>\n",
       "      <td>0.000000</td>\n",
       "      <td>0.000000</td>\n",
       "      <td>None</td>\n",
       "      <td>0.00000</td>\n",
       "    </tr>\n",
       "    <tr>\n",
       "      <th>348077</th>\n",
       "      <td>BATIMENT0000000246439600</td>\n",
       "      <td>True</td>\n",
       "      <td>NaN</td>\n",
       "      <td>MULTIPOLYGON Z (((2.58405 48.9419 -1000, 2.584...</td>\n",
       "      <td>306</td>\n",
       "      <td>SURFACTI0000000002555563</td>\n",
       "      <td>Science et enseignement</td>\n",
       "      <td>Collège</td>\n",
       "      <td>Collège Romain Rolland</td>\n",
       "      <td>0931191P</td>\n",
       "      <td>2.584104</td>\n",
       "      <td>48.941834</td>\n",
       "      <td>False</td>\n",
       "      <td>46.494143</td>\n",
       "      <td>POLYGON ((2.56572 48.93085, 2.56488 48.9329, 2...</td>\n",
       "      <td>0.000000</td>\n",
       "      <td>0.000000</td>\n",
       "      <td>None</td>\n",
       "      <td>0.00000</td>\n",
       "    </tr>\n",
       "    <tr>\n",
       "      <th>348090</th>\n",
       "      <td>BATIMENT0000000246440832</td>\n",
       "      <td>False</td>\n",
       "      <td>NaN</td>\n",
       "      <td>MULTIPOLYGON Z (((2.58372 48.94178 -1000, 2.58...</td>\n",
       "      <td>306</td>\n",
       "      <td>SURFACTI0000000002555563</td>\n",
       "      <td>Science et enseignement</td>\n",
       "      <td>Collège</td>\n",
       "      <td>Collège Romain Rolland</td>\n",
       "      <td>0931191P</td>\n",
       "      <td>2.583765</td>\n",
       "      <td>48.941744</td>\n",
       "      <td>False</td>\n",
       "      <td>37.523334</td>\n",
       "      <td>POLYGON ((2.57996 48.96508, 2.58001 48.96509, ...</td>\n",
       "      <td>0.000000</td>\n",
       "      <td>0.000000</td>\n",
       "      <td>None</td>\n",
       "      <td>0.00000</td>\n",
       "    </tr>\n",
       "    <tr>\n",
       "      <th>348100</th>\n",
       "      <td>BATIMENT0000002244515389</td>\n",
       "      <td>False</td>\n",
       "      <td>NaN</td>\n",
       "      <td>MULTIPOLYGON Z (((2.58291 48.94149 -1000, 2.58...</td>\n",
       "      <td>306</td>\n",
       "      <td>SURFACTI0000000002555563</td>\n",
       "      <td>Science et enseignement</td>\n",
       "      <td>Collège</td>\n",
       "      <td>Collège Romain Rolland</td>\n",
       "      <td>0931191P</td>\n",
       "      <td>2.583871</td>\n",
       "      <td>48.941507</td>\n",
       "      <td>False</td>\n",
       "      <td>2097.830515</td>\n",
       "      <td>POLYGON ((2.56302 48.93493, 2.56286 48.93549, ...</td>\n",
       "      <td>1258.698309</td>\n",
       "      <td>283.207120</td>\n",
       "      <td>https://re.jrc.ec.europa.eu/api/v5_2/PVcalc?&amp;l...</td>\n",
       "      <td>308.00684</td>\n",
       "    </tr>\n",
       "    <tr>\n",
       "      <th>348181</th>\n",
       "      <td>BATIMENT0000002323651818</td>\n",
       "      <td>False</td>\n",
       "      <td>5.0</td>\n",
       "      <td>MULTIPOLYGON Z (((2.58499 48.94196 69, 2.58477...</td>\n",
       "      <td>306</td>\n",
       "      <td>SURFACTI0000000002555563</td>\n",
       "      <td>Science et enseignement</td>\n",
       "      <td>Collège</td>\n",
       "      <td>Collège Romain Rolland</td>\n",
       "      <td>0931191P</td>\n",
       "      <td>2.584821</td>\n",
       "      <td>48.941905</td>\n",
       "      <td>False</td>\n",
       "      <td>371.288028</td>\n",
       "      <td>POLYGON ((2.60203 48.92849, 2.60192 48.92831, ...</td>\n",
       "      <td>85.285990</td>\n",
       "      <td>19.189348</td>\n",
       "      <td>https://re.jrc.ec.europa.eu/api/v5_2/PVcalc?&amp;l...</td>\n",
       "      <td>20.86981</td>\n",
       "    </tr>\n",
       "  </tbody>\n",
       "</table>\n",
       "<p>3731 rows × 19 columns</p>\n",
       "</div>"
      ],
      "text/plain": [
       "                      cleabs_bat  construction_legere  hauteur  \\\n",
       "4       BATIMENT0000000229474428                False     24.7   \n",
       "237     BATIMENT0000000243403398                False      7.2   \n",
       "238     BATIMENT0000000243403396                False      6.8   \n",
       "245     BATIMENT0000000243403399                 True      NaN   \n",
       "253     BATIMENT0000000243403625                False      NaN   \n",
       "...                          ...                  ...      ...   \n",
       "348076  BATIMENT0000000246439599                 True      NaN   \n",
       "348077  BATIMENT0000000246439600                 True      NaN   \n",
       "348090  BATIMENT0000000246440832                False      NaN   \n",
       "348100  BATIMENT0000002244515389                False      NaN   \n",
       "348181  BATIMENT0000002323651818                False      5.0   \n",
       "\n",
       "                                                 geometry  index_zone  \\\n",
       "4       MULTIPOLYGON Z (((2.3241 48.90492 44.5, 2.3240...         409   \n",
       "237     MULTIPOLYGON Z (((2.36008 48.9081 44.2, 2.3601...         418   \n",
       "238     MULTIPOLYGON Z (((2.36022 48.90797 43.8, 2.359...         418   \n",
       "245     MULTIPOLYGON Z (((2.36046 48.90831 -1000, 2.36...         418   \n",
       "253     MULTIPOLYGON Z (((2.36118 48.908 -1000, 2.3612...         418   \n",
       "...                                                   ...         ...   \n",
       "348076  MULTIPOLYGON Z (((2.58408 48.94175 -1000, 2.58...         306   \n",
       "348077  MULTIPOLYGON Z (((2.58405 48.9419 -1000, 2.584...         306   \n",
       "348090  MULTIPOLYGON Z (((2.58372 48.94178 -1000, 2.58...         306   \n",
       "348100  MULTIPOLYGON Z (((2.58291 48.94149 -1000, 2.58...         306   \n",
       "348181  MULTIPOLYGON Z (((2.58499 48.94196 69, 2.58477...         306   \n",
       "\n",
       "                     cleabs_zone                categorie  \\\n",
       "4       SURFACTI0000000002555886  Science et enseignement   \n",
       "237     SURFACTI0000000246200139  Science et enseignement   \n",
       "238     SURFACTI0000000246200139  Science et enseignement   \n",
       "245     SURFACTI0000000246200139  Science et enseignement   \n",
       "253     SURFACTI0000000246200139  Science et enseignement   \n",
       "...                          ...                      ...   \n",
       "348076  SURFACTI0000000002555563  Science et enseignement   \n",
       "348077  SURFACTI0000000002555563  Science et enseignement   \n",
       "348090  SURFACTI0000000002555563  Science et enseignement   \n",
       "348100  SURFACTI0000000002555563  Science et enseignement   \n",
       "348181  SURFACTI0000000002555563  Science et enseignement   \n",
       "\n",
       "                       nature                                    toponyme  \\\n",
       "4       Enseignement primaire                École Maternelle Victor Hugo   \n",
       "237     Enseignement primaire  École Élémentaire Louis Antoine Saint-Just   \n",
       "238     Enseignement primaire  École Élémentaire Louis Antoine Saint-Just   \n",
       "245     Enseignement primaire  École Élémentaire Louis Antoine Saint-Just   \n",
       "253     Enseignement primaire  École Élémentaire Louis Antoine Saint-Just   \n",
       "...                       ...                                         ...   \n",
       "348076                Collège                      Collège Romain Rolland   \n",
       "348077                Collège                      Collège Romain Rolland   \n",
       "348090                Collège                      Collège Romain Rolland   \n",
       "348100                Collège                      Collège Romain Rolland   \n",
       "348181                Collège                      Collège Romain Rolland   \n",
       "\n",
       "       identifiant_de_l_etablissement       lon        lat  protection  \\\n",
       "4                            0930409P  2.324039  48.904789       False   \n",
       "237                          0931478B  2.360569  48.908249        True   \n",
       "238                          0931478B  2.360053  48.908029        True   \n",
       "245                          0931478B  2.360468  48.908307       False   \n",
       "253                          0931478B  2.361212  48.908000       False   \n",
       "...                               ...       ...        ...         ...   \n",
       "348076                       0931191P  2.584090  48.941770       False   \n",
       "348077                       0931191P  2.584104  48.941834       False   \n",
       "348090                       0931191P  2.583765  48.941744       False   \n",
       "348100                       0931191P  2.583871  48.941507       False   \n",
       "348181                       0931191P  2.584821  48.941905       False   \n",
       "\n",
       "        surface_totale_au_sol  \\\n",
       "4                  390.546688   \n",
       "237               2169.036390   \n",
       "238                312.978909   \n",
       "245                  0.990138   \n",
       "253                  6.420895   \n",
       "...                       ...   \n",
       "348076               7.330652   \n",
       "348077              46.494143   \n",
       "348090              37.523334   \n",
       "348100            2097.830515   \n",
       "348181             371.288028   \n",
       "\n",
       "                            zone_pour_rayonnement_solaire  surface_utile  \\\n",
       "4       POLYGON ((2.31409 48.92563, 2.31408 48.92565, ...      90.311475   \n",
       "237     POLYGON ((2.35849 48.88451, 2.35819 48.88453, ...    1301.421834   \n",
       "238     POLYGON ((2.35737 48.93155, 2.35763 48.9316, 2...      70.432246   \n",
       "245     POLYGON ((2.36037 48.93199, 2.36038 48.93199, ...       0.000000   \n",
       "253     POLYGON ((2.34099 48.91337, 2.341 48.91338, 2....       0.000000   \n",
       "...                                                   ...            ...   \n",
       "348076  POLYGON ((2.56534 48.93164, 2.56533 48.93167, ...       0.000000   \n",
       "348077  POLYGON ((2.56572 48.93085, 2.56488 48.9329, 2...       0.000000   \n",
       "348090  POLYGON ((2.57996 48.96508, 2.58001 48.96509, ...       0.000000   \n",
       "348100  POLYGON ((2.56302 48.93493, 2.56286 48.93549, ...    1258.698309   \n",
       "348181  POLYGON ((2.60203 48.92849, 2.60192 48.92831, ...      85.285990   \n",
       "\n",
       "         peakpower                                                url  \\\n",
       "4        20.320082  https://re.jrc.ec.europa.eu/api/v5_2/PVcalc?&l...   \n",
       "237     292.819913  https://re.jrc.ec.europa.eu/api/v5_2/PVcalc?&l...   \n",
       "238      15.847255  https://re.jrc.ec.europa.eu/api/v5_2/PVcalc?&l...   \n",
       "245       0.000000                                               None   \n",
       "253       0.000000                                               None   \n",
       "...            ...                                                ...   \n",
       "348076    0.000000                                               None   \n",
       "348077    0.000000                                               None   \n",
       "348090    0.000000                                               None   \n",
       "348100  283.207120  https://re.jrc.ec.europa.eu/api/v5_2/PVcalc?&l...   \n",
       "348181   19.189348  https://re.jrc.ec.europa.eu/api/v5_2/PVcalc?&l...   \n",
       "\n",
       "        productible  \n",
       "4          22.39781  \n",
       "237       320.43220  \n",
       "238        17.34157  \n",
       "245         0.00000  \n",
       "253         0.00000  \n",
       "...             ...  \n",
       "348076      0.00000  \n",
       "348077      0.00000  \n",
       "348090      0.00000  \n",
       "348100    308.00684  \n",
       "348181     20.86981  \n",
       "\n",
       "[3731 rows x 19 columns]"
      ]
     },
     "execution_count": 17,
     "metadata": {},
     "output_type": "execute_result"
    }
   ],
   "source": [
    "# TODO: v0 seulement à ce stade\n",
    "solar_potential_of_schools_buildings = calculate_solar_potential(\n",
    "    schools_buildings=schools_buildings,\n",
    "    bd_irradiation_path=bd_irradiation_path,\n",
    "    areas_with_protected_buildings=areas_with_protected_buildings\n",
    ")\n",
    "\n",
    "solar_potential_of_schools_buildings"
   ]
  },
  {
   "cell_type": "markdown",
   "id": "122f28cb4df0c233",
   "metadata": {
    "papermill": {
     "duration": 0.003978,
     "end_time": "2025-03-05T22:30:14.874330",
     "exception": false,
     "start_time": "2025-03-05T22:30:14.870352",
     "status": "completed"
    },
    "tags": []
   },
   "source": [
    "# Dump des donnees pour analyses"
   ]
  },
  {
   "cell_type": "code",
   "execution_count": null,
   "id": "ec6bfaba919117a6",
   "metadata": {
    "execution": {
     "iopub.execute_input": "2025-03-05T22:30:14.890577Z",
     "iopub.status.busy": "2025-03-05T22:30:14.889641Z",
     "iopub.status.idle": "2025-03-05T22:30:15.226579Z",
     "shell.execute_reply": "2025-03-05T22:30:15.225848Z"
    },
    "papermill": {
     "duration": 0.347563,
     "end_time": "2025-03-05T22:30:15.228531",
     "exception": false,
     "start_time": "2025-03-05T22:30:14.880968",
     "status": "completed"
    },
    "tags": []
   },
   "outputs": [],
   "source": [
    "# TODO: Finir la pipeline à partir d'ici.\n",
    "solar_potential_of_schools_buildings[\"zone_pour_rayonnement_solaire\"] = solar_potential_of_schools_buildings[\"zone_pour_rayonnement_solaire\"].to_wkt()\n",
    "\n",
    "layers = [\"schools_establishments\", \"educational_zones\", \"schools_buildings\", \"solar_potential_of_schools_buildings\"]\n",
    "gdfs = [schools_establishments, educational_zones, schools_buildings, solar_potential_of_schools_buildings]\n",
    "\n",
    "for layer, gdf in zip(layers, gdfs):\n",
    "    output_gpkg = DATA_FOLDER / f\"{code_departement}_pipeline_results.gpkg\"\n",
    "    gdf.to_file(output_gpkg, layer=layer, driver=\"GPKG\")"
   ]
  },
  {
   "cell_type": "markdown",
   "id": "363dff224bfb7766",
   "metadata": {
    "papermill": {
     "duration": 0.004861,
     "end_time": "2025-03-05T22:30:15.237930",
     "exception": false,
     "start_time": "2025-03-05T22:30:15.233069",
     "status": "completed"
    },
    "tags": []
   },
   "source": [
    "# Checks sur la qualité des données & calculs"
   ]
  },
  {
   "cell_type": "code",
   "execution_count": 23,
   "id": "46d41149e1faf14f",
   "metadata": {
    "execution": {
     "iopub.execute_input": "2025-03-05T22:30:15.248361Z",
     "iopub.status.busy": "2025-03-05T22:30:15.247725Z",
     "iopub.status.idle": "2025-03-05T22:30:15.262238Z",
     "shell.execute_reply": "2025-03-05T22:30:15.261642Z"
    },
    "papermill": {
     "duration": 0.022463,
     "end_time": "2025-03-05T22:30:15.264178",
     "exception": false,
     "start_time": "2025-03-05T22:30:15.241715",
     "status": "completed"
    },
    "tags": []
   },
   "outputs": [
    {
     "name": "stdout",
     "output_type": "stream",
     "text": [
      "Nb d'établissements scolaires avec des batiments: 445 (39%)\n"
     ]
    }
   ],
   "source": [
    "nb_schools_with_buildings = len(schools_buildings.identifiant_de_l_etablissement.unique())\n",
    "print(\"Nb d'établissements scolaires avec des batiments: {} ({}%)\".format(\n",
    "    nb_schools_with_buildings,\n",
    "    round(100 * nb_schools_with_buildings / nb_schools)\n",
    "))"
   ]
  },
  {
   "cell_type": "code",
   "execution_count": 24,
   "id": "3ba0c93b8e8c53da",
   "metadata": {
    "execution": {
     "iopub.execute_input": "2025-03-05T22:30:15.272628Z",
     "iopub.status.busy": "2025-03-05T22:30:15.272478Z",
     "iopub.status.idle": "2025-03-05T22:30:15.284845Z",
     "shell.execute_reply": "2025-03-05T22:30:15.284198Z"
    },
    "papermill": {
     "duration": 0.017609,
     "end_time": "2025-03-05T22:30:15.286138",
     "exception": false,
     "start_time": "2025-03-05T22:30:15.268529",
     "status": "completed"
    },
    "tags": []
   },
   "outputs": [
    {
     "name": "stdout",
     "output_type": "stream",
     "text": [
      "Nb de batiments protégés 1093 (29.30%)\n"
     ]
    }
   ],
   "source": [
    "nb_buildings_protected = solar_potential_of_schools_buildings[solar_potential_of_schools_buildings.protection].shape[0]\n",
    "print(f\"Nb de batiments protégés {nb_buildings_protected} ({100*nb_buildings_protected/nb_schools_buildings:.2f}%)\")"
   ]
  },
  {
   "cell_type": "markdown",
   "id": "9b78aec5982e6099",
   "metadata": {
    "papermill": {
     "duration": 0.004011,
     "end_time": "2025-03-05T22:30:15.294040",
     "exception": false,
     "start_time": "2025-03-05T22:30:15.290029",
     "status": "completed"
    },
    "tags": []
   },
   "source": [
    "# Aggrégations"
   ]
  },
  {
   "cell_type": "markdown",
   "id": "c031864081bf3adb",
   "metadata": {
    "papermill": {
     "duration": 0.003514,
     "end_time": "2025-03-05T22:30:15.302326",
     "exception": false,
     "start_time": "2025-03-05T22:30:15.298812",
     "status": "completed"
    },
    "tags": []
   },
   "source": [
    "### Par établissement scolaire"
   ]
  },
  {
   "cell_type": "code",
   "execution_count": 21,
   "id": "c469e5829a888e0a",
   "metadata": {
    "execution": {
     "iopub.execute_input": "2025-03-05T22:30:15.309772Z",
     "iopub.status.busy": "2025-03-05T22:30:15.309455Z",
     "iopub.status.idle": "2025-03-05T22:30:15.366693Z",
     "shell.execute_reply": "2025-03-05T22:30:15.366245Z"
    },
    "papermill": {
     "duration": 0.062649,
     "end_time": "2025-03-05T22:30:15.368073",
     "exception": false,
     "start_time": "2025-03-05T22:30:15.305424",
     "status": "completed"
    },
    "tags": []
   },
   "outputs": [
    {
     "ename": "KeyError",
     "evalue": "\"Column(s) ['potentiel_solaire', 'rayonnement_solaire'] do not exist\"",
     "output_type": "error",
     "traceback": [
      "\u001b[0;31m---------------------------------------------------------------------------\u001b[0m",
      "\u001b[0;31mKeyError\u001b[0m                                  Traceback (most recent call last)",
      "Cell \u001b[0;32mIn[21], line 1\u001b[0m\n\u001b[0;32m----> 1\u001b[0m results_by_school \u001b[38;5;241m=\u001b[39m \u001b[43maggregate_solar_potential_by\u001b[49m\u001b[43m(\u001b[49m\n\u001b[1;32m      2\u001b[0m \u001b[43m    \u001b[49m\u001b[43mschools_establishments\u001b[49m\u001b[38;5;241;43m=\u001b[39;49m\u001b[43mschools_establishments\u001b[49m\u001b[43m,\u001b[49m\n\u001b[1;32m      3\u001b[0m \u001b[43m    \u001b[49m\u001b[43msolar_potential_of_schools_buildings\u001b[49m\u001b[38;5;241;43m=\u001b[39;49m\u001b[43msolar_potential_of_schools_buildings\u001b[49m\u001b[43m,\u001b[49m\n\u001b[1;32m      4\u001b[0m \u001b[43m    \u001b[49m\u001b[43mgroup_by\u001b[49m\u001b[43m \u001b[49m\u001b[38;5;241;43m=\u001b[39;49m\u001b[43m \u001b[49m\u001b[43m[\u001b[49m\n\u001b[1;32m      5\u001b[0m \u001b[43m        \u001b[49m\u001b[38;5;124;43m\"\u001b[39;49m\u001b[38;5;124;43midentifiant_de_l_etablissement\u001b[39;49m\u001b[38;5;124;43m\"\u001b[39;49m\u001b[43m,\u001b[49m\n\u001b[1;32m      6\u001b[0m \u001b[43m        \u001b[49m\u001b[38;5;124;43m\"\u001b[39;49m\u001b[38;5;124;43mnom_etablissement\u001b[39;49m\u001b[38;5;124;43m\"\u001b[39;49m\u001b[43m,\u001b[49m\n\u001b[1;32m      7\u001b[0m \u001b[43m        \u001b[49m\u001b[38;5;124;43m\"\u001b[39;49m\u001b[38;5;124;43mtype_etablissement\u001b[39;49m\u001b[38;5;124;43m\"\u001b[39;49m\u001b[43m,\u001b[49m\n\u001b[1;32m      8\u001b[0m \u001b[43m        \u001b[49m\u001b[38;5;124;43m\"\u001b[39;49m\u001b[38;5;124;43mlibelle_nature\u001b[39;49m\u001b[38;5;124;43m\"\u001b[39;49m\u001b[43m,\u001b[49m\n\u001b[1;32m      9\u001b[0m \u001b[43m        \u001b[49m\u001b[38;5;124;43m\"\u001b[39;49m\u001b[38;5;124;43mcode_commune\u001b[39;49m\u001b[38;5;124;43m\"\u001b[39;49m\u001b[43m,\u001b[49m\n\u001b[1;32m     10\u001b[0m \u001b[43m        \u001b[49m\u001b[38;5;124;43m\"\u001b[39;49m\u001b[38;5;124;43mnom_commune\u001b[39;49m\u001b[38;5;124;43m\"\u001b[39;49m\u001b[43m,\u001b[49m\n\u001b[1;32m     11\u001b[0m \u001b[43m        \u001b[49m\u001b[38;5;124;43m\"\u001b[39;49m\u001b[38;5;124;43mcode_departement\u001b[39;49m\u001b[38;5;124;43m\"\u001b[39;49m\u001b[43m,\u001b[49m\n\u001b[1;32m     12\u001b[0m \u001b[43m        \u001b[49m\u001b[38;5;124;43m\"\u001b[39;49m\u001b[38;5;124;43mlibelle_departement\u001b[39;49m\u001b[38;5;124;43m\"\u001b[39;49m\u001b[43m,\u001b[49m\n\u001b[1;32m     13\u001b[0m \u001b[43m        \u001b[49m\u001b[38;5;124;43m\"\u001b[39;49m\u001b[38;5;124;43mcode_region\u001b[39;49m\u001b[38;5;124;43m\"\u001b[39;49m\u001b[43m,\u001b[49m\n\u001b[1;32m     14\u001b[0m \u001b[43m        \u001b[49m\u001b[38;5;124;43m\"\u001b[39;49m\u001b[38;5;124;43mlibelle_region\u001b[39;49m\u001b[38;5;124;43m\"\u001b[39;49m\u001b[43m,\u001b[49m\n\u001b[1;32m     15\u001b[0m \u001b[43m    \u001b[49m\u001b[43m]\u001b[49m\n\u001b[1;32m     16\u001b[0m \u001b[43m)\u001b[49m\n",
      "File \u001b[0;32m~/dataforgood/13_potentiel_solaire/algorithme/potentiel_solaire/aggregate.py:27\u001b[0m, in \u001b[0;36maggregate_solar_potential_by\u001b[0;34m(schools_establishments, solar_potential_of_schools_buildings, group_by)\u001b[0m\n\u001b[1;32m     19\u001b[0m \u001b[38;5;66;03m# TODO : les aggregations sont tres problablement a revoir / modifier\u001b[39;00m\n\u001b[1;32m     21\u001b[0m solar_potential_of_schools_buildings \u001b[38;5;241m=\u001b[39m schools_establishments\u001b[38;5;241m.\u001b[39mmerge(\n\u001b[1;32m     22\u001b[0m     solar_potential_of_schools_buildings,\n\u001b[1;32m     23\u001b[0m     how\u001b[38;5;241m=\u001b[39m\u001b[38;5;124m\"\u001b[39m\u001b[38;5;124mleft\u001b[39m\u001b[38;5;124m\"\u001b[39m,\n\u001b[1;32m     24\u001b[0m     on\u001b[38;5;241m=\u001b[39m\u001b[38;5;124m\"\u001b[39m\u001b[38;5;124midentifiant_de_l_etablissement\u001b[39m\u001b[38;5;124m\"\u001b[39m\n\u001b[1;32m     25\u001b[0m )\u001b[38;5;241m.\u001b[39mcopy()\n\u001b[0;32m---> 27\u001b[0m aggregated \u001b[38;5;241m=\u001b[39m \u001b[43msolar_potential_of_schools_buildings\u001b[49m\u001b[38;5;241;43m.\u001b[39;49m\u001b[43mgroupby\u001b[49m\u001b[43m(\u001b[49m\u001b[43mby\u001b[49m\u001b[38;5;241;43m=\u001b[39;49m\u001b[43mgroup_by\u001b[49m\u001b[43m)\u001b[49m\u001b[38;5;241;43m.\u001b[39;49m\u001b[43magg\u001b[49m\u001b[43m(\u001b[49m\u001b[43m{\u001b[49m\n\u001b[1;32m     28\u001b[0m \u001b[43m    \u001b[49m\u001b[38;5;124;43m\"\u001b[39;49m\u001b[38;5;124;43msurface_utile\u001b[39;49m\u001b[38;5;124;43m\"\u001b[39;49m\u001b[43m:\u001b[49m\u001b[43m \u001b[49m\u001b[38;5;124;43m\"\u001b[39;49m\u001b[38;5;124;43msum\u001b[39;49m\u001b[38;5;124;43m\"\u001b[39;49m\u001b[43m,\u001b[49m\n\u001b[1;32m     29\u001b[0m \u001b[43m    \u001b[49m\u001b[38;5;124;43m\"\u001b[39;49m\u001b[38;5;124;43mrayonnement_solaire\u001b[39;49m\u001b[38;5;124;43m\"\u001b[39;49m\u001b[43m:\u001b[49m\u001b[43m \u001b[49m\u001b[38;5;124;43m\"\u001b[39;49m\u001b[38;5;124;43mmean\u001b[39;49m\u001b[38;5;124;43m\"\u001b[39;49m\u001b[43m,\u001b[49m\u001b[43m  \u001b[49m\u001b[38;5;66;43;03m# TODO : quelle aggregation pour commune, departement et region ?\u001b[39;49;00m\n\u001b[1;32m     30\u001b[0m \u001b[43m    \u001b[49m\u001b[38;5;124;43m\"\u001b[39;49m\u001b[38;5;124;43mpotentiel_solaire\u001b[39;49m\u001b[38;5;124;43m\"\u001b[39;49m\u001b[43m:\u001b[49m\u001b[43m \u001b[49m\u001b[38;5;124;43m\"\u001b[39;49m\u001b[38;5;124;43msum\u001b[39;49m\u001b[38;5;124;43m\"\u001b[39;49m\u001b[43m,\u001b[49m\n\u001b[1;32m     31\u001b[0m \u001b[43m    \u001b[49m\u001b[38;5;124;43m\"\u001b[39;49m\u001b[38;5;124;43mprotection\u001b[39;49m\u001b[38;5;124;43m\"\u001b[39;49m\u001b[43m:\u001b[49m\u001b[43m \u001b[49m\u001b[38;5;124;43m\"\u001b[39;49m\u001b[38;5;124;43many\u001b[39;49m\u001b[38;5;124;43m\"\u001b[39;49m\u001b[43m  \u001b[49m\u001b[38;5;66;43;03m# TODO : quelle aggregation pour commune, departement et region ?\u001b[39;49;00m\n\u001b[1;32m     32\u001b[0m \u001b[43m\u001b[49m\u001b[43m}\u001b[49m\u001b[43m)\u001b[49m\u001b[38;5;241m.\u001b[39mreset_index()\n\u001b[1;32m     34\u001b[0m aggregated[\u001b[38;5;124m\"\u001b[39m\u001b[38;5;124mpotentiel_solaire_categorie\u001b[39m\u001b[38;5;124m\"\u001b[39m] \u001b[38;5;241m=\u001b[39m aggregated\u001b[38;5;241m.\u001b[39mapply(\n\u001b[1;32m     35\u001b[0m     \u001b[38;5;28;01mlambda\u001b[39;00m building: random\u001b[38;5;241m.\u001b[39mchoice([\u001b[38;5;124m\"\u001b[39m\u001b[38;5;124mimportant\u001b[39m\u001b[38;5;124m\"\u001b[39m, \u001b[38;5;124m\"\u001b[39m\u001b[38;5;124mintermediaire\u001b[39m\u001b[38;5;124m\"\u001b[39m, \u001b[38;5;124m\"\u001b[39m\u001b[38;5;124mfaible\u001b[39m\u001b[38;5;124m\"\u001b[39m, \u001b[38;5;124m\"\u001b[39m\u001b[38;5;124mnon_favorable\u001b[39m\u001b[38;5;124m\"\u001b[39m]), axis\u001b[38;5;241m=\u001b[39m\u001b[38;5;241m1\u001b[39m\n\u001b[1;32m     36\u001b[0m )  \u001b[38;5;66;03m# TODO: pertinent uniquement a la maille dun etablissement ?\u001b[39;00m\n\u001b[1;32m     38\u001b[0m \u001b[38;5;28;01mreturn\u001b[39;00m schools_establishments\u001b[38;5;241m.\u001b[39mdissolve(by\u001b[38;5;241m=\u001b[39mgroup_by)\u001b[38;5;241m.\u001b[39mmerge(\n\u001b[1;32m     39\u001b[0m     aggregated,\n\u001b[1;32m     40\u001b[0m     on\u001b[38;5;241m=\u001b[39mgroup_by,\n\u001b[1;32m     41\u001b[0m     how\u001b[38;5;241m=\u001b[39m\u001b[38;5;124m\"\u001b[39m\u001b[38;5;124mleft\u001b[39m\u001b[38;5;124m\"\u001b[39m,\n\u001b[1;32m     42\u001b[0m )[[\u001b[38;5;241m*\u001b[39mgroup_by, \u001b[38;5;124m\"\u001b[39m\u001b[38;5;124msurface_utile\u001b[39m\u001b[38;5;124m\"\u001b[39m, \u001b[38;5;124m\"\u001b[39m\u001b[38;5;124mrayonnement_solaire\u001b[39m\u001b[38;5;124m\"\u001b[39m, \u001b[38;5;124m\"\u001b[39m\u001b[38;5;124mpotentiel_solaire\u001b[39m\u001b[38;5;124m\"\u001b[39m, \u001b[38;5;124m\"\u001b[39m\u001b[38;5;124mprotection\u001b[39m\u001b[38;5;124m\"\u001b[39m, \u001b[38;5;124m\"\u001b[39m\u001b[38;5;124mgeometry\u001b[39m\u001b[38;5;124m\"\u001b[39m]]\n",
      "File \u001b[0;32m~/dataforgood/13_potentiel_solaire/algorithme/.venv/lib/python3.13/site-packages/pandas/core/groupby/generic.py:1432\u001b[0m, in \u001b[0;36mDataFrameGroupBy.aggregate\u001b[0;34m(self, func, engine, engine_kwargs, *args, **kwargs)\u001b[0m\n\u001b[1;32m   1429\u001b[0m     kwargs[\u001b[38;5;124m\"\u001b[39m\u001b[38;5;124mengine_kwargs\u001b[39m\u001b[38;5;124m\"\u001b[39m] \u001b[38;5;241m=\u001b[39m engine_kwargs\n\u001b[1;32m   1431\u001b[0m op \u001b[38;5;241m=\u001b[39m GroupByApply(\u001b[38;5;28mself\u001b[39m, func, args\u001b[38;5;241m=\u001b[39margs, kwargs\u001b[38;5;241m=\u001b[39mkwargs)\n\u001b[0;32m-> 1432\u001b[0m result \u001b[38;5;241m=\u001b[39m \u001b[43mop\u001b[49m\u001b[38;5;241;43m.\u001b[39;49m\u001b[43magg\u001b[49m\u001b[43m(\u001b[49m\u001b[43m)\u001b[49m\n\u001b[1;32m   1433\u001b[0m \u001b[38;5;28;01mif\u001b[39;00m \u001b[38;5;129;01mnot\u001b[39;00m is_dict_like(func) \u001b[38;5;129;01mand\u001b[39;00m result \u001b[38;5;129;01mis\u001b[39;00m \u001b[38;5;129;01mnot\u001b[39;00m \u001b[38;5;28;01mNone\u001b[39;00m:\n\u001b[1;32m   1434\u001b[0m     \u001b[38;5;66;03m# GH #52849\u001b[39;00m\n\u001b[1;32m   1435\u001b[0m     \u001b[38;5;28;01mif\u001b[39;00m \u001b[38;5;129;01mnot\u001b[39;00m \u001b[38;5;28mself\u001b[39m\u001b[38;5;241m.\u001b[39mas_index \u001b[38;5;129;01mand\u001b[39;00m is_list_like(func):\n",
      "File \u001b[0;32m~/dataforgood/13_potentiel_solaire/algorithme/.venv/lib/python3.13/site-packages/pandas/core/apply.py:190\u001b[0m, in \u001b[0;36mApply.agg\u001b[0;34m(self)\u001b[0m\n\u001b[1;32m    187\u001b[0m     \u001b[38;5;28;01mreturn\u001b[39;00m \u001b[38;5;28mself\u001b[39m\u001b[38;5;241m.\u001b[39mapply_str()\n\u001b[1;32m    189\u001b[0m \u001b[38;5;28;01mif\u001b[39;00m is_dict_like(func):\n\u001b[0;32m--> 190\u001b[0m     \u001b[38;5;28;01mreturn\u001b[39;00m \u001b[38;5;28;43mself\u001b[39;49m\u001b[38;5;241;43m.\u001b[39;49m\u001b[43magg_dict_like\u001b[49m\u001b[43m(\u001b[49m\u001b[43m)\u001b[49m\n\u001b[1;32m    191\u001b[0m \u001b[38;5;28;01melif\u001b[39;00m is_list_like(func):\n\u001b[1;32m    192\u001b[0m     \u001b[38;5;66;03m# we require a list, but not a 'str'\u001b[39;00m\n\u001b[1;32m    193\u001b[0m     \u001b[38;5;28;01mreturn\u001b[39;00m \u001b[38;5;28mself\u001b[39m\u001b[38;5;241m.\u001b[39magg_list_like()\n",
      "File \u001b[0;32m~/dataforgood/13_potentiel_solaire/algorithme/.venv/lib/python3.13/site-packages/pandas/core/apply.py:423\u001b[0m, in \u001b[0;36mApply.agg_dict_like\u001b[0;34m(self)\u001b[0m\n\u001b[1;32m    415\u001b[0m \u001b[38;5;28;01mdef\u001b[39;00m\u001b[38;5;250m \u001b[39m\u001b[38;5;21magg_dict_like\u001b[39m(\u001b[38;5;28mself\u001b[39m) \u001b[38;5;241m-\u001b[39m\u001b[38;5;241m>\u001b[39m DataFrame \u001b[38;5;241m|\u001b[39m Series:\n\u001b[1;32m    416\u001b[0m \u001b[38;5;250m    \u001b[39m\u001b[38;5;124;03m\"\"\"\u001b[39;00m\n\u001b[1;32m    417\u001b[0m \u001b[38;5;124;03m    Compute aggregation in the case of a dict-like argument.\u001b[39;00m\n\u001b[1;32m    418\u001b[0m \n\u001b[0;32m   (...)\u001b[0m\n\u001b[1;32m    421\u001b[0m \u001b[38;5;124;03m    Result of aggregation.\u001b[39;00m\n\u001b[1;32m    422\u001b[0m \u001b[38;5;124;03m    \"\"\"\u001b[39;00m\n\u001b[0;32m--> 423\u001b[0m     \u001b[38;5;28;01mreturn\u001b[39;00m \u001b[38;5;28;43mself\u001b[39;49m\u001b[38;5;241;43m.\u001b[39;49m\u001b[43magg_or_apply_dict_like\u001b[49m\u001b[43m(\u001b[49m\u001b[43mop_name\u001b[49m\u001b[38;5;241;43m=\u001b[39;49m\u001b[38;5;124;43m\"\u001b[39;49m\u001b[38;5;124;43magg\u001b[39;49m\u001b[38;5;124;43m\"\u001b[39;49m\u001b[43m)\u001b[49m\n",
      "File \u001b[0;32m~/dataforgood/13_potentiel_solaire/algorithme/.venv/lib/python3.13/site-packages/pandas/core/apply.py:1608\u001b[0m, in \u001b[0;36mGroupByApply.agg_or_apply_dict_like\u001b[0;34m(self, op_name)\u001b[0m\n\u001b[1;32m   1603\u001b[0m     kwargs\u001b[38;5;241m.\u001b[39mupdate({\u001b[38;5;124m\"\u001b[39m\u001b[38;5;124mengine\u001b[39m\u001b[38;5;124m\"\u001b[39m: engine, \u001b[38;5;124m\"\u001b[39m\u001b[38;5;124mengine_kwargs\u001b[39m\u001b[38;5;124m\"\u001b[39m: engine_kwargs})\n\u001b[1;32m   1605\u001b[0m \u001b[38;5;28;01mwith\u001b[39;00m com\u001b[38;5;241m.\u001b[39mtemp_setattr(\n\u001b[1;32m   1606\u001b[0m     obj, \u001b[38;5;124m\"\u001b[39m\u001b[38;5;124mas_index\u001b[39m\u001b[38;5;124m\"\u001b[39m, \u001b[38;5;28;01mTrue\u001b[39;00m, condition\u001b[38;5;241m=\u001b[39m\u001b[38;5;28mhasattr\u001b[39m(obj, \u001b[38;5;124m\"\u001b[39m\u001b[38;5;124mas_index\u001b[39m\u001b[38;5;124m\"\u001b[39m)\n\u001b[1;32m   1607\u001b[0m ):\n\u001b[0;32m-> 1608\u001b[0m     result_index, result_data \u001b[38;5;241m=\u001b[39m \u001b[38;5;28;43mself\u001b[39;49m\u001b[38;5;241;43m.\u001b[39;49m\u001b[43mcompute_dict_like\u001b[49m\u001b[43m(\u001b[49m\n\u001b[1;32m   1609\u001b[0m \u001b[43m        \u001b[49m\u001b[43mop_name\u001b[49m\u001b[43m,\u001b[49m\u001b[43m \u001b[49m\u001b[43mselected_obj\u001b[49m\u001b[43m,\u001b[49m\u001b[43m \u001b[49m\u001b[43mselection\u001b[49m\u001b[43m,\u001b[49m\u001b[43m \u001b[49m\u001b[43mkwargs\u001b[49m\n\u001b[1;32m   1610\u001b[0m \u001b[43m    \u001b[49m\u001b[43m)\u001b[49m\n\u001b[1;32m   1611\u001b[0m result \u001b[38;5;241m=\u001b[39m \u001b[38;5;28mself\u001b[39m\u001b[38;5;241m.\u001b[39mwrap_results_dict_like(selected_obj, result_index, result_data)\n\u001b[1;32m   1612\u001b[0m \u001b[38;5;28;01mreturn\u001b[39;00m result\n",
      "File \u001b[0;32m~/dataforgood/13_potentiel_solaire/algorithme/.venv/lib/python3.13/site-packages/pandas/core/apply.py:462\u001b[0m, in \u001b[0;36mApply.compute_dict_like\u001b[0;34m(self, op_name, selected_obj, selection, kwargs)\u001b[0m\n\u001b[1;32m    460\u001b[0m is_groupby \u001b[38;5;241m=\u001b[39m \u001b[38;5;28misinstance\u001b[39m(obj, (DataFrameGroupBy, SeriesGroupBy))\n\u001b[1;32m    461\u001b[0m func \u001b[38;5;241m=\u001b[39m cast(AggFuncTypeDict, \u001b[38;5;28mself\u001b[39m\u001b[38;5;241m.\u001b[39mfunc)\n\u001b[0;32m--> 462\u001b[0m func \u001b[38;5;241m=\u001b[39m \u001b[38;5;28;43mself\u001b[39;49m\u001b[38;5;241;43m.\u001b[39;49m\u001b[43mnormalize_dictlike_arg\u001b[49m\u001b[43m(\u001b[49m\u001b[43mop_name\u001b[49m\u001b[43m,\u001b[49m\u001b[43m \u001b[49m\u001b[43mselected_obj\u001b[49m\u001b[43m,\u001b[49m\u001b[43m \u001b[49m\u001b[43mfunc\u001b[49m\u001b[43m)\u001b[49m\n\u001b[1;32m    464\u001b[0m is_non_unique_col \u001b[38;5;241m=\u001b[39m (\n\u001b[1;32m    465\u001b[0m     selected_obj\u001b[38;5;241m.\u001b[39mndim \u001b[38;5;241m==\u001b[39m \u001b[38;5;241m2\u001b[39m\n\u001b[1;32m    466\u001b[0m     \u001b[38;5;129;01mand\u001b[39;00m selected_obj\u001b[38;5;241m.\u001b[39mcolumns\u001b[38;5;241m.\u001b[39mnunique() \u001b[38;5;241m<\u001b[39m \u001b[38;5;28mlen\u001b[39m(selected_obj\u001b[38;5;241m.\u001b[39mcolumns)\n\u001b[1;32m    467\u001b[0m )\n\u001b[1;32m    469\u001b[0m \u001b[38;5;28;01mif\u001b[39;00m selected_obj\u001b[38;5;241m.\u001b[39mndim \u001b[38;5;241m==\u001b[39m \u001b[38;5;241m1\u001b[39m:\n\u001b[1;32m    470\u001b[0m     \u001b[38;5;66;03m# key only used for output\u001b[39;00m\n",
      "File \u001b[0;32m~/dataforgood/13_potentiel_solaire/algorithme/.venv/lib/python3.13/site-packages/pandas/core/apply.py:663\u001b[0m, in \u001b[0;36mApply.normalize_dictlike_arg\u001b[0;34m(self, how, obj, func)\u001b[0m\n\u001b[1;32m    661\u001b[0m     cols \u001b[38;5;241m=\u001b[39m Index(\u001b[38;5;28mlist\u001b[39m(func\u001b[38;5;241m.\u001b[39mkeys()))\u001b[38;5;241m.\u001b[39mdifference(obj\u001b[38;5;241m.\u001b[39mcolumns, sort\u001b[38;5;241m=\u001b[39m\u001b[38;5;28;01mTrue\u001b[39;00m)\n\u001b[1;32m    662\u001b[0m     \u001b[38;5;28;01mif\u001b[39;00m \u001b[38;5;28mlen\u001b[39m(cols) \u001b[38;5;241m>\u001b[39m \u001b[38;5;241m0\u001b[39m:\n\u001b[0;32m--> 663\u001b[0m         \u001b[38;5;28;01mraise\u001b[39;00m \u001b[38;5;167;01mKeyError\u001b[39;00m(\u001b[38;5;124mf\u001b[39m\u001b[38;5;124m\"\u001b[39m\u001b[38;5;124mColumn(s) \u001b[39m\u001b[38;5;132;01m{\u001b[39;00m\u001b[38;5;28mlist\u001b[39m(cols)\u001b[38;5;132;01m}\u001b[39;00m\u001b[38;5;124m do not exist\u001b[39m\u001b[38;5;124m\"\u001b[39m)\n\u001b[1;32m    665\u001b[0m aggregator_types \u001b[38;5;241m=\u001b[39m (\u001b[38;5;28mlist\u001b[39m, \u001b[38;5;28mtuple\u001b[39m, \u001b[38;5;28mdict\u001b[39m)\n\u001b[1;32m    667\u001b[0m \u001b[38;5;66;03m# if we have a dict of any non-scalars\u001b[39;00m\n\u001b[1;32m    668\u001b[0m \u001b[38;5;66;03m# eg. {'A' : ['mean']}, normalize all to\u001b[39;00m\n\u001b[1;32m    669\u001b[0m \u001b[38;5;66;03m# be list-likes\u001b[39;00m\n\u001b[1;32m    670\u001b[0m \u001b[38;5;66;03m# Cannot use func.values() because arg may be a Series\u001b[39;00m\n",
      "\u001b[0;31mKeyError\u001b[0m: \"Column(s) ['potentiel_solaire', 'rayonnement_solaire'] do not exist\""
     ]
    }
   ],
   "source": [
    "results_by_school = aggregate_solar_potential_by(\n",
    "    schools_establishments=schools_establishments,\n",
    "    solar_potential_of_schools_buildings=solar_potential_of_schools_buildings,\n",
    "    group_by = [\n",
    "        \"identifiant_de_l_etablissement\",\n",
    "        \"nom_etablissement\",\n",
    "        \"type_etablissement\",\n",
    "        \"libelle_nature\",\n",
    "        \"code_commune\",\n",
    "        \"nom_commune\",\n",
    "        \"code_departement\",\n",
    "        \"libelle_departement\",\n",
    "        \"code_region\",\n",
    "        \"libelle_region\",\n",
    "    ]\n",
    ")"
   ]
  },
  {
   "cell_type": "markdown",
   "id": "4095f66c6c4336a0",
   "metadata": {
    "papermill": {
     "duration": 0.003114,
     "end_time": "2025-03-05T22:30:15.374505",
     "exception": false,
     "start_time": "2025-03-05T22:30:15.371391",
     "status": "completed"
    },
    "tags": []
   },
   "source": [
    "### Par commune"
   ]
  },
  {
   "cell_type": "code",
   "execution_count": null,
   "id": "1d2b76a6b5a0a16b",
   "metadata": {
    "execution": {
     "iopub.execute_input": "2025-03-05T22:30:15.382554Z",
     "iopub.status.busy": "2025-03-05T22:30:15.382403Z",
     "iopub.status.idle": "2025-03-05T22:30:15.410778Z",
     "shell.execute_reply": "2025-03-05T22:30:15.410423Z"
    },
    "papermill": {
     "duration": 0.03393,
     "end_time": "2025-03-05T22:30:15.411777",
     "exception": false,
     "start_time": "2025-03-05T22:30:15.377847",
     "status": "completed"
    },
    "tags": []
   },
   "outputs": [],
   "source": [
    "results_by_commune = aggregate_solar_potential_by(\n",
    "    schools_establishments=schools_establishments,\n",
    "    solar_potential_of_schools_buildings=solar_potential_of_schools_buildings,\n",
    "    group_by = [\n",
    "        \"code_commune\",\n",
    "        \"nom_commune\",\n",
    "        \"code_departement\",\n",
    "        \"libelle_departement\",\n",
    "        \"code_region\",\n",
    "        \"libelle_region\",\n",
    "    ]\n",
    ")\n",
    "# TODO : la geometrie de la commune est fausse"
   ]
  },
  {
   "cell_type": "markdown",
   "id": "b1979de1a83e56b",
   "metadata": {
    "papermill": {
     "duration": 0.003496,
     "end_time": "2025-03-05T22:30:15.418874",
     "exception": false,
     "start_time": "2025-03-05T22:30:15.415378",
     "status": "completed"
    },
    "tags": []
   },
   "source": [
    "### Par département"
   ]
  },
  {
   "cell_type": "code",
   "execution_count": null,
   "id": "aa0632566b289415",
   "metadata": {
    "execution": {
     "iopub.execute_input": "2025-03-05T22:30:15.426691Z",
     "iopub.status.busy": "2025-03-05T22:30:15.426496Z",
     "iopub.status.idle": "2025-03-05T22:30:15.453312Z",
     "shell.execute_reply": "2025-03-05T22:30:15.452930Z"
    },
    "papermill": {
     "duration": 0.031937,
     "end_time": "2025-03-05T22:30:15.454446",
     "exception": false,
     "start_time": "2025-03-05T22:30:15.422509",
     "status": "completed"
    },
    "tags": []
   },
   "outputs": [],
   "source": [
    "results_by_departement = aggregate_solar_potential_by(\n",
    "    schools_establishments=schools_establishments,\n",
    "    solar_potential_of_schools_buildings=solar_potential_of_schools_buildings,\n",
    "    group_by = [\n",
    "        \"code_departement\",\n",
    "        \"libelle_departement\",\n",
    "        \"code_region\",\n",
    "        \"libelle_region\",\n",
    "    ]\n",
    ")\n",
    "# TODO : la geometrie du departement est fausse"
   ]
  },
  {
   "cell_type": "markdown",
   "id": "35202e1b07211fb1",
   "metadata": {
    "papermill": {
     "duration": 0.004895,
     "end_time": "2025-03-05T22:30:15.463174",
     "exception": false,
     "start_time": "2025-03-05T22:30:15.458279",
     "status": "completed"
    },
    "tags": []
   },
   "source": [
    "### Par région"
   ]
  },
  {
   "cell_type": "code",
   "execution_count": null,
   "id": "8cf55b4e6ce04838",
   "metadata": {
    "execution": {
     "iopub.execute_input": "2025-03-05T22:30:15.471092Z",
     "iopub.status.busy": "2025-03-05T22:30:15.470941Z",
     "iopub.status.idle": "2025-03-05T22:30:15.481355Z",
     "shell.execute_reply": "2025-03-05T22:30:15.480926Z"
    },
    "papermill": {
     "duration": 0.016125,
     "end_time": "2025-03-05T22:30:15.482707",
     "exception": false,
     "start_time": "2025-03-05T22:30:15.466582",
     "status": "completed"
    },
    "tags": []
   },
   "outputs": [],
   "source": [
    "# TODO : demande de se connecter au bucket avec les resultats existants pour aggreger \n",
    "# TODO : ou de faire le calcul pour tous les departements d une region"
   ]
  },
  {
   "cell_type": "markdown",
   "id": "229708fb93570bb0",
   "metadata": {
    "papermill": {
     "duration": 0.003721,
     "end_time": "2025-03-05T22:30:15.490505",
     "exception": false,
     "start_time": "2025-03-05T22:30:15.486784",
     "status": "completed"
    },
    "tags": []
   },
   "source": [
    "# Sauvegarde des fichiers"
   ]
  },
  {
   "cell_type": "code",
   "execution_count": null,
   "id": "f071523c837a9df5",
   "metadata": {
    "execution": {
     "iopub.execute_input": "2025-03-05T22:30:15.499417Z",
     "iopub.status.busy": "2025-03-05T22:30:15.499083Z",
     "iopub.status.idle": "2025-03-05T22:30:15.547931Z",
     "shell.execute_reply": "2025-03-05T22:30:15.547630Z"
    },
    "papermill": {
     "duration": 0.055043,
     "end_time": "2025-03-05T22:30:15.549130",
     "exception": false,
     "start_time": "2025-03-05T22:30:15.494087",
     "status": "completed"
    },
    "tags": []
   },
   "outputs": [],
   "source": [
    "output_folder = ALGORITHME_FOLDER.parent / \"results\" / f\"D{code_departement}\"\n",
    "output_folder.mkdir(exist_ok=True, parents=True)\n",
    "\n",
    "# TODO : a voir cote front sil faut changer le format de mise a disposition\n",
    "results_by_school.to_file(output_folder / f\"D{code_departement}_ecoles.geojson\", driver=\"GeoJSON\")\n",
    "results_by_commune.to_file(output_folder / f\"D{code_departement}_communes.geojson\", driver=\"GeoJSON\")\n",
    "results_by_departement.to_file(output_folder / f\"D{code_departement}_departement.geojson\", driver=\"GeoJSON\")"
   ]
  }
 ],
 "metadata": {
  "kernelspec": {
   "display_name": ".venv",
   "language": "python",
   "name": "python3"
  },
  "language_info": {
   "codemirror_mode": {
    "name": "ipython",
    "version": 3
   },
   "file_extension": ".py",
   "mimetype": "text/x-python",
   "name": "python",
   "nbconvert_exporter": "python",
   "pygments_lexer": "ipython3",
   "version": "3.13.2"
  },
  "papermill": {
   "default_parameters": {},
   "duration": 97.879398,
   "end_time": "2025-03-05T22:30:16.275399",
   "environment_variables": {},
   "exception": null,
   "input_path": "/Users/ASalles/dataforgood/13_potentiel_solaire/algorithme/notebooks/pipeline_algorithme.ipynb",
   "output_path": "/Users/ASalles/dataforgood/13_potentiel_solaire/algorithme/notebooks/exports/093_pipeline_algorithme.ipynb",
   "parameters": {
    "code_departement": "093",
    "logs_level": "WARNING"
   },
   "start_time": "2025-03-05T22:28:38.396001",
   "version": "2.6.0"
  }
 },
 "nbformat": 4,
 "nbformat_minor": 5
}
