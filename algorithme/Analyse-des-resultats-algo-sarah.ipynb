{
 "cells": [
  {
   "cell_type": "code",
   "execution_count": 2,
   "id": "e965aa4b-b2c6-49cd-b213-a5433c671446",
   "metadata": {},
   "outputs": [],
   "source": [
    "import pandas as pd\n",
    "import geopandas as gpd\n",
    "import numpy as np"
   ]
  },
  {
   "cell_type": "code",
   "execution_count": null,
   "id": "6e776e1b-b859-4bb9-b39a-b569942cf783",
   "metadata": {},
   "outputs": [],
   "source": [
    "# What data do we need to analyse ? Is there duplicates in school buildings ?\n",
    "# Where is it ?\n",
    "# Up to date\n",
    "# Create another preprocessing for this\n",
    "# Second issue: pousser la comparaison entre les données IDF et nos calculs sur la partie bâtiments classés & potentiel solaire\n",
    "# What does it mean ?"
   ]
  }
 ],
 "metadata": {
  "kernelspec": {
   "display_name": "Python 3 (ipykernel)",
   "language": "python",
   "name": "python3"
  },
  "language_info": {
   "codemirror_mode": {
    "name": "ipython",
    "version": 3
   },
   "file_extension": ".py",
   "mimetype": "text/x-python",
   "name": "python",
   "nbconvert_exporter": "python",
   "pygments_lexer": "ipython3",
   "version": "3.11.7"
  }
 },
 "nbformat": 4,
 "nbformat_minor": 5
}
