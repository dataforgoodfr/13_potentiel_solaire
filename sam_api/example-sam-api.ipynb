{
 "cells": [
  {
   "cell_type": "code",
   "execution_count": 2,
   "metadata": {},
   "outputs": [
    {
     "name": "stdout",
     "output_type": "stream",
     "text": [
      "Error: 500\n",
      "Internal Server Error\n"
     ]
    }
   ],
   "source": [
    "import geopandas as gpd\n",
    "import requests\n",
    "import json\n",
    "from shapely.geometry import Polygon\n",
    "\n",
    "# Example GeoDataFrame of school roofs\n",
    "data = {\n",
    "    'name': ['School A', 'School B'],\n",
    "    'coordinates': [\n",
    "        [[40.7128, -74.0060], [40.7129, -74.0061], [40.7129, -74.0059], [40.7128, -74.0058]],  # Polygon for School A\n",
    "        [[34.0522, -118.2437], [34.0523, -118.2438], [34.0523, -118.2436], [34.0522, -118.2435]]  # Polygon for School B\n",
    "    ],\n",
    "    'elevation': [10, 20]  # Elevation for each roof\n",
    "}\n",
    "\n",
    "# Create a GeoDataFrame\n",
    "roof_df = gpd.GeoDataFrame(data, geometry=[Polygon(coords) for coords in data['coordinates']], crs=\"EPSG:4326\")\n",
    "\n",
    "# Function to convert the GeoDataFrame to the format expected by the FastAPI endpoint\n",
    "def geodataframe_to_json(df):\n",
    "    data_list = []\n",
    "    for _, row in df.iterrows():\n",
    "        data_list.append({\n",
    "            \"name\": row['name'],\n",
    "            \"coordinates\": [[p[1], p[0]] for p in row['geometry'].exterior.coords],  # Convert to [longitude, latitude]\n",
    "            \"elevation\": row['elevation']\n",
    "        })\n",
    "    return data_list\n",
    "\n",
    "# Convert the GeoDataFrame to a list of dictionaries (JSON format)\n",
    "locations_data = geodataframe_to_json(roof_df)\n",
    "\n",
    "# Prepare the data to match the API's expected format\n",
    "request_data = {\"roofs\": locations_data}\n",
    "\n",
    "# The URL of the FastAPI endpoint\n",
    "url = \"http://127.0.0.1:8000/calculate_solar_potential_batch/\"\n",
    "\n",
    "# Send the POST request to the API\n",
    "response = requests.post(url, json=request_data)\n",
    "\n",
    "# Check the response\n",
    "if response.status_code == 200:\n",
    "    print(\"Response from API:\")\n",
    "    print(json.dumps(response.json(), indent=2))\n",
    "else:\n",
    "    print(f\"Error: {response.status_code}\")\n",
    "    print(response.text)\n"
   ]
  },
  {
   "cell_type": "code",
   "execution_count": null,
   "metadata": {},
   "outputs": [],
   "source": []
  }
 ],
 "metadata": {
  "kernelspec": {
   "display_name": "base",
   "language": "python",
   "name": "python3"
  },
  "language_info": {
   "codemirror_mode": {
    "name": "ipython",
    "version": 3
   },
   "file_extension": ".py",
   "mimetype": "text/x-python",
   "name": "python",
   "nbconvert_exporter": "python",
   "pygments_lexer": "ipython3",
   "version": "3.11.7"
  }
 },
 "nbformat": 4,
 "nbformat_minor": 2
}
